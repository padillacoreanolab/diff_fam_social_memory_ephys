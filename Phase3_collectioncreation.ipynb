{
 "cells": [
  {
   "cell_type": "code",
   "execution_count": 2,
   "metadata": {},
   "outputs": [
    {
     "name": "stderr",
     "output_type": "stream",
     "text": [
      "c:\\Users\\megha\\anaconda3\\envs\\ephys_analysis\\lib\\site-packages\\pandas\\core\\arrays\\masked.py:60: UserWarning: Pandas requires version '1.3.6' or newer of 'bottleneck' (version '1.3.5' currently installed).\n",
      "  from pandas.core import (\n"
     ]
    }
   ],
   "source": [
    "import pickle\n",
    "import boris_extraction as boris\n",
    "import multirecording_spikeanalysis as spike\n",
    "import pandas as pd\n",
    "import numpy as np\n",
    "import matplotlib.pyplot as plt\n",
    "import math\n",
    "from scipy.stats import sem\n",
    "from itertools import combinations\n",
    "def hex_2_rgb(hex_color): # Orange color\n",
    "    rgb_color = tuple(int(hex_color[i:i+2], 16) / 255.0 for i in (1, 3, 5))\n",
    "    return rgb_color\n",
    "\n",
    "def pickle_this(thing_to_pickle, file_name):\n",
    "    \"\"\"\n",
    "    Pickles things\n",
    "    Args (2):   \n",
    "        thing_to_pickle: anything you want to pickle\n",
    "        file_name: str, filename that ends with .pkl \n",
    "    Returns:\n",
    "        none\n",
    "    \"\"\"\n",
    "    with open(file_name,'wb') as file:\n",
    "        pickle.dump(thing_to_pickle, file)\n",
    "\n",
    "def unpickle_this(pickle_file):\n",
    "    \"\"\"\n",
    "    Unpickles things\n",
    "    Args (1):   \n",
    "        file_name: str, pickle filename that already exists and ends with .pkl\n",
    "    Returns:\n",
    "        pickled item\n",
    "    \"\"\"\n",
    "    with open(pickle_file, 'rb') as file:\n",
    "        return(pickle.load(file))"
   ]
  },
  {
   "cell_type": "markdown",
   "metadata": {},
   "source": [
    "# Behavior Dict and Collection Creation"
   ]
  },
  {
   "cell_type": "code",
   "execution_count": 3,
   "metadata": {},
   "outputs": [
    {
     "name": "stdout",
     "output_type": "stream",
     "text": [
      "<class 'numpy.ndarray'>\n",
      "20230809_103121_1_merged.rec\n",
      "<class 'numpy.ndarray'>\n",
      "20230809_143303_1_merged.rec\n",
      "<class 'numpy.ndarray'>\n",
      "20230810_101534_1_merged.rec\n",
      "<class 'numpy.ndarray'>\n",
      "20230810_120856_1_merged.rec\n",
      "<class 'numpy.ndarray'>\n",
      "20230810_140909_1_merged.rec\n",
      "<class 'numpy.ndarray'>\n",
      "20230811_101635_1_merged.rec\n",
      "<class 'numpy.ndarray'>\n",
      "Unit 74 is unsorted & has 7 spikes\n",
      "Unit 74 will be deleted\n",
      "20230811_120331_merged.rec\n",
      "<class 'numpy.ndarray'>\n",
      "20230811_154219_1_merged.rec\n",
      "Please assign event dictionaries to each recording\n",
      "as recording.event_dict\n",
      "event_dict = {event name(str): np.array[[start(ms), stop(ms)]...]\n",
      "Please assign subjects to each recording as recording.subject\n"
     ]
    }
   ],
   "source": [
    "phase3_collection = spike.EphysRecordingCollection(\"D:\\\\social_ephys_pilot2_cum\\\\proc\\\\Phase 3\")\n",
    "\n"
   ]
  },
  {
   "cell_type": "code",
   "execution_count": 4,
   "metadata": {},
   "outputs": [],
   "source": [
    "p3d1_1_1 = phase3_collection.get_by_name('20230809_103121_1_merged.rec')\n",
    "#p3d1_1_2 was only half as long so we will not do ephys data analysis on it \n",
    "p3d1_1_4 = phase3_collection.get_by_name('20230809_143303_1_merged.rec')\n",
    "\n",
    "p3d2_1_1 = phase3_collection.get_by_name('20230810_101534_1_merged.rec')\n",
    "p3d2_1_2 = phase3_collection.get_by_name('20230810_120856_1_merged.rec')\n",
    "p3d2_1_4 = phase3_collection.get_by_name('20230810_140909_1_merged.rec')\n",
    "\n",
    "p3d3_1_1 = phase3_collection.get_by_name('20230811_101635_1_merged.rec')\n",
    "p3d3_1_2 = phase3_collection.get_by_name('20230811_120331_merged.rec')\n",
    "p3d3_1_4 = phase3_collection.get_by_name('20230811_154219_1_merged.rec')\n",
    "\n",
    "\n",
    "p3d1_1_1.subject = '1.1'\n",
    "p3d1_1_4.subject = '1.4'\n",
    "p3d2_1_1.subject = '1.1'\n",
    "p3d2_1_2.subject = '1.2'\n",
    "p3d2_1_4.subject = '1.4'\n",
    "p3d3_1_1.subject = '1.1'\n",
    "p3d3_1_2.subject = '1.2'\n",
    "p3d3_1_4.subject = '1.4'\n",
    "\n",
    "min_iti = 1"
   ]
  },
  {
   "cell_type": "markdown",
   "metadata": {},
   "source": [
    "## Read in boris excels"
   ]
  },
  {
   "cell_type": "code",
   "execution_count": 5,
   "metadata": {},
   "outputs": [],
   "source": [
    "#Day 1\n",
    "#Subject 1.1 \n",
    "p3d1_1_1_df = pd.read_excel(\"D:\\\\social_ephys_pilot2_cum\\\\proc\\\\Phase 3\\\\20230809_103121_1_merged.rec\\\\20230809_103121_1.1_1t1bL_p3d1.xlsx\")\n",
    "p3d1_1_1_df = p3d1_1_1_df[['Total duration', 'Subject','Behavior','Start (s)','Stop (s)']]\n",
    "\n",
    "#Subject 1.2 - FOR BEHAVIORAL ANAYLSIS ONLY \n",
    "p3d1_1_2_1_df = pd.read_excel(\"D:\\\\social_ephys_pilot2_cum\\\\proc\\\\fucked\\\\20230809_120416_1_merged.rec\\\\20230809 120416 1.1.xlsx\")\n",
    "p3d1_1_2_2_df = pd.read_excel(\"D:\\\\social_ephys_pilot2_cum\\\\proc\\\\fucked\\\\20230809_120416_1_merged.rec\\\\20230809 120416 1.2.xlsx\")\n",
    "\n",
    "p3d1_1_2_1_df = p3d1_1_2_1_df[['Total duration', 'Subject','Behavior','Start (s)','Stop (s)']]\n",
    "\n",
    "#Subject 1.4\n",
    "p3d1_1_4_df = pd.read_excel(\"D:\\\\social_ephys_pilot2_cum\\\\proc\\\\Phase 3\\\\20230809_143303_1_merged.rec\\\\20230809_143303_1.4_3t3bL_p3d1.xlsx\")\n",
    "p3d1_1_4_df = p3d1_1_4_df[['Total duration', 'Subject','Behavior','Start (s)','Stop (s)']]\n",
    "\n",
    "#Day 2\n",
    "\n",
    "#Subject 1.1\n",
    "p3d2_1_1_df = pd.read_excel(\"D:\\\\social_ephys_pilot2_cum\\\\proc\\\\Phase 3\\\\20230810_101534_1_merged.rec\\\\20230810_101534_1.1_p3d2.xlsx\")\n",
    "p3d2_1_1_df = p3d2_1_1_df[['Total duration', 'Subject','Behavior','Start (s)','Stop (s)']]\n",
    "\n",
    "#Subject 1.2\n",
    "p3d2_1_2_df = pd.read_excel(\"D:\\\\social_ephys_pilot2_cum\\\\proc\\\\Phase 3\\\\20230810_120856_1_merged.rec\\\\20230810_120856_1.2_p3d2.xlsx\")\n",
    "p3d2_1_2_df = p3d2_1_2_df[['Total duration', 'Subject','Behavior','Start (s)','Stop (s)']]\n",
    "\n",
    "#Subject 1.4\n",
    "p3d2_1_4_df = pd.read_excel(\"D:\\\\social_ephys_pilot2_cum\\\\proc\\\\Phase 3\\\\20230810_140909_1_merged.rec\\\\20230810_140909_1.4_p3d2.xlsx\")\n",
    "p3d2_1_4_df = p3d2_1_4_df[['Total duration', 'Subject','Behavior','Start (s)','Stop (s)']]\n",
    "\n",
    "#Day 3\n",
    "\n",
    "#Subject 1.1\n",
    "p3d3_1_1_df = pd.read_excel(\"D:\\\\social_ephys_pilot2_cum\\\\proc\\\\Phase 3\\\\20230811_101635_1_merged.rec\\\\1.1_p3d3.xlsx\")\n",
    "p3d3_1_1_df = p3d3_1_1_df[['Total duration', 'Subject','Behavior','Start (s)','Stop (s)']]\n",
    "\n",
    "#Subject 1.2 - has two excels, camera crashed\n",
    "p3d3_1_2_df1 = pd.read_excel(\"D:\\\\social_ephys_pilot2_cum\\\\proc\\\\Phase 3\\\\20230811_120331_merged.rec\\\\20230811_120331_1.2_p3d3_1.xlsx\")\n",
    "p3d3_1_2_df1 = p3d3_1_2_df1[['Total duration', 'Subject','Behavior','Start (s)','Stop (s)']]\n",
    "\n",
    "p3d3_1_2_df2 = pd.read_excel(\"D:\\\\social_ephys_pilot2_cum\\proc\\Phase 3\\\\20230811_120331_merged.rec\\\\20230811_120331_1.2_p3d3_2.xlsx\")\n",
    "p3d3_1_2_df2 = p3d3_1_2_df2[['Total duration', 'Subject','Behavior','Start (s)','Stop (s)']]\n",
    "\n",
    "#Subject 1.4\n",
    "p3d3_1_4_df = pd.read_excel(\"D:\\\\social_ephys_pilot2_cum\\\\proc\\\\Phase 3\\\\20230811_154219_1_merged.rec\\\\20230811_154219_1.4_3t3bL_p3d3.xlsx\")\n",
    "p3d3_1_4_df = p3d3_1_4_df[['Total duration', 'Subject','Behavior','Start (s)','Stop (s)']]\n"
   ]
  },
  {
   "cell_type": "markdown",
   "metadata": {},
   "source": [
    "## Social agent arrays"
   ]
  },
  {
   "cell_type": "markdown",
   "metadata": {},
   "source": [
    "### Day 1"
   ]
  },
  {
   "cell_type": "code",
   "execution_count": 6,
   "metadata": {},
   "outputs": [],
   "source": [
    "# Subject 1.1\n",
    "last10min_p3d1_1_1_df = p3d1_1_1_df[p3d1_1_1_df['Start (s)'] > 1939]\n",
    "first10min_p3d1_1_1_df = p3d1_1_1_df[p3d1_1_1_df['Start (s)'] < 601]\n",
    "familiarization_p3d1_1_1_df = p3d1_1_1_df[(p3d1_1_1_df['Start (s)'] < 1258) & (p3d1_1_1_df['Start (s)'] > 675)]\n",
    "ITI_p3d1_1_1_df = p3d1_1_1_df[(p3d1_1_1_df['Start (s)'] > 1271) & (p3d1_1_1_df['Start (s)'] < 1860)]\n",
    "\n",
    "novel_p3d1_1_1_array = boris.get_behavior_bouts(last10min_p3d1_1_1_df, [1.1], ['sniff cup 1', 'chew cup 1'], min_iti, min_bout = 0.5)\n",
    "fam_p3d1_1_1_array = boris.get_behavior_bouts(last10min_p3d1_1_1_df, [1.1], ['sniff cup 2', 'chew cup 2'], min_iti, min_bout = 0.5)\n",
    "cagemate_p3d1_1_1_array = boris.get_behavior_bouts(last10min_p3d1_1_1_df, [1.1], ['sniff cup 3', 'chew cup 3'], min_iti, min_bout = 0.5)\n",
    "empty_p3d1_1_1_array = boris.get_behavior_bouts(last10min_p3d1_1_1_df, [1.1], ['sniff cup 4', 'chew cup 4'], min_iti, min_bout = 0.5)\n",
    "\n",
    "#cup3_p3d1_1_1_array = boris.get_behavior_bouts(first10min_p3d1_1_1_df, [1.1], ['sniff cup 3', 'chew cup 3'], min_iti, min_bout = 0.5)\n",
    "#cup4_p3d1_1_1_array = boris.get_behavior_bouts(first10min_p3d1_1_1_df, [1.1], ['sniff cup 4', 'chew cup 4'], min_iti, min_bout = 0.5)\n",
    "cup1_p3d1_1_1_array = boris.get_behavior_bouts(first10min_p3d1_1_1_df, [1.1], ['sniff cup 1', 'chew cup 1', 'sniff cup 2', 'chew cup 2','sniff cup 3', 'chew cup 3','sniff cup 4', 'chew cup 4'], min_iti, min_bout = 0.5)\n",
    "#cup2_p3d1_1_1_array = boris.get_behavior_bouts(first10min_p3d1_1_1_df, [1.1], ['sniff cup 2', 'chew cup 2'], min_iti, min_bout = 0.5)\n",
    "\n",
    "famempty_p3d1_1_1_array = boris.get_behavior_bouts(familiarization_p3d1_1_1_df, [1.1], ['sniff cup 3', 'chew cup 3','sniff cup 1', 'chew cup 1','sniff cup 4', 'chew cup 4'], min_iti, min_bout = 0.5)\n",
    "famfam_p3d1_1_1_array = boris.get_behavior_bouts(familiarization_p3d1_1_1_df, [1.1], ['sniff cup 2', 'chew cup 2'], min_iti, min_bout = 0.5)\n",
    "\n",
    "ITIcup3_p3d1_1_1_array = boris.get_behavior_bouts(ITI_p3d1_1_1_df, [1.1],['sniff cup 3', 'chew cup 3','sniff cup 1', 'chew cup 1','sniff cup 4', 'chew cup 4'], min_iti, min_bout = 0.5)\n",
    "ITIfamcup_p3d1_1_1_array = boris.get_behavior_bouts(ITI_p3d1_1_1_df, [1.1], ['sniff cup 2', 'chew cup 2'], min_iti, min_bout = 0.5)"
   ]
  },
  {
   "cell_type": "code",
   "execution_count": 7,
   "metadata": {},
   "outputs": [],
   "source": [
    "# Subject 1.2\n",
    "#FOR BEHAVIOR ANALYSIS ONLY\n",
    "last10min_p3d1_1_2_df = p3d1_1_2_2_df[p3d1_1_2_2_df['Start (s)'] > 1376]\n",
    "first10min_p3d1_1_2_df = p3d1_1_2_1_df\n",
    "familiarization_p3d1_1_2_df = p3d1_1_2_2_df[(p3d1_1_2_2_df['Start (s)'] < 646) & (p3d1_1_2_2_df['Start (s)'] > 44)]\n",
    "ITI_p3d1_1_2_df = p3d1_1_2_2_df[(p3d1_1_2_2_df['Start (s)'] > 666) & (p3d1_1_2_2_df['Start (s)'] < 1263)]\n",
    "\n",
    "novel_p3d1_1_2_array = boris.get_behavior_bouts(last10min_p3d1_1_2_df, [1.2], ['sniff cup 2', 'chew cup 2'], min_iti, min_bout = 0.5)\n",
    "fam_p3d1_1_2_array = boris.get_behavior_bouts(last10min_p3d1_1_2_df, [1.2], ['sniff cup 3', 'chew cup 3'], min_iti, min_bout = 0.5)\n",
    "cagemate_p3d1_1_2_array = boris.get_behavior_bouts(last10min_p3d1_1_2_df, [1.2], ['sniff cup 4', 'chew cup 4'], min_iti, min_bout = 0.5)\n",
    "empty_p3d1_1_2_array = boris.get_behavior_bouts(last10min_p3d1_1_2_df, [1.2], ['sniff cup 1', 'chew cup 1'], min_iti, min_bout = 0.5)\n",
    "\n",
    "#cup3_p3d1_1_2_array = boris.get_behavior_bouts(first10min_p3d1_1_2_df, [1.2], ['sniff cup 3', 'chew cup 3'], min_iti, min_bout = 0.5)\n",
    "#cup4_p3d1_1_2_array = boris.get_behavior_bouts(first10min_p3d1_1_2_df, [1.2], ['sniff cup 4', 'chew cup 4'], min_iti, min_bout = 0.5)\n",
    "cup1_p3d1_1_2_array = boris.get_behavior_bouts(first10min_p3d1_1_2_df, [1.2], ['sniff cup 1', 'chew cup 1', 'sniff cup 2', 'chew cup 2','sniff cup 3', 'chew cup 3','sniff cup 4', 'chew cup 4'], min_iti, min_bout = 0.5)\n",
    "#cup2_p3d1_1_2_array = boris.get_behavior_bouts(first10min_p3d1_1_2_df, [1.2], ['sniff cup 2', 'chew cup 2'], min_iti, min_bout = 0.5)\n",
    "\n",
    "famcup3_p3d1_1_2_array = boris.get_behavior_bouts(familiarization_p3d1_1_2_df, [1.2], ['sniff cup 4', 'chew cup 4', 'sniff cup 1', 'chew cup 1','sniff cup 2', 'chew cup 2'], min_iti, min_bout = 0.5)\n",
    "famfam_p3d1_1_2_array = boris.get_behavior_bouts(familiarization_p3d1_1_2_df, [1.2], ['sniff cup 3', 'chew cup 3'], min_iti, min_bout = 0.5)\n",
    "\n",
    "ITIcup3_p3d1_1_2_array = boris.get_behavior_bouts(ITI_p3d1_1_2_df, [1.2], ['sniff cup 4', 'chew cup 4', 'sniff cup 1', 'chew cup 1','sniff cup 2', 'chew cup 2'], min_iti, min_bout = 0.5)\n",
    "ITIfamcup_p3d1_1_2_array = boris.get_behavior_bouts(ITI_p3d1_1_2_df, [1.2], ['sniff cup 3', 'chew cup 3'], min_iti, min_bout = 0.5)"
   ]
  },
  {
   "cell_type": "code",
   "execution_count": 8,
   "metadata": {},
   "outputs": [],
   "source": [
    "#Subject 1.4\n",
    "last10min_p3d1_1_4_df = p3d1_1_4_df[p3d1_1_4_df['Start (s)'] > 1920]\n",
    "first10min_p3d1_1_4_df = p3d1_1_4_df[p3d1_1_4_df['Start (s)'] < 602]\n",
    "familiarization_p3d1_1_4_df = p3d1_1_4_df[(p3d1_1_4_df['Start (s)'] < 1234) & (p3d1_1_4_df['Start (s)'] > 629)]\n",
    "ITI_p3d1_1_4_df = p3d1_1_4_df[(p3d1_1_4_df['Start (s)'] > 1260) & (p3d1_1_4_df['Start (s)'] < 1856)]\n",
    "novel_p3d1_1_4_array = boris.get_behavior_bouts(last10min_p3d1_1_4_df, [1.4], ['sniff cup 3', 'chew cup 3'], min_iti, min_bout = 0.5)\n",
    "fam_p3d1_1_4_array = boris.get_behavior_bouts(last10min_p3d1_1_4_df, [1.4], ['sniff cup 2', 'chew cup 2'], min_iti, min_bout = 0.5)\n",
    "cagemate_p3d1_1_4_array = boris.get_behavior_bouts(last10min_p3d1_1_4_df, [1.4], ['sniff cup 1', 'chew cup 1'], min_iti, min_bout = 0.5)\n",
    "empty_p3d1_1_4_array = boris.get_behavior_bouts(last10min_p3d1_1_4_df, [1.4], ['sniff cup 4', 'chew cup 4'], min_iti, min_bout = 0.5)\n",
    "#cup3_p3d1_1_4_array = boris.get_behavior_bouts(first10min_p3d1_1_4_df, [1.4], ['sniff cup 3', 'chew cup 3'], min_iti, min_bout = 0.5)\n",
    "#cup4_p3d1_1_4_array = boris.get_behavior_bouts(first10min_p3d1_1_4_df, [1.4], ['sniff cup 4', 'chew cup 4'], min_iti, min_bout = 0.5)\n",
    "cup1_p3d1_1_4_array = boris.get_behavior_bouts(first10min_p3d1_1_4_df, [1.4], ['sniff cup 1', 'chew cup 1', 'sniff cup 2', 'chew cup 2','sniff cup 3', 'chew cup 3','sniff cup 4', 'chew cup 4'], min_iti, min_bout = 0.5)\n",
    "#cup2_p3d1_1_4_array = boris.get_behavior_bouts(first10min_p3d1_1_4_df, [1.4], ['sniff cup 2', 'chew cup 2'], min_iti, min_bout = 0.5)\n",
    "famcup3_p3d1_1_4_array = boris.get_behavior_bouts(familiarization_p3d1_1_4_df, [1.4], ['sniff cup 3', 'chew cup 3','sniff cup 1', 'chew cup 1','sniff cup 4', 'chew cup 4'], min_iti, min_bout = 0.5)\n",
    "famfam_p3d1_1_4_array = boris.get_behavior_bouts(familiarization_p3d1_1_4_df, [1.4], ['sniff cup 2', 'chew cup 2'], min_iti, min_bout = 0.5)\n",
    "ITIcup3_p3d1_1_4_array = boris.get_behavior_bouts(ITI_p3d1_1_4_df, [1.4], ['sniff cup 3', 'chew cup 3','sniff cup 1', 'chew cup 1','sniff cup 4', 'chew cup 4'], min_iti, min_bout = 0.5)\n",
    "ITIfamcup_p3d1_1_4_array = boris.get_behavior_bouts(ITI_p3d1_1_4_df, [1.4], ['sniff cup 2', 'chew cup 2'], min_iti, min_bout = 0.5)"
   ]
  },
  {
   "cell_type": "markdown",
   "metadata": {},
   "source": [
    "### Day 2"
   ]
  },
  {
   "cell_type": "code",
   "execution_count": 9,
   "metadata": {},
   "outputs": [],
   "source": [
    "#Subject 1.1\n",
    "last10min_p3d2_1_1_df = p3d2_1_1_df[p3d2_1_1_df['Start (s)'] > 1926]\n",
    "first10min_p3d2_1_1_df = p3d2_1_1_df[p3d2_1_1_df['Start (s)'] < 600]\n",
    "familiarization_p3d2_1_1_df = p3d2_1_1_df[(p3d2_1_1_df['Start (s)'] < 1216) & (p3d2_1_1_df['Start (s)'] > 612)]\n",
    "ITI_p3d2_1_1_df = p3d2_1_1_df[(p3d2_1_1_df['Start (s)'] > 1222) & (p3d2_1_1_df['Start (s)'] < 1821)]\n",
    "\n",
    "novel_p3d2_1_1_array = boris.get_behavior_bouts(last10min_p3d2_1_1_df, [1.1], ['sniff cup 2', 'chew cup 2'], min_iti, min_bout = 0.5)\n",
    "fam_p3d2_1_1_array = boris.get_behavior_bouts(last10min_p3d2_1_1_df, [1.1], ['sniff cup 3', 'chew cup 3'], min_iti, min_bout = 0.5)\n",
    "cagemate_p3d2_1_1_array = boris.get_behavior_bouts(last10min_p3d2_1_1_df, [1.1], ['sniff cup 4', 'chew cup 4'], min_iti, min_bout = 0.5)\n",
    "empty_p3d2_1_1_array = boris.get_behavior_bouts(last10min_p3d2_1_1_df, [1.1], ['sniff cup 1', 'chew cup 1'], min_iti, min_bout = 0.5)\n",
    "\n",
    "#cup3_p3d2_1_1_array = boris.get_behavior_bouts(first10min_p3d2_1_1_df, [1.1], ['sniff cup 3', 'chew cup 3'], min_iti, min_bout = 0.5)\n",
    "#cup4_p3d2_1_1_array = boris.get_behavior_bouts(first10min_p3d2_1_1_df, [1.1], ['sniff cup 4', 'chew cup 4'], min_iti, min_bout = 0.5)\n",
    "cup1_p3d2_1_1_array = boris.get_behavior_bouts(first10min_p3d2_1_1_df, [1.1], ['sniff cup 1', 'chew cup 1', 'sniff cup 2', 'chew cup 2','sniff cup 3', 'chew cup 3','sniff cup 4', 'chew cup 4'], min_iti, min_bout = 0.5)\n",
    "#cup2_p3d2_1_1_array = boris.get_behavior_bouts(first10min_p3d2_1_1_df, [1.1], ['sniff cup 2', 'chew cup 2'], min_iti, min_bout = 0.5)\n",
    "\n",
    "famcup3_p3d2_1_1_array = boris.get_behavior_bouts(familiarization_p3d2_1_1_df, [1.1], ['sniff cup 4', 'chew cup 4', 'sniff cup 1', 'chew cup 1','sniff cup 2', 'chew cup 2'], min_iti, min_bout = 0.5)\n",
    "famfam_p3d2_1_1_array = boris.get_behavior_bouts(familiarization_p3d2_1_1_df, [1.1], ['sniff cup 3', 'chew cup 3'], min_iti, min_bout = 0.5)\n",
    "\n",
    "ITIcup3_p3d2_1_1_array = boris.get_behavior_bouts(ITI_p3d2_1_1_df, [1.1], ['sniff cup 4', 'chew cup 4', 'sniff cup 1', 'chew cup 1','sniff cup 2', 'chew cup 2'], min_iti, min_bout = 0.5)\n",
    "ITIfamcup_p3d2_1_1_array = boris.get_behavior_bouts(ITI_p3d2_1_1_df, [1.1], ['sniff cup 3', 'chew cup 3'], min_iti, min_bout = 0.5)"
   ]
  },
  {
   "cell_type": "code",
   "execution_count": 10,
   "metadata": {},
   "outputs": [],
   "source": [
    "#Subject 1.2\n",
    "last10min_p3d2_1_2_df = p3d2_1_2_df[p3d2_1_2_df['Start (s)'] > 2049]\n",
    "first10min_p3d2_1_2_df = p3d2_1_2_df[p3d2_1_2_df['Start (s)'] < 723]\n",
    "familiarization_p3d2_1_2_df = p3d2_1_2_df[(p3d2_1_2_df['Start (s)'] < 1351) & (p3d2_1_2_df['Start (s)'] > 734)]\n",
    "ITI_p3d2_1_2_df = p3d2_1_2_df[(p3d2_1_2_df['Start (s)'] > 1373) & (p3d2_1_2_df['Start (s)'] < 1950)]\n",
    "\n",
    "novel_p3d2_1_2_array = boris.get_behavior_bouts(last10min_p3d2_1_2_df, [1.2], ['sniff cup 3', 'chew cup 3'], min_iti, min_bout = 0.5)\n",
    "fam_p3d2_1_2_array = boris.get_behavior_bouts(last10min_p3d2_1_2_df, [1.2], ['sniff cup 4', 'chew cup 4'], min_iti, min_bout = 0.5)\n",
    "cagemate_p3d2_1_2_array = boris.get_behavior_bouts(last10min_p3d2_1_2_df, [1.2], ['sniff cup 1', 'chew cup 1'], min_iti, min_bout = 0.5)\n",
    "empty_p3d2_1_2_array = boris.get_behavior_bouts(last10min_p3d2_1_2_df, [1.2], ['sniff cup 2', 'chew cup 2'], min_iti, min_bout = 0.5)\n",
    "\n",
    "#cup3_p3d2_1_2_array = boris.get_behavior_bouts(first10min_p3d2_1_2_df, [1.2], ['sniff cup 3', 'chew cup 3'], min_iti, min_bout = 0.5)\n",
    "#cup4_p3d2_1_2_array = boris.get_behavior_bouts(first10min_p3d2_1_2_df, [1.2], ['sniff cup 4', 'chew cup 4'], min_iti, min_bout = 0.5)\n",
    "cup1_p3d2_1_2_array = boris.get_behavior_bouts(first10min_p3d2_1_2_df, [1.2], ['sniff cup 1', 'chew cup 1', 'sniff cup 2', 'chew cup 2','sniff cup 3', 'chew cup 3','sniff cup 4', 'chew cup 4'], min_iti, min_bout = 0.5)\n",
    "#cup2_p3d2_1_2_array = boris.get_behavior_bouts(first10min_p3d2_1_2_df, [1.2], ['sniff cup 2', 'chew cup 2'], min_iti, min_bout = 0.5)\n",
    "\n",
    "famcup3_p3d2_1_2_array = boris.get_behavior_bouts(familiarization_p3d2_1_2_df, [1.2], ['sniff cup 3', 'chew cup 3', 'sniff cup 1', 'chew cup 1','sniff cup 2', 'chew cup 2'], min_iti, min_bout = 0.5)\n",
    "famfam_p3d2_1_2_array = boris.get_behavior_bouts(familiarization_p3d2_1_2_df, [1.2], ['sniff cup 4', 'chew cup 4'], min_iti, min_bout = 0.5)\n",
    "\n",
    "ITIcup3_p3d2_1_2_array = boris.get_behavior_bouts(ITI_p3d2_1_2_df, [1.2], ['sniff cup 3', 'chew cup 3', 'sniff cup 1', 'chew cup 1','sniff cup 2', 'chew cup 2'], min_iti, min_bout = 0.5)\n",
    "ITIfamcup_p3d2_1_2_array = boris.get_behavior_bouts(ITI_p3d2_1_2_df, [1.2], ['sniff cup 4', 'chew cup 4'], min_iti, min_bout = 0.5)\n"
   ]
  },
  {
   "cell_type": "code",
   "execution_count": 11,
   "metadata": {},
   "outputs": [],
   "source": [
    "#Subject 1.4\n",
    "last10min_p3d2_1_4_df = p3d2_1_4_df[p3d2_1_4_df['Start (s)'] > 1912]\n",
    "first10min_p3d2_1_4_df = p3d2_1_4_df[p3d2_1_4_df['Start (s)'] < 621]\n",
    "familiarization_p3d2_1_4_df = p3d2_1_4_df[(p3d2_1_4_df['Start (s)'] < 1221) & (p3d2_1_4_df['Start (s)'] > 635)]\n",
    "ITI_p3d2_1_4_df = p3d2_1_4_df[(p3d2_1_4_df['Start (s)'] > 1234) & (p3d2_1_4_df['Start (s)'] < 1836)]\n",
    "\n",
    "novel_p3d2_1_4_array = boris.get_behavior_bouts(last10min_p3d2_1_4_df, [1.4], ['sniff cup 4', 'chew cup 4'], min_iti, min_bout = 0.5)\n",
    "fam_p3d2_1_4_array = boris.get_behavior_bouts(last10min_p3d2_1_4_df, [1.4], ['sniff cup 3', 'chew cup 3'], min_iti, min_bout = 0.5)\n",
    "cagemate_p3d2_1_4_array = boris.get_behavior_bouts(last10min_p3d2_1_4_df, [1.4], ['sniff cup 2', 'chew cup 2'], min_iti, min_bout = 0.5)\n",
    "empty_p3d2_1_4_array = boris.get_behavior_bouts(last10min_p3d2_1_4_df, [1.4], ['sniff cup 1', 'chew cup 1'], min_iti, min_bout = 0.5)\n",
    "\n",
    "#cup3_p3d2_1_4_array = boris.get_behavior_bouts(first10min_p3d2_1_4_df, [1.4], ['sniff cup 3', 'chew cup 3'], min_iti, min_bout = 0.5)\n",
    "#cup4_p3d2_1_4_array = boris.get_behavior_bouts(first10min_p3d2_1_4_df, [1.4], ['sniff cup 4', 'chew cup 4'], min_iti, min_bout = 0.5)\n",
    "cup1_p3d2_1_4_array = boris.get_behavior_bouts(first10min_p3d2_1_4_df, [1.4], ['sniff cup 1', 'chew cup 1', 'sniff cup 2', 'chew cup 2','sniff cup 3', 'chew cup 3','sniff cup 4', 'chew cup 4'], min_iti, min_bout = 0.5)\n",
    "#cup2_p3d2_1_4_array = boris.get_behavior_bouts(first10min_p3d2_1_4_df, [1.4], ['sniff cup 2', 'chew cup 2'], min_iti, min_bout = 0.5)\n",
    "\n",
    "famcup3_p3d2_1_4_array = boris.get_behavior_bouts(familiarization_p3d2_1_4_df, [1.4], ['sniff cup 4', 'chew cup 4', 'sniff cup 1', 'chew cup 1','sniff cup 2', 'chew cup 2'], min_iti, min_bout = 0.5)\n",
    "famfam_p3d2_1_4_array = boris.get_behavior_bouts(familiarization_p3d2_1_4_df, [1.4], ['sniff cup 3', 'chew cup 3'], min_iti, min_bout = 0.5)\n",
    "\n",
    "ITIcup3_p3d2_1_4_array = boris.get_behavior_bouts(ITI_p3d2_1_4_df, [1.4], ['sniff cup 4', 'chew cup 4', 'sniff cup 1', 'chew cup 1','sniff cup 2', 'chew cup 2'], min_iti, min_bout = 0.5)\n",
    "ITIfamcup_p3d2_1_4_array = boris.get_behavior_bouts(ITI_p3d2_1_4_df, [1.4], ['sniff cup 3', 'chew cup 3'], min_iti, min_bout = 0.5)"
   ]
  },
  {
   "cell_type": "markdown",
   "metadata": {},
   "source": [
    "### Day 3"
   ]
  },
  {
   "cell_type": "code",
   "execution_count": 12,
   "metadata": {},
   "outputs": [],
   "source": [
    "#Subject 1.1\n",
    "last10min_1_1_df = p3d3_1_1_df[p3d3_1_1_df['Start (s)'] > 1903]\n",
    "first10min_1_1_df = p3d3_1_1_df[p3d3_1_1_df['Start (s)'] < 601]\n",
    "familiarization_1_1_df = p3d3_1_1_df[(p3d3_1_1_df['Start (s)'] < 1208) & (p3d3_1_1_df['Start (s)'] > 608)]\n",
    "ITI_1_1_df = p3d3_1_1_df[(p3d3_1_1_df['Start (s)'] > 1221) & (p3d3_1_1_df['Start (s)'] < 1809)]\n",
    "novel_1_1_array = boris.get_behavior_bouts(last10min_1_1_df, [1.1], ['sniff cup 3', 'chew cup 3'], min_iti, min_bout = 0.5)\n",
    "fam_1_1_array = boris.get_behavior_bouts(last10min_1_1_df, [1.1], ['sniff cup 4', 'chew cup 4'], min_iti, min_bout = 0.5)\n",
    "cagemate_1_1_array = boris.get_behavior_bouts(last10min_1_1_df, [1.1], ['sniff cup 1', 'chew cup 1'], min_iti, min_bout = 0.5)\n",
    "empty_1_1_array = boris.get_behavior_bouts(last10min_1_1_df, [1.1], ['sniff cup 2', 'chew cup 2'], min_iti, min_bout = 0.5)\n",
    "#cup3_1_1_array = boris.get_behavior_bouts(first10min_1_1_df, [1.1], ['sniff cup 3', 'chew cup 3'], min_iti, min_bout = 0.5)\n",
    "#cup4_1_1_array = boris.get_behavior_bouts(first10min_1_1_df, [1.1], ['sniff cup 4', 'chew cup 4'], min_iti, min_bout = 0.5)\n",
    "cup1_1_1_array = boris.get_behavior_bouts(first10min_1_1_df, [1.1], ['sniff cup 1', 'chew cup 1', 'sniff cup 2', 'chew cup 2','sniff cup 3', 'chew cup 3','sniff cup 4', 'chew cup 4'], min_iti, min_bout = 0.5)\n",
    "#cup2_1_1_array = boris.get_behavior_bouts(first10min_1_1_df, [1.1], ['sniff cup 2', 'chew cup 2'], min_iti, min_bout = 0.5)\n",
    "famcup3_1_1_array = boris.get_behavior_bouts(familiarization_1_1_df, [1.1], ['sniff cup 3', 'chew cup 3', 'sniff cup 1', 'chew cup 1','sniff cup 2', 'chew cup 2'], min_iti, min_bout = 0.5)\n",
    "famfam_1_1_array = boris.get_behavior_bouts(familiarization_1_1_df, [1.1], ['sniff cup 4', 'chew cup 4'], min_iti, min_bout = 0.5)\n",
    "ITIcup3_1_1_array = boris.get_behavior_bouts(ITI_1_1_df, [1.1], ['sniff cup 3', 'chew cup 3', 'sniff cup 1', 'chew cup 1','sniff cup 2', 'chew cup 2'], min_iti, min_bout = 0.5)\n",
    "ITIfamcup_1_1_array = boris.get_behavior_bouts(ITI_1_1_df, [1.1], ['sniff cup 4', 'chew cup 4'], min_iti, min_bout = 0.5)"
   ]
  },
  {
   "cell_type": "code",
   "execution_count": 13,
   "metadata": {},
   "outputs": [],
   "source": [
    "#Subject 1.2 \n",
    "# 2572320.85 ms is the length of the recording of p3d3_1_2 \n",
    "# media duration of second vid is 862200 ms\n",
    "# diff in ms: 1710120.85\n",
    "#this is the constant i add to every value in the array\n",
    "\n",
    "first10min_1_2_df = p3d3_1_2_df1[p3d3_1_2_df1['Start (s)'] < 611]\n",
    "familiarization_1_2_df = p3d3_1_2_df1[(p3d3_1_2_df1['Start (s)'] < 1230) & (p3d3_1_2_df1['Start (s)'] > 628)]\n",
    "ITI_1_2_df1 = p3d3_1_2_df1[(p3d3_1_2_df1['Start (s)'] > 1244)]\n",
    "\n",
    "#cup3_p3d3_1_2_array = boris.get_behavior_bouts(first10min_1_2_df, [1.2], ['sniff cup 3', 'chew cup 3'], min_iti, min_bout = 0.5)\n",
    "#cup4_p3d3_1_2_array = boris.get_behavior_bouts(first10min_1_2_df, [1.2], ['sniff cup 4', 'chew cup 4'], min_iti, min_bout = 0.5)\n",
    "cup1_p3d3_1_2_array = boris.get_behavior_bouts(first10min_1_2_df, [1.2], ['sniff cup 1', 'chew cup 1'], min_iti, min_bout = 0.5)\n",
    "#cup2_p3d3_1_2_array = boris.get_behavior_bouts(first10min_1_2_df, [1.2], ['sniff cup 2', 'chew cup 2'], min_iti, min_bout = 0.5)\n",
    "\n",
    "famcup3_p3d3_1_2_array = boris.get_behavior_bouts(familiarization_1_2_df, [1.2], ['sniff cup 3', 'chew cup 3', 'sniff cup 4', 'chew cup 4','sniff cup 2', 'chew cup 2'], min_iti, min_bout = 0.5)\n",
    "famfam_p3d3_1_2_array = boris.get_behavior_bouts(familiarization_1_2_df, [1.2], ['sniff cup 1', 'chew cup 1'], min_iti, min_bout = 0.5)\n",
    "ITIcup3_p3d3_1_2_array1 = boris.get_behavior_bouts(ITI_1_2_df1, [1.2], ['sniff cup 3', 'chew cup 3', 'sniff cup 4', 'chew cup 4','sniff cup 2', 'chew cup 2'], min_iti, min_bout = 0.5)\n",
    "ITIfamcup_p3d3_1_2_array1 = boris.get_behavior_bouts(ITI_1_2_df1, [1.2], ['sniff cup 1', 'chew cup 1'], min_iti, min_bout = 0.5)\n",
    "\n",
    "\n",
    "last10min_1_2_df = p3d3_1_2_df2[p3d3_1_2_df2['Start (s)'] > 259]\n",
    "ITI_1_2_df2 = p3d3_1_2_df2[(p3d3_1_2_df2['Start (s)'] < 134)]\n",
    "\n",
    "ITIcup3_p3d3_1_2_array2 = boris.get_behavior_bouts(ITI_1_2_df2, [1.2], ['sniff cup 3', 'chew cup 3', 'sniff cup 4', 'chew cup 4','sniff cup 2', 'chew cup 2'], min_iti, min_bout = 0.5)\n",
    "ITIfamcup_p3d3_1_2_array2 = boris.get_behavior_bouts(ITI_1_2_df2, [1.2], ['sniff cup 1', 'chew cup 1'], min_iti, min_bout = 0.5)\n",
    "\n",
    "novel_p3d3_1_2_array = boris.get_behavior_bouts(last10min_1_2_df, [1.2], ['sniff cup 4', 'chew cup 4'], min_iti, min_bout = 0.5)\n",
    "fam_p3d3_1_2_array = boris.get_behavior_bouts(last10min_1_2_df, [1.2], ['sniff cup 1', 'chew cup 1'], min_iti, min_bout = 0.5)\n",
    "cagemate_p3d3_1_2_array = boris.get_behavior_bouts(last10min_1_2_df, [1.2], ['sniff cup 2', 'chew cup 2'], min_iti, min_bout = 0.5)\n",
    "empty_p3d3_1_2_array = boris.get_behavior_bouts(last10min_1_2_df, [1.2], ['sniff cup 3', 'chew cup 3'], min_iti, min_bout = 0.5)\n",
    "\n",
    "ITIcup3_p3d3_1_2_array2 = ITIcup3_p3d3_1_2_array2 + 1710120.85\n",
    "ITIfamcup_p3d3_1_2_array2 = ITIfamcup_p3d3_1_2_array2 + 1710120.85\n",
    "\n",
    "novel_p3d3_1_2_array = novel_p3d3_1_2_array + 1710120.85\n",
    "fam_p3d3_1_2_array = fam_p3d3_1_2_array + 1710120.85\n",
    "cagemate_p3d3_1_2_array = cagemate_p3d3_1_2_array + 1710120.85\n",
    "empty_p3d3_1_2_array = empty_p3d3_1_2_array + 1710120.85\n",
    "\n",
    "ITIcup3_p3d3_1_2_array = np.concatenate([ITIcup3_p3d3_1_2_array1, ITIcup3_p3d3_1_2_array2])\n",
    "ITIfamcup_p3d3_1_2_array = np.concatenate([ITIfamcup_p3d3_1_2_array1, ITIfamcup_p3d3_1_2_array2])\n",
    "\n"
   ]
  },
  {
   "cell_type": "code",
   "execution_count": null,
   "metadata": {},
   "outputs": [],
   "source": [
    "\n"
   ]
  },
  {
   "cell_type": "code",
   "execution_count": 14,
   "metadata": {},
   "outputs": [],
   "source": [
    "#Subject 1.4\n",
    "last10min_p3d3_1_4_df = p3d3_1_4_df[p3d3_1_4_df['Start (s)'] > 1910]\n",
    "first10min_p3d3_1_4_df = p3d3_1_4_df[p3d3_1_4_df['Start (s)'] < 605]\n",
    "familiarization_p3d3_1_4_df = p3d3_1_4_df[(p3d3_1_4_df['Start (s)'] < 1201) & (p3d3_1_4_df['Start (s)'] > 625)]\n",
    "ITI_p3d3_1_4_df = p3d3_1_4_df[(p3d3_1_4_df['Start (s)'] > 1211) & (p3d3_1_4_df['Start (s)'] < 1837)]\n",
    "\n",
    "novel_p3d3_1_4_array = boris.get_behavior_bouts(last10min_p3d3_1_4_df, [1.4], ['sniff cup 1', 'chew cup 1'], min_iti, min_bout = 0.5)\n",
    "fam_p3d3_1_4_array = boris.get_behavior_bouts(last10min_p3d3_1_4_df, [1.4], ['sniff cup 2', 'chew cup 2'], min_iti, min_bout = 0.5)\n",
    "cagemate_p3d3_1_4_array = boris.get_behavior_bouts(last10min_p3d3_1_4_df, [1.4], ['sniff cup 3', 'chew cup 3'], min_iti, min_bout = 0.5)\n",
    "empty_p3d3_1_4_array = boris.get_behavior_bouts(last10min_p3d3_1_4_df, [1.4], ['sniff cup 4', 'chew cup 4'], min_iti, min_bout = 0.5)\n",
    "\n",
    "#cup3_p3d3_1_4_array = boris.get_behavior_bouts(first10min_p3d3_1_4_df, [1.4], ['sniff cup 3', 'chew cup 3'], min_iti, min_bout = 0.5)\n",
    "#cup4_p3d3_1_4_array = boris.get_behavior_bouts(first10min_p3d3_1_4_df, [1.4], ['sniff cup 4', 'chew cup 4'], min_iti, min_bout = 0.5)\n",
    "cup1_p3d3_1_4_array = boris.get_behavior_bouts(first10min_p3d3_1_4_df, [1.4], ['sniff cup 1', 'chew cup 1', 'sniff cup 2', 'chew cup 2','sniff cup 3', 'chew cup 3','sniff cup 4', 'chew cup 4'], min_iti, min_bout = 0.5)\n",
    "#cup2_p3d3_1_4_array = boris.get_behavior_bouts(first10min_p3d3_1_4_df, [1.4], ['sniff cup 2', 'chew cup 2'], min_iti, min_bout = 0.5)\n",
    "\n",
    "famcup3_p3d3_1_4_array = boris.get_behavior_bouts(familiarization_p3d3_1_4_df, [1.4], ['sniff cup 4', 'chew cup 4', 'sniff cup 1', 'chew cup 1','sniff cup 3', 'chew cup 3'], min_iti, min_bout = 0.5)\n",
    "famfam_p3d3_1_4_array = boris.get_behavior_bouts(familiarization_p3d3_1_4_df, [1.4], ['sniff cup 2', 'chew cup 2'], min_iti, min_bout = 0.5)\n",
    "\n",
    "ITIcup3_p3d3_1_4_array = boris.get_behavior_bouts(ITI_p3d3_1_4_df, [1.4], ['sniff cup 4', 'chew cup 4', 'sniff cup 1', 'chew cup 1','sniff cup 3', 'chew cup 3'], min_iti, min_bout = 0.5)\n",
    "ITIfamcup_p3d3_1_4_array = boris.get_behavior_bouts(ITI_p3d3_1_4_df, [1.4], ['sniff cup 2', 'chew cup 2'], min_iti, min_bout = 0.5)"
   ]
  },
  {
   "cell_type": "markdown",
   "metadata": {},
   "source": [
    "### Dictionary creation + assignments"
   ]
  },
  {
   "cell_type": "code",
   "execution_count": 15,
   "metadata": {},
   "outputs": [],
   "source": [
    "events_p3d1_1_1 = {'acquisition': famfam_p3d1_1_1_array,\n",
    "                   'cagemate': cagemate_p3d1_1_1_array, 'empty': empty_p3d1_1_1_array,\n",
    "                   'novel': novel_p3d1_1_1_array, 'familiar': fam_p3d1_1_1_array,\n",
    "                   'baseline': cup1_p3d1_1_1_array}\n",
    "events_p3d1_1_2 = {'acquisition': famfam_p3d1_1_2_array,\n",
    "                   'cagemate': cagemate_p3d1_1_2_array, 'empty': empty_p3d1_1_2_array,\n",
    "                   'novel': novel_p3d1_1_2_array, 'familiar': fam_p3d1_1_2_array,\n",
    "                   'baseline': cup1_p3d1_1_2_array}\n",
    "events_p3d1_1_4 = {'acquisition': famfam_p3d1_1_4_array,\n",
    "                   'cagemate': cagemate_p3d1_1_4_array, 'empty': empty_p3d1_1_4_array,\n",
    "                   'novel': novel_p3d1_1_4_array, 'familiar': fam_p3d1_1_4_array,\n",
    "                   'baseline': cup1_p3d1_1_4_array}\n",
    "events_p3d2_1_1 = {'acquisition': famfam_p3d2_1_1_array,\n",
    "                   'cagemate': cagemate_p3d2_1_1_array, 'empty': empty_p3d2_1_1_array,\n",
    "                   'novel': novel_p3d2_1_1_array, 'familiar': fam_p3d2_1_1_array,\n",
    "                   'baseline': cup1_p3d2_1_1_array}\n",
    "events_p3d2_1_2 = {'acquisition': famfam_p3d2_1_2_array,\n",
    "                   'cagemate': cagemate_p3d2_1_2_array, 'empty': empty_p3d2_1_2_array,\n",
    "                   'novel': novel_p3d2_1_2_array, 'familiar': fam_p3d2_1_2_array,\n",
    "                   'baseline': cup1_p3d2_1_2_array}\n",
    "events_p3d2_1_4 = {'acquisition': famfam_p3d2_1_4_array,\n",
    "                   'cagemate': cagemate_p3d2_1_4_array, 'empty': empty_p3d2_1_4_array,\n",
    "                   'novel': novel_p3d2_1_4_array, 'familiar': fam_p3d2_1_4_array,\n",
    "                   'baseline': cup1_p3d2_1_4_array}\n",
    "events_p3d3_1_1 = {'acquisition': famfam_1_1_array,  \n",
    "                   'cagemate':cagemate_1_1_array,'empty':empty_1_1_array,\n",
    "                   'novel':novel_1_1_array,'familiar':fam_1_1_array,\n",
    "                   'baseline': cup1_1_1_array}\n",
    "events_p3d3_1_2 = {'acquisition': famfam_p3d3_1_2_array,\n",
    "                   'cagemate': cagemate_p3d3_1_2_array, 'empty': empty_p3d3_1_2_array,\n",
    "                   'novel': novel_p3d3_1_2_array, 'familiar': fam_p3d3_1_2_array,\n",
    "                   'baseline': cup1_p3d3_1_2_array}\n",
    "events_p3d3_1_4 = {'acquisition': famfam_p3d3_1_4_array,\n",
    "                   'cagemate': cagemate_p3d3_1_4_array, 'empty': empty_p3d3_1_4_array,\n",
    "                   'novel': novel_p3d3_1_4_array, 'familiar': fam_p3d3_1_4_array,\n",
    "                   'baseline': cup1_p3d3_1_4_array}"
   ]
  },
  {
   "cell_type": "markdown",
   "metadata": {},
   "source": [
    "## Location arrays"
   ]
  },
  {
   "cell_type": "markdown",
   "metadata": {},
   "source": [
    "### Day 1"
   ]
  },
  {
   "cell_type": "code",
   "execution_count": 16,
   "metadata": {},
   "outputs": [],
   "source": [
    "\n",
    "# Subject 1.1\n",
    "p3d1_1_1_cup1 = boris.get_behavior_bouts(last10min_p3d1_1_1_df, [1.1], ['sniff cup 1', 'chew cup 1'], min_iti, min_bout = 0.5)\n",
    "p3d1_1_1_cup2 = boris.get_behavior_bouts(last10min_p3d1_1_1_df, [1.1], ['sniff cup 2', 'chew cup 2'], min_iti, min_bout = 0.5)\n",
    "p3d1_1_1_cup3 = boris.get_behavior_bouts(last10min_p3d1_1_1_df, [1.1], ['sniff cup 3', 'chew cup 3'], min_iti, min_bout = 0.5)\n",
    "p3d1_1_1_cup4 = boris.get_behavior_bouts(last10min_p3d1_1_1_df, [1.1], ['sniff cup 4', 'chew cup 4'], min_iti, min_bout = 0.5)\n",
    "\n",
    "p3d1_1_2_cup1 = boris.get_behavior_bouts(last10min_p3d1_1_1_df, [1.2], ['sniff cup 1', 'chew cup 1'], min_iti, min_bout = 0.5)\n",
    "p3d1_1_2_cup2 = boris.get_behavior_bouts(last10min_p3d1_1_1_df, [1.2], ['sniff cup 2', 'chew cup 2'], min_iti, min_bout = 0.5)\n",
    "p3d1_1_2_cup3 = boris.get_behavior_bouts(last10min_p3d1_1_1_df, [1.2], ['sniff cup 3', 'chew cup 3'], min_iti, min_bout = 0.5)\n",
    "p3d1_1_2_cup4 = boris.get_behavior_bouts(last10min_p3d1_1_1_df, [1.2], ['sniff cup 4', 'chew cup 4'], min_iti, min_bout = 0.5)\n",
    "\n",
    "\n",
    "\n",
    "#Subject 1.4\n",
    "p3d1_1_4_cup1 = boris.get_behavior_bouts(last10min_p3d1_1_4_df, [1.4], ['sniff cup 1', 'chew cup 1'], min_iti, min_bout = 0.5)\n",
    "p3d1_1_4_cup2 = boris.get_behavior_bouts(last10min_p3d1_1_4_df, [1.4], ['sniff cup 2', 'chew cup 2'], min_iti, min_bout = 0.5)\n",
    "p3d1_1_4_cup3 = boris.get_behavior_bouts(last10min_p3d1_1_4_df, [1.4], ['sniff cup 3', 'chew cup 3'], min_iti, min_bout = 0.5)\n",
    "p3d1_1_4_cup4 = boris.get_behavior_bouts(last10min_p3d1_1_4_df, [1.4], ['sniff cup 4', 'chew cup 4'], min_iti, min_bout = 0.5)"
   ]
  },
  {
   "cell_type": "markdown",
   "metadata": {},
   "source": [
    "### Day 2"
   ]
  },
  {
   "cell_type": "code",
   "execution_count": 17,
   "metadata": {},
   "outputs": [],
   "source": [
    "# Subject 1.1\n",
    "p3d2_1_1_cup1 = boris.get_behavior_bouts(last10min_p3d2_1_1_df, [1.1], ['sniff cup 1', 'chew cup 1'], min_iti, min_bout = 0.5)\n",
    "p3d2_1_1_cup2 = boris.get_behavior_bouts(last10min_p3d2_1_1_df, [1.1], ['sniff cup 2', 'chew cup 2'], min_iti, min_bout = 0.5)\n",
    "p3d2_1_1_cup3 = boris.get_behavior_bouts(last10min_p3d2_1_1_df, [1.1], ['sniff cup 3', 'chew cup 3'], min_iti, min_bout = 0.5)\n",
    "p3d2_1_1_cup4 = boris.get_behavior_bouts(last10min_p3d2_1_1_df, [1.1], ['sniff cup 4', 'chew cup 4'], min_iti, min_bout = 0.5)\n",
    "\n",
    "#Subject 1.2\n",
    "p3d2_1_2_cup1 = boris.get_behavior_bouts(last10min_p3d2_1_2_df, [1.2], ['sniff cup 1', 'chew cup 1'], min_iti, min_bout = 0.5)\n",
    "p3d2_1_2_cup2 = boris.get_behavior_bouts(last10min_p3d2_1_2_df, [1.2], ['sniff cup 2', 'chew cup 2'], min_iti, min_bout = 0.5)\n",
    "p3d2_1_2_cup3 = boris.get_behavior_bouts(last10min_p3d2_1_2_df, [1.2], ['sniff cup 3', 'chew cup 3'], min_iti, min_bout = 0.5)\n",
    "p3d2_1_2_cup4 = boris.get_behavior_bouts(last10min_p3d2_1_2_df, [1.2], ['sniff cup 4', 'chew cup 4'], min_iti, min_bout = 0.5)\n",
    "\n",
    "#Subject 1.4\n",
    "p3d2_1_4_cup1 = boris.get_behavior_bouts(last10min_p3d2_1_4_df, [1.4], ['sniff cup 1', 'chew cup 1'], min_iti, min_bout = 0.5)\n",
    "p3d2_1_4_cup2 = boris.get_behavior_bouts(last10min_p3d2_1_4_df, [1.4], ['sniff cup 2', 'chew cup 2'], min_iti, min_bout = 0.5)\n",
    "p3d2_1_4_cup3 = boris.get_behavior_bouts(last10min_p3d2_1_4_df, [1.4], ['sniff cup 3', 'chew cup 3'], min_iti, min_bout = 0.5)\n",
    "p3d2_1_4_cup4 = boris.get_behavior_bouts(last10min_p3d2_1_4_df, [1.4], ['sniff cup 4', 'chew cup 4'], min_iti, min_bout = 0.5)"
   ]
  },
  {
   "cell_type": "markdown",
   "metadata": {},
   "source": [
    "### Day 3"
   ]
  },
  {
   "cell_type": "code",
   "execution_count": 18,
   "metadata": {},
   "outputs": [],
   "source": [
    "# Subject 1.1\n",
    "p3d3_1_1_cup1 = boris.get_behavior_bouts(last10min_1_1_df, [1.1], ['sniff cup 1', 'chew cup 1'], min_iti, min_bout = 0.5)\n",
    "p3d3_1_1_cup2 = boris.get_behavior_bouts(last10min_1_1_df, [1.1], ['sniff cup 2', 'chew cup 2'], min_iti, min_bout = 0.5)\n",
    "p3d3_1_1_cup3 = boris.get_behavior_bouts(last10min_1_1_df, [1.1], ['sniff cup 3', 'chew cup 3'], min_iti, min_bout = 0.5)\n",
    "p3d3_1_1_cup4 = boris.get_behavior_bouts(last10min_1_1_df, [1.1], ['sniff cup 4', 'chew cup 4'], min_iti, min_bout = 0.5)\n",
    "\n",
    "#Subject 1.2\n",
    "# 2572320.85 ms is the length of the recording of p3d3_1_2 \n",
    "# media duration of second vid is 862200 ms\n",
    "# diff in ms: 1710120.85\n",
    "#this is the constant i add to every value in the array\n",
    "p3d3_1_2_cup1_1 = boris.get_behavior_bouts(last10min_1_2_df, [1.2], ['sniff cup 1', 'chew cup 1'], min_iti, min_bout = 0.5)\n",
    "p3d3_1_2_cup2_1 = boris.get_behavior_bouts(last10min_1_2_df, [1.2], ['sniff cup 2', 'chew cup 2'], min_iti, min_bout = 0.5)\n",
    "p3d3_1_2_cup3_1 = boris.get_behavior_bouts(last10min_1_2_df, [1.2], ['sniff cup 3', 'chew cup 3'], min_iti, min_bout = 0.5)\n",
    "p3d3_1_2_cup4_1 = boris.get_behavior_bouts(last10min_1_2_df, [1.2], ['sniff cup 4', 'chew cup 4'], min_iti, min_bout = 0.5)\n",
    "\n",
    "p3d3_1_2_cup1_2 = boris.get_behavior_bouts(p3d3_1_2_df2, [1.2], ['sniff cup 1', 'chew cup 1'], min_iti, min_bout = 0.5) + 1710120.85\n",
    "p3d3_1_2_cup2_2 = boris.get_behavior_bouts(p3d3_1_2_df2, [1.2], ['sniff cup 2', 'chew cup 2'], min_iti, min_bout = 0.5) + 1710120.85\n",
    "p3d3_1_2_cup3_2 = boris.get_behavior_bouts(p3d3_1_2_df2, [1.2], ['sniff cup 3', 'chew cup 3'], min_iti, min_bout = 0.5) + 1710120.85\n",
    "p3d3_1_2_cup4_2 = boris.get_behavior_bouts(p3d3_1_2_df2, [1.2], ['sniff cup 4', 'chew cup 4'], min_iti, min_bout = 0.5) + 1710120.85\n",
    "\n",
    "p3d3_1_2_cup1 = np.concatenate([p3d3_1_2_cup1_1, p3d3_1_2_cup1_2])\n",
    "p3d3_1_2_cup2 = np.concatenate([p3d3_1_2_cup2_1, p3d3_1_2_cup2_2])\n",
    "p3d3_1_2_cup3 = np.concatenate([p3d3_1_2_cup3_1, p3d3_1_2_cup3_2])\n",
    "p3d3_1_2_cup4 = np.concatenate([p3d3_1_2_cup4_1, p3d3_1_2_cup4_2])\n",
    "#Subject 1.4\n",
    "p3d3_1_4_cup1 = boris.get_behavior_bouts(last10min_p3d3_1_4_df, [1.4], ['sniff cup 1', 'chew cup 1'], min_iti, min_bout = 0.5)\n",
    "p3d3_1_4_cup2 = boris.get_behavior_bouts(last10min_p3d3_1_4_df, [1.4], ['sniff cup 2', 'chew cup 2'], min_iti, min_bout = 0.5)\n",
    "p3d3_1_4_cup3 = boris.get_behavior_bouts(last10min_p3d3_1_4_df, [1.4], ['sniff cup 3', 'chew cup 3'], min_iti, min_bout = 0.5)\n",
    "p3d3_1_4_cup4 = boris.get_behavior_bouts(last10min_p3d3_1_4_df, [1.4], ['sniff cup 4', 'chew cup 4'], min_iti, min_bout = 0.5)"
   ]
  },
  {
   "cell_type": "markdown",
   "metadata": {},
   "source": [
    "### Dictionary creation + assignments"
   ]
  },
  {
   "cell_type": "code",
   "execution_count": 19,
   "metadata": {},
   "outputs": [],
   "source": [
    "p3d1_1_1_cup_event_dict = {'cup 1': p3d1_1_1_cup1, 'cup 2': p3d1_1_1_cup2,\n",
    "                           'cup 3': p3d1_1_1_cup3, 'cup 4': p3d1_1_1_cup4}\n",
    "p3d1_1_2_cup_event_dict = {'cup 1': p3d1_1_2_cup1, 'cup 2': p3d1_1_2_cup2,\n",
    "                           'cup 3': p3d1_1_2_cup3, 'cup 4': p3d1_1_2_cup4}\n",
    "p3d1_1_4_cup_event_dict = {'cup 1': p3d1_1_4_cup1, 'cup 2': p3d1_1_4_cup2,\n",
    "                           'cup 3': p3d1_1_4_cup3, 'cup 4': p3d1_1_4_cup4}\n",
    "p3d2_1_1_cup_event_dict = {'cup 1': p3d2_1_1_cup1, 'cup 2': p3d2_1_1_cup2,\n",
    "                           'cup 3': p3d2_1_1_cup3, 'cup 4': p3d2_1_1_cup4}\n",
    "p3d2_1_2_cup_event_dict = {'cup 1': p3d2_1_2_cup1, 'cup 2': p3d2_1_2_cup2,\n",
    "                           'cup 3': p3d2_1_2_cup3, 'cup 4': p3d2_1_2_cup4}\n",
    "p3d2_1_4_cup_event_dict = {'cup 1': p3d2_1_4_cup1, 'cup 2': p3d2_1_4_cup2,\n",
    "                           'cup 3': p3d2_1_4_cup3, 'cup 4': p3d2_1_4_cup4}\n",
    "p3d3_1_1_cup_event_dict = {'cup 1': p3d3_1_1_cup1, 'cup 2': p3d3_1_1_cup2,\n",
    "                           'cup 3': p3d3_1_1_cup3, 'cup 4': p3d3_1_1_cup4}\n",
    "p3d3_1_2_cup_event_dict = {'cup 1': p3d3_1_2_cup1, 'cup 2': p3d3_1_2_cup2,\n",
    "                           'cup 3': p3d3_1_2_cup3, 'cup 4': p3d3_1_2_cup4}\n",
    "p3d3_1_4_cup_event_dict = {'cup 1': p3d3_1_4_cup1, 'cup 2': p3d3_1_4_cup2,\n",
    "                           'cup 3': p3d3_1_4_cup3, 'cup 4': p3d3_1_4_cup4}"
   ]
  },
  {
   "cell_type": "code",
   "execution_count": 20,
   "metadata": {},
   "outputs": [
    {
     "name": "stdout",
     "output_type": "stream",
     "text": [
      "dict_keys(['cup 1', 'cup 2', 'cup 3', 'cup 4', 'acquisition', 'cagemate', 'empty', 'novel', 'familiar', 'baseline'])\n",
      "dict_keys(['cup 1', 'cup 2', 'cup 3', 'cup 4', 'acquisition', 'cagemate', 'empty', 'novel', 'familiar', 'baseline'])\n",
      "dict_keys(['cup 1', 'cup 2', 'cup 3', 'cup 4', 'acquisition', 'cagemate', 'empty', 'novel', 'familiar', 'baseline'])\n",
      "dict_keys(['cup 1', 'cup 2', 'cup 3', 'cup 4', 'acquisition', 'cagemate', 'empty', 'novel', 'familiar', 'baseline'])\n",
      "dict_keys(['cup 1', 'cup 2', 'cup 3', 'cup 4', 'acquisition', 'cagemate', 'empty', 'novel', 'familiar', 'baseline'])\n",
      "dict_keys(['cup 1', 'cup 2', 'cup 3', 'cup 4', 'acquisition', 'cagemate', 'empty', 'novel', 'familiar', 'baseline'])\n",
      "dict_keys(['cup 1', 'cup 2', 'cup 3', 'cup 4', 'acquisition', 'cagemate', 'empty', 'novel', 'familiar', 'baseline'])\n",
      "dict_keys(['cup 1', 'cup 2', 'cup 3', 'cup 4', 'acquisition', 'cagemate', 'empty', 'novel', 'familiar', 'baseline'])\n"
     ]
    }
   ],
   "source": [
    "p3d1_1_1.event_dict = {**p3d1_1_1_cup_event_dict, **events_p3d1_1_1}\n",
    "p3d1_1_1.cup_order = {'novel': 'cup 1', 'familiar': 'cup 2', \n",
    "                    'cagemate':'cup 3', 'empty':'cup 4'}\n",
    "p3d1_1_1.reverse_cup_order = {'cup 1': 'novel', 'cup 2': 'familiar', \n",
    "                                'cup 3': 'cagemate', 'cup 4': 'empty'}\n",
    "\n",
    "p3d1_1_4.event_dict = {**p3d1_1_4_cup_event_dict, **events_p3d1_1_4}\n",
    "p3d1_1_4.cup_order = {'novel': 'cup 3', 'empty': 'cup 4', \n",
    "                    'cagemate': 'cup 1', 'familiar': 'cup 2'} \n",
    "p3d1_1_4.reverse_cup_order = {'cup 3': 'novel', 'cup 4': 'empty',\n",
    "                                'cup 1': 'cagemate', 'cup 2': 'familiar'}\n",
    "\n",
    "p3d2_1_1.event_dict = {**p3d2_1_1_cup_event_dict, **events_p3d2_1_1}\n",
    "p3d2_1_1.cup_order = {'novel': 'cup 2', 'familiar': 'cup 3',\n",
    "                     'cagemate':'cup 4', 'empty':'cup 1'}\n",
    "p3d2_1_1.reverse_cup_order = {'cup 2': 'novel', 'cup 3': 'familiar',\n",
    "                        'cup 4': 'cagemate', 'cup 1': 'empty'}\n",
    "\n",
    "p3d2_1_2.event_dict = {**p3d2_1_2_cup_event_dict, **events_p3d2_1_2}\n",
    "p3d2_1_2.cup_order = {'novel': 'cup 3', 'familiar': 'cup 4',\n",
    "                     'cagemate':'cup 1', 'empty':'cup 2'}\n",
    "p3d2_1_2.reverse_cup_order = {'cup 3': 'novel', 'cup 4': 'familiar',\n",
    "                        'cup 1': 'cagemate', 'cup 2': 'empty'}\n",
    "\n",
    "p3d2_1_4.event_dict = {**p3d2_1_4_cup_event_dict, **events_p3d2_1_4}\n",
    "p3d2_1_4.cup_order = {'novel': 'cup 4', 'familiar': 'cup 3',\n",
    "                     'cagemate':'cup 2', 'empty':'cup 1'}\n",
    "p3d2_1_4.reverse_cup_order = {'cup 4': 'novel', 'cup 3': 'familiar',\n",
    "                        'cup 2': 'cagemate', 'cup 1': 'empty'}\n",
    "\n",
    "\n",
    "p3d3_1_1.event_dict = {**p3d3_1_1_cup_event_dict, **events_p3d3_1_1}\n",
    "p3d3_1_1.cup_order = {'novel': 'cup 3', 'familiar': 'cup 4',\n",
    "                     'cagemate':'cup 1', 'empty':'cup 2'}\n",
    "p3d3_1_1.reverse_cup_order = {'cup 3': 'novel', 'cup 4': 'familiar',\n",
    "                        'cup 1': 'cagemate', 'cup 2': 'empty'}\n",
    "\n",
    "p3d3_1_2.event_dict = {**p3d3_1_2_cup_event_dict, **events_p3d3_1_2}\n",
    "p3d3_1_2.cup_order = {'novel': 'cup 4', 'familiar': 'cup 1',\n",
    "                     'cagemate':'cup 2', 'empty':'cup 3'}\n",
    "p3d3_1_2.reverse_cup_order = {'cup 4': 'novel', 'cup 1': 'familiar',\n",
    "                        'cup 2': 'cagemate', 'cup 3': 'empty'}\n",
    "\n",
    "\n",
    "p3d3_1_4.event_dict ={** p3d3_1_4_cup_event_dict, **events_p3d3_1_4}\n",
    "p3d3_1_4.cup_order = {'novel': 'cup 1', 'familiar': 'cup 2',\n",
    "                     'cagemate':'cup 3', 'empty':'cup 4'}\n",
    "p3d3_1_4.reverse_cup_order = {'cup 1': 'novel', 'cup 2': 'familiar',\n",
    "                        'cup 3': 'cagemate', 'cup 4': 'empty'}\n",
    "\n",
    "behavior_dicts = [p3d1_1_1_cup_event_dict, \n",
    "                  p3d1_1_4_cup_event_dict, \n",
    "                  p3d2_1_1_cup_event_dict,\n",
    "                  p3d2_1_2_cup_event_dict, \n",
    "                  p3d2_1_4_cup_event_dict,\n",
    "                  p3d3_1_1_cup_event_dict,\n",
    "                  p3d3_1_2_cup_event_dict,\n",
    "                  p3d3_1_4_cup_event_dict]\n",
    "\n",
    "for recording in phase3_collection.collection.values():\n",
    "    print(recording.event_dict.keys())"
   ]
  },
  {
   "cell_type": "code",
   "execution_count": 21,
   "metadata": {},
   "outputs": [],
   "source": [
    "pickle_this(phase3_collection, 'phase3collection.pkl')"
   ]
  },
  {
   "cell_type": "code",
   "execution_count": 22,
   "metadata": {},
   "outputs": [
    {
     "name": "stdout",
     "output_type": "stream",
     "text": [
      "20230809_103121_1_merged.rec\n",
      "20230809_143303_1_merged.rec\n",
      "20230810_101534_1_merged.rec\n",
      "20230810_120856_1_merged.rec\n",
      "20230810_140909_1_merged.rec\n",
      "20230811_101635_1_merged.rec\n",
      "20230811_120331_merged.rec\n",
      "20230811_154219_1_merged.rec\n"
     ]
    }
   ],
   "source": [
    "for recording in phase3_collection.collection.keys():\n",
    "    print(recording)"
   ]
  },
  {
   "cell_type": "code",
   "execution_count": 24,
   "metadata": {},
   "outputs": [],
   "source": [
    "behavior_dicts_ephys = {'20230809_103121': {**p3d1_1_1_cup_event_dict, **events_p3d1_1_1},\n",
    "                  '20230809_143303': {**p3d1_1_4_cup_event_dict, **events_p3d1_1_4},\n",
    "                  '20230810_101534': {**p3d2_1_1_cup_event_dict, **events_p3d2_1_1},\n",
    "                  '20230810_120856': {**p3d2_1_2_cup_event_dict, **events_p3d2_1_2},\n",
    "                  '20230810_140909': {**p3d2_1_4_cup_event_dict, **events_p3d2_1_4},\n",
    "                  '20230811_101635': {**p3d3_1_1_cup_event_dict, **events_p3d3_1_1},\n",
    "                  '20230811_120331': {**p3d3_1_2_cup_event_dict, **events_p3d3_1_2},\n",
    "                  '20230811_154219': {** p3d3_1_4_cup_event_dict, **events_p3d3_1_4}}\n",
    "\n",
    "pickle_this(behavior_dicts_ephys, 'phase3_behavior_dicts.pkl')\n"
   ]
  },
  {
   "cell_type": "code",
   "execution_count": null,
   "metadata": {},
   "outputs": [],
   "source": [
    "behavior_dicts = [{**p3d1_1_1_cup_event_dict, **events_p3d1_1_1},\n",
    "                   {**p3d1_1_2_cup_event_dict, **events_p3d1_1_2}, \n",
    "                  {**p3d1_1_4_cup_event_dict, **events_p3d1_1_4},\n",
    "                  {**p3d2_1_1_cup_event_dict, **events_p3d2_1_1},\n",
    "                  {**p3d2_1_2_cup_event_dict, **events_p3d2_1_2},\n",
    "                  {**p3d2_1_4_cup_event_dict, **events_p3d2_1_4},\n",
    "                  {**p3d3_1_1_cup_event_dict, **events_p3d3_1_1},\n",
    "                  {**p3d3_1_2_cup_event_dict, **events_p3d3_1_2},\n",
    "                  {** p3d3_1_4_cup_event_dict, **events_p3d3_1_4}]\n",
    "\n",
    "pickle_this(behavior_dicts, 'behavior_dicts.pkl')"
   ]
  }
 ],
 "metadata": {
  "kernelspec": {
   "display_name": "ephys_analysis",
   "language": "python",
   "name": "python3"
  },
  "language_info": {
   "codemirror_mode": {
    "name": "ipython",
    "version": 3
   },
   "file_extension": ".py",
   "mimetype": "text/x-python",
   "name": "python",
   "nbconvert_exporter": "python",
   "pygments_lexer": "ipython3",
   "version": "3.10.9"
  },
  "orig_nbformat": 4
 },
 "nbformat": 4,
 "nbformat_minor": 2
}
