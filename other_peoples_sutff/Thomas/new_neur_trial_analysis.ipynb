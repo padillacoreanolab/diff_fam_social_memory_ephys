{
 "cells": [
  {
   "cell_type": "code",
   "execution_count": 1,
   "id": "db3e1459",
   "metadata": {},
   "outputs": [],
   "source": [
    "import spike.spike_analysis.spike_collection as sc\n",
    "import spike.spike_analysis.spike_recording as sr\n",
    "import spike.spike_analysis.firing_rate_calculations as fr\n",
    "import spike.spike_analysis.normalization as norm\n",
    "import spike.spike_analysis.single_cell as single_cell\n",
    "import spike.spike_analysis.spike_collection as collection\n",
    "import numpy as np\n",
    "import matplotlib.pyplot as plt\n",
    "import pandas as pd\n",
    "import os\n",
    "import behavior.boris_extraction as boris\n",
    "import matplotlib.pyplot as plt\n",
    "import pickle\n",
    "import re"
   ]
  },
  {
   "cell_type": "code",
   "execution_count": 2,
   "id": "33909c7a",
   "metadata": {},
   "outputs": [],
   "source": [
    "spike_collection_json_path = r'C:\\Users\\thoma\\Code\\ResearchCode\\diff_fam_social_memory_ephys\\spike_collection.json\\spike_collection.json'\n",
    "\n",
    "event_dict_path = r'C:\\Users\\thoma\\Code\\ResearchCode\\diff_fam_social_memory_ephys\\spike_collection.json\\event_dict.pkl'\n",
    "phy_recordings_path = r'C:\\Users\\thoma\\Code\\ResearchCode\\diff_fam_social_memory_ephys\\spike_collection.json\\recordings'"
   ]
  },
  {
   "cell_type": "code",
   "execution_count": 3,
   "id": "8720ec9e",
   "metadata": {},
   "outputs": [],
   "source": [
    "# extract the event dictionary from the pickle file\n",
    "with open(event_dict_path, 'rb') as f:\n",
    "    event_dict = pickle.load(f)\n",
    "\n",
    "    \n",
    "def generate_subject_dict_from_event_dict(event_dict):\n",
    "    \"\"\"\n",
    "    Generate subject_dict from an event_dict using 'subj_<id>' patterns in keys.\n",
    "\n",
    "    Args:\n",
    "        event_dict (dict): Dictionary where keys are filenames containing 'subj_<id>'.\n",
    "\n",
    "    Returns:\n",
    "        dict: Mapping from filename to subject ID string (e.g., 'subject_1-4').\n",
    "    \"\"\"\n",
    "    subject_dict = {}\n",
    "    for filename in event_dict:\n",
    "        match = re.search(r\"subj_([\\d\\-]+)\", filename)\n",
    "        if match:\n",
    "            subject_id = match.group(1)\n",
    "            subject_dict[filename] = f\"subject_{subject_id}\"\n",
    "        else:\n",
    "            print(f\"[WARN] No subject ID found in: {filename}\")\n",
    "    return subject_dict\n",
    "\n",
    "# Example usage\n",
    "subject_dict = generate_subject_dict_from_event_dict(event_dict)\n"
   ]
  },
  {
   "cell_type": "code",
   "execution_count": 4,
   "id": "5ac22da0",
   "metadata": {},
   "outputs": [],
   "source": [
    "def enforce_numpy_event_dict(event_dict):\n",
    "    fixed = {}\n",
    "    for fname, events in event_dict.items():\n",
    "        fixed[fname] = {}\n",
    "        for event_name, val in events.items():\n",
    "            if len(val) == 0:\n",
    "                arr = np.empty((0, 2), dtype=int)\n",
    "            else:\n",
    "                arr = np.array(val, dtype=int)\n",
    "                if arr.ndim != 2 or arr.shape[1] != 2:\n",
    "                    raise ValueError(f\"{fname} → {event_name} has bad shape: {arr.shape}\")\n",
    "            fixed[fname][event_name] = arr\n",
    "    return fixed\n",
    "\n",
    "\n",
    "\n",
    "event_dict = enforce_numpy_event_dict(event_dict)"
   ]
  },
  {
   "cell_type": "code",
   "execution_count": 5,
   "id": "9774038a",
   "metadata": {},
   "outputs": [
    {
     "data": {
      "text/plain": [
       "<module 'spike.spike_analysis.spike_collection' from 'c:\\\\Users\\\\thoma\\\\Code\\\\ResearchCode\\\\diff_fam_social_memory_ephys\\\\spike\\\\spike_analysis\\\\spike_collection.py'>"
      ]
     },
     "execution_count": 5,
     "metadata": {},
     "output_type": "execute_result"
    }
   ],
   "source": [
    "import importlib\n",
    "import spike.spike_analysis.spike_collection as sc\n",
    "\n",
    "importlib.reload(sc)"
   ]
  },
  {
   "cell_type": "code",
   "execution_count": 7,
   "id": "f2487192",
   "metadata": {},
   "outputs": [
    {
     "name": "stdout",
     "output_type": "stream",
     "text": [
      "Event arrays are not 2 dimensional numpy arrays of shape (n x 2).\n",
      "Please fix.\n",
      "All set to analyze\n"
     ]
    },
    {
     "data": {
      "text/plain": [
       "[]"
      ]
     },
     "execution_count": 7,
     "metadata": {},
     "output_type": "execute_result"
    }
   ],
   "source": [
    "# make spike collection object from event_dict and phy_recordings_path and subject_dict\n",
    "sp = sc.SpikeCollection(\n",
    "    path=spike_collection_json_path,\n",
    "    event_dict=event_dict,\n",
    "    subject_dict=subject_dict,\n",
    ")\n",
    "sp.analyze(timebin=100)\n",
    "sp.recordings"
   ]
  }
 ],
 "metadata": {
  "kernelspec": {
   "display_name": "ephys_env",
   "language": "python",
   "name": "python3"
  },
  "language_info": {
   "codemirror_mode": {
    "name": "ipython",
    "version": 3
   },
   "file_extension": ".py",
   "mimetype": "text/x-python",
   "name": "python",
   "nbconvert_exporter": "python",
   "pygments_lexer": "ipython3",
   "version": "3.10.9"
  }
 },
 "nbformat": 4,
 "nbformat_minor": 5
}
