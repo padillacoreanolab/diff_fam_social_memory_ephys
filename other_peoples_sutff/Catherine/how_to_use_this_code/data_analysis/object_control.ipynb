{
 "cells": [
  {
   "cell_type": "code",
   "execution_count": 1,
   "id": "ccfda898",
   "metadata": {},
   "outputs": [],
   "source": [
    "import spike.spike_analysis.spike_collection as sc\n",
    "import spike.spike_analysis.spike_recording as sr\n",
    "import spike.spike_analysis.firing_rate_calculations as fr\n",
    "import spike.spike_analysis.normalization as norm\n",
    "import spike.spike_analysis.single_cell as single_cell\n",
    "import numpy as np\n",
    "import matplotlib.pyplot as plt\n",
    "import pandas as pd\n",
    "import os\n",
    "import behavior.boris_extraction as boris\n",
    "import matplotlib.pyplot as plt\n",
    "import behavior.behavioral_epoch_tools as bet"
   ]
  },
  {
   "cell_type": "code",
   "execution_count": 31,
   "id": "809bf2a5",
   "metadata": {},
   "outputs": [
    {
     "name": "stdout",
     "output_type": "stream",
     "text": [
      "loading  22_object_merged.rec\n",
      "loading  23_object_merged.rec\n",
      "23_object_merged.rec has no good units\n",
      "and will not be included in the collection\n",
      "loading  31_object_merged.rec\n",
      "loading  32_object_merged.rec\n",
      "loading  41_object_merged.rec\n",
      "loading  44_object_merged.rec\n",
      "Please assign event dictionaries to each recording\n",
      "as recording.event_dict\n",
      "event_dict = {event name(str): np.array[[start(ms), stop(ms)]...]\n",
      "Please assign subjects to each recording as recording.subject\n"
     ]
    }
   ],
   "source": [
    "# Initiate the spike collection object\n",
    "object_collection = sc.SpikeCollection(path = r\"C:\\Users\\zhaoz\\Desktop\\Research\\data\", sampling_rate= 20000)"
   ]
  },
  {
   "cell_type": "code",
   "execution_count": 32,
   "id": "a7e9e1b4",
   "metadata": {},
   "outputs": [
    {
     "name": "stdout",
     "output_type": "stream",
     "text": [
      "Recording Details:\n",
      "\n",
      "Recording: 22_object_merged.rec\n",
      "  Subject: Unknown\n",
      "  Number of Good Units: 14\n",
      "  Recording Length: 30.18 minutes\n",
      "  Events per Event Type: {}\n",
      "\n",
      "Recording: 31_object_merged.rec\n",
      "  Subject: Unknown\n",
      "  Number of Good Units: 1\n",
      "  Recording Length: 30.51 minutes\n",
      "  Events per Event Type: {}\n",
      "\n",
      "Recording: 32_object_merged.rec\n",
      "  Subject: Unknown\n",
      "  Number of Good Units: 9\n",
      "  Recording Length: 30.52 minutes\n",
      "  Events per Event Type: {}\n",
      "\n",
      "Recording: 41_object_merged.rec\n",
      "  Subject: Unknown\n",
      "  Number of Good Units: 23\n",
      "  Recording Length: 30.51 minutes\n",
      "  Events per Event Type: {}\n",
      "\n",
      "Recording: 44_object_merged.rec\n",
      "  Subject: Unknown\n",
      "  Number of Good Units: 4\n",
      "  Recording Length: 30.16 minutes\n",
      "  Events per Event Type: {}\n",
      "\n"
     ]
    }
   ],
   "source": [
    "# Print the recordings detail\n",
    "object_collection.recording_details()"
   ]
  },
  {
   "cell_type": "code",
   "execution_count": 33,
   "id": "bc8816f3",
   "metadata": {},
   "outputs": [
    {
     "name": "stdout",
     "output_type": "stream",
     "text": [
      "dict_keys(['22_object_merged.rec', '23_object_merged.rec', '31_object_merged.rec', '41_object_merged.rec', '44_object_merged.rec'])\n",
      "{'22_object_merged.rec': '22', '23_object_merged.rec': '23', '31_object_merged.rec': '31', '41_object_merged.rec': '41', '44_object_merged.rec': '44'}\n"
     ]
    }
   ],
   "source": [
    "event_dict = {}\n",
    "subject_dict = {}\n",
    "for file in os.listdir(r\"C:\\Users\\zhaoz\\Desktop\\Research\\data\\aggregated_csvs\"):\n",
    "    recording_name_parts = (file.split(\".\")[0]).split(\"_\")[:-1]\n",
    "    recording_name = \"_\".join(recording_name_parts) + \"_merged.rec\"\n",
    "    if file.endswith(\".csv\"):\n",
    "        behavior = ['facial sniffing', 'anogenital sniffing']\n",
    "        rec_event_dict = {}\n",
    "        min_iti = 0.5\n",
    "        min_bout = 0.3\n",
    "        behavior_path = r\"C:\\Users\\zhaoz\\Desktop\\Research\\data\\aggregated_csvs\\\\\" + file\n",
    "        behavior_df = pd.read_csv(behavior_path)\n",
    "        subject_only_sniffing = boris.get_behavior_bouts(behavior_df,\n",
    "                                                         subject = ['subject'],\n",
    "                                                         behavior = behavior,\n",
    "                                                         min_iti = min_iti,\n",
    "                                                         min_bout = min_bout)\n",
    "        agent_only_sniffing = boris.get_behavior_bouts(behavior_df,\n",
    "                                                         subject = ['social_agent'],\n",
    "                                                         behavior = behavior,\n",
    "                                                         min_iti = min_iti,\n",
    "                                                         min_bout = min_bout)\n",
    "        duplicate_dict = bet.overlapping_events(eventA = subject_only_sniffing,\n",
    "                                                eventB = agent_only_sniffing,\n",
    "                                                overlap_threshold = .5,\n",
    "                                                mode = 'duplicate',\n",
    "                                                return_nonoverlap = True)\n",
    "        rec_event_dict['subject only sniffing'] = duplicate_dict['eventA']\n",
    "        rec_event_dict['social agent only sniffing'] = duplicate_dict['eventB']\n",
    "        rec_event_dict['reciprocal sniffing'] = duplicate_dict['event1']\n",
    "        event_dict[recording_name] = rec_event_dict\n",
    "        subject = recording_name_parts[0]\n",
    "        subject_dict[recording_name] = subject\n",
    "\n",
    "print(event_dict.keys())\n",
    "print(subject_dict)"
   ]
  },
  {
   "cell_type": "code",
   "execution_count": 34,
   "id": "8119f937",
   "metadata": {},
   "outputs": [
    {
     "name": "stdout",
     "output_type": "stream",
     "text": [
      "loading  22_object_merged.rec\n",
      "loading  23_object_merged.rec\n",
      "23_object_merged.rec has no good units\n",
      "and will not be included in the collection\n",
      "loading  31_object_merged.rec\n",
      "loading  32_object_merged.rec\n",
      "32_object_merged.rec not found in subject dict\n",
      "32_object_merged.rec not found in event dict\n",
      "loading  41_object_merged.rec\n",
      "loading  44_object_merged.rec\n",
      "Recording Details:\n",
      "\n",
      "Recording: 22_object_merged.rec\n",
      "  Subject: 22\n",
      "  Number of Good Units: 14\n",
      "  Recording Length: 30.18 minutes\n",
      "  Events per Event Type: {'subject only sniffing': 50, 'social agent only sniffing': 28, 'reciprocal sniffing': 1}\n",
      "\n",
      "Recording: 31_object_merged.rec\n",
      "  Subject: 31\n",
      "  Number of Good Units: 1\n",
      "  Recording Length: 30.51 minutes\n",
      "  Events per Event Type: {'subject only sniffing': 7, 'social agent only sniffing': 35, 'reciprocal sniffing': 4}\n",
      "\n",
      "Recording: 32_object_merged.rec\n",
      "  Subject: Unknown\n",
      "  Number of Good Units: 9\n",
      "  Recording Length: 30.52 minutes\n",
      "  Events per Event Type: {}\n",
      "\n",
      "Recording: 41_object_merged.rec\n",
      "  Subject: 41\n",
      "  Number of Good Units: 23\n",
      "  Recording Length: 30.51 minutes\n",
      "  Events per Event Type: {'subject only sniffing': 26, 'social agent only sniffing': 35, 'reciprocal sniffing': 7}\n",
      "\n",
      "Recording: 44_object_merged.rec\n",
      "  Subject: 44\n",
      "  Number of Good Units: 4\n",
      "  Recording Length: 30.16 minutes\n",
      "  Events per Event Type: {'subject only sniffing': 20, 'social agent only sniffing': 32, 'reciprocal sniffing': 9}\n",
      "\n"
     ]
    }
   ],
   "source": [
    "object_collection = sc.SpikeCollection(path = r\"C:\\Users\\zhaoz\\Desktop\\Research\\data\",\n",
    "\t\t\t\t\t\t\t\t\t   event_dict = event_dict,\n",
    "\t\t\t\t\t\t\t\t\t   subject_dict = subject_dict,\n",
    "\t\t\t\t\t\t\t\t\t   sampling_rate = 20000)\n",
    "object_collection.recording_details()"
   ]
  },
  {
   "cell_type": "code",
   "execution_count": null,
   "id": "09110fb3",
   "metadata": {},
   "outputs": [],
   "source": []
  }
 ],
 "metadata": {
  "kernelspec": {
   "display_name": "Python 3",
   "language": "python",
   "name": "python3"
  },
  "language_info": {
   "codemirror_mode": {
    "name": "ipython",
    "version": 3
   },
   "file_extension": ".py",
   "mimetype": "text/x-python",
   "name": "python",
   "nbconvert_exporter": "python",
   "pygments_lexer": "ipython3",
   "version": "3.10.1"
  }
 },
 "nbformat": 4,
 "nbformat_minor": 5
}
