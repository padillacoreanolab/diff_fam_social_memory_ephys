{
 "cells": [
  {
   "cell_type": "code",
   "execution_count": null,
   "metadata": {
    "id": "cMwntbzpNmdH"
   },
   "outputs": [],
   "source": [
    "import locale\n",
    "locale.getpreferredencoding = lambda: \"UTF-8\""
   ]
  },
  {
   "cell_type": "code",
   "execution_count": null,
   "metadata": {
    "colab": {
     "base_uri": "https://localhost:8080/"
    },
    "id": "dvdn7OukuZNs",
    "outputId": "3b5ef1aa-1f7a-4a16-c3c3-495eb3d060a7"
   },
   "outputs": [
    {
     "name": "stdout",
     "output_type": "stream",
     "text": [
      "# github.com:22 SSH-2.0-babeld-54efa404d\n"
     ]
    }
   ],
   "source": [
    "# prompt: write ssh_key to ~/.ssh/ to use for github\n",
    "from google.colab import userdata\n",
    "ssh_key = userdata.get('google-colab-ssh-key-github')\n",
    "ssh_key = ssh_key + '\\n'\n",
    "ssh_key = ssh_key.replace('\\r', \"\")\n",
    "\n",
    "import os\n",
    "\n",
    "if ssh_key:\n",
    "  home_dir = os.path.expanduser('~')\n",
    "  ssh_dir = os.path.join(home_dir, '.ssh')\n",
    "  os.makedirs(ssh_dir, exist_ok=True)\n",
    "  ssh_key_path = os.path.join(ssh_dir, 'id_ed25519')\n",
    "\n",
    "  with open(ssh_key_path, 'w') as f:\n",
    "    f.write(ssh_key)\n",
    "\n",
    "  !chmod 600 {ssh_key_path}\n",
    "\n",
    "  # Add your github.com entry to known_hosts if needed\n",
    "  !ssh-keyscan -t ed25519 github.com >> ~/.ssh/known_hosts"
   ]
  },
  {
   "cell_type": "code",
   "execution_count": null,
   "metadata": {
    "colab": {
     "base_uri": "https://localhost:8080/"
    },
    "id": "_4P0Dqexifx7",
    "outputId": "a4c4ace5-6d1e-4d01-ff9b-a8ebe473bcba"
   },
   "outputs": [
    {
     "name": "stdout",
     "output_type": "stream",
     "text": [
      "Cloning into 'diff_fam_social_memory_ephys'...\n",
      "remote: Enumerating objects: 1160, done.\u001b[K\n",
      "remote: Counting objects: 100% (66/66), done.\u001b[K\n",
      "remote: Compressing objects: 100% (46/46), done.\u001b[K\n",
      "remote: Total 1160 (delta 33), reused 41 (delta 19), pack-reused 1094 (from 1)\u001b[K\n",
      "Receiving objects: 100% (1160/1160), 196.92 MiB | 8.42 MiB/s, done.\n",
      "Resolving deltas: 100% (645/645), done.\n",
      "Updating files: 100% (124/124), done.\n"
     ]
    }
   ],
   "source": [
    "!git clone git@github.com:padillacoreanolab/diff_fam_social_memory_ephys.git"
   ]
  },
  {
   "cell_type": "code",
   "execution_count": null,
   "metadata": {
    "colab": {
     "base_uri": "https://localhost:8080/"
    },
    "id": "gGxcLRY9ioje",
    "outputId": "9301444a-2876-49a0-9e08-65f753d599dc"
   },
   "outputs": [
    {
     "name": "stdout",
     "output_type": "stream",
     "text": [
      "/content/diff_fam_social_memory_ephys/lfp\n"
     ]
    }
   ],
   "source": [
    "%cd diff_fam_social_memory_ephys/lfp"
   ]
  },
  {
   "cell_type": "code",
   "execution_count": null,
   "metadata": {
    "colab": {
     "base_uri": "https://localhost:8080/"
    },
    "id": "Mk1PN0XgizSN",
    "outputId": "f7d04443-db98-46cb-f277-9cb440c5d9a5"
   },
   "outputs": [
    {
     "name": "stdout",
     "output_type": "stream",
     "text": [
      " 01_rce3_extract_lfp_channel_verification_alone_comp.ipynb   meg_input_creation.ipynb\n",
      " abe-scratch.py                                              meg_phase2_analysis.ipynb\n",
      " \u001b[0m\u001b[01;34marchive\u001b[0m/                                                    meg_phase3_analysis.ipynb\n",
      " convert_to_mp4.sh                                           README.md\n",
      " cups_LFP_creation.ipynb                                     rec3.py\n",
      " fucked_lfp_analysis.py                                      requirements-gpu.txt\n",
      " __init__.py                                                 requirements.txt\n",
      " \u001b[01;34minput\u001b[0m/                                                      scratch.ipynb\n",
      " \u001b[01;34mlfp_analysis\u001b[0m/                                               tester.ipynb\n",
      " lfp_analysis.ipynb                                          \u001b[01;34mtests\u001b[0m/\n",
      "'meg_input_creation copy.ipynb'                              \u001b[01;34mtrodes\u001b[0m/\n"
     ]
    }
   ],
   "source": [
    "%ls"
   ]
  },
  {
   "cell_type": "code",
   "execution_count": null,
   "metadata": {
    "colab": {
     "base_uri": "https://localhost:8080/",
     "height": 1000
    },
    "id": "sDBXmoCbi27A",
    "outputId": "3d14ec2d-a963-4928-e676-45e6b26e04fe"
   },
   "outputs": [
    {
     "name": "stdout",
     "output_type": "stream",
     "text": [
      "Collecting h5py==3.11.0 (from -r requirements.txt (line 1))\n",
      "  Downloading h5py-3.11.0-cp310-cp310-manylinux_2_17_x86_64.manylinux2014_x86_64.whl.metadata (2.5 kB)\n",
      "Collecting matplotlib==3.8.4 (from -r requirements.txt (line 2))\n",
      "  Downloading matplotlib-3.8.4-cp310-cp310-manylinux_2_17_x86_64.manylinux2014_x86_64.whl.metadata (5.8 kB)\n",
      "Requirement already satisfied: numpy==1.26.4 in /usr/local/lib/python3.10/dist-packages (from -r requirements.txt (line 3)) (1.26.4)\n",
      "Collecting openpyxl==3.1.2 (from -r requirements.txt (line 4))\n",
      "  Downloading openpyxl-3.1.2-py2.py3-none-any.whl.metadata (2.5 kB)\n",
      "Requirement already satisfied: pandas==2.2.2 in /usr/local/lib/python3.10/dist-packages (from -r requirements.txt (line 5)) (2.2.2)\n",
      "Collecting scikit_learn==1.5.0 (from -r requirements.txt (line 6))\n",
      "  Downloading scikit_learn-1.5.0-cp310-cp310-manylinux_2_17_x86_64.manylinux2014_x86_64.whl.metadata (11 kB)\n",
      "Requirement already satisfied: scipy==1.13.1 in /usr/local/lib/python3.10/dist-packages (from -r requirements.txt (line 7)) (1.13.1)\n",
      "Collecting spectral_connectivity==1.1.2 (from -r requirements.txt (line 8))\n",
      "  Downloading spectral_connectivity-1.1.2-py3-none-any.whl.metadata (1.3 kB)\n",
      "Collecting spikeinterface==0.100.6 (from -r requirements.txt (line 9))\n",
      "  Downloading spikeinterface-0.100.6-py3-none-any.whl.metadata (9.3 kB)\n",
      "Collecting ipykernel==6.29.5 (from -r requirements.txt (line 10))\n",
      "  Downloading ipykernel-6.29.5-py3-none-any.whl.metadata (6.3 kB)\n",
      "Collecting bidict==0.23.1 (from -r requirements.txt (line 11))\n",
      "  Downloading bidict-0.23.1-py3-none-any.whl.metadata (8.7 kB)\n",
      "Collecting requests==2.31.0 (from -r requirements.txt (line 12))\n",
      "  Downloading requests-2.31.0-py3-none-any.whl.metadata (4.6 kB)\n",
      "Collecting tqdm==4.67.0 (from -r requirements.txt (line 13))\n",
      "  Downloading tqdm-4.67.0-py3-none-any.whl.metadata (57 kB)\n",
      "\u001b[2K     \u001b[90m━━━━━━━━━━━━━━━━━━━━━━━━━━━━━━━━━━━━━━━━\u001b[0m \u001b[32m57.6/57.6 kB\u001b[0m \u001b[31m5.2 MB/s\u001b[0m eta \u001b[36m0:00:00\u001b[0m\n",
      "\u001b[?25hRequirement already satisfied: contourpy>=1.0.1 in /usr/local/lib/python3.10/dist-packages (from matplotlib==3.8.4->-r requirements.txt (line 2)) (1.3.1)\n",
      "Requirement already satisfied: cycler>=0.10 in /usr/local/lib/python3.10/dist-packages (from matplotlib==3.8.4->-r requirements.txt (line 2)) (0.12.1)\n",
      "Requirement already satisfied: fonttools>=4.22.0 in /usr/local/lib/python3.10/dist-packages (from matplotlib==3.8.4->-r requirements.txt (line 2)) (4.54.1)\n",
      "Requirement already satisfied: kiwisolver>=1.3.1 in /usr/local/lib/python3.10/dist-packages (from matplotlib==3.8.4->-r requirements.txt (line 2)) (1.4.7)\n",
      "Requirement already satisfied: packaging>=20.0 in /usr/local/lib/python3.10/dist-packages (from matplotlib==3.8.4->-r requirements.txt (line 2)) (24.2)\n",
      "Requirement already satisfied: pillow>=8 in /usr/local/lib/python3.10/dist-packages (from matplotlib==3.8.4->-r requirements.txt (line 2)) (11.0.0)\n",
      "Requirement already satisfied: pyparsing>=2.3.1 in /usr/local/lib/python3.10/dist-packages (from matplotlib==3.8.4->-r requirements.txt (line 2)) (3.2.0)\n",
      "Requirement already satisfied: python-dateutil>=2.7 in /usr/local/lib/python3.10/dist-packages (from matplotlib==3.8.4->-r requirements.txt (line 2)) (2.8.2)\n",
      "Requirement already satisfied: et-xmlfile in /usr/local/lib/python3.10/dist-packages (from openpyxl==3.1.2->-r requirements.txt (line 4)) (2.0.0)\n",
      "Requirement already satisfied: pytz>=2020.1 in /usr/local/lib/python3.10/dist-packages (from pandas==2.2.2->-r requirements.txt (line 5)) (2024.2)\n",
      "Requirement already satisfied: tzdata>=2022.7 in /usr/local/lib/python3.10/dist-packages (from pandas==2.2.2->-r requirements.txt (line 5)) (2024.2)\n",
      "Requirement already satisfied: joblib>=1.2.0 in /usr/local/lib/python3.10/dist-packages (from scikit_learn==1.5.0->-r requirements.txt (line 6)) (1.4.2)\n",
      "Requirement already satisfied: threadpoolctl>=3.1.0 in /usr/local/lib/python3.10/dist-packages (from scikit_learn==1.5.0->-r requirements.txt (line 6)) (3.5.0)\n",
      "Requirement already satisfied: xarray in /usr/local/lib/python3.10/dist-packages (from spectral_connectivity==1.1.2->-r requirements.txt (line 8)) (2024.10.0)\n",
      "Collecting zarr>=0.2.16 (from spikeinterface==0.100.6->-r requirements.txt (line 9))\n",
      "  Downloading zarr-2.18.3-py3-none-any.whl.metadata (5.7 kB)\n",
      "Collecting neo>=0.13.0 (from spikeinterface==0.100.6->-r requirements.txt (line 9))\n",
      "  Downloading neo-0.13.4-py3-none-any.whl.metadata (8.9 kB)\n",
      "Collecting probeinterface>=0.2.21 (from spikeinterface==0.100.6->-r requirements.txt (line 9))\n",
      "  Downloading probeinterface-0.2.24-py3-none-any.whl.metadata (5.3 kB)\n",
      "Collecting comm>=0.1.1 (from ipykernel==6.29.5->-r requirements.txt (line 10))\n",
      "  Downloading comm-0.2.2-py3-none-any.whl.metadata (3.7 kB)\n",
      "Requirement already satisfied: debugpy>=1.6.5 in /usr/local/lib/python3.10/dist-packages (from ipykernel==6.29.5->-r requirements.txt (line 10)) (1.8.0)\n",
      "Requirement already satisfied: ipython>=7.23.1 in /usr/local/lib/python3.10/dist-packages (from ipykernel==6.29.5->-r requirements.txt (line 10)) (7.34.0)\n",
      "Requirement already satisfied: jupyter-client>=6.1.12 in /usr/local/lib/python3.10/dist-packages (from ipykernel==6.29.5->-r requirements.txt (line 10)) (6.1.12)\n",
      "Requirement already satisfied: jupyter-core!=5.0.*,>=4.12 in /usr/local/lib/python3.10/dist-packages (from ipykernel==6.29.5->-r requirements.txt (line 10)) (5.7.2)\n",
      "Requirement already satisfied: matplotlib-inline>=0.1 in /usr/local/lib/python3.10/dist-packages (from ipykernel==6.29.5->-r requirements.txt (line 10)) (0.1.7)\n",
      "Requirement already satisfied: nest-asyncio in /usr/local/lib/python3.10/dist-packages (from ipykernel==6.29.5->-r requirements.txt (line 10)) (1.6.0)\n",
      "Requirement already satisfied: psutil in /usr/local/lib/python3.10/dist-packages (from ipykernel==6.29.5->-r requirements.txt (line 10)) (5.9.5)\n",
      "Requirement already satisfied: pyzmq>=24 in /usr/local/lib/python3.10/dist-packages (from ipykernel==6.29.5->-r requirements.txt (line 10)) (24.0.1)\n",
      "Requirement already satisfied: tornado>=6.1 in /usr/local/lib/python3.10/dist-packages (from ipykernel==6.29.5->-r requirements.txt (line 10)) (6.3.3)\n",
      "Requirement already satisfied: traitlets>=5.4.0 in /usr/local/lib/python3.10/dist-packages (from ipykernel==6.29.5->-r requirements.txt (line 10)) (5.7.1)\n",
      "Requirement already satisfied: charset-normalizer<4,>=2 in /usr/local/lib/python3.10/dist-packages (from requests==2.31.0->-r requirements.txt (line 12)) (3.4.0)\n",
      "Requirement already satisfied: idna<4,>=2.5 in /usr/local/lib/python3.10/dist-packages (from requests==2.31.0->-r requirements.txt (line 12)) (3.10)\n",
      "Requirement already satisfied: urllib3<3,>=1.21.1 in /usr/local/lib/python3.10/dist-packages (from requests==2.31.0->-r requirements.txt (line 12)) (2.2.3)\n",
      "Requirement already satisfied: certifi>=2017.4.17 in /usr/local/lib/python3.10/dist-packages (from requests==2.31.0->-r requirements.txt (line 12)) (2024.8.30)\n",
      "Requirement already satisfied: setuptools>=18.5 in /usr/local/lib/python3.10/dist-packages (from ipython>=7.23.1->ipykernel==6.29.5->-r requirements.txt (line 10)) (75.1.0)\n",
      "Collecting jedi>=0.16 (from ipython>=7.23.1->ipykernel==6.29.5->-r requirements.txt (line 10))\n",
      "  Downloading jedi-0.19.2-py2.py3-none-any.whl.metadata (22 kB)\n",
      "Requirement already satisfied: decorator in /usr/local/lib/python3.10/dist-packages (from ipython>=7.23.1->ipykernel==6.29.5->-r requirements.txt (line 10)) (4.4.2)\n",
      "Requirement already satisfied: pickleshare in /usr/local/lib/python3.10/dist-packages (from ipython>=7.23.1->ipykernel==6.29.5->-r requirements.txt (line 10)) (0.7.5)\n",
      "Requirement already satisfied: prompt-toolkit!=3.0.0,!=3.0.1,<3.1.0,>=2.0.0 in /usr/local/lib/python3.10/dist-packages (from ipython>=7.23.1->ipykernel==6.29.5->-r requirements.txt (line 10)) (3.0.48)\n",
      "Requirement already satisfied: pygments in /usr/local/lib/python3.10/dist-packages (from ipython>=7.23.1->ipykernel==6.29.5->-r requirements.txt (line 10)) (2.18.0)\n",
      "Requirement already satisfied: backcall in /usr/local/lib/python3.10/dist-packages (from ipython>=7.23.1->ipykernel==6.29.5->-r requirements.txt (line 10)) (0.2.0)\n",
      "Requirement already satisfied: pexpect>4.3 in /usr/local/lib/python3.10/dist-packages (from ipython>=7.23.1->ipykernel==6.29.5->-r requirements.txt (line 10)) (4.9.0)\n",
      "Requirement already satisfied: platformdirs>=2.5 in /usr/local/lib/python3.10/dist-packages (from jupyter-core!=5.0.*,>=4.12->ipykernel==6.29.5->-r requirements.txt (line 10)) (4.3.6)\n",
      "Collecting quantities>=0.16.1 (from neo>=0.13.0->spikeinterface==0.100.6->-r requirements.txt (line 9))\n",
      "  Downloading quantities-0.16.1-py3-none-any.whl.metadata (8.4 kB)\n",
      "Requirement already satisfied: six>=1.5 in /usr/local/lib/python3.10/dist-packages (from python-dateutil>=2.7->matplotlib==3.8.4->-r requirements.txt (line 2)) (1.16.0)\n",
      "Collecting asciitree (from zarr>=0.2.16->spikeinterface==0.100.6->-r requirements.txt (line 9))\n",
      "  Downloading asciitree-0.3.3.tar.gz (4.0 kB)\n",
      "  Preparing metadata (setup.py) ... \u001b[?25l\u001b[?25hdone\n",
      "Collecting numcodecs>=0.10.0 (from zarr>=0.2.16->spikeinterface==0.100.6->-r requirements.txt (line 9))\n",
      "  Downloading numcodecs-0.13.1-cp310-cp310-manylinux_2_17_x86_64.manylinux2014_x86_64.whl.metadata (2.9 kB)\n",
      "Collecting fasteners (from zarr>=0.2.16->spikeinterface==0.100.6->-r requirements.txt (line 9))\n",
      "  Downloading fasteners-0.19-py3-none-any.whl.metadata (4.9 kB)\n",
      "Requirement already satisfied: parso<0.9.0,>=0.8.4 in /usr/local/lib/python3.10/dist-packages (from jedi>=0.16->ipython>=7.23.1->ipykernel==6.29.5->-r requirements.txt (line 10)) (0.8.4)\n",
      "Requirement already satisfied: ptyprocess>=0.5 in /usr/local/lib/python3.10/dist-packages (from pexpect>4.3->ipython>=7.23.1->ipykernel==6.29.5->-r requirements.txt (line 10)) (0.7.0)\n",
      "Requirement already satisfied: wcwidth in /usr/local/lib/python3.10/dist-packages (from prompt-toolkit!=3.0.0,!=3.0.1,<3.1.0,>=2.0.0->ipython>=7.23.1->ipykernel==6.29.5->-r requirements.txt (line 10)) (0.2.13)\n",
      "Downloading h5py-3.11.0-cp310-cp310-manylinux_2_17_x86_64.manylinux2014_x86_64.whl (5.3 MB)\n",
      "\u001b[2K   \u001b[90m━━━━━━━━━━━━━━━━━━━━━━━━━━━━━━━━━━━━━━━━\u001b[0m \u001b[32m5.3/5.3 MB\u001b[0m \u001b[31m102.3 MB/s\u001b[0m eta \u001b[36m0:00:00\u001b[0m\n",
      "\u001b[?25hDownloading matplotlib-3.8.4-cp310-cp310-manylinux_2_17_x86_64.manylinux2014_x86_64.whl (11.6 MB)\n",
      "\u001b[2K   \u001b[90m━━━━━━━━━━━━━━━━━━━━━━━━━━━━━━━━━━━━━━━━\u001b[0m \u001b[32m11.6/11.6 MB\u001b[0m \u001b[31m120.8 MB/s\u001b[0m eta \u001b[36m0:00:00\u001b[0m\n",
      "\u001b[?25hDownloading openpyxl-3.1.2-py2.py3-none-any.whl (249 kB)\n",
      "\u001b[2K   \u001b[90m━━━━━━━━━━━━━━━━━━━━━━━━━━━━━━━━━━━━━━━━\u001b[0m \u001b[32m250.0/250.0 kB\u001b[0m \u001b[31m21.4 MB/s\u001b[0m eta \u001b[36m0:00:00\u001b[0m\n",
      "\u001b[?25hDownloading scikit_learn-1.5.0-cp310-cp310-manylinux_2_17_x86_64.manylinux2014_x86_64.whl (13.3 MB)\n",
      "\u001b[2K   \u001b[90m━━━━━━━━━━━━━━━━━━━━━━━━━━━━━━━━━━━━━━━━\u001b[0m \u001b[32m13.3/13.3 MB\u001b[0m \u001b[31m77.3 MB/s\u001b[0m eta \u001b[36m0:00:00\u001b[0m\n",
      "\u001b[?25hDownloading spectral_connectivity-1.1.2-py3-none-any.whl (50 kB)\n",
      "\u001b[2K   \u001b[90m━━━━━━━━━━━━━━━━━━━━━━━━━━━━━━━━━━━━━━━━\u001b[0m \u001b[32m50.6/50.6 kB\u001b[0m \u001b[31m3.9 MB/s\u001b[0m eta \u001b[36m0:00:00\u001b[0m\n",
      "\u001b[?25hDownloading spikeinterface-0.100.6-py3-none-any.whl (803 kB)\n",
      "\u001b[2K   \u001b[90m━━━━━━━━━━━━━━━━━━━━━━━━━━━━━━━━━━━━━━━━\u001b[0m \u001b[32m803.1/803.1 kB\u001b[0m \u001b[31m46.8 MB/s\u001b[0m eta \u001b[36m0:00:00\u001b[0m\n",
      "\u001b[?25hDownloading ipykernel-6.29.5-py3-none-any.whl (117 kB)\n",
      "\u001b[2K   \u001b[90m━━━━━━━━━━━━━━━━━━━━━━━━━━━━━━━━━━━━━━━━\u001b[0m \u001b[32m117.2/117.2 kB\u001b[0m \u001b[31m10.6 MB/s\u001b[0m eta \u001b[36m0:00:00\u001b[0m\n",
      "\u001b[?25hDownloading bidict-0.23.1-py3-none-any.whl (32 kB)\n",
      "Downloading requests-2.31.0-py3-none-any.whl (62 kB)\n",
      "\u001b[2K   \u001b[90m━━━━━━━━━━━━━━━━━━━━━━━━━━━━━━━━━━━━━━━━\u001b[0m \u001b[32m62.6/62.6 kB\u001b[0m \u001b[31m5.9 MB/s\u001b[0m eta \u001b[36m0:00:00\u001b[0m\n",
      "\u001b[?25hDownloading tqdm-4.67.0-py3-none-any.whl (78 kB)\n",
      "\u001b[2K   \u001b[90m━━━━━━━━━━━━━━━━━━━━━━━━━━━━━━━━━━━━━━━━\u001b[0m \u001b[32m78.6/78.6 kB\u001b[0m \u001b[31m8.0 MB/s\u001b[0m eta \u001b[36m0:00:00\u001b[0m\n",
      "\u001b[?25hDownloading comm-0.2.2-py3-none-any.whl (7.2 kB)\n",
      "Downloading neo-0.13.4-py3-none-any.whl (655 kB)\n",
      "\u001b[2K   \u001b[90m━━━━━━━━━━━━━━━━━━━━━━━━━━━━━━━━━━━━━━━━\u001b[0m \u001b[32m655.1/655.1 kB\u001b[0m \u001b[31m44.9 MB/s\u001b[0m eta \u001b[36m0:00:00\u001b[0m\n",
      "\u001b[?25hDownloading probeinterface-0.2.24-py3-none-any.whl (45 kB)\n",
      "\u001b[2K   \u001b[90m━━━━━━━━━━━━━━━━━━━━━━━━━━━━━━━━━━━━━━━━\u001b[0m \u001b[32m45.5/45.5 kB\u001b[0m \u001b[31m4.2 MB/s\u001b[0m eta \u001b[36m0:00:00\u001b[0m\n",
      "\u001b[?25hDownloading zarr-2.18.3-py3-none-any.whl (210 kB)\n",
      "\u001b[2K   \u001b[90m━━━━━━━━━━━━━━━━━━━━━━━━━━━━━━━━━━━━━━━━\u001b[0m \u001b[32m210.7/210.7 kB\u001b[0m \u001b[31m20.0 MB/s\u001b[0m eta \u001b[36m0:00:00\u001b[0m\n",
      "\u001b[?25hDownloading jedi-0.19.2-py2.py3-none-any.whl (1.6 MB)\n",
      "\u001b[2K   \u001b[90m━━━━━━━━━━━━━━━━━━━━━━━━━━━━━━━━━━━━━━━━\u001b[0m \u001b[32m1.6/1.6 MB\u001b[0m \u001b[31m60.9 MB/s\u001b[0m eta \u001b[36m0:00:00\u001b[0m\n",
      "\u001b[?25hDownloading numcodecs-0.13.1-cp310-cp310-manylinux_2_17_x86_64.manylinux2014_x86_64.whl (8.6 MB)\n",
      "\u001b[2K   \u001b[90m━━━━━━━━━━━━━━━━━━━━━━━━━━━━━━━━━━━━━━━━\u001b[0m \u001b[32m8.6/8.6 MB\u001b[0m \u001b[31m23.2 MB/s\u001b[0m eta \u001b[36m0:00:00\u001b[0m\n",
      "\u001b[?25hDownloading quantities-0.16.1-py3-none-any.whl (102 kB)\n",
      "\u001b[2K   \u001b[90m━━━━━━━━━━━━━━━━━━━━━━━━━━━━━━━━━━━━━━━━\u001b[0m \u001b[32m102.4/102.4 kB\u001b[0m \u001b[31m8.3 MB/s\u001b[0m eta \u001b[36m0:00:00\u001b[0m\n",
      "\u001b[?25hDownloading fasteners-0.19-py3-none-any.whl (18 kB)\n",
      "Building wheels for collected packages: asciitree\n",
      "  Building wheel for asciitree (setup.py) ... \u001b[?25l\u001b[?25hdone\n",
      "  Created wheel for asciitree: filename=asciitree-0.3.3-py3-none-any.whl size=5034 sha256=38014423d97e7119e87d5fcdb4df7fa1170140fa6ee10190a00690d6d8584158\n",
      "  Stored in directory: /root/.cache/pip/wheels/7f/4e/be/1171b40f43b918087657ec57cf3b81fa1a2e027d8755baa184\n",
      "Successfully built asciitree\n",
      "Installing collected packages: asciitree, tqdm, requests, quantities, probeinterface, openpyxl, numcodecs, jedi, h5py, fasteners, comm, bidict, zarr, scikit_learn, neo, matplotlib, spikeinterface, ipykernel, spectral_connectivity\n",
      "  Attempting uninstall: tqdm\n",
      "    Found existing installation: tqdm 4.66.6\n",
      "    Uninstalling tqdm-4.66.6:\n",
      "      Successfully uninstalled tqdm-4.66.6\n",
      "  Attempting uninstall: requests\n",
      "    Found existing installation: requests 2.32.3\n",
      "    Uninstalling requests-2.32.3:\n",
      "      Successfully uninstalled requests-2.32.3\n",
      "  Attempting uninstall: openpyxl\n",
      "    Found existing installation: openpyxl 3.1.5\n",
      "    Uninstalling openpyxl-3.1.5:\n",
      "      Successfully uninstalled openpyxl-3.1.5\n",
      "  Attempting uninstall: h5py\n",
      "    Found existing installation: h5py 3.12.1\n",
      "    Uninstalling h5py-3.12.1:\n",
      "      Successfully uninstalled h5py-3.12.1\n",
      "  Attempting uninstall: scikit_learn\n",
      "    Found existing installation: scikit-learn 1.5.2\n",
      "    Uninstalling scikit-learn-1.5.2:\n",
      "      Successfully uninstalled scikit-learn-1.5.2\n",
      "  Attempting uninstall: matplotlib\n",
      "    Found existing installation: matplotlib 3.8.0\n",
      "    Uninstalling matplotlib-3.8.0:\n",
      "      Successfully uninstalled matplotlib-3.8.0\n",
      "  Attempting uninstall: ipykernel\n",
      "    Found existing installation: ipykernel 5.5.6\n",
      "    Uninstalling ipykernel-5.5.6:\n",
      "      Successfully uninstalled ipykernel-5.5.6\n",
      "\u001b[31mERROR: pip's dependency resolver does not currently take into account all the packages that are installed. This behaviour is the source of the following dependency conflicts.\n",
      "google-colab 1.0.0 requires ipykernel==5.5.6, but you have ipykernel 6.29.5 which is incompatible.\n",
      "google-colab 1.0.0 requires requests==2.32.3, but you have requests 2.31.0 which is incompatible.\u001b[0m\u001b[31m\n",
      "\u001b[0mSuccessfully installed asciitree-0.3.3 bidict-0.23.1 comm-0.2.2 fasteners-0.19 h5py-3.11.0 ipykernel-6.29.5 jedi-0.19.2 matplotlib-3.8.4 neo-0.13.4 numcodecs-0.13.1 openpyxl-3.1.2 probeinterface-0.2.24 quantities-0.16.1 requests-2.31.0 scikit_learn-1.5.0 spectral_connectivity-1.1.2 spikeinterface-0.100.6 tqdm-4.67.0 zarr-2.18.3\n"
     ]
    },
    {
     "data": {
      "application/vnd.colab-display-data+json": {
       "id": "56e4c556669a45c597321f3ed763f9a3",
       "pip_warning": {
        "packages": [
         "matplotlib",
         "mpl_toolkits"
        ]
       }
      }
     },
     "metadata": {},
     "output_type": "display_data"
    }
   ],
   "source": [
    "!pip install -r requirements.txt"
   ]
  },
  {
   "cell_type": "code",
   "execution_count": null,
   "metadata": {
    "colab": {
     "base_uri": "https://localhost:8080/"
    },
    "id": "Zwjo1iMxmdSG",
    "outputId": "1b2e31cd-c3e1-43d6-f4d4-c91f379f2658"
   },
   "outputs": [
    {
     "name": "stdout",
     "output_type": "stream",
     "text": [
      "Downloading Example Recording...\n",
      "Extracting files to... tests/test_data\n",
      "Renamed file to: tests/test_data/Example_Recording/example_recording_merged.rec\n",
      "Renamed file to: tests/test_data/Example_Recording/example_recording_merged.trodesconf\n",
      "Download and extraction complete!\n"
     ]
    }
   ],
   "source": [
    "!python -m tests.utils download_test_data"
   ]
  },
  {
   "cell_type": "code",
   "execution_count": null,
   "metadata": {
    "colab": {
     "base_uri": "https://localhost:8080/"
    },
    "id": "RTGRi2x5i-_V",
    "outputId": "9987d5e7-0e17-45db-e769-0bf47e385647"
   },
   "outputs": [
    {
     "name": "stdout",
     "output_type": "stream",
     "text": [
      "...Processing example_recording_merged.rec\n",
      "/content/diff_fam_social_memory_ephys/lfp/trodes/read_exported.py:168: FutureWarning: Passing (type, 1) or '1type' as a synonym of type is deprecated; in a future version of numpy, it will be understood as (type, (1,)) / '(1,)type'.\n",
      "  return np.dtype(dtype_spec)\n",
      "Found first timestamp\n",
      "Found first timestamp\n",
      "Processing example_recording_merged.rec\n",
      "Found first timestamp\n",
      "Found first timestamp\n",
      ".Processing example_recording_merged.rec\n",
      "Found first timestamp\n",
      "Found first timestamp\n",
      ".Processing example_recording_merged.rec\n",
      "Found first timestamp\n",
      "Found first timestamp\n",
      ".Processing example_recording_merged.rec\n",
      "Found first timestamp\n",
      "Found first timestamp\n",
      ".sampling freq 200\n",
      "half bandwidth 2\n",
      "duration 1\n",
      "step 0.5\n",
      "sampling freq 200\n",
      "half bandwidth 2\n",
      "duration 1\n",
      "step 0.5\n",
      "Power Calculated\n",
      "sampling freq 200\n",
      "half bandwidth 2\n",
      "duration 1\n",
      "step 0.5\n",
      "Coherence calcualatd\n",
      "......\n",
      "----------------------------------------------------------------------\n",
      "Ran 13 tests in 35.465s\n",
      "\n",
      "OK\n"
     ]
    }
   ],
   "source": [
    "!python -m unittest discover"
   ]
  },
  {
   "cell_type": "code",
   "execution_count": null,
   "metadata": {
    "id": "6gZ3lf6fLy_L"
   },
   "outputs": [],
   "source": [
    "\n",
    "import numpy as np\n",
    "import cupy as cp\n",
    "\n",
    "\n",
    "\n",
    "x_gpu = cp.array([1, 2, 3])\n",
    "l2_gpu = cp.linalg.norm(x_gpu)"
   ]
  },
  {
   "cell_type": "code",
   "execution_count": null,
   "metadata": {
    "colab": {
     "base_uri": "https://localhost:8080/"
    },
    "id": "BfRBvTay4Duw",
    "outputId": "225ccb77-c262-4bb5-83af-2672e776bb94"
   },
   "outputs": [
    {
     "name": "stdout",
     "output_type": "stream",
     "text": [
      "env: SPECTRAL_CONNECTIVITY_ENABLE_GPU=true\n"
     ]
    }
   ],
   "source": [
    "%env SPECTRAL_CONNECTIVITY_ENABLE_GPU=true"
   ]
  },
  {
   "cell_type": "code",
   "execution_count": null,
   "metadata": {
    "id": "an1ntx4eENGj"
   },
   "outputs": [],
   "source": [
    "import numpy as xp\n",
    "from scipy.fft import ifft\n",
    "from scipy.sparse.linalg import svds"
   ]
  },
  {
   "cell_type": "markdown",
   "metadata": {
    "id": "QqHyhAgjK33H"
   },
   "source": []
  },
  {
   "cell_type": "code",
   "execution_count": null,
   "metadata": {
    "colab": {
     "base_uri": "https://localhost:8080/"
    },
    "id": "aY56m64XEsNy",
    "outputId": "bb3aa6f8-b66a-4c87-9d48-fc2e6f5eb787"
   },
   "outputs": [
    {
     "name": "stdout",
     "output_type": "stream",
     "text": [
      "USING GRAPHICS\n"
     ]
    }
   ],
   "source": [
    "import logging\n",
    "import os\n",
    "logger = logging.getLogger(__name__)\n",
    "if os.environ.get(\"SPECTRAL_CONNECTIVITY_ENABLE_GPU\") == \"true\":\n",
    "    try:\n",
    "        logger.info(\"Using GPU for spectral_connectivity...\")\n",
    "        print(\"USING GRAPHICS\")\n",
    "\n",
    "    except ImportError:\n",
    "        print(\n",
    "            \"Cupy not installed. Cupy is needed to use GPU for \"\n",
    "            \"spectral_connectivity.\"\n",
    "        )\n",
    "        import numpy as xp\n",
    "        from scipy.fft import ifft\n",
    "        from scipy.sparse.linalg import svds\n",
    "else:\n",
    "    print(\"USING CPU\")\n",
    "    logger.info(\"Using CPU for spectral_connectivity...\")\n",
    "    import numpy as xp\n",
    "    from scipy.fft import ifft\n",
    "    from scipy.sparse.linalg import svds"
   ]
  },
  {
   "cell_type": "code",
   "execution_count": null,
   "metadata": {
    "colab": {
     "base_uri": "https://localhost:8080/",
     "height": 306
    },
    "id": "fWzn0UhC6FFI",
    "outputId": "b99617f0-e345-4867-df22-47590d71d394"
   },
   "outputs": [
    {
     "data": {
      "text/plain": [
       "Text(0.5, 1.0, 'Frequency Domain')"
      ]
     },
     "execution_count": 14,
     "metadata": {},
     "output_type": "execute_result"
    },
    {
     "data": {
      "image/png": "[encoded data removed]",
      "text/plain": [
       "<Figure size 1500x600 with 2 Axes>"
      ]
     },
     "metadata": {},
     "output_type": "display_data"
    }
   ],
   "source": [
    "import numpy as np\n",
    "import matplotlib.pyplot as plt\n",
    "\n",
    "from spectral_connectivity import Multitaper\n",
    "from spectral_connectivity import Connectivity\n",
    "from spectral_connectivity import multitaper_connectivity\n",
    "# Simulate signal with noise\n",
    "frequency_of_interest = 200\n",
    "sampling_frequency = 1500\n",
    "time_extent = (0, 50)\n",
    "n_time_samples = ((time_extent[1] - time_extent[0]) * sampling_frequency) + 1\n",
    "time = np.linspace(time_extent[0], time_extent[1], num=n_time_samples, endpoint=True)\n",
    "signal = np.sin(2 * np.pi * time * frequency_of_interest)\n",
    "noise = np.random.normal(0, 4, len(signal))\n",
    "\n",
    "# Plot\n",
    "fig, axes = plt.subplots(1, 2, figsize=(15, 6))\n",
    "\n",
    "axes[0].plot(time[:100], signal[:100], label=\"Signal\", zorder=3)\n",
    "axes[0].plot(time[:100], signal[:100] + noise[:100], label=\"Signal + Noise\")\n",
    "axes[0].legend()\n",
    "axes[0].set_title(\"Time Domain\")\n",
    "\n",
    "multitaper = Multitaper(\n",
    "    signal + noise,\n",
    "    sampling_frequency=sampling_frequency,\n",
    "    time_halfbandwidth_product=3,\n",
    "    start_time=time[0],\n",
    ")\n",
    "connectivity = Connectivity.from_multitaper(multitaper)\n",
    "\n",
    "axes[1].plot(connectivity.frequencies, connectivity.power().squeeze())\n",
    "axes[1].set_title(\"Frequency Domain\")"
   ]
  },
  {
   "cell_type": "code",
   "execution_count": 4,
   "metadata": {
    "colab": {
     "base_uri": "https://localhost:8080/",
     "height": 507
    },
    "id": "h1y5X72M7mAU",
    "outputId": "f3d27bf2-9801-4ce6-e868-f621b2071f72"
   },
   "outputs": [
    {
     "name": "stdout",
     "output_type": "stream",
     "text": [
      "Processing 11_cups_p4_merged.rec\n",
      "Found first timestamp\n"
     ]
    },
    {
     "ename": "AttributeError",
     "evalue": "'LFPRecording' object has no attribute 'get_rms_traces'",
     "output_type": "error",
     "traceback": [
      "\u001b[1;31m---------------------------------------------------------------------------\u001b[0m",
      "\u001b[1;31mAttributeError\u001b[0m                            Traceback (most recent call last)",
      "Cell \u001b[1;32mIn[4], line 8\u001b[0m\n\u001b[0;32m      3\u001b[0m merged_path \u001b[38;5;241m=\u001b[39m \u001b[38;5;124mr\u001b[39m\u001b[38;5;124m\"\u001b[39m\u001b[38;5;124mC:\u001b[39m\u001b[38;5;124m\\\u001b[39m\u001b[38;5;124mUsers\u001b[39m\u001b[38;5;124m\\\u001b[39m\u001b[38;5;124mPadilla-Coreano\u001b[39m\u001b[38;5;124m\\\u001b[39m\u001b[38;5;124mUFL Dropbox\u001b[39m\u001b[38;5;124m\\\u001b[39m\u001b[38;5;124mCaroline De Paula Cunha Almeida\u001b[39m\u001b[38;5;124m\\\u001b[39m\u001b[38;5;124mPadilla-Coreano Lab\u001b[39m\u001b[38;5;124m\\\u001b[39m\u001b[38;5;124m2024\u001b[39m\u001b[38;5;124m\\\u001b[39m\u001b[38;5;124mCum_SocialMemEphys_pilot2\u001b[39m\u001b[38;5;124m\\\u001b[39m\u001b[38;5;124mCups\u001b[39m\u001b[38;5;124m\\\u001b[39m\u001b[38;5;124m11_cups_p4.rec\u001b[39m\u001b[38;5;124m\\\u001b[39m\u001b[38;5;124m11_cups_p4_merged.rec\u001b[39m\u001b[38;5;124m\"\u001b[39m\n\u001b[0;32m      6\u001b[0m rec_test \u001b[38;5;241m=\u001b[39m LFPRecording(\u001b[38;5;124m'\u001b[39m\u001b[38;5;124m1.1\u001b[39m\u001b[38;5;124m'\u001b[39m,{}, {\u001b[38;5;124m\"\u001b[39m\u001b[38;5;124mmPFC\u001b[39m\u001b[38;5;124m\"\u001b[39m: \u001b[38;5;241m1\u001b[39m, \u001b[38;5;124m\"\u001b[39m\u001b[38;5;124mvHPC\u001b[39m\u001b[38;5;124m\"\u001b[39m: \u001b[38;5;241m31\u001b[39m, \u001b[38;5;124m\"\u001b[39m\u001b[38;5;124mBLA\u001b[39m\u001b[38;5;124m\"\u001b[39m: \u001b[38;5;241m30\u001b[39m, \u001b[38;5;124m\"\u001b[39m\u001b[38;5;124mNAc\u001b[39m\u001b[38;5;124m\"\u001b[39m: \u001b[38;5;241m28\u001b[39m, \u001b[38;5;124m\"\u001b[39m\u001b[38;5;124mMD\u001b[39m\u001b[38;5;124m\"\u001b[39m: \u001b[38;5;241m29\u001b[39m}, merged_path, \u001b[38;5;124mr\u001b[39m\u001b[38;5;124m\"\u001b[39m\u001b[38;5;124mC:\u001b[39m\u001b[38;5;124m\\\u001b[39m\u001b[38;5;124mUsers\u001b[39m\u001b[38;5;124m\\\u001b[39m\u001b[38;5;124mPadilla-Coreano\u001b[39m\u001b[38;5;124m\\\u001b[39m\u001b[38;5;124mDesktop\u001b[39m\u001b[38;5;124m\\\u001b[39m\u001b[38;5;124mTrodes_2-4-0_Windows64\u001b[39m\u001b[38;5;124m\"\u001b[39m)\n\u001b[1;32m----> 8\u001b[0m rms_traces \u001b[38;5;241m=\u001b[39m \u001b[43mrec_test\u001b[49m\u001b[38;5;241;43m.\u001b[39;49m\u001b[43mget_rms_traces\u001b[49m()\n\u001b[0;32m      9\u001b[0m rec_test\u001b[38;5;241m.\u001b[39mplot_to_find_threshold(threshold \u001b[38;5;241m=\u001b[39m \u001b[38;5;241m4\u001b[39m)\n",
      "\u001b[1;31mAttributeError\u001b[0m: 'LFPRecording' object has no attribute 'get_rms_traces'"
     ]
    }
   ],
   "source": [
    "from lfp_analysis.LFP_recording import LFPRecording\n",
    "\n",
    "merged_path = r\"C:\\Users\\Padilla-Coreano\\UFL Dropbox\\Caroline De Paula Cunha Almeida\\Padilla-Coreano Lab\\2024\\Cum_SocialMemEphys_pilot2\\Cups\\11_cups_p4.rec\\11_cups_p4_merged.rec\"\n",
    "\n",
    "\n",
    "rec_test = LFPRecording('1.1',{}, {\"mPFC\": 1, \"vHPC\": 31, \"BLA\": 30, \"NAc\": 28, \"MD\": 29}, merged_path, r\"C:\\Users\\Padilla-Coreano\\Desktop\\Trodes_2-4-0_Windows64\")\n",
    "\n",
    "rms_traces = rec_test.get_rms_traces()\n",
    "rec_test.plot_to_find_threshold(threshold = 4)"
   ]
  },
  {
   "cell_type": "code",
   "execution_count": null,
   "metadata": {
    "id": "MiGOL74G90Ei"
   },
   "outputs": [],
   "source": [
    "I_HAVE_PLOTTED_AND_THIS_LOOKS_GOOD = 4\n",
    "rec_test.process(I_HAVE_PLOTTED_AND_THIS_LOOKS_GOOD)"
   ]
  },
  {
   "cell_type": "code",
   "execution_count": null,
   "metadata": {
    "id": "Adi97Oyu9Qve"
   },
   "outputs": [],
   "source": [
    "import matplotlib.pyplot as plt\n",
    "import numpy as np\n",
    "\n",
    "fig, axes = plt.subplots(1, 2, figsize=(15, 6))\n",
    "\n",
    "axes[0].plot(rec_test.rms_traces[0].T)\n",
    "axes[0].set_title(\"Time Domain\")\n",
    "#connectivity.power.() = [timebins, frequencies, signal]\n",
    "average_power = np.mean(rec_test.power, axis = 0)\n",
    "print(average_power.shape)\n",
    "axes[1].plot(rec_test.frequencies[0:100], average_power[0:100, 0])\n",
    "axes[1].set_xlabel(\"Frequency\")\n",
    "axes[1].set_ylabel(\"Power\")"
   ]
  },
  {
   "cell_type": "code",
   "execution_count": 2,
   "metadata": {},
   "outputs": [
    {
     "ename": "ImportError",
     "evalue": "DLL load failed while importing cublas: The specified module could not be found.",
     "output_type": "error",
     "traceback": [
      "\u001b[1;31m---------------------------------------------------------------------------\u001b[0m",
      "\u001b[1;31mImportError\u001b[0m                               Traceback (most recent call last)",
      "Cell \u001b[1;32mIn[2], line 1\u001b[0m\n\u001b[1;32m----> 1\u001b[0m \u001b[38;5;28;01mfrom\u001b[39;00m \u001b[38;5;21;01mcupy\u001b[39;00m \u001b[38;5;28;01mimport\u001b[39;00m cublas\n",
      "File \u001b[1;32mc:\\Users\\Padilla-Coreano\\.conda\\envs\\ephy_analysis\\Lib\\site-packages\\cupy\\cublas.py:8\u001b[0m\n\u001b[0;32m      6\u001b[0m \u001b[38;5;28;01mimport\u001b[39;00m \u001b[38;5;21;01mcupy\u001b[39;00m\n\u001b[0;32m      7\u001b[0m \u001b[38;5;28;01mfrom\u001b[39;00m \u001b[38;5;21;01mcupy\u001b[39;00m \u001b[38;5;28;01mimport\u001b[39;00m _core\n\u001b[1;32m----> 8\u001b[0m \u001b[38;5;28;01mfrom\u001b[39;00m \u001b[38;5;21;01mcupy_backends\u001b[39;00m\u001b[38;5;21;01m.\u001b[39;00m\u001b[38;5;21;01mcuda\u001b[39;00m\u001b[38;5;21;01m.\u001b[39;00m\u001b[38;5;21;01mlibs\u001b[39;00m \u001b[38;5;28;01mimport\u001b[39;00m cublas\n\u001b[0;32m      9\u001b[0m \u001b[38;5;28;01mfrom\u001b[39;00m \u001b[38;5;21;01mcupy\u001b[39;00m\u001b[38;5;21;01m.\u001b[39;00m\u001b[38;5;21;01mcuda\u001b[39;00m \u001b[38;5;28;01mimport\u001b[39;00m device\n\u001b[0;32m     10\u001b[0m \u001b[38;5;28;01mfrom\u001b[39;00m \u001b[38;5;21;01mcupy\u001b[39;00m\u001b[38;5;21;01m.\u001b[39;00m\u001b[38;5;21;01mlinalg\u001b[39;00m \u001b[38;5;28;01mimport\u001b[39;00m _util\n",
      "\u001b[1;31mImportError\u001b[0m: DLL load failed while importing cublas: The specified module could not be found."
     ]
    }
   ],
   "source": [
    "from cupy import cublas"
   ]
  },
  {
   "cell_type": "code",
   "execution_count": 1,
   "metadata": {},
   "outputs": [
    {
     "name": "stdout",
     "output_type": "stream",
     "text": [
      "env: CUDA_PATH=C:\\\\Program Files\\\\NVIDIA GPU Computing Toolkit\\\\CUDA\\\\v12.6\\\\bin\n"
     ]
    }
   ],
   "source": [
    "%env CUDA_PATH=C:\\\\Program Files\\\\NVIDIA GPU Computing Toolkit\\\\CUDA\\\\v12.6\\\\bin"
   ]
  },
  {
   "cell_type": "code",
   "execution_count": 1,
   "metadata": {},
   "outputs": [
    {
     "ename": "KeyError",
     "evalue": "'CUDA_PATH'",
     "output_type": "error",
     "traceback": [
      "\u001b[1;31m---------------------------------------------------------------------------\u001b[0m",
      "\u001b[1;31mKeyError\u001b[0m                                  Traceback (most recent call last)",
      "Cell \u001b[1;32mIn[1], line 2\u001b[0m\n\u001b[0;32m      1\u001b[0m \u001b[38;5;28;01mimport\u001b[39;00m \u001b[38;5;21;01mos\u001b[39;00m\n\u001b[1;32m----> 2\u001b[0m \u001b[38;5;28mprint\u001b[39m(\u001b[38;5;124m'\u001b[39m\u001b[38;5;124mAdd DLL path \u001b[39m\u001b[38;5;132;01m{}\u001b[39;00m\u001b[38;5;124m'\u001b[39m\u001b[38;5;241m.\u001b[39mformat(os\u001b[38;5;241m.\u001b[39mpath\u001b[38;5;241m.\u001b[39mjoin(\u001b[43mos\u001b[49m\u001b[38;5;241;43m.\u001b[39;49m\u001b[43menviron\u001b[49m\u001b[43m[\u001b[49m\u001b[38;5;124;43m'\u001b[39;49m\u001b[38;5;124;43mCUDA_PATH\u001b[39;49m\u001b[38;5;124;43m'\u001b[39;49m\u001b[43m]\u001b[49m, \u001b[38;5;124m'\u001b[39m\u001b[38;5;124mbin\u001b[39m\u001b[38;5;124m'\u001b[39m)))\n",
      "File \u001b[1;32m<frozen os>:685\u001b[0m, in \u001b[0;36m__getitem__\u001b[1;34m(self, key)\u001b[0m\n",
      "\u001b[1;31mKeyError\u001b[0m: 'CUDA_PATH'"
     ]
    }
   ],
   "source": [
    "import os\n",
    "print('Add DLL path {}'.format(os.path.join(os.environ['CUDA_PATH'], 'bin')))"
   ]
  },
  {
   "cell_type": "code",
   "execution_count": 3,
   "metadata": {
    "id": "9i-gF2C5CpJn"
   },
   "outputs": [],
   "source": [
    "import cupy as xp\n",
    "from cupyx.scipy.fft import ifft\n",
    "from cupyx.scipy.sparse.linalg import svds"
   ]
  },
  {
   "cell_type": "code",
   "execution_count": 8,
   "metadata": {},
   "outputs": [
    {
     "data": {
      "text/plain": [
       "array(14)"
      ]
     },
     "execution_count": 8,
     "metadata": {},
     "output_type": "execute_result"
    }
   ],
   "source": [
    "a  = xp.array([1,2,3])\n",
    "xp.matmul(a, a.T)"
   ]
  },
  {
   "cell_type": "code",
   "execution_count": 1,
   "metadata": {
    "id": "-e7ecaPMPtPn"
   },
   "outputs": [
    {
     "name": "stderr",
     "output_type": "stream",
     "text": [
      "c:\\Users\\Padilla-Coreano\\.conda\\envs\\ephy_analysis\\Lib\\site-packages\\tqdm\\auto.py:21: TqdmWarning: IProgress not found. Please update jupyter and ipywidgets. See https://ipywidgets.readthedocs.io/en/stable/user_install.html\n",
      "  from .autonotebook import tqdm as notebook_tqdm\n",
      "c:\\Users\\Padilla-Coreano\\.conda\\envs\\ephy_analysis\\Lib\\site-packages\\pandas\\core\\arrays\\masked.py:60: UserWarning: Pandas requires version '1.3.6' or newer of 'bottleneck' (version '1.3.5' currently installed).\n",
      "  from pandas.core import (\n"
     ]
    }
   ],
   "source": [
    "\n",
    "\n",
    "import spikeinterface.extractors as se\n",
    "import spikeinterface.preprocessing as sp\n",
    "merged_path = r\"C:\\Users\\Padilla-Coreano\\UFL Dropbox\\Caroline De Paula Cunha Almeida\\Padilla-Coreano Lab\\2024\\Cum_SocialMemEphys_pilot2\\Cups\\11_cups_p4.rec\\11_cups_p4_merged.rec\"\n",
    "recording = se.read_spikegadgets(merged_path, stream_id=\"trodes\")\n",
    "recording = sp.resample(recording, resample_rate=1000)\n",
    "traces = recording.get_traces(channel_ids=[str(x) for x in range(25, 31)])"
   ]
  },
  {
   "cell_type": "code",
   "execution_count": 6,
   "metadata": {
    "colab": {
     "base_uri": "https://localhost:8080/"
    },
    "id": "xw4S82WCO-kt",
    "outputId": "402a7d49-737b-4424-e2f0-4de30dc90876"
   },
   "outputs": [
    {
     "name": "stdout",
     "output_type": "stream",
     "text": [
      "Collecting ipython-autotime\n",
      "  Downloading ipython_autotime-0.3.2-py2.py3-none-any.whl.metadata (1.4 kB)\n",
      "Requirement already satisfied: ipython in c:\\users\\padilla-coreano\\.conda\\envs\\ephy_analysis\\lib\\site-packages (from ipython-autotime) (8.26.0)\n",
      "Requirement already satisfied: decorator in c:\\users\\padilla-coreano\\.conda\\envs\\ephy_analysis\\lib\\site-packages (from ipython->ipython-autotime) (5.1.1)\n",
      "Requirement already satisfied: jedi>=0.16 in c:\\users\\padilla-coreano\\.conda\\envs\\ephy_analysis\\lib\\site-packages (from ipython->ipython-autotime) (0.19.1)\n",
      "Requirement already satisfied: matplotlib-inline in c:\\users\\padilla-coreano\\.conda\\envs\\ephy_analysis\\lib\\site-packages (from ipython->ipython-autotime) (0.1.7)\n",
      "Requirement already satisfied: prompt-toolkit<3.1.0,>=3.0.41 in c:\\users\\padilla-coreano\\.conda\\envs\\ephy_analysis\\lib\\site-packages (from ipython->ipython-autotime) (3.0.47)\n",
      "Requirement already satisfied: pygments>=2.4.0 in c:\\users\\padilla-coreano\\.conda\\envs\\ephy_analysis\\lib\\site-packages (from ipython->ipython-autotime) (2.18.0)\n",
      "Requirement already satisfied: stack-data in c:\\users\\padilla-coreano\\.conda\\envs\\ephy_analysis\\lib\\site-packages (from ipython->ipython-autotime) (0.6.2)\n",
      "Requirement already satisfied: traitlets>=5.13.0 in c:\\users\\padilla-coreano\\.conda\\envs\\ephy_analysis\\lib\\site-packages (from ipython->ipython-autotime) (5.14.3)\n",
      "Requirement already satisfied: colorama in c:\\users\\padilla-coreano\\.conda\\envs\\ephy_analysis\\lib\\site-packages (from ipython->ipython-autotime) (0.4.6)\n",
      "Requirement already satisfied: parso<0.9.0,>=0.8.3 in c:\\users\\padilla-coreano\\.conda\\envs\\ephy_analysis\\lib\\site-packages (from jedi>=0.16->ipython->ipython-autotime) (0.8.4)\n",
      "Requirement already satisfied: wcwidth in c:\\users\\padilla-coreano\\.conda\\envs\\ephy_analysis\\lib\\site-packages (from prompt-toolkit<3.1.0,>=3.0.41->ipython->ipython-autotime) (0.2.13)\n",
      "Requirement already satisfied: executing>=1.2.0 in c:\\users\\padilla-coreano\\.conda\\envs\\ephy_analysis\\lib\\site-packages (from stack-data->ipython->ipython-autotime) (2.0.1)\n",
      "Requirement already satisfied: asttokens>=2.1.0 in c:\\users\\padilla-coreano\\.conda\\envs\\ephy_analysis\\lib\\site-packages (from stack-data->ipython->ipython-autotime) (2.4.1)\n",
      "Requirement already satisfied: pure-eval in c:\\users\\padilla-coreano\\.conda\\envs\\ephy_analysis\\lib\\site-packages (from stack-data->ipython->ipython-autotime) (0.2.2)\n",
      "Requirement already satisfied: six>=1.12.0 in c:\\users\\padilla-coreano\\.conda\\envs\\ephy_analysis\\lib\\site-packages (from asttokens>=2.1.0->stack-data->ipython->ipython-autotime) (1.16.0)\n",
      "Downloading ipython_autotime-0.3.2-py2.py3-none-any.whl (7.0 kB)\n",
      "Installing collected packages: ipython-autotime\n",
      "Successfully installed ipython-autotime-0.3.2\n",
      "time: 0 ns (started: 2024-11-19 14:32:25 -05:00)\n"
     ]
    }
   ],
   "source": [
    "!pip install ipython-autotime\n",
    "%load_ext autotime"
   ]
  },
  {
   "cell_type": "code",
   "execution_count": 21,
   "metadata": {
    "colab": {
     "base_uri": "https://localhost:8080/"
    },
    "id": "9kf-Xg-NZUc0",
    "outputId": "5762badf-7c0b-4f34-e3fc-7e02d687854f"
   },
   "outputs": [
    {
     "name": "stdout",
     "output_type": "stream",
     "text": [
      "The autoreload extension is already loaded. To reload it, use:\n",
      "  %reload_ext autoreload\n",
      "time: 47 ms (started: 2024-11-19 15:00:37 -05:00)\n"
     ]
    }
   ],
   "source": [
    "%load_ext autoreload\n",
    "%autoreload 2"
   ]
  },
  {
   "cell_type": "code",
   "execution_count": 5,
   "metadata": {
    "colab": {
     "base_uri": "https://localhost:8080/"
    },
    "id": "FNzWE8m_DCw1",
    "outputId": "320ab6f8-e810-439b-8279-115c471cabbb"
   },
   "outputs": [],
   "source": [
    "import importlib\n",
    "from inspect import getmembers, isfunction\n",
    "\n",
    "from spectral_connectivity import Multitaper, Connectivity\n",
    "\n",
    "import cupy as cp\n",
    "\n",
    "c_traces = cp.asarray(traces)\n",
    "\n",
    "multi_t = Multitaper(\n",
    "    # multitaper takes in a time_series that is time by signals (regions)\n",
    "    time_series=traces,\n",
    "    sampling_frequency=1000,\n",
    "    time_halfbandwidth_product=2,\n",
    "    time_window_duration=1,\n",
    "    time_window_step=.5,\n",
    ")\n",
    "connectivity = Connectivity.from_multitaper(multi_t)\n"
   ]
  },
  {
   "cell_type": "code",
   "execution_count": 3,
   "metadata": {},
   "outputs": [
    {
     "data": {
      "text/plain": [
       "array([1, 2, 3])"
      ]
     },
     "execution_count": 3,
     "metadata": {},
     "output_type": "execute_result"
    }
   ],
   "source": [
    "import cupy as cp\n",
    "\n",
    "x = cp.array([1,2,3])\n",
    "x"
   ]
  },
  {
   "cell_type": "code",
   "execution_count": null,
   "metadata": {},
   "outputs": [],
   "source": []
  },
  {
   "cell_type": "code",
   "execution_count": null,
   "metadata": {
    "colab": {
     "base_uri": "https://localhost:8080/"
    },
    "id": "DCzBRWtXD21F",
    "outputId": "8b9cf7bb-15b8-4592-8786-cf5cb6db3c92"
   },
   "outputs": [],
   "source": [
    "granger = connectivity.pairwise_spectral_granger_prediction()"
   ]
  },
  {
   "cell_type": "code",
   "execution_count": null,
   "metadata": {
    "colab": {
     "base_uri": "https://localhost:8080/"
    },
    "id": "t0RHJBR7xbOR",
    "outputId": "790dd382-1e27-4312-b2e2-a75293744db7"
   },
   "outputs": [
    {
     "data": {
      "text/plain": [
       "array([[[[           nan, 4.54973642e+00, 6.44574662e-01,\n",
       "          1.79091091e-01, 5.61699097e-02, 1.58480708e-01],\n",
       "         [4.32565801e+00,            nan, 1.07932358e+00,\n",
       "          1.78401382e-01, 6.37550361e-02, 9.21144406e-02],\n",
       "         [3.24271151e+00, 1.41153372e+00,            nan,\n",
       "          7.33141641e-01, 3.77093550e-01, 3.03010557e-02],\n",
       "         [6.59255538e-01, 5.06680970e-01, 6.55014038e-01,\n",
       "                     nan, 4.00833684e+00, 5.25388393e-01],\n",
       "         [1.45400641e-02, 6.64932332e-02, 8.22034272e-01,\n",
       "          4.12380437e+00,            nan, 8.01612854e-02],\n",
       "         [2.49128869e-02, 1.34138501e-03, 6.56108770e-01,\n",
       "          2.12412495e-01, 1.08682257e-01,            nan]],\n",
       "\n",
       "        [[           nan, 2.57783678e-01, 7.29070157e-01,\n",
       "          4.33218533e-01, 2.76969541e-01, 4.82925061e-01],\n",
       "         [3.11043498e-01,            nan, 4.30270894e-01,\n",
       "          4.33464895e-01, 2.41006744e-01, 3.86596244e-01],\n",
       "         [3.22408372e-01, 1.26980967e-01,            nan,\n",
       "          1.51747581e-01, 1.01187342e-01, 1.79354756e-01],\n",
       "         [8.88401643e-01, 7.71537544e-01, 3.80174235e+00,\n",
       "                     nan, 1.16182727e+00, 1.74618241e+00],\n",
       "         [3.20114728e-01, 2.87317491e-01, 9.19640863e-01,\n",
       "          5.52955334e-01,            nan, 3.40695855e-02],\n",
       "         [2.54048766e-01, 1.75976479e-01, 7.20517080e-01,\n",
       "          2.39009775e+00, 7.52067879e-03,            nan]],\n",
       "\n",
       "        [[           nan, 7.21687932e-02, 1.04833779e-01,\n",
       "          5.30710601e-02, 2.42592105e-01, 1.91208488e-01],\n",
       "         [6.58046299e-02,            nan, 7.87098755e-02,\n",
       "          5.59483941e-02, 2.17369530e-01, 1.84737524e-01],\n",
       "         [2.02314526e-01, 2.00699568e-01,            nan,\n",
       "          8.44141058e-02, 2.52184582e-01, 2.86468206e-01],\n",
       "         [3.11364178e-02, 3.16920662e-02, 3.55853707e-02,\n",
       "                     nan, 4.96107436e-01, 6.06882294e-01],\n",
       "         [3.01404436e-01, 3.40506750e-01, 1.09774536e-01,\n",
       "          1.02343364e-01,            nan, 3.95727611e-01],\n",
       "         [2.09893197e-01, 2.50073140e-01, 3.61312303e-02,\n",
       "          3.02268068e-01, 3.27039429e-01,            nan]],\n",
       "\n",
       "        ...,\n",
       "\n",
       "        [[           nan, 9.07037901e-01, 1.20861194e+00,\n",
       "          4.59535864e-01, 7.52573433e-01, 1.20355284e-01],\n",
       "         [8.04844498e-01,            nan, 1.85362617e+00,\n",
       "          4.80782757e-01, 1.10519850e+00, 2.29635472e-01],\n",
       "         [1.13708690e+00, 1.43853916e+00,            nan,\n",
       "          1.60547833e+00, 6.44975290e-01, 1.28473393e+00],\n",
       "         [2.81220840e-01, 2.90651197e-01, 8.59418359e-01,\n",
       "                     nan, 3.61104348e-01, 1.70543594e-01],\n",
       "         [3.55344653e-01, 6.56242074e-01, 3.40132294e-01,\n",
       "          1.17280789e+00,            nan, 2.58260404e-01],\n",
       "         [2.26857722e-01, 1.80261665e-01, 1.52764175e+00,\n",
       "          9.85090817e-02, 5.13906261e-01,            nan]],\n",
       "\n",
       "        [[           nan, 3.92418600e-01,            nan,\n",
       "          1.14825845e+00, 1.00953680e-01, 8.45641496e-01],\n",
       "         [5.43764340e-01,            nan, 4.52681816e+00,\n",
       "          1.10627454e+00, 9.02732128e-02, 8.18081997e-01],\n",
       "         [           nan, 3.40318687e+00,            nan,\n",
       "          1.94884519e+00, 2.21390522e+00,            nan],\n",
       "         [1.87029226e-01, 3.25173044e-01, 8.90398248e-01,\n",
       "                     nan, 5.11098079e-01, 1.17903439e-01],\n",
       "         [2.65921830e-01, 8.75464158e-02, 3.01344794e-01,\n",
       "          3.97629013e-01,            nan, 2.84496128e+00],\n",
       "         [4.81815916e-01, 8.06914998e-01, 1.79561706e+00,\n",
       "          1.19189103e-01, 2.19625124e+00,            nan]],\n",
       "\n",
       "        [[           nan, 7.05879779e-01, 7.58997119e-01,\n",
       "          6.42760791e-02, 6.71922787e-01, 5.08564529e-01],\n",
       "         [5.96458315e-01,            nan, 5.69752110e-01,\n",
       "          5.17643808e-02, 8.78843583e-01, 3.38732916e-01],\n",
       "         [8.49328950e-01, 4.93479909e-01,            nan,\n",
       "          3.54245478e-01, 4.40800423e-01, 3.29657690e-01],\n",
       "         [1.18989002e-01, 2.28471326e-01, 3.75434392e-01,\n",
       "                     nan, 8.56259684e-01, 3.99959921e-02],\n",
       "         [3.49330459e-01, 4.69819029e-01, 2.13330473e-01,\n",
       "          4.80414139e+00,            nan, 6.56493383e-01],\n",
       "         [2.97608247e-01, 3.80495853e-01, 7.69183897e-01,\n",
       "          8.53564641e-02, 9.04266536e-01,            nan]]],\n",
       "\n",
       "\n",
       "       [[[           nan, 2.00921321e+00, 1.93284017e+00,\n",
       "          1.87419788e-03, 2.18914146e-01, 1.03498483e-03],\n",
       "         [3.16998993e+00,            nan, 2.28970785e+00,\n",
       "          4.42869075e-06, 3.01111134e-01, 4.20023273e-02],\n",
       "         [4.42676176e-01, 9.28028265e-01,            nan,\n",
       "          5.08495886e-02, 2.20337382e-01, 1.34531089e-01],\n",
       "         [3.22932290e-02, 4.98193088e-03, 2.48557030e-02,\n",
       "                     nan, 6.04313046e-01, 1.82426374e-03],\n",
       "         [3.14538348e-01, 7.56907819e-01, 6.43847821e-02,\n",
       "          8.42363352e-01,            nan, 1.27064161e+00],\n",
       "         [9.09642256e-02, 1.89435164e-01, 1.89514520e-03,\n",
       "          1.05751435e-02, 1.10324659e+00,            nan]],\n",
       "\n",
       "        [[           nan, 8.96113476e-01, 7.45866745e-02,\n",
       "          7.48092837e-01, 6.83096165e-01, 2.02353124e-01],\n",
       "         [1.00668037e+00,            nan, 1.22714749e-01,\n",
       "          1.02146904e+00, 9.71138919e-01, 2.87182490e-01],\n",
       "         [4.33211013e-01, 3.68567881e-01,            nan,\n",
       "          4.53475297e-01, 2.94392071e-01, 1.16372167e-01],\n",
       "         [4.67889192e-02, 4.57968261e-02, 1.01648448e-02,\n",
       "                     nan, 2.06572958e-01, 9.74600787e-02],\n",
       "         [3.33214570e-01, 8.54119714e-01, 1.68629246e-01,\n",
       "          2.22004487e-01,            nan, 1.43380850e+00],\n",
       "         [4.59703783e-02, 1.85960522e-01, 1.65391358e-02,\n",
       "          1.44841240e-01, 1.02211370e+00,            nan]],\n",
       "\n",
       "        [[           nan, 2.48728458e-01, 1.07016749e-01,\n",
       "          3.54778435e-01, 6.09841687e-01, 1.48386142e-01],\n",
       "         [3.39992810e-01,            nan, 1.43950815e-01,\n",
       "          4.02786508e-01, 7.36600291e-01, 2.07763141e-01],\n",
       "         [4.10801317e-02, 5.21796697e-03,            nan,\n",
       "          1.79580093e-01, 3.12262610e-01, 1.24732507e-01],\n",
       "         [4.79157287e-02, 9.60816176e-02, 1.37418926e-01,\n",
       "                     nan, 1.74985829e-01, 1.45051355e-01],\n",
       "         [5.98931593e-01, 8.67400595e-01, 4.55845448e-01,\n",
       "          1.37132687e-01,            nan, 1.49831543e+00],\n",
       "         [1.77109656e-01, 3.51007476e-01, 1.98098419e-01,\n",
       "          4.47931004e-01, 1.29779006e+00,            nan]],\n",
       "\n",
       "        ...,\n",
       "\n",
       "        [[           nan, 1.07923767e+00, 1.03882918e+00,\n",
       "          2.26480064e-01, 1.01580521e+00, 1.77632950e-01],\n",
       "         [1.03776600e+00,            nan, 4.82646527e-01,\n",
       "          1.42973874e-01, 7.90262998e-01, 1.33433189e-01],\n",
       "         [9.68000687e-01, 4.32730263e-01,            nan,\n",
       "          1.19024340e-01, 1.45457643e-01, 1.33655835e-01],\n",
       "         [1.90061798e-01, 1.04116592e-01, 4.45545975e-02,\n",
       "                     nan, 2.84196670e-01, 7.74338398e-01],\n",
       "         [7.24523166e-01, 5.27989278e-01, 1.63319352e-01,\n",
       "          8.40324367e-01,            nan, 1.02973898e+00],\n",
       "         [6.41807620e-02, 4.68983583e-02, 4.70037371e-02,\n",
       "          3.63993409e-01, 1.93954375e+00,            nan]],\n",
       "\n",
       "        [[           nan, 1.14872689e-01, 1.11364079e+00,\n",
       "          6.14845542e-02, 6.86304521e-01, 3.57147507e-02],\n",
       "         [2.77923501e-01,            nan, 5.65759569e-01,\n",
       "          5.21301459e-02, 5.83820137e-01, 3.97861691e-02],\n",
       "         [1.07002931e+00, 5.89267886e-01,            nan,\n",
       "          1.47638918e-01, 5.94974325e-02, 3.07177745e-01],\n",
       "         [2.52812323e-01, 1.90718337e-01, 1.42700694e-02,\n",
       "                     nan, 1.27085540e-01, 9.05824868e-01],\n",
       "         [1.15012963e+00, 8.93850967e-01, 3.16989452e-01,\n",
       "          7.69485213e-02,            nan, 5.82943003e-01],\n",
       "         [5.03372410e-02, 6.54822748e-03, 7.84306634e-02,\n",
       "          1.70136900e+00, 7.69798461e-01,            nan]],\n",
       "\n",
       "        [[           nan, 1.19900021e+00, 8.67900633e-01,\n",
       "          1.97105996e-01, 7.55299719e-01, 1.62496205e-01],\n",
       "         [1.26602282e+00,            nan, 5.21962360e-01,\n",
       "          1.61377586e-01, 6.77013006e-01, 1.71251338e-01],\n",
       "         [6.82271660e-01, 4.11853677e-01,            nan,\n",
       "          1.79635208e-01, 1.20571145e-01, 1.77498900e-01],\n",
       "         [2.38017285e-01, 2.24753793e-01, 5.97541874e-02,\n",
       "                     nan, 2.12010948e-01, 9.67648431e-01],\n",
       "         [8.21985817e-01, 7.40756793e-01, 2.05301727e-01,\n",
       "          4.66031486e-01,            nan, 3.09031818e+00],\n",
       "         [1.24512977e-01, 1.74334027e-01, 2.57487933e-02,\n",
       "          4.81625954e-01, 4.09547329e+00,            nan]]],\n",
       "\n",
       "\n",
       "       [[[           nan, 1.08425911e+00, 4.42322085e-01,\n",
       "          8.33649075e-01, 3.23340608e-01, 6.84893365e-02],\n",
       "         [1.23772489e+00,            nan, 6.43806151e-02,\n",
       "          1.40877447e+00, 1.21056086e+00, 5.70345442e-01],\n",
       "         [6.45872407e-01, 1.43629972e-01,            nan,\n",
       "                     nan,            nan, 1.51470189e+00],\n",
       "         [4.77795779e-02, 9.91336261e-02, 8.57431894e-02,\n",
       "                     nan, 2.24184539e-01, 1.39322329e-02],\n",
       "         [6.64598951e-01, 1.85628163e+00, 1.21629231e+00,\n",
       "          1.22904378e-01,            nan, 2.57926591e+00],\n",
       "         [5.89459966e-01, 1.73545496e+00, 1.15326159e+00,\n",
       "          1.25550727e-02, 7.92987394e-01,            nan]],\n",
       "\n",
       "        [[           nan, 5.03337549e-02, 6.39914770e-01,\n",
       "          3.43006839e-01, 1.33831792e-01, 2.29701236e-05],\n",
       "         [1.33640770e-01,            nan, 3.15401438e-01,\n",
       "          4.32948124e-01, 3.01357207e-01, 1.42822776e-01],\n",
       "         [3.70700845e-01, 2.15823951e-01,            nan,\n",
       "          4.59394959e-01, 5.45569539e-01, 4.20187504e-01],\n",
       "         [3.63350324e-02, 8.14443806e-03, 6.56587811e-02,\n",
       "                     nan, 1.01434568e-01, 1.51251092e-01],\n",
       "         [1.96989659e-01, 3.75498839e-01, 4.58837346e-01,\n",
       "          9.07359168e-03,            nan, 8.63284860e-01],\n",
       "         [9.95791931e-02, 2.94958486e-01, 6.51651693e-01,\n",
       "          2.60505754e-01, 4.24954956e-01,            nan]],\n",
       "\n",
       "        [[           nan, 1.56875358e-01, 1.76841126e-01,\n",
       "          7.78148519e-01, 5.96556713e-01, 2.39937626e-01],\n",
       "         [2.39980252e-01,            nan, 2.44809403e-01,\n",
       "          9.56806639e-01, 6.74477888e-01, 2.29093663e-01],\n",
       "         [           nan, 2.32116335e+00,            nan,\n",
       "                     nan,            nan, 1.61632004e+00],\n",
       "         [1.24215675e-02, 5.63860528e-02, 1.53662407e-02,\n",
       "                     nan, 3.29425125e-01, 2.83568494e-02],\n",
       "         [7.31043220e-01, 9.81583645e-01, 4.69729811e-01,\n",
       "          3.61852597e-01,            nan, 2.76981278e+00],\n",
       "         [6.57876769e-01, 7.63830238e-01, 5.27622720e-01,\n",
       "          1.34211337e-01, 9.34605073e-01,            nan]],\n",
       "\n",
       "        ...,\n",
       "\n",
       "        [[           nan, 7.09186324e-01, 1.76292529e-01,\n",
       "          2.27999053e-01, 1.85235229e-02, 2.11625004e-01],\n",
       "         [1.95886367e-01,            nan, 2.19168255e-01,\n",
       "          1.04461674e-01, 9.10559074e-04, 1.10819247e-01],\n",
       "         [1.06513378e-01, 1.09400872e-01,            nan,\n",
       "          3.31177346e-01, 2.76171341e-01, 3.46672860e-01],\n",
       "         [3.20668616e-01, 5.18773974e-01, 3.97443205e-01,\n",
       "                     nan, 4.61061895e-01, 3.76558424e-01],\n",
       "         [4.53172656e-01, 5.55170275e-01, 3.98864625e-01,\n",
       "          4.51664583e-01,            nan, 4.31877358e-01],\n",
       "         [1.87809513e-01, 3.85983555e-01, 6.08249201e-01,\n",
       "          9.53804789e-02, 2.06534265e+00,            nan]],\n",
       "\n",
       "        [[           nan, 1.48612377e+00, 1.07852361e+00,\n",
       "          1.70487956e-01, 4.99383317e-02, 1.36065973e-01],\n",
       "         [1.07515169e+00,            nan, 1.39788071e+00,\n",
       "          4.04814683e-02, 3.77817901e-02, 5.04588633e-02],\n",
       "         [1.56143177e+00, 1.63174814e+00,            nan,\n",
       "          8.95373578e-01, 3.04624282e-01, 7.44839339e-01],\n",
       "         [1.55252333e+00, 1.81584851e+00, 1.36353169e+00,\n",
       "                     nan, 6.84324028e-02, 8.09021918e-01],\n",
       "         [7.83424108e-01, 9.72058799e-01, 1.18328760e+00,\n",
       "          3.95136201e-01,            nan, 2.08042974e+00],\n",
       "         [           nan,            nan,            nan,\n",
       "          9.57505422e-01, 1.54983047e+00,            nan]],\n",
       "\n",
       "        [[           nan, 1.34826331e+00, 2.70221759e-01,\n",
       "          4.87172133e-01, 3.24689256e-01, 9.90981938e-01],\n",
       "         [2.20187392e-01,            nan, 8.77813604e-02,\n",
       "          1.12397708e-01, 1.40601668e-01, 4.12908261e-01],\n",
       "         [2.14355146e-01, 2.22784339e-01,            nan,\n",
       "          3.43708882e-02, 2.32734213e-01, 8.49356178e-01],\n",
       "         [1.52950469e+00, 1.66354484e+00, 7.43119245e-01,\n",
       "                     nan, 1.45906079e-01, 9.67610374e-01],\n",
       "         [1.36238915e+00, 1.33061699e+00, 1.05958914e+00,\n",
       "          3.49460453e-03,            nan, 4.23022977e-01],\n",
       "         [4.33041425e-01, 7.13724557e-01, 1.23947886e+00,\n",
       "          5.56903988e-01, 6.44666948e-02,            nan]]],\n",
       "\n",
       "\n",
       "       ...,\n",
       "\n",
       "\n",
       "       [[[           nan, 1.27916717e+00, 5.83830400e-01,\n",
       "          4.25951089e-03, 2.20764894e-01, 1.60247806e-03],\n",
       "         [1.00216112e+00,            nan, 3.91803111e-01,\n",
       "          1.50418038e-02, 1.45099244e-01, 7.06291852e-03],\n",
       "         [4.07447108e-01, 1.54551777e-01,            nan,\n",
       "          8.96213753e-01, 3.34324208e-01, 1.68875565e+00],\n",
       "         [2.46485040e-02, 1.34379662e-01, 3.84323471e-01,\n",
       "                     nan, 4.07202831e-01, 7.30883767e-02],\n",
       "         [4.37263175e-01, 2.64830457e-01, 9.39727778e-02,\n",
       "          1.55397938e+00,            nan,            nan],\n",
       "         [2.26126585e-01, 3.51581690e-01, 1.15372618e+00,\n",
       "          3.04744506e-01, 9.41676870e-01,            nan]],\n",
       "\n",
       "        [[           nan, 2.08570533e-01, 1.33076969e-01,\n",
       "          3.20421276e-01, 4.26945514e-01, 6.78917988e-01],\n",
       "         [2.96265895e-01,            nan, 6.49110377e-02,\n",
       "          2.65422097e-01, 2.90085816e-01, 4.11254195e-01],\n",
       "         [1.09930743e-01, 1.49518878e-01,            nan,\n",
       "          3.77782945e-02, 3.02248218e-01, 9.07101804e-03],\n",
       "         [3.29378323e-01, 1.97112431e-01, 6.07512770e-02,\n",
       "                     nan, 4.45876381e-02, 6.91154414e-02],\n",
       "         [1.63600695e-01, 1.90065304e-01, 6.82352278e-01,\n",
       "          8.72856901e-02,            nan, 6.44104194e-02],\n",
       "         [3.27137553e-01, 3.03610654e-01, 1.33530898e-01,\n",
       "          1.18945860e-01, 1.48271719e-01,            nan]],\n",
       "\n",
       "        [[           nan, 4.95016691e-02, 3.86578784e-01,\n",
       "          3.74827490e-01, 2.12444666e-01, 1.54431595e+00],\n",
       "         [5.82798873e-02,            nan, 2.73311221e-01,\n",
       "          4.45902919e-01, 1.17262432e-01, 1.24852706e+00],\n",
       "         [1.86392153e-02, 1.26033006e-02,            nan,\n",
       "          1.69289461e-01, 5.51662389e-01, 3.22714385e-01],\n",
       "         [2.62416669e-01, 2.21197605e-01, 3.11517473e-01,\n",
       "                     nan, 2.78463553e-01, 2.51945061e-02],\n",
       "         [2.69157731e-02, 2.56410310e-02, 1.37284575e+00,\n",
       "          1.57816303e-01,            nan, 2.18413243e-01],\n",
       "         [4.88064969e-01, 1.69069450e-01, 4.00874626e+00,\n",
       "          6.50491739e-03, 1.52233477e+00,            nan]],\n",
       "\n",
       "        ...,\n",
       "\n",
       "        [[           nan, 2.88358477e+00, 2.61838939e+00,\n",
       "          7.65959170e-01, 6.05280728e-01, 1.24867723e+00],\n",
       "         [2.26488352e+00,            nan, 2.65847988e+00,\n",
       "          8.20216585e-01, 5.78857429e-01, 1.43419158e+00],\n",
       "         [2.49360465e-01, 2.64891639e-01,            nan,\n",
       "          1.14755988e+00, 7.97850986e-01, 5.82696502e-01],\n",
       "         [6.63937002e-01, 7.74942633e-01, 5.73065477e-02,\n",
       "                     nan, 1.13278287e-01, 9.93410306e-02],\n",
       "         [1.06306268e-01, 8.06326329e-02, 2.81113160e+00,\n",
       "          9.82065439e-01,            nan, 7.28390501e-01],\n",
       "         [1.57483082e+00, 1.39055674e+00, 2.38596297e-01,\n",
       "          1.71881447e-01, 4.76152168e-01,            nan]],\n",
       "\n",
       "        [[           nan, 6.11736043e-01, 4.32905289e-01,\n",
       "          1.20039338e+00, 4.32085646e-01, 1.07971376e+00],\n",
       "         [8.53761737e-01,            nan, 4.30277999e-01,\n",
       "          1.26225984e+00, 2.86277657e-01, 1.19067769e+00],\n",
       "         [1.88498493e-01, 1.63214282e-01,            nan,\n",
       "          7.17555858e-01, 5.34863624e-01, 9.11155517e-01],\n",
       "         [4.17139894e-01, 4.58377088e-01, 3.03244695e-02,\n",
       "                     nan, 2.82554767e-01, 3.88604070e-02],\n",
       "         [3.37362109e-01, 1.04828431e-01, 9.34941661e-01,\n",
       "          1.11097909e+00,            nan, 1.70720402e+00],\n",
       "         [4.07603227e-02, 6.28615032e-02, 5.28928695e-01,\n",
       "          5.63317184e-03, 1.08886391e-01,            nan]],\n",
       "\n",
       "        [[           nan, 2.11296023e+00, 3.92751713e-01,\n",
       "          1.46907484e-01, 3.75119569e-02, 9.41935396e-02],\n",
       "         [2.66566275e+00,            nan, 4.65347889e-01,\n",
       "          1.41793229e-01, 1.04256389e-01, 1.07331923e-01],\n",
       "         [1.88889710e-01, 8.84784231e-02,            nan,\n",
       "          7.22216065e-01, 3.88370303e-01, 3.55047480e-01],\n",
       "         [6.12647869e-02, 6.92907016e-02, 1.80322330e-01,\n",
       "                     nan, 6.35605500e-02, 1.01406116e-01],\n",
       "         [5.24966276e-01, 2.63967671e-01, 8.06550909e-01,\n",
       "          6.06452710e-01,            nan, 3.07410620e-01],\n",
       "         [3.48308920e-01, 2.82506617e-01, 2.55175940e-02,\n",
       "          8.05663416e-03, 8.28604294e-02,            nan]]],\n",
       "\n",
       "\n",
       "       [[[           nan, 3.83083536e+00, 3.41720403e-01,\n",
       "          1.71164299e-01, 1.35721619e-01, 4.79902906e-02],\n",
       "         [           nan,            nan, 5.69707830e-01,\n",
       "          8.56262602e-03, 3.33780963e-01, 3.26187861e-02],\n",
       "         [1.05616506e-01, 2.32799169e-01,            nan,\n",
       "          4.97588047e-01, 2.60917526e-01, 6.45078325e-01],\n",
       "         [5.60752044e-02, 2.30514570e-02, 4.10436422e-03,\n",
       "                     nan, 3.86595596e-04, 3.22263570e-01],\n",
       "         [2.58171719e-02, 1.37244875e-01, 5.18741504e-05,\n",
       "          2.55244714e-01,            nan, 9.88485372e-03],\n",
       "         [1.94392498e-03, 4.28749194e-03, 8.22163725e-01,\n",
       "          6.34522577e-05, 4.44860505e-01,            nan]],\n",
       "\n",
       "        [[           nan, 7.80095122e-01, 1.49876912e-01,\n",
       "          5.31843345e-02, 2.16299524e-01, 1.66061669e-01],\n",
       "         [1.44040817e+00,            nan, 1.60632508e-01,\n",
       "          1.62071333e-01, 3.00381571e-01, 2.06430352e-01],\n",
       "         [4.76420074e-01, 8.76156505e-01,            nan,\n",
       "          3.99535417e-01, 1.88406004e-01, 4.24645681e-01],\n",
       "         [1.03469404e-01, 1.29062320e-01, 1.50081644e-01,\n",
       "                     nan, 1.18488176e-01, 1.20431508e-01],\n",
       "         [2.94621639e-01, 8.21484118e-01, 1.94927493e-01,\n",
       "          4.37547813e-01,            nan, 2.09947281e-01],\n",
       "         [6.93797742e-02, 1.66495639e-02, 2.14796872e+00,\n",
       "          1.05718643e-01, 7.35010149e-01,            nan]],\n",
       "\n",
       "        [[           nan, 2.74627143e-01, 3.76948405e-01,\n",
       "          1.94947360e-01, 3.11731896e-01, 4.70808762e-01],\n",
       "         [1.01529745e-01,            nan, 3.33240336e-01,\n",
       "          3.18725380e-01, 2.52670379e-01, 5.97617631e-01],\n",
       "         [9.54556908e-02, 1.93597870e-01,            nan,\n",
       "          3.10603830e-02, 1.62476617e-01, 2.24442126e-01],\n",
       "         [2.03916418e-01, 1.93845194e-01, 2.15739053e-01,\n",
       "                     nan, 1.38860402e-01, 1.83598737e-01],\n",
       "         [2.05379108e-02, 1.31158865e-01, 7.06089289e-01,\n",
       "          1.60159674e-02,            nan, 2.00627785e-01],\n",
       "         [1.52044986e-01, 5.70555534e-02, 1.93113194e-01,\n",
       "          5.74878618e-02, 4.58283908e-02,            nan]],\n",
       "\n",
       "        ...,\n",
       "\n",
       "        [[           nan, 6.23974069e-01, 5.36136981e-01,\n",
       "          6.85307508e-01, 1.19012254e+00, 2.50113643e-01],\n",
       "         [5.83520439e-01,            nan, 3.49838838e-01,\n",
       "          9.19321112e-01, 5.33640936e-01, 1.71607487e-01],\n",
       "         [9.26720389e-03, 1.16085009e-01,            nan,\n",
       "          2.30543601e-02, 5.85303434e-01, 9.05820870e-02],\n",
       "         [5.35186188e-01, 6.33421131e-01, 2.85658104e+00,\n",
       "                     nan, 3.46189113e+00, 7.86243927e-01],\n",
       "         [2.40899641e-03, 1.01104736e-02, 1.82381702e+00,\n",
       "          2.53119017e-02,            nan, 6.03825323e-03],\n",
       "         [9.18420490e-02, 2.11541761e-01, 6.55579474e-01,\n",
       "          5.93949568e-01, 6.91563539e-01,            nan]],\n",
       "\n",
       "        [[           nan, 1.15238844e+00, 2.82992758e-01,\n",
       "          4.70524629e-01, 3.68543274e-01, 6.41058877e-02],\n",
       "         [6.90541417e-01,            nan, 4.32929353e-01,\n",
       "          4.83486177e-01, 5.97709740e-01, 1.09746306e-01],\n",
       "         [5.67694673e-01, 5.85276419e-01,            nan,\n",
       "          5.53757498e-01, 4.85996544e-03, 5.10994940e-01],\n",
       "         [1.06035324e+00, 8.50599087e-01, 4.39306943e-01,\n",
       "                     nan, 2.06456818e-01, 2.14177766e-01],\n",
       "         [7.17128266e-01, 7.64294252e-01, 2.72742791e-01,\n",
       "          7.58040011e-01,            nan, 9.42049071e-01],\n",
       "         [9.12894390e-02, 3.39473833e-01,            nan,\n",
       "          2.87615665e-01, 2.56628116e+00,            nan]],\n",
       "\n",
       "        [[           nan, 1.52627994e-01, 2.01754331e-02,\n",
       "          1.45786320e-01, 2.01763005e-01, 9.95114554e-02],\n",
       "         [2.28723781e-01,            nan, 3.41838641e-02,\n",
       "          1.00356947e-01, 4.82447671e-02, 1.20357097e-01],\n",
       "         [8.56506080e-02, 2.26773653e-01,            nan,\n",
       "          9.54358538e-03, 3.59767232e-01, 2.36302784e-03],\n",
       "         [4.72126790e-01, 3.14758072e-01, 8.09443437e-01,\n",
       "                     nan, 8.49050951e-01, 1.97820099e-02],\n",
       "         [6.47667549e-02, 1.40353619e-01, 1.41612429e+00,\n",
       "          6.29305556e-02,            nan, 8.48123213e-02],\n",
       "         [1.94623445e-01, 2.94168357e-01, 1.31224299e-01,\n",
       "          5.01342922e-02, 6.36445940e-02,            nan]]],\n",
       "\n",
       "\n",
       "       [[[           nan, 3.57051390e+00, 4.82029156e-01,\n",
       "          1.94607019e-01, 1.23707957e-01, 7.98400942e-02],\n",
       "         [1.87665597e+00,            nan, 2.26408895e-01,\n",
       "          4.26452621e-01, 1.22282515e-02, 3.05261312e-01],\n",
       "         [2.64293478e-02, 6.72927825e-03,            nan,\n",
       "          2.77830474e-03, 1.47595688e-01, 2.51017426e-01],\n",
       "         [5.11146794e-05, 5.56681441e-03, 1.83211118e-03,\n",
       "                     nan, 2.42178980e-02, 8.24028751e-01],\n",
       "         [3.08640742e-02, 1.07307517e-02, 6.08042718e-02,\n",
       "          1.64803190e-02,            nan, 1.78276938e-02],\n",
       "         [1.18414749e+00, 2.30426761e+00, 2.77604224e-01,\n",
       "          3.66893070e+00, 2.15355926e-03,            nan]],\n",
       "\n",
       "        [[           nan, 7.34287104e-01, 7.16811806e-01,\n",
       "          2.33973816e-01, 1.52175192e+00, 2.02237852e-01],\n",
       "         [1.38524516e+00,            nan, 5.14849407e-01,\n",
       "          4.33000142e-01, 1.37714081e+00, 3.43469219e-01],\n",
       "         [6.15478257e-02, 6.32595338e-02,            nan,\n",
       "          6.74412604e-02, 3.59934982e-01, 3.76115419e-03],\n",
       "         [2.47110315e-01, 1.34846382e-01, 3.51930075e-01,\n",
       "                     nan, 9.86119050e-01, 8.31104570e-01],\n",
       "         [1.91887399e-02, 6.08600426e-04, 3.62286877e-02,\n",
       "          2.69304549e-02,            nan, 6.10431286e-03],\n",
       "         [1.96857473e+00, 6.35211117e-01, 4.16813247e-01,\n",
       "          1.00096158e+00, 3.57134180e-01,            nan]],\n",
       "\n",
       "        [[           nan, 6.32600672e-01, 6.66975922e-02,\n",
       "          1.18212602e-01, 7.99399296e-02, 4.37318745e-02],\n",
       "         [4.69887251e-01,            nan, 6.68522012e-02,\n",
       "          3.44953959e-01, 7.26861436e-02, 1.30831202e-01],\n",
       "         [1.98879970e-01, 1.80940457e-01,            nan,\n",
       "          1.65387067e-01, 2.47237613e-01, 5.73198551e-02],\n",
       "         [5.08049441e-01, 4.39544923e-01, 2.41963404e-01,\n",
       "                     nan, 6.34998191e-02, 4.47171625e-02],\n",
       "         [3.45592722e-02, 5.89112845e-02, 1.21310142e+00,\n",
       "          4.17515156e-02,            nan, 3.80165144e-02],\n",
       "         [2.30520543e-01, 2.11896852e-01, 2.39877366e-01,\n",
       "          4.40482006e-01, 6.53827049e-02,            nan]],\n",
       "\n",
       "        ...,\n",
       "\n",
       "        [[           nan, 2.62398974e+00, 2.08101422e-01,\n",
       "          7.65103644e-01, 3.66105500e-01, 6.04413015e-01],\n",
       "         [1.85505337e+00,            nan, 1.85917968e-01,\n",
       "          8.24941918e-01, 2.41957619e-01, 3.62037564e-01],\n",
       "         [2.81779933e-03, 2.62229606e-03,            nan,\n",
       "          5.52638379e-03, 3.20310106e-02, 1.40834877e-01],\n",
       "         [2.06203478e-01, 1.48640562e-01, 3.22965611e-01,\n",
       "                     nan, 1.92919563e-01, 2.68936476e-02],\n",
       "         [1.83619588e-02, 3.15905133e-03, 2.21197133e-01,\n",
       "          9.56799201e-03,            nan, 8.93954981e-04],\n",
       "         [4.99133952e-01, 8.02539221e-01, 1.30043543e+00,\n",
       "          4.02651470e-01, 2.12276236e+00,            nan]],\n",
       "\n",
       "        [[           nan, 5.14208876e-01, 1.03749072e+00,\n",
       "          7.72355610e-01, 2.80434201e+00, 5.20710835e-01],\n",
       "         [1.15363758e+00,            nan, 1.28592775e+00,\n",
       "          7.01376561e-01, 2.32928083e+00, 3.56229359e-01],\n",
       "         [1.66927596e+00, 1.76925214e+00,            nan,\n",
       "          1.13497167e+00, 3.46081875e-01, 1.16431104e+00],\n",
       "         [2.61785631e-02, 5.20850016e-02, 6.90826753e-01,\n",
       "                     nan, 8.85310571e-01, 1.86435424e-02],\n",
       "         [7.09304456e-01, 3.89634625e-01, 1.97932397e+00,\n",
       "          1.39381238e+00,            nan, 1.19327154e+00],\n",
       "         [5.59871741e-01, 6.29367148e-01, 6.42870920e-02,\n",
       "          1.61943764e-01, 1.43432277e-01,            nan]],\n",
       "\n",
       "        [[           nan, 2.77045894e+00, 4.92601107e-01,\n",
       "          1.26522473e+00, 3.66665941e-01, 2.24682451e+00],\n",
       "         [1.89153648e+00,            nan, 5.55842769e-01,\n",
       "          1.29924680e+00, 3.08129947e-01, 1.36954165e+00],\n",
       "         [9.74915854e-03, 1.01879880e-02,            nan,\n",
       "          4.46915678e-03, 1.05285971e-01, 1.02525763e-01],\n",
       "         [3.17320432e-01, 3.12044918e-01, 3.55885451e-01,\n",
       "                     nan, 1.51557727e-01, 1.69347198e-01],\n",
       "         [5.08433686e-04, 8.37206542e-03, 3.01958557e-01,\n",
       "          1.65452386e-02,            nan, 1.54024045e-02],\n",
       "         [3.16073097e-01, 3.66734190e-01, 9.49864536e-01,\n",
       "          7.20373006e-01, 1.17219865e+00,            nan]]]])"
      ]
     },
     "execution_count": 30,
     "metadata": {},
     "output_type": "execute_result"
    },
    {
     "name": "stdout",
     "output_type": "stream",
     "text": [
      "time: 34.5 ms (started: 2024-11-19 04:54:37 +00:00)\n"
     ]
    }
   ],
   "source": [
    "granger"
   ]
  },
  {
   "cell_type": "code",
   "execution_count": null,
   "metadata": {
    "colab": {
     "base_uri": "https://localhost:8080/",
     "height": 734
    },
    "id": "IeXvcDyvwjvq",
    "outputId": "5c47d4df-5b9e-47d2-88f6-6b19b5894e0a"
   },
   "outputs": [
    {
     "ename": "ValueError",
     "evalue": "x and y can be no greater than 2D, but have shapes (5189,) and (5189, 500, 6, 6)",
     "output_type": "error",
     "traceback": [
      "\u001b[0;31m---------------------------------------------------------------------------\u001b[0m",
      "\u001b[0;31mValueError\u001b[0m                                Traceback (most recent call last)",
      "\u001b[0;32m<ipython-input-29-68111b6919d9>\u001b[0m in \u001b[0;36m<cell line: 6>\u001b[0;34m()\u001b[0m\n\u001b[1;32m      4\u001b[0m \u001b[0mfig\u001b[0m\u001b[0;34m,\u001b[0m \u001b[0maxes\u001b[0m \u001b[0;34m=\u001b[0m \u001b[0mplt\u001b[0m\u001b[0;34m.\u001b[0m\u001b[0msubplots\u001b[0m\u001b[0;34m(\u001b[0m\u001b[0;36m1\u001b[0m\u001b[0;34m,\u001b[0m \u001b[0;36m2\u001b[0m\u001b[0;34m,\u001b[0m \u001b[0mfigsize\u001b[0m\u001b[0;34m=\u001b[0m\u001b[0;34m(\u001b[0m\u001b[0;36m15\u001b[0m\u001b[0;34m,\u001b[0m \u001b[0;36m6\u001b[0m\u001b[0;34m)\u001b[0m\u001b[0;34m)\u001b[0m\u001b[0;34m\u001b[0m\u001b[0;34m\u001b[0m\u001b[0m\n\u001b[1;32m      5\u001b[0m \u001b[0;34m\u001b[0m\u001b[0m\n\u001b[0;32m----> 6\u001b[0;31m \u001b[0maxes\u001b[0m\u001b[0;34m[\u001b[0m\u001b[0;36m0\u001b[0m\u001b[0;34m]\u001b[0m\u001b[0;34m.\u001b[0m\u001b[0mplot\u001b[0m\u001b[0;34m(\u001b[0m\u001b[0mgranger\u001b[0m\u001b[0;34m)\u001b[0m\u001b[0;34m\u001b[0m\u001b[0;34m\u001b[0m\u001b[0m\n\u001b[0m\u001b[1;32m      7\u001b[0m \u001b[0maxes\u001b[0m\u001b[0;34m[\u001b[0m\u001b[0;36m0\u001b[0m\u001b[0;34m]\u001b[0m\u001b[0;34m.\u001b[0m\u001b[0mset_title\u001b[0m\u001b[0;34m(\u001b[0m\u001b[0;34m\"granger\"\u001b[0m\u001b[0;34m)\u001b[0m\u001b[0;34m\u001b[0m\u001b[0;34m\u001b[0m\u001b[0m\n",
      "\u001b[0;32m/usr/local/lib/python3.10/dist-packages/matplotlib/axes/_axes.py\u001b[0m in \u001b[0;36mplot\u001b[0;34m(self, scalex, scaley, data, *args, **kwargs)\u001b[0m\n\u001b[1;32m   1719\u001b[0m         \u001b[0mIf\u001b[0m \u001b[0mthe\u001b[0m \u001b[0mcolor\u001b[0m \u001b[0;32mis\u001b[0m \u001b[0mthe\u001b[0m \u001b[0monly\u001b[0m \u001b[0mpart\u001b[0m \u001b[0mof\u001b[0m \u001b[0mthe\u001b[0m \u001b[0mformat\u001b[0m \u001b[0mstring\u001b[0m\u001b[0;34m,\u001b[0m \u001b[0myou\u001b[0m \u001b[0mcan\u001b[0m\u001b[0;34m\u001b[0m\u001b[0;34m\u001b[0m\u001b[0m\n\u001b[1;32m   1720\u001b[0m         \u001b[0madditionally\u001b[0m \u001b[0muse\u001b[0m \u001b[0many\u001b[0m\u001b[0;31m \u001b[0m\u001b[0;31m \u001b[0m\u001b[0;31m`\u001b[0m\u001b[0mmatplotlib\u001b[0m\u001b[0;34m.\u001b[0m\u001b[0mcolors\u001b[0m\u001b[0;31m`\u001b[0m \u001b[0mspec\u001b[0m\u001b[0;34m,\u001b[0m \u001b[0me\u001b[0m\u001b[0;34m.\u001b[0m\u001b[0mg\u001b[0m\u001b[0;34m.\u001b[0m \u001b[0mfull\u001b[0m \u001b[0mnames\u001b[0m\u001b[0;34m\u001b[0m\u001b[0;34m\u001b[0m\u001b[0m\n\u001b[0;32m-> 1721\u001b[0;31m         \u001b[0;34m(\u001b[0m\u001b[0;31m`\u001b[0m\u001b[0;31m`\u001b[0m\u001b[0;34m'green'\u001b[0m\u001b[0;31m`\u001b[0m\u001b[0;31m`\u001b[0m\u001b[0;34m)\u001b[0m \u001b[0;32mor\u001b[0m \u001b[0mhex\u001b[0m \u001b[0mstrings\u001b[0m \u001b[0;34m(\u001b[0m\u001b[0;31m`\u001b[0m\u001b[0;31m`\u001b[0m\u001b[0;34m'#008000'\u001b[0m\u001b[0;31m`\u001b[0m\u001b[0;31m`\u001b[0m\u001b[0;34m)\u001b[0m\u001b[0;34m.\u001b[0m\u001b[0;34m\u001b[0m\u001b[0;34m\u001b[0m\u001b[0m\n\u001b[0m\u001b[1;32m   1722\u001b[0m         \"\"\"\n\u001b[1;32m   1723\u001b[0m         \u001b[0mkwargs\u001b[0m \u001b[0;34m=\u001b[0m \u001b[0mcbook\u001b[0m\u001b[0;34m.\u001b[0m\u001b[0mnormalize_kwargs\u001b[0m\u001b[0;34m(\u001b[0m\u001b[0mkwargs\u001b[0m\u001b[0;34m,\u001b[0m \u001b[0mmlines\u001b[0m\u001b[0;34m.\u001b[0m\u001b[0mLine2D\u001b[0m\u001b[0;34m)\u001b[0m\u001b[0;34m\u001b[0m\u001b[0;34m\u001b[0m\u001b[0m\n",
      "\u001b[0;32m/usr/local/lib/python3.10/dist-packages/matplotlib/axes/_base.py\u001b[0m in \u001b[0;36m__call__\u001b[0;34m(self, axes, data, *args, **kwargs)\u001b[0m\n\u001b[1;32m    301\u001b[0m                 \u001b[0mthis\u001b[0m \u001b[0;34m+=\u001b[0m \u001b[0margs\u001b[0m\u001b[0;34m[\u001b[0m\u001b[0;36m0\u001b[0m\u001b[0;34m]\u001b[0m\u001b[0;34m,\u001b[0m\u001b[0;34m\u001b[0m\u001b[0;34m\u001b[0m\u001b[0m\n\u001b[1;32m    302\u001b[0m                 \u001b[0margs\u001b[0m \u001b[0;34m=\u001b[0m \u001b[0margs\u001b[0m\u001b[0;34m[\u001b[0m\u001b[0;36m1\u001b[0m\u001b[0;34m:\u001b[0m\u001b[0;34m]\u001b[0m\u001b[0;34m\u001b[0m\u001b[0;34m\u001b[0m\u001b[0m\n\u001b[0;32m--> 303\u001b[0;31m             yield from self._plot_args(\n\u001b[0m\u001b[1;32m    304\u001b[0m                 axes, this, kwargs, ambiguous_fmt_datakey=ambiguous_fmt_datakey)\n\u001b[1;32m    305\u001b[0m \u001b[0;34m\u001b[0m\u001b[0m\n",
      "\u001b[0;32m/usr/local/lib/python3.10/dist-packages/matplotlib/axes/_base.py\u001b[0m in \u001b[0;36m_plot_args\u001b[0;34m(self, axes, tup, kwargs, return_kwargs, ambiguous_fmt_datakey)\u001b[0m\n\u001b[1;32m    500\u001b[0m                              f\"have shapes {x.shape} and {y.shape}\")\n\u001b[1;32m    501\u001b[0m         \u001b[0;32mif\u001b[0m \u001b[0mx\u001b[0m\u001b[0;34m.\u001b[0m\u001b[0mndim\u001b[0m \u001b[0;34m>\u001b[0m \u001b[0;36m2\u001b[0m \u001b[0;32mor\u001b[0m \u001b[0my\u001b[0m\u001b[0;34m.\u001b[0m\u001b[0mndim\u001b[0m \u001b[0;34m>\u001b[0m \u001b[0;36m2\u001b[0m\u001b[0;34m:\u001b[0m\u001b[0;34m\u001b[0m\u001b[0;34m\u001b[0m\u001b[0m\n\u001b[0;32m--> 502\u001b[0;31m             raise ValueError(f\"x and y can be no greater than 2D, but have \"\n\u001b[0m\u001b[1;32m    503\u001b[0m                              f\"shapes {x.shape} and {y.shape}\")\n\u001b[1;32m    504\u001b[0m         \u001b[0;32mif\u001b[0m \u001b[0mx\u001b[0m\u001b[0;34m.\u001b[0m\u001b[0mndim\u001b[0m \u001b[0;34m==\u001b[0m \u001b[0;36m1\u001b[0m\u001b[0;34m:\u001b[0m\u001b[0;34m\u001b[0m\u001b[0;34m\u001b[0m\u001b[0m\n",
      "\u001b[0;31mValueError\u001b[0m: x and y can be no greater than 2D, but have shapes (5189,) and (5189, 500, 6, 6)"
     ]
    },
    {
     "data": {
      "image/png": "[encoded data removed]",
      "text/plain": [
       "<Figure size 1500x600 with 2 Axes>"
      ]
     },
     "metadata": {},
     "output_type": "display_data"
    },
    {
     "name": "stdout",
     "output_type": "stream",
     "text": [
      "time: 290 ms (started: 2024-11-19 04:53:10 +00:00)\n"
     ]
    }
   ],
   "source": [
    "import matplotlib.pyplot as plt\n",
    "import numpy as np\n",
    "\n",
    "fig, axes = plt.subplots(1, 2, figsize=(15, 6))\n",
    "\n",
    "axes[0].plot(granger)\n",
    "axes[0].set_title(\"granger\")"
   ]
  },
  {
   "cell_type": "code",
   "execution_count": null,
   "metadata": {
    "colab": {
     "base_uri": "https://localhost:8080/"
    },
    "id": "rU8aUNtob7sA",
    "outputId": "c6206be4-2fce-4a87-9003-1dc6c7e34ebe"
   },
   "outputs": [
    {
     "data": {
      "text/plain": [
       "array([[[4.86393129e+02, 4.07368422e+02, 2.24165490e+01, 2.40760704e+03,\n",
       "         7.47386052e+02, 1.62971464e+03],\n",
       "        [1.14996905e+03, 1.02749057e+03, 3.20176286e+02, 2.05233004e+03,\n",
       "         1.05507849e+03, 1.23067263e+03],\n",
       "        [2.25161031e+03, 2.05953128e+03, 9.53242714e+02, 2.25351328e+03,\n",
       "         2.22977703e+03, 3.68894373e+03],\n",
       "        ...,\n",
       "        [3.32671715e-02, 2.99669756e-02, 3.72728894e-02, 2.38772079e-02,\n",
       "         2.03824124e-02, 3.22849550e-02],\n",
       "        [1.45630873e-02, 1.51850245e-02, 2.55612450e-02, 1.96863647e-02,\n",
       "         8.56496055e-03, 2.07543238e-02],\n",
       "        [2.02930306e-02, 1.90051068e-02, 3.01590005e-02, 1.32290071e-02,\n",
       "         9.74781010e-03, 1.45289422e-02]],\n",
       "\n",
       "       [[5.53653409e+02, 4.95469486e+02, 1.32986539e+02, 2.05163090e+03,\n",
       "         1.03424392e+03, 2.61978753e+03],\n",
       "        [6.87534727e+02, 8.16776994e+02, 3.94842680e+02, 1.22005605e+03,\n",
       "         7.94090527e+02, 1.93351526e+03],\n",
       "        [1.17075176e+03, 1.19313664e+03, 9.01971156e+02, 1.38421067e+03,\n",
       "         9.52993221e+02, 2.03613713e+03],\n",
       "        ...,\n",
       "        [2.73277824e-02, 3.49045757e-02, 6.34374764e-03, 8.20286558e-02,\n",
       "         5.19558933e-02, 7.94448010e-02],\n",
       "        [1.92712062e-02, 2.54119883e-02, 5.62043487e-03, 5.25949122e-02,\n",
       "         3.22669875e-02, 4.93272644e-02],\n",
       "        [1.73026604e-02, 2.14850624e-02, 4.16544079e-03, 5.69121932e-02,\n",
       "         3.97617674e-02, 5.13077479e-02]],\n",
       "\n",
       "       [[2.91578044e+02, 3.69098612e+02, 6.93533980e+02, 1.76613738e+03,\n",
       "         1.17466694e+03, 1.93116024e+03],\n",
       "        [2.79109770e+02, 3.38720203e+02, 7.71102442e+02, 1.07163493e+03,\n",
       "         6.70813457e+02, 1.26921882e+03],\n",
       "        [4.13414823e+02, 4.70327406e+02, 9.55001436e+02, 9.77538345e+02,\n",
       "         8.76351885e+02, 1.72297685e+03],\n",
       "        ...,\n",
       "        [1.01179327e-02, 7.41244304e-03, 5.78351994e-02, 3.06099512e-02,\n",
       "         8.34688118e-03, 5.08403158e-02],\n",
       "        [1.11622254e-02, 6.57582258e-03, 5.73999515e-02, 2.87888286e-02,\n",
       "         5.32923042e-03, 4.54804468e-02],\n",
       "        [6.64126384e-03, 1.92674140e-03, 5.06179342e-02, 2.83224430e-02,\n",
       "         5.40817139e-03, 5.22955751e-02]],\n",
       "\n",
       "       ...,\n",
       "\n",
       "       [[2.21389361e+03, 1.69661735e+03, 1.77072093e+05, 2.19989890e+03,\n",
       "         4.03909176e+04, 1.50772744e+03],\n",
       "        [1.93544368e+03, 1.42741341e+03, 3.52885031e+05, 1.10806696e+03,\n",
       "         7.24748912e+04, 1.47295549e+03],\n",
       "        [3.19806241e+03, 2.41685977e+03, 5.26057167e+05, 1.62959608e+03,\n",
       "         9.83877265e+04, 2.32210933e+03],\n",
       "        ...,\n",
       "        [2.38003195e-02, 2.72799020e-02, 8.15602709e-02, 2.84963083e-03,\n",
       "         8.32181122e-03, 8.22269143e-03],\n",
       "        [4.00909015e-02, 4.98693990e-02, 8.85574340e-02, 7.15474985e-03,\n",
       "         1.34960337e-02, 8.25503439e-03],\n",
       "        [3.78564641e-02, 4.56948913e-02, 9.75701694e-02, 4.19708797e-03,\n",
       "         1.39886633e-02, 5.30196920e-03]],\n",
       "\n",
       "       [[1.02321978e+02, 6.02949701e+01, 3.28287192e+05, 4.22886472e+02,\n",
       "         6.52087153e+04, 1.10861801e+02],\n",
       "        [1.16086767e+03, 5.80591135e+02, 3.93431652e+05, 7.00163313e+02,\n",
       "         8.17799374e+04, 5.42279617e+02],\n",
       "        [1.34536574e+03, 6.61363937e+02, 4.34135995e+05, 8.22603873e+02,\n",
       "         8.58620615e+04, 1.86941272e+03],\n",
       "        ...,\n",
       "        [4.00129199e-03, 3.49801934e-03, 3.06672393e-01, 5.61169234e-03,\n",
       "         7.09186192e-02, 6.78910702e-04],\n",
       "        [1.16890815e-02, 1.10946726e-02, 3.08581848e-01, 7.86777537e-03,\n",
       "         7.49170455e-02, 5.60223738e-03],\n",
       "        [1.06645708e-02, 9.09053061e-03, 3.02367775e-01, 6.37308717e-03,\n",
       "         7.55907347e-02, 4.48533680e-03]],\n",
       "\n",
       "       [[5.82059769e+02, 4.59278420e+02, 1.46699801e+04, 4.97813873e+02,\n",
       "         3.41535385e+03, 3.08291141e+02],\n",
       "        [2.68555252e+03, 1.58666021e+03, 9.74606712e+03, 1.07471413e+03,\n",
       "         2.53383491e+03, 4.41202011e+02],\n",
       "        [1.22705232e+04, 9.40785487e+03, 1.29470274e+04, 5.05121049e+03,\n",
       "         3.41387862e+03, 3.92420536e+03],\n",
       "        ...,\n",
       "        [1.37972988e-02, 1.48299116e-02, 8.50431687e-02, 1.63911803e-03,\n",
       "         1.03570737e-02, 6.88448763e-03],\n",
       "        [1.05577417e-02, 1.23464203e-02, 7.87707906e-02, 1.71851770e-03,\n",
       "         1.00651092e-02, 8.97720953e-03],\n",
       "        [1.21574073e-02, 1.34337241e-02, 8.20588817e-02, 1.49384937e-03,\n",
       "         1.21070348e-02, 8.45854970e-03]]])"
      ]
     },
     "execution_count": 21,
     "metadata": {},
     "output_type": "execute_result"
    },
    {
     "name": "stdout",
     "output_type": "stream",
     "text": [
      "time: 111 ms (started: 2024-11-19 04:34:33 +00:00)\n"
     ]
    }
   ],
   "source": [
    "connectivity.power().squeeze()"
   ]
  },
  {
   "cell_type": "code",
   "execution_count": null,
   "metadata": {
    "id": "GwUw01CYij1h"
   },
   "outputs": [],
   "source": [
    "connectivity._cross_spectral_matrix"
   ]
  },
  {
   "cell_type": "code",
   "execution_count": null,
   "metadata": {
    "id": "yWkzPlIvgYrD"
   },
   "outputs": [],
   "source": [
    "connectivity._expectation_cross_spectral_matrix()"
   ]
  },
  {
   "cell_type": "code",
   "execution_count": null,
   "metadata": {
    "id": "nfUXUgJSX8c2"
   },
   "outputs": [],
   "source": [
    "cp_arr = cp.array([[1, 2, 3],\n",
    "[5, 6, 7],\n",
    "[8, 9, 10]\n",
    "                   ])\n",
    "from spectral_connectivity.connectivity import _conjugate_transpose\n",
    "_conjugate_transpose(cp_arr)"
   ]
  },
  {
   "cell_type": "code",
   "execution_count": null,
   "metadata": {
    "colab": {
     "base_uri": "https://localhost:8080/"
    },
    "id": "GmYQQNVfjV4t",
    "outputId": "e1e673a7-8874-43d1-a683-56d8b083d3b5"
   },
   "outputs": [
    {
     "name": "stdout",
     "output_type": "stream",
     "text": [
      "time: 29.8 ms (started: 2024-11-19 04:34:56 +00:00)\n"
     ]
    }
   ],
   "source": [
    "import cupy\n",
    "mempool = cupy.get_default_memory_pool()\n",
    "mempool.free_all_blocks()\n",
    "pinned_mempool = cupy.get_default_pinned_memory_pool()\n",
    "\n",
    "pinned_mempool.free_all_blocks()"
   ]
  },
  {
   "cell_type": "code",
   "execution_count": null,
   "metadata": {
    "colab": {
     "base_uri": "https://localhost:8080/"
    },
    "id": "GhlaHikApzQZ",
    "outputId": "d53d9789-9ceb-49d8-f048-16774586e25e"
   },
   "outputs": [
    {
     "name": "stdout",
     "output_type": "stream",
     "text": [
      "Cleared Accounted PIDs for GPU 00000000:00:03.0.\n",
      "All done.\n",
      "time: 126 ms (started: 2024-11-19 04:34:53 +00:00)\n"
     ]
    }
   ],
   "source": [
    "!nvidia-smi -caa"
   ]
  },
  {
   "cell_type": "code",
   "execution_count": null,
   "metadata": {
    "id": "phgmIba7qOHZ"
   },
   "outputs": [],
   "source": []
  }
 ],
 "metadata": {
  "accelerator": "GPU",
  "colab": {
   "gpuType": "L4",
   "machine_shape": "hm",
   "provenance": []
  },
  "kernelspec": {
   "display_name": "ephy_analysis",
   "language": "python",
   "name": "python3"
  },
  "language_info": {
   "codemirror_mode": {
    "name": "ipython",
    "version": 3
   },
   "file_extension": ".py",
   "mimetype": "text/x-python",
   "name": "python",
   "nbconvert_exporter": "python",
   "pygments_lexer": "ipython3",
   "version": "3.12.0"
  }
 },
 "nbformat": 4,
 "nbformat_minor": 0
}
