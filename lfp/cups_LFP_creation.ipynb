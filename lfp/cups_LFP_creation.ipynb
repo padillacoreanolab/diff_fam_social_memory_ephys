{
 "cells": [
  {
   "cell_type": "code",
   "execution_count": 21,
   "metadata": {},
   "outputs": [],
   "source": [
    "import pandas as pd\n",
    "from itertools import combinations\n",
    "import os\n",
    "from bidict import bidict\n",
    "import pickle\n",
    "\n",
    "def hex_2_rgb(hex_color): # Orange color\n",
    "    rgb_color = tuple(int(hex_color[i:i+2], 16) / 255.0 for i in (1, 3, 5))\n",
    "    return rgb_color\n",
    "\n",
    "def pickle_this(thing_to_pickle, file_name):\n",
    "    \"\"\"\n",
    "    Pickles things\n",
    "    Args (2):   \n",
    "        thing_to_pickle: anything you want to pickle\n",
    "        file_name: str, filename that ends with .pkl \n",
    "    Returns:\n",
    "        none\n",
    "    \"\"\"\n",
    "    with open(file_name,'wb') as file:\n",
    "        pickle.dump(thing_to_pickle, file)\n",
    "\n",
    "def unpickle_this(pickle_file):\n",
    "    \"\"\"\n",
    "    Unpickles things\n",
    "    Args (1):   \n",
    "        file_name: str, pickle filename that already exists and ends with .pkl\n",
    "    Returns:\n",
    "        pickled item\n",
    "    \"\"\"\n",
    "    with open(pickle_file, 'rb') as file:\n",
    "        return(pickle.load(file))"
   ]
  },
  {
   "cell_type": "code",
   "execution_count": 25,
   "metadata": {},
   "outputs": [
    {
     "name": "stdout",
     "output_type": "stream",
     "text": [
      "{'1.1': {'mPFC': 19, 'vHPC': 31, 'BLA': 30, 'NAc': 28, 'MD': 29}, '1.2': {'mPFC': 26, 'vHPC': 31, 'BLA': 30, 'NAc': 28, 'MD': 29}, '1.3': {'mPFC': 9, 'vHPC': 31, 'BLA': 30, 'NAc': 28, 'MD': 29}, '2.1': {'mPFC': 15, 'vHPC': 31, 'BLA': 30, 'NAc': 28, 'MD': 29}, '2.2': {'mPFC': 7, 'vHPC': 31, 'BLA': 30, 'NAc': 28, 'MD': 29}, '2.3': {'mPFC': 19, 'vHPC': 31, 'BLA': 30, 'NAc': 28, 'MD': 29}, '2.4': {'mPFC': 10, 'vHPC': 31, 'BLA': 30, 'NAc': 28, 'MD': 29}, '3.1': {'mPFC': 25, 'vHPC': 31, 'BLA': 30, 'NAc': 28, 'MD': 29}, '3.2': {'mPFC': 26, 'vHPC': 31, 'BLA': 30, 'NAc': 28, 'MD': 29}, '3.3': {'mPFC': 26, 'vHPC': 31, 'BLA': 30, 'NAc': 28, 'MD': 29}, '4.1': {'mPFC': 25, 'vHPC': 31, 'BLA': 30, 'NAc': 28, 'MD': 29}, '4.4': {'mPFC': 25, 'vHPC': 31, 'BLA': 30, 'NAc': 28, 'MD': 29}}\n"
     ]
    }
   ],
   "source": [
    "df = pd.read_excel(r\"C:\\Users\\megha\\Documents\\Padilla-Coreano\\homecage_social_ephys_vids\\pilot2\\channel_mapping_sme.xlsx\")\n",
    "spike_cols = [col for col in df.columns if 'spike_interface_' in col.lower()]\n",
    "\n",
    "# Extract brain regions from column names\n",
    "# Assumes format 'spike_interface_REGION'\n",
    "brain_regions = [col.split('spike_interface_')[1] for col in spike_cols]\n",
    "\n",
    "# Create nested dictionary\n",
    "subject_to_channel_dict = {}\n",
    "\n",
    "for _, row in df.iterrows():\n",
    "    subject = row['Subject'].astype(str)\n",
    "    # Initialize inner dictionary for this subject\n",
    "    subject_to_channel_dict[subject] = {}\n",
    "    \n",
    "    # Populate inner dictionary with brain region: spike value pairs\n",
    "    for col, region in zip(spike_cols, brain_regions):\n",
    "        subject_to_channel_dict[subject][region] = int(row[col])\n",
    "print(subject_to_channel_dict)"
   ]
  },
  {
   "cell_type": "code",
   "execution_count": null,
   "metadata": {},
   "outputs": [
    {
     "name": "stdout",
     "output_type": "stream",
     "text": [
      "dict_keys(['1.1', '1.3', '2.1', '2.2', '2.3', '2.4', '3.1', '3.2', '4.1', '4.4'])\n",
      "{'11_cups_p4_merged.rec': '1.1', '13_cups_p4_merged.rec': '1.3', '21_cups_p4_merged.rec': '2.1', '22_cups_p4_merged.rec': '2.2', '23_cups_p4_merged.rec': '2.3', '24_cups_p4_merged.rec': '2.4', '32_cups_p4_merged.rec': '3.2', '41_cups_p4_merged.rec': '4.1', '44_cups_p4_merged.rec': '4.4'}\n"
     ]
    }
   ],
   "source": [
    "data_path = r'D:\\cups\\data'\n",
    "behavior_dicts = unpickle_this(\"cups_behavior_dicts.pkl\")\n",
    "print(behavior_dicts.keys())\n",
    "recording_to_subject = {}\n",
    "recording_to_behavior_dict = {}\n",
    "for root, dirs, files in os.walk(data_path):\n",
    "    for file in files:\n",
    "        if file.endswith('merged.rec'):\n",
    "            subject = str(int((file.split(\"_\")[0]))/10)\n",
    "            \n",
    "            if subject in behavior_dicts.keys():\n",
    "                recording_to_subject[file] = subject\n",
    "                behavior_dict = behavior_dicts[subject]\n",
    "                recording_to_behavior_dict[file] = behavior_dict\n",
    "\n",
    "\n",
    "\n",
    "            "
   ]
  },
  {
   "cell_type": "code",
   "execution_count": null,
   "metadata": {},
   "outputs": [],
   "source": []
  }
 ],
 "metadata": {
  "kernelspec": {
   "display_name": "ephys_analysis",
   "language": "python",
   "name": "python3"
  },
  "language_info": {
   "codemirror_mode": {
    "name": "ipython",
    "version": 3
   },
   "file_extension": ".py",
   "mimetype": "text/x-python",
   "name": "python",
   "nbconvert_exporter": "python",
   "pygments_lexer": "ipython3",
   "version": "3.10.9"
  }
 },
 "nbformat": 4,
 "nbformat_minor": 2
}
