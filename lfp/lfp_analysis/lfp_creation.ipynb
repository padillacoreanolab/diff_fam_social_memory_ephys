{
 "cells": [
  {
   "cell_type": "code",
   "execution_count": 29,
   "metadata": {
    "tags": []
   },
   "outputs": [
    {
     "name": "stdout",
     "output_type": "stream",
     "text": [
      "env: SPECTRAL_CONNECTIVITY_ENABLE_GPU=true\n"
     ]
    }
   ],
   "source": [
    "%env SPECTRAL_CONNECTIVITY_ENABLE_GPU=true"
   ]
  },
  {
   "cell_type": "code",
   "execution_count": 30,
   "metadata": {
    "tags": []
   },
   "outputs": [],
   "source": [
    "#import sys\n",
    "#sys.path.append(\"../../lfp\")"
   ]
  },
  {
   "cell_type": "code",
   "execution_count": 31,
   "metadata": {
    "tags": []
   },
   "outputs": [],
   "source": [
    "import os\n",
    "os.chdir('/blue/npadillacoreano/mcum/SocialMemEphys/diff_fam_social_memory_ephys')\n",
    "\n"
   ]
  },
  {
   "cell_type": "code",
   "execution_count": 32,
   "metadata": {},
   "outputs": [],
   "source": [
    "\n",
    "import cupy as xp\n",
    "from cupyx.scipy.fft import ifft\n",
    "from cupyx.scipy.sparse.linalg import svds\n",
    "from spectral_connectivity import Multitaper, Connectivity\n",
    "import importlib\n",
    "import pandas as pd\n",
    "from itertools import combinations\n",
    "import os\n",
    "from bidict import bidict\n",
    "import lfp.lfp_analysis.LFP_collection as LFP_collection\n"
   ]
  },
  {
   "cell_type": "code",
   "execution_count": 33,
   "metadata": {},
   "outputs": [
    {
     "name": "stdout",
     "output_type": "stream",
     "text": [
      "{'21_diff_p2_merged.rec': '2.1', '22_diff_p2_merged.rec': '2.2', '41_diff_p2_merged.rec': '4.1', '44_diff_p2_merged.rec': '4.4', '11_diff_p2_merged.rec': '1.1', '32_diff_p2_merged.rec': '3.2', '12_diff_p2_merged.rec': '1.2', '24_diff_p2_merged.rec': '2.4', '23_diff_p2_merged.rec': '2.3', '13_diff_p2_merged.rec': '1.3', '33_diff_p2_merged.rec': '3.3', '31_diff_p2_merged.rec': '3.1'}\n",
      "Processing 21_diff_p2_merged.rec\n",
      "Found first timestamp\n",
      "Processing 22_diff_p2_merged.rec\n",
      "Found first timestamp\n",
      "Processing 41_diff_p2_merged.rec\n",
      "Found first timestamp\n",
      "Processing 44_diff_p2_merged.rec\n",
      "Found first timestamp\n",
      "Processing 11_diff_p2_merged.rec\n",
      "Found first timestamp\n",
      "Processing 32_diff_p2_merged.rec\n",
      "Found first timestamp\n",
      "Processing 12_diff_p2_merged.rec\n",
      "Found first timestamp\n",
      "Processing 24_diff_p2_merged.rec\n",
      "Found first timestamp\n",
      "Processing 23_diff_p2_merged.rec\n",
      "Found first timestamp\n",
      "Processing 13_diff_p2_merged.rec\n",
      "Found first timestamp\n",
      "Processing 33_diff_p2_merged.rec\n",
      "Found first timestamp\n",
      "Processing 31_diff_p2_merged.rec\n",
      "Found first timestamp\n"
     ]
    }
   ],
   "source": [
    "df = pd.read_excel(r\"lfp/channel_mapping_sme.xlsx\")\n",
    "spike_cols = [col for col in df.columns if 'spike_interface_' in col.lower()]\n",
    "\n",
    "# Extract brain regions from column names\n",
    "# Assumes format 'spike_interface_REGION'\n",
    "brain_regions = [col.split('spike_interface_')[1] for col in spike_cols]\n",
    "\n",
    "# Create nested dictionary\n",
    "subject_to_channel_dict = {}\n",
    "\n",
    "for _, row in df.iterrows():\n",
    "    subject = row['Subject'].astype(str)\n",
    "    # Initialize inner dictionary for this subject\n",
    "    subject_to_channel_dict[subject] = {}\n",
    "    \n",
    "    # Populate inner dictionary with brain region: spike value pairs\n",
    "    for col, region in zip(spike_cols, brain_regions):\n",
    "        subject_to_channel_dict[subject][region] = int(row[col])\n",
    "behavior_dicts = {}\n",
    "def make_recording_to_subj_dict(data_path):\n",
    "    recording_to_subject = {}\n",
    "    for root, dirs, files in os.walk(data_path):\n",
    "        for file in files:\n",
    "            if file.endswith('merged.rec'):\n",
    "                subject = str(int((file.split(\"_\")[0]))/10)\n",
    "                recording_to_subject[file] = subject\n",
    "                behavior_dicts[file] = {}\n",
    "    return recording_to_subject\n",
    "\n",
    "\n",
    "def process(data_path):\n",
    "    recording_to_subject = make_recording_to_subj_dict(data_path)\n",
    "    print(recording_to_subject)\n",
    "    collection = LFP_collection.LFPCollection(subject_to_channel_dict, data_path, recording_to_subject, 4)\n",
    "    #collection.process()\n",
    "    return collection\n",
    "    \n",
    "    \n",
    "data_path = r\"data/diff\"\n",
    "\n",
    "collection = process(data_path)\n"
   ]
  },
  {
   "cell_type": "code",
   "execution_count": 34,
   "metadata": {},
   "outputs": [
    {
     "name": "stderr",
     "output_type": "stream",
     "text": [
      "  0%|          | 0/12 [00:00<?, ?it/s]"
     ]
    },
    {
     "name": "stdout",
     "output_type": "stream",
     "text": [
      "processing 21_diff_p2_merged.rec\n",
      "RMS Traces calculated\n",
      "Power Calculated\n",
      "Coherence calcualatd\n"
     ]
    },
    {
     "name": "stderr",
     "output_type": "stream",
     "text": [
      "Maximum iterations reached. 4815 of 5111 converged\n",
      "Maximum iterations reached. 4884 of 5111 converged\n",
      "Maximum iterations reached. 4824 of 5111 converged\n",
      "Maximum iterations reached. 4343 of 5111 converged\n",
      "Maximum iterations reached. 4811 of 5111 converged\n",
      "Maximum iterations reached. 4790 of 5111 converged\n",
      "Maximum iterations reached. 4240 of 5111 converged\n",
      "Maximum iterations reached. 4834 of 5111 converged\n",
      "Maximum iterations reached. 4321 of 5111 converged\n",
      "Maximum iterations reached. 4254 of 5111 converged\n",
      "  8%|▊         | 1/12 [00:38<06:58, 38.08s/it]"
     ]
    },
    {
     "name": "stdout",
     "output_type": "stream",
     "text": [
      "Granger's causality calculated\n",
      "processing 22_diff_p2_merged.rec\n",
      "RMS Traces calculated\n",
      "Power Calculated\n",
      "Coherence calcualatd\n"
     ]
    },
    {
     "name": "stderr",
     "output_type": "stream",
     "text": [
      "Maximum iterations reached. 3692 of 5165 converged\n",
      "Maximum iterations reached. 3748 of 5165 converged\n",
      "Maximum iterations reached. 3824 of 5165 converged\n",
      "Maximum iterations reached. 4004 of 5165 converged\n",
      "Maximum iterations reached. 3496 of 5165 converged\n",
      "Maximum iterations reached. 3560 of 5165 converged\n",
      "Maximum iterations reached. 3495 of 5165 converged\n",
      "Maximum iterations reached. 3583 of 5165 converged\n",
      "Maximum iterations reached. 3592 of 5165 converged\n",
      "Maximum iterations reached. 3676 of 5165 converged\n",
      " 17%|█▋        | 2/12 [01:13<06:04, 36.45s/it]"
     ]
    },
    {
     "name": "stdout",
     "output_type": "stream",
     "text": [
      "Granger's causality calculated\n",
      "processing 41_diff_p2_merged.rec\n",
      "RMS Traces calculated\n",
      "Power Calculated\n",
      "Coherence calcualatd\n"
     ]
    },
    {
     "name": "stderr",
     "output_type": "stream",
     "text": [
      "Maximum iterations reached. 4697 of 5050 converged\n",
      "Maximum iterations reached. 4775 of 5050 converged\n",
      "Maximum iterations reached. 4688 of 5050 converged\n",
      "Maximum iterations reached. 3953 of 5050 converged\n",
      "Maximum iterations reached. 4709 of 5050 converged\n",
      "Maximum iterations reached. 4652 of 5050 converged\n",
      "Maximum iterations reached. 3899 of 5050 converged\n",
      "Maximum iterations reached. 4751 of 5050 converged\n",
      "Maximum iterations reached. 3981 of 5050 converged\n",
      "Maximum iterations reached. 3902 of 5050 converged\n",
      " 25%|██▌       | 3/12 [01:47<05:20, 35.59s/it]"
     ]
    },
    {
     "name": "stdout",
     "output_type": "stream",
     "text": [
      "Granger's causality calculated\n",
      "processing 44_diff_p2_merged.rec\n",
      "RMS Traces calculated\n",
      "Power Calculated\n",
      "Coherence calcualatd\n"
     ]
    },
    {
     "name": "stderr",
     "output_type": "stream",
     "text": [
      "Maximum iterations reached. 5224 of 5408 converged\n",
      "Maximum iterations reached. 5265 of 5408 converged\n",
      "Maximum iterations reached. 5202 of 5408 converged\n",
      "Maximum iterations reached. 4739 of 5408 converged\n",
      "Maximum iterations reached. 5251 of 5408 converged\n",
      "Maximum iterations reached. 5257 of 5408 converged\n",
      "Maximum iterations reached. 4777 of 5408 converged\n",
      "Maximum iterations reached. 5307 of 5408 converged\n",
      "Maximum iterations reached. 4823 of 5408 converged\n",
      "Maximum iterations reached. 4772 of 5408 converged\n",
      " 33%|███▎      | 4/12 [02:34<05:20, 40.03s/it]"
     ]
    },
    {
     "name": "stdout",
     "output_type": "stream",
     "text": [
      "Granger's causality calculated\n",
      "processing 11_diff_p2_merged.rec\n",
      "RMS Traces calculated\n",
      "Power Calculated\n",
      "Coherence calcualatd\n"
     ]
    },
    {
     "name": "stderr",
     "output_type": "stream",
     "text": [
      "Maximum iterations reached. 3331 of 5039 converged\n",
      "Maximum iterations reached. 3774 of 5039 converged\n",
      "Maximum iterations reached. 3345 of 5039 converged\n",
      "Maximum iterations reached. 3423 of 5039 converged\n",
      "Maximum iterations reached. 3660 of 5039 converged\n",
      "Maximum iterations reached. 3397 of 5039 converged\n",
      "Maximum iterations reached. 3339 of 5039 converged\n",
      "Maximum iterations reached. 3742 of 5039 converged\n",
      "Maximum iterations reached. 4078 of 5039 converged\n",
      "Maximum iterations reached. 3466 of 5039 converged\n",
      " 42%|████▏     | 5/12 [03:09<04:26, 38.05s/it]"
     ]
    },
    {
     "name": "stdout",
     "output_type": "stream",
     "text": [
      "Granger's causality calculated\n",
      "processing 32_diff_p2_merged.rec\n",
      "RMS Traces calculated\n",
      "Power Calculated\n",
      "Coherence calcualatd\n"
     ]
    },
    {
     "name": "stderr",
     "output_type": "stream",
     "text": [
      "Maximum iterations reached. 3866 of 5044 converged\n",
      "Maximum iterations reached. 3687 of 5044 converged\n",
      "Maximum iterations reached. 3715 of 5044 converged\n",
      "Maximum iterations reached. 3811 of 5044 converged\n",
      "Maximum iterations reached. 3524 of 5044 converged\n",
      "Maximum iterations reached. 3507 of 5044 converged\n",
      "Maximum iterations reached. 3358 of 5044 converged\n",
      "Maximum iterations reached. 3334 of 5044 converged\n",
      "Maximum iterations reached. 3211 of 5044 converged\n",
      "Maximum iterations reached. 3274 of 5044 converged\n",
      " 50%|█████     | 6/12 [03:43<03:41, 36.84s/it]"
     ]
    },
    {
     "name": "stdout",
     "output_type": "stream",
     "text": [
      "Granger's causality calculated\n",
      "processing 12_diff_p2_merged.rec\n",
      "RMS Traces calculated\n",
      "Power Calculated\n",
      "Coherence calcualatd\n"
     ]
    },
    {
     "name": "stderr",
     "output_type": "stream",
     "text": [
      "Maximum iterations reached. 4945 of 5064 converged\n",
      "Maximum iterations reached. 4999 of 5064 converged\n",
      "Maximum iterations reached. 4916 of 5064 converged\n",
      "Maximum iterations reached. 4802 of 5064 converged\n",
      "Maximum iterations reached. 4996 of 5064 converged\n",
      "Maximum iterations reached. 4918 of 5064 converged\n",
      "Maximum iterations reached. 4809 of 5064 converged\n",
      "Maximum iterations reached. 4941 of 5064 converged\n",
      "Maximum iterations reached. 4841 of 5064 converged\n",
      "Maximum iterations reached. 4743 of 5064 converged\n",
      " 58%|█████▊    | 7/12 [04:18<03:00, 36.14s/it]"
     ]
    },
    {
     "name": "stdout",
     "output_type": "stream",
     "text": [
      "Granger's causality calculated\n",
      "processing 24_diff_p2_merged.rec\n",
      "RMS Traces calculated\n",
      "Power Calculated\n",
      "Coherence calcualatd\n"
     ]
    },
    {
     "name": "stderr",
     "output_type": "stream",
     "text": [
      "Maximum iterations reached. 4511 of 5045 converged\n",
      "Maximum iterations reached. 4470 of 5045 converged\n",
      "Maximum iterations reached. 4212 of 5045 converged\n",
      "Maximum iterations reached. 4312 of 5045 converged\n",
      "Maximum iterations reached. 4252 of 5045 converged\n",
      "Maximum iterations reached. 4006 of 5045 converged\n",
      "Maximum iterations reached. 4081 of 5045 converged\n",
      "Maximum iterations reached. 3953 of 5045 converged\n",
      "Maximum iterations reached. 4029 of 5045 converged\n",
      "Maximum iterations reached. 3839 of 5045 converged\n",
      " 67%|██████▋   | 8/12 [04:53<02:22, 35.65s/it]"
     ]
    },
    {
     "name": "stdout",
     "output_type": "stream",
     "text": [
      "Granger's causality calculated\n",
      "processing 23_diff_p2_merged.rec\n",
      "RMS Traces calculated\n",
      "Power Calculated\n",
      "Coherence calcualatd\n"
     ]
    },
    {
     "name": "stderr",
     "output_type": "stream",
     "text": [
      "Maximum iterations reached. 5038 of 5282 converged\n",
      "Maximum iterations reached. 5097 of 5282 converged\n",
      "Maximum iterations reached. 4876 of 5282 converged\n",
      "Maximum iterations reached. 4152 of 5282 converged\n",
      "Maximum iterations reached. 5147 of 5282 converged\n",
      "Maximum iterations reached. 4935 of 5282 converged\n",
      "Maximum iterations reached. 4203 of 5282 converged\n",
      "Maximum iterations reached. 5000 of 5282 converged\n",
      "Maximum iterations reached. 4278 of 5282 converged\n",
      "Maximum iterations reached. 4081 of 5282 converged\n",
      " 75%|███████▌  | 9/12 [05:29<01:47, 35.79s/it]"
     ]
    },
    {
     "name": "stdout",
     "output_type": "stream",
     "text": [
      "Granger's causality calculated\n",
      "processing 13_diff_p2_merged.rec\n",
      "RMS Traces calculated\n",
      "Power Calculated\n",
      "Coherence calcualatd\n"
     ]
    },
    {
     "name": "stderr",
     "output_type": "stream",
     "text": [
      "Maximum iterations reached. 4676 of 5051 converged\n",
      "Maximum iterations reached. 4772 of 5051 converged\n",
      "Maximum iterations reached. 4413 of 5051 converged\n",
      "Maximum iterations reached. 4610 of 5051 converged\n",
      "Maximum iterations reached. 4651 of 5051 converged\n",
      "Maximum iterations reached. 4303 of 5051 converged\n",
      "Maximum iterations reached. 4481 of 5051 converged\n",
      "Maximum iterations reached. 4425 of 5051 converged\n",
      "Maximum iterations reached. 4611 of 5051 converged\n",
      "Maximum iterations reached. 4261 of 5051 converged\n",
      " 83%|████████▎ | 10/12 [06:03<01:10, 35.39s/it]"
     ]
    },
    {
     "name": "stdout",
     "output_type": "stream",
     "text": [
      "Granger's causality calculated\n",
      "processing 33_diff_p2_merged.rec\n",
      "RMS Traces calculated\n",
      "Power Calculated\n",
      "Coherence calcualatd\n"
     ]
    },
    {
     "name": "stderr",
     "output_type": "stream",
     "text": [
      "Maximum iterations reached. 4645 of 5041 converged\n",
      "Maximum iterations reached. 4659 of 5041 converged\n",
      "Maximum iterations reached. 4528 of 5041 converged\n",
      "Maximum iterations reached. 4373 of 5041 converged\n",
      "Maximum iterations reached. 4807 of 5041 converged\n",
      "Maximum iterations reached. 4681 of 5041 converged\n",
      "Maximum iterations reached. 4519 of 5041 converged\n",
      "Maximum iterations reached. 4732 of 5041 converged\n",
      "Maximum iterations reached. 4567 of 5041 converged\n",
      "Maximum iterations reached. 4425 of 5041 converged\n",
      " 92%|█████████▏| 11/12 [06:38<00:35, 35.11s/it]"
     ]
    },
    {
     "name": "stdout",
     "output_type": "stream",
     "text": [
      "Granger's causality calculated\n",
      "processing 31_diff_p2_merged.rec\n",
      "RMS Traces calculated\n",
      "Power Calculated\n",
      "Coherence calcualatd\n"
     ]
    },
    {
     "name": "stderr",
     "output_type": "stream",
     "text": [
      "Maximum iterations reached. 4765 of 5166 converged\n",
      "Maximum iterations reached. 4680 of 5166 converged\n",
      "Maximum iterations reached. 4637 of 5166 converged\n",
      "Maximum iterations reached. 4335 of 5166 converged\n",
      "Maximum iterations reached. 4760 of 5166 converged\n",
      "Maximum iterations reached. 4713 of 5166 converged\n",
      "Maximum iterations reached. 4407 of 5166 converged\n",
      "Maximum iterations reached. 4660 of 5166 converged\n",
      "Maximum iterations reached. 4358 of 5166 converged\n",
      "Maximum iterations reached. 4329 of 5166 converged\n",
      "100%|██████████| 12/12 [07:13<00:00, 36.13s/it]"
     ]
    },
    {
     "name": "stdout",
     "output_type": "stream",
     "text": [
      "Granger's causality calculated\n"
     ]
    },
    {
     "name": "stderr",
     "output_type": "stream",
     "text": [
      "\n"
     ]
    }
   ],
   "source": [
    "collection.process()\n"
   ]
  },
  {
   "cell_type": "code",
   "execution_count": 35,
   "metadata": {},
   "outputs": [],
   "source": [
    "LFP_collection.LFPCollection.save_to_json(collection, r\"data/diff_lfp\")"
   ]
  },
  {
   "cell_type": "code",
   "execution_count": 36,
   "metadata": {
    "tags": []
   },
   "outputs": [
    {
     "name": "stdout",
     "output_type": "stream",
     "text": [
      "{'44_same_p2_merged.rec': '4.4', '13_same_p2_merged.rec': '1.3', '11_same_p2_merged.rec': '1.1', '41_same_p2_merged.rec': '4.1', '23_same_p2_merged.rec': '2.3', '22_same_p2_merged.rec': '2.2', '12_same_p2_merged.rec': '1.2', '32_same_p2_merged.rec': '3.2', '21_same_p2_merged.rec': '2.1', '33_same_p2_merged.rec': '3.3', '31_same_p2_merged.rec': '3.1', '24_same_p2_merged.rec': '2.4'}\n",
      "Processing 44_same_p2_merged.rec\n",
      "Found first timestamp\n",
      "Processing 13_same_p2_merged.rec\n",
      "Found first timestamp\n",
      "Processing 11_same_p2_merged.rec\n",
      "Found first timestamp\n",
      "Processing 41_same_p2_merged.rec\n",
      "Found first timestamp\n",
      "Processing 23_same_p2_merged.rec\n",
      "Found first timestamp\n",
      "Processing 22_same_p2_merged.rec\n",
      "Found first timestamp\n",
      "Processing 12_same_p2_merged.rec\n",
      "Found first timestamp\n",
      "Processing 32_same_p2_merged.rec\n",
      "Found first timestamp\n",
      "Processing 21_same_p2_merged.rec\n",
      "Found first timestamp\n",
      "Processing 33_same_p2_merged.rec\n",
      "Found first timestamp\n",
      "Processing 31_same_p2_merged.rec\n",
      "Found first timestamp\n",
      "Processing 24_same_p2_merged.rec\n",
      "Found first timestamp\n"
     ]
    },
    {
     "name": "stderr",
     "output_type": "stream",
     "text": [
      "  0%|          | 0/12 [00:00<?, ?it/s]"
     ]
    },
    {
     "name": "stdout",
     "output_type": "stream",
     "text": [
      "processing 44_same_p2_merged.rec\n",
      "RMS Traces calculated\n",
      "Power Calculated\n",
      "Coherence calcualatd\n"
     ]
    },
    {
     "name": "stderr",
     "output_type": "stream",
     "text": [
      "Maximum iterations reached. 4915 of 5095 converged\n",
      "Maximum iterations reached. 4967 of 5095 converged\n",
      "Maximum iterations reached. 4849 of 5095 converged\n",
      "Maximum iterations reached. 4561 of 5095 converged\n",
      "Maximum iterations reached. 4937 of 5095 converged\n",
      "Maximum iterations reached. 4874 of 5095 converged\n",
      "Maximum iterations reached. 4585 of 5095 converged\n",
      "Maximum iterations reached. 4920 of 5095 converged\n",
      "Maximum iterations reached. 4645 of 5095 converged\n",
      "Maximum iterations reached. 4528 of 5095 converged\n",
      "  8%|▊         | 1/12 [00:35<06:28, 35.34s/it]"
     ]
    },
    {
     "name": "stdout",
     "output_type": "stream",
     "text": [
      "Granger's causality calculated\n",
      "processing 13_same_p2_merged.rec\n",
      "RMS Traces calculated\n",
      "Power Calculated\n",
      "Coherence calcualatd\n"
     ]
    },
    {
     "name": "stderr",
     "output_type": "stream",
     "text": [
      "Maximum iterations reached. 4636 of 5124 converged\n",
      "Maximum iterations reached. 4689 of 5124 converged\n",
      "Maximum iterations reached. 4230 of 5124 converged\n",
      "Maximum iterations reached. 4234 of 5124 converged\n",
      "Maximum iterations reached. 4583 of 5124 converged\n",
      "Maximum iterations reached. 4126 of 5124 converged\n",
      "Maximum iterations reached. 4094 of 5124 converged\n",
      "Maximum iterations reached. 4230 of 5124 converged\n",
      "Maximum iterations reached. 4215 of 5124 converged\n",
      "Maximum iterations reached. 3823 of 5124 converged\n",
      " 17%|█▋        | 2/12 [01:10<05:51, 35.18s/it]"
     ]
    },
    {
     "name": "stdout",
     "output_type": "stream",
     "text": [
      "Granger's causality calculated\n",
      "processing 11_same_p2_merged.rec\n",
      "RMS Traces calculated\n",
      "Power Calculated\n",
      "Coherence calcualatd\n"
     ]
    },
    {
     "name": "stderr",
     "output_type": "stream",
     "text": [
      "Maximum iterations reached. 3438 of 5044 converged\n",
      "Maximum iterations reached. 3552 of 5044 converged\n",
      "Maximum iterations reached. 3408 of 5044 converged\n",
      "Maximum iterations reached. 3878 of 5044 converged\n",
      "Maximum iterations reached. 3252 of 5044 converged\n",
      "Maximum iterations reached. 3176 of 5044 converged\n",
      "Maximum iterations reached. 3230 of 5044 converged\n",
      "Maximum iterations reached. 3343 of 5044 converged\n",
      "Maximum iterations reached. 3417 of 5044 converged\n",
      "Maximum iterations reached. 3244 of 5044 converged\n",
      " 25%|██▌       | 3/12 [01:44<05:13, 34.87s/it]"
     ]
    },
    {
     "name": "stdout",
     "output_type": "stream",
     "text": [
      "Granger's causality calculated\n",
      "processing 41_same_p2_merged.rec\n",
      "RMS Traces calculated\n",
      "Power Calculated\n",
      "Coherence calcualatd\n"
     ]
    },
    {
     "name": "stderr",
     "output_type": "stream",
     "text": [
      "Maximum iterations reached. 4589 of 5165 converged\n",
      "Maximum iterations reached. 4727 of 5165 converged\n",
      "Maximum iterations reached. 4604 of 5165 converged\n",
      "Maximum iterations reached. 2382 of 5165 converged\n",
      "Maximum iterations reached. 4716 of 5165 converged\n",
      "Maximum iterations reached. 4616 of 5165 converged\n",
      "Maximum iterations reached. 2397 of 5165 converged\n",
      "Maximum iterations reached. 4776 of 5165 converged\n",
      "Maximum iterations reached. 2457 of 5165 converged\n",
      "Maximum iterations reached. 2395 of 5165 converged\n",
      " 33%|███▎      | 4/12 [02:20<04:40, 35.03s/it]"
     ]
    },
    {
     "name": "stdout",
     "output_type": "stream",
     "text": [
      "Granger's causality calculated\n",
      "processing 23_same_p2_merged.rec\n",
      "RMS Traces calculated\n",
      "Power Calculated\n",
      "Coherence calcualatd\n"
     ]
    },
    {
     "name": "stderr",
     "output_type": "stream",
     "text": [
      "Maximum iterations reached. 4655 of 5040 converged\n",
      "Maximum iterations reached. 4774 of 5040 converged\n",
      "Maximum iterations reached. 4557 of 5040 converged\n",
      "Maximum iterations reached. 3913 of 5040 converged\n",
      "Maximum iterations reached. 4776 of 5040 converged\n",
      "Maximum iterations reached. 4580 of 5040 converged\n",
      "Maximum iterations reached. 3916 of 5040 converged\n",
      "Maximum iterations reached. 4737 of 5040 converged\n",
      "Maximum iterations reached. 4082 of 5040 converged\n",
      "Maximum iterations reached. 3872 of 5040 converged\n",
      " 42%|████▏     | 5/12 [02:54<04:04, 34.91s/it]"
     ]
    },
    {
     "name": "stdout",
     "output_type": "stream",
     "text": [
      "Granger's causality calculated\n",
      "processing 22_same_p2_merged.rec\n",
      "RMS Traces calculated\n",
      "Power Calculated\n",
      "Coherence calcualatd\n"
     ]
    },
    {
     "name": "stderr",
     "output_type": "stream",
     "text": [
      "Maximum iterations reached. 3680 of 5037 converged\n",
      "Maximum iterations reached. 3770 of 5037 converged\n",
      "Maximum iterations reached. 3805 of 5037 converged\n",
      "Maximum iterations reached. 3948 of 5037 converged\n",
      "Maximum iterations reached. 3490 of 5037 converged\n",
      "Maximum iterations reached. 3539 of 5037 converged\n",
      "Maximum iterations reached. 3458 of 5037 converged\n",
      "Maximum iterations reached. 3583 of 5037 converged\n",
      "Maximum iterations reached. 3598 of 5037 converged\n",
      "Maximum iterations reached. 3635 of 5037 converged\n",
      " 50%|█████     | 6/12 [03:29<03:29, 34.85s/it]"
     ]
    },
    {
     "name": "stdout",
     "output_type": "stream",
     "text": [
      "Granger's causality calculated\n",
      "processing 12_same_p2_merged.rec\n",
      "RMS Traces calculated\n",
      "Power Calculated\n",
      "Coherence calcualatd\n"
     ]
    },
    {
     "name": "stderr",
     "output_type": "stream",
     "text": [
      "Maximum iterations reached. 4886 of 5043 converged\n",
      "Maximum iterations reached. 4920 of 5043 converged\n",
      "Maximum iterations reached. 4821 of 5043 converged\n",
      "Maximum iterations reached. 4677 of 5043 converged\n",
      "Maximum iterations reached. 4945 of 5043 converged\n",
      "Maximum iterations reached. 4862 of 5043 converged\n",
      "Maximum iterations reached. 4713 of 5043 converged\n",
      "Maximum iterations reached. 4892 of 5043 converged\n",
      "Maximum iterations reached. 4750 of 5043 converged\n",
      "Maximum iterations reached. 4650 of 5043 converged\n",
      " 58%|█████▊    | 7/12 [04:04<02:54, 34.84s/it]"
     ]
    },
    {
     "name": "stdout",
     "output_type": "stream",
     "text": [
      "Granger's causality calculated\n",
      "processing 32_same_p2_merged.rec\n",
      "RMS Traces calculated\n",
      "Power Calculated\n",
      "Coherence calcualatd\n"
     ]
    },
    {
     "name": "stderr",
     "output_type": "stream",
     "text": [
      "Maximum iterations reached. 4310 of 5286 converged\n",
      "Maximum iterations reached. 4285 of 5286 converged\n",
      "Maximum iterations reached. 4231 of 5286 converged\n",
      "Maximum iterations reached. 4335 of 5286 converged\n",
      "Maximum iterations reached. 4102 of 5286 converged\n",
      "Maximum iterations reached. 4012 of 5286 converged\n",
      "Maximum iterations reached. 3934 of 5286 converged\n",
      "Maximum iterations reached. 3997 of 5286 converged\n",
      "Maximum iterations reached. 3920 of 5286 converged\n",
      "Maximum iterations reached. 3922 of 5286 converged\n",
      " 67%|██████▋   | 8/12 [04:40<02:21, 35.36s/it]"
     ]
    },
    {
     "name": "stdout",
     "output_type": "stream",
     "text": [
      "Granger's causality calculated\n",
      "processing 21_same_p2_merged.rec\n",
      "RMS Traces calculated\n",
      "Power Calculated\n",
      "Coherence calcualatd\n"
     ]
    },
    {
     "name": "stderr",
     "output_type": "stream",
     "text": [
      "Maximum iterations reached. 4645 of 5040 converged\n",
      "Maximum iterations reached. 4793 of 5040 converged\n",
      "Maximum iterations reached. 4610 of 5040 converged\n",
      "Maximum iterations reached. 4223 of 5040 converged\n",
      "Maximum iterations reached. 4745 of 5040 converged\n",
      "Maximum iterations reached. 4615 of 5040 converged\n",
      "Maximum iterations reached. 4180 of 5040 converged\n",
      "Maximum iterations reached. 4743 of 5040 converged\n",
      "Maximum iterations reached. 4350 of 5040 converged\n",
      "Maximum iterations reached. 4182 of 5040 converged\n",
      " 75%|███████▌  | 9/12 [05:15<01:45, 35.16s/it]"
     ]
    },
    {
     "name": "stdout",
     "output_type": "stream",
     "text": [
      "Granger's causality calculated\n",
      "processing 33_same_p2_merged.rec\n",
      "RMS Traces calculated\n",
      "Power Calculated\n",
      "Coherence calcualatd\n"
     ]
    },
    {
     "name": "stderr",
     "output_type": "stream",
     "text": [
      "Maximum iterations reached. 4559 of 5042 converged\n",
      "Maximum iterations reached. 4582 of 5042 converged\n",
      "Maximum iterations reached. 4430 of 5042 converged\n",
      "Maximum iterations reached. 4383 of 5042 converged\n",
      "Maximum iterations reached. 4631 of 5042 converged\n",
      "Maximum iterations reached. 4476 of 5042 converged\n",
      "Maximum iterations reached. 4437 of 5042 converged\n",
      "Maximum iterations reached. 4534 of 5042 converged\n",
      "Maximum iterations reached. 4486 of 5042 converged\n",
      "Maximum iterations reached. 4371 of 5042 converged\n",
      " 83%|████████▎ | 10/12 [05:50<01:10, 35.06s/it]"
     ]
    },
    {
     "name": "stdout",
     "output_type": "stream",
     "text": [
      "Granger's causality calculated\n",
      "processing 31_same_p2_merged.rec\n",
      "RMS Traces calculated\n",
      "Power Calculated\n",
      "Coherence calcualatd\n"
     ]
    },
    {
     "name": "stderr",
     "output_type": "stream",
     "text": [
      "Maximum iterations reached. 4034 of 5045 converged\n",
      "Maximum iterations reached. 3847 of 5045 converged\n",
      "Maximum iterations reached. 3787 of 5045 converged\n",
      "Maximum iterations reached. 3465 of 5045 converged\n",
      "Maximum iterations reached. 4071 of 5045 converged\n",
      "Maximum iterations reached. 3989 of 5045 converged\n",
      "Maximum iterations reached. 3660 of 5045 converged\n",
      "Maximum iterations reached. 3951 of 5045 converged\n",
      "Maximum iterations reached. 3649 of 5045 converged\n",
      "Maximum iterations reached. 3592 of 5045 converged\n",
      " 92%|█████████▏| 11/12 [06:25<00:34, 34.97s/it]"
     ]
    },
    {
     "name": "stdout",
     "output_type": "stream",
     "text": [
      "Granger's causality calculated\n",
      "processing 24_same_p2_merged.rec\n",
      "RMS Traces calculated\n",
      "Power Calculated\n",
      "Coherence calcualatd\n"
     ]
    },
    {
     "name": "stderr",
     "output_type": "stream",
     "text": [
      "Maximum iterations reached. 3760 of 5054 converged\n",
      "Maximum iterations reached. 4205 of 5054 converged\n",
      "Maximum iterations reached. 3706 of 5054 converged\n",
      "Maximum iterations reached. 4373 of 5054 converged\n",
      "Maximum iterations reached. 3504 of 5054 converged\n",
      "Maximum iterations reached. 3014 of 5054 converged\n",
      "Maximum iterations reached. 3626 of 5054 converged\n",
      "Maximum iterations reached. 3491 of 5054 converged\n",
      "Maximum iterations reached. 4026 of 5054 converged\n",
      "Maximum iterations reached. 3603 of 5054 converged\n",
      "100%|██████████| 12/12 [07:00<00:00, 35.07s/it]"
     ]
    },
    {
     "name": "stdout",
     "output_type": "stream",
     "text": [
      "Granger's causality calculated\n"
     ]
    },
    {
     "name": "stderr",
     "output_type": "stream",
     "text": [
      "\n"
     ]
    }
   ],
   "source": [
    "same_path = r\"data/same\"\n",
    "\n",
    "same_collection = process(same_path)\n",
    "\n",
    "same_collection.process()\n",
    "LFP_collection.LFPCollection.save_to_json(same_collection, r\"data/same_lfp\")"
   ]
  },
  {
   "cell_type": "code",
   "execution_count": null,
   "metadata": {},
   "outputs": [],
   "source": []
  }
 ],
 "metadata": {
  "kernelspec": {
   "display_name": "lfp_env",
   "language": "python",
   "name": "lfp_env"
  },
  "language_info": {
   "codemirror_mode": {
    "name": "ipython",
    "version": 3
   },
   "file_extension": ".py",
   "mimetype": "text/x-python",
   "name": "python",
   "nbconvert_exporter": "python",
   "pygments_lexer": "ipython3",
   "version": "3.11.8"
  }
 },
 "nbformat": 4,
 "nbformat_minor": 4
}
