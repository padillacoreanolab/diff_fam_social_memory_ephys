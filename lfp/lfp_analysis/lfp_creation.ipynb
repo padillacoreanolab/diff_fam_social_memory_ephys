{
 "cells": [
  {
   "cell_type": "code",
   "execution_count": 1,
   "metadata": {
    "tags": []
   },
   "outputs": [
    {
     "name": "stdout",
     "output_type": "stream",
     "text": [
      "env: SPECTRAL_CONNECTIVITY_ENABLE_GPU=true\n"
     ]
    }
   ],
   "source": [
    "%env SPECTRAL_CONNECTIVITY_ENABLE_GPU=true"
   ]
  },
  {
   "cell_type": "code",
   "execution_count": 2,
   "metadata": {
    "tags": []
   },
   "outputs": [
    {
     "name": "stderr",
     "output_type": "stream",
     "text": [
      "/blue/npadillacoreano/mcum/conda/envs/lfp_env/lib/python3.11/site-packages/tqdm/auto.py:21: TqdmWarning: IProgress not found. Please update jupyter and ipywidgets. See https://ipywidgets.readthedocs.io/en/stable/user_install.html\n",
      "  from .autonotebook import tqdm as notebook_tqdm\n"
     ]
    }
   ],
   "source": [
    "import os\n",
    "os.chdir('/blue/npadillacoreano/mcum/SocialMemEphys/diff_fam_social_memory_ephys')\n",
    "\n",
    "\n",
    "import cupy as xp\n",
    "from cupyx.scipy.fft import ifft\n",
    "from cupyx.scipy.sparse.linalg import svds\n",
    "from spectral_connectivity import Multitaper, Connectivity\n",
    "import importlib\n",
    "import pandas as pd\n",
    "from itertools import combinations\n",
    "import os\n",
    "from bidict import bidict\n",
    "import lfp.lfp_analysis.LFP_collection as LFP_collection\n",
    "\n",
    "df = pd.read_excel(r\"lfp/channel_mapping_sme.xlsx\")\n",
    "spike_cols = [col for col in df.columns if 'spike_interface_' in col.lower()]\n",
    "\n",
    "# Extract brain regions from column names\n",
    "# Assumes format 'spike_interface_REGION'\n",
    "brain_regions = [col.split('spike_interface_')[1] for col in spike_cols]\n",
    "\n",
    "# Create nested dictionary\n",
    "subject_to_channel_dict = {}\n",
    "\n",
    "\n",
    "\n",
    "\n",
    "\n",
    "\n",
    "\n",
    "for _, row in df.iterrows():\n",
    "    subject = row['Subject'].astype(str)\n",
    "    # Initialize inner dictionary for this subject\n",
    "    subject_to_channel_dict[subject] = {}\n",
    "    \n",
    "    # Populate inner dictionary with brain region: spike value pairs\n",
    "    for col, region in zip(spike_cols, brain_regions):\n",
    "        subject_to_channel_dict[subject][region] = int(row[col])\n",
    "behavior_dicts = {}\n",
    "\n",
    "def make_recording_to_subj_dict(data_path):\n",
    "    recording_to_subject = {}\n",
    "    for root, dirs, files in os.walk(data_path):\n",
    "        for file in files:\n",
    "            if file.endswith('merged.rec'):\n",
    "                subject = str(int((file.split(\"_\")[0]))/10)\n",
    "                recording_to_subject[file] = subject\n",
    "                behavior_dicts[file] = {}\n",
    "    return recording_to_subject\n",
    "\n",
    "# def process(data_path):\n",
    "#     recording_to_subject = make_recording_to_subj_dict(data_path)\n",
    "#     print(recording_to_subject)\n",
    "#     collection = LFP_collection.LFPCollection(subject_to_channel_dict, data_path, recording_to_subject, 4)\n",
    "#     #collection.process()\n",
    "#     return collection    \n",
    "    \n",
    "\n",
    "\n"
   ]
  },
  {
   "cell_type": "code",
   "execution_count": 3,
   "metadata": {
    "tags": []
   },
   "outputs": [],
   "source": [
    "data_path = r\"data/cups_data\"\n",
    "recording_to_subject = make_recording_to_subj_dict(data_path)\n"
   ]
  },
  {
   "cell_type": "code",
   "execution_count": 4,
   "metadata": {
    "tags": []
   },
   "outputs": [
    {
     "name": "stdout",
     "output_type": "stream",
     "text": [
      "Processing 44_cups_p4_merged.rec\n",
      "Found first timestamp\n",
      "Processing 22_cups_p4_merged.rec\n",
      "Found first timestamp\n",
      "Processing 21_cups_p4_merged.rec\n",
      "Found first timestamp\n",
      "Processing 23_cups_p4_merged.rec\n",
      "Found first timestamp\n",
      "Processing 41_cups_p4_merged.rec\n",
      "Found first timestamp\n",
      "Processing 31_cups_p4_merged.rec\n",
      "Found first timestamp\n",
      "Processing 32_cups_p4_merged.rec\n",
      "Found first timestamp\n",
      "Processing 11_cups_p4_merged.rec\n",
      "Found first timestamp\n",
      "Processing 24_cups_p4_merged.rec\n",
      "Found first timestamp\n",
      "Processing 13_cups_p4_merged.rec\n",
      "Found first timestamp\n"
     ]
    }
   ],
   "source": [
    "collection = LFP_collection.LFPCollection(subject_to_channel_dict, data_path, recording_to_subject, 4)\n"
   ]
  },
  {
   "cell_type": "code",
   "execution_count": 5,
   "metadata": {
    "tags": []
   },
   "outputs": [
    {
     "name": "stderr",
     "output_type": "stream",
     "text": [
      "  0%|          | 0/10 [00:00<?, ?it/s]"
     ]
    },
    {
     "name": "stdout",
     "output_type": "stream",
     "text": [
      "processing 44_cups_p4_merged.rec\n",
      "Filename: /blue/npadillacoreano/mcum/SocialMemEphys/diff_fam_social_memory_ephys/lfp/lfp_analysis/preprocessor.py\n",
      "\n",
      "Line #    Mem usage    Increment  Occurrences   Line Contents\n",
      "=============================================================\n",
      "    12    584.4 MiB    584.4 MiB           1   @profile\n",
      "    13                                         \n",
      "    14                                         def preprocess(traces, threshold, scaling):\n",
      "    15                                             # brain_region_dict, traces = map_to_region(all_traces, subject_region_dict)\n",
      "    16    681.2 MiB     96.7 MiB           1       voltage_scaled_traces = scale_voltage(traces, scaling)\n",
      "    17    777.7 MiB     96.6 MiB           1       zscored_traces = zscore(voltage_scaled_traces)\n",
      "    18    874.1 MiB     96.4 MiB           1       filtered_traces = filter(zscored_traces, voltage_scaled_traces, threshold)\n",
      "    19    982.4 MiB    108.3 MiB           1       rms_traces = root_mean_square(filtered_traces)\n",
      "    20    982.4 MiB      0.0 MiB           1       return rms_traces\n",
      "\n",
      "\n",
      "RMS Traces calculated\n",
      "Power Calculated\n",
      "Coherence calcualatd\n"
     ]
    },
    {
     "name": "stderr",
     "output_type": "stream",
     "text": [
      "Maximum iterations reached. 3987 of 5059 converged\n",
      "Maximum iterations reached. 4082 of 5059 converged\n",
      "Maximum iterations reached. 3955 of 5059 converged\n",
      "Maximum iterations reached. 3757 of 5059 converged\n",
      "Maximum iterations reached. 4188 of 5059 converged\n",
      "Maximum iterations reached. 4056 of 5059 converged\n",
      "Maximum iterations reached. 3858 of 5059 converged\n",
      "Maximum iterations reached. 4240 of 5059 converged\n",
      "Maximum iterations reached. 4165 of 5059 converged\n",
      "Maximum iterations reached. 3888 of 5059 converged\n"
     ]
    },
    {
     "name": "stdout",
     "output_type": "stream",
     "text": [
      "Granger's causality calculated\n"
     ]
    },
    {
     "name": "stderr",
     "output_type": "stream",
     "text": [
      "Maximum iterations reached. 0 of 5059 converged\n",
      "Maximum iterations reached. 0 of 5059 converged\n",
      " 10%|█         | 1/10 [02:19<20:54, 139.42s/it]"
     ]
    },
    {
     "name": "stdout",
     "output_type": "stream",
     "text": [
      "Partial Directed Coherence calculated\n",
      "processing 22_cups_p4_merged.rec\n",
      "Filename: /blue/npadillacoreano/mcum/SocialMemEphys/diff_fam_social_memory_ephys/lfp/lfp_analysis/preprocessor.py\n",
      "\n",
      "Line #    Mem usage    Increment  Occurrences   Line Contents\n",
      "=============================================================\n",
      "    12   2653.8 MiB   2653.8 MiB           1   @profile\n",
      "    13                                         \n",
      "    14                                         def preprocess(traces, threshold, scaling):\n",
      "    15                                             # brain_region_dict, traces = map_to_region(all_traces, subject_region_dict)\n",
      "    16   2753.0 MiB     99.2 MiB           1       voltage_scaled_traces = scale_voltage(traces, scaling)\n",
      "    17   2852.5 MiB     99.5 MiB           1       zscored_traces = zscore(voltage_scaled_traces)\n",
      "    18   2963.8 MiB    111.3 MiB           1       filtered_traces = filter(zscored_traces, voltage_scaled_traces, threshold)\n",
      "    19   3050.8 MiB     87.0 MiB           1       rms_traces = root_mean_square(filtered_traces)\n",
      "    20   3050.8 MiB      0.0 MiB           1       return rms_traces\n",
      "\n",
      "\n",
      "RMS Traces calculated\n",
      "Power Calculated\n",
      "Coherence calcualatd\n"
     ]
    },
    {
     "name": "stderr",
     "output_type": "stream",
     "text": [
      "Maximum iterations reached. 3523 of 5207 converged\n",
      "Maximum iterations reached. 3694 of 5207 converged\n",
      "Maximum iterations reached. 3637 of 5207 converged\n",
      "Maximum iterations reached. 3822 of 5207 converged\n",
      "Maximum iterations reached. 3477 of 5207 converged\n",
      "Maximum iterations reached. 3426 of 5207 converged\n",
      "Maximum iterations reached. 3473 of 5207 converged\n",
      "Maximum iterations reached. 3923 of 5207 converged\n",
      "Maximum iterations reached. 4111 of 5207 converged\n",
      "Maximum iterations reached. 3944 of 5207 converged\n"
     ]
    },
    {
     "name": "stdout",
     "output_type": "stream",
     "text": [
      "Granger's causality calculated\n"
     ]
    },
    {
     "name": "stderr",
     "output_type": "stream",
     "text": [
      "Maximum iterations reached. 0 of 5207 converged\n",
      "Maximum iterations reached. 0 of 5207 converged\n",
      " 20%|██        | 2/10 [04:41<18:48, 141.08s/it]"
     ]
    },
    {
     "name": "stdout",
     "output_type": "stream",
     "text": [
      "Partial Directed Coherence calculated\n",
      "processing 21_cups_p4_merged.rec\n",
      "Filename: /blue/npadillacoreano/mcum/SocialMemEphys/diff_fam_social_memory_ephys/lfp/lfp_analysis/preprocessor.py\n",
      "\n",
      "Line #    Mem usage    Increment  Occurrences   Line Contents\n",
      "=============================================================\n",
      "    12   4342.2 MiB   4342.2 MiB           1   @profile\n",
      "    13                                         \n",
      "    14                                         def preprocess(traces, threshold, scaling):\n",
      "    15                                             # brain_region_dict, traces = map_to_region(all_traces, subject_region_dict)\n",
      "    16   4438.4 MiB     96.1 MiB           1       voltage_scaled_traces = scale_voltage(traces, scaling)\n",
      "    17   4534.6 MiB     96.2 MiB           1       zscored_traces = zscore(voltage_scaled_traces)\n",
      "    18   4642.7 MiB    108.1 MiB           1       filtered_traces = filter(zscored_traces, voltage_scaled_traces, threshold)\n",
      "    19   4750.9 MiB    108.2 MiB           1       rms_traces = root_mean_square(filtered_traces)\n",
      "    20   4750.9 MiB      0.0 MiB           1       return rms_traces\n",
      "\n",
      "\n",
      "RMS Traces calculated\n",
      "Power Calculated\n",
      "Coherence calcualatd\n"
     ]
    },
    {
     "name": "stderr",
     "output_type": "stream",
     "text": [
      "Maximum iterations reached. 4199 of 5040 converged\n",
      "Maximum iterations reached. 4414 of 5040 converged\n",
      "Maximum iterations reached. 4311 of 5040 converged\n",
      "Maximum iterations reached. 3976 of 5040 converged\n",
      "Maximum iterations reached. 4325 of 5040 converged\n",
      "Maximum iterations reached. 4252 of 5040 converged\n",
      "Maximum iterations reached. 3880 of 5040 converged\n",
      "Maximum iterations reached. 4517 of 5040 converged\n",
      "Maximum iterations reached. 4209 of 5040 converged\n",
      "Maximum iterations reached. 4070 of 5040 converged\n"
     ]
    },
    {
     "name": "stdout",
     "output_type": "stream",
     "text": [
      "Granger's causality calculated\n"
     ]
    },
    {
     "name": "stderr",
     "output_type": "stream",
     "text": [
      "Maximum iterations reached. 0 of 5040 converged\n",
      "Maximum iterations reached. 0 of 5040 converged\n",
      " 30%|███       | 3/10 [06:59<16:16, 139.57s/it]"
     ]
    },
    {
     "name": "stdout",
     "output_type": "stream",
     "text": [
      "Partial Directed Coherence calculated\n",
      "processing 23_cups_p4_merged.rec\n",
      "Filename: /blue/npadillacoreano/mcum/SocialMemEphys/diff_fam_social_memory_ephys/lfp/lfp_analysis/preprocessor.py\n",
      "\n",
      "Line #    Mem usage    Increment  Occurrences   Line Contents\n",
      "=============================================================\n",
      "    12   6000.3 MiB   6000.3 MiB           1   @profile\n",
      "    13                                         \n",
      "    14                                         def preprocess(traces, threshold, scaling):\n",
      "    15                                             # brain_region_dict, traces = map_to_region(all_traces, subject_region_dict)\n",
      "    16   6096.7 MiB     96.4 MiB           1       voltage_scaled_traces = scale_voltage(traces, scaling)\n",
      "    17   6192.9 MiB     96.2 MiB           1       zscored_traces = zscore(voltage_scaled_traces)\n",
      "    18   6289.0 MiB     96.1 MiB           1       filtered_traces = filter(zscored_traces, voltage_scaled_traces, threshold)\n",
      "    19   6385.4 MiB     96.4 MiB           1       rms_traces = root_mean_square(filtered_traces)\n",
      "    20   6385.4 MiB      0.0 MiB           1       return rms_traces\n",
      "\n",
      "\n",
      "RMS Traces calculated\n",
      "Power Calculated\n",
      "Coherence calcualatd\n"
     ]
    },
    {
     "name": "stderr",
     "output_type": "stream",
     "text": [
      "Maximum iterations reached. 4498 of 5040 converged\n",
      "Maximum iterations reached. 4587 of 5040 converged\n",
      "Maximum iterations reached. 4457 of 5040 converged\n",
      "Maximum iterations reached. 3989 of 5040 converged\n",
      "Maximum iterations reached. 4666 of 5040 converged\n",
      "Maximum iterations reached. 4560 of 5040 converged\n",
      "Maximum iterations reached. 4073 of 5040 converged\n",
      "Maximum iterations reached. 4749 of 5040 converged\n",
      "Maximum iterations reached. 4312 of 5040 converged\n",
      "Maximum iterations reached. 4126 of 5040 converged\n"
     ]
    },
    {
     "name": "stdout",
     "output_type": "stream",
     "text": [
      "Granger's causality calculated\n"
     ]
    },
    {
     "name": "stderr",
     "output_type": "stream",
     "text": [
      "Maximum iterations reached. 0 of 5040 converged\n",
      "Maximum iterations reached. 0 of 5040 converged\n",
      " 40%|████      | 4/10 [09:17<13:53, 138.92s/it]"
     ]
    },
    {
     "name": "stdout",
     "output_type": "stream",
     "text": [
      "Partial Directed Coherence calculated\n",
      "processing 41_cups_p4_merged.rec\n",
      "Filename: /blue/npadillacoreano/mcum/SocialMemEphys/diff_fam_social_memory_ephys/lfp/lfp_analysis/preprocessor.py\n",
      "\n",
      "Line #    Mem usage    Increment  Occurrences   Line Contents\n",
      "=============================================================\n",
      "    12   7635.0 MiB   7635.0 MiB           1   @profile\n",
      "    13                                         \n",
      "    14                                         def preprocess(traces, threshold, scaling):\n",
      "    15                                             # brain_region_dict, traces = map_to_region(all_traces, subject_region_dict)\n",
      "    16   7731.4 MiB     96.4 MiB           1       voltage_scaled_traces = scale_voltage(traces, scaling)\n",
      "    17   7828.1 MiB     96.7 MiB           1       zscored_traces = zscore(voltage_scaled_traces)\n",
      "    18   7924.5 MiB     96.3 MiB           1       filtered_traces = filter(zscored_traces, voltage_scaled_traces, threshold)\n",
      "    19   8021.2 MiB     96.7 MiB           1       rms_traces = root_mean_square(filtered_traces)\n",
      "    20   8021.2 MiB      0.0 MiB           1       return rms_traces\n",
      "\n",
      "\n",
      "RMS Traces calculated\n",
      "Power Calculated\n",
      "Coherence calcualatd\n"
     ]
    },
    {
     "name": "stderr",
     "output_type": "stream",
     "text": [
      "Maximum iterations reached. 4415 of 5060 converged\n",
      "Maximum iterations reached. 4536 of 5060 converged\n",
      "Maximum iterations reached. 4363 of 5060 converged\n",
      "Maximum iterations reached. 3949 of 5060 converged\n",
      "Maximum iterations reached. 4473 of 5060 converged\n",
      "Maximum iterations reached. 4334 of 5060 converged\n",
      "Maximum iterations reached. 3882 of 5060 converged\n",
      "Maximum iterations reached. 4456 of 5060 converged\n",
      "Maximum iterations reached. 4029 of 5060 converged\n",
      "Maximum iterations reached. 3862 of 5060 converged\n"
     ]
    },
    {
     "name": "stdout",
     "output_type": "stream",
     "text": [
      "Granger's causality calculated\n"
     ]
    },
    {
     "name": "stderr",
     "output_type": "stream",
     "text": [
      "Maximum iterations reached. 0 of 5060 converged\n",
      "Maximum iterations reached. 0 of 5060 converged\n",
      " 50%|█████     | 5/10 [11:35<11:33, 138.62s/it]"
     ]
    },
    {
     "name": "stdout",
     "output_type": "stream",
     "text": [
      "Partial Directed Coherence calculated\n",
      "processing 31_cups_p4_merged.rec\n",
      "Filename: /blue/npadillacoreano/mcum/SocialMemEphys/diff_fam_social_memory_ephys/lfp/lfp_analysis/preprocessor.py\n",
      "\n",
      "Line #    Mem usage    Increment  Occurrences   Line Contents\n",
      "=============================================================\n",
      "    12   9275.8 MiB   9275.8 MiB           1   @profile\n",
      "    13                                         \n",
      "    14                                         def preprocess(traces, threshold, scaling):\n",
      "    15                                             # brain_region_dict, traces = map_to_region(all_traces, subject_region_dict)\n",
      "    16   9372.4 MiB     96.6 MiB           1       voltage_scaled_traces = scale_voltage(traces, scaling)\n",
      "    17   9468.9 MiB     96.6 MiB           1       zscored_traces = zscore(voltage_scaled_traces)\n",
      "    18   9565.3 MiB     96.4 MiB           1       filtered_traces = filter(zscored_traces, voltage_scaled_traces, threshold)\n",
      "    19   9662.1 MiB     96.7 MiB           1       rms_traces = root_mean_square(filtered_traces)\n",
      "    20   9662.1 MiB      0.0 MiB           1       return rms_traces\n",
      "\n",
      "\n",
      "RMS Traces calculated\n",
      "Power Calculated\n",
      "Coherence calcualatd\n"
     ]
    },
    {
     "name": "stderr",
     "output_type": "stream",
     "text": [
      "Maximum iterations reached. 4503 of 5058 converged\n",
      "Maximum iterations reached. 4515 of 5058 converged\n",
      "Maximum iterations reached. 4449 of 5058 converged\n",
      "Maximum iterations reached. 4123 of 5058 converged\n",
      "Maximum iterations reached. 4494 of 5058 converged\n",
      "Maximum iterations reached. 4424 of 5058 converged\n",
      "Maximum iterations reached. 4077 of 5058 converged\n",
      "Maximum iterations reached. 4534 of 5058 converged\n",
      "Maximum iterations reached. 4179 of 5058 converged\n",
      "Maximum iterations reached. 4139 of 5058 converged\n"
     ]
    },
    {
     "name": "stdout",
     "output_type": "stream",
     "text": [
      "Granger's causality calculated\n"
     ]
    },
    {
     "name": "stderr",
     "output_type": "stream",
     "text": [
      "Maximum iterations reached. 0 of 5058 converged\n",
      "Maximum iterations reached. 0 of 5058 converged\n",
      " 60%|██████    | 6/10 [13:53<09:13, 138.42s/it]"
     ]
    },
    {
     "name": "stdout",
     "output_type": "stream",
     "text": [
      "Partial Directed Coherence calculated\n",
      "processing 32_cups_p4_merged.rec\n",
      "Filename: /blue/npadillacoreano/mcum/SocialMemEphys/diff_fam_social_memory_ephys/lfp/lfp_analysis/preprocessor.py\n",
      "\n",
      "Line #    Mem usage    Increment  Occurrences   Line Contents\n",
      "=============================================================\n",
      "    12  10916.2 MiB  10916.2 MiB           1   @profile\n",
      "    13                                         \n",
      "    14                                         def preprocess(traces, threshold, scaling):\n",
      "    15                                             # brain_region_dict, traces = map_to_region(all_traces, subject_region_dict)\n",
      "    16  11012.8 MiB     96.7 MiB           1       voltage_scaled_traces = scale_voltage(traces, scaling)\n",
      "    17  11109.5 MiB     96.6 MiB           1       zscored_traces = zscore(voltage_scaled_traces)\n",
      "    18  11205.9 MiB     96.4 MiB           1       filtered_traces = filter(zscored_traces, voltage_scaled_traces, threshold)\n",
      "    19  11302.9 MiB     97.0 MiB           1       rms_traces = root_mean_square(filtered_traces)\n",
      "    20  11302.9 MiB      0.0 MiB           1       return rms_traces\n",
      "\n",
      "\n",
      "RMS Traces calculated\n",
      "Power Calculated\n",
      "Coherence calcualatd\n"
     ]
    },
    {
     "name": "stderr",
     "output_type": "stream",
     "text": [
      "Maximum iterations reached. 3534 of 5063 converged\n",
      "Maximum iterations reached. 3546 of 5063 converged\n",
      "Maximum iterations reached. 3685 of 5063 converged\n",
      "Maximum iterations reached. 3626 of 5063 converged\n",
      "Maximum iterations reached. 3342 of 5063 converged\n",
      "Maximum iterations reached. 3414 of 5063 converged\n",
      "Maximum iterations reached. 3211 of 5063 converged\n",
      "Maximum iterations reached. 3483 of 5063 converged\n",
      "Maximum iterations reached. 3318 of 5063 converged\n",
      "Maximum iterations reached. 3562 of 5063 converged\n"
     ]
    },
    {
     "name": "stdout",
     "output_type": "stream",
     "text": [
      "Granger's causality calculated\n"
     ]
    },
    {
     "name": "stderr",
     "output_type": "stream",
     "text": [
      "Maximum iterations reached. 0 of 5063 converged\n",
      "Maximum iterations reached. 0 of 5063 converged\n",
      " 70%|███████   | 7/10 [16:08<06:51, 137.25s/it]"
     ]
    },
    {
     "name": "stdout",
     "output_type": "stream",
     "text": [
      "Partial Directed Coherence calculated\n",
      "processing 11_cups_p4_merged.rec\n",
      "Filename: /blue/npadillacoreano/mcum/SocialMemEphys/diff_fam_social_memory_ephys/lfp/lfp_analysis/preprocessor.py\n",
      "\n",
      "Line #    Mem usage    Increment  Occurrences   Line Contents\n",
      "=============================================================\n",
      "    12  12558.2 MiB  12558.2 MiB           1   @profile\n",
      "    13                                         \n",
      "    14                                         def preprocess(traces, threshold, scaling):\n",
      "    15                                             # brain_region_dict, traces = map_to_region(all_traces, subject_region_dict)\n",
      "    16  12657.2 MiB     98.9 MiB           1       voltage_scaled_traces = scale_voltage(traces, scaling)\n",
      "    17  12756.2 MiB     99.1 MiB           1       zscored_traces = zscore(voltage_scaled_traces)\n",
      "    18  12855.1 MiB     98.8 MiB           1       filtered_traces = filter(zscored_traces, voltage_scaled_traces, threshold)\n",
      "    19  12930.2 MiB     75.2 MiB           1       rms_traces = root_mean_square(filtered_traces)\n",
      "    20  12930.2 MiB      0.0 MiB           1       return rms_traces\n",
      "\n",
      "\n",
      "RMS Traces calculated\n",
      "Power Calculated\n",
      "Coherence calcualatd\n"
     ]
    },
    {
     "name": "stderr",
     "output_type": "stream",
     "text": [
      "Maximum iterations reached. 3616 of 5189 converged\n",
      "Maximum iterations reached. 3264 of 5189 converged\n",
      "Maximum iterations reached. 3896 of 5189 converged\n",
      "Maximum iterations reached. 4139 of 5189 converged\n",
      "Maximum iterations reached. 2707 of 5189 converged\n",
      "Maximum iterations reached. 3410 of 5189 converged\n",
      "Maximum iterations reached. 3352 of 5189 converged\n",
      "Maximum iterations reached. 2998 of 5189 converged\n",
      "Maximum iterations reached. 3221 of 5189 converged\n",
      "Maximum iterations reached. 3740 of 5189 converged\n"
     ]
    },
    {
     "name": "stdout",
     "output_type": "stream",
     "text": [
      "Granger's causality calculated\n"
     ]
    },
    {
     "name": "stderr",
     "output_type": "stream",
     "text": [
      "Maximum iterations reached. 0 of 5189 converged\n",
      "Maximum iterations reached. 0 of 5189 converged\n",
      " 80%|████████  | 8/10 [17:00<03:40, 110.27s/it]"
     ]
    },
    {
     "name": "stdout",
     "output_type": "stream",
     "text": [
      "Partial Directed Coherence calculated\n",
      "processing 24_cups_p4_merged.rec\n",
      "Filename: /blue/npadillacoreano/mcum/SocialMemEphys/diff_fam_social_memory_ephys/lfp/lfp_analysis/preprocessor.py\n",
      "\n",
      "Line #    Mem usage    Increment  Occurrences   Line Contents\n",
      "=============================================================\n",
      "    12  14216.9 MiB  14216.9 MiB           1   @profile\n",
      "    13                                         \n",
      "    14                                         def preprocess(traces, threshold, scaling):\n",
      "    15                                             # brain_region_dict, traces = map_to_region(all_traces, subject_region_dict)\n",
      "    16  14310.8 MiB     93.9 MiB           1       voltage_scaled_traces = scale_voltage(traces, scaling)\n",
      "    17  14404.7 MiB     93.9 MiB           1       zscored_traces = zscore(voltage_scaled_traces)\n",
      "    18  14509.9 MiB    105.2 MiB           1       filtered_traces = filter(zscored_traces, voltage_scaled_traces, threshold)\n",
      "    19  14615.6 MiB    105.7 MiB           1       rms_traces = root_mean_square(filtered_traces)\n",
      "    20  14615.6 MiB      0.0 MiB           1       return rms_traces\n",
      "\n",
      "\n",
      "RMS Traces calculated\n",
      "Power Calculated\n",
      "Coherence calcualatd\n"
     ]
    },
    {
     "name": "stderr",
     "output_type": "stream",
     "text": [
      "Maximum iterations reached. 3499 of 4920 converged\n",
      "Maximum iterations reached. 3569 of 4920 converged\n",
      "Maximum iterations reached. 3616 of 4920 converged\n",
      "Maximum iterations reached. 3777 of 4920 converged\n",
      "Maximum iterations reached. 3483 of 4920 converged\n",
      "Maximum iterations reached. 3541 of 4920 converged\n",
      "Maximum iterations reached. 3675 of 4920 converged\n",
      "Maximum iterations reached. 3612 of 4920 converged\n",
      "Maximum iterations reached. 3685 of 4920 converged\n",
      "Maximum iterations reached. 3796 of 4920 converged\n"
     ]
    },
    {
     "name": "stdout",
     "output_type": "stream",
     "text": [
      "Granger's causality calculated\n"
     ]
    },
    {
     "name": "stderr",
     "output_type": "stream",
     "text": [
      "Maximum iterations reached. 0 of 4920 converged\n",
      "Maximum iterations reached. 0 of 4920 converged\n",
      " 90%|█████████ | 9/10 [17:50<01:31, 91.42s/it] "
     ]
    },
    {
     "name": "stdout",
     "output_type": "stream",
     "text": [
      "Partial Directed Coherence calculated\n",
      "processing 13_cups_p4_merged.rec\n",
      "Filename: /blue/npadillacoreano/mcum/SocialMemEphys/diff_fam_social_memory_ephys/lfp/lfp_analysis/preprocessor.py\n",
      "\n",
      "Line #    Mem usage    Increment  Occurrences   Line Contents\n",
      "=============================================================\n",
      "    12  15835.6 MiB  15835.6 MiB           1   @profile\n",
      "    13                                         \n",
      "    14                                         def preprocess(traces, threshold, scaling):\n",
      "    15                                             # brain_region_dict, traces = map_to_region(all_traces, subject_region_dict)\n",
      "    16  15934.0 MiB     98.4 MiB           1       voltage_scaled_traces = scale_voltage(traces, scaling)\n",
      "    17  16032.6 MiB     98.7 MiB           1       zscored_traces = zscore(voltage_scaled_traces)\n",
      "    18  16131.0 MiB     98.4 MiB           1       filtered_traces = filter(zscored_traces, voltage_scaled_traces, threshold)\n",
      "    19  16230.7 MiB     99.6 MiB           1       rms_traces = root_mean_square(filtered_traces)\n",
      "    20  16230.7 MiB      0.0 MiB           1       return rms_traces\n",
      "\n",
      "\n",
      "RMS Traces calculated\n",
      "Power Calculated\n",
      "Coherence calcualatd\n"
     ]
    },
    {
     "name": "stderr",
     "output_type": "stream",
     "text": [
      "Maximum iterations reached. 4425 of 5162 converged\n",
      "Maximum iterations reached. 4583 of 5162 converged\n",
      "Maximum iterations reached. 4362 of 5162 converged\n",
      "Maximum iterations reached. 4486 of 5162 converged\n",
      "Maximum iterations reached. 4446 of 5162 converged\n",
      "Maximum iterations reached. 4207 of 5162 converged\n",
      "Maximum iterations reached. 4310 of 5162 converged\n",
      "Maximum iterations reached. 4392 of 5162 converged\n",
      "Maximum iterations reached. 4503 of 5162 converged\n",
      "Maximum iterations reached. 4300 of 5162 converged\n"
     ]
    },
    {
     "name": "stdout",
     "output_type": "stream",
     "text": [
      "Granger's causality calculated\n"
     ]
    },
    {
     "name": "stderr",
     "output_type": "stream",
     "text": [
      "Maximum iterations reached. 0 of 5162 converged\n",
      "Maximum iterations reached. 0 of 5162 converged\n",
      "100%|██████████| 10/10 [18:43<00:00, 112.32s/it]"
     ]
    },
    {
     "name": "stdout",
     "output_type": "stream",
     "text": [
      "Partial Directed Coherence calculated\n"
     ]
    },
    {
     "name": "stderr",
     "output_type": "stream",
     "text": [
      "\n"
     ]
    }
   ],
   "source": [
    "collection.process()"
   ]
  },
  {
   "cell_type": "code",
   "execution_count": 6,
   "metadata": {},
   "outputs": [],
   "source": [
    "LFP_collection.LFPCollection.save_to_json(collection, r\"data/cups_lfp\")"
   ]
  },
  {
   "cell_type": "code",
   "execution_count": null,
   "metadata": {},
   "outputs": [],
   "source": []
  }
 ],
 "metadata": {
  "kernelspec": {
   "display_name": "lfp_env",
   "language": "python",
   "name": "lfp_env"
  },
  "language_info": {
   "codemirror_mode": {
    "name": "ipython",
    "version": 3
   },
   "file_extension": ".py",
   "mimetype": "text/x-python",
   "name": "python",
   "nbconvert_exporter": "python",
   "pygments_lexer": "ipython3",
   "version": "3.11.8"
  }
 },
 "nbformat": 4,
 "nbformat_minor": 4
}
