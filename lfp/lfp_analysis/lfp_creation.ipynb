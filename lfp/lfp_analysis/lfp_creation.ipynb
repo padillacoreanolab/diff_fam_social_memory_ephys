{
 "cells": [
  {
   "cell_type": "code",
   "execution_count": 14,
   "metadata": {
    "tags": []
   },
   "outputs": [
    {
     "name": "stdout",
     "output_type": "stream",
     "text": [
      "env: SPECTRAL_CONNECTIVITY_ENABLE_GPU=true\n"
     ]
    }
   ],
   "source": [
    "%env SPECTRAL_CONNECTIVITY_ENABLE_GPU=true"
   ]
  },
  {
   "cell_type": "code",
   "execution_count": 15,
   "metadata": {
    "tags": []
   },
   "outputs": [],
   "source": [
    "#import sys\n",
    "#sys.path.append(\"../../lfp\")"
   ]
  },
  {
   "cell_type": "code",
   "execution_count": 16,
   "metadata": {
    "tags": []
   },
   "outputs": [],
   "source": [
    "import os\n",
    "os.chdir('/blue/npadillacoreano/mcum/SocialMemEphys/diff_fam_social_memory_ephys')\n",
    "\n"
   ]
  },
  {
   "cell_type": "code",
   "execution_count": 17,
   "metadata": {},
   "outputs": [],
   "source": [
    "\n",
    "import cupy as xp\n",
    "from cupyx.scipy.fft import ifft\n",
    "from cupyx.scipy.sparse.linalg import svds\n",
    "from spectral_connectivity import Multitaper, Connectivity\n",
    "import importlib\n",
    "import pandas as pd\n",
    "from itertools import combinations\n",
    "import os\n",
    "from bidict import bidict\n",
    "import lfp.lfp_analysis.LFP_collection as LFP_collection\n"
   ]
  },
  {
   "cell_type": "code",
   "execution_count": 21,
   "metadata": {},
   "outputs": [
    {
     "name": "stdout",
     "output_type": "stream",
     "text": [
      "{'24_nov_p1_merged.rec': '2.4', '11_nov_p1_merged.rec': '1.1', '22_nov_p1_merged.rec': '2.2', '44_nov_p1_merged.rec': '4.4', '23_nov_p1_merged.rec': '2.3', '41_nov_p1_merged.rec': '4.1', '31_nov_p1_merged.rec': '3.1', '21_nov_p1_merged.rec': '2.1', '33_nov_p1_merged.rec': '3.3', '12_nov_p1_merged.rec': '1.2', '13_nov_p1_merged.rec': '1.3', '32_nov_p1_merged.rec': '3.2'}\n",
      "Processing 24_nov_p1_merged.rec\n",
      "Found first timestamp\n",
      "Processing 11_nov_p1_merged.rec\n",
      "Found first timestamp\n",
      "Processing 22_nov_p1_merged.rec\n",
      "Found first timestamp\n",
      "Processing 44_nov_p1_merged.rec\n",
      "Found first timestamp\n",
      "Processing 23_nov_p1_merged.rec\n",
      "Found first timestamp\n",
      "Processing 41_nov_p1_merged.rec\n",
      "Found first timestamp\n",
      "Processing 31_nov_p1_merged.rec\n",
      "Found first timestamp\n",
      "Processing 21_nov_p1_merged.rec\n",
      "Found first timestamp\n",
      "Processing 33_nov_p1_merged.rec\n",
      "Found first timestamp\n",
      "Processing 12_nov_p1_merged.rec\n",
      "Found first timestamp\n",
      "Processing 13_nov_p1_merged.rec\n",
      "Found first timestamp\n",
      "Processing 32_nov_p1_merged.rec\n",
      "Found first timestamp\n"
     ]
    }
   ],
   "source": [
    "df = pd.read_excel(r\"lfp/channel_mapping_sme.xlsx\")\n",
    "spike_cols = [col for col in df.columns if 'spike_interface_' in col.lower()]\n",
    "\n",
    "# Extract brain regions from column names\n",
    "# Assumes format 'spike_interface_REGION'\n",
    "brain_regions = [col.split('spike_interface_')[1] for col in spike_cols]\n",
    "\n",
    "# Create nested dictionary\n",
    "subject_to_channel_dict = {}\n",
    "\n",
    "for _, row in df.iterrows():\n",
    "    subject = row['Subject'].astype(str)\n",
    "    # Initialize inner dictionary for this subject\n",
    "    subject_to_channel_dict[subject] = {}\n",
    "    \n",
    "    # Populate inner dictionary with brain region: spike value pairs\n",
    "    for col, region in zip(spike_cols, brain_regions):\n",
    "        subject_to_channel_dict[subject][region] = int(row[col])\n",
    "behavior_dicts = {}\n",
    "def make_recording_to_subj_dict(data_path):\n",
    "    recording_to_subject = {}\n",
    "    for root, dirs, files in os.walk(data_path):\n",
    "        for file in files:\n",
    "            if file.endswith('merged.rec'):\n",
    "                subject = str(int((file.split(\"_\")[0]))/10)\n",
    "                recording_to_subject[file] = subject\n",
    "                behavior_dicts[file] = {}\n",
    "    return recording_to_subject\n",
    "\n",
    "\n",
    "def process(data_path):\n",
    "    recording_to_subject = make_recording_to_subj_dict(data_path)\n",
    "    print(recording_to_subject)\n",
    "    collection = LFP_collection.LFPCollection(subject_to_channel_dict, data_path, recording_to_subject, 4)\n",
    "    #collection.process()\n",
    "    return collection\n",
    "    \n",
    "    \n",
    "data_path = r\"data/diff\"\n",
    "\n",
    "collection = process(data_path)\n"
   ]
  },
  {
   "cell_type": "code",
   "execution_count": 22,
   "metadata": {},
   "outputs": [
    {
     "name": "stderr",
     "output_type": "stream",
     "text": [
      "  0%|          | 0/12 [00:00<?, ?it/s]"
     ]
    },
    {
     "name": "stdout",
     "output_type": "stream",
     "text": [
      "processing 24_nov_p1_merged.rec\n",
      "RMS Traces calculated\n",
      "Power Calculated\n",
      "Coherence calcualatd\n"
     ]
    },
    {
     "name": "stderr",
     "output_type": "stream",
     "text": [
      "Maximum iterations reached. 3717 of 4681 converged\n",
      "Maximum iterations reached. 3817 of 4681 converged\n",
      "Maximum iterations reached. 3284 of 4681 converged\n",
      "Maximum iterations reached. 4067 of 4681 converged\n",
      "Maximum iterations reached. 3594 of 4681 converged\n",
      "Maximum iterations reached. 2930 of 4681 converged\n",
      "Maximum iterations reached. 3545 of 4681 converged\n",
      "Maximum iterations reached. 3025 of 4681 converged\n",
      "Maximum iterations reached. 3615 of 4681 converged\n",
      "Maximum iterations reached. 3115 of 4681 converged\n",
      "  8%|▊         | 1/12 [00:33<06:07, 33.43s/it]"
     ]
    },
    {
     "name": "stdout",
     "output_type": "stream",
     "text": [
      "Granger's causality calculated\n",
      "processing 11_nov_p1_merged.rec\n",
      "RMS Traces calculated\n",
      "Power Calculated\n",
      "Coherence calcualatd\n"
     ]
    },
    {
     "name": "stderr",
     "output_type": "stream",
     "text": [
      "Maximum iterations reached. 2862 of 4681 converged\n",
      "Maximum iterations reached. 2493 of 4681 converged\n",
      "Maximum iterations reached. 2912 of 4681 converged\n",
      "Maximum iterations reached. 3138 of 4681 converged\n",
      "Maximum iterations reached. 2357 of 4681 converged\n",
      "Maximum iterations reached. 2953 of 4681 converged\n",
      "Maximum iterations reached. 3049 of 4681 converged\n",
      "Maximum iterations reached. 2449 of 4681 converged\n",
      "Maximum iterations reached. 2617 of 4681 converged\n",
      "Maximum iterations reached. 3230 of 4681 converged\n",
      " 17%|█▋        | 2/12 [01:05<05:25, 32.60s/it]"
     ]
    },
    {
     "name": "stdout",
     "output_type": "stream",
     "text": [
      "Granger's causality calculated\n",
      "processing 22_nov_p1_merged.rec\n",
      "RMS Traces calculated\n",
      "Power Calculated\n",
      "Coherence calcualatd\n"
     ]
    },
    {
     "name": "stderr",
     "output_type": "stream",
     "text": [
      "Maximum iterations reached. 3072 of 4682 converged\n",
      "Maximum iterations reached. 3341 of 4682 converged\n",
      "Maximum iterations reached. 3525 of 4682 converged\n",
      "Maximum iterations reached. 3774 of 4682 converged\n",
      "Maximum iterations reached. 2922 of 4682 converged\n",
      "Maximum iterations reached. 2970 of 4682 converged\n",
      "Maximum iterations reached. 2931 of 4682 converged\n",
      "Maximum iterations reached. 3218 of 4682 converged\n",
      "Maximum iterations reached. 3248 of 4682 converged\n",
      "Maximum iterations reached. 3453 of 4682 converged\n",
      " 25%|██▌       | 3/12 [01:37<04:51, 32.36s/it]"
     ]
    },
    {
     "name": "stdout",
     "output_type": "stream",
     "text": [
      "Granger's causality calculated\n",
      "processing 44_nov_p1_merged.rec\n",
      "RMS Traces calculated\n",
      "Power Calculated\n",
      "Coherence calcualatd\n"
     ]
    },
    {
     "name": "stderr",
     "output_type": "stream",
     "text": [
      "Maximum iterations reached. 2468 of 4683 converged\n",
      "Maximum iterations reached. 2500 of 4683 converged\n",
      "Maximum iterations reached. 2469 of 4683 converged\n",
      "Maximum iterations reached. 2286 of 4683 converged\n",
      "Maximum iterations reached. 4490 of 4683 converged\n",
      "Maximum iterations reached. 4432 of 4683 converged\n",
      "Maximum iterations reached. 4022 of 4683 converged\n",
      "Maximum iterations reached. 4523 of 4683 converged\n",
      "Maximum iterations reached. 4132 of 4683 converged\n",
      "Maximum iterations reached. 4048 of 4683 converged\n",
      " 33%|███▎      | 4/12 [02:09<04:17, 32.23s/it]"
     ]
    },
    {
     "name": "stdout",
     "output_type": "stream",
     "text": [
      "Granger's causality calculated\n",
      "processing 23_nov_p1_merged.rec\n",
      "RMS Traces calculated\n",
      "Power Calculated\n",
      "Coherence calcualatd\n"
     ]
    },
    {
     "name": "stderr",
     "output_type": "stream",
     "text": [
      "Maximum iterations reached. 4468 of 4683 converged\n",
      "Maximum iterations reached. 4552 of 4683 converged\n",
      "Maximum iterations reached. 4497 of 4683 converged\n",
      "Maximum iterations reached. 3660 of 4683 converged\n",
      "Maximum iterations reached. 4452 of 4683 converged\n",
      "Maximum iterations reached. 4424 of 4683 converged\n",
      "Maximum iterations reached. 3609 of 4683 converged\n",
      "Maximum iterations reached. 4517 of 4683 converged\n",
      "Maximum iterations reached. 3658 of 4683 converged\n",
      "Maximum iterations reached. 3611 of 4683 converged\n",
      " 42%|████▏     | 5/12 [02:41<03:45, 32.17s/it]"
     ]
    },
    {
     "name": "stdout",
     "output_type": "stream",
     "text": [
      "Granger's causality calculated\n",
      "processing 41_nov_p1_merged.rec\n",
      "RMS Traces calculated\n",
      "Power Calculated\n",
      "Coherence calcualatd\n"
     ]
    },
    {
     "name": "stderr",
     "output_type": "stream",
     "text": [
      "Maximum iterations reached. 2958 of 4679 converged\n",
      "Maximum iterations reached. 3003 of 4679 converged\n",
      "Maximum iterations reached. 2923 of 4679 converged\n",
      "Maximum iterations reached. 2857 of 4679 converged\n",
      "Maximum iterations reached. 4440 of 4679 converged\n",
      "Maximum iterations reached. 4300 of 4679 converged\n",
      "Maximum iterations reached. 3920 of 4679 converged\n",
      "Maximum iterations reached. 4352 of 4679 converged\n",
      "Maximum iterations reached. 3978 of 4679 converged\n",
      "Maximum iterations reached. 3864 of 4679 converged\n",
      " 50%|█████     | 6/12 [03:13<03:12, 32.11s/it]"
     ]
    },
    {
     "name": "stdout",
     "output_type": "stream",
     "text": [
      "Granger's causality calculated\n",
      "processing 31_nov_p1_merged.rec\n",
      "RMS Traces calculated\n",
      "Power Calculated\n",
      "Coherence calcualatd\n"
     ]
    },
    {
     "name": "stderr",
     "output_type": "stream",
     "text": [
      "Maximum iterations reached. 2110 of 4633 converged\n",
      "Maximum iterations reached. 2121 of 4633 converged\n",
      "Maximum iterations reached. 2130 of 4633 converged\n",
      "Maximum iterations reached. 2031 of 4633 converged\n",
      "Maximum iterations reached. 3384 of 4633 converged\n",
      "Maximum iterations reached. 3850 of 4633 converged\n",
      "Maximum iterations reached. 3360 of 4633 converged\n",
      "Maximum iterations reached. 3372 of 4633 converged\n",
      "Maximum iterations reached. 3005 of 4633 converged\n",
      "Maximum iterations reached. 3417 of 4633 converged\n",
      " 58%|█████▊    | 7/12 [03:45<02:40, 32.17s/it]"
     ]
    },
    {
     "name": "stdout",
     "output_type": "stream",
     "text": [
      "Granger's causality calculated\n",
      "processing 21_nov_p1_merged.rec\n",
      "RMS Traces calculated\n",
      "Power Calculated\n",
      "Coherence calcualatd\n"
     ]
    },
    {
     "name": "stderr",
     "output_type": "stream",
     "text": [
      "Maximum iterations reached. 2873 of 4633 converged\n",
      "Maximum iterations reached. 3575 of 4633 converged\n",
      "Maximum iterations reached. 2939 of 4633 converged\n",
      "Maximum iterations reached. 2277 of 4633 converged\n",
      "Maximum iterations reached. 2999 of 4633 converged\n",
      "Maximum iterations reached. 2722 of 4633 converged\n",
      "Maximum iterations reached. 2273 of 4633 converged\n",
      "Maximum iterations reached. 3045 of 4633 converged\n",
      "Maximum iterations reached. 2328 of 4633 converged\n",
      "Maximum iterations reached. 2145 of 4633 converged\n",
      " 67%|██████▋   | 8/12 [04:17<02:07, 32.00s/it]"
     ]
    },
    {
     "name": "stdout",
     "output_type": "stream",
     "text": [
      "Granger's causality calculated\n",
      "processing 33_nov_p1_merged.rec\n",
      "RMS Traces calculated\n",
      "Power Calculated\n",
      "Coherence calcualatd\n"
     ]
    },
    {
     "name": "stderr",
     "output_type": "stream",
     "text": [
      "Maximum iterations reached. 3432 of 4681 converged\n",
      "Maximum iterations reached. 3425 of 4681 converged\n",
      "Maximum iterations reached. 3333 of 4681 converged\n",
      "Maximum iterations reached. 3257 of 4681 converged\n",
      "Maximum iterations reached. 4448 of 4681 converged\n",
      "Maximum iterations reached. 4313 of 4681 converged\n",
      "Maximum iterations reached. 4223 of 4681 converged\n",
      "Maximum iterations reached. 4351 of 4681 converged\n",
      "Maximum iterations reached. 4255 of 4681 converged\n",
      "Maximum iterations reached. 4172 of 4681 converged\n",
      " 75%|███████▌  | 9/12 [04:49<01:36, 32.03s/it]"
     ]
    },
    {
     "name": "stdout",
     "output_type": "stream",
     "text": [
      "Granger's causality calculated\n",
      "processing 12_nov_p1_merged.rec\n",
      "RMS Traces calculated\n",
      "Power Calculated\n",
      "Coherence calcualatd\n"
     ]
    },
    {
     "name": "stderr",
     "output_type": "stream",
     "text": [
      "Maximum iterations reached. 3876 of 4681 converged\n",
      "Maximum iterations reached. 4030 of 4681 converged\n",
      "Maximum iterations reached. 3882 of 4681 converged\n",
      "Maximum iterations reached. 3281 of 4681 converged\n",
      "Maximum iterations reached. 3677 of 4681 converged\n",
      "Maximum iterations reached. 3843 of 4681 converged\n",
      "Maximum iterations reached. 3265 of 4681 converged\n",
      "Maximum iterations reached. 3688 of 4681 converged\n",
      "Maximum iterations reached. 3296 of 4681 converged\n",
      "Maximum iterations reached. 3175 of 4681 converged\n",
      " 83%|████████▎ | 10/12 [05:21<01:04, 32.07s/it]"
     ]
    },
    {
     "name": "stdout",
     "output_type": "stream",
     "text": [
      "Granger's causality calculated\n",
      "processing 13_nov_p1_merged.rec\n",
      "RMS Traces calculated\n",
      "Power Calculated\n",
      "Coherence calcualatd\n"
     ]
    },
    {
     "name": "stderr",
     "output_type": "stream",
     "text": [
      "Maximum iterations reached. 4199 of 4679 converged\n",
      "Maximum iterations reached. 4398 of 4679 converged\n",
      "Maximum iterations reached. 4072 of 4679 converged\n",
      "Maximum iterations reached. 4245 of 4679 converged\n",
      "Maximum iterations reached. 4199 of 4679 converged\n",
      "Maximum iterations reached. 3885 of 4679 converged\n",
      "Maximum iterations reached. 4043 of 4679 converged\n",
      "Maximum iterations reached. 4082 of 4679 converged\n",
      "Maximum iterations reached. 4250 of 4679 converged\n",
      "Maximum iterations reached. 3953 of 4679 converged\n",
      " 92%|█████████▏| 11/12 [05:53<00:32, 32.07s/it]"
     ]
    },
    {
     "name": "stdout",
     "output_type": "stream",
     "text": [
      "Granger's causality calculated\n",
      "processing 32_nov_p1_merged.rec\n",
      "RMS Traces calculated\n",
      "Power Calculated\n",
      "Coherence calcualatd\n"
     ]
    },
    {
     "name": "stderr",
     "output_type": "stream",
     "text": [
      "Maximum iterations reached. 3058 of 4680 converged\n",
      "Maximum iterations reached. 2668 of 4680 converged\n",
      "Maximum iterations reached. 3080 of 4680 converged\n",
      "Maximum iterations reached. 3198 of 4680 converged\n",
      "Maximum iterations reached. 2604 of 4680 converged\n",
      "Maximum iterations reached. 2898 of 4680 converged\n",
      "Maximum iterations reached. 2785 of 4680 converged\n",
      "Maximum iterations reached. 2570 of 4680 converged\n",
      "Maximum iterations reached. 2432 of 4680 converged\n",
      "Maximum iterations reached. 2901 of 4680 converged\n",
      "100%|██████████| 12/12 [06:25<00:00, 32.16s/it]"
     ]
    },
    {
     "name": "stdout",
     "output_type": "stream",
     "text": [
      "Granger's causality calculated\n"
     ]
    },
    {
     "name": "stderr",
     "output_type": "stream",
     "text": [
      "\n"
     ]
    }
   ],
   "source": [
    "collection.process()\n"
   ]
  },
  {
   "cell_type": "code",
   "execution_count": 23,
   "metadata": {},
   "outputs": [],
   "source": [
    "LFP_collection.LFPCollection.save_to_json(collection, r\"data/diff_lfp\")"
   ]
  },
  {
   "cell_type": "code",
   "execution_count": null,
   "metadata": {},
   "outputs": [],
   "source": []
  }
 ],
 "metadata": {
  "kernelspec": {
   "display_name": "lfp_env",
   "language": "python",
   "name": "lfp_env"
  },
  "language_info": {
   "codemirror_mode": {
    "name": "ipython",
    "version": 3
   },
   "file_extension": ".py",
   "mimetype": "text/x-python",
   "name": "python",
   "nbconvert_exporter": "python",
   "pygments_lexer": "ipython3",
   "version": "3.11.8"
  }
 },
 "nbformat": 4,
 "nbformat_minor": 4
}
