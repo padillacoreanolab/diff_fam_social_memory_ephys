{
 "cells": [
  {
   "cell_type": "code",
   "execution_count": 1,
   "metadata": {
    "tags": []
   },
   "outputs": [
    {
     "name": "stdout",
     "output_type": "stream",
     "text": [
      "env: SPECTRAL_CONNECTIVITY_ENABLE_GPU=true\n"
     ]
    }
   ],
   "source": [
    "%env SPECTRAL_CONNECTIVITY_ENABLE_GPU=true"
   ]
  },
  {
   "cell_type": "code",
   "execution_count": null,
   "metadata": {},
   "outputs": [],
   "source": []
  },
  {
   "cell_type": "code",
   "execution_count": 2,
   "metadata": {
    "tags": []
   },
   "outputs": [
    {
     "name": "stderr",
     "output_type": "stream",
     "text": [
      "/blue/npadillacoreano/mcum/conda/envs/lfp_env/lib/python3.11/site-packages/tqdm/auto.py:21: TqdmWarning: IProgress not found. Please update jupyter and ipywidgets. See https://ipywidgets.readthedocs.io/en/stable/user_install.html\n",
      "  from .autonotebook import tqdm as notebook_tqdm\n"
     ]
    },
    {
     "name": "stdout",
     "output_type": "stream",
     "text": [
      "{'22_cage_p1_merged.rec': '2.2', '32_cage_p1_merged.rec': '3.2', '12_cage_p1_merged.rec': '1.2', '41_cage_p1_merged.rec': '4.1', '24_cage_p1_merged.rec': '2.4', '13_cage_p1_merged.rec': '1.3', '23_cage_p1_merged.rec': '2.3', '21_cage_p1_merged.rec': '2.1', '33_cage_p1_merged.rec': '3.3', '11_cage_p1_merged.rec': '1.1', '44_cage_p1_merged.rec': '4.4', '31_cage_p1_merged.rec': '3.1'}\n",
      "Processing 22_cage_p1_merged.rec\n",
      "Found first timestamp\n",
      "Processing 32_cage_p1_merged.rec\n",
      "Found first timestamp\n",
      "Processing 12_cage_p1_merged.rec\n",
      "Found first timestamp\n",
      "Processing 41_cage_p1_merged.rec\n",
      "Found first timestamp\n",
      "Processing 24_cage_p1_merged.rec\n",
      "Found first timestamp\n",
      "Processing 13_cage_p1_merged.rec\n",
      "Found first timestamp\n",
      "Processing 23_cage_p1_merged.rec\n",
      "Found first timestamp\n",
      "Processing 21_cage_p1_merged.rec\n",
      "Found first timestamp\n",
      "Processing 33_cage_p1_merged.rec\n",
      "Found first timestamp\n",
      "Processing 11_cage_p1_merged.rec\n",
      "Found first timestamp\n",
      "Processing 44_cage_p1_merged.rec\n",
      "Found first timestamp\n",
      "Processing 31_cage_p1_merged.rec\n",
      "Found first timestamp\n"
     ]
    },
    {
     "name": "stderr",
     "output_type": "stream",
     "text": [
      "  0%|          | 0/12 [00:00<?, ?it/s]"
     ]
    },
    {
     "name": "stdout",
     "output_type": "stream",
     "text": [
      "processing 22_cage_p1_merged.rec\n",
      "RMS Traces calculated\n",
      "Power Calculated\n",
      "Coherence calcualatd\n"
     ]
    },
    {
     "name": "stderr",
     "output_type": "stream",
     "text": [
      "Maximum iterations reached. 3102 of 4682 converged\n",
      "Maximum iterations reached. 3223 of 4682 converged\n",
      "Maximum iterations reached. 3379 of 4682 converged\n",
      "Maximum iterations reached. 3528 of 4682 converged\n",
      "Maximum iterations reached. 2944 of 4682 converged\n",
      "Maximum iterations reached. 3013 of 4682 converged\n",
      "Maximum iterations reached. 2932 of 4682 converged\n",
      "Maximum iterations reached. 3108 of 4682 converged\n",
      "Maximum iterations reached. 3095 of 4682 converged\n",
      "Maximum iterations reached. 3242 of 4682 converged\n"
     ]
    },
    {
     "name": "stdout",
     "output_type": "stream",
     "text": [
      "Granger's causality calculated\n"
     ]
    },
    {
     "name": "stderr",
     "output_type": "stream",
     "text": [
      "Maximum iterations reached. 0 of 4682 converged\n",
      "Maximum iterations reached. 0 of 4682 converged\n",
      "  8%|▊         | 1/12 [01:01<11:14, 61.27s/it]"
     ]
    },
    {
     "name": "stdout",
     "output_type": "stream",
     "text": [
      "Partial Directed Coherence calculated\n",
      "processing 32_cage_p1_merged.rec\n",
      "RMS Traces calculated\n",
      "Power Calculated\n",
      "Coherence calcualatd\n"
     ]
    },
    {
     "name": "stderr",
     "output_type": "stream",
     "text": [
      "Maximum iterations reached. 3420 of 4682 converged\n",
      "Maximum iterations reached. 3209 of 4682 converged\n",
      "Maximum iterations reached. 3375 of 4682 converged\n",
      "Maximum iterations reached. 3439 of 4682 converged\n",
      "Maximum iterations reached. 3150 of 4682 converged\n",
      "Maximum iterations reached. 3230 of 4682 converged\n",
      "Maximum iterations reached. 3087 of 4682 converged\n",
      "Maximum iterations reached. 3053 of 4682 converged\n",
      "Maximum iterations reached. 2895 of 4682 converged\n",
      "Maximum iterations reached. 3098 of 4682 converged\n"
     ]
    },
    {
     "name": "stdout",
     "output_type": "stream",
     "text": [
      "Granger's causality calculated\n"
     ]
    },
    {
     "name": "stderr",
     "output_type": "stream",
     "text": [
      "Maximum iterations reached. 0 of 4682 converged\n",
      "Maximum iterations reached. 0 of 4682 converged\n",
      " 17%|█▋        | 2/12 [01:48<08:52, 53.27s/it]"
     ]
    },
    {
     "name": "stdout",
     "output_type": "stream",
     "text": [
      "Partial Directed Coherence calculated\n",
      "processing 12_cage_p1_merged.rec\n",
      "RMS Traces calculated\n",
      "Power Calculated\n",
      "Coherence calcualatd\n"
     ]
    },
    {
     "name": "stderr",
     "output_type": "stream",
     "text": [
      "Maximum iterations reached. 4459 of 4683 converged\n",
      "Maximum iterations reached. 4554 of 4683 converged\n",
      "Maximum iterations reached. 4419 of 4683 converged\n",
      "Maximum iterations reached. 4466 of 4683 converged\n",
      "Maximum iterations reached. 4512 of 4683 converged\n",
      "Maximum iterations reached. 4387 of 4683 converged\n",
      "Maximum iterations reached. 4434 of 4683 converged\n",
      "Maximum iterations reached. 4491 of 4683 converged\n",
      "Maximum iterations reached. 4563 of 4683 converged\n",
      "Maximum iterations reached. 4410 of 4683 converged\n"
     ]
    },
    {
     "name": "stdout",
     "output_type": "stream",
     "text": [
      "Granger's causality calculated\n"
     ]
    },
    {
     "name": "stderr",
     "output_type": "stream",
     "text": [
      "Maximum iterations reached. 0 of 4683 converged\n",
      "Maximum iterations reached. 0 of 4683 converged\n",
      " 25%|██▌       | 3/12 [02:37<07:41, 51.27s/it]"
     ]
    },
    {
     "name": "stdout",
     "output_type": "stream",
     "text": [
      "Partial Directed Coherence calculated\n",
      "processing 41_cage_p1_merged.rec\n",
      "RMS Traces calculated\n",
      "Power Calculated\n",
      "Coherence calcualatd\n"
     ]
    },
    {
     "name": "stderr",
     "output_type": "stream",
     "text": [
      "Maximum iterations reached. 2644 of 4681 converged\n",
      "Maximum iterations reached. 2678 of 4681 converged\n",
      "Maximum iterations reached. 2600 of 4681 converged\n",
      "Maximum iterations reached. 2383 of 4681 converged\n",
      "Maximum iterations reached. 4358 of 4681 converged\n",
      "Maximum iterations reached. 4230 of 4681 converged\n",
      "Maximum iterations reached. 3618 of 4681 converged\n",
      "Maximum iterations reached. 4285 of 4681 converged\n",
      "Maximum iterations reached. 3686 of 4681 converged\n",
      "Maximum iterations reached. 3567 of 4681 converged\n"
     ]
    },
    {
     "name": "stdout",
     "output_type": "stream",
     "text": [
      "Granger's causality calculated\n"
     ]
    },
    {
     "name": "stderr",
     "output_type": "stream",
     "text": [
      "Maximum iterations reached. 0 of 4681 converged\n",
      "Maximum iterations reached. 0 of 4681 converged\n",
      " 33%|███▎      | 4/12 [03:25<06:38, 49.83s/it]"
     ]
    },
    {
     "name": "stdout",
     "output_type": "stream",
     "text": [
      "Partial Directed Coherence calculated\n",
      "processing 24_cage_p1_merged.rec\n",
      "RMS Traces calculated\n",
      "Power Calculated\n",
      "Coherence calcualatd\n"
     ]
    },
    {
     "name": "stderr",
     "output_type": "stream",
     "text": [
      "Maximum iterations reached. 3462 of 4684 converged\n",
      "Maximum iterations reached. 3612 of 4684 converged\n",
      "Maximum iterations reached. 3617 of 4684 converged\n",
      "Maximum iterations reached. 3756 of 4684 converged\n",
      "Maximum iterations reached. 3384 of 4684 converged\n",
      "Maximum iterations reached. 3178 of 4684 converged\n",
      "Maximum iterations reached. 3240 of 4684 converged\n",
      "Maximum iterations reached. 3315 of 4684 converged\n",
      "Maximum iterations reached. 3346 of 4684 converged\n",
      "Maximum iterations reached. 3364 of 4684 converged\n"
     ]
    },
    {
     "name": "stdout",
     "output_type": "stream",
     "text": [
      "Granger's causality calculated\n"
     ]
    },
    {
     "name": "stderr",
     "output_type": "stream",
     "text": [
      "Maximum iterations reached. 0 of 4684 converged\n",
      "Maximum iterations reached. 0 of 4684 converged\n",
      " 42%|████▏     | 5/12 [04:13<05:43, 49.12s/it]"
     ]
    },
    {
     "name": "stdout",
     "output_type": "stream",
     "text": [
      "Partial Directed Coherence calculated\n",
      "processing 13_cage_p1_merged.rec\n",
      "RMS Traces calculated\n",
      "Power Calculated\n",
      "Coherence calcualatd\n"
     ]
    },
    {
     "name": "stderr",
     "output_type": "stream",
     "text": [
      "Maximum iterations reached. 4260 of 4684 converged\n",
      "Maximum iterations reached. 4490 of 4684 converged\n",
      "Maximum iterations reached. 4031 of 4684 converged\n",
      "Maximum iterations reached. 4263 of 4684 converged\n",
      "Maximum iterations reached. 4262 of 4684 converged\n",
      "Maximum iterations reached. 3825 of 4684 converged\n",
      "Maximum iterations reached. 4059 of 4684 converged\n",
      "Maximum iterations reached. 4050 of 4684 converged\n",
      "Maximum iterations reached. 4285 of 4684 converged\n",
      "Maximum iterations reached. 3857 of 4684 converged\n"
     ]
    },
    {
     "name": "stdout",
     "output_type": "stream",
     "text": [
      "Granger's causality calculated\n"
     ]
    },
    {
     "name": "stderr",
     "output_type": "stream",
     "text": [
      "Maximum iterations reached. 0 of 4684 converged\n",
      "Maximum iterations reached. 0 of 4684 converged\n",
      " 50%|█████     | 6/12 [05:00<04:51, 48.62s/it]"
     ]
    },
    {
     "name": "stdout",
     "output_type": "stream",
     "text": [
      "Partial Directed Coherence calculated\n",
      "processing 23_cage_p1_merged.rec\n",
      "RMS Traces calculated\n",
      "Power Calculated\n",
      "Coherence calcualatd\n"
     ]
    },
    {
     "name": "stderr",
     "output_type": "stream",
     "text": [
      "Maximum iterations reached. 4329 of 4678 converged\n",
      "Maximum iterations reached. 4478 of 4678 converged\n",
      "Maximum iterations reached. 4273 of 4678 converged\n",
      "Maximum iterations reached. 3475 of 4678 converged\n",
      "Maximum iterations reached. 4336 of 4678 converged\n",
      "Maximum iterations reached. 4140 of 4678 converged\n",
      "Maximum iterations reached. 3389 of 4678 converged\n",
      "Maximum iterations reached. 4319 of 4678 converged\n",
      "Maximum iterations reached. 3506 of 4678 converged\n",
      "Maximum iterations reached. 3321 of 4678 converged\n"
     ]
    },
    {
     "name": "stdout",
     "output_type": "stream",
     "text": [
      "Granger's causality calculated\n"
     ]
    },
    {
     "name": "stderr",
     "output_type": "stream",
     "text": [
      "Maximum iterations reached. 0 of 4678 converged\n",
      "Maximum iterations reached. 0 of 4678 converged\n",
      " 58%|█████▊    | 7/12 [05:48<04:01, 48.23s/it]"
     ]
    },
    {
     "name": "stdout",
     "output_type": "stream",
     "text": [
      "Partial Directed Coherence calculated\n",
      "processing 21_cage_p1_merged.rec\n",
      "RMS Traces calculated\n",
      "Power Calculated\n",
      "Coherence calcualatd\n"
     ]
    },
    {
     "name": "stderr",
     "output_type": "stream",
     "text": [
      "Maximum iterations reached. 4453 of 4682 converged\n",
      "Maximum iterations reached. 4542 of 4682 converged\n",
      "Maximum iterations reached. 4447 of 4682 converged\n",
      "Maximum iterations reached. 4022 of 4682 converged\n",
      "Maximum iterations reached. 4515 of 4682 converged\n",
      "Maximum iterations reached. 4449 of 4682 converged\n",
      "Maximum iterations reached. 4011 of 4682 converged\n",
      "Maximum iterations reached. 4521 of 4682 converged\n",
      "Maximum iterations reached. 4098 of 4682 converged\n",
      "Maximum iterations reached. 4008 of 4682 converged\n"
     ]
    },
    {
     "name": "stdout",
     "output_type": "stream",
     "text": [
      "Granger's causality calculated\n"
     ]
    },
    {
     "name": "stderr",
     "output_type": "stream",
     "text": [
      "Maximum iterations reached. 0 of 4682 converged\n",
      "Maximum iterations reached. 0 of 4682 converged\n",
      " 67%|██████▋   | 8/12 [06:36<03:12, 48.04s/it]"
     ]
    },
    {
     "name": "stdout",
     "output_type": "stream",
     "text": [
      "Partial Directed Coherence calculated\n",
      "processing 33_cage_p1_merged.rec\n",
      "RMS Traces calculated\n",
      "Power Calculated\n",
      "Coherence calcualatd\n"
     ]
    },
    {
     "name": "stderr",
     "output_type": "stream",
     "text": [
      "Maximum iterations reached. 3919 of 4682 converged\n",
      "Maximum iterations reached. 3890 of 4682 converged\n",
      "Maximum iterations reached. 3790 of 4682 converged\n",
      "Maximum iterations reached. 3645 of 4682 converged\n",
      "Maximum iterations reached. 4526 of 4682 converged\n",
      "Maximum iterations reached. 4423 of 4682 converged\n",
      "Maximum iterations reached. 4263 of 4682 converged\n",
      "Maximum iterations reached. 4398 of 4682 converged\n",
      "Maximum iterations reached. 4232 of 4682 converged\n",
      "Maximum iterations reached. 4148 of 4682 converged\n"
     ]
    },
    {
     "name": "stdout",
     "output_type": "stream",
     "text": [
      "Granger's causality calculated\n"
     ]
    },
    {
     "name": "stderr",
     "output_type": "stream",
     "text": [
      "Maximum iterations reached. 0 of 4682 converged\n",
      "Maximum iterations reached. 0 of 4682 converged\n",
      " 75%|███████▌  | 9/12 [07:23<02:23, 47.88s/it]"
     ]
    },
    {
     "name": "stdout",
     "output_type": "stream",
     "text": [
      "Partial Directed Coherence calculated\n",
      "processing 11_cage_p1_merged.rec\n",
      "RMS Traces calculated\n",
      "Power Calculated\n",
      "Coherence calcualatd\n"
     ]
    },
    {
     "name": "stderr",
     "output_type": "stream",
     "text": [
      "Maximum iterations reached. 2799 of 4739 converged\n",
      "Maximum iterations reached. 2541 of 4739 converged\n",
      "Maximum iterations reached. 2835 of 4739 converged\n",
      "Maximum iterations reached. 2900 of 4739 converged\n",
      "Maximum iterations reached. 2531 of 4739 converged\n",
      "Maximum iterations reached. 2940 of 4739 converged\n",
      "Maximum iterations reached. 2958 of 4739 converged\n",
      "Maximum iterations reached. 2604 of 4739 converged\n",
      "Maximum iterations reached. 2784 of 4739 converged\n",
      "Maximum iterations reached. 3155 of 4739 converged\n"
     ]
    },
    {
     "name": "stdout",
     "output_type": "stream",
     "text": [
      "Granger's causality calculated\n"
     ]
    },
    {
     "name": "stderr",
     "output_type": "stream",
     "text": [
      "Maximum iterations reached. 0 of 4739 converged\n",
      "Maximum iterations reached. 0 of 4739 converged\n",
      " 83%|████████▎ | 10/12 [08:11<01:35, 47.94s/it]"
     ]
    },
    {
     "name": "stdout",
     "output_type": "stream",
     "text": [
      "Partial Directed Coherence calculated\n",
      "processing 44_cage_p1_merged.rec\n",
      "RMS Traces calculated\n",
      "Power Calculated\n",
      "Coherence calcualatd\n"
     ]
    },
    {
     "name": "stderr",
     "output_type": "stream",
     "text": [
      "Maximum iterations reached. 2844 of 4680 converged\n",
      "Maximum iterations reached. 2875 of 4680 converged\n",
      "Maximum iterations reached. 2823 of 4680 converged\n",
      "Maximum iterations reached. 2599 of 4680 converged\n",
      "Maximum iterations reached. 4542 of 4680 converged\n",
      "Maximum iterations reached. 4450 of 4680 converged\n",
      "Maximum iterations reached. 4101 of 4680 converged\n",
      "Maximum iterations reached. 4521 of 4680 converged\n",
      "Maximum iterations reached. 4176 of 4680 converged\n",
      "Maximum iterations reached. 4061 of 4680 converged\n"
     ]
    },
    {
     "name": "stdout",
     "output_type": "stream",
     "text": [
      "Granger's causality calculated\n"
     ]
    },
    {
     "name": "stderr",
     "output_type": "stream",
     "text": [
      "Maximum iterations reached. 0 of 4680 converged\n",
      "Maximum iterations reached. 0 of 4680 converged\n",
      " 92%|█████████▏| 11/12 [08:59<00:47, 47.79s/it]"
     ]
    },
    {
     "name": "stdout",
     "output_type": "stream",
     "text": [
      "Partial Directed Coherence calculated\n",
      "processing 31_cage_p1_merged.rec\n",
      "RMS Traces calculated\n",
      "Power Calculated\n",
      "Coherence calcualatd\n"
     ]
    },
    {
     "name": "stderr",
     "output_type": "stream",
     "text": [
      "Maximum iterations reached. 2020 of 4679 converged\n",
      "Maximum iterations reached. 2010 of 4679 converged\n",
      "Maximum iterations reached. 2014 of 4679 converged\n",
      "Maximum iterations reached. 1929 of 4679 converged\n",
      "Maximum iterations reached. 3535 of 4679 converged\n",
      "Maximum iterations reached. 3581 of 4679 converged\n",
      "Maximum iterations reached. 3191 of 4679 converged\n",
      "Maximum iterations reached. 3762 of 4679 converged\n",
      "Maximum iterations reached. 3344 of 4679 converged\n",
      "Maximum iterations reached. 3422 of 4679 converged\n"
     ]
    },
    {
     "name": "stdout",
     "output_type": "stream",
     "text": [
      "Granger's causality calculated\n"
     ]
    },
    {
     "name": "stderr",
     "output_type": "stream",
     "text": [
      "Maximum iterations reached. 0 of 4679 converged\n",
      "Maximum iterations reached. 0 of 4679 converged\n",
      "100%|██████████| 12/12 [09:46<00:00, 48.87s/it]"
     ]
    },
    {
     "name": "stdout",
     "output_type": "stream",
     "text": [
      "Partial Directed Coherence calculated\n"
     ]
    },
    {
     "name": "stderr",
     "output_type": "stream",
     "text": [
      "\n"
     ]
    }
   ],
   "source": [
    "import os\n",
    "os.chdir('/blue/npadillacoreano/mcum/SocialMemEphys/diff_fam_social_memory_ephys')\n",
    "\n",
    "\n",
    "import cupy as xp\n",
    "from cupyx.scipy.fft import ifft\n",
    "from cupyx.scipy.sparse.linalg import svds\n",
    "from spectral_connectivity import Multitaper, Connectivity\n",
    "import importlib\n",
    "import pandas as pd\n",
    "from itertools import combinations\n",
    "import os\n",
    "from bidict import bidict\n",
    "import lfp.lfp_analysis.LFP_collection as LFP_collection\n",
    "df = pd.read_excel(r\"lfp/channel_mapping_sme.xlsx\")\n",
    "spike_cols = [col for col in df.columns if 'spike_interface_' in col.lower()]\n",
    "\n",
    "# Extract brain regions from column names\n",
    "# Assumes format 'spike_interface_REGION'\n",
    "brain_regions = [col.split('spike_interface_')[1] for col in spike_cols]\n",
    "\n",
    "# Create nested dictionary\n",
    "subject_to_channel_dict = {}\n",
    "\n",
    "for _, row in df.iterrows():\n",
    "    subject = row['Subject'].astype(str)\n",
    "    # Initialize inner dictionary for this subject\n",
    "    subject_to_channel_dict[subject] = {}\n",
    "    \n",
    "    # Populate inner dictionary with brain region: spike value pairs\n",
    "    for col, region in zip(spike_cols, brain_regions):\n",
    "        subject_to_channel_dict[subject][region] = int(row[col])\n",
    "behavior_dicts = {}\n",
    "def make_recording_to_subj_dict(data_path):\n",
    "    recording_to_subject = {}\n",
    "    for root, dirs, files in os.walk(data_path):\n",
    "        for file in files:\n",
    "            if file.endswith('merged.rec'):\n",
    "                subject = str(int((file.split(\"_\")[0]))/10)\n",
    "                recording_to_subject[file] = subject\n",
    "                behavior_dicts[file] = {}\n",
    "    return recording_to_subject\n",
    "\n",
    "def process(data_path):\n",
    "    recording_to_subject = make_recording_to_subj_dict(data_path)\n",
    "    print(recording_to_subject)\n",
    "    collection = LFP_collection.LFPCollection(subject_to_channel_dict, data_path, recording_to_subject, 4)\n",
    "    #collection.process()\n",
    "    return collection    \n",
    "    \n",
    "data_path = r\"data/cagemate\"\n",
    "collection = process(data_path)\n",
    "collection.process()\n"
   ]
  },
  {
   "cell_type": "code",
   "execution_count": 3,
   "metadata": {},
   "outputs": [],
   "source": [
    "LFP_collection.LFPCollection.save_to_json(collection, r\"data/cagemate_lfp\")"
   ]
  },
  {
   "cell_type": "code",
   "execution_count": null,
   "metadata": {},
   "outputs": [],
   "source": []
  }
 ],
 "metadata": {
  "kernelspec": {
   "display_name": "lfp_env",
   "language": "python",
   "name": "lfp_env"
  },
  "language_info": {
   "codemirror_mode": {
    "name": "ipython",
    "version": 3
   },
   "file_extension": ".py",
   "mimetype": "text/x-python",
   "name": "python",
   "nbconvert_exporter": "python",
   "pygments_lexer": "ipython3",
   "version": "3.11.8"
  }
 },
 "nbformat": 4,
 "nbformat_minor": 4
}
