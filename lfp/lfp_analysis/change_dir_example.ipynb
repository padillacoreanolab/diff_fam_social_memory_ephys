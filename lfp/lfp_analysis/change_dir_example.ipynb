{
 "cells": [
  {
   "cell_type": "code",
   "execution_count": 1,
   "metadata": {
    "tags": []
   },
   "outputs": [
    {
     "data": {
      "text/plain": [
       "'/blue/npadillacoreano/mcum/SocialMemEphys/diff_fam_social_memory_ephys/lfp/lfp_analysis'"
      ]
     },
     "execution_count": 1,
     "metadata": {},
     "output_type": "execute_result"
    }
   ],
   "source": [
    "%pwd"
   ]
  },
  {
   "cell_type": "code",
   "execution_count": 2,
   "metadata": {
    "tags": []
   },
   "outputs": [
    {
     "data": {
      "text/plain": [
       "'/blue/npadillacoreano/mcum/SocialMemEphys/diff_fam_social_memory_ephys/lfp/lfp_analysis'"
      ]
     },
     "execution_count": 2,
     "metadata": {},
     "output_type": "execute_result"
    }
   ],
   "source": [
    "import os\n",
    "cwd = os.getcwd()\n",
    "cwd"
   ]
  },
  {
   "cell_type": "code",
   "execution_count": 3,
   "metadata": {
    "tags": []
   },
   "outputs": [
    {
     "name": "stdout",
     "output_type": "stream",
     "text": [
      "Successfully changed to directory: /blue/npadillacoreano/mcum/SocialMemEphys/diff_fam_social_memory_ephys\n"
     ]
    }
   ],
   "source": [
    "import os\n",
    "\n",
    "def change_dir_in_hipergator():\n",
    "    # this env var is set on hipergator (SLURM is the job scheduler there)\n",
    "    if os.getenv(\"SLURM_JOB_ID\", None):\n",
    "        target_dir = \"diff_fam_social_memory_ephys\"\n",
    "        current = os.getcwd()\n",
    "\n",
    "        while True:\n",
    "            parent = os.path.dirname(current)\n",
    "            # If we've reached the root directory without finding the target\n",
    "            if parent == current:\n",
    "                raise FileNotFoundError(f\"Could not find parent directory '{target_dir}'\")\n",
    "\n",
    "            # Check if the target directory is the current parent's name\n",
    "            if os.path.basename(parent) == target_dir:\n",
    "                os.chdir(parent)\n",
    "                return parent\n",
    "\n",
    "            current = parent\n",
    "\n",
    "# Usage\n",
    "try:\n",
    "    new_path = change_dir_in_hipergator()\n",
    "    print(f\"Successfully changed to directory: {new_path}\")\n",
    "except FileNotFoundError as e:\n",
    "    print(e)"
   ]
  },
  {
   "cell_type": "code",
   "execution_count": null,
   "metadata": {},
   "outputs": [],
   "source": []
  }
 ],
 "metadata": {
  "kernelspec": {
   "display_name": "lfp_env",
   "language": "python",
   "name": "lfp_env"
  },
  "language_info": {
   "codemirror_mode": {
    "name": "ipython",
    "version": 3
   },
   "file_extension": ".py",
   "mimetype": "text/x-python",
   "name": "python",
   "nbconvert_exporter": "python",
   "pygments_lexer": "ipython3",
   "version": "3.11.8"
  }
 },
 "nbformat": 4,
 "nbformat_minor": 4
}
