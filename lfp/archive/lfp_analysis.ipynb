{
 "cells": [
  {
   "cell_type": "markdown",
   "metadata": {},
   "source": [
    "#Instructions to run lfp_analysis.py"
   ]
  },
  {
   "cell_type": "code",
   "execution_count": null,
   "metadata": {},
   "outputs": [],
   "source": [
    "!pip3 install -r requirements.txt"
   ]
  },
  {
   "cell_type": "code",
   "execution_count": null,
   "metadata": {},
   "outputs": [],
   "source": [
    "import lfp_analysis\n",
    "import os\n",
    "import glob"
   ]
  },
  {
   "cell_type": "markdown",
   "metadata": {},
   "source": [
    "###Convert the video files to mp4 format by passing the experiment directory\n",
    "\n",
    "Experiment directory should be the root directory that contains all experiment files.\n",
    "\n",
    "If needed, loop through the function below to convert the video files from .h264 to mp4 format."
   ]
  },
  {
   "cell_type": "code",
   "execution_count": null,
   "metadata": {},
   "outputs": [],
   "source": [
    "experiment_dir = \"/Volumes/chaitra/reward_competition_extension/data\"\n",
    "lfp_analysis.convert_to_mp4(experiment_dir)\n",
    "\n",
    "# Loop through all the directories in the experiment directory\n",
    "for directory in os.listdir(experiment_dir):\n",
    "    if os.path.isdir(os.path.join(experiment_dir, directory)):\n",
    "        lfp_analysis.convert_to_mp4(os.path.join(experiment_dir, directory))"
   ]
  },
  {
   "cell_type": "markdown",
   "metadata": {},
   "source": [
    "###Input parameters to create LfpExperiment object"
   ]
  },
  {
   "cell_type": "code",
   "execution_count": null,
   "metadata": {},
   "outputs": [],
   "source": [
    "experiment_dir = \"/Volumes/chaitra/reward_competition_extension/data\"\n",
    "experiment_description = \"chaitra_test\""
   ]
  },
  {
   "cell_type": "markdown",
   "metadata": {},
   "source": [
    "###Input parameters to create LfpRecordingObject\n",
    "\n",
    "channel_map_path: Path to the channel mapping excel file\n",
    "\n",
    "events_path (video): Path to the events excel file\n",
    "\n",
    "labels_path (good): Path to the labels excel file\n",
    "\n",
    "input_dir: Path to the directory containing the \\*.rec files\n",
    "\n",
    "sleap_path: Path to the directory containing the sleap files\n",
    "\n",
    "phy_path: Path to the directory containing the phy curation files. Should be in the format of phy_curation/experiment_session/phy/*\n",
    "\n",
    "\n",
    "condition\n",
    "competition closeness"
   ]
  },
  {
   "cell_type": "code",
   "execution_count": null,
   "metadata": {},
   "outputs": [],
   "source": [
    "channel_map_path = \"input/channel_mapping.xlsx\"\n",
    "events_path = \"input/events.xlsx\"\n",
    "labels_path = \"input/labels.xlsx\"\n",
    "\n",
    "#This list has to be in the same order as the files in the input directory\n",
    "list_subjects = [\"1.4_and_1.2\", \"2.1_and_2.2\", \"1.1_and_1.2\", \"2.1_and_2.4\"]\n",
    "#TODO: dictionary with key as .rec and values as subject\n",
    "\n",
    "input_dir = \"/Volumes/chaitra/reward_competition_extension/data/standard/2023_06_*/*.rec\"\n",
    "sleap_path = \"/Volumes/chaitra/reward_competition_extension/data/proc/sleap/\"\n",
    "output_path = \"/Volumes/chaitra/reward_competition_extension/data/outputs/\"\n",
    "\n",
    "if not os.path.exists(output_path):\n",
    "    os.makedirs(output_path)\n",
    "\n",
    "#tagging label excel values\n",
    "encoding_dict = {'Subj 1 blocking Subj 2': \"competitive\",\n",
    "    'Subj 2 Only': \"no_comp\",\n",
    "    'Subj 2 blocking Subj 1': \"competitive\",\n",
    "    'Subj 1 then Subj 2': \"competitive\",\n",
    "    'Subj 1 Only': \"no_comp\",\n",
    "    'Subj 2 then Subj 1': \"competitive\",\n",
    "    'Close Call': \"competitive\",\n",
    "    'After trial': \"no_comp\"}"
   ]
  },
  {
   "cell_type": "code",
   "execution_count": null,
   "metadata": {},
   "outputs": [],
   "source": [
    "if not os.path.exists(channel_map_path) or not os.path.exists(events_path) or not os.path.exists(labels_path):\n",
    "    raise Exception(\"Please provide the correct path for channel_map_path, events_path and labels_path\")\n",
    "\n",
    "if not os.path.exists(sleap_path):\n",
    "    raise Exception(\"Please provide the correct path for sleap_path\")\n",
    "\n",
    "#Check if input directory exists, wildcard is allowed\n",
    "if not glob.glob(input_dir):\n",
    "    raise Exception(\"Please provide the correct path for input_dir\")\n",
    "\n",
    "if len(list_subjects) == 0:\n",
    "    raise Exception(\"Provided list_subjects is empty\")\n",
    "\n",
    "#print input dir files\n",
    "num_rec = 0\n",
    "for file in glob.glob(input_dir):\n",
    "    if file.endswith(\".rec\"):\n",
    "        num_rec += 1\n",
    "        print(file + \"\\n\")\n",
    "\n",
    "if len(list_subjects) != num_rec:\n",
    "    raise Exception(\"Number of subjects in list_subjects is not equal to the number of files in the input directory\")"
   ]
  },
  {
   "cell_type": "code",
   "execution_count": null,
   "metadata": {},
   "outputs": [],
   "source": [
    "# Create Expr object\n",
    "my_expr = lfp_analysis.LfpExperiment(experiment=experiment_description)"
   ]
  },
  {
   "cell_type": "code",
   "execution_count": null,
   "metadata": {},
   "outputs": [],
   "source": [
    "counter = 0\n",
    "# Loop through input directory and create LFP objects for each session\n",
    "for file in glob.glob(input_dir):\n",
    "    lfp = lfp_analysis.LfpRecordingObject(path=file,\n",
    "                                           channel_map_path=channel_map_path,\n",
    "                                           sleap_path=sleap_path,\n",
    "                                           events_path=events_path,\n",
    "                                           labels_path=labels_path,\n",
    "                                           encoding_dict=encoding_dict,\n",
    "                                           experiment_name=experiment_description, output_path=output_path,\n",
    "                                           subject=list_subjects[counter])\n",
    "    my_expr.add_lfp_object(lfp_object=lfp, subject=lfp.subject)\n",
    "    counter += 1"
   ]
  }
 ],
 "metadata": {
  "kernelspec": {
   "display_name": "Python 3",
   "language": "python",
   "name": "python3"
  },
  "language_info": {
   "codemirror_mode": {
    "name": "ipython",
    "version": 2
   },
   "file_extension": ".py",
   "mimetype": "text/x-python",
   "name": "python",
   "nbconvert_exporter": "python",
   "pygments_lexer": "ipython2",
   "version": "3.10.9"
  }
 },
 "nbformat": 4,
 "nbformat_minor": 0
}
