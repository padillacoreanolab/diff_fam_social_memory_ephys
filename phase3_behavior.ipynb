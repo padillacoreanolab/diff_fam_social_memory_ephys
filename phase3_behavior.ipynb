{
 "cells": [
  {
   "cell_type": "code",
   "execution_count": 25,
   "metadata": {},
   "outputs": [],
   "source": [
    "import pickle\n",
    "import boris_extraction as boris\n",
    "import multirecording_spikeanalysis as spike\n",
    "import pandas as pd\n",
    "import numpy as np\n",
    "import matplotlib.pyplot as plt\n",
    "import math\n",
    "from scipy.stats import sem\n",
    "from itertools import combinations\n",
    "def hex_2_rgb(hex_color): # Orange color\n",
    "    rgb_color = tuple(int(hex_color[i:i+2], 16) / 255.0 for i in (1, 3, 5))\n",
    "    return rgb_color\n",
    "\n",
    "def pickle_this(thing_to_pickle, file_name):\n",
    "    \"\"\"\n",
    "    Pickles things\n",
    "    Args (2):   \n",
    "        thing_to_pickle: anything you want to pickle\n",
    "        file_name: str, filename that ends with .pkl \n",
    "    Returns:\n",
    "        none\n",
    "    \"\"\"\n",
    "    with open(file_name,'wb') as file:\n",
    "        pickle.dump(thing_to_pickle, file)\n",
    "\n",
    "def unpickle_this(pickle_file):\n",
    "    \"\"\"\n",
    "    Unpickles things\n",
    "    Args (1):   \n",
    "        file_name: str, pickle filename that already exists and ends with .pkl\n",
    "    Returns:\n",
    "        pickled item\n",
    "    \"\"\"\n",
    "    with open(pickle_file, 'rb') as file:\n",
    "        return(pickle.load(file))"
   ]
  },
  {
   "cell_type": "code",
   "execution_count": 26,
   "metadata": {},
   "outputs": [],
   "source": [
    "behavior_dicts = unpickle_this('behavior_dicts.pkl')\n"
   ]
  },
  {
   "cell_type": "code",
   "execution_count": 27,
   "metadata": {},
   "outputs": [
    {
     "name": "stdout",
     "output_type": "stream",
     "text": [
      "160\n",
      "907\n"
     ]
    }
   ],
   "source": [
    "event_info = {}\n",
    "sniff_itis = []\n",
    "j = 0\n",
    "total_sniffs = 0\n",
    "for behavior_dict in behavior_dicts:\n",
    "    event_dict_keys = behavior_dict.keys()\n",
    "    for event, events in behavior_dict.items():\n",
    "        no_events = events.shape[0]\n",
    "        sniff_length = 0\n",
    "        for i in range(len(events)):\n",
    "            sniff_length_temp = events[i][1] - events[i][0]\n",
    "            sniff_length = sniff_length + sniff_length_temp\n",
    "            total_sniffs = total_sniffs + 1\n",
    "            try:\n",
    "                sniff_iti = events[i+1][0] - events[i][1]\n",
    "                sniff_itis.append(sniff_iti)\n",
    "            except IndexError:\n",
    "                pass\n",
    "        total_sniff_time = sniff_length/1000\n",
    "        try:\n",
    "            avg_event = sniff_length/no_events/1000\n",
    "        except ZeroDivisionError:\n",
    "            avg_event = 0\n",
    "        if j in event_info.keys():\n",
    "            dict_event = event_info[j]\n",
    "            dict_event[event] =  {'no_events': no_events, 'avg event': avg_event, 'total time': total_sniff_time}\n",
    "            event_info[j] =  dict_event\n",
    "        else:\n",
    "            event_info[j] = {event: {'no_events': no_events, 'avg event': avg_event,'total time': total_sniff_time }}\n",
    "    j += 1\n",
    "sniff_itis = np.array(sniff_itis)/1000\n",
    "sniff_itis \n",
    "overlapping_sniffs = 0 \n",
    "for i in range(len(sniff_itis)):\n",
    "    if sniff_itis[i] < 3:\n",
    "        overlapping_sniffs = overlapping_sniffs + 1\n",
    "print(overlapping_sniffs) # was 54 with old thresholding for less than 2, 142 for 5\n",
    "print(total_sniffs) # out of 524, after fixing 83 for 5 \n",
    "# out of 465"
   ]
  },
  {
   "cell_type": "code",
   "execution_count": 29,
   "metadata": {},
   "outputs": [
    {
     "data": {
      "text/html": [
       "<div>\n",
       "<style scoped>\n",
       "    .dataframe tbody tr th:only-of-type {\n",
       "        vertical-align: middle;\n",
       "    }\n",
       "\n",
       "    .dataframe tbody tr th {\n",
       "        vertical-align: top;\n",
       "    }\n",
       "\n",
       "    .dataframe thead th {\n",
       "        text-align: right;\n",
       "    }\n",
       "</style>\n",
       "<table border=\"1\" class=\"dataframe\">\n",
       "  <thead>\n",
       "    <tr style=\"text-align: right;\">\n",
       "      <th></th>\n",
       "      <th>level_0</th>\n",
       "      <th>cup 1</th>\n",
       "      <th>cup 2</th>\n",
       "      <th>cup 3</th>\n",
       "      <th>cup 4</th>\n",
       "      <th>acquisition</th>\n",
       "      <th>cagemate</th>\n",
       "      <th>empty</th>\n",
       "      <th>novel</th>\n",
       "      <th>familiar</th>\n",
       "    </tr>\n",
       "    <tr>\n",
       "      <th>level_1</th>\n",
       "      <th></th>\n",
       "      <th></th>\n",
       "      <th></th>\n",
       "      <th></th>\n",
       "      <th></th>\n",
       "      <th></th>\n",
       "      <th></th>\n",
       "      <th></th>\n",
       "      <th></th>\n",
       "      <th></th>\n",
       "    </tr>\n",
       "  </thead>\n",
       "  <tbody>\n",
       "    <tr>\n",
       "      <th>avg event</th>\n",
       "      <td>4.0</td>\n",
       "      <td>4.026578</td>\n",
       "      <td>3.383947</td>\n",
       "      <td>4.754109</td>\n",
       "      <td>3.699214</td>\n",
       "      <td>7.205837</td>\n",
       "      <td>6.972043</td>\n",
       "      <td>2.993848</td>\n",
       "      <td>4.859613</td>\n",
       "      <td>4.123707</td>\n",
       "    </tr>\n",
       "    <tr>\n",
       "      <th>no_events</th>\n",
       "      <td>4.0</td>\n",
       "      <td>11.222222</td>\n",
       "      <td>10.000000</td>\n",
       "      <td>10.888889</td>\n",
       "      <td>11.333333</td>\n",
       "      <td>14.888889</td>\n",
       "      <td>14.444444</td>\n",
       "      <td>5.666667</td>\n",
       "      <td>12.444444</td>\n",
       "      <td>9.888889</td>\n",
       "    </tr>\n",
       "    <tr>\n",
       "      <th>total time</th>\n",
       "      <td>4.0</td>\n",
       "      <td>55.328333</td>\n",
       "      <td>58.036778</td>\n",
       "      <td>63.876000</td>\n",
       "      <td>52.556111</td>\n",
       "      <td>105.693444</td>\n",
       "      <td>100.475111</td>\n",
       "      <td>18.101222</td>\n",
       "      <td>51.897667</td>\n",
       "      <td>44.349778</td>\n",
       "    </tr>\n",
       "  </tbody>\n",
       "</table>\n",
       "</div>"
      ],
      "text/plain": [
       "            level_0      cup 1      cup 2      cup 3      cup 4  acquisition  \\\n",
       "level_1                                                                        \n",
       "avg event       4.0   4.026578   3.383947   4.754109   3.699214     7.205837   \n",
       "no_events       4.0  11.222222  10.000000  10.888889  11.333333    14.888889   \n",
       "total time      4.0  55.328333  58.036778  63.876000  52.556111   105.693444   \n",
       "\n",
       "              cagemate      empty      novel   familiar  \n",
       "level_1                                                  \n",
       "avg event     6.972043   2.993848   4.859613   4.123707  \n",
       "no_events    14.444444   5.666667  12.444444   9.888889  \n",
       "total time  100.475111  18.101222  51.897667  44.349778  "
      ]
     },
     "execution_count": 29,
     "metadata": {},
     "output_type": "execute_result"
    }
   ],
   "source": [
    "event_overview = pd.concat({k: pd.DataFrame(v) for k, v in event_info.items()}, axis=0)\n",
    "event_overview = event_overview.reset_index()\n",
    "event_dict_keys\n",
    "event_overview.groupby('level_1').mean()"
   ]
  },
  {
   "cell_type": "code",
   "execution_count": 20,
   "metadata": {},
   "outputs": [
    {
     "data": {
      "text/plain": [
       "{'cup 1': 58.79500000000006,\n",
       " 'cup 2': 60.83244444444443,\n",
       " 'cup 3': 65.847888888889,\n",
       " 'cup 4': 55.14855555555558}"
      ]
     },
     "execution_count": 20,
     "metadata": {},
     "output_type": "execute_result"
    }
   ],
   "source": [
    "event_total_time = event_overview[event_overview['level_1'] == 'total time']\n",
    "event_cup_time_averages = {}\n",
    "for event in event_dict_keys:\n",
    "    if 'cup' in event:\n",
    "        avg_event = event_total_time[event].mean()\n",
    "        event_cup_time_averages[event] = avg_event\n",
    "event_cup_time_averages"
   ]
  },
  {
   "cell_type": "code",
   "execution_count": 21,
   "metadata": {},
   "outputs": [
    {
     "data": {
      "text/plain": [
       "{'acquisition': 109.11377777777778,\n",
       " 'cagemate': 104.32633333333351,\n",
       " 'empty': 18.260444444444524,\n",
       " 'novel': 55.590222222222195,\n",
       " 'familiar': 46.66233333333325}"
      ]
     },
     "execution_count": 21,
     "metadata": {},
     "output_type": "execute_result"
    }
   ],
   "source": [
    "event_total_time = event_overview[event_overview['level_1'] == 'total time']\n",
    "event_agent_time_averages = {}\n",
    "for event in event_dict_keys:\n",
    "    if 'cup' not in event:\n",
    "        avg_event = event_total_time[event].mean()\n",
    "        event_agent_time_averages[event] = avg_event\n",
    "event_agent_time_averages"
   ]
  },
  {
   "cell_type": "code",
   "execution_count": 22,
   "metadata": {},
   "outputs": [
    {
     "data": {
      "text/plain": [
       "Text(0, 0.5, 'Total sniff (s)')"
      ]
     },
     "execution_count": 22,
     "metadata": {},
     "output_type": "execute_result"
    },
    {
     "data": {
      "image/png": "[encoded data removed]",
      "text/plain": [
       "<Figure size 640x480 with 1 Axes>"
      ]
     },
     "metadata": {},
     "output_type": "display_data"
    }
   ],
   "source": [
    "plt.bar(event_agent_time_averages.keys(), event_agent_time_averages.values())\n",
    "plt.xticks(rotation=45)\n",
    "plt.ylabel('Total sniff (s)')"
   ]
  },
  {
   "cell_type": "code",
   "execution_count": 24,
   "metadata": {},
   "outputs": [
    {
     "data": {
      "text/plain": [
       "Text(0, 0.5, 'Total sniff (s)')"
      ]
     },
     "execution_count": 24,
     "metadata": {},
     "output_type": "execute_result"
    },
    {
     "data": {
      "image/png": "[encoded data removed]",
      "text/plain": [
       "<Figure size 640x480 with 1 Axes>"
      ]
     },
     "metadata": {},
     "output_type": "display_data"
    }
   ],
   "source": [
    "plt.bar(event_cup_time_averages.keys(), event_cup_time_averages.values())\n",
    "plt.xticks(rotation=45)\n",
    "plt.ylabel('Total sniff (s)')"
   ]
  },
  {
   "cell_type": "code",
   "execution_count": null,
   "metadata": {},
   "outputs": [],
   "source": []
  }
 ],
 "metadata": {
  "kernelspec": {
   "display_name": "ephys_analysis",
   "language": "python",
   "name": "python3"
  },
  "language_info": {
   "codemirror_mode": {
    "name": "ipython",
    "version": 3
   },
   "file_extension": ".py",
   "mimetype": "text/x-python",
   "name": "python",
   "nbconvert_exporter": "python",
   "pygments_lexer": "ipython3",
   "version": "3.10.9"
  }
 },
 "nbformat": 4,
 "nbformat_minor": 2
}
