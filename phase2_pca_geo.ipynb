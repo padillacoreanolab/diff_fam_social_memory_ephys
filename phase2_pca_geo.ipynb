{
 "cells": [
  {
   "cell_type": "code",
   "execution_count": null,
   "metadata": {},
   "outputs": [],
   "source": [
    "import pickle\n",
    "import boris_extraction as boris\n",
    "import multirecording_spikeanalysis as spike\n",
    "import pandas as pd\n",
    "import numpy as np\n",
    "import math\n",
    "import matplotlib.pyplot as plt\n",
    "from scipy.stats import sem\n",
    "from scipy import stats\n",
    "import seaborn as sns\n",
    "import matplotlib.pyplot as plt\n",
    "from scipy.stats import ttest_rel\n",
    "import matplotlib.patches as mpatches\n",
    "from itertools import combinations\n",
    "\n",
    "def hex_2_rgb(hex_color): # Orange color\n",
    "    rgb_color = tuple(int(hex_color[i:i+2], 16) / 255.0 for i in (1, 3, 5))\n",
    "    return rgb_color\n",
    "\n",
    "def pickle_this(thing_to_pickle, file_name):\n",
    "    \"\"\"\n",
    "    Pickles things\n",
    "    Args (2):   \n",
    "        thing_to_pickle: anything you want to pickle\n",
    "        file_name: str, filename that ends with .pkl \n",
    "    Returns:\n",
    "        none\n",
    "    \"\"\"\n",
    "    with open(file_name,'wb') as file:\n",
    "        pickle.dump(thing_to_pickle, file)\n",
    "\n",
    "def unpickle_this(pickle_file):\n",
    "    \"\"\"\n",
    "    Unpickles things\n",
    "    Args (1):   \n",
    "        file_name: str, pickle filename that already exists and ends with .pkl\n",
    "    Returns:\n",
    "        pickled item\n",
    "    \"\"\"\n",
    "    with open(pickle_file, 'rb') as file:\n",
    "        return(pickle.load(file))"
   ]
  },
  {
   "cell_type": "code",
   "execution_count": null,
   "metadata": {},
   "outputs": [],
   "source": [
    "phase2_collection = unpickle_this('phase2collection.pkl')\n",
    "\n",
    "pca_analysis = spike.SpikeAnalysis_MultiRecording(phase2_collection, timebin = 100,ignore_freq =  0.5)"
   ]
  },
  {
   "cell_type": "code",
   "execution_count": null,
   "metadata": {},
   "outputs": [],
   "source": [
    "pca_df, coeff, var = pca_analysis.PCA_trajectories(2, 2, d = 3, events = ['cagemate', 'recall', 'novel', 'acquisition'])\n",
    "geo_dis = pca_analysis.LOO_PCA(2, 2, 0.9, events = ['acquisition', 'recall', 'cagemate', 'novel'])\n",
    "var[0:3]\n",
    "total_var = 0\n",
    "for varl in var[0:10]: \n",
    "    total_var =+ total_var + varl\n",
    "    print(total_var)\n"
   ]
  },
  {
   "cell_type": "code",
   "execution_count": null,
   "metadata": {},
   "outputs": [],
   "source": [
    "pca_df, coeff, var = pca_analysis.PCA_trajectories(5, 5, d = 2, events = ['novel', 'acquisition'])\n",
    "\n",
    "pca_df, coeff, var = pca_analysis.PCA_trajectories(5, 5, d = 2, events = ['recall', 'acquisition'])"
   ]
  },
  {
   "cell_type": "code",
   "execution_count": null,
   "metadata": {},
   "outputs": [],
   "source": [
    "pca_df, coeff, var = pca_analysis.PCA_trajectories(2, 2, d = 3, events = ['exposure 1', 'exposure 2', 'exposure 3', 'acquisition'])\n",
    "pca_df, coeff, var = pca_analysis.PCA_trajectories(2, 2, events = ['exposure 1', 'exposure 2', 'exposure 3', 'acquisition'])\n",
    "order_distances = pca_analysis.avg_geo_dist(2, 2, .9, post_window = 0, events =['exposure 1', 'exposure 2', 'exposure 3', 'acquisition'])"
   ]
  },
  {
   "cell_type": "markdown",
   "metadata": {},
   "source": [
    "# Plotting"
   ]
  },
  {
   "cell_type": "code",
   "execution_count": null,
   "metadata": {},
   "outputs": [],
   "source": [
    "pca_analysis = spike.SpikeAnalysis_MultiRecording(phase2_collection, 100,50,0.5)\n",
    "pca_df, coeff, var = pca_analysis.PCA_trajectories(2, 2, d = 3, events = ['cagemate', 'recall', 'novel', 'acquisition'], plot = False)\n",
    "PCA_matrix = pca_df\n",
    "PCA_key = ['cagemate','recall', 'novel', 'acquisition']\n",
    "equalize = 2\n",
    "pre_window =2\n",
    "post_window = 0\n",
    "azim=45\n",
    "elev=20\n",
    "timebin = 50\n",
    "color_id_dict = {'acquisition\\n(exposure 1)': hex_2_rgb('#001424'), 'novel': hex_2_rgb('#15616F'), \n",
    "                'short-term familiar\\n(exposure 2)': (1.0, 0.6862745098039216, 0.0), 'long-term familiar': hex_2_rgb('#792910')}\n",
    "\n",
    "event_lengths = int(\n",
    "            (equalize + pre_window + post_window) * 1000 / timebin\n",
    "        )\n",
    "event_end = int((equalize + pre_window) * 1000 / timebin)\n",
    "pre_window = pre_window * 1000 / timebin\n",
    "post_window = post_window * 1000 / timebin\n",
    "colors = [hex_2_rgb('#792910'),  (1.0, 0.6862745098039216, 0.0), hex_2_rgb('#15616F'), hex_2_rgb('#001424')]\n",
    "fig = plt.figure()\n",
    "ax = fig.add_subplot(111, projection=\"3d\")\n",
    "counter = 0 \n",
    "for i in range(0, len(PCA_key)*event_lengths, event_lengths):\n",
    "    event_label = PCA_key[counter]\n",
    "    onset = int(i + pre_window - 1)\n",
    "    end = int(i + event_end - 1)\n",
    "    post = int(i + event_lengths - 1)\n",
    "    ax.scatter(\n",
    "        PCA_matrix[i : i + event_lengths, 0],\n",
    "        PCA_matrix[i : i + event_lengths, 1],\n",
    "        PCA_matrix[i : i + event_lengths, 2],\n",
    "        label=event_label,\n",
    "        s=5,\n",
    "        color=colors[counter],\n",
    "    )\n",
    "    ax.scatter(\n",
    "        PCA_matrix[i, 0],\n",
    "        PCA_matrix[i, 1],\n",
    "        PCA_matrix[i, 2],\n",
    "        marker=\"s\",\n",
    "        s=100,\n",
    "        color=\"w\",\n",
    "        edgecolors=colors[counter],\n",
    "    )\n",
    "    ax.scatter(\n",
    "        PCA_matrix[onset, 0],\n",
    "        PCA_matrix[onset, 1],\n",
    "        PCA_matrix[onset, 2],\n",
    "        marker=\"^\",\n",
    "        s=150,\n",
    "        color=\"w\",\n",
    "        edgecolors=colors[counter],\n",
    "    )\n",
    "    ax.scatter(\n",
    "        PCA_matrix[end, 0],\n",
    "        PCA_matrix[end, 1],\n",
    "        PCA_matrix[end, 2],\n",
    "        marker=\"o\",\n",
    "        s=100,\n",
    "        color=\"w\",\n",
    "        edgecolors=colors[counter],\n",
    "    )\n",
    "    counter += 1\n",
    "ax.set_xlabel(\"\\nPC1 (58% of variance)\", fontsize = 14)\n",
    "ax.set_ylabel(\"\\nPC2 (24% of variance)\", fontsize = 14)\n",
    "ax.set_zlabel(\"\\nPC3 (12% of variance)\", fontsize = 14)\n",
    "ax.tick_params(labelsize = 12)\n",
    "ax.view_init(azim = 40, elev = 20\n",
    "    )\n",
    "ax.set_xlim(-20, 25)\n",
    "ax.set_ylim(-15, 20)\n",
    "ax.set_zlim(-10, 15)\n",
    "id_labels = [plt.Line2D([0], [0], marker = 'o', color=color_id_dict[label], lw=0, label=label) for label in color_id_dict]\n",
    "legend_labels = id_labels\n",
    "ax.legend(loc=\"upper left\", bbox_to_anchor=(1, .80), frameon = False, \n",
    "fontsize = 14, markerscale = 2, handles = legend_labels)\n",
    "plt.title('Freely Moving', fontsize = 18, y = 1, x = .5)\n",
    "plt.show()\n",
    "\n",
    "#[0.58783251, 0.21168139, 0.12948744])"
   ]
  },
  {
   "cell_type": "markdown",
   "metadata": {},
   "source": [
    "# Geodesic Distances "
   ]
  },
  {
   "cell_type": "code",
   "execution_count": null,
   "metadata": {},
   "outputs": [],
   "source": [
    "pca_analysis = spike.SpikeAnalysis_MultiRecording(phase2_collection, timebin = 100,ignore_freq = 0.5)\n",
    "avg_geo_dis = pca_analysis.avg_geo_dist(2,2, 0.9,events = ['acquisition', 'recall', 'cagemate', 'novel'] )\n",
    "avg_geo_dis_df = pd.DataFrame.from_dict(avg_geo_dis)\n",
    "#acg_val = avg_geo_dis_df.mean()\n",
    "#combined_index = avg_geo_dis_df.index.get_level_values(\"Outer\") + avg_geo_dis_df.index.get_level_values(\"Inner\")\n",
    "#avg_geo_dis_df.index = combined_index\n",
    "avg_geo_dis_df.columns.to_list()\n",
    "avg_geo_dis_df.columns = ['acq vs cagemate', 'acq vs nov', 'acq vs recall', 'cage vs novel', 'cage vs recall', 'nov vs recall']\n",
    "avg_vals = avg_geo_dis_df.mean()\n",
    "avg_vals"
   ]
  },
  {
   "cell_type": "markdown",
   "metadata": {},
   "source": [
    "## Plotting"
   ]
  },
  {
   "cell_type": "code",
   "execution_count": null,
   "metadata": {},
   "outputs": [],
   "source": [
    "data =[[0, 773.5, 545.5, 1220.5],\n",
    "       [773.5, 0, 753.9, 1234.5],\n",
    "       [545.5, 753.9, 0, 1255.7],\n",
    "       [1220.5, 1234.5, 1255.7, 0]]\n",
    "\n",
    "\n",
    "\n",
    "\n",
    "plt.figure(figsize=(4,3))\n",
    "col_pal = sns.dark_palette(\"#FFAF00\", reverse=True, as_cmap=True)\n",
    "heatmap = sns.heatmap(data, cmap=col_pal, annot=True, fmt = '.2f', vmin = 500)  # 'd' for integer format\n",
    "heatmap.set_xticklabels(['Long-term', 'Short-term', 'Novel', 'Acquisition'], fontsize = 12, rotation = 45)\n",
    "heatmap.set_yticklabels(['Long-term', 'Short-term', 'Novel', 'Acquisition'], fontsize = 12, rotation = 0)\n",
    "heatmap.xaxis.set_ticks_position('top')\n",
    "plt.title('Geodesic distances with 3 PCs (>90% variance)')"
   ]
  },
  {
   "cell_type": "markdown",
   "metadata": {},
   "source": [
    "## Stats"
   ]
  },
  {
   "cell_type": "code",
   "execution_count": null,
   "metadata": {},
   "outputs": [],
   "source": [
    "p_values = pd.DataFrame(index=avg_geo_dis_df.columns, columns=avg_geo_dis_df.columns)\n",
    "for group1 in avg_geo_dis_df.columns:\n",
    "    for group2 in avg_geo_dis_df.columns:\n",
    "        if group1 != group2:\n",
    "            t_stat, p_value = stats.ttest_ind(avg_geo_dis_df[group1], avg_geo_dis_df[group2])\n",
    "            p_values.at[group1, group2] = p_value\n",
    "p_values"
   ]
  },
  {
   "cell_type": "code",
   "execution_count": null,
   "metadata": {},
   "outputs": [],
   "source": [
    "order_distances_df = pd.DataFrame.from_dict(order_distances)\n",
    "avg_order_distances = order_distances_df.mean()\n",
    "avg_order_distances"
   ]
  },
  {
   "cell_type": "code",
   "execution_count": null,
   "metadata": {},
   "outputs": [],
   "source": [
    "\n",
    "data = [[0, 569, 777, 1148],\n",
    "        [569, 0, 747, 1286],\n",
    "        [777, 747, 0 , 1253],\n",
    "        [1148, 1286, 1253, 0]]\n",
    "plt.figure(figsize=(4,3))\n",
    "col_pal = sns.dark_palette(\"#5BC\", reverse=True, as_cmap=True)\n",
    "heatmap = sns.heatmap(data, cmap=col_pal, annot=True, fmt = '.2f', vmin = 500)  # 'd' for integer format\n",
    "heatmap.set_xticklabels(['Acquisition','Exposure 1', 'Exposure 2', 'Exposure 3'], fontsize = 12, rotation = 45)\n",
    "heatmap.set_yticklabels(['Acquisition','Exposure 1', 'Exposure 2', 'Exposure 3'], fontsize = 12, rotation = 0)\n",
    "heatmap.xaxis.set_ticks_position('top')\n",
    "plt.title('Geo distances based on exposure order', fontsize = 16)\n",
    "plt.show()"
   ]
  },
  {
   "cell_type": "code",
   "execution_count": null,
   "metadata": {},
   "outputs": [],
   "source": [
    "average_values = geo_dis_df.mean()\n",
    "sems = geo_dis_df.sem()\n",
    "plt.bar(['Acquisition vs Cagemate', 'Acquisition vs Novel',\n",
    "         'Acquisition vs Familiar', 'Cagemate vs Novel', 'Cagemate vs Familiar',\n",
    "         'Novel vs Familiar'], average_values, yerr=sems, capsize=5)\n",
    "\n",
    "# Label the x-axis and y-axis\n",
    "plt.ylabel('Geodesic Distance')\n",
    "plt.xticks(rotation = 45)\n",
    "# Show the plot\n",
    "plt.show()\n"
   ]
  }
 ],
 "metadata": {
  "language_info": {
   "name": "python"
  }
 },
 "nbformat": 4,
 "nbformat_minor": 2
}
