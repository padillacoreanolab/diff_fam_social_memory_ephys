{
 "cells": [
  {
   "cell_type": "code",
   "execution_count": 2,
   "id": "46517f7f",
   "metadata": {},
   "outputs": [],
   "source": [
    "import tkinter as tk\n",
    "from tkinter import ttk, filedialog, messagebox\n",
    "import cv2\n",
    "import numpy as np\n",
    "from PIL import Image, ImageTk, ImageEnhance\n",
    "import subprocess\n",
    "import os\n",
    "import random\n",
    "import threading\n",
    "from vid_gui import VideoColorEditor\n"
   ]
  },
  {
   "cell_type": "code",
   "execution_count": 5,
   "id": "5241f771",
   "metadata": {},
   "outputs": [
    {
     "ename": "TypeError",
     "evalue": "str.title() takes no arguments (1 given)",
     "output_type": "error",
     "traceback": [
      "\u001b[31m---------------------------------------------------------------------------\u001b[39m",
      "\u001b[31mTypeError\u001b[39m                                 Traceback (most recent call last)",
      "\u001b[36mCell\u001b[39m\u001b[36m \u001b[39m\u001b[32mIn[5]\u001b[39m\u001b[32m, line 1\u001b[39m\n\u001b[32m----> \u001b[39m\u001b[32m1\u001b[39m editor = \u001b[43mVideoColorEditor\u001b[49m\u001b[43m(\u001b[49m\u001b[43mroot\u001b[49m\u001b[43m \u001b[49m\u001b[43m=\u001b[49m\u001b[33;43mr\u001b[39;49m\u001b[33;43m\"\u001b[39;49m\u001b[33;43mC:\u001b[39;49m\u001b[33;43m\\\u001b[39;49m\u001b[33;43mUsers\u001b[39;49m\u001b[33;43m\\\u001b[39;49m\u001b[33;43mmegha\u001b[39;49m\u001b[33;43m\\\u001b[39;49m\u001b[33;43mUFL Dropbox\u001b[39;49m\u001b[33;43m\\\u001b[39;49m\u001b[33;43mMeghan Cum\u001b[39;49m\u001b[33;43m\\\u001b[39;49m\u001b[33;43mPadilla-Coreano Lab\u001b[39;49m\u001b[33;43m\\\u001b[39;49m\u001b[33;43m2024\u001b[39;49m\u001b[33;43m\\\u001b[39;49m\u001b[33;43mCum_SocialMemEphys_pilot2\u001b[39;49m\u001b[33;43m\\\u001b[39;49m\u001b[33;43mSLEAP\u001b[39;49m\u001b[33;43m\\\u001b[39;49m\u001b[33;43mobject_control_mp4s\u001b[39;49m\u001b[33;43m\\\u001b[39;49m\u001b[33;43m22_object_converted.mp4\u001b[39;49m\u001b[33;43m\"\u001b[39;49m\u001b[43m)\u001b[49m\n",
      "\u001b[36mFile \u001b[39m\u001b[32mc:\\Users\\megha\\Documents\\GitHub\\diff_fam_social_memory_ephys\\vid_gui.py:15\u001b[39m, in \u001b[36mVideoColorEditor.__init__\u001b[39m\u001b[34m(self, root)\u001b[39m\n\u001b[32m     13\u001b[39m \u001b[38;5;28;01mdef\u001b[39;00m\u001b[38;5;250m \u001b[39m\u001b[34m__init__\u001b[39m(\u001b[38;5;28mself\u001b[39m, root):\n\u001b[32m     14\u001b[39m     \u001b[38;5;28mself\u001b[39m.root = root\n\u001b[32m---> \u001b[39m\u001b[32m15\u001b[39m     \u001b[38;5;28;43mself\u001b[39;49m\u001b[43m.\u001b[49m\u001b[43mroot\u001b[49m\u001b[43m.\u001b[49m\u001b[43mtitle\u001b[49m\u001b[43m(\u001b[49m\u001b[33;43m\"\u001b[39;49m\u001b[33;43mVideo Color Correction Tool\u001b[39;49m\u001b[33;43m\"\u001b[39;49m\u001b[43m)\u001b[49m\n\u001b[32m     16\u001b[39m     \u001b[38;5;28mself\u001b[39m.root.geometry(\u001b[33m\"\u001b[39m\u001b[33m1000x700\u001b[39m\u001b[33m\"\u001b[39m)\n\u001b[32m     18\u001b[39m     \u001b[38;5;66;03m# Variables\u001b[39;00m\n",
      "\u001b[31mTypeError\u001b[39m: str.title() takes no arguments (1 given)"
     ]
    }
   ],
   "source": [
    "editor = VideoColorEditor(root =r\"C:\\Users\\megha\\UFL Dropbox\\Meghan Cum\\Padilla-Coreano Lab\\2024\\Cum_SocialMemEphys_pilot2\\SLEAP\\object_control_mp4s\\22_object_converted.mp4\")"
   ]
  },
  {
   "cell_type": "code",
   "execution_count": 1,
   "id": "0c60dae0",
   "metadata": {},
   "outputs": [
    {
     "data": {
      "text/plain": [
       "'c:\\\\Users\\\\megha\\\\Documents\\\\GitHub\\\\diff_fam_social_memory_ephys'"
      ]
     },
     "execution_count": 1,
     "metadata": {},
     "output_type": "execute_result"
    }
   ],
   "source": [
    "%pwd"
   ]
  },
  {
   "cell_type": "code",
   "execution_count": 22,
   "id": "9512ecce",
   "metadata": {},
   "outputs": [],
   "source": [
    "vid_path = r\"C:\\Users\\megha\\UFL Dropbox\\Meghan Cum\\Padilla-Coreano Lab\\2024\\Cum_SocialMemEphys_pilot2\\SLEAP\\object_control_mp4s\"\n",
    "import os\n",
    "commands = []\n",
    "for root, dirs, files in os.walk(vid_path):\n",
    "    for file in files:\n",
    "        if file.endswith('.txt'):\n",
    "            file_path = os.path.join(root, file)\n",
    "            with open(file_path, 'r') as f:\n",
    "                content = f.read()\n",
    "                new_command = content.replace(\"C:/Users/megha/UFL Dropbox/Meghan Cum/Padilla-Coreano Lab/2024/Cum_SocialMemEphys_pilot2/SLEAP/object_control_mp4s/\", '')\n",
    "                new_command = new_command.replace(\"C:/Users/megha/UFL Dropbox/Meghan Cum/Padilla-Coreano Lab/2024/Cum_SocialMemEphys_pilot2/SLEAP/object_control_mp4s\", '')\n",
    "                new_command = new_command.replace('\\\\', \"\")\n",
    "                commands.append(new_command)\n"
   ]
  },
  {
   "cell_type": "code",
   "execution_count": 25,
   "id": "b69197ed",
   "metadata": {},
   "outputs": [
    {
     "name": "stdout",
     "output_type": "stream",
     "text": [
      "Bash script created: C:\\Users\\megha\\UFL Dropbox\\Meghan Cum\\Padilla-Coreano Lab\\2024\\Cum_SocialMemEphys_pilot2\\SLEAP\\only_subjects_mp4s\\ffmpeg_batch.sh\n",
      "Total commands: 8\n"
     ]
    }
   ],
   "source": [
    "def create_ffmpeg_script(vid_path):    \n",
    "    commands = []\n",
    "    for root, dirs, files in os.walk(vid_path):\n",
    "        for file in files:\n",
    "            if file.endswith('.txt'):\n",
    "                file_path = os.path.join(root, file)\n",
    "                # Read with explicit encoding and handle line endings\n",
    "                with open(file_path, 'r', encoding='utf-8') as f:\n",
    "                    content = f.read().strip()\n",
    "                    # Remove both types of line endings and clean up\n",
    "                    content = content.replace('\\r\\n', '').replace('\\r', '').replace('\\n', '')\n",
    "                    \n",
    "                    new_command = content.replace(\"C:/Users/megha/UFL Dropbox/Meghan Cum/Padilla-Coreano Lab/2024/Cum_SocialMemEphys_pilot2/SLEAP/object_control_mp4s/\", '')\n",
    "                    new_command = new_command.replace(\"C:/Users/megha/UFL Dropbox/Meghan Cum/Padilla-Coreano Lab/2024/Cum_SocialMemEphys_pilot2/SLEAP/object_control_mp4s\", '')\n",
    "                    new_command = new_command.replace('\\\\', \"\")\n",
    "                    \n",
    "                    # Additional cleaning\n",
    "                    new_command = new_command.strip()\n",
    "                    \n",
    "                    if new_command:  # Only add non-empty commands\n",
    "                        commands.append(new_command)\n",
    "\n",
    "    # Save as bash script with explicit Unix line endings\n",
    "    script_path = os.path.join(vid_path, \"ffmpeg_batch.sh\")\n",
    "    \n",
    "    # THIS PART WAS MISSING - Actually write the file\n",
    "    with open(script_path, 'w', encoding='utf-8', newline='\\n') as f:\n",
    "        f.write(\"#!/bin/bash\\n\")\n",
    "        f.write(\"# FFmpeg batch processing script\\n\")\n",
    "        f.write(\"# Generated automatically\\n\\n\")\n",
    "        \n",
    "        f.write(\"set -e  # Exit on error\\n\")\n",
    "        f.write(\"echo 'Starting FFmpeg batch processing...'\\n\")\n",
    "        f.write(f\"echo 'Processing {len(commands)} files'\\n\\n\")\n",
    "        \n",
    "        for i, command in enumerate(commands, 1):\n",
    "            f.write(f\"echo 'Processing file {i}/{len(commands)}...'\\n\")\n",
    "            f.write(f\"{command}\\n\")\n",
    "            f.write(f\"echo 'File {i} completed'\\n\\n\")\n",
    "        \n",
    "        f.write(\"echo 'All files processed successfully!'\\n\")\n",
    "    \n",
    "    print(f\"Bash script created: {script_path}\")\n",
    "    print(f\"Total commands: {len(commands)}\")\n",
    "    \n",
    "    return script_path, len(commands)\n",
    "\n",
    "# NOW CALL THE FUNCTION TO ACTUALLY RUN IT\n",
    "vid_path = r\"C:\\Users\\megha\\UFL Dropbox\\Meghan Cum\\Padilla-Coreano Lab\\2024\\Cum_SocialMemEphys_pilot2\\SLEAP\\only_subjects_mp4s\"\n",
    "script_file, num_commands = create_ffmpeg_script(vid_path)\n",
    "\n"
   ]
  },
  {
   "cell_type": "code",
   "execution_count": null,
   "id": "f6fce6c8",
   "metadata": {},
   "outputs": [],
   "source": []
  }
 ],
 "metadata": {
  "kernelspec": {
   "display_name": "vid_editor",
   "language": "python",
   "name": "python3"
  },
  "language_info": {
   "codemirror_mode": {
    "name": "ipython",
    "version": 3
   },
   "file_extension": ".py",
   "mimetype": "text/x-python",
   "name": "python",
   "nbconvert_exporter": "python",
   "pygments_lexer": "ipython3",
   "version": "3.13.3"
  }
 },
 "nbformat": 4,
 "nbformat_minor": 5
}
