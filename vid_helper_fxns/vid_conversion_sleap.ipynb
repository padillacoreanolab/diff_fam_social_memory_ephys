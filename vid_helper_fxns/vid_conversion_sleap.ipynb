{
 "cells": [
  {
   "cell_type": "code",
   "execution_count": 4,
   "metadata": {
    "tags": []
   },
   "outputs": [],
   "source": [
    "import sys\n",
    "import os\n",
    "import glob\n",
    "import subprocess\n",
    "\n",
    "def convert_vid_sleap(input_folder, vid_type):\n",
    "    \"\"\"\n",
    "    This assumes all videos are in the same folder. Converts videos to be used for sleap tracking without issues \n",
    "    i.e. an mp4 with some other specifications of this command -c:v libx264 -pix_fmt yuv420p -preset superfast -crf 23\n",
    "    saves all videos with original name plus _converted at the end. \n",
    "\n",
    "    Args (2 required, 3 total)\n",
    "        input_folder: str, where your videos exist\n",
    "        vid_type: str {'.mp4' or '.h264', whatever the original video type is}\n",
    "        output_folder: str, optional, where you would like the videos to be saved, \n",
    "            if not specified the input_folder is used\n",
    "    \"\"\"\n",
    "    if output_folder is None:\n",
    "        output_folder = input_folder\n",
    "    data_path = input_folder + '\\*'\n",
    "    videos = glob.glob(data_path)\n",
    "    video = [glob.glob(f'*{vid_type}') for video in videos]\n",
    "    commands = []\n",
    "    for video in (videos):\n",
    "        video_dir, video_name = os.path.split(video)\n",
    "        new_name = os.path.join(output_folder, video_name.replace(vid_type, '_converted.mp4'))\n",
    "        if not os.path.exists(new_name):\n",
    "            command =  f'ffmpeg -y -i \"{video}\" -c:v libx264 -pix_fmt yuv420p -preset superfast -crf 23 \"{new_name}\"' \n",
    "            commands.append(command)\n",
    "    i = 0\n",
    "    for command in commands:\n",
    "       subprocess.Popen(command, shell=True).wait()\n",
    "       i +=1\n",
    "       print(i, 'out of', len(commands), 'videos converted')\n",
    "\n"
   ]
  },
  {
   "cell_type": "code",
   "execution_count": 6,
   "metadata": {
    "tags": []
   },
   "outputs": [
    {
     "name": "stdout",
     "output_type": "stream",
     "text": [
      "/blue/npadillacoreano/mcum/SocialMemEphys/diff_fam_social_memory_ephys\n"
     ]
    }
   ],
   "source": [
    "%cd ..\n",
    "\n"
   ]
  },
  {
   "cell_type": "code",
   "execution_count": 11,
   "metadata": {
    "tags": []
   },
   "outputs": [
    {
     "name": "stdout",
     "output_type": "stream",
     "text": [
      "data/new_object_control_data/20250618_113931_object_control_subj_1-2_and_6-1.rec/20250618_113931_object_control_subj_1-2_and_6-1.2_converted.mp4\n",
      "data/new_object_control_data/20250618_113931_object_control_subj_1-2_and_6-1.rec/20250618_113931_object_control_subj_1-2_and_6-1.1_converted.mp4\n",
      "data/new_object_control_data/20250618_143034_object-control-subj_4-3_and_4-4.rec/20250618_143034_object-control-subj_4-3_and_4-4.1_converted.mp4\n",
      "data/new_object_control_data/20250618_143034_object-control-subj_4-3_and_4-4.rec/20250618_143034_object-control-subj_4-3_and_4-4.2_converted.mp4\n",
      "data/new_object_control_data/20250618_133349_object_control_subj_4-1_and_4-2.rec/20250618_133349_object_control_subj_4-1_and_4-2.1_converted.mp4\n",
      "data/new_object_control_data/20250618_133349_object_control_subj_4-1_and_4-2.rec/20250618_133349_object_control_subj_4-1_and_4-2.2_converted.mp4\n",
      "data/new_object_control_data/20250618_123431_object_control_subj_1-3_and_6-3.rec/20250618_123431_object_control_subj_1-3_and_6-3.1_converted.mp4\n",
      "data/new_object_control_data/20250618_123431_object_control_subj_1-3_and_6-3.rec/20250618_123431_object_control_subj_1-3_and_6-3.2_converted.mp4\n",
      "ffmpeg -y -i \"data/new_object_control_data/20250618_113931_object_control_subj_1-2_and_6-1.rec/20250618_113931_object_control_subj_1-2_and_6-1.2.h264\" -c:v libx264 -pix_fmt yuv420p -preset superfast -crf 23 \"data/new_object_control_data/20250618_113931_object_control_subj_1-2_and_6-1.rec/20250618_113931_object_control_subj_1-2_and_6-1.2_converted.mp4\"\n",
      "1 out of 8 videos converted\n",
      "ffmpeg -y -i \"data/new_object_control_data/20250618_113931_object_control_subj_1-2_and_6-1.rec/20250618_113931_object_control_subj_1-2_and_6-1.1.h264\" -c:v libx264 -pix_fmt yuv420p -preset superfast -crf 23 \"data/new_object_control_data/20250618_113931_object_control_subj_1-2_and_6-1.rec/20250618_113931_object_control_subj_1-2_and_6-1.1_converted.mp4\"\n",
      "2 out of 8 videos converted\n",
      "ffmpeg -y -i \"data/new_object_control_data/20250618_143034_object-control-subj_4-3_and_4-4.rec/20250618_143034_object-control-subj_4-3_and_4-4.1.h264\" -c:v libx264 -pix_fmt yuv420p -preset superfast -crf 23 \"data/new_object_control_data/20250618_143034_object-control-subj_4-3_and_4-4.rec/20250618_143034_object-control-subj_4-3_and_4-4.1_converted.mp4\"\n",
      "3 out of 8 videos converted\n",
      "ffmpeg -y -i \"data/new_object_control_data/20250618_143034_object-control-subj_4-3_and_4-4.rec/20250618_143034_object-control-subj_4-3_and_4-4.2.h264\" -c:v libx264 -pix_fmt yuv420p -preset superfast -crf 23 \"data/new_object_control_data/20250618_143034_object-control-subj_4-3_and_4-4.rec/20250618_143034_object-control-subj_4-3_and_4-4.2_converted.mp4\"\n",
      "4 out of 8 videos converted\n",
      "ffmpeg -y -i \"data/new_object_control_data/20250618_133349_object_control_subj_4-1_and_4-2.rec/20250618_133349_object_control_subj_4-1_and_4-2.1.h264\" -c:v libx264 -pix_fmt yuv420p -preset superfast -crf 23 \"data/new_object_control_data/20250618_133349_object_control_subj_4-1_and_4-2.rec/20250618_133349_object_control_subj_4-1_and_4-2.1_converted.mp4\"\n",
      "5 out of 8 videos converted\n",
      "ffmpeg -y -i \"data/new_object_control_data/20250618_133349_object_control_subj_4-1_and_4-2.rec/20250618_133349_object_control_subj_4-1_and_4-2.2.h264\" -c:v libx264 -pix_fmt yuv420p -preset superfast -crf 23 \"data/new_object_control_data/20250618_133349_object_control_subj_4-1_and_4-2.rec/20250618_133349_object_control_subj_4-1_and_4-2.2_converted.mp4\"\n",
      "6 out of 8 videos converted\n",
      "ffmpeg -y -i \"data/new_object_control_data/20250618_123431_object_control_subj_1-3_and_6-3.rec/20250618_123431_object_control_subj_1-3_and_6-3.1.h264\" -c:v libx264 -pix_fmt yuv420p -preset superfast -crf 23 \"data/new_object_control_data/20250618_123431_object_control_subj_1-3_and_6-3.rec/20250618_123431_object_control_subj_1-3_and_6-3.1_converted.mp4\"\n",
      "7 out of 8 videos converted\n",
      "ffmpeg -y -i \"data/new_object_control_data/20250618_123431_object_control_subj_1-3_and_6-3.rec/20250618_123431_object_control_subj_1-3_and_6-3.2.h264\" -c:v libx264 -pix_fmt yuv420p -preset superfast -crf 23 \"data/new_object_control_data/20250618_123431_object_control_subj_1-3_and_6-3.rec/20250618_123431_object_control_subj_1-3_and_6-3.2_converted.mp4\"\n",
      "8 out of 8 videos converted\n"
     ]
    },
    {
     "name": "stderr",
     "output_type": "stream",
     "text": [
      "/bin/sh: line 1: ffmpeg: command not found\n",
      "/bin/sh: line 1: ffmpeg: command not found\n",
      "/bin/sh: line 1: ffmpeg: command not found\n",
      "/bin/sh: line 1: ffmpeg: command not found\n",
      "/bin/sh: line 1: ffmpeg: command not found\n",
      "/bin/sh: line 1: ffmpeg: command not found\n",
      "/bin/sh: line 1: ffmpeg: command not found\n",
      "/bin/sh: line 1: ffmpeg: command not found\n"
     ]
    }
   ],
   "source": [
    "def convert_h264_trodes(input_folder, vid_type = None):\n",
    "    \"\"\"\n",
    "    This assumes all videos are in .rec folders (typical trodes output folder structure).\n",
    "    Converts videos to be used for sleap tracking without issues \n",
    "    i.e. an mp4 with some other specifications of this command -c:v libx264 -pix_fmt yuv420p -preset superfast -crf 23\n",
    "    saves all videos with original name plus _converted at the end and saved in their original .rec folder. \n",
    "\n",
    "    Args (1 required, 2 total)\n",
    "        input_folder: str, where your videos exist\n",
    "        vid_type: str, optional, {'.mp4' or '.h264', whatever the original video type is}\n",
    "            if not specified, .h264 files are assumed\n",
    "    \"\"\"\n",
    "    if vid_type is None:\n",
    "        vid_type = '.h264'\n",
    "    rec_folders = glob.glob(os.path.join(input_folder, '*.rec'))\n",
    "    commands = []\n",
    "    for rec_folder in rec_folders:\n",
    "        videos = glob.glob(os.path.join(rec_folder, f'*{vid_type}'))\n",
    "        for video in (videos):\n",
    "            video_dir, video_name = os.path.split(video)\n",
    "            new_name = os.path.join(video_dir, video_name.replace(vid_type, '_converted.mp4'))\n",
    "            if not os.path.exists(new_name):\n",
    "                print(new_name)\n",
    "                command =  f'ffmpeg -y -i \"{video}\" -c:v libx264 -pix_fmt yuv420p -preset superfast -crf 23 \"{new_name}\"' \n",
    "                commands.append(command)\n",
    "    i = 0\n",
    "    for command in commands:\n",
    "        print(command)\n",
    "        subprocess.Popen(command, shell=True).wait()\n",
    "        i +=1\n",
    "        print(i, 'out of', len(commands), 'videos converted')\n",
    "\n",
    "convert_h264_trodes(r'data/new_object_control_data/')\n",
    "\n",
    "\n"
   ]
  },
  {
   "cell_type": "code",
   "execution_count": null,
   "metadata": {},
   "outputs": [],
   "source": []
  },
  {
   "cell_type": "code",
   "execution_count": null,
   "metadata": {},
   "outputs": [],
   "source": []
  }
 ],
 "metadata": {
  "kernelspec": {
   "display_name": "lfp_env",
   "language": "python",
   "name": "lfp_env"
  },
  "language_info": {
   "codemirror_mode": {
    "name": "ipython",
    "version": 3
   },
   "file_extension": ".py",
   "mimetype": "text/x-python",
   "name": "python",
   "nbconvert_exporter": "python",
   "pygments_lexer": "ipython3",
   "version": "3.11.8"
  }
 },
 "nbformat": 4,
 "nbformat_minor": 4
}
