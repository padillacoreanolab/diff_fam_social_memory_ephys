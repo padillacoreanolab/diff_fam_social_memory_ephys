{
 "cells": [
  {
   "cell_type": "code",
   "execution_count": null,
   "id": "1b644618",
   "metadata": {},
   "outputs": [],
   "source": [
    "import ffmpeg\n",
    "\n",
    "def count_frames_ffmpeg(video_path):\n",
    "    probe = ffmpeg.probe(video_path)\n",
    "    video_info = next(s for s in probe['streams'] if s['codec_type'] == 'video')\n",
    "    frame_count = int(video_info['nb_frames'])\n",
    "    return frame_count\n",
    "\n",
    "# Alternative if nb_frames is not available\n",
    "# def count_frames_ffmpeg_alt(video_path):\n",
    "#     probe = ffmpeg.probe(video_path)\n",
    "#     video_info = next(s for s in probe['streams'] if s['codec_type'] == 'video')\n",
    "    \n",
    "#     duration = float(video_info['duration'])\n",
    "#     fps = eval(video_info['r_frame_rate'])  # Convert \"30/1\" to 30.0\n",
    "    \n",
    "#     frame_count = int(duration * fps)\n",
    "#     return frame_count"
   ]
  },
  {
   "cell_type": "code",
   "execution_count": null,
   "id": "5bbaeb23",
   "metadata": {},
   "outputs": [],
   "source": []
  }
 ],
 "metadata": {
  "kernelspec": {
   "display_name": "ephys_env",
   "language": "python",
   "name": "python3"
  },
  "language_info": {
   "codemirror_mode": {
    "name": "ipython",
    "version": 3
   },
   "file_extension": ".py",
   "mimetype": "text/x-python",
   "name": "python",
   "nbconvert_exporter": "python",
   "pygments_lexer": "ipython3",
   "version": "3.10.9"
  }
 },
 "nbformat": 4,
 "nbformat_minor": 5
}
