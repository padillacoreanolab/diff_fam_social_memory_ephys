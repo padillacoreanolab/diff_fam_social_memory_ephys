{
 "cells": [
  {
   "cell_type": "markdown",
   "metadata": {},
   "source": [
    "# Import libraries and files"
   ]
  },
  {
   "cell_type": "code",
   "execution_count": 1,
   "metadata": {},
   "outputs": [],
   "source": [
    "import pickle\n",
    "from dPCA import dPCA\n",
    "import multirecording_spikeanalysis as spike\n",
    "import pandas as pd\n",
    "import numpy as np\n",
    "import matplotlib.pyplot as plt\n",
    "from scipy import stats\n",
    "import seaborn as sns\n",
    "import sklearn\n",
    "from sklearn.decomposition import PCA\n",
    "from sklearn.cross_decomposition import CCA"
   ]
  },
  {
   "cell_type": "code",
   "execution_count": 2,
   "metadata": {},
   "outputs": [],
   "source": [
    "def pickle_this(thing_to_pickle, file_name):\n",
    "    with open(file_name,'wb') as file:\n",
    "        pickle.dump(thing_to_pickle, file)\n",
    "\n",
    "def unpickle_this(pickle_file):\n",
    "    with open(pickle_file, 'rb') as file:\n",
    "        return pickle.load(file)"
   ]
  },
  {
   "cell_type": "markdown",
   "metadata": {},
   "source": [
    "# Phase 2: Freely moving"
   ]
  },
  {
   "cell_type": "markdown",
   "metadata": {},
   "source": [
    "Each recording is an ephysrecording instance; the documentation is as follows: \n",
    "\n",
    "A class for an ephys recording after being spike sorted and manually\n",
    "curated using phy. Ephys recording must have a phy folder.\n",
    "\n",
    "\n",
    "    Attributes:\n",
    "        path: str, relative path to the phy folder\n",
    "            formatted as: './folder/folder/phy'\n",
    "        subject: str, subject id who was being recorded\n",
    "        event_dict: dict, start and stop times for events\n",
    "            keys: str, name of event types\n",
    "            values: np.array, d =(n,2), each 2D array is the start and stop time \n",
    "            in ms for each event, n = number of events of type key\n",
    "        sampling_rate: int, sampling rate of the ephys device\n",
    "            in Hz, standard in the PC lab is 20,000Hz\n",
    "        timestamps_var: numpy array, all spike timestamps\n",
    "            of good and mua units (no noise unit-generated spikes)\n",
    "        unit_array: numpy array, unit ids associated with each\n",
    "            spike in the timestamps_var\n",
    "        labels_dict: dict, keys are unit ids (str) and\n",
    "            values are labels (str)\n",
    "        unit_timestamps: dict, keys are unit ids (int), and\n",
    "            values are numpy arrays of timestamps for all spikes\n",
    "            from \"good\" units only\n",
    "        spiketrain: np.array, spiketrain of number of spikes\n",
    "            in a specified timebin\n",
    "        unit_spiketrains: dict, spiketrains for each unit\n",
    "            keys: str, unit ids\n",
    "            values: np.array, number of spikes per specified timebin\n",
    "        unit_firing_rates: dict, firing rates per unit\n",
    "            keys: str, unit ids\n",
    "            values: np.arrays, firing rate of unit in a specified timebin\n",
    "                    calculated with a specified smoothing window\n",
    "\n",
    "    Methods: (all called in __init__)\n",
    "        get_unit_labels: creates labels_dict\n",
    "        get_spike_specs: creates timestamps_var and unit_array\n",
    "        get_unit_timestamps: creates unit_timestamps dictionary\n"
   ]
  },
  {
   "cell_type": "markdown",
   "metadata": {},
   "source": [
    "All recordings have been put into an instance of the class type ephysrecordingcollection.\n",
    "Big picture is that phase2_collection has an attribute called collection which is a dictionary of \n",
    "recording names: recording objects. "
   ]
  },
  {
   "cell_type": "code",
   "execution_count": 14,
   "metadata": {},
   "outputs": [],
   "source": [
    "phase2_collection = unpickle_this('phase2_collection.pkl')"
   ]
  },
  {
   "cell_type": "code",
   "execution_count": 15,
   "metadata": {},
   "outputs": [
    {
     "name": "stdout",
     "output_type": "stream",
     "text": [
      "Example recording:\n",
      "20230803_101331_1_merged.rec\n",
      "\n",
      "Event Types:\n",
      "dict_keys(['acquisition', 'recall', 'cagemate', 'novel', 'exposure 1', 'exposure 2', 'exposure 3'])\n",
      "\n",
      "Number of units:\n",
      "52\n"
     ]
    }
   ],
   "source": [
    "is_first = True\n",
    "for recording_name, recording in phase2_collection.collection.items():\n",
    "    if is_first:\n",
    "        print('Example recording:')\n",
    "        print(recording_name)\n",
    "        print(\"\")\n",
    "        print('Event Types:')\n",
    "        print(recording.event_dict.keys())\n",
    "        print(\"\")\n",
    "        print('Number of units:')\n",
    "        print(len(recording.unit_timestamps.keys()))\n",
    "        is_first = False"
   ]
  },
  {
   "cell_type": "code",
   "execution_count": 16,
   "metadata": {},
   "outputs": [
    {
     "data": {
      "text/plain": [
       "dict_items([('20230803_101331_1_merged.rec', <multirecording_spikeanalysis.EphysRecording object at 0x0000021876F3E150>), ('20230803_121318_1_merged.rec', <multirecording_spikeanalysis.EphysRecording object at 0x0000021876F40080>), ('20230803_141047_1_merged.rec', <multirecording_spikeanalysis.EphysRecording object at 0x0000021876F426C0>), ('20230804_121600_1_merged.rec', <multirecording_spikeanalysis.EphysRecording object at 0x0000021876F48A10>), ('20230804_141009_1_merged.rec', <multirecording_spikeanalysis.EphysRecording object at 0x0000021876F4B8C0>), ('20230817_100823_1_merged.rec', <multirecording_spikeanalysis.EphysRecording object at 0x0000021876F4DB50>), ('20230817_113746_1_merged.rec', <multirecording_spikeanalysis.EphysRecording object at 0x0000021876F4FC50>), ('20230818_115728_1_merged.rec', <multirecording_spikeanalysis.EphysRecording object at 0x0000021876F56120>), ('20230818_133620_1_merged.rec', <multirecording_spikeanalysis.EphysRecording object at 0x0000021876F57D40>)])"
      ]
     },
     "execution_count": 16,
     "metadata": {},
     "output_type": "execute_result"
    }
   ],
   "source": [
    "phase2_collection.collection.items()"
   ]
  },
  {
   "cell_type": "markdown",
   "metadata": {},
   "source": [
    "Here is another class I made for spike analysis specifically. \n",
    "\n",
    "Parameters that you should feel free to play with are smoothin_window and timebin (both in ms).\n",
    "\n",
    "    Timebin:\n",
    "        window for each element in all the arrays (spiketrains, firing rates, etc.).\n",
    "    Smoothing window:\n",
    "        the rolling average window size to be used when calculating firing rates. "
   ]
  },
  {
   "cell_type": "code",
   "execution_count": 17,
   "metadata": {},
   "outputs": [
    {
     "name": "stdout",
     "output_type": "stream",
     "text": [
      "All set to analyze\n"
     ]
    }
   ],
   "source": [
    "# PCA analysis parameters\n",
    "phase2_analysis = spike.SpikeAnalysis_MultiRecording(\n",
    "    phase2_collection,\n",
    "    smoothing_window = 100, #100\n",
    "    timebin = 40, #40\n",
    "    ignore_freq = 0.5)"
   ]
  },
  {
   "cell_type": "code",
   "execution_count": 18,
   "metadata": {},
   "outputs": [
    {
     "name": "stdout",
     "output_type": "stream",
     "text": [
      "(225, 215)\n"
     ]
    }
   ],
   "source": [
    "LT_matrix_phase2, transformed_matrix, key, coefficients, LT_explained_variance_ratios_phase2 = phase2_analysis.PCA_matrix_generation(equalize=3, pre_window=6, events=['cagemate'])\n",
    "ST_matrix_phase2, transformed_matrix, key, coefficients, ST_explained_variance_ratios_phase2 = phase2_analysis.PCA_matrix_generation(equalize=3, pre_window=6, events=['recall'])\n",
    "acq_matrix_phase2, transformed_matrix, key, coefficients, acq_explained_variance_ratios_phase2 = phase2_analysis.PCA_matrix_generation(equalize=3, pre_window=6, events=['acquisition'])\n",
    "novel_matrix_phase2, transformed_matrix, key, coefficients, novel_explained_variance_ratios_phase2 = phase2_analysis.PCA_matrix_generation(equalize=3, pre_window=6, events=['novel'])"
   ]
  },
  {
   "cell_type": "markdown",
   "metadata": {},
   "source": [
    "## Perform CCA for each combination of conditions"
   ]
  },
  {
   "cell_type": "code",
   "execution_count": 43,
   "metadata": {},
   "outputs": [
    {
     "name": "stdout",
     "output_type": "stream",
     "text": [
      "0.48844959066156407\n"
     ]
    }
   ],
   "source": [
    "from sklearn.cross_decomposition import CCA\n",
    "\n",
    "# Create an instance of the CCA class with two components\n",
    "cca = CCA(n_components=5)\n",
    " \n",
    "# Fit the CCA model to X and Y\n",
    "cca.fit(LT_matrix_phase2, novel_matrix_phase2)\n",
    "\n",
    "# Transform X and Y to canonical variables\n",
    "X_c, Y_c = cca.transform(LT_matrix_phase2, novel_matrix_phase2)\n",
    " \n",
    "# Score the CCA model\n",
    "LTnov_score = cca.score(LT_matrix_phase2, novel_matrix_phase2)\n",
    " \n",
    "# Print the score\n",
    "print(LTnov_score)"
   ]
  },
  {
   "cell_type": "code",
   "execution_count": 67,
   "metadata": {},
   "outputs": [
    {
     "name": "stdout",
     "output_type": "stream",
     "text": [
      "0.5775212985448898\n"
     ]
    }
   ],
   "source": [
    "from sklearn.cross_decomposition import CCA\n",
    "\n",
    "# Create an instance of the CCA class with two components\n",
    "cca = CCA(n_components=5)\n",
    " \n",
    "# Fit the CCA model to X and Y\n",
    "cca.fit(ST_matrix_phase2, novel_matrix_phase2)\n",
    " \n",
    "# Transform X and Y to canonical variables\n",
    "X_c, Y_c = cca.transform(ST_matrix_phase2, novel_matrix_phase2)\n",
    " \n",
    "# Score the CCA model\n",
    "STnov_score = cca.score(ST_matrix_phase2, novel_matrix_phase2)\n",
    " \n",
    "# Print the score\n",
    "print(STnov_score)"
   ]
  },
  {
   "cell_type": "code",
   "execution_count": 26,
   "metadata": {},
   "outputs": [
    {
     "name": "stdout",
     "output_type": "stream",
     "text": [
      "0.4969363536175267\n"
     ]
    }
   ],
   "source": [
    "from sklearn.cross_decomposition import CCA\n",
    "\n",
    "# Create an instance of the CCA class with two components\n",
    "cca = CCA(n_components=5)\n",
    " \n",
    "# Fit the CCA model to X and Y\n",
    "cca.fit(LT_matrix_phase2, ST_matrix_phase2)\n",
    " \n",
    "# Transform X and Y to canonical variables\n",
    "X_c, Y_c = cca.transform(LT_matrix_phase2, ST_matrix_phase2)\n",
    " \n",
    "# Score the CCA model\n",
    "LTST_score = cca.score(LT_matrix_phase2, ST_matrix_phase2)\n",
    " \n",
    "# Print the score\n",
    "print(LTST_score)"
   ]
  },
  {
   "cell_type": "code",
   "execution_count": 27,
   "metadata": {},
   "outputs": [
    {
     "name": "stdout",
     "output_type": "stream",
     "text": [
      "0.43914723268444555\n"
     ]
    }
   ],
   "source": [
    "from sklearn.cross_decomposition import CCA\n",
    "\n",
    "# Create an instance of the CCA class with two components\n",
    "cca = CCA(n_components=5)\n",
    " \n",
    "# Fit the CCA model to X and Y\n",
    "cca.fit(LT_matrix_phase2, acq_matrix_phase2)\n",
    " \n",
    "# Transform X and Y to canonical variables\n",
    "X_c, Y_c = cca.transform(LT_matrix_phase2, acq_matrix_phase2)\n",
    " \n",
    "# Score the CCA model\n",
    "LTacq_score = cca.score(LT_matrix_phase2, acq_matrix_phase2)\n",
    " \n",
    "# Print the score\n",
    "print(LTacq_score)"
   ]
  },
  {
   "cell_type": "code",
   "execution_count": 28,
   "metadata": {},
   "outputs": [
    {
     "name": "stdout",
     "output_type": "stream",
     "text": [
      "0.3151548778585765\n"
     ]
    }
   ],
   "source": [
    "from sklearn.cross_decomposition import CCA\n",
    "\n",
    "# Create an instance of the CCA class with two components\n",
    "cca = CCA(n_components=5)\n",
    " \n",
    "# Fit the CCA model to X and Y\n",
    "cca.fit(ST_matrix_phase2, acq_matrix_phase2)\n",
    " \n",
    "# Transform X and Y to canonical variables\n",
    "X_c, Y_c = cca.transform(ST_matrix_phase2, acq_matrix_phase2)\n",
    " \n",
    "# Score the CCA model\n",
    "STacq_score = cca.score(ST_matrix_phase2, acq_matrix_phase2)\n",
    " \n",
    "# Print the score\n",
    "print(STacq_score)"
   ]
  },
  {
   "cell_type": "code",
   "execution_count": 39,
   "metadata": {},
   "outputs": [
    {
     "name": "stdout",
     "output_type": "stream",
     "text": [
      "0.20899191521785787\n"
     ]
    }
   ],
   "source": [
    "from sklearn.cross_decomposition import CCA\n",
    "\n",
    "# Create an instance of the CCA class with two components\n",
    "cca = CCA(n_components=5)\n",
    " \n",
    "# Fit the CCA model to X and Y\n",
    "cca.fit(novel_matrix_phase2, acq_matrix_phase2)\n",
    " \n",
    "# Transform X and Y to canonical variables\n",
    "X_c, Y_c = cca.transform(novel_matrix_phase2, acq_matrix_phase2)\n",
    " \n",
    "# Score the CCA model\n",
    "novacq_score = cca.score(novel_matrix_phase2, acq_matrix_phase2)\n",
    " \n",
    "# Print the score\n",
    "print(novacq_score)"
   ]
  },
  {
   "cell_type": "code",
   "execution_count": null,
   "metadata": {},
   "outputs": [],
   "source": [
    "# Create an instance of the CCA class with two components\n",
    "cca = CCA(n_components=5)\n",
    " \n",
    "# Fit the CCA model to X and Y\n",
    "cca.fit(novel_matrix_phase2, acq_matrix_phase2)\n",
    " \n",
    "# Transform X and Y to canonical variables\n",
    "X_c, Y_c = cca.transform(novel_matrix_phase2, acq_matrix_phase2)\n",
    "\n",
    "# inverse transform of X_c to get X_c_hat and Y_c to get Y_c_hat\n",
    "# Same steps for subspace analysis to get variance in original space\n",
    "# Calculate correlation coefficient between X_c and Y_c (five coef for five components)\n",
    "\n",
    "# Score the CCA model\n",
    "novacq_score = cca.score(novel_matrix_phase2, acq_matrix_phase2)\n",
    " \n",
    "# Print the score\n",
    "print(novacq_score)"
   ]
  },
  {
   "cell_type": "markdown",
   "metadata": {},
   "source": [
    "## Plot resulting CCA score values"
   ]
  },
  {
   "cell_type": "code",
   "execution_count": 60,
   "metadata": {},
   "outputs": [
    {
     "data": {
      "image/png": "[encoded data removed]",
      "text/plain": [
       "<Figure size 640x480 with 1 Axes>"
      ]
     },
     "metadata": {},
     "output_type": "display_data"
    }
   ],
   "source": [
    "fig, ax = plt.subplots()\n",
    "allscores = [LTST_score, LTnov_score, STnov_score, LTacq_score, STacq_score, novacq_score]\n",
    "labels = [\"LT/ST\", \"LT/novel\", \"ST/novel\", \"LT/acq\", \"ST/acq\", \"novel/acq\"]\n",
    "plt.bar(x=np.arange(len(allscores)),height=allscores)\n",
    "ax.set_xticks(np.arange(len(allscores)))\n",
    "ax.set_xticklabels(labels)\n",
    "ax.set_ylim([0,1])\n",
    "ax.set_xlabel(\"CCA variable combinations\")\n",
    "ax.set_ylabel(\"CCA score\")\n",
    "plt.show()"
   ]
  }
 ],
 "metadata": {
  "kernelspec": {
   "display_name": "socialfamiliarity",
   "language": "python",
   "name": "python3"
  },
  "language_info": {
   "codemirror_mode": {
    "name": "ipython",
    "version": 3
   },
   "file_extension": ".py",
   "mimetype": "text/x-python",
   "name": "python",
   "nbconvert_exporter": "python",
   "pygments_lexer": "ipython3",
   "version": "3.12.2"
  }
 },
 "nbformat": 4,
 "nbformat_minor": 2
}
