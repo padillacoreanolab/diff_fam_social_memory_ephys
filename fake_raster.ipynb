{
 "cells": [
  {
   "cell_type": "code",
   "execution_count": 37,
   "id": "19b08561",
   "metadata": {},
   "outputs": [],
   "source": [
    "import numpy as np\n",
    "\n",
    "import matplotlib.pyplot as plt\n",
    "\n",
    "def plot_random_spiketrains(num_neurons=15, train_length=100):\n",
    "    \n",
    "    \"\"\"\n",
    "    Generates and plots random spiketrains for a given number of neurons.\n",
    "    Each spiketrain has a random firing rate.\n",
    "    \"\"\"\n",
    "  # For reproducibility\n",
    "    spiketrains = []\n",
    "    firing_rates = np.linspace(0.05, 0.5, num_neurons)  # Varying firing rates\n",
    "    firing_rates = np.random.permutation(firing_rates)  # Shuffle firing rates\n",
    "    for rate in firing_rates:\n",
    "        spiketrain = np.random.poisson(lam = rate, size = train_length)\n",
    "        spiketrains.append(spiketrain.astype(int))\n",
    "\n",
    "    plt.figure(figsize=(4, 4))\n",
    "    for i, spiketrain in enumerate(spiketrains):\n",
    "        spike_times = np.where(spiketrain == 1)[0]\n",
    "        plt.vlines(spike_times, i + 0.5, i + 1.5, color='black')\n",
    "    plt.rcParams['axes.spines.top'] = False\n",
    "    plt.rcParams['axes.spines.right'] = False\n",
    "    plt.ylim(0.5, num_neurons + 0.5)\n",
    "    plt.yticks(np.arange(1, num_neurons + 1))\n",
    "    plt.xlabel('Time', fontsize = 16)\n",
    "    plt.ylabel('Neuron', fontsize = 16)\n",
    "    plt.title('')\n",
    "    plt.show()\n",
    "    plt.savefig('random_spiketrains.svg', dpi=300, bbox_inches='tight')"
   ]
  },
  {
   "cell_type": "code",
   "execution_count": 40,
   "id": "e8e6fa6b",
   "metadata": {},
   "outputs": [
    {
     "data": {
      "text/plain": [
       "'c:\\\\Users\\\\megha\\\\Documents\\\\GitHub\\\\ephys_analysis'"
      ]
     },
     "execution_count": 40,
     "metadata": {},
     "output_type": "execute_result"
    }
   ],
   "source": [
    "import os\n",
    "\n",
    "os.getcwd()"
   ]
  },
  {
   "cell_type": "code",
   "execution_count": 41,
   "id": "17a3f26d",
   "metadata": {},
   "outputs": [
    {
     "data": {
      "image/png": "[encoded data removed]",
      "text/plain": [
       "<Figure size 400x400 with 1 Axes>"
      ]
     },
     "metadata": {},
     "output_type": "display_data"
    },
    {
     "data": {
      "text/plain": [
       "<Figure size 640x480 with 0 Axes>"
      ]
     },
     "metadata": {},
     "output_type": "display_data"
    }
   ],
   "source": [
    "plot_random_spiketrains(num_neurons = 10, train_length=250)"
   ]
  },
  {
   "cell_type": "code",
   "execution_count": null,
   "id": "f04c9c65",
   "metadata": {},
   "outputs": [],
   "source": []
  }
 ],
 "metadata": {
  "kernelspec": {
   "display_name": "ephys_env",
   "language": "python",
   "name": "python3"
  },
  "language_info": {
   "codemirror_mode": {
    "name": "ipython",
    "version": 3
   },
   "file_extension": ".py",
   "mimetype": "text/x-python",
   "name": "python",
   "nbconvert_exporter": "python",
   "pygments_lexer": "ipython3",
   "version": "3.10.9"
  }
 },
 "nbformat": 4,
 "nbformat_minor": 5
}
