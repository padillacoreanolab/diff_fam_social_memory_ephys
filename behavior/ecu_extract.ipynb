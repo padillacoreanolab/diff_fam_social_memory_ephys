{
 "cells": [
  {
   "cell_type": "code",
   "execution_count": 1,
   "id": "2fadd924",
   "metadata": {},
   "outputs": [
    {
     "name": "stderr",
     "output_type": "stream",
     "text": [
      "c:\\Users\\megha\\anaconda3\\envs\\ephys_env\\lib\\site-packages\\pandas\\core\\computation\\expressions.py:21: UserWarning: Pandas requires version '2.8.4' or newer of 'numexpr' (version '2.7.3' currently installed).\n",
      "  from pandas.core.computation.check import NUMEXPR_INSTALLED\n",
      "c:\\Users\\megha\\anaconda3\\envs\\ephys_env\\lib\\site-packages\\tqdm\\auto.py:21: TqdmWarning: IProgress not found. Please update jupyter and ipywidgets. See https://ipywidgets.readthedocs.io/en/stable/user_install.html\n",
      "  from .autonotebook import tqdm as notebook_tqdm\n"
     ]
    }
   ],
   "source": [
    "import pandas as pd\n",
    "import numpy as np\n",
    "import spikeinterface.extractors as se\n",
    "import spikeinterface.preprocessing as sp\n",
    "import lfp.trodes.read_exported as tr\n",
    "import behavior.ecu_extract as ecu\n",
    "\n",
    "import os\n"
   ]
  },
  {
   "cell_type": "code",
   "execution_count": null,
   "id": "308bcc65",
   "metadata": {},
   "outputs": [],
   "source": [
    "data_path = r\"C:\\Users\\megha\\UFL Dropbox\\Meghan Cum\\Padilla-Coreano Lab\\2025\\Cooperation\\Ephys_experiment_1\\Recordings\\Data\\Stage4_D1\"\n",
    "\n",
    "box_to_ecu_dict = {\n",
    "            1: {'dio_ECU_Din1': 'selfish light',\n",
    "                'dio_ECU_Din2': 'coop light',\n",
    "                'dio_ECU_Din6': 'selfish nose poke',\n",
    "                'dio_ECU_Din10': 'coop nose poke',\n",
    "                'dio_ECU_Din8': 'subject port entry',\n",
    "                'dio_ECU_Din16': 'recipient port entry'},   \n",
    "            2: {'dio_ECU_Din3': 'selfish light',\n",
    "                'dio_ECU_Din4': 'coop light',\n",
    "                'dio_ECU_Din22': 'selfish nose poke',\n",
    "                'dio_ECU_Din26': 'coop nose poke',\n",
    "                'dio_ECU_Din24': 'subject port entry',\n",
    "                'dio_ECU_Din32': 'recipient port entry'}}\n",
    "\n",
    "rec_to_box_dict = {'20250508_100203_Stage4_D1_1-2_merged.rec': 1,\n",
    "                   '20250508_100203_Stage4_D1_1-3_merged.rec': 2,\n",
    "                   '20250508_100203_Stage4_D1_2-1_merged.rec' : 1,\n",
    "                   '20250508_100203_Stage4_D1_2-4_merged.rec' : 2,\n",
    "                   '20250508_112121_Stage4_D1_6-1_merged.rec': 1,\n",
    "                   '20250508_112121_Stage4_D1_6-3_merged.rec': 2,\n",
    "                   '20250509_131426_Stage4_D1_4-1_merged.rec': 1,\n",
    "                   '20250509_131426_Stage4_D1_4-2_merged.rec': 2,\n",
    "                   '20250509_131426_Stage4_D1_4-3_merged.rec' :1,\n",
    "                   '20250509_131426_Stage4_D1_4-4_merged.rec': 2}\n",
    "\n",
    "event_dict = ecu.merged_rec_to_box(box_to_ecu_dict=box_to_ecu_dict_dict, rec_to_box_dict=rec_to_box_dict, data_path=data_path)"
   ]
  },
  {
   "cell_type": "code",
   "execution_count": 8,
   "id": "4010a88b",
   "metadata": {},
   "outputs": [],
   "source": [
    "ecu_dict = {\n",
    "            '20250507_103358_alternates_D1_6_3_merged.rec': {'dio_ECU_Din1': 'selfish light',\n",
    "                                                         'dio_ECU_Din2': 'coop light',\n",
    "                                                         'dio_ECU_Din6': 'selfish nose poke',\n",
    "                                                         'dio_ECU_Din10': 'coop nose poke',\n",
    "                                                         'dio_ECU_Din8': 'subject port entry',\n",
    "                                                         'dio_ECU_Din16': 'recipient port entry'},   \n",
    "            '20250507_103358_alternates_D1_6-1_merged.rec': {'dio_ECU_Din3': 'selfish light',\n",
    "                                                         'dio_ECU_Din4': 'coop light',\n",
    "                                                         'dio_ECU_Din22': 'selfish nose poke',\n",
    "                                                         'dio_ECU_Din26': 'coop nose poke',\n",
    "                                                         'dio_ECU_Din24': 'subject port entry',\n",
    "                                                         'dio_ECU_Din32': 'recipient port entry'}   \n",
    "            \n",
    "            \n",
    "            }\n",
    "rec_path = r\"C:\\Users\\megha\\UFL Dropbox\\Meghan Cum\\Padilla-Coreano Lab\\2025\\Cooperation\\Ephys_experiment_1\\Recordings\\Data\\Stage3_D1\\20250507_103358_alternates_D1_6-1_and_6_3.rec\"\n",
    "           \n",
    "\n"
   ]
  },
  {
   "cell_type": "code",
   "execution_count": 74,
   "id": "cef557c3",
   "metadata": {},
   "outputs": [
    {
     "data": {
      "text/plain": [
       "array([[50100728, 50142574]], dtype=uint32)"
      ]
     },
     "execution_count": 74,
     "metadata": {},
     "output_type": "execute_result"
    }
   ],
   "source": [
    "\n",
    "event_dict['20250508_112121_Stage4_D1_6-1_merged.rec']['recipient port entry']"
   ]
  },
  {
   "cell_type": "code",
   "execution_count": 41,
   "id": "9ec7dcba",
   "metadata": {},
   "outputs": [],
   "source": [
    "single_box_dict = event_dict['20250508_100203_Stage4_D1_1-2_vs_1-3_and_2-4_vs_2-1.rec'][1]"
   ]
  },
  {
   "cell_type": "code",
   "execution_count": null,
   "id": "ac30008c",
   "metadata": {},
   "outputs": [],
   "source": []
  }
 ],
 "metadata": {
  "kernelspec": {
   "display_name": "ephys_env",
   "language": "python",
   "name": "python3"
  },
  "language_info": {
   "codemirror_mode": {
    "name": "ipython",
    "version": 3
   },
   "file_extension": ".py",
   "mimetype": "text/x-python",
   "name": "python",
   "nbconvert_exporter": "python",
   "pygments_lexer": "ipython3",
   "version": "3.10.9"
  }
 },
 "nbformat": 4,
 "nbformat_minor": 5
}
