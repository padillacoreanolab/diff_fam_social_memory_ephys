{
 "cells": [
  {
   "cell_type": "code",
   "execution_count": 3,
   "metadata": {},
   "outputs": [
    {
     "name": "stderr",
     "output_type": "stream",
     "text": [
      "c:\\Users\\megha\\anaconda3\\envs\\ephys_analysis\\lib\\site-packages\\pandas\\core\\arrays\\masked.py:60: UserWarning: Pandas requires version '1.3.6' or newer of 'bottleneck' (version '1.3.5' currently installed).\n",
      "  from pandas.core import (\n"
     ]
    }
   ],
   "source": [
    "import pickle\n",
    "import boris_extraction as boris\n",
    "import multirecording_spikeanalysis as spike\n",
    "import pandas as pd\n",
    "import numpy as np\n",
    "import matplotlib.pyplot as plt\n",
    "import math\n",
    "from scipy.stats import sem\n",
    "from itertools import combinations\n",
    "def hex_2_rgb(hex_color): # Orange color\n",
    "    rgb_color = tuple(int(hex_color[i:i+2], 16) / 255.0 for i in (1, 3, 5))\n",
    "    return rgb_color\n",
    "\n",
    "def pickle_this(thing_to_pickle, file_name):\n",
    "    \"\"\"\n",
    "    Pickles things\n",
    "    Args (2):   \n",
    "        thing_to_pickle: anything you want to pickle\n",
    "        file_name: str, filename that ends with .pkl \n",
    "    Returns:\n",
    "        none\n",
    "    \"\"\"\n",
    "    with open(file_name,'wb') as file:\n",
    "        pickle.dump(thing_to_pickle, file)\n",
    "\n",
    "def unpickle_this(pickle_file):\n",
    "    \"\"\"\n",
    "    Unpickles things\n",
    "    Args (1):   \n",
    "        file_name: str, pickle filename that already exists and ends with .pkl\n",
    "    Returns:\n",
    "        pickled item\n",
    "    \"\"\"\n",
    "    with open(pickle_file, 'rb') as file:\n",
    "        return(pickle.load(file))"
   ]
  },
  {
   "cell_type": "code",
   "execution_count": 4,
   "metadata": {},
   "outputs": [],
   "source": [
    "behavior_dicts = unpickle_this('behavior_dicts.pkl')\n"
   ]
  },
  {
   "cell_type": "code",
   "execution_count": 5,
   "metadata": {},
   "outputs": [
    {
     "name": "stdout",
     "output_type": "stream",
     "text": [
      "0\n",
      "1257\n"
     ]
    }
   ],
   "source": [
    "event_info = {}\n",
    "sniff_itis = []\n",
    "j = 0\n",
    "total_sniffs = 0\n",
    "for behavior_dict in behavior_dicts:\n",
    "    event_dict_keys = behavior_dict.keys()\n",
    "    for event, events in behavior_dict.items():\n",
    "        no_events = events.shape[0]\n",
    "        sniff_length = 0\n",
    "        for i in range(len(events)):\n",
    "            sniff_length_temp = events[i][1] - events[i][0]\n",
    "            sniff_length = sniff_length + sniff_length_temp\n",
    "            total_sniffs = total_sniffs + 1\n",
    "            try:\n",
    "                sniff_iti = events[i+1][0] - events[i][1]\n",
    "                sniff_itis.append(sniff_iti)\n",
    "            except IndexError:\n",
    "                pass\n",
    "        total_sniff_time = sniff_length/1000\n",
    "        try:\n",
    "            avg_event = sniff_length/no_events/1000\n",
    "        except ZeroDivisionError:\n",
    "            avg_event = 0\n",
    "        if j in event_info.keys():\n",
    "            dict_event = event_info[j]\n",
    "            dict_event[event] =  {'no_events': no_events, 'avg event': avg_event, 'total time': total_sniff_time}\n",
    "            event_info[j] =  dict_event\n",
    "        else:\n",
    "            event_info[j] = {event: {'no_events': no_events, 'avg event': avg_event,'total time': total_sniff_time }}\n",
    "    j += 1\n",
    "sniff_itis = np.array(sniff_itis)/1000\n",
    "sniff_itis \n",
    "overlapping_sniffs = 0 \n",
    "for i in range(len(sniff_itis)):\n",
    "    if sniff_itis[i] < 1:\n",
    "        overlapping_sniffs = overlapping_sniffs + 1\n",
    "print(overlapping_sniffs) # was 54 with old thresholding for less than 2, 142 for 5\n",
    "print(total_sniffs) # out of 524, after fixing 83 for 5 \n",
    "# out of 465"
   ]
  },
  {
   "cell_type": "code",
   "execution_count": 6,
   "metadata": {},
   "outputs": [
    {
     "name": "stdout",
     "output_type": "stream",
     "text": [
      "8\n"
     ]
    }
   ],
   "source": [
    "ephy_beh_dict = [item for i, item in enumerate(behavior_dicts) if i != 2]\n",
    "\n",
    "print(len(ephy_beh_dict))"
   ]
  },
  {
   "cell_type": "code",
   "execution_count": 7,
   "metadata": {},
   "outputs": [
    {
     "name": "stdout",
     "output_type": "stream",
     "text": [
      "0\n",
      "1089\n"
     ]
    }
   ],
   "source": [
    "event_info = {}\n",
    "sniff_itis = []\n",
    "j = 0\n",
    "total_sniffs = 0\n",
    "for behavior_dict in ephy_beh_dict:\n",
    "    event_dict_keys = behavior_dict.keys()\n",
    "    for event, events in behavior_dict.items():\n",
    "        no_events = events.shape[0]\n",
    "        sniff_length = 0\n",
    "        for i in range(len(events)):\n",
    "            sniff_length_temp = events[i][1] - events[i][0]\n",
    "            sniff_length = sniff_length + sniff_length_temp\n",
    "            total_sniffs = total_sniffs + 1\n",
    "            try:\n",
    "                sniff_iti = events[i+1][0] - events[i][1]\n",
    "                sniff_itis.append(sniff_iti)\n",
    "            except IndexError:\n",
    "                pass\n",
    "        total_sniff_time = sniff_length/1000\n",
    "        try:\n",
    "            avg_event = sniff_length/no_events/1000\n",
    "        except ZeroDivisionError:\n",
    "            avg_event = 0\n",
    "        if j in event_info.keys():\n",
    "            dict_event = event_info[j]\n",
    "            dict_event[event] =  {'no_events': no_events, 'avg event': avg_event, 'total time': total_sniff_time}\n",
    "            event_info[j] =  dict_event\n",
    "        else:\n",
    "            event_info[j] = {event: {'no_events': no_events, 'avg event': avg_event,'total time': total_sniff_time }}\n",
    "    j += 1\n",
    "sniff_itis = np.array(sniff_itis)/1000\n",
    "sniff_itis \n",
    "overlapping_sniffs = 0 \n",
    "for i in range(len(sniff_itis)):\n",
    "    if sniff_itis[i] < 1:\n",
    "        overlapping_sniffs = overlapping_sniffs + 1\n",
    "print(overlapping_sniffs) # was 54 with old thresholding for less than 2, 142 for 5\n",
    "print(total_sniffs) # out of 524, after fixing 83 for 5 \n",
    "# out of 465"
   ]
  },
  {
   "cell_type": "code",
   "execution_count": 8,
   "metadata": {},
   "outputs": [
    {
     "data": {
      "text/html": [
       "<div>\n",
       "<style scoped>\n",
       "    .dataframe tbody tr th:only-of-type {\n",
       "        vertical-align: middle;\n",
       "    }\n",
       "\n",
       "    .dataframe tbody tr th {\n",
       "        vertical-align: top;\n",
       "    }\n",
       "\n",
       "    .dataframe thead th {\n",
       "        text-align: right;\n",
       "    }\n",
       "</style>\n",
       "<table border=\"1\" class=\"dataframe\">\n",
       "  <thead>\n",
       "    <tr style=\"text-align: right;\">\n",
       "      <th></th>\n",
       "      <th>level_0</th>\n",
       "      <th>cup 1</th>\n",
       "      <th>cup 2</th>\n",
       "      <th>cup 3</th>\n",
       "      <th>cup 4</th>\n",
       "      <th>acquisition</th>\n",
       "      <th>cagemate</th>\n",
       "      <th>empty</th>\n",
       "      <th>novel</th>\n",
       "      <th>familiar</th>\n",
       "      <th>baseline</th>\n",
       "    </tr>\n",
       "    <tr>\n",
       "      <th>level_1</th>\n",
       "      <th></th>\n",
       "      <th></th>\n",
       "      <th></th>\n",
       "      <th></th>\n",
       "      <th></th>\n",
       "      <th></th>\n",
       "      <th></th>\n",
       "      <th></th>\n",
       "      <th></th>\n",
       "      <th></th>\n",
       "      <th></th>\n",
       "    </tr>\n",
       "  </thead>\n",
       "  <tbody>\n",
       "    <tr>\n",
       "      <th>avg event</th>\n",
       "      <td>3.5</td>\n",
       "      <td>3.754869</td>\n",
       "      <td>3.276511</td>\n",
       "      <td>4.793015</td>\n",
       "      <td>3.994991</td>\n",
       "      <td>6.922535</td>\n",
       "      <td>7.068518</td>\n",
       "      <td>3.201454</td>\n",
       "      <td>4.911707</td>\n",
       "      <td>4.108741</td>\n",
       "      <td>4.00587</td>\n",
       "    </tr>\n",
       "    <tr>\n",
       "      <th>no_events</th>\n",
       "      <td>3.5</td>\n",
       "      <td>12.125000</td>\n",
       "      <td>8.375000</td>\n",
       "      <td>9.625000</td>\n",
       "      <td>12.375000</td>\n",
       "      <td>13.750000</td>\n",
       "      <td>15.750000</td>\n",
       "      <td>6.000000</td>\n",
       "      <td>11.375000</td>\n",
       "      <td>8.250000</td>\n",
       "      <td>38.50000</td>\n",
       "    </tr>\n",
       "    <tr>\n",
       "      <th>total time</th>\n",
       "      <td>3.5</td>\n",
       "      <td>59.144250</td>\n",
       "      <td>53.091500</td>\n",
       "      <td>60.198000</td>\n",
       "      <td>58.625750</td>\n",
       "      <td>90.488375</td>\n",
       "      <td>109.934375</td>\n",
       "      <td>19.864000</td>\n",
       "      <td>46.722375</td>\n",
       "      <td>37.693625</td>\n",
       "      <td>155.93675</td>\n",
       "    </tr>\n",
       "  </tbody>\n",
       "</table>\n",
       "</div>"
      ],
      "text/plain": [
       "            level_0      cup 1      cup 2      cup 3      cup 4  acquisition  \\\n",
       "level_1                                                                        \n",
       "avg event       3.5   3.754869   3.276511   4.793015   3.994991     6.922535   \n",
       "no_events       3.5  12.125000   8.375000   9.625000  12.375000    13.750000   \n",
       "total time      3.5  59.144250  53.091500  60.198000  58.625750    90.488375   \n",
       "\n",
       "              cagemate      empty      novel   familiar   baseline  \n",
       "level_1                                                             \n",
       "avg event     7.068518   3.201454   4.911707   4.108741    4.00587  \n",
       "no_events    15.750000   6.000000  11.375000   8.250000   38.50000  \n",
       "total time  109.934375  19.864000  46.722375  37.693625  155.93675  "
      ]
     },
     "execution_count": 8,
     "metadata": {},
     "output_type": "execute_result"
    }
   ],
   "source": [
    "event_overview = pd.concat({k: pd.DataFrame(v) for k, v in event_info.items()}, axis=0)\n",
    "event_overview = event_overview.reset_index()\n",
    "event_dict_keys\n",
    "event_overview_averages = event_overview.groupby('level_1').mean()\n",
    "event_overview_averages"
   ]
  },
  {
   "cell_type": "code",
   "execution_count": 9,
   "metadata": {},
   "outputs": [
    {
     "data": {
      "text/plain": [
       "level_1\n",
       "avg event      5.362989\n",
       "no_events     11.791667\n",
       "total time    64.783458\n",
       "dtype: float64"
      ]
     },
     "execution_count": 9,
     "metadata": {},
     "output_type": "execute_result"
    }
   ],
   "source": [
    "event_overview_averages = event_overview_averages[['cagemate', 'novel', 'familiar']]\n",
    "event_overview_averages.mean(axis = 1)"
   ]
  },
  {
   "cell_type": "code",
   "execution_count": 10,
   "metadata": {},
   "outputs": [
    {
     "data": {
      "text/plain": [
       "{'cup 1': 59.14425000000003,\n",
       " 'cup 2': 53.091499999999996,\n",
       " 'cup 3': 60.19800000000014,\n",
       " 'cup 4': 58.62575}"
      ]
     },
     "execution_count": 10,
     "metadata": {},
     "output_type": "execute_result"
    }
   ],
   "source": [
    "event_total_time = event_overview[event_overview['level_1'] == 'total time']\n",
    "event_cup_time_averages = {}\n",
    "for event in event_dict_keys:\n",
    "    if 'cup' in event:\n",
    "        avg_event = event_total_time[event].mean()\n",
    "        event_cup_time_averages[event] = avg_event\n",
    "event_cup_time_averages"
   ]
  },
  {
   "cell_type": "code",
   "execution_count": 11,
   "metadata": {},
   "outputs": [
    {
     "data": {
      "text/plain": [
       "{'acquisition': 90.48837499999999,\n",
       " 'cagemate': 109.93437500000017,\n",
       " 'empty': 19.864000000000086,\n",
       " 'novel': 46.72237499999997,\n",
       " 'familiar': 37.69362499999994,\n",
       " 'baseline': 155.93675000000002}"
      ]
     },
     "execution_count": 11,
     "metadata": {},
     "output_type": "execute_result"
    }
   ],
   "source": [
    "event_total_time = event_overview[event_overview['level_1'] == 'total time']\n",
    "event_agent_time_averages = {}\n",
    "avg_events = []\n",
    "sem_events = []\n",
    "for event in event_dict_keys:\n",
    "    if 'cup' not in event:\n",
    "        avg_event = event_total_time[event].mean()\n",
    "        sem_event = sem(event_total_time[event])\n",
    "        event_agent_time_averages[event] = avg_event\n",
    "        avg_events.append(avg_event)\n",
    "        sem_events.append(sem_event)\n",
    "avg_events = np.array(avg_events)\n",
    "sem_events = np.array(sem_events)\n",
    "event_agent_time_averages"
   ]
  },
  {
   "cell_type": "code",
   "execution_count": 12,
   "metadata": {},
   "outputs": [],
   "source": [
    "avg_events = avg_events[np.array([3,4,1])]\n",
    "\n",
    "sem_events = sem_events[np.array([3,4,1])]"
   ]
  },
  {
   "cell_type": "code",
   "execution_count": 20,
   "metadata": {},
   "outputs": [
    {
     "data": {
      "image/png": "[encoded data removed]",
      "text/plain": [
       "<Figure size 300x300 with 1 Axes>"
      ]
     },
     "metadata": {},
     "output_type": "display_data"
    }
   ],
   "source": [
    "plt.rcParams['font.weight'] = 'bold'  # Set font weight to bold (not bold)\n",
    "plt.rcParams['axes.titleweight'] = 'bold'  # Set axis title font weight to bold\n",
    "plt.rcParams['axes.labelweight'] = 'bold'  # Set axis label font weight to bold\n",
    "\n",
    "color_id_dict = {'novel': hex_2_rgb('#15616F'),  \n",
    "                'short-term familiar\\n(exposure 2)': (1.0, 0.6862745098039216, 0.0),\n",
    "                'long-term familiar': hex_2_rgb('#792910')\n",
    "                }\n",
    "hatches = ['','','']  \n",
    "plt.figure(figsize= (3,3))           \n",
    "plt.bar(color_id_dict.keys(), avg_events, yerr = sem_events,\n",
    "            color = color_id_dict.values(), hatch = hatches,\n",
    "            edgecolor = ['black', 'black', 'black'], linewidth = 2,\n",
    "            capsize = 5, error_kw={'elinewidth': 2, 'capthick': 2})\n",
    "plt.xticks([],rotation=45)\n",
    "plt.ylabel('Total duration (s)', fontsize = 18)\n",
    "plt.gca().spines['top'].set_visible(False)\n",
    "plt.gca().spines['right'].set_visible(False)\n",
    "plt.xticks(fontsize=14)\n",
    "plt.yticks(fontsize=14)\n",
    "hatches = ['//','','','', '']\n",
    "plt.gca().spines['bottom'].set_linewidth(2)  # X-axis\n",
    "plt.gca().spines['left'].set_linewidth(2) \n",
    "plt.title('Constrained', fontsize = 20, pad = 20)\n",
    "plt.savefig('phase3_behavior.png', format='png', dpi=600, transparent = True, bbox_inches='tight')"
   ]
  },
  {
   "cell_type": "code",
   "execution_count": null,
   "metadata": {},
   "outputs": [
    {
     "data": {
      "text/plain": [
       "{('familiar', 'cagemate'): [-4.218658404598381, 0.003943159233508464],\n",
       " ('familiar', 'novel'): [-1.1697445302390637, 0.2803859123509654],\n",
       " ('cagemate', 'novel'): [3.2341555193563387, 0.014368822748599342]}"
      ]
     },
     "execution_count": 44,
     "metadata": {},
     "output_type": "execute_result"
    }
   ],
   "source": [
    "from scipy.stats import ttest_rel\n",
    "from scipy.stats import ttest_ind\n",
    "from statsmodels.stats.multitest import multipletests\n",
    "event_total_time= event_total_time[['familiar', 'cagemate', 'novel']]\n",
    "results = {}\n",
    "p_values = pd.DataFrame(index=event_total_time.columns, columns=event_total_time.columns)\n",
    "p_value_list = []\n",
    "for pair in combinations(event_total_time.columns, 2):\n",
    "    t_stat, p_value = ttest_rel(event_total_time[pair[0]],event_total_time[pair[1]])\n",
    "    results[pair] = [t_stat, p_value]\n",
    "    p_value_list.append(p_value)\n",
    "            \n",
    "results\n"
   ]
  },
  {
   "cell_type": "code",
   "execution_count": null,
   "metadata": {},
   "outputs": [
    {
     "data": {
      "text/plain": [
       "(array([ True, False,  True]),\n",
       " array([0.01182948, 0.28038591, 0.02873765]),\n",
       " 0.016952427508441503,\n",
       " 0.016666666666666666)"
      ]
     },
     "execution_count": 45,
     "metadata": {},
     "output_type": "execute_result"
    }
   ],
   "source": [
    "adjusted_p_values = multipletests(p_value_list, method='holm')\n",
    "adjusted_p_values"
   ]
  },
  {
   "cell_type": "code",
   "execution_count": null,
   "metadata": {},
   "outputs": [],
   "source": []
  }
 ],
 "metadata": {
  "kernelspec": {
   "display_name": "ephys_analysis",
   "language": "python",
   "name": "python3"
  },
  "language_info": {
   "codemirror_mode": {
    "name": "ipython",
    "version": 3
   },
   "file_extension": ".py",
   "mimetype": "text/x-python",
   "name": "python",
   "nbconvert_exporter": "python",
   "pygments_lexer": "ipython3",
   "version": "3.10.9"
  }
 },
 "nbformat": 4,
 "nbformat_minor": 2
}
