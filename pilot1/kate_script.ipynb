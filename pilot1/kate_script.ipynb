{
 "cells": [
  {
   "cell_type": "code",
   "execution_count": 285,
   "metadata": {},
   "outputs": [],
   "source": [
    "import pickle\n",
    "import multirecording_spikeanalysis as spike\n",
    "import pandas as pd\n",
    "import numpy as np\n",
    "import matplotlib.pyplot as plt\n",
    "from scipy import stats\n",
    "import seaborn as sns\n",
    "from sklearn import datasets\n",
    "from sklearn.linear_model import LinearRegression\n",
    "from sklearn.metrics import mean_squared_error, r2_score\n",
    "import matplotlib.pyplot as plt\n",
    "\n",
    "from sklearn.linear_model import LogisticRegression\n",
    "from sklearn.model_selection import cross_val_score\n",
    "\n"
   ]
  },
  {
   "cell_type": "code",
   "execution_count": 263,
   "metadata": {},
   "outputs": [],
   "source": [
    "def pickle_this(thing_to_pickle, file_name):\n",
    "    with open(file_name,'wb') as file:\n",
    "        pickle.dump(thing_to_pickle, file)\n",
    "\n",
    "def unpickle_this(pickle_file):\n",
    "    with open(pickle_file, 'rb') as file:\n",
    "        return pickle.load(file)"
   ]
  },
  {
   "cell_type": "markdown",
   "metadata": {},
   "source": [
    "# Ephys Recording Object: Phase 2 (Freely moving)"
   ]
  },
  {
   "cell_type": "markdown",
   "metadata": {},
   "source": [
    "Each recording is an ephysrecording instance; the documentation is as follows: \n",
    "\n",
    "A class for an ephys recording after being spike sorted and manually\n",
    "curated using phy. Ephys recording must have a phy folder.\n",
    "\n",
    "\n",
    "    Attributes:\n",
    "        path: str, relative path to the phy folder\n",
    "            formatted as: './folder/folder/phy'\n",
    "        subject: str, subject id who was being recorded\n",
    "        event_dict: dict, start and stop times for events\n",
    "            keys: str, name of event types\n",
    "            values: np.array, d =(n,2), each 2D array is the start and stop time \n",
    "            in ms for each event, n = number of events of type key\n",
    "        sampling_rate: int, sampling rate of the ephys device\n",
    "            in Hz, standard in the PC lab is 20,000Hz\n",
    "        timestamps_var: numpy array, all spike timestamps\n",
    "            of good and mua units (no noise unit-generated spikes)\n",
    "        unit_array: numpy array, unit ids associated with each\n",
    "            spike in the timestamps_var\n",
    "        labels_dict: dict, keys are unit ids (str) and\n",
    "            values are labels (str)\n",
    "        unit_timestamps: dict, keys are unit ids (int), and\n",
    "            values are numpy arrays of timestamps for all spikes\n",
    "            from \"good\" units only\n",
    "        spiketrain: np.array, spiketrain of number of spikes\n",
    "            in a specified timebin\n",
    "        unit_spiketrains: dict, spiketrains for each unit\n",
    "            keys: str, unit ids\n",
    "            values: np.array, number of spikes per specified timebin\n",
    "        unit_firing_rates: dict, firing rates per unit\n",
    "            keys: str, unit ids\n",
    "            values: np.arrays, firing rate of unit in a specified timebin\n",
    "                    calculated with a specified smoothing window\n",
    "\n",
    "    Methods: (all called in __init__)\n",
    "        get_unit_labels: creates labels_dict\n",
    "        get_spike_specs: creates timestamps_var and unit_array\n",
    "        get_unit_timestamps: creates unit_timestamps dictionary\n"
   ]
  },
  {
   "cell_type": "markdown",
   "metadata": {},
   "source": [
    "All recordings have been put into an instance of the class type ephysrecordingcollection.\n",
    "Big picture is that phase2_collection has an attribute called collection which is a dictionary of \n",
    "recording names: recording objects. "
   ]
  },
  {
   "cell_type": "code",
   "execution_count": 264,
   "metadata": {},
   "outputs": [
    {
     "name": "stdout",
     "output_type": "stream",
     "text": [
      "<class 'str'>\n",
      "<class 'multirecording_spikeanalysis.EphysRecordingCollection'>\n"
     ]
    }
   ],
   "source": [
    "phase2_collection = unpickle_this('phase2_collection.pkl')\n",
    "print(type('phase2_collection.pkl'))\n",
    "print(type(phase2_collection))"
   ]
  },
  {
   "cell_type": "code",
   "execution_count": 265,
   "metadata": {},
   "outputs": [
    {
     "name": "stdout",
     "output_type": "stream",
     "text": [
      "Example recording:\n",
      "20230803_101331_1_merged.rec\n",
      "\n",
      "Event Types:\n",
      "dict_keys(['acquisition', 'recall', 'cagemate', 'novel', 'exposure 1', 'exposure 2', 'exposure 3'])\n",
      "\n",
      "Number of units:\n",
      "52\n",
      "Example recording:\n",
      "20230803_101331_1_merged.rec\n",
      "\n",
      "Number of units:\n",
      "52\n",
      "Example recording:\n",
      "20230803_121318_1_merged.rec\n",
      "\n",
      "Number of units:\n",
      "57\n",
      "Example recording:\n",
      "20230803_141047_1_merged.rec\n",
      "\n",
      "Number of units:\n",
      "62\n",
      "Example recording:\n",
      "20230804_121600_1_merged.rec\n",
      "\n",
      "Number of units:\n",
      "74\n",
      "Example recording:\n",
      "20230804_141009_1_merged.rec\n",
      "\n",
      "Number of units:\n",
      "62\n",
      "Example recording:\n",
      "20230817_100823_1_merged.rec\n",
      "\n",
      "Number of units:\n",
      "53\n",
      "Example recording:\n",
      "20230817_113746_1_merged.rec\n",
      "\n",
      "Number of units:\n",
      "61\n",
      "Example recording:\n",
      "20230818_115728_1_merged.rec\n",
      "\n",
      "Number of units:\n",
      "46\n",
      "Example recording:\n",
      "20230818_133620_1_merged.rec\n",
      "\n",
      "Number of units:\n",
      "76\n"
     ]
    }
   ],
   "source": [
    "is_first = True\n",
    "for recording_name, recording in phase2_collection.collection.items():\n",
    "    if is_first:\n",
    "        print('Example recording:')\n",
    "        print(recording_name)\n",
    "        print(\"\")\n",
    "        print('Event Types:')\n",
    "        print(recording.event_dict.keys())\n",
    "        print(\"\")\n",
    "        print('Number of units:')\n",
    "        print(len(recording.unit_timestamps.keys()))\n",
    "        is_first = False\n",
    "\n",
    "for recording_name, recording in phase2_collection.collection.items():\n",
    "    print('Example recording:')\n",
    "    print(recording_name)\n",
    "    print(\"\")\n",
    "    print('Number of units:')\n",
    "    print(len(recording.unit_timestamps.keys()))\n",
    "     "
   ]
  },
  {
   "cell_type": "markdown",
   "metadata": {},
   "source": [
    "# Spike Analysis Object"
   ]
  },
  {
   "cell_type": "markdown",
   "metadata": {},
   "source": [
    "Here is another class I made for spike analysis specifically. \n",
    "\n",
    "Parameters that you should feel free to play with are smoothin_window and timebin (both in ms).\n",
    "\n",
    "    Timebin:\n",
    "        window for each element in all the arrays (spiketrains, firing rates, etc.).\n",
    "    Smoothing window:\n",
    "        the rolling average window size to be used when calculating firing rates. \n",
    "\n",
    "**Timebin: This parameter defines the size of the window for each element in the arrays, such as spike trains or firing rates. It determines the resolution at which you analyze your data. A smaller timebin leads to finer resolution but may increase computational complexity.**\n",
    "\n",
    "**Smoothing window: This parameter sets the size of the rolling average window used for smoothing when calculating firing rates. Smoothing helps reduce noise in the data and provides a clearer representation of underlying patterns. A larger smoothing window results in smoother firing rate curves but may reduce the ability to capture rapid changes in activity.**"
   ]
  },
  {
   "cell_type": "code",
   "execution_count": 266,
   "metadata": {},
   "outputs": [
    {
     "name": "stdout",
     "output_type": "stream",
     "text": [
      "All set to analyze\n",
      "Example recording:\n",
      "20230803_101331_1_merged.rec\n",
      "\n",
      "Number of units:\n",
      "18\n",
      "Example recording:\n",
      "20230803_121318_1_merged.rec\n",
      "\n",
      "Number of units:\n",
      "19\n",
      "Example recording:\n",
      "20230803_141047_1_merged.rec\n",
      "\n",
      "Number of units:\n",
      "32\n",
      "Example recording:\n",
      "20230804_121600_1_merged.rec\n",
      "\n",
      "Number of units:\n",
      "28\n",
      "Example recording:\n",
      "20230804_141009_1_merged.rec\n",
      "\n",
      "Number of units:\n",
      "28\n",
      "Example recording:\n",
      "20230817_100823_1_merged.rec\n",
      "\n",
      "Number of units:\n",
      "21\n",
      "Example recording:\n",
      "20230817_113746_1_merged.rec\n",
      "\n",
      "Number of units:\n",
      "22\n",
      "Example recording:\n",
      "20230818_115728_1_merged.rec\n",
      "\n",
      "Number of units:\n",
      "17\n",
      "Example recording:\n",
      "20230818_133620_1_merged.rec\n",
      "\n",
      "Number of units:\n",
      "30\n"
     ]
    }
   ],
   "source": [
    "# Create an instance of SpikeAnalysis_MultiRecording class\n",
    "# Parameters:\n",
    "#   phase2_collection: SpikeDataCollection object containing spike data\n",
    "#   smoothing_window: Rolling average window size for smoothing firing rates (default: 250)\n",
    "#   timebin: Window size for each element in spike trains and firing rate arrays (default: 50)\n",
    "#   ignore_freq: Frequency below which units are ignored (default: 0.5)\n",
    "\n",
    "phase2_analysis = spike.SpikeAnalysis_MultiRecording(\n",
    "    phase2_collection,\n",
    "    smoothing_window = 250,\n",
    "    timebin = 50,\n",
    "    ignore_freq = 0.5)\n",
    "\n",
    "for recording_name, recording in phase2_collection.collection.items():\n",
    "    print('Example recording:')\n",
    "    print(recording_name)\n",
    "    print(\"\")\n",
    "    print('Number of units:')\n",
    "    print(len(recording.unit_spiketrains.keys()))\n"
   ]
  },
  {
   "cell_type": "code",
   "execution_count": 267,
   "metadata": {},
   "outputs": [
    {
     "name": "stdout",
     "output_type": "stream",
     "text": [
      "{'acquisition': array([[ 27800.,  39500.],\n",
      "       [ 41600.,  47367.],\n",
      "       [ 59733.,  61033.],\n",
      "       [ 96267.,  97667.],\n",
      "       [126867., 129100.],\n",
      "       [135500., 136200.],\n",
      "       [237333., 238067.],\n",
      "       [361367., 362400.],\n",
      "       [367467., 370033.],\n",
      "       [439400., 440300.],\n",
      "       [443767., 444300.],\n",
      "       [577867., 578667.],\n",
      "       [595433., 598433.]]), 'recall': array([[1510367., 1517767.],\n",
      "       [1520133., 1521400.],\n",
      "       [1531400., 1538900.],\n",
      "       [1542833., 1546467.],\n",
      "       [1549000., 1549767.],\n",
      "       [1577700., 1579100.],\n",
      "       [1599200., 1599867.],\n",
      "       [1676033., 1676967.],\n",
      "       [1679467., 1682767.],\n",
      "       [1766133., 1766900.]]), 'cagemate': array([[1202233., 1203467.],\n",
      "       [1207200., 1217200.],\n",
      "       [1223233., 1226167.],\n",
      "       [1244033., 1245700.],\n",
      "       [1282467., 1283000.],\n",
      "       [1303200., 1303700.],\n",
      "       [1330333., 1331167.],\n",
      "       [1334633., 1337600.],\n",
      "       [1348800., 1349800.],\n",
      "       [1438367., 1438867.],\n",
      "       [1442600., 1444833.]]), 'novel': array([[1807033., 1808833.],\n",
      "       [1833033., 1833667.],\n",
      "       [1860933., 1861533.],\n",
      "       [1866333., 1869033.],\n",
      "       [1971667., 1972167.],\n",
      "       [1985700., 1986200.]]), 'exposure 1': array([[1202233., 1203467.],\n",
      "       [1207200., 1217200.],\n",
      "       [1223233., 1226167.],\n",
      "       [1244033., 1245700.],\n",
      "       [1282467., 1283000.],\n",
      "       [1303200., 1303700.],\n",
      "       [1330333., 1331167.],\n",
      "       [1334633., 1337600.],\n",
      "       [1348800., 1349800.],\n",
      "       [1438367., 1438867.],\n",
      "       [1442600., 1444833.]]), 'exposure 2': array([[1510367., 1517767.],\n",
      "       [1520133., 1521400.],\n",
      "       [1531400., 1538900.],\n",
      "       [1542833., 1546467.],\n",
      "       [1549000., 1549767.],\n",
      "       [1577700., 1579100.],\n",
      "       [1599200., 1599867.],\n",
      "       [1676033., 1676967.],\n",
      "       [1679467., 1682767.],\n",
      "       [1766133., 1766900.]]), 'exposure 3': array([[1807033., 1808833.],\n",
      "       [1833033., 1833667.],\n",
      "       [1860933., 1861533.],\n",
      "       [1866333., 1869033.],\n",
      "       [1971667., 1972167.],\n",
      "       [1985700., 1986200.]])}\n"
     ]
    }
   ],
   "source": [
    "print(recording.event_dict)"
   ]
  },
  {
   "cell_type": "markdown",
   "metadata": {},
   "source": [
    "**20230804_121600_1_merged.rec**"
   ]
  },
  {
   "cell_type": "code",
   "execution_count": 268,
   "metadata": {},
   "outputs": [],
   "source": [
    "event_firing_rates = {}\n",
    "#event type\n",
    "event = 'recall'\n",
    "#event length (in seconds)\n",
    "equalize = 3\n",
    "#time prior to event start to be included (in seconds)\n",
    "pre_window = 2\n",
    "\n",
    "\n",
    "#will calculate unit firing rates during specified event type for specified length of time\n",
    "#and save them into a dictionary \n",
    "for recording_name, recording in phase2_collection.collection.items(): \n",
    "        \n",
    "    event_firing_rates[recording_name] = phase2_analysis.__get_unit_event_firing_rates__(\n",
    "            recording,\n",
    "            event,\n",
    "            equalize,\n",
    "            pre_window \n",
    "                    )\n",
    "            # this will create a dictionary\n",
    "            # recording_name : dictionary (units)\n",
    "            # unit dictionary: {unit_id: [[.....]...[.....]}\n",
    "            # unit id = 80 for example\n",
    "            # len of list = number of sniffs \n",
    "            # length of each array equals equalize * 1000 / timebins \n",
    "            # i.e. 100 ms timebin + 5 second long sniff\n",
    "            # convert seconds to ms 5 * 1000 = 5000 ms long sniffs \n",
    "            # 5000 ms sniff / 100 ms timebins = length of each array\n",
    "\n",
    "\n",
    "#give you the list of units for this recording\n",
    "event_firing_rates['20230804_121600_1_merged.rec'].keys()\n",
    "\n",
    "#give you a list of the firi(ng rates\n",
    "recall_firing_rates = np.array(list(event_firing_rates['20230804_121600_1_merged.rec'].values()))\n",
    "avg_recall_firing_rates = np.mean(recall_firing_rates, axis = 2)\n",
    "avg_recall_tbyn = avg_recall_firing_rates.transpose()\n",
    "y_label = [\"recall\"] * 11\n",
    "\n",
    "\n",
    "\n",
    "#this is the number of sniffs you have for this session \n",
    "#len(event_firing_rates['20230804_121600_1_merged.rec'][80])\n",
    "\n",
    "#length of sniff you asked for in timebin sized elements\n",
    "#specifically this is giving the length of the first acquistion sniff\n",
    "# for this recording for unit 80\n",
    "\n",
    "#len(event_firing_rates['20230804_121600_1_merged.rec'][80][0])\n",
    "\n",
    "#zscore_global(self, event, equalize, pre_window = 0, global_timebin = 1000, SD = None, plot = True, save = False)\n",
    "\n",
    "#global_zscore_acq = phase2_analysis.zscore_global(event, equalize, pre_window, SD = 1)\n",
    "\n",
    "\n",
    "#zscore_acq = phase2_analysis.zscore_pre_event(event, equalize, pre_window)\n",
    "\n",
    "#print(zscore_acq)\n"
   ]
  },
  {
   "cell_type": "markdown",
   "metadata": {},
   "source": [
    "**20230804_121600_1_merged.rec**"
   ]
  },
  {
   "cell_type": "code",
   "execution_count": 269,
   "metadata": {},
   "outputs": [],
   "source": [
    "cagemate_firing_rates = {}\n",
    "#event type\n",
    "event = 'cagemate'\n",
    "#event length (in seconds)\n",
    "equalize = 3\n",
    "#time prior to event start to be included (in seconds)\n",
    "pre_window = 2\n",
    "\n",
    "\n",
    "#will calculate unit firing rates during specified event type for specified length of time\n",
    "#and save them into a dictionary \n",
    "for recording_name, recording in phase2_collection.collection.items():     \n",
    "    cagemate_firing_rates[recording_name] = phase2_analysis.__get_unit_event_firing_rates__(\n",
    "            recording,\n",
    "            event,\n",
    "            equalize,\n",
    "            pre_window \n",
    "                    )\n",
    "            # this will create a dictionary\n",
    "            # recording_name : dictionary (units)\n",
    "            # unit dictionary: {unit_id: [[.....]...[.....]}\n",
    "            # unit id = 80 for example\n",
    "            # len of list = number of sniffs \n",
    "            # length of each array equals equalize * 1000 / timebins \n",
    "            # i.e. 100 ms timebin + 5 second long sniff\n",
    "            # convert seconds to ms 5 * 1000 = 5000 ms long sniffs \n",
    "            # 5000 ms sniff / 100 ms timebins = length of each array\n",
    "\n",
    "\n",
    "#give you the list of units for this recording\n",
    "cagemate_firing_rates['20230804_121600_1_merged.rec'].keys()\n",
    "\n",
    "#give you a list of the firing rates\n",
    "cagemate_firing_rates = np.array(list(cagemate_firing_rates['20230804_121600_1_merged.rec'].values()))\n",
    "avg_cagemate_firing_rates = np.mean(cagemate_firing_rates, axis = 2)\n",
    "avg_cagemate_tbyn = avg_cagemate_firing_rates.transpose()\n",
    "cagemate_label = [\"cagemate\"] * 11\n"
   ]
  },
  {
   "cell_type": "code",
   "execution_count": 270,
   "metadata": {},
   "outputs": [
    {
     "name": "stdout",
     "output_type": "stream",
     "text": [
      "(22, 28)\n",
      "['cagemate', 'cagemate', 'cagemate', 'cagemate', 'cagemate', 'cagemate', 'cagemate', 'cagemate', 'cagemate', 'cagemate', 'cagemate', 'recall', 'recall', 'recall', 'recall', 'recall', 'recall', 'recall', 'recall', 'recall', 'recall', 'recall']\n",
      "[12  2 18  9  3  6  0  4 21  1 17 20 10 19  5 15  7 14 13 16  8 11]\n",
      "['recall' 'cagemate' 'recall' 'cagemate' 'cagemate' 'cagemate' 'cagemate'\n",
      " 'cagemate' 'recall' 'cagemate' 'recall' 'recall' 'cagemate' 'recall'\n",
      " 'cagemate' 'recall' 'cagemate' 'recall' 'recall' 'recall' 'cagemate'\n",
      " 'recall']\n"
     ]
    }
   ],
   "source": [
    "cagemate_v_recall = np.concatenate([avg_cagemate_tbyn, avg_recall_tbyn], axis = 0)\n",
    "print(cagemate_v_recall.shape)\n",
    "labels = cagemate_label + y_label\n",
    "print(labels)\n",
    "shuffle = np.random.permutation(len(cagemate_v_recall))\n",
    "print(shuffle)\n",
    "labels = np.array(labels)\n",
    "labels_shuffle = labels[shuffle]\n",
    "cagemate_v_recall_shuffle = cagemate_v_recall[shuffle]\n",
    "print(labels_shuffle)\n",
    "\n",
    "\n",
    "accuracies = cross_val_score(LogisticRegression(penalty=\"l1\", solver=\"liblinear\"), cagemate_v_recall_shuffle, labels_shuffle, cv=5)\n",
    "\n",
    "#accuracies = cross_val_score(LogisticRegression(penalty=\"l1\"), cagemate_v_recall_shuffle, labels_shuffle, cv=5)  # k=8 cross validation"
   ]
  },
  {
   "cell_type": "code",
   "execution_count": 271,
   "metadata": {},
   "outputs": [
    {
     "name": "stdout",
     "output_type": "stream",
     "text": [
      "Input data shape: (22, 28)\n",
      "Labels shape: (22,)\n",
      "Input data type: float64\n",
      "Labels type: <U8\n",
      "Missing values in input data: False\n",
      "Accuracies: [1. 1. 1. 1. 1.]\n",
      "Mean Accuracy: 1.0\n"
     ]
    },
    {
     "data": {
      "image/png": "[encoded data removed]",
      "text/plain": [
       "<Figure size 800x600 with 1 Axes>"
      ]
     },
     "metadata": {},
     "output_type": "display_data"
    }
   ],
   "source": [
    "print(\"Input data shape:\", cagemate_v_recall_shuffle.shape)\n",
    "print(\"Labels shape:\", labels_shuffle.shape)\n",
    "print(\"Input data type:\", cagemate_v_recall_shuffle.dtype)\n",
    "print(\"Labels type:\", labels_shuffle.dtype)\n",
    "print(\"Missing values in input data:\", np.isnan(cagemate_v_recall_shuffle).any())\n",
    "\n",
    "model = LogisticRegression(penalty=\"l1\", solver=\"liblinear\")\n",
    "\n",
    "accuracies = cross_val_score(model, cagemate_v_recall_shuffle, labels_shuffle, cv=5)\n",
    "print(\"Accuracies:\", accuracies)\n",
    "\n",
    "print(\"Mean Accuracy:\", np.mean(accuracies))\n",
    "\n",
    "import matplotlib.pyplot as plt\n",
    "\n",
    "# Accuracy scores\n",
    "accuracies = [0.66666667, 1.  ,       0.5    ,    0.     ,    0.5 ]\n",
    "\n",
    "# Plotting\n",
    "plt.figure(figsize=(8, 6))\n",
    "plt.bar(range(len(accuracies)), accuracies, color='skyblue')\n",
    "plt.xlabel('Fold or Run')\n",
    "plt.ylabel('Accuracy')\n",
    "plt.title('Accuracy Scores')\n",
    "plt.ylim(0, 1)  # Set y-axis limit to 0-1 for accuracy\n",
    "plt.xticks(range(len(accuracies)), [f'Fold {i+1}' for i in range(len(accuracies))])\n",
    "plt.grid(axis='y', linestyle='--', alpha=0.7)\n",
    "plt.show()\n",
    "\n"
   ]
  },
  {
   "cell_type": "markdown",
   "metadata": {},
   "source": [
    "**20230803_101331_1_merged.rec**"
   ]
  },
  {
   "cell_type": "code",
   "execution_count": 272,
   "metadata": {},
   "outputs": [
    {
     "name": "stdout",
     "output_type": "stream",
     "text": [
      "(18, 4, 100)\n"
     ]
    }
   ],
   "source": [
    "event_firing_rates = {}\n",
    "#event type\n",
    "event = 'recall'\n",
    "#event length (in seconds)\n",
    "equalize = 3\n",
    "#time prior to event start to be included (in seconds)\n",
    "pre_window = 2\n",
    "\n",
    "\n",
    "#will calculate unit firing rates during specified event type for specified length of time\n",
    "#and save them into a dictionary \n",
    "for recording_name, recording in phase2_collection.collection.items(): \n",
    "        \n",
    "    event_firing_rates[recording_name] = phase2_analysis.__get_unit_event_firing_rates__(\n",
    "            recording,\n",
    "            event,\n",
    "            equalize,\n",
    "            pre_window \n",
    "                    )\n",
    "            # this will create a dictionary\n",
    "            # recording_name : dictionary (units)\n",
    "            # unit dictionary: {unit_id: [[.....]...[.....]}\n",
    "            # unit id = 80 for example\n",
    "            # len of list = number of sniffs \n",
    "            # length of each array equals equalize * 1000 / timebins \n",
    "            # i.e. 100 ms timebin + 5 second long sniff\n",
    "            # convert seconds to ms 5 * 1000 = 5000 ms long sniffs \n",
    "            # 5000 ms sniff / 100 ms timebins = length of each array\n",
    "\n",
    "\n",
    "#give you the list of units for this recording\n",
    "event_firing_rates['20230803_101331_1_merged.rec'].keys()\n",
    "\n",
    "#give you a list of the firi(ng rates\n",
    "recall_firing_rates = np.array(list(event_firing_rates['20230803_101331_1_merged.rec'].values()))\n",
    "avg_recall_firing_rates = np.mean(recall_firing_rates, axis = 2)\n",
    "avg_recall_tbyn = avg_recall_firing_rates.transpose()\n",
    "y_label = [\"recall\"] * 4\n",
    "print(recall_firing_rates.shape)\n"
   ]
  },
  {
   "cell_type": "code",
   "execution_count": 273,
   "metadata": {},
   "outputs": [
    {
     "name": "stdout",
     "output_type": "stream",
     "text": [
      "(18, 6, 100)\n"
     ]
    }
   ],
   "source": [
    "cagemate_firing_rates = {}\n",
    "#event type\n",
    "event = 'cagemate'\n",
    "#event length (in seconds)\n",
    "equalize = 3\n",
    "#time prior to event start to be included (in seconds)\n",
    "pre_window = 2\n",
    "\n",
    "\n",
    "#will calculate unit firing rates during specified event type for specified length of time\n",
    "#and save them into a dictionary \n",
    "for recording_name, recording in phase2_collection.collection.items():     \n",
    "    cagemate_firing_rates[recording_name] = phase2_analysis.__get_unit_event_firing_rates__(\n",
    "            recording,\n",
    "            event,\n",
    "            equalize,\n",
    "            pre_window \n",
    "                    )\n",
    "            # this will create a dictionary\n",
    "            # recording_name : dictionary (units)\n",
    "            # unit dictionary: {unit_id: [[.....]...[.....]}\n",
    "            # unit id = 80 for example\n",
    "            # len of list = number of sniffs \n",
    "            # length of each array equals equalize * 1000 / timebins \n",
    "            # i.e. 100 ms timebin + 5 second long sniff\n",
    "            # convert seconds to ms 5 * 1000 = 5000 ms long sniffs \n",
    "            # 5000 ms sniff / 100 ms timebins = length of each array\n",
    "\n",
    "\n",
    "#give you the list of units for this recording\n",
    "cagemate_firing_rates['20230803_101331_1_merged.rec'].keys()\n",
    "\n",
    "#give you a list of the firing rates\n",
    "cagemate_firing_rates = np.array(list(cagemate_firing_rates['20230803_101331_1_merged.rec'].values()))\n",
    "avg_cagemate_firing_rates = np.mean(cagemate_firing_rates, axis = 2)\n",
    "avg_cagemate_tbyn = avg_cagemate_firing_rates.transpose()\n",
    "cagemate_label = [\"cagemate\"] * 6\n",
    "print(cagemate_firing_rates.shape)"
   ]
  },
  {
   "cell_type": "code",
   "execution_count": 274,
   "metadata": {},
   "outputs": [
    {
     "name": "stdout",
     "output_type": "stream",
     "text": [
      "(10, 18)\n",
      "['cagemate', 'cagemate', 'cagemate', 'cagemate', 'cagemate', 'cagemate', 'recall', 'recall', 'recall', 'recall']\n",
      "[6 2 9 4 1 0 8 5 7 3]\n",
      "['recall' 'cagemate' 'recall' 'cagemate' 'cagemate' 'cagemate' 'recall'\n",
      " 'cagemate' 'recall' 'cagemate']\n",
      "['cagemate', 'cagemate', 'cagemate', 'cagemate', 'cagemate', 'cagemate']\n",
      "[0.75       0.66666667 1.        ]\n"
     ]
    }
   ],
   "source": [
    "cagemate_v_recall = np.concatenate([avg_cagemate_tbyn, avg_recall_tbyn], axis = 0)\n",
    "print(cagemate_v_recall.shape)\n",
    "labels = cagemate_label + y_label\n",
    "print(labels)\n",
    "shuffle = np.random.permutation(len(cagemate_v_recall))\n",
    "print(shuffle)\n",
    "labels = np.array(labels)\n",
    "labels_shuffle = labels[shuffle]\n",
    "cagemate_v_recall_shuffle = cagemate_v_recall[shuffle]\n",
    "print(labels_shuffle)\n",
    "print(cagemate_label)\n",
    "\n",
    "accuracies = cross_val_score(LogisticRegression(penalty=\"l1\", solver=\"liblinear\"), cagemate_v_recall_shuffle, labels_shuffle, cv=3)\n",
    "print(accuracies)\n",
    "\n",
    "\n",
    "#accuracies = cross_val_score(LogisticRegression(penalty=\"l1\"), cagemate_v_recall_shuffle, labels_shuffle, cv=5)  # k=8 cross validation"
   ]
  },
  {
   "cell_type": "code",
   "execution_count": 259,
   "metadata": {},
   "outputs": [
    {
     "name": "stdout",
     "output_type": "stream",
     "text": [
      "Size of labels array: 10\n",
      "Size of shuffle array: 10\n",
      "Shuffled indices: [6 0 8 5 4 9 3 7 2 1]\n",
      "Length of cagemate_label: 6\n",
      "Length of y_label: 4\n",
      "Length of cagemate_v_recall: 10\n"
     ]
    }
   ],
   "source": [
    "print(\"Size of labels array:\", len(labels))\n",
    "print(\"Size of shuffle array:\", len(shuffle))\n",
    "print(\"Shuffled indices:\", shuffle)\n",
    "print(\"Length of cagemate_label:\", len(cagemate_label))\n",
    "print(\"Length of y_label:\", len(y_label))\n",
    "print(\"Length of cagemate_v_recall:\", len(cagemate_v_recall))\n"
   ]
  },
  {
   "cell_type": "markdown",
   "metadata": {},
   "source": [
    "**20230803_121318_1_merged.rec**"
   ]
  },
  {
   "cell_type": "code",
   "execution_count": 260,
   "metadata": {},
   "outputs": [
    {
     "name": "stdout",
     "output_type": "stream",
     "text": [
      "(19, 6, 100)\n"
     ]
    }
   ],
   "source": [
    "event_firing_rates = {}\n",
    "#event type\n",
    "event = 'recall'\n",
    "#event length (in seconds)\n",
    "equalize = 3\n",
    "#time prior to event start to be included (in seconds)\n",
    "pre_window = 2\n",
    "\n",
    "\n",
    "#will calculate unit firing rates during specified event type for specified length of time\n",
    "#and save them into a dictionary \n",
    "for recording_name, recording in phase2_collection.collection.items(): \n",
    "        \n",
    "    event_firing_rates[recording_name] = phase2_analysis.__get_unit_event_firing_rates__(\n",
    "            recording,\n",
    "            event,\n",
    "            equalize,\n",
    "            pre_window \n",
    "                    )\n",
    "            # this will create a dictionary\n",
    "            # recording_name : dictionary (units)\n",
    "            # unit dictionary: {unit_id: [[.....]...[.....]}\n",
    "            # unit id = 80 for example\n",
    "            # len of list = number of sniffs \n",
    "            # length of each array equals equalize * 1000 / timebins \n",
    "            # i.e. 100 ms timebin + 5 second long sniff\n",
    "            # convert seconds to ms 5 * 1000 = 5000 ms long sniffs \n",
    "            # 5000 ms sniff / 100 ms timebins = length of each array\n",
    "\n",
    "\n",
    "#give you the list of units for this recording\n",
    "event_firing_rates['20230803_121318_1_merged.rec'].keys()\n",
    "\n",
    "#give you a list of the firi(ng rates\n",
    "recall_firing_rates = np.array(list(event_firing_rates['20230803_121318_1_merged.rec'].values()))\n",
    "avg_recall_firing_rates = np.mean(recall_firing_rates, axis = 2)\n",
    "avg_recall_tbyn = avg_recall_firing_rates.transpose()\n",
    "y_label = [\"recall\"] * 6\n",
    "print(recall_firing_rates.shape)\n"
   ]
  },
  {
   "cell_type": "code",
   "execution_count": 284,
   "metadata": {},
   "outputs": [
    {
     "name": "stdout",
     "output_type": "stream",
     "text": [
      "(21, 32)\n",
      "['cagemate', 'cagemate', 'cagemate', 'cagemate', 'cagemate', 'cagemate', 'cagemate', 'cagemate', 'cagemate', 'recall', 'recall', 'recall', 'recall', 'recall', 'recall', 'recall', 'recall', 'recall', 'recall', 'recall', 'recall']\n",
      "[ 8 10  9 19  5 18  3 17 13  6  7 11 12 14  1 20 16 15  4  0  2]\n",
      "['cagemate' 'recall' 'recall' 'recall' 'cagemate' 'recall' 'cagemate'\n",
      " 'recall' 'recall' 'cagemate' 'cagemate' 'recall' 'recall' 'recall'\n",
      " 'cagemate' 'recall' 'recall' 'recall' 'cagemate' 'cagemate' 'cagemate']\n",
      "[0.83333333 0.8        0.8        0.6       ]\n"
     ]
    },
    {
     "data": {
      "image/png": "[encoded data removed]",
      "text/plain": [
       "<Figure size 800x600 with 1 Axes>"
      ]
     },
     "metadata": {},
     "output_type": "display_data"
    }
   ],
   "source": [
    "cagemate_v_recall = np.concatenate([avg_cagemate_tbyn, avg_recall_tbyn], axis = 0)\n",
    "print(cagemate_v_recall.shape)\n",
    "labels = cagemate_label + y_label\n",
    "print(labels)\n",
    "shuffle = np.random.permutation(len(cagemate_v_recall))\n",
    "print(shuffle)\n",
    "labels = np.array(labels)\n",
    "labels_shuffle = labels[shuffle]\n",
    "cagemate_v_recall_shuffle = cagemate_v_recall[shuffle]\n",
    "print(labels_shuffle)\n",
    "\n",
    "\n",
    "accuracies = cross_val_score(LogisticRegression(penalty=\"l1\", solver=\"liblinear\"), cagemate_v_recall_shuffle, labels_shuffle, cv=4)\n",
    "print(accuracies)\n",
    "\n",
    "\n",
    "# Accuracy scores\n",
    "accuracies = [.75, 1. , .66666667 ]\n",
    "\n",
    "# Plotting\n",
    "plt.figure(figsize=(8, 6))\n",
    "plt.bar(range(len(accuracies)), accuracies, color='skyblue')\n",
    "plt.xlabel('Fold or Run')\n",
    "plt.ylabel('Accuracy')\n",
    "plt.title('Accuracy Scores')\n",
    "plt.ylim(0, 1)  # Set y-axis limit to 0-1 for accuracy\n",
    "plt.xticks(range(len(accuracies)), [f'Fold {i+1}' for i in range(len(accuracies))])\n",
    "plt.grid(axis='y', linestyle='--', alpha=0.7)\n",
    "plt.show()\n",
    "\n",
    "\n",
    "#accuracies = cross_val_score(LogisticRegression(penalty=\"l1\"), cagemate_v_recall_shuffle, labels_shuffle, cv=5)  # k=8 cross validation"
   ]
  },
  {
   "cell_type": "markdown",
   "metadata": {},
   "source": [
    "**20230803_141047_1_merged.rec** recall "
   ]
  },
  {
   "cell_type": "code",
   "execution_count": 282,
   "metadata": {},
   "outputs": [
    {
     "name": "stdout",
     "output_type": "stream",
     "text": [
      "(32, 12, 100)\n"
     ]
    }
   ],
   "source": [
    "event_firing_rates = {}\n",
    "#event type\n",
    "event = 'recall'\n",
    "#event length (in seconds)\n",
    "equalize = 3\n",
    "#time prior to event start to be included (in seconds)\n",
    "pre_window = 2\n",
    "\n",
    "\n",
    "#will calculate unit firing rates during specified event type for specified length of time\n",
    "#and save them into a dictionary \n",
    "for recording_name, recording in phase2_collection.collection.items(): \n",
    "        \n",
    "    event_firing_rates[recording_name] = phase2_analysis.__get_unit_event_firing_rates__(\n",
    "            recording,\n",
    "            event,\n",
    "            equalize,\n",
    "            pre_window \n",
    "                    )\n",
    "            # this will create a dictionary\n",
    "            # recording_name : dictionary (units)\n",
    "            # unit dictionary: {unit_id: [[.....]...[.....]}\n",
    "            # unit id = 80 for example\n",
    "            # len of list = number of sniffs \n",
    "            # length of each array equals equalize * 1000 / timebins \n",
    "            # i.e. 100 ms timebin + 5 second long sniff\n",
    "            # convert seconds to ms 5 * 1000 = 5000 ms long sniffs \n",
    "            # 5000 ms sniff / 100 ms timebins = length of each array\n",
    "\n",
    "\n",
    "#give you the list of units for this recording\n",
    "event_firing_rates['20230803_141047_1_merged.rec'].keys()\n",
    "\n",
    "#give you a list of the firi(ng rates\n",
    "recall_firing_rates = np.array(list(event_firing_rates['20230803_141047_1_merged.rec'].values()))\n",
    "avg_recall_firing_rates = np.mean(recall_firing_rates, axis = 2)\n",
    "avg_recall_tbyn = avg_recall_firing_rates.transpose()\n",
    "y_label = [\"recall\"] * 12\n",
    "print(recall_firing_rates.shape)\n"
   ]
  },
  {
   "cell_type": "markdown",
   "metadata": {},
   "source": [
    "**20230803_141047_1_merged.rec** cagemate "
   ]
  },
  {
   "cell_type": "code",
   "execution_count": 280,
   "metadata": {},
   "outputs": [
    {
     "name": "stdout",
     "output_type": "stream",
     "text": [
      "(32, 9, 100)\n"
     ]
    }
   ],
   "source": [
    "cagemate_firing_rates = {}\n",
    "#event type\n",
    "event = 'cagemate'\n",
    "#event length (in seconds)\n",
    "equalize = 3\n",
    "#time prior to event start to be included (in seconds)\n",
    "pre_window = 2\n",
    "\n",
    "\n",
    "#will calculate unit firing rates during specified event type for specified length of time\n",
    "#and save them into a dictionary \n",
    "for recording_name, recording in phase2_collection.collection.items():     \n",
    "    cagemate_firing_rates[recording_name] = phase2_analysis.__get_unit_event_firing_rates__(\n",
    "            recording,\n",
    "            event,\n",
    "            equalize,\n",
    "            pre_window \n",
    "                    )\n",
    "            # this will create a dictionary\n",
    "            # recording_name : dictionary (units)\n",
    "            # unit dictionary: {unit_id: [[.....]...[.....]}\n",
    "            # unit id = 80 for example\n",
    "            # len of list = number of sniffs \n",
    "            # length of each array equals equalize * 1000 / timebins \n",
    "            # i.e. 100 ms timebin + 5 second long sniff\n",
    "            # convert seconds to ms 5 * 1000 = 5000 ms long sniffs \n",
    "            # 5000 ms sniff / 100 ms timebins = length of each array\n",
    "\n",
    "\n",
    "#give you the list of units for this recording\n",
    "cagemate_firing_rates['20230803_141047_1_merged.rec'].keys()\n",
    "\n",
    "#give you a list of the firing rates\n",
    "cagemate_firing_rates = np.array(list(cagemate_firing_rates['20230803_141047_1_merged.rec'].values()))\n",
    "avg_cagemate_firing_rates = np.mean(cagemate_firing_rates, axis = 2)\n",
    "avg_cagemate_tbyn = avg_cagemate_firing_rates.transpose()\n",
    "cagemate_label = [\"cagemate\"] * 9\n",
    "print(cagemate_firing_rates.shape)"
   ]
  },
  {
   "cell_type": "code",
   "execution_count": 286,
   "metadata": {},
   "outputs": [
    {
     "name": "stdout",
     "output_type": "stream",
     "text": [
      "(21, 32)\n",
      "['cagemate', 'cagemate', 'cagemate', 'cagemate', 'cagemate', 'cagemate', 'cagemate', 'cagemate', 'cagemate', 'recall', 'recall', 'recall', 'recall', 'recall', 'recall', 'recall', 'recall', 'recall', 'recall', 'recall', 'recall']\n",
      "[17  7 18 13  1 19  9 11 12 15  3  6  0 16  2 10 14  8  5  4 20]\n",
      "['recall' 'cagemate' 'recall' 'recall' 'cagemate' 'recall' 'recall'\n",
      " 'recall' 'recall' 'recall' 'cagemate' 'cagemate' 'cagemate' 'recall'\n",
      " 'cagemate' 'recall' 'recall' 'cagemate' 'cagemate' 'cagemate' 'recall']\n",
      "['cagemate', 'cagemate', 'cagemate', 'cagemate', 'cagemate', 'cagemate', 'cagemate', 'cagemate', 'cagemate']\n",
      "[1.   1.   1.   0.75 0.75]\n"
     ]
    }
   ],
   "source": [
    "cagemate_v_recall = np.concatenate([avg_cagemate_tbyn, avg_recall_tbyn], axis = 0)\n",
    "print(cagemate_v_recall.shape)\n",
    "labels = cagemate_label + y_label\n",
    "print(labels)\n",
    "shuffle = np.random.permutation(len(cagemate_v_recall))\n",
    "print(shuffle)\n",
    "labels = np.array(labels)\n",
    "labels_shuffle = labels[shuffle]\n",
    "cagemate_v_recall_shuffle = cagemate_v_recall[shuffle]\n",
    "print(labels_shuffle)\n",
    "print(cagemate_label)\n",
    "\n",
    "accuracies = cross_val_score(LogisticRegression(penalty=\"l1\", solver=\"liblinear\"), cagemate_v_recall_shuffle, labels_shuffle, cv=5)\n",
    "print(accuracies)\n",
    "\n",
    "\n",
    "#accuracies = cross_val_score(LogisticRegression(penalty=\"l1\"), cagemate_v_recall_shuffle, labels_shuffle, cv=5)  # k=8 cross validation"
   ]
  },
  {
   "cell_type": "code",
   "execution_count": 287,
   "metadata": {},
   "outputs": [
    {
     "name": "stdout",
     "output_type": "stream",
     "text": [
      "[[[ 3.2   3.12  3.12 ...  2.16  2.16  2.16]\n",
      "  [ 5.28  5.2   5.2  ...  5.92  5.76  5.76]\n",
      "  [ 5.92  6.    6.   ...  6.16  6.24  6.16]\n",
      "  ...\n",
      "  [ 5.76  5.76  5.76 ...  5.68  5.84  5.84]\n",
      "  [ 5.68  5.76  5.76 ...  5.68  5.68  5.6 ]\n",
      "  [ 5.76  5.76  5.76 ...  7.28  7.28  7.28]]\n",
      "\n",
      " [[ 3.6   3.6   3.6  ...  4.48  4.48  4.48]\n",
      "  [ 4.8   4.88  4.96 ...  5.12  5.04  4.96]\n",
      "  [ 4.8   4.8   4.8  ...  4.64  4.64  4.72]\n",
      "  ...\n",
      "  [ 5.04  5.04  5.04 ...  4.8   4.8   4.8 ]\n",
      "  [ 4.16  4.16  4.16 ...  4.24  4.24  4.24]\n",
      "  [ 3.44  3.44  3.44 ...  3.36  3.36  3.36]]\n",
      "\n",
      " [[ 4.16  4.16  4.16 ...  4.72  4.56  4.56]\n",
      "  [ 2.72  2.72  2.72 ...  2.32  2.32  2.32]\n",
      "  [ 2.64  2.64  2.64 ...  3.68  3.68  3.68]\n",
      "  ...\n",
      "  [ 2.32  2.32  2.4  ...  2.56  2.56  2.56]\n",
      "  [ 2.24  2.24  2.24 ...  2.16  2.16  2.16]\n",
      "  [ 2.56  2.56  2.48 ...  2.08  2.08  2.08]]\n",
      "\n",
      " ...\n",
      "\n",
      " [[ 7.68  7.68  7.68 ... 12.88 12.88 12.8 ]\n",
      "  [ 9.28  9.28  9.28 ...  8.8   8.88  8.8 ]\n",
      "  [ 7.6   7.44  7.44 ...  7.28  7.28  7.28]\n",
      "  ...\n",
      "  [ 4.24  4.24  4.24 ...  3.2   3.2   3.2 ]\n",
      "  [ 2.88  2.88  2.88 ...  2.96  2.96  2.96]\n",
      "  [ 3.36  3.36  3.36 ...  3.68  3.76  3.76]]\n",
      "\n",
      " [[ 1.04  1.12  1.12 ...  0.96  0.96  0.96]\n",
      "  [ 0.32  0.32  0.32 ...  0.32  0.32  0.32]\n",
      "  [ 0.48  0.48  0.48 ...  0.56  0.56  0.56]\n",
      "  ...\n",
      "  [ 0.96  0.96  0.96 ...  0.72  0.72  0.72]\n",
      "  [ 0.56  0.56  0.56 ...  0.32  0.32  0.32]\n",
      "  [ 0.4   0.32  0.32 ...  0.64  0.64  0.64]]\n",
      "\n",
      " [[ 0.32  0.32  0.4  ...  0.64  0.64  0.64]\n",
      "  [ 0.16  0.16  0.16 ...  0.    0.    0.  ]\n",
      "  [ 0.16  0.16  0.16 ...  0.24  0.24  0.24]\n",
      "  ...\n",
      "  [ 1.36  1.36  1.36 ...  0.64  0.64  0.64]\n",
      "  [ 0.48  0.48  0.48 ...  0.4   0.4   0.4 ]\n",
      "  [ 1.2   1.2   1.2  ...  1.44  1.44  1.44]]]\n"
     ]
    }
   ],
   "source": [
    "print(cagemate_firing_rates)"
   ]
  },
  {
   "cell_type": "markdown",
   "metadata": {},
   "source": [
    "**Failed loop. This code iterates over each event type, calculates firing rates for all recall (e.g. short term), combines them with the cagemate (long-term) firing rates, shuffles the data, performs logistic regression with cross-validation, and prints the mean accuracy for each event type. Finally, it prints the overall mean accuracy across all event types.**\n",
    "\n",
    "**Since the recordings are not the same number of unit this code isnt working tried to pad the data with zeros to make them even in lenght still no luck.**\n",
    "\n",
    "Now to just do them one at a time...\n",
    "\n"
   ]
  },
  {
   "cell_type": "code",
   "execution_count": null,
   "metadata": {},
   "outputs": [
    {
     "ename": "TypeError",
     "evalue": "object of type 'numpy.int32' has no len()",
     "output_type": "error",
     "traceback": [
      "\u001b[1;31m---------------------------------------------------------------------------\u001b[0m",
      "\u001b[1;31mTypeError\u001b[0m                                 Traceback (most recent call last)",
      "Cell \u001b[1;32mIn[242], line 30\u001b[0m\n\u001b[0;32m     25\u001b[0m     event_rates\u001b[38;5;241m.\u001b[39mappend(rate)\n\u001b[0;32m     26\u001b[0m     \u001b[38;5;66;03m# for sublist in values:\u001b[39;00m\n\u001b[0;32m     27\u001b[0m     \u001b[38;5;66;03m#     sublist.extend([0] * (max_sublist_length - len(sublist)))  # Pad each sublist with zeros\u001b[39;00m\n\u001b[0;32m     28\u001b[0m     \u001b[38;5;66;03m# event_rates.extend(values)\u001b[39;00m\n\u001b[1;32m---> 30\u001b[0m \u001b[38;5;28mprint\u001b[39m(\u001b[38;5;124mf\u001b[39m\u001b[38;5;124m\"\u001b[39m\u001b[38;5;124mLength of sublists for event \u001b[39m\u001b[38;5;132;01m{\u001b[39;00mevent\u001b[38;5;132;01m}\u001b[39;00m\u001b[38;5;124m: \u001b[39m\u001b[38;5;132;01m{\u001b[39;00m[\u001b[38;5;28mlen\u001b[39m(sublist)\u001b[38;5;250m \u001b[39m\u001b[38;5;28;01mfor\u001b[39;00m\u001b[38;5;250m \u001b[39msublist\u001b[38;5;250m \u001b[39m\u001b[38;5;129;01min\u001b[39;00m\u001b[38;5;250m \u001b[39mevent_rates]\u001b[38;5;132;01m}\u001b[39;00m\u001b[38;5;124m\"\u001b[39m)  \u001b[38;5;66;03m# Debugging statement\u001b[39;00m\n\u001b[0;32m     32\u001b[0m event_rates \u001b[38;5;241m=\u001b[39m np\u001b[38;5;241m.\u001b[39marray(event_rates)  \u001b[38;5;66;03m# Convert to NumPy array\u001b[39;00m\n\u001b[0;32m     33\u001b[0m \u001b[38;5;28mprint\u001b[39m(\u001b[38;5;124mf\u001b[39m\u001b[38;5;124m\"\u001b[39m\u001b[38;5;124mShape of event_rates for \u001b[39m\u001b[38;5;132;01m{\u001b[39;00mevent\u001b[38;5;132;01m}\u001b[39;00m\u001b[38;5;124m: \u001b[39m\u001b[38;5;132;01m{\u001b[39;00mevent_rates\u001b[38;5;241m.\u001b[39mshape\u001b[38;5;132;01m}\u001b[39;00m\u001b[38;5;124m\"\u001b[39m)\n",
      "Cell \u001b[1;32mIn[242], line 30\u001b[0m, in \u001b[0;36m<listcomp>\u001b[1;34m(.0)\u001b[0m\n\u001b[0;32m     25\u001b[0m     event_rates\u001b[38;5;241m.\u001b[39mappend(rate)\n\u001b[0;32m     26\u001b[0m     \u001b[38;5;66;03m# for sublist in values:\u001b[39;00m\n\u001b[0;32m     27\u001b[0m     \u001b[38;5;66;03m#     sublist.extend([0] * (max_sublist_length - len(sublist)))  # Pad each sublist with zeros\u001b[39;00m\n\u001b[0;32m     28\u001b[0m     \u001b[38;5;66;03m# event_rates.extend(values)\u001b[39;00m\n\u001b[1;32m---> 30\u001b[0m \u001b[38;5;28mprint\u001b[39m(\u001b[38;5;124mf\u001b[39m\u001b[38;5;124m\"\u001b[39m\u001b[38;5;124mLength of sublists for event \u001b[39m\u001b[38;5;132;01m{\u001b[39;00mevent\u001b[38;5;132;01m}\u001b[39;00m\u001b[38;5;124m: \u001b[39m\u001b[38;5;132;01m{\u001b[39;00m[\u001b[38;5;28mlen\u001b[39m(sublist)\u001b[38;5;250m \u001b[39m\u001b[38;5;28;01mfor\u001b[39;00m\u001b[38;5;250m \u001b[39msublist\u001b[38;5;250m \u001b[39m\u001b[38;5;129;01min\u001b[39;00m\u001b[38;5;250m \u001b[39mevent_rates]\u001b[38;5;132;01m}\u001b[39;00m\u001b[38;5;124m\"\u001b[39m)  \u001b[38;5;66;03m# Debugging statement\u001b[39;00m\n\u001b[0;32m     32\u001b[0m event_rates \u001b[38;5;241m=\u001b[39m np\u001b[38;5;241m.\u001b[39marray(event_rates)  \u001b[38;5;66;03m# Convert to NumPy array\u001b[39;00m\n\u001b[0;32m     33\u001b[0m \u001b[38;5;28mprint\u001b[39m(\u001b[38;5;124mf\u001b[39m\u001b[38;5;124m\"\u001b[39m\u001b[38;5;124mShape of event_rates for \u001b[39m\u001b[38;5;132;01m{\u001b[39;00mevent\u001b[38;5;132;01m}\u001b[39;00m\u001b[38;5;124m: \u001b[39m\u001b[38;5;132;01m{\u001b[39;00mevent_rates\u001b[38;5;241m.\u001b[39mshape\u001b[38;5;132;01m}\u001b[39;00m\u001b[38;5;124m\"\u001b[39m)\n",
      "\u001b[1;31mTypeError\u001b[0m: object of type 'numpy.int32' has no len()"
     ]
    }
   ],
   "source": [
    "event_types = ['recall', 'cagemate']\n",
    "equalize = 3\n",
    "pre_window = 2\n",
    "accuracies_all = []\n",
    "model_dict = {}\n",
    "event_firing_rates = []\n",
    "\n",
    "for event in event_types:\n",
    "    #event_firing_rates = {}\n",
    "    \n",
    "    for recording_name, recording in phase2_collection.collection.items():     \n",
    "        rates = phase2_analysis.__get_unit_event_firing_rates__(\n",
    "            recording,\n",
    "            event,\n",
    "            equalize,\n",
    "            pre_window \n",
    "        )\n",
    "        #event_firing_rates[recording_name] = rates\n",
    "    \n",
    "    # Pad all sublists to the same maximum length\n",
    "    \n",
    "    #for rates in event_firing_rates.values():\n",
    "    for rate in rates: \n",
    "        #values = list(rates.values())\n",
    "        event_rates.append(rate)\n",
    "        # for sublist in values:\n",
    "        #     sublist.extend([0] * (max_sublist_length - len(sublist)))  # Pad each sublist with zeros\n",
    "        # event_rates.extend(values)\n",
    "\n",
    "    print(f\"Length of sublists for event {event}: {[len(sublist) for sublist in event_rates]}\")  # Debugging statement\n",
    "\n",
    "    event_rates = np.array(event_rates)  # Convert to NumPy array\n",
    "    print(f\"Shape of event_rates for {event}: {event_rates.shape}\")\n",
    "  \n",
    "\n"
   ]
  },
  {
   "cell_type": "code",
   "execution_count": null,
   "metadata": {},
   "outputs": [
    {
     "ename": "AxisError",
     "evalue": "axis 2 is out of bounds for array of dimension 1",
     "output_type": "error",
     "traceback": [
      "\u001b[1;31m---------------------------------------------------------------------------\u001b[0m",
      "\u001b[1;31mAxisError\u001b[0m                                 Traceback (most recent call last)",
      "Cell \u001b[1;32mIn[237], line 1\u001b[0m\n\u001b[1;32m----> 1\u001b[0m avg_event_rates \u001b[38;5;241m=\u001b[39m np\u001b[38;5;241m.\u001b[39mmean(event_rates, axis\u001b[38;5;241m=\u001b[39m\u001b[38;5;241m2\u001b[39m)\u001b[38;5;241m.\u001b[39mtranspose()\n\u001b[0;32m      2\u001b[0m labels \u001b[38;5;241m=\u001b[39m [event] \u001b[38;5;241m*\u001b[39m avg_event_rates\u001b[38;5;241m.\u001b[39mshape[\u001b[38;5;241m0\u001b[39m]\n\u001b[0;32m      4\u001b[0m data_combined \u001b[38;5;241m=\u001b[39m np\u001b[38;5;241m.\u001b[39mconcatenate([avg_event_rates, avg_cagemate_tbyn], axis\u001b[38;5;241m=\u001b[39m\u001b[38;5;241m0\u001b[39m)\n",
      "File \u001b[1;32m<__array_function__ internals>:200\u001b[0m, in \u001b[0;36mmean\u001b[1;34m(*args, **kwargs)\u001b[0m\n",
      "File \u001b[1;32mc:\\Users\\sjs93\\anaconda3\\Lib\\site-packages\\numpy\\core\\fromnumeric.py:3464\u001b[0m, in \u001b[0;36mmean\u001b[1;34m(a, axis, dtype, out, keepdims, where)\u001b[0m\n\u001b[0;32m   3461\u001b[0m     \u001b[38;5;28;01melse\u001b[39;00m:\n\u001b[0;32m   3462\u001b[0m         \u001b[38;5;28;01mreturn\u001b[39;00m mean(axis\u001b[38;5;241m=\u001b[39maxis, dtype\u001b[38;5;241m=\u001b[39mdtype, out\u001b[38;5;241m=\u001b[39mout, \u001b[38;5;241m*\u001b[39m\u001b[38;5;241m*\u001b[39mkwargs)\n\u001b[1;32m-> 3464\u001b[0m \u001b[38;5;28;01mreturn\u001b[39;00m _methods\u001b[38;5;241m.\u001b[39m_mean(a, axis\u001b[38;5;241m=\u001b[39maxis, dtype\u001b[38;5;241m=\u001b[39mdtype,\n\u001b[0;32m   3465\u001b[0m                       out\u001b[38;5;241m=\u001b[39mout, \u001b[38;5;241m*\u001b[39m\u001b[38;5;241m*\u001b[39mkwargs)\n",
      "File \u001b[1;32mc:\\Users\\sjs93\\anaconda3\\Lib\\site-packages\\numpy\\core\\_methods.py:169\u001b[0m, in \u001b[0;36m_mean\u001b[1;34m(a, axis, dtype, out, keepdims, where)\u001b[0m\n\u001b[0;32m    165\u001b[0m arr \u001b[38;5;241m=\u001b[39m asanyarray(a)\n\u001b[0;32m    167\u001b[0m is_float16_result \u001b[38;5;241m=\u001b[39m \u001b[38;5;28;01mFalse\u001b[39;00m\n\u001b[1;32m--> 169\u001b[0m rcount \u001b[38;5;241m=\u001b[39m _count_reduce_items(arr, axis, keepdims\u001b[38;5;241m=\u001b[39mkeepdims, where\u001b[38;5;241m=\u001b[39mwhere)\n\u001b[0;32m    170\u001b[0m \u001b[38;5;28;01mif\u001b[39;00m rcount \u001b[38;5;241m==\u001b[39m \u001b[38;5;241m0\u001b[39m \u001b[38;5;28;01mif\u001b[39;00m where \u001b[38;5;129;01mis\u001b[39;00m \u001b[38;5;28;01mTrue\u001b[39;00m \u001b[38;5;28;01melse\u001b[39;00m umr_any(rcount \u001b[38;5;241m==\u001b[39m \u001b[38;5;241m0\u001b[39m, axis\u001b[38;5;241m=\u001b[39m\u001b[38;5;28;01mNone\u001b[39;00m):\n\u001b[0;32m    171\u001b[0m     warnings\u001b[38;5;241m.\u001b[39mwarn(\u001b[38;5;124m\"\u001b[39m\u001b[38;5;124mMean of empty slice.\u001b[39m\u001b[38;5;124m\"\u001b[39m, \u001b[38;5;167;01mRuntimeWarning\u001b[39;00m, stacklevel\u001b[38;5;241m=\u001b[39m\u001b[38;5;241m2\u001b[39m)\n",
      "File \u001b[1;32mc:\\Users\\sjs93\\anaconda3\\Lib\\site-packages\\numpy\\core\\_methods.py:77\u001b[0m, in \u001b[0;36m_count_reduce_items\u001b[1;34m(arr, axis, keepdims, where)\u001b[0m\n\u001b[0;32m     75\u001b[0m     items \u001b[38;5;241m=\u001b[39m \u001b[38;5;241m1\u001b[39m\n\u001b[0;32m     76\u001b[0m     \u001b[38;5;28;01mfor\u001b[39;00m ax \u001b[38;5;129;01min\u001b[39;00m axis:\n\u001b[1;32m---> 77\u001b[0m         items \u001b[38;5;241m*\u001b[39m\u001b[38;5;241m=\u001b[39m arr\u001b[38;5;241m.\u001b[39mshape[mu\u001b[38;5;241m.\u001b[39mnormalize_axis_index(ax, arr\u001b[38;5;241m.\u001b[39mndim)]\n\u001b[0;32m     78\u001b[0m     items \u001b[38;5;241m=\u001b[39m nt\u001b[38;5;241m.\u001b[39mintp(items)\n\u001b[0;32m     79\u001b[0m \u001b[38;5;28;01melse\u001b[39;00m:\n\u001b[0;32m     80\u001b[0m     \u001b[38;5;66;03m# TODO: Optimize case when `where` is broadcast along a non-reduction\u001b[39;00m\n\u001b[0;32m     81\u001b[0m     \u001b[38;5;66;03m# axis and full sum is more excessive than needed.\u001b[39;00m\n\u001b[0;32m     82\u001b[0m \n\u001b[0;32m     83\u001b[0m     \u001b[38;5;66;03m# guarded to protect circular imports\u001b[39;00m\n",
      "\u001b[1;31mAxisError\u001b[0m: axis 2 is out of bounds for array of dimension 1"
     ]
    }
   ],
   "source": [
    "  \n",
    "avg_event_rates = np.mean(event_rates, axis=2).transpose()\n",
    "labels = [event] * avg_event_rates.shape[0]\n",
    "\n",
    "data_combined = np.concatenate([avg_event_rates, avg_cagemate_tbyn], axis=0)\n",
    "labels_combined = labels + [\"cagemate\"] * avg_cagemate_tbyn.shape[0]\n",
    "\n",
    "shuffle = np.random.permutation(len(data_combined))\n",
    "data_shuffled = data_combined[shuffle]\n",
    "labels_shuffled = np.array(labels_combined)[shuffle]\n",
    "\n",
    "model = LogisticRegression(penalty=\"l1\", solver=\"liblinear\")\n",
    "accuracies = cross_val_score(model, data_shuffled, labels_shuffled, cv=5)\n",
    "accuracies_all.append(accuracies)\n",
    "\n",
    "print(f\"Mean Accuracy for {event}: {np.mean(accuracies)}\")\n",
    "\n",
    "print(\"Overall Mean Accuracy:\", np.mean(accuracies_all))\n",
    "\n",
    "# Find the maximum sublist length across all events\n",
    "max_sublist_length = max(len(rates) for event_rates in event_firing_rates.values() for rates in event_rates.values())\n"
   ]
  },
  {
   "cell_type": "code",
   "execution_count": null,
   "metadata": {},
   "outputs": [
    {
     "data": {
      "image/png": "[encoded data removed]",
      "text/plain": [
       "<Figure size 1200x400 with 2 Axes>"
      ]
     },
     "metadata": {},
     "output_type": "display_data"
    }
   ],
   "source": [
    "# Preprocess phase2 dataset for Logistic Regression\n",
    "\n",
    "#trial_decoder(self, equalize, pre_window, post_window, num_fold, num_shuffle, no_PCs, events, plot = True)\n",
    "[auc, prob]= phase2_analysis.trial_decoder(equalize=5,\n",
    "                            pre_window=5,\n",
    "                            post_window = 0,\n",
    "                            num_fold = 5, \n",
    "                            num_shuffle = 1,\n",
    "                            no_PCs = 8, \n",
    "                            events = ['recall', 'cagemate'],\n",
    "                            plot = True)\n",
    "\n",
    "#X_train_phase2, X_test_phase2, y_train_phase2, y_test_phase2 = train_test_split(X_phase2, y_phase2, test_size=0.2)\n"
   ]
  },
  {
   "cell_type": "code",
   "execution_count": null,
   "metadata": {},
   "outputs": [],
   "source": [
    "\n"
   ]
  },
  {
   "cell_type": "markdown",
   "metadata": {},
   "source": [
    "# Phase 3: Constrained \n"
   ]
  },
  {
   "cell_type": "code",
   "execution_count": null,
   "metadata": {},
   "outputs": [],
   "source": [
    "phase3_collection = unpickle_this('phase3_collection.pkl')"
   ]
  },
  {
   "cell_type": "code",
   "execution_count": null,
   "metadata": {},
   "outputs": [
    {
     "name": "stdout",
     "output_type": "stream",
     "text": [
      "Example recording:\n",
      "20230809_103121_1_merged.rec\n",
      "\n",
      "Event Types:\n",
      "dict_keys(['acquisition', 'cagemate', 'empty', 'novel', 'familiar'])\n",
      "\n",
      "Number of units:\n",
      "36\n"
     ]
    }
   ],
   "source": [
    "is_first = True\n",
    "for recording_name, recording in phase3_collection.collection.items():\n",
    "    if is_first:\n",
    "        print('Example recording:')\n",
    "        print(recording_name)\n",
    "        print(\"\")\n",
    "        print('Event Types:')\n",
    "        print(recording.event_dict.keys())\n",
    "        print(\"\")\n",
    "        print('Number of units:')\n",
    "        print(len(recording.unit_timestamps.keys()))\n",
    "        is_first = False"
   ]
  },
  {
   "cell_type": "code",
   "execution_count": null,
   "metadata": {},
   "outputs": [],
   "source": []
  },
  {
   "cell_type": "code",
   "execution_count": null,
   "metadata": {},
   "outputs": [],
   "source": []
  }
 ],
 "metadata": {
  "kernelspec": {
   "display_name": "ephys_analysis",
   "language": "python",
   "name": "python3"
  },
  "language_info": {
   "codemirror_mode": {
    "name": "ipython",
    "version": 3
   },
   "file_extension": ".py",
   "mimetype": "text/x-python",
   "name": "python",
   "nbconvert_exporter": "python",
   "pygments_lexer": "ipython3",
   "version": "3.11.5"
  }
 },
 "nbformat": 4,
 "nbformat_minor": 2
}
