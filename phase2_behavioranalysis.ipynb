{
 "cells": [
  {
   "cell_type": "code",
   "execution_count": 1,
   "metadata": {},
   "outputs": [],
   "source": [
    "import pickle\n",
    "import boris_extraction as boris\n",
    "import multirecording_spikeanalysis as spike\n",
    "import pandas as pd\n",
    "import numpy as np\n",
    "import math\n",
    "import matplotlib.pyplot as plt\n",
    "from scipy.stats import sem\n",
    "from scipy import stats\n",
    "import seaborn as sns\n",
    "import matplotlib.pyplot as plt\n",
    "from scipy.stats import ttest_rel\n",
    "import matplotlib.patches as mpatches\n",
    "from itertools import combinations\n",
    "from scipy.stats import ttest_ind\n",
    "from statsmodels.stats.multitest import multipletests\n",
    "\n",
    "def hex_2_rgb(hex_color): # Orange color\n",
    "    rgb_color = tuple(int(hex_color[i:i+2], 16) / 255.0 for i in (1, 3, 5))\n",
    "    return rgb_color\n",
    "\n",
    "def pickle_this(thing_to_pickle, file_name):\n",
    "    \"\"\"\n",
    "    Pickles things\n",
    "    Args (2):   \n",
    "        thing_to_pickle: anything you want to pickle\n",
    "        file_name: str, filename that ends with .pkl \n",
    "    Returns:\n",
    "        none\n",
    "    \"\"\"\n",
    "    with open(file_name,'wb') as file:\n",
    "        pickle.dump(thing_to_pickle, file)\n",
    "\n",
    "def unpickle_this(pickle_file):\n",
    "    \"\"\"\n",
    "    Unpickles things\n",
    "    Args (1):   \n",
    "        file_name: str, pickle filename that already exists and ends with .pkl\n",
    "    Returns:\n",
    "        pickled item\n",
    "    \"\"\"\n",
    "    with open(pickle_file, 'rb') as file:\n",
    "        return(pickle.load(file))"
   ]
  },
  {
   "cell_type": "markdown",
   "metadata": {},
   "source": [
    "# Load collection and create behavior dataframe "
   ]
  },
  {
   "cell_type": "code",
   "execution_count": 3,
   "metadata": {},
   "outputs": [
    {
     "name": "stdout",
     "output_type": "stream",
     "text": [
      "212\n",
      "776\n"
     ]
    }
   ],
   "source": [
    "phase2_collection = unpickle_this('phase2collection.pkl')\n",
    "event_info = {}\n",
    "is_first = True\n",
    "sniff_itis = []\n",
    "total_sniffs = 0\n",
    "for recording_name, recording in phase2_collection.collection.items():\n",
    "    for event, events in recording.event_dict.items():\n",
    "        no_events = events.shape[0]\n",
    "        sniff_length = 0\n",
    "        for i in range(len(events)):\n",
    "            if (event == 'acquisition') and is_first: \n",
    "                first_five_min = events[i][0] + 300000\n",
    "                is_first = False\n",
    "            if event == 'acquisition':\n",
    "               if events[i][0] < first_five_min:\n",
    "                   sniff_length_temp = events[i][1] - events[i][0]\n",
    "                   sniff_length = sniff_length +sniff_length_temp\n",
    "                   total_sniffs = total_sniffs + 1\n",
    "               else:\n",
    "                   pass\n",
    "            else:\n",
    "                sniff_length_temp = events[i][1] - events[i][0]\n",
    "                sniff_length = sniff_length +sniff_length_temp\n",
    "                total_sniffs = total_sniffs + 1\n",
    "            try:\n",
    "                sniff_iti = events[i+1][0] - events[i][1]\n",
    "                sniff_itis.append(sniff_iti)\n",
    "            except IndexError:\n",
    "                pass\n",
    "        total_sniff_time = sniff_length/1000\n",
    "        avg_event = sniff_length/no_events/1000\n",
    "        if (recording_name + recording.subject) in event_info.keys():\n",
    "            dict_event = event_info[recording_name + recording.subject]\n",
    "            dict_event[event] =  {'no_events': no_events, 'avg event': avg_event, 'total time': total_sniff_time}\n",
    "            event_info[recording_name + recording.subject] =  dict_event\n",
    "        else:\n",
    "            event_info[recording_name + recording.subject] = {event: {'no_events': no_events, 'avg event': avg_event,'total time': total_sniff_time }}\n",
    "        \n",
    "event_info_df = pd.DataFrame.from_dict(event_info)\n",
    "sniff_itis = np.array(sniff_itis)/1000\n",
    "sniff_itis \n",
    "overlapping_sniffs = 0 \n",
    "for i in range(len(sniff_itis)):\n",
    "    if sniff_itis[i] < 5:\n",
    "        overlapping_sniffs = overlapping_sniffs + 1\n",
    "print(overlapping_sniffs) # 212 with 5 and 106 with 2 out of 532\n",
    "print(total_sniffs) #after fixing 0 for 2 out of 424, and 107 for less than 5"
   ]
  },
  {
   "cell_type": "code",
   "execution_count": 4,
   "metadata": {},
   "outputs": [
    {
     "data": {
      "text/plain": [
       "{'acquisition': 48.44211111111111,\n",
       " 'recall': 27.459333333333333,\n",
       " 'novel': 34.60377777777778,\n",
       " 'cagemate': 26.79211111111114}"
      ]
     },
     "execution_count": 4,
     "metadata": {},
     "output_type": "execute_result"
    }
   ],
   "source": [
    "event_overview = pd.concat({k: pd.DataFrame(v) for k, v in event_info.items()}, axis=0)\n",
    "event_overview = event_overview.reset_index()\n",
    "event_overview['order'] = ['FCN', 'FCN', 'FCN', 'NFC', 'NFC', 'NFC', 'CNF', 'CNF','CNF', \n",
    "                           'FCN', 'FCN', 'FCN', 'NFC', 'NFC','NFC', 'CNF', 'CNF', 'CNF',\n",
    "                            'FCN','FCN', 'FCN', 'NFC', 'NFC','NFC', 'CNF', 'CNF', 'CNF' ]\n",
    "no_events = event_overview[event_overview['level_1'] == 'no_events']\n",
    "FCN_df = event_overview[event_overview['order'] == 'FCN']\n",
    "CNF_df = event_overview[event_overview['order'] == 'CNF']\n",
    "NFC_df = event_overview[event_overview['order'] == 'NFC']\n",
    "\n",
    "event_total_time = event_overview[event_overview['level_1'] == 'total time']\n",
    "event_total_time_averages = {}\n",
    "avg_events = []\n",
    "sem_events = []\n",
    "for event in ['acquisition', 'recall', 'novel', 'cagemate']:\n",
    "    avg_event = event_total_time[event].mean()\n",
    "    sem_event = sem(event_total_time[event])\n",
    "    event_total_time_averages[event] = avg_event\n",
    "    avg_events.append(avg_event)\n",
    "    sem_events.append(sem_event)\n",
    "avg_events = np.array(avg_events)\n",
    "sem_events = np.array(sem_events)\n",
    "event_total_time_averages"
   ]
  },
  {
   "cell_type": "markdown",
   "metadata": {},
   "source": [
    "# Stats"
   ]
  },
  {
   "cell_type": "code",
   "execution_count": 5,
   "metadata": {},
   "outputs": [
    {
     "data": {
      "text/plain": [
       "{('acquisition', 'recall'): [2.504617282999326, 0.03667722102153361],\n",
       " ('acquisition', 'cagemate'): [1.8810866458647657, 0.0967436886914116],\n",
       " ('acquisition', 'novel'): [1.5869466326894959, 0.15118627622489533],\n",
       " ('recall', 'cagemate'): [0.11259570584287865, 0.9131251613860024],\n",
       " ('recall', 'novel'): [-1.8588303452212689, 0.10011028033987455],\n",
       " ('cagemate', 'novel'): [-1.0785572706453668, 0.3122281672265097]}"
      ]
     },
     "execution_count": 5,
     "metadata": {},
     "output_type": "execute_result"
    }
   ],
   "source": [
    "event_total_time= event_total_time[['acquisition', 'recall', 'cagemate', 'novel']]\n",
    "results = {}\n",
    "p_values = pd.DataFrame(index=event_total_time.columns, columns=event_total_time.columns)\n",
    "p_value_list = []\n",
    "for pair in combinations(event_total_time.columns, 2):\n",
    "    t_stat, p_value = ttest_rel(event_total_time[pair[0]],event_total_time[pair[1]])\n",
    "    results[pair] = [t_stat, p_value]\n",
    "    p_value_list.append(p_value)\n",
    "            \n",
    "results\n"
   ]
  },
  {
   "cell_type": "code",
   "execution_count": 6,
   "metadata": {},
   "outputs": [
    {
     "data": {
      "text/plain": [
       "(array([False, False, False, False, False, False]),\n",
       " array([0.22006333, 0.58046213, 0.90711766, 1.        , 0.60066168,\n",
       "        1.        ]),\n",
       " 0.008512444610847103,\n",
       " 0.008333333333333333)"
      ]
     },
     "execution_count": 6,
     "metadata": {},
     "output_type": "execute_result"
    }
   ],
   "source": [
    "adjusted_p_values = multipletests(p_value_list, method='bonferroni')\n",
    "adjusted_p_values"
   ]
  },
  {
   "cell_type": "markdown",
   "metadata": {},
   "source": [
    "# Plotting"
   ]
  },
  {
   "cell_type": "code",
   "execution_count": 7,
   "metadata": {},
   "outputs": [],
   "source": [
    "avg_events = avg_events[np.array([0,2,1,3])]\n",
    "\n",
    "sem_events = sem_events[np.array([0,2,1,3])]"
   ]
  },
  {
   "cell_type": "code",
   "execution_count": 8,
   "metadata": {},
   "outputs": [
    {
     "data": {
      "text/plain": [
       "Text(0.5, 1.0, 'Freely moving')"
      ]
     },
     "execution_count": 8,
     "metadata": {},
     "output_type": "execute_result"
    },
    {
     "data": {
      "image/png": "[encoded data removed]",
      "text/plain": [
       "<Figure size 400x300 with 1 Axes>"
      ]
     },
     "metadata": {},
     "output_type": "display_data"
    }
   ],
   "source": [
    "color_id_dict = {'acquisition\\n(exposure 1)': hex_2_rgb('#FFAF00'),\n",
    "                'novel': hex_2_rgb('#15616F'),  \n",
    "                'short-term familiar\\n(exposure 2)': (1.0, 0.6862745098039216, 0.0),\n",
    "                'long-term familiar': hex_2_rgb('#792910')\n",
    "                }\n",
    "hatches = ['//','','','']  \n",
    "plt.figure(figsize= (4,3))           \n",
    "plt.bar(color_id_dict.keys(), avg_events, yerr = sem_events,\n",
    "            color = color_id_dict.values(), hatch = hatches,\n",
    "            edgecolor = ['white', 'black', 'black', 'black', 'black'],\n",
    "            capsize = 5)\n",
    "plt.xticks([],rotation=45)\n",
    "plt.ylabel('Total duration (s)', fontsize = 18)\n",
    "plt.gca().spines['top'].set_visible(False)\n",
    "plt.gca().spines['right'].set_visible(False)\n",
    "plt.xticks(fontsize=14)\n",
    "plt.yticks(fontsize=14)\n",
    "hatches = ['//','','','', '']\n",
    "plt.gca().spines['bottom'].set_linewidth(1)  # X-axis\n",
    "plt.gca().spines['left'].set_linewidth(1) \n",
    "plt.title('Freely moving', fontsize = 20)"
   ]
  },
  {
   "cell_type": "markdown",
   "metadata": {},
   "source": [
    "# Order of exposure EDA"
   ]
  },
  {
   "cell_type": "code",
   "execution_count": 9,
   "metadata": {},
   "outputs": [
    {
     "data": {
      "text/plain": [
       "{'acquisition': 26.245333333333335,\n",
       " 'recall': 20.111333333333334,\n",
       " 'novel': 27.200333333333333,\n",
       " 'cagemate': 21.621}"
      ]
     },
     "execution_count": 9,
     "metadata": {},
     "output_type": "execute_result"
    }
   ],
   "source": [
    "FCN_event_total_time = FCN_df[FCN_df['level_1'] == 'total time']\n",
    "FCN_event_total_time_averages = {}\n",
    "for event in ['acquisition', 'recall', 'novel', 'cagemate']:\n",
    "    avg_event = FCN_event_total_time[event].mean()\n",
    "    FCN_event_total_time_averages[event] = avg_event\n",
    "FCN_event_total_time_averages"
   ]
  },
  {
   "cell_type": "code",
   "execution_count": 10,
   "metadata": {},
   "outputs": [
    {
     "data": {
      "text/plain": [
       "{'acquisition': 29.676000000000002,\n",
       " 'recall': 17.57766666666667,\n",
       " 'novel': 23.921000000000003,\n",
       " 'cagemate': 14.565666666666743}"
      ]
     },
     "execution_count": 10,
     "metadata": {},
     "output_type": "execute_result"
    }
   ],
   "source": [
    "NFC_event_total_time = NFC_df[NFC_df['level_1'] == 'total time']\n",
    "NFC_event_total_time_averages = {}\n",
    "for event in ['acquisition', 'recall', 'novel', 'cagemate']:\n",
    "    avg_event = NFC_event_total_time[event].mean()\n",
    "    NFC_event_total_time_averages[event] = avg_event\n",
    "NFC_event_total_time_averages"
   ]
  },
  {
   "cell_type": "code",
   "execution_count": 11,
   "metadata": {},
   "outputs": [
    {
     "data": {
      "text/plain": [
       "{'acquisition': 89.40500000000002,\n",
       " 'recall': 44.689,\n",
       " 'novel': 52.69,\n",
       " 'cagemate': 44.189666666666675}"
      ]
     },
     "execution_count": 11,
     "metadata": {},
     "output_type": "execute_result"
    }
   ],
   "source": [
    "CNF_event_total_time = CNF_df[CNF_df['level_1'] == 'total time']\n",
    "CNF_event_total_time_averages = {}\n",
    "for event in ['acquisition', 'recall', 'novel', 'cagemate']:\n",
    "    avg_event = CNF_event_total_time[event].mean()\n",
    "    CNF_event_total_time_averages[event] = avg_event\n",
    "CNF_event_total_time_averages"
   ]
  }
 ],
 "metadata": {
  "kernelspec": {
   "display_name": "ephys_analysis",
   "language": "python",
   "name": "python3"
  },
  "language_info": {
   "codemirror_mode": {
    "name": "ipython",
    "version": 3
   },
   "file_extension": ".py",
   "mimetype": "text/x-python",
   "name": "python",
   "nbconvert_exporter": "python",
   "pygments_lexer": "ipython3",
   "version": "3.10.9"
  }
 },
 "nbformat": 4,
 "nbformat_minor": 2
}
