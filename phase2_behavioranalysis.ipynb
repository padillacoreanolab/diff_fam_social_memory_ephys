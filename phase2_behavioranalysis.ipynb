{
 "cells": [
  {
   "cell_type": "code",
   "execution_count": 1,
   "metadata": {},
   "outputs": [],
   "source": [
    "import pickle\n",
    "import boris_extraction as boris\n",
    "import multirecording_spikeanalysis as spike\n",
    "import pandas as pd\n",
    "import numpy as np\n",
    "import math\n",
    "import matplotlib.pyplot as plt\n",
    "from scipy.stats import sem\n",
    "from scipy import stats\n",
    "import seaborn as sns\n",
    "import matplotlib.pyplot as plt\n",
    "from scipy.stats import ttest_rel\n",
    "import matplotlib.patches as mpatches\n",
    "from itertools import combinations\n",
    "from scipy.stats import ttest_ind\n",
    "from statsmodels.stats.multitest import multipletests\n",
    "\n",
    "def hex_2_rgb(hex_color): # Orange color\n",
    "    rgb_color = tuple(int(hex_color[i:i+2], 16) / 255.0 for i in (1, 3, 5))\n",
    "    return rgb_color\n",
    "\n",
    "def pickle_this(thing_to_pickle, file_name):\n",
    "    \"\"\"\n",
    "    Pickles things\n",
    "    Args (2):   \n",
    "        thing_to_pickle: anything you want to pickle\n",
    "        file_name: str, filename that ends with .pkl \n",
    "    Returns:\n",
    "        none\n",
    "    \"\"\"\n",
    "    with open(file_name,'wb') as file:\n",
    "        pickle.dump(thing_to_pickle, file)\n",
    "\n",
    "def unpickle_this(pickle_file):\n",
    "    \"\"\"\n",
    "    Unpickles things\n",
    "    Args (1):   \n",
    "        file_name: str, pickle filename that already exists and ends with .pkl\n",
    "    Returns:\n",
    "        pickled item\n",
    "    \"\"\"\n",
    "    with open(pickle_file, 'rb') as file:\n",
    "        return(pickle.load(file))"
   ]
  },
  {
   "cell_type": "markdown",
   "metadata": {},
   "source": [
    "# Load collection and create behavior dataframe "
   ]
  },
  {
   "cell_type": "code",
   "execution_count": 8,
   "metadata": {},
   "outputs": [
    {
     "name": "stdout",
     "output_type": "stream",
     "text": [
      "302\n",
      "864\n"
     ]
    },
    {
     "data": {
      "text/html": [
       "<div>\n",
       "<style scoped>\n",
       "    .dataframe tbody tr th:only-of-type {\n",
       "        vertical-align: middle;\n",
       "    }\n",
       "\n",
       "    .dataframe tbody tr th {\n",
       "        vertical-align: top;\n",
       "    }\n",
       "\n",
       "    .dataframe thead th {\n",
       "        text-align: right;\n",
       "    }\n",
       "</style>\n",
       "<table border=\"1\" class=\"dataframe\">\n",
       "  <thead>\n",
       "    <tr style=\"text-align: right;\">\n",
       "      <th></th>\n",
       "      <th>20230803_101331_1_merged.rec1.1</th>\n",
       "      <th>20230803_121318_1_merged.rec1.4</th>\n",
       "      <th>20230803_141047_1_merged.rec1.2</th>\n",
       "      <th>20230804_121600_1_merged.rec1.4</th>\n",
       "      <th>20230804_141009_1_merged.rec1.2</th>\n",
       "      <th>20230817_100823_1_merged.rec1.1</th>\n",
       "      <th>20230817_113746_1_merged.rec1.2</th>\n",
       "      <th>20230818_115728_1_merged.rec1.1</th>\n",
       "      <th>20230818_133620_1_merged.rec1.4</th>\n",
       "    </tr>\n",
       "  </thead>\n",
       "  <tbody>\n",
       "    <tr>\n",
       "      <th>acquisition</th>\n",
       "      <td>{'no_events': 8, 'avg event': 2.49575, 'total ...</td>\n",
       "      <td>{'no_events': 14, 'avg event': 1.3451428571428...</td>\n",
       "      <td>{'no_events': 34, 'avg event': 2.4406470588235...</td>\n",
       "      <td>{'no_events': 11, 'avg event': 0.4424545454545...</td>\n",
       "      <td>{'no_events': 24, 'avg event': 1.3485416666666...</td>\n",
       "      <td>{'no_events': 54, 'avg event': 2.5987407407407...</td>\n",
       "      <td>{'no_events': 26, 'avg event': 1.8244615384615...</td>\n",
       "      <td>{'no_events': 13, 'avg event': 2.2382307692307...</td>\n",
       "      <td>{'no_events': 13, 'avg event': 1.8333846153846...</td>\n",
       "    </tr>\n",
       "    <tr>\n",
       "      <th>recall</th>\n",
       "      <td>{'no_events': 4, 'avg event': 3.9085, 'total t...</td>\n",
       "      <td>{'no_events': 6, 'avg event': 1.42216666666666...</td>\n",
       "      <td>{'no_events': 13, 'avg event': 3.0614615384615...</td>\n",
       "      <td>{'no_events': 11, 'avg event': 1.6757272727272...</td>\n",
       "      <td>{'no_events': 8, 'avg event': 2.175, 'total ti...</td>\n",
       "      <td>{'no_events': 20, 'avg event': 3.8399499999999...</td>\n",
       "      <td>{'no_events': 7, 'avg event': 3.462, 'total ti...</td>\n",
       "      <td>{'no_events': 8, 'avg event': 3.35, 'total tim...</td>\n",
       "      <td>{'no_events': 6, 'avg event': 1.12233333333333...</td>\n",
       "    </tr>\n",
       "    <tr>\n",
       "      <th>cagemate</th>\n",
       "      <td>{'no_events': 6, 'avg event': 2.87733333333333...</td>\n",
       "      <td>{'no_events': 7, 'avg event': 1.46657142857142...</td>\n",
       "      <td>{'no_events': 10, 'avg event': 5.5931000000000...</td>\n",
       "      <td>{'no_events': 12, 'avg event': 1.54725, 'total...</td>\n",
       "      <td>{'no_events': 12, 'avg event': 2.2305000000000...</td>\n",
       "      <td>{'no_events': 17, 'avg event': 2.9001764705882...</td>\n",
       "      <td>{'no_events': 11, 'avg event': 2.4968181818181...</td>\n",
       "      <td>{'no_events': 2, 'avg event': 1.183, 'total ti...</td>\n",
       "      <td>{'no_events': 11, 'avg event': 2.0940909090909...</td>\n",
       "    </tr>\n",
       "    <tr>\n",
       "      <th>novel</th>\n",
       "      <td>{'no_events': 3, 'avg event': 4.022, 'total ti...</td>\n",
       "      <td>{'no_events': 9, 'avg event': 1.90366666666666...</td>\n",
       "      <td>{'no_events': 9, 'avg event': 3.14088888888888...</td>\n",
       "      <td>{'no_events': 8, 'avg event': 2.625125, 'total...</td>\n",
       "      <td>{'no_events': 13, 'avg event': 1.9177692307692...</td>\n",
       "      <td>{'no_events': 22, 'avg event': 4.3408636363636...</td>\n",
       "      <td>{'no_events': 18, 'avg event': 2.0870555555555...</td>\n",
       "      <td>{'no_events': 7, 'avg event': 3.30928571428571...</td>\n",
       "      <td>{'no_events': 10, 'avg event': 2.7636, 'total ...</td>\n",
       "    </tr>\n",
       "    <tr>\n",
       "      <th>exposure 0</th>\n",
       "      <td>{'no_events': 8, 'avg event': 2.49575, 'total ...</td>\n",
       "      <td>{'no_events': 14, 'avg event': 1.6022857142857...</td>\n",
       "      <td>{'no_events': 34, 'avg event': 3.6220294117647...</td>\n",
       "      <td>{'no_events': 11, 'avg event': 1.0120909090909...</td>\n",
       "      <td>{'no_events': 24, 'avg event': 1.7568333333333...</td>\n",
       "      <td>{'no_events': 54, 'avg event': 3.7709444444444...</td>\n",
       "      <td>{'no_events': 26, 'avg event': 2.3885384615384...</td>\n",
       "      <td>{'no_events': 13, 'avg event': 3.6203076923076...</td>\n",
       "      <td>{'no_events': 13, 'avg event': 2.5127692307692...</td>\n",
       "    </tr>\n",
       "    <tr>\n",
       "      <th>exposure 1</th>\n",
       "      <td>{'no_events': 4, 'avg event': 3.9085, 'total t...</td>\n",
       "      <td>{'no_events': 9, 'avg event': 1.90366666666666...</td>\n",
       "      <td>{'no_events': 10, 'avg event': 5.5931000000000...</td>\n",
       "      <td>{'no_events': 11, 'avg event': 1.6757272727272...</td>\n",
       "      <td>{'no_events': 13, 'avg event': 1.9177692307692...</td>\n",
       "      <td>{'no_events': 17, 'avg event': 2.9001764705882...</td>\n",
       "      <td>{'no_events': 7, 'avg event': 3.462, 'total ti...</td>\n",
       "      <td>{'no_events': 7, 'avg event': 3.30928571428571...</td>\n",
       "      <td>{'no_events': 11, 'avg event': 2.0940909090909...</td>\n",
       "    </tr>\n",
       "    <tr>\n",
       "      <th>exposure 2</th>\n",
       "      <td>{'no_events': 6, 'avg event': 2.87733333333333...</td>\n",
       "      <td>{'no_events': 6, 'avg event': 1.42216666666666...</td>\n",
       "      <td>{'no_events': 9, 'avg event': 3.14088888888888...</td>\n",
       "      <td>{'no_events': 12, 'avg event': 1.54725, 'total...</td>\n",
       "      <td>{'no_events': 8, 'avg event': 2.175, 'total ti...</td>\n",
       "      <td>{'no_events': 22, 'avg event': 4.3408636363636...</td>\n",
       "      <td>{'no_events': 11, 'avg event': 2.4968181818181...</td>\n",
       "      <td>{'no_events': 8, 'avg event': 3.35, 'total tim...</td>\n",
       "      <td>{'no_events': 10, 'avg event': 2.7636, 'total ...</td>\n",
       "    </tr>\n",
       "    <tr>\n",
       "      <th>exposure 3</th>\n",
       "      <td>{'no_events': 3, 'avg event': 4.022, 'total ti...</td>\n",
       "      <td>{'no_events': 7, 'avg event': 1.46657142857142...</td>\n",
       "      <td>{'no_events': 13, 'avg event': 3.0614615384615...</td>\n",
       "      <td>{'no_events': 8, 'avg event': 2.625125, 'total...</td>\n",
       "      <td>{'no_events': 12, 'avg event': 2.2305000000000...</td>\n",
       "      <td>{'no_events': 20, 'avg event': 3.8399499999999...</td>\n",
       "      <td>{'no_events': 18, 'avg event': 2.0870555555555...</td>\n",
       "      <td>{'no_events': 2, 'avg event': 1.183, 'total ti...</td>\n",
       "      <td>{'no_events': 6, 'avg event': 1.12233333333333...</td>\n",
       "    </tr>\n",
       "  </tbody>\n",
       "</table>\n",
       "</div>"
      ],
      "text/plain": [
       "                               20230803_101331_1_merged.rec1.1  \\\n",
       "acquisition  {'no_events': 8, 'avg event': 2.49575, 'total ...   \n",
       "recall       {'no_events': 4, 'avg event': 3.9085, 'total t...   \n",
       "cagemate     {'no_events': 6, 'avg event': 2.87733333333333...   \n",
       "novel        {'no_events': 3, 'avg event': 4.022, 'total ti...   \n",
       "exposure 0   {'no_events': 8, 'avg event': 2.49575, 'total ...   \n",
       "exposure 1   {'no_events': 4, 'avg event': 3.9085, 'total t...   \n",
       "exposure 2   {'no_events': 6, 'avg event': 2.87733333333333...   \n",
       "exposure 3   {'no_events': 3, 'avg event': 4.022, 'total ti...   \n",
       "\n",
       "                               20230803_121318_1_merged.rec1.4  \\\n",
       "acquisition  {'no_events': 14, 'avg event': 1.3451428571428...   \n",
       "recall       {'no_events': 6, 'avg event': 1.42216666666666...   \n",
       "cagemate     {'no_events': 7, 'avg event': 1.46657142857142...   \n",
       "novel        {'no_events': 9, 'avg event': 1.90366666666666...   \n",
       "exposure 0   {'no_events': 14, 'avg event': 1.6022857142857...   \n",
       "exposure 1   {'no_events': 9, 'avg event': 1.90366666666666...   \n",
       "exposure 2   {'no_events': 6, 'avg event': 1.42216666666666...   \n",
       "exposure 3   {'no_events': 7, 'avg event': 1.46657142857142...   \n",
       "\n",
       "                               20230803_141047_1_merged.rec1.2  \\\n",
       "acquisition  {'no_events': 34, 'avg event': 2.4406470588235...   \n",
       "recall       {'no_events': 13, 'avg event': 3.0614615384615...   \n",
       "cagemate     {'no_events': 10, 'avg event': 5.5931000000000...   \n",
       "novel        {'no_events': 9, 'avg event': 3.14088888888888...   \n",
       "exposure 0   {'no_events': 34, 'avg event': 3.6220294117647...   \n",
       "exposure 1   {'no_events': 10, 'avg event': 5.5931000000000...   \n",
       "exposure 2   {'no_events': 9, 'avg event': 3.14088888888888...   \n",
       "exposure 3   {'no_events': 13, 'avg event': 3.0614615384615...   \n",
       "\n",
       "                               20230804_121600_1_merged.rec1.4  \\\n",
       "acquisition  {'no_events': 11, 'avg event': 0.4424545454545...   \n",
       "recall       {'no_events': 11, 'avg event': 1.6757272727272...   \n",
       "cagemate     {'no_events': 12, 'avg event': 1.54725, 'total...   \n",
       "novel        {'no_events': 8, 'avg event': 2.625125, 'total...   \n",
       "exposure 0   {'no_events': 11, 'avg event': 1.0120909090909...   \n",
       "exposure 1   {'no_events': 11, 'avg event': 1.6757272727272...   \n",
       "exposure 2   {'no_events': 12, 'avg event': 1.54725, 'total...   \n",
       "exposure 3   {'no_events': 8, 'avg event': 2.625125, 'total...   \n",
       "\n",
       "                               20230804_141009_1_merged.rec1.2  \\\n",
       "acquisition  {'no_events': 24, 'avg event': 1.3485416666666...   \n",
       "recall       {'no_events': 8, 'avg event': 2.175, 'total ti...   \n",
       "cagemate     {'no_events': 12, 'avg event': 2.2305000000000...   \n",
       "novel        {'no_events': 13, 'avg event': 1.9177692307692...   \n",
       "exposure 0   {'no_events': 24, 'avg event': 1.7568333333333...   \n",
       "exposure 1   {'no_events': 13, 'avg event': 1.9177692307692...   \n",
       "exposure 2   {'no_events': 8, 'avg event': 2.175, 'total ti...   \n",
       "exposure 3   {'no_events': 12, 'avg event': 2.2305000000000...   \n",
       "\n",
       "                               20230817_100823_1_merged.rec1.1  \\\n",
       "acquisition  {'no_events': 54, 'avg event': 2.5987407407407...   \n",
       "recall       {'no_events': 20, 'avg event': 3.8399499999999...   \n",
       "cagemate     {'no_events': 17, 'avg event': 2.9001764705882...   \n",
       "novel        {'no_events': 22, 'avg event': 4.3408636363636...   \n",
       "exposure 0   {'no_events': 54, 'avg event': 3.7709444444444...   \n",
       "exposure 1   {'no_events': 17, 'avg event': 2.9001764705882...   \n",
       "exposure 2   {'no_events': 22, 'avg event': 4.3408636363636...   \n",
       "exposure 3   {'no_events': 20, 'avg event': 3.8399499999999...   \n",
       "\n",
       "                               20230817_113746_1_merged.rec1.2  \\\n",
       "acquisition  {'no_events': 26, 'avg event': 1.8244615384615...   \n",
       "recall       {'no_events': 7, 'avg event': 3.462, 'total ti...   \n",
       "cagemate     {'no_events': 11, 'avg event': 2.4968181818181...   \n",
       "novel        {'no_events': 18, 'avg event': 2.0870555555555...   \n",
       "exposure 0   {'no_events': 26, 'avg event': 2.3885384615384...   \n",
       "exposure 1   {'no_events': 7, 'avg event': 3.462, 'total ti...   \n",
       "exposure 2   {'no_events': 11, 'avg event': 2.4968181818181...   \n",
       "exposure 3   {'no_events': 18, 'avg event': 2.0870555555555...   \n",
       "\n",
       "                               20230818_115728_1_merged.rec1.1  \\\n",
       "acquisition  {'no_events': 13, 'avg event': 2.2382307692307...   \n",
       "recall       {'no_events': 8, 'avg event': 3.35, 'total tim...   \n",
       "cagemate     {'no_events': 2, 'avg event': 1.183, 'total ti...   \n",
       "novel        {'no_events': 7, 'avg event': 3.30928571428571...   \n",
       "exposure 0   {'no_events': 13, 'avg event': 3.6203076923076...   \n",
       "exposure 1   {'no_events': 7, 'avg event': 3.30928571428571...   \n",
       "exposure 2   {'no_events': 8, 'avg event': 3.35, 'total tim...   \n",
       "exposure 3   {'no_events': 2, 'avg event': 1.183, 'total ti...   \n",
       "\n",
       "                               20230818_133620_1_merged.rec1.4  \n",
       "acquisition  {'no_events': 13, 'avg event': 1.8333846153846...  \n",
       "recall       {'no_events': 6, 'avg event': 1.12233333333333...  \n",
       "cagemate     {'no_events': 11, 'avg event': 2.0940909090909...  \n",
       "novel        {'no_events': 10, 'avg event': 2.7636, 'total ...  \n",
       "exposure 0   {'no_events': 13, 'avg event': 2.5127692307692...  \n",
       "exposure 1   {'no_events': 11, 'avg event': 2.0940909090909...  \n",
       "exposure 2   {'no_events': 10, 'avg event': 2.7636, 'total ...  \n",
       "exposure 3   {'no_events': 6, 'avg event': 1.12233333333333...  "
      ]
     },
     "execution_count": 8,
     "metadata": {},
     "output_type": "execute_result"
    }
   ],
   "source": [
    "phase2_collection = unpickle_this('phase2collection.pkl')\n",
    "event_info = {}\n",
    "is_first = True\n",
    "sniff_itis = []\n",
    "total_sniffs = 0\n",
    "for recording_name, recording in phase2_collection.collection.items():\n",
    "    for event, events in recording.event_dict.items():\n",
    "        no_events = events.shape[0]\n",
    "        sniff_length = 0\n",
    "        for i in range(len(events)):\n",
    "            if (event == 'acquisition') and is_first: \n",
    "                first_five_min = events[i][0] + 300000\n",
    "                is_first = False\n",
    "            if event == 'acquisition':\n",
    "               if events[i][0] < first_five_min:\n",
    "                   sniff_length_temp = events[i][1] - events[i][0]\n",
    "                   sniff_length = sniff_length +sniff_length_temp\n",
    "                   total_sniffs = total_sniffs + 1\n",
    "               else:\n",
    "                   pass\n",
    "            else:\n",
    "                sniff_length_temp = events[i][1] - events[i][0]\n",
    "                sniff_length = sniff_length +sniff_length_temp\n",
    "                total_sniffs = total_sniffs + 1\n",
    "            try:\n",
    "                sniff_iti = events[i+1][0] - events[i][1]\n",
    "                sniff_itis.append(sniff_iti)\n",
    "            except IndexError:\n",
    "                pass\n",
    "        total_sniff_time = sniff_length/1000\n",
    "        avg_event = sniff_length/no_events/1000\n",
    "        if (recording_name + recording.subject) in event_info.keys():\n",
    "            dict_event = event_info[recording_name + recording.subject]\n",
    "            dict_event[event] =  {'no_events': no_events, 'avg event': avg_event, 'total time': total_sniff_time}\n",
    "            event_info[recording_name + recording.subject] =  dict_event\n",
    "        else:\n",
    "            event_info[recording_name + recording.subject] = {event: {'no_events': no_events, 'avg event': avg_event,'total time': total_sniff_time }}\n",
    "        \n",
    "event_info_df = pd.DataFrame.from_dict(event_info)\n",
    "sniff_itis = np.array(sniff_itis)/1000\n",
    "sniff_itis \n",
    "overlapping_sniffs = 0 \n",
    "for i in range(len(sniff_itis)):\n",
    "    if sniff_itis[i] < 5:\n",
    "        overlapping_sniffs = overlapping_sniffs + 1\n",
    "print(overlapping_sniffs) # 212 with 5 and 106 with 2 out of 532\n",
    "print(total_sniffs) #after fixing 0 for 2 out of 424, and 107 for less than 5\n",
    "\n"
   ]
  },
  {
   "cell_type": "code",
   "execution_count": 3,
   "metadata": {},
   "outputs": [
    {
     "data": {
      "text/plain": [
       "{'acquisition': 44.412333333333336,\n",
       " 'recall': 26.040666666666667,\n",
       " 'novel': 31.918444444444447,\n",
       " 'cagemate': 25.66255555555558}"
      ]
     },
     "execution_count": 3,
     "metadata": {},
     "output_type": "execute_result"
    }
   ],
   "source": [
    "event_overview = pd.concat({k: pd.DataFrame(v) for k, v in event_info.items()}, axis=0)\n",
    "event_overview = event_overview.reset_index()\n",
    "event_overview['order'] = ['FCN', 'FCN', 'FCN', 'NFC', 'NFC', 'NFC', 'CNF', 'CNF','CNF', \n",
    "                           'FCN', 'FCN', 'FCN', 'NFC', 'NFC','NFC', 'CNF', 'CNF', 'CNF',\n",
    "                            'FCN','FCN', 'FCN', 'NFC', 'NFC','NFC', 'CNF', 'CNF', 'CNF' ]\n",
    "no_events = event_overview[event_overview['level_1'] == 'no_events']\n",
    "FCN_df = event_overview[event_overview['order'] == 'FCN']\n",
    "CNF_df = event_overview[event_overview['order'] == 'CNF']\n",
    "NFC_df = event_overview[event_overview['order'] == 'NFC']\n",
    "\n",
    "event_total_time = event_overview[event_overview['level_1'] == 'total time']\n",
    "event_total_time_averages = {}\n",
    "avg_events = []\n",
    "sem_events = []\n",
    "for event in ['acquisition', 'recall', 'novel', 'cagemate']:\n",
    "    avg_event = event_total_time[event].mean()\n",
    "    sem_event = sem(event_total_time[event])\n",
    "    event_total_time_averages[event] = avg_event\n",
    "    avg_events.append(avg_event)\n",
    "    sem_events.append(sem_event)\n",
    "avg_events = np.array(avg_events)\n",
    "sem_events = np.array(sem_events)\n",
    "event_total_time_averages"
   ]
  },
  {
   "cell_type": "code",
   "execution_count": 10,
   "metadata": {},
   "outputs": [
    {
     "name": "stderr",
     "output_type": "stream",
     "text": [
      "C:\\Users\\megha\\AppData\\Local\\Temp\\ipykernel_12388\\3946453545.py:1: FutureWarning: The default value of numeric_only in DataFrameGroupBy.mean is deprecated. In a future version, numeric_only will default to False. Either specify numeric_only or select only columns which should be valid for the function.\n",
      "  event_overview.groupby('level_1').mean()\n"
     ]
    },
    {
     "data": {
      "text/html": [
       "<div>\n",
       "<style scoped>\n",
       "    .dataframe tbody tr th:only-of-type {\n",
       "        vertical-align: middle;\n",
       "    }\n",
       "\n",
       "    .dataframe tbody tr th {\n",
       "        vertical-align: top;\n",
       "    }\n",
       "\n",
       "    .dataframe thead th {\n",
       "        text-align: right;\n",
       "    }\n",
       "</style>\n",
       "<table border=\"1\" class=\"dataframe\">\n",
       "  <thead>\n",
       "    <tr style=\"text-align: right;\">\n",
       "      <th></th>\n",
       "      <th>acquisition</th>\n",
       "      <th>recall</th>\n",
       "      <th>cagemate</th>\n",
       "      <th>novel</th>\n",
       "      <th>exposure 0</th>\n",
       "      <th>exposure 1</th>\n",
       "      <th>exposure 2</th>\n",
       "      <th>exposure 3</th>\n",
       "    </tr>\n",
       "    <tr>\n",
       "      <th>level_1</th>\n",
       "      <th></th>\n",
       "      <th></th>\n",
       "      <th></th>\n",
       "      <th></th>\n",
       "      <th></th>\n",
       "      <th></th>\n",
       "      <th></th>\n",
       "      <th></th>\n",
       "    </tr>\n",
       "  </thead>\n",
       "  <tbody>\n",
       "    <tr>\n",
       "      <th>avg event</th>\n",
       "      <td>1.840817</td>\n",
       "      <td>2.668571</td>\n",
       "      <td>2.487649</td>\n",
       "      <td>2.901139</td>\n",
       "      <td>2.531283</td>\n",
       "      <td>2.973813</td>\n",
       "      <td>2.679325</td>\n",
       "      <td>2.404222</td>\n",
       "    </tr>\n",
       "    <tr>\n",
       "      <th>no_events</th>\n",
       "      <td>21.888889</td>\n",
       "      <td>9.222222</td>\n",
       "      <td>9.777778</td>\n",
       "      <td>11.000000</td>\n",
       "      <td>21.888889</td>\n",
       "      <td>9.888889</td>\n",
       "      <td>10.222222</td>\n",
       "      <td>9.888889</td>\n",
       "    </tr>\n",
       "    <tr>\n",
       "      <th>total time</th>\n",
       "      <td>44.412333</td>\n",
       "      <td>26.040667</td>\n",
       "      <td>25.662556</td>\n",
       "      <td>31.918444</td>\n",
       "      <td>62.700778</td>\n",
       "      <td>27.977667</td>\n",
       "      <td>29.714667</td>\n",
       "      <td>25.929333</td>\n",
       "    </tr>\n",
       "  </tbody>\n",
       "</table>\n",
       "</div>"
      ],
      "text/plain": [
       "            acquisition     recall   cagemate      novel  exposure 0  \\\n",
       "level_1                                                                \n",
       "avg event      1.840817   2.668571   2.487649   2.901139    2.531283   \n",
       "no_events     21.888889   9.222222   9.777778  11.000000   21.888889   \n",
       "total time    44.412333  26.040667  25.662556  31.918444   62.700778   \n",
       "\n",
       "            exposure 1  exposure 2  exposure 3  \n",
       "level_1                                         \n",
       "avg event     2.973813    2.679325    2.404222  \n",
       "no_events     9.888889   10.222222    9.888889  \n",
       "total time   27.977667   29.714667   25.929333  "
      ]
     },
     "execution_count": 10,
     "metadata": {},
     "output_type": "execute_result"
    }
   ],
   "source": [
    "event_overview.groupby('level_1').mean()\n",
    "\n"
   ]
  },
  {
   "cell_type": "markdown",
   "metadata": {},
   "source": [
    "# Stats"
   ]
  },
  {
   "cell_type": "code",
   "execution_count": 4,
   "metadata": {},
   "outputs": [
    {
     "data": {
      "text/plain": [
       "{('acquisition', 'recall'): [2.3961932116555364, 0.04343399356154932],\n",
       " ('acquisition', 'cagemate'): [1.8662129674139265, 0.09898137456129738],\n",
       " ('acquisition', 'novel'): [1.6503077955305634, 0.1374874058277433],\n",
       " ('recall', 'cagemate'): [0.07207444240623608, 0.9443120028048364],\n",
       " ('recall', 'novel'): [-1.618489443544592, 0.14421782849490083],\n",
       " ('cagemate', 'novel'): [-0.94038803336199, 0.3745417061226748]}"
      ]
     },
     "execution_count": 4,
     "metadata": {},
     "output_type": "execute_result"
    }
   ],
   "source": [
    "event_total_time= event_total_time[['acquisition', 'recall', 'cagemate', 'novel']]\n",
    "results = {}\n",
    "p_values = pd.DataFrame(index=event_total_time.columns, columns=event_total_time.columns)\n",
    "p_value_list = []\n",
    "for pair in combinations(event_total_time.columns, 2):\n",
    "    t_stat, p_value = ttest_rel(event_total_time[pair[0]],event_total_time[pair[1]])\n",
    "    results[pair] = [t_stat, p_value]\n",
    "    p_value_list.append(p_value)\n",
    "            \n",
    "results\n"
   ]
  },
  {
   "cell_type": "code",
   "execution_count": 5,
   "metadata": {},
   "outputs": [
    {
     "data": {
      "text/plain": [
       "(array([False, False, False, False, False, False]),\n",
       " array([0.26060396, 0.59388825, 0.82492443, 1.        , 0.86530697,\n",
       "        1.        ]),\n",
       " 0.008512444610847103,\n",
       " 0.008333333333333333)"
      ]
     },
     "execution_count": 5,
     "metadata": {},
     "output_type": "execute_result"
    }
   ],
   "source": [
    "adjusted_p_values = multipletests(p_value_list, method='bonferroni')\n",
    "adjusted_p_values"
   ]
  },
  {
   "cell_type": "markdown",
   "metadata": {},
   "source": [
    "# Plotting"
   ]
  },
  {
   "cell_type": "code",
   "execution_count": 6,
   "metadata": {},
   "outputs": [],
   "source": [
    "avg_events = avg_events[np.array([0,2,1,3])]\n",
    "\n",
    "sem_events = sem_events[np.array([0,2,1,3])]"
   ]
  },
  {
   "cell_type": "code",
   "execution_count": 7,
   "metadata": {},
   "outputs": [
    {
     "data": {
      "text/plain": [
       "Text(0.5, 1.0, 'Freely moving')"
      ]
     },
     "execution_count": 7,
     "metadata": {},
     "output_type": "execute_result"
    },
    {
     "data": {
      "image/png": "[encoded data removed]",
      "text/plain": [
       "<Figure size 400x300 with 1 Axes>"
      ]
     },
     "metadata": {},
     "output_type": "display_data"
    }
   ],
   "source": [
    "color_id_dict = {'acquisition\\n(exposure 1)': hex_2_rgb('#FFAF00'),\n",
    "                'novel': hex_2_rgb('#15616F'),  \n",
    "                'short-term familiar\\n(exposure 2)': (1.0, 0.6862745098039216, 0.0),\n",
    "                'long-term familiar': hex_2_rgb('#792910')\n",
    "                }\n",
    "hatches = ['//','','','']  \n",
    "plt.figure(figsize= (4,3))           \n",
    "plt.bar(color_id_dict.keys(), avg_events, yerr = sem_events,\n",
    "            color = color_id_dict.values(), hatch = hatches,\n",
    "            edgecolor = ['white', 'black', 'black', 'black', 'black'],\n",
    "            capsize = 5)\n",
    "plt.xticks([],rotation=45)\n",
    "plt.ylabel('Total duration (s)', fontsize = 18)\n",
    "plt.gca().spines['top'].set_visible(False)\n",
    "plt.gca().spines['right'].set_visible(False)\n",
    "plt.xticks(fontsize=14)\n",
    "plt.yticks(fontsize=14)\n",
    "hatches = ['//','','','', '']\n",
    "plt.gca().spines['bottom'].set_linewidth(1)  # X-axis\n",
    "plt.gca().spines['left'].set_linewidth(1) \n",
    "plt.title('Freely moving', fontsize = 20)"
   ]
  },
  {
   "cell_type": "markdown",
   "metadata": {},
   "source": [
    "# Order of exposure EDA"
   ]
  },
  {
   "cell_type": "code",
   "execution_count": 9,
   "metadata": {},
   "outputs": [
    {
     "data": {
      "text/plain": [
       "{'acquisition': 26.245333333333335,\n",
       " 'recall': 20.111333333333334,\n",
       " 'novel': 27.200333333333333,\n",
       " 'cagemate': 21.621}"
      ]
     },
     "execution_count": 9,
     "metadata": {},
     "output_type": "execute_result"
    }
   ],
   "source": [
    "FCN_event_total_time = FCN_df[FCN_df['level_1'] == 'total time']\n",
    "FCN_event_total_time_averages = {}\n",
    "for event in ['acquisition', 'recall', 'novel', 'cagemate']:\n",
    "    avg_event = FCN_event_total_time[event].mean()\n",
    "    FCN_event_total_time_averages[event] = avg_event\n",
    "FCN_event_total_time_averages"
   ]
  },
  {
   "cell_type": "code",
   "execution_count": 10,
   "metadata": {},
   "outputs": [
    {
     "data": {
      "text/plain": [
       "{'acquisition': 29.676000000000002,\n",
       " 'recall': 17.57766666666667,\n",
       " 'novel': 23.921000000000003,\n",
       " 'cagemate': 14.565666666666743}"
      ]
     },
     "execution_count": 10,
     "metadata": {},
     "output_type": "execute_result"
    }
   ],
   "source": [
    "NFC_event_total_time = NFC_df[NFC_df['level_1'] == 'total time']\n",
    "NFC_event_total_time_averages = {}\n",
    "for event in ['acquisition', 'recall', 'novel', 'cagemate']:\n",
    "    avg_event = NFC_event_total_time[event].mean()\n",
    "    NFC_event_total_time_averages[event] = avg_event\n",
    "NFC_event_total_time_averages"
   ]
  },
  {
   "cell_type": "code",
   "execution_count": 11,
   "metadata": {},
   "outputs": [
    {
     "data": {
      "text/plain": [
       "{'acquisition': 89.40500000000002,\n",
       " 'recall': 44.689,\n",
       " 'novel': 52.69,\n",
       " 'cagemate': 44.189666666666675}"
      ]
     },
     "execution_count": 11,
     "metadata": {},
     "output_type": "execute_result"
    }
   ],
   "source": [
    "CNF_event_total_time = CNF_df[CNF_df['level_1'] == 'total time']\n",
    "CNF_event_total_time_averages = {}\n",
    "for event in ['acquisition', 'recall', 'novel', 'cagemate']:\n",
    "    avg_event = CNF_event_total_time[event].mean()\n",
    "    CNF_event_total_time_averages[event] = avg_event\n",
    "CNF_event_total_time_averages"
   ]
  }
 ],
 "metadata": {
  "kernelspec": {
   "display_name": "ephys_analysis",
   "language": "python",
   "name": "python3"
  },
  "language_info": {
   "codemirror_mode": {
    "name": "ipython",
    "version": 3
   },
   "file_extension": ".py",
   "mimetype": "text/x-python",
   "name": "python",
   "nbconvert_exporter": "python",
   "pygments_lexer": "ipython3",
   "version": "3.10.9"
  }
 },
 "nbformat": 4,
 "nbformat_minor": 2
}
