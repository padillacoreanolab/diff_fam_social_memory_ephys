{
 "cells": [
  {
   "cell_type": "code",
   "execution_count": 38,
   "metadata": {},
   "outputs": [],
   "source": [
    "import pandas as pd\n",
    "import numpy as np\n",
    "import random\n",
    "import itertools"
   ]
  },
  {
   "cell_type": "code",
   "execution_count": 33,
   "metadata": {},
   "outputs": [
    {
     "name": "stdout",
     "output_type": "stream",
     "text": [
      "['1.1', '1.2', '1.3', '2.1', '2.2', '2.3', '2.4', '3.1', '3.2', '3.3', '4.1', '4.4']\n"
     ]
    }
   ],
   "source": [
    "subjects = [1.1, 1.2, 1.3, 2.1,2.2, 2.3,2.4,3.1,3.2,3.3,4.1,4.4]\n",
    "str_subjects = []\n",
    "for subject in subjects: \n",
    "    str_subjects.append(str(subject))\n",
    "seen_agent_dict = {'1.1': ['A.2', 'B.1', 'B.2'], '1.2':['B.2', 'A.1'],'1.3':['B.4', 'A.3', 'B.2'],\n",
    "                   '2.1': ['B.1', 'A.2'], '2.2':['A.4', 'B.3'], '2.3': ['A.3', 'B.4'], '2.4': ['B.3', 'A.4'],\n",
    "                   '3.1': ['B.3', 'A.4'], '3.2':['B.2', 'A.1'], '3.3': ['B.3', 'A.4'],\n",
    "                   '4.1': ['A.1', 'B.2'], '4.4':['B.1', 'A.2']}\n",
    "social_agent_list = []\n",
    "for cage in ['A', 'B', 'C', 'D', 'E']:\n",
    "    for i in range(1,5):\n",
    "        social_agent_list.append(cage+'.'+str(i))\n",
    "color_map = {'1': 'orange', '2': 'blue', '3':'green','4':'white'}\n",
    "print(str_subjects)"
   ]
  },
  {
   "cell_type": "code",
   "execution_count": 34,
   "metadata": {},
   "outputs": [
    {
     "name": "stdout",
     "output_type": "stream",
     "text": [
      "1.1\n",
      "1.2\n",
      "1.3\n",
      "2.1\n",
      "2.2\n",
      "2.3\n",
      "2.4\n",
      "3.1\n",
      "3.2\n",
      "3.3\n",
      "4.1\n",
      "4.4\n"
     ]
    }
   ],
   "source": [
    "class Subject:\n",
    "    def __init__(self, subject_id, color_map, seen_agents, agents, subjects):\n",
    "        self.id = subject_id\n",
    "        self.cage = subject_id[0]\n",
    "        cagemates = []\n",
    "        for subject in subjects:\n",
    "            if str(subject)[0] == self.cage:\n",
    "                cagemates.append(str(subject))\n",
    "        if cage == '4':\n",
    "            cagemates.append('4.3')\n",
    "        self.cagemates = set(cagemates)\n",
    "        self.color = color_map[subject_id[2]]\n",
    "        self.used_agents = set(seen_agents)\n",
    "        self.to_use = set(np.setdiff1d(agents, seen_agents))\n",
    "      \n",
    "    def use_agent(self, agent):\n",
    "        self.used_agents.add(agent)\n",
    "        self.to_use.remove(agent)\n",
    "\n",
    "class Social_agent:\n",
    "    def __init__(self, agent_id, color_map):\n",
    "        self.cage = agent_id[0]\n",
    "        self.color = color_map[agent_id[2]]\n",
    "\n",
    "def are_cagemates(mouse1, mouse2):\n",
    "    if mouse1.cage == mouse2.cage:\n",
    "        return True\n",
    "    else:\n",
    "        return False\n",
    "    \n",
    "def are_same_color(mouse1, mouse2):\n",
    "    if mouse1.color == mouse2.color:\n",
    "        return True\n",
    "    else:\n",
    "        return False\n",
    "\n",
    "mice = []\n",
    "subject_list = []\n",
    "for subject in str_subjects:\n",
    "    mice.append(Subject(subject_id = str(subject), color_map = color_map, seen_agents=seen_agent_dict[subject], \n",
    "                agents = social_agent_list, subjects = str_subjects))\n",
    "    subject_list.append(Subject(str(subject), color_map, seen_agent_dict[subject], social_agent_list, subjects))\n",
    "for agent in social_agent_list:\n",
    "    mice.append(Social_agent(agent, color_map))\n",
    "\n",
    "    \n",
    "    "
   ]
  },
  {
   "cell_type": "code",
   "execution_count": 35,
   "metadata": {},
   "outputs": [
    {
     "name": "stdout",
     "output_type": "stream",
     "text": [
      "1.1\n",
      "['A.1' 'A.3' 'A.4' 'B.3' 'B.4' 'C.1' 'C.2' 'C.3' 'C.4' 'D.1' 'D.2' 'D.3'\n",
      " 'D.4' 'E.1' 'E.2' 'E.3' 'E.4']\n"
     ]
    }
   ],
   "source": [
    "class Phase2:\n",
    "    def __init__(self, short_term, novel, subjects):\n",
    "        self.assign_orders(self)\n",
    "        self.order_agent_dict = {'short_term': short_term, 'novel': novel, 'cagemate': []}\n",
    "\n",
    "    def assign_orders(self):\n",
    "        shuffled = random.shuffle(subjects)\n",
    "        self.FCN = set(shuffled[0:4])\n",
    "        for subject in self.FCN:\n",
    "            subject.phase2_order = ['short term', 'cagemate', 'novel']\n",
    "        self.CNF = set(shuffled[4:8])\n",
    "        for subject in self.CNF:\n",
    "            subject.phase2_order = ['cagemate', 'novel', 'short term']\n",
    "        self.NFC = set(shuffled[8:12])\n",
    "        for subject in self.NFC:\n",
    "            subject.phase2_order = ['novel', 'short term', 'cagemate']\n",
    "        self.orders = [self.FCN, self.CNF, self.NFC]\n",
    "    \n",
    "    def make_schedule(self):\n",
    "        pairs = []\n",
    "        for list_a, list_b in itertools.combinations(self.orders, 2):\n",
    "    # Create pairs between the elements of the two lists\n",
    "            for item_a in list_a:\n",
    "                for item_b in list_b:\n",
    "                    pairs.append((item_a, item_b))\n",
    "        data = np.zeros([12,8])\n",
    "        index = []\n",
    "        for i in range(len(pairs)): \n",
    "            subject1 = pairs[i][0]\n",
    "            subject2 = pairs[i][1]\n",
    "            index.append(pairs[i])\n",
    "            subject_dict = self.order_agent_dict\n",
    "            subject_dict['cagemate'] = random.shuffle(subject1.cagemates)[0:2]\n",
    "\n",
    "            data[i*2] = ['day' + i , subject1.phase2_order[0], \n",
    "            data[i*2+1] = ['day' + i , ]\n",
    "\n",
    "\n",
    "            \n",
    "\n",
    "\n",
    "        \n",
    "        "
   ]
  }
 ],
 "metadata": {
  "kernelspec": {
   "display_name": "play",
   "language": "python",
   "name": "python3"
  },
  "language_info": {
   "codemirror_mode": {
    "name": "ipython",
    "version": 3
   },
   "file_extension": ".py",
   "mimetype": "text/x-python",
   "name": "python",
   "nbconvert_exporter": "python",
   "pygments_lexer": "ipython3",
   "version": "3.11.4"
  }
 },
 "nbformat": 4,
 "nbformat_minor": 2
}
