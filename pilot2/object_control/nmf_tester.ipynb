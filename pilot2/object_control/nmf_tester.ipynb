{
 "cells": [
  {
   "cell_type": "code",
   "execution_count": 1,
   "id": "5dc919e9",
   "metadata": {},
   "outputs": [
    {
     "name": "stderr",
     "output_type": "stream",
     "text": [
      "c:\\Users\\megha\\anaconda3\\envs\\ephys_env\\lib\\site-packages\\pandas\\core\\computation\\expressions.py:21: UserWarning: Pandas requires version '2.8.4' or newer of 'numexpr' (version '2.7.3' currently installed).\n",
      "  from pandas.core.computation.check import NUMEXPR_INSTALLED\n",
      "c:\\Users\\megha\\anaconda3\\envs\\ephys_env\\lib\\site-packages\\tqdm\\auto.py:21: TqdmWarning: IProgress not found. Please update jupyter and ipywidgets. See https://ipywidgets.readthedocs.io/en/stable/user_install.html\n",
      "  from .autonotebook import tqdm as notebook_tqdm\n"
     ]
    }
   ],
   "source": [
    "import pandas as pd\n",
    "import numpy as np\n",
    "import lfp.lfp_analysis.LFP_collection as LFP_collection\n",
    "import pickle\n",
    "import matplotlib.pyplot as plt\n",
    "from scipy import stats\n",
    "from matplotlib import cm\n",
    "from matplotlib.ticker import ScalarFormatter\n",
    "import lfp.lfp_analysis.plotting as lfplt\n",
    "from itertools import combinations, permutations\n",
    "from matplotlib.colors import LinearSegmentedColormap\n",
    "import seaborn as sns\n",
    "from lfp.lfp_analysis.LFP_collection import LFPCollection\n",
    "from lfp.lfp_analysis.LFP_recording import LFPRecording\n",
    "from importlib import reload\n",
    "from scipy.signal import find_peaks\n",
    "from sklearn.decomposition import NMF\n",
    "def pickle_this(thing_to_pickle, file_name):\n",
    "    \"\"\"\n",
    "    Pickles things\n",
    "    Args (2):\n",
    "        thing_to_pickle: anything you want to pickle\n",
    "        file_name: str, filename that ends with .pkl\n",
    "    Returns:\n",
    "        none\n",
    "    \"\"\"\n",
    "    with open(file_name, \"wb\") as file:\n",
    "        pickle.dump(thing_to_pickle, file)\n",
    "\n",
    "\n",
    "def unpickle_this(pickle_file):\n",
    "    \"\"\"\n",
    "    Unpickles things\n",
    "    Args (1):\n",
    "        file_name: str, pickle filename that already exists and ends with .pkl\n",
    "    Returns:\n",
    "        pickled item\n",
    "    \"\"\"\n",
    "    with open(pickle_file, \"rb\") as file:\n",
    "        return pickle.load(file)"
   ]
  },
  {
   "cell_type": "code",
   "execution_count": 2,
   "id": "6fc16257",
   "metadata": {},
   "outputs": [],
   "source": [
    "\n",
    "object_control_lfp_json = r\"C:\\Users\\megha\\UFL Dropbox\\Meghan Cum\\Padilla-Coreano Lab\\2024\\Cum_SocialMemEphys_pilot2\\Object_Control (phase 7)\\lfp_data\\lfp_collection.json\"\n",
    "\n",
    "object_collection = LFP_collection.LFPCollection.load_collection(object_control_lfp_json)\n",
    "\n",
    "\n",
    "target_dict = {'1.1': [],\n",
    "              '1.2': [],\n",
    "              '1.3': [],\n",
    "              '2.1': [],\n",
    "              '2.2': ['vHPC'],\n",
    "              '2.3': ['mPFC'],\n",
    "              '2.4': ['MD'],\n",
    "              '3.1': [],\n",
    "              '3.2': [],\n",
    "              '3.3': ['MD'],\n",
    "              '4.1': [],\n",
    "              '4.4': ['NAc']}\n",
    "\n",
    "object_collection.exclude_regions(target_dict)\n",
    "object_collection.interpolate()\n",
    "\n",
    "behavior_dicts = unpickle_this('pilot2/object_control/object_behavior_dicts.pkl')\n",
    "\n",
    "    \n",
    "for recording, behavior_dict in behavior_dicts.items():\n",
    "    filename = recording.split('_')[0]\n",
    "    for recording in object_collection.recordings:\n",
    "        if recording.name.split('_')[0] == filename:\n",
    "            recording.set_event_dict(behavior_dict)"
   ]
  },
  {
   "cell_type": "code",
   "execution_count": 69,
   "id": "9a2865f6",
   "metadata": {},
   "outputs": [
    {
     "name": "stdout",
     "output_type": "stream",
     "text": [
      "(48, 6000)\n"
     ]
    }
   ],
   "source": [
    "# COLUMNS (SAMPLES) X ROWS (FEATURES) MATRIX\n",
    "\n",
    "# samples = average sniffs at all times points same way i make a pca plot ...  \n",
    "# features are all granger and power and coherences across all freq \n",
    "import lfp.lfp_analysis.event_extraction as ee\n",
    "from importlib import reload\n",
    "reload(ee)\n",
    "events = ['novel object', 'familiar object', 'novel mouse', 'familiar mouse']\n",
    "all_events = []\n",
    "for recording in object_collection.recordings:\n",
    "    rec_events = []\n",
    "    for event in events:\n",
    "        is_first = True\n",
    "        for mode in ['power', 'coherence', 'granger']:\n",
    "            rec_data = ee.get_events(recording, event,\n",
    "                                        mode = mode,\n",
    "                                        event_len = 5,\n",
    "                                        pre_window = 1,\n",
    "                                        post_window = 0,\n",
    "                                        average = False)\n",
    "            \n",
    "            #rec_shape = [e,t,f,b,b]\n",
    "            rec_average = np.nanmean(np.array(rec_data)[:,:,0:100,...], axis = 0)\n",
    "            #rec_shape = [t,f,b]\n",
    "            rec_data_2d = rec_average.reshape(rec_average.shape[0], -1)\n",
    "            if is_first:\n",
    "                rec_all_data = rec_data_2d \n",
    "                is_first = False\n",
    "            if not is_first:\n",
    "                rec_all_data = np.concatenate((rec_all_data, rec_data_2d), axis = 1)\n",
    "        rec_events.append(rec_all_data)\n",
    "    rec_events = np.vstack(rec_events)\n",
    "    all_events.append(rec_events)\n",
    "all_events = np.mean(np.array(all_events), axis = 0)\n",
    "\n",
    "\n",
    "\n",
    "        \n",
    "print(all_events.shape)    \n",
    "X = all_events"
   ]
  },
  {
   "cell_type": "code",
   "execution_count": 70,
   "id": "f1867180",
   "metadata": {},
   "outputs": [
    {
     "name": "stderr",
     "output_type": "stream",
     "text": [
      "c:\\Users\\megha\\anaconda3\\envs\\ephys_env\\lib\\site-packages\\sklearn\\decomposition\\_nmf.py:1742: ConvergenceWarning: Maximum number of iterations 200 reached. Increase it to improve convergence.\n",
      "  warnings.warn(\n"
     ]
    }
   ],
   "source": [
    "model = NMF(n_components=2, init='random', random_state=0)\n",
    "W = model.fit_transform(X)\n",
    "H = model.components_\n",
    "\n"
   ]
  },
  {
   "cell_type": "code",
   "execution_count": 71,
   "id": "5f98f90c",
   "metadata": {},
   "outputs": [
    {
     "name": "stdout",
     "output_type": "stream",
     "text": [
      "(48, 2)\n"
     ]
    }
   ],
   "source": [
    "print(W.shape)"
   ]
  },
  {
   "cell_type": "code",
   "execution_count": null,
   "id": "85d894e6",
   "metadata": {},
   "outputs": [
    {
     "ename": "NameError",
     "evalue": "name 'H' is not defined",
     "output_type": "error",
     "traceback": [
      "\u001b[1;31m---------------------------------------------------------------------------\u001b[0m",
      "\u001b[1;31mNameError\u001b[0m                                 Traceback (most recent call last)",
      "Cell \u001b[1;32mIn[1], line 1\u001b[0m\n\u001b[1;32m----> 1\u001b[0m \u001b[43mH\u001b[49m\u001b[38;5;241m.\u001b[39mshape\n",
      "\u001b[1;31mNameError\u001b[0m: name 'H' is not defined"
     ]
    }
   ],
   "source": []
  },
  {
   "cell_type": "code",
   "execution_count": 72,
   "id": "0262cbca",
   "metadata": {},
   "outputs": [],
   "source": [
    "events = ['novel object', 'familiar object', 'novel mouse', 'familiar mouse']"
   ]
  },
  {
   "cell_type": "code",
   "execution_count": 73,
   "id": "4648ef45",
   "metadata": {},
   "outputs": [],
   "source": [
    "nmf_key = [events[0]]* 12 + [events[1]] * 12 + [events[2]] * 12 + [events[3]] * 12\n",
    "nmf_matrix = W\n",
    "event_length = 5\n",
    "pre_window = 1"
   ]
  },
  {
   "cell_type": "code",
   "execution_count": 85,
   "id": "db01bcd1",
   "metadata": {},
   "outputs": [],
   "source": [
    "def NMF_EDA_plot(lfp_collection, nmf_matrix, nmf_key, event_length, pre_window, post_window, min_events):\n",
    "    \"\"\"\n",
    "    Plots nmf trajectories calculated in nmf_trajectories using the same\n",
    "    pre window, post window, and event_length parameters. Each event type is\n",
    "    a different color. Preevent start is signified by a square, onset of behavior\n",
    "    signified by a triangle, and the end of the event is signified by a circle.\n",
    "    If post-event time is included that end of post event time is signified by a diamond.\n",
    "\n",
    "    Plots individual trial nmf trajectories with each event type in a different color.\n",
    "    All trials for the same event share the same color with transparency.\n",
    "\n",
    "    Args:\n",
    "        lfp_collection:lfpeCollection object containing recording data\n",
    "        nmf_matrix: Matrix of nmf transformed data\n",
    "        nmf_key: List of event labels for each point\n",
    "        event_length: Length of event in seconds\n",
    "        pre_window: Time before event in seconds\n",
    "        post_window: Time after event in seconds\n",
    "        alpha: Transparency level for trial trajectories (default=0.3)\n",
    "        marker_size: Size of trajectory points (default=3)\n",
    "        highlight_markers: Whether to show event markers (default=True)\n",
    "    \"\"\"\n",
    "    conv_factor = lfp_collection.recordings[0].timestep\n",
    "    timebins_per_trial = int((event_length + pre_window + post_window) / conv_factor)\n",
    "    event_end = int((event_length + pre_window) * conv_factor)\n",
    "    pre_window = pre_window * conv_factor\n",
    "    post_window = post_window * conv_factor\n",
    "    alpha = 0.5\n",
    "    marker_size = 5\n",
    "    highlight_markers = True\n",
    "    # Get unique events and assign colors\n",
    "    unique_events = list(set(nmf_key))\n",
    "    colors = plt.cm.tab10(np.linspace(0, 1, len(unique_events)))\n",
    "    color_dict = dict(zip(unique_events, colors))\n",
    "    # Plot each trial\n",
    "    for i in range(0, len(nmf_key), timebins_per_trial):\n",
    "        event_label = nmf_key[i]\n",
    "        color = color_dict[event_label]\n",
    "\n",
    "        # Calculate marker positions for this trial\n",
    "        onset = int(i + pre_window - 1)\n",
    "        end = int(i + event_end - 1)\n",
    "        post = int(i + timebins_per_trial - 1)\n",
    "\n",
    "        # Plot trajectory\n",
    "        plt.plot(\n",
    "            nmf_matrix[i : i + timebins_per_trial, 0],\n",
    "            nmf_matrix[i : i + timebins_per_trial, 1],\n",
    "            color=color,\n",
    "            alpha=alpha,\n",
    "            linewidth=0.5,\n",
    "        )\n",
    "\n",
    "        plt.scatter(\n",
    "            nmf_matrix[i : i + timebins_per_trial, 0],\n",
    "            nmf_matrix[i : i + timebins_per_trial, 1],\n",
    "            s=marker_size,\n",
    "            color=color,\n",
    "            alpha=alpha,\n",
    "        )\n",
    "\n",
    "        # Add event markers if requested\n",
    "        if highlight_markers:\n",
    "            marker_kwargs = dict(s=30, alpha=1, edgecolors=color, facecolors=\"none\")\n",
    "\n",
    "            # Start marker\n",
    "            if pre_window != 0:\n",
    "                plt.scatter(nmf_matrix[i, 0], nmf_matrix[i, 1], marker=\"s\", color = color, **marker_kwargs)\n",
    "\n",
    "            # Event onset marker\n",
    "            plt.scatter(nmf_matrix[onset, 0], nmf_matrix[onset, 1], marker=\"^\", color = color, **marker_kwargs)\n",
    "\n",
    "            # Event end marker\n",
    "            plt.scatter(nmf_matrix[end, 0], nmf_matrix[end, 1], marker=\"o\", color= color, **marker_kwargs)\n",
    "\n",
    "            # Post-event marker if applicable\n",
    "            if post_window != 0:\n",
    "                plt.scatter(nmf_matrix[post, 0], nmf_matrix[post, 1], marker=\"D\", color=color, **marker_kwargs)\n",
    "\n",
    "    # Add legend with one entry per event type\n",
    "    handles = [\n",
    "        plt.Line2D([0], [0], color=color_dict[event], label=event, alpha=0.8, marker=\"o\", markersize=5)\n",
    "        for event in unique_events\n",
    "    ]\n",
    "    plt.legend(handles=handles, loc=\"upper left\", bbox_to_anchor=(1, 1))\n",
    "\n",
    "    # Set title based on whether post-window exists\n",
    "    post_win_text = \"\"\n",
    "    pre_win_text = \"\"\n",
    "    if post_window != 0:\n",
    "        post_win_text = \", Post = ◇\"\n",
    "    if pre_window != 0:\n",
    "        pre_win_text = \"Pre-event = □, \"\n",
    "    title = pre_win_text + \"Onset = △, End = ○\" + post_win_text\n",
    "    plt.title(title)\n",
    "\n",
    "    plt.xlabel(\"PC1\")\n",
    "    plt.ylabel(\"PC2\")\n",
    "    plt.tight_layout()\n",
    "    plt.show()"
   ]
  },
  {
   "cell_type": "code",
   "execution_count": 86,
   "id": "c11b5579",
   "metadata": {},
   "outputs": [
    {
     "data": {
      "image/png": "[encoded data removed]",
      "text/plain": [
       "<Figure size 640x480 with 1 Axes>"
      ]
     },
     "metadata": {},
     "output_type": "display_data"
    }
   ],
   "source": [
    "NMF_EDA_plot(object_collection, nmf_matrix, nmf_key, event_length, pre_window,0,0)"
   ]
  },
  {
   "cell_type": "code",
   "execution_count": null,
   "id": "b115259b",
   "metadata": {},
   "outputs": [],
   "source": []
  }
 ],
 "metadata": {
  "kernelspec": {
   "display_name": "ephys_env",
   "language": "python",
   "name": "python3"
  },
  "language_info": {
   "codemirror_mode": {
    "name": "ipython",
    "version": 3
   },
   "file_extension": ".py",
   "mimetype": "text/x-python",
   "name": "python",
   "nbconvert_exporter": "python",
   "pygments_lexer": "ipython3",
   "version": "3.10.9"
  }
 },
 "nbformat": 4,
 "nbformat_minor": 5
}
