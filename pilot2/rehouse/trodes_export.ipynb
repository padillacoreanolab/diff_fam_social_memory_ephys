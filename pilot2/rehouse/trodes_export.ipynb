{
 "cells": [
  {
   "cell_type": "code",
   "execution_count": 2,
   "id": "68ab1710",
   "metadata": {},
   "outputs": [],
   "source": [
    "import lfp.trodes.read_exported as trodes\n"
   ]
  },
  {
   "cell_type": "code",
   "execution_count": 4,
   "id": "8661bd48",
   "metadata": {},
   "outputs": [
    {
     "name": "stdout",
     "output_type": "stream",
     "text": [
      "1 out of 16 files extracted\n",
      "2 out of 16 files extracted\n",
      "3 out of 16 files extracted\n",
      "4 out of 16 files extracted\n",
      "5 out of 16 files extracted\n",
      "6 out of 16 files extracted\n",
      "7 out of 16 files extracted\n",
      "8 out of 16 files extracted\n",
      "9 out of 16 files extracted\n",
      "10 out of 16 files extracted\n",
      "11 out of 16 files extracted\n",
      "12 out of 16 files extracted\n",
      "13 out of 16 files extracted\n",
      "14 out of 16 files extracted\n",
      "15 out of 16 files extracted\n",
      "16 out of 16 files extracted\n"
     ]
    }
   ],
   "source": [
    "trodes_directory = r\"C:\\Users\\megha\\Downloads\\Trodes_2-5-2_Windows64\\Trodes_2-5-2_Windows64\"\n",
    "data = r\"C:\\Users\\megha\\UFL Dropbox\\Meghan Cum\\Padilla-Coreano Lab\\2024\\Cum_SocialMemEphys_pilot2\\Rehouse (phase 6)\\data\" \n",
    "\n",
    "trodes.trodes_extract(trodes_directory=trodes_directory, data= data, mode = \"-raw -time\")"
   ]
  },
  {
   "cell_type": "code",
   "execution_count": null,
   "id": "34c55eb7",
   "metadata": {},
   "outputs": [],
   "source": []
  }
 ],
 "metadata": {
  "kernelspec": {
   "display_name": "ephys_env",
   "language": "python",
   "name": "python3"
  },
  "language_info": {
   "codemirror_mode": {
    "name": "ipython",
    "version": 3
   },
   "file_extension": ".py",
   "mimetype": "text/x-python",
   "name": "python",
   "nbconvert_exporter": "python",
   "pygments_lexer": "ipython3",
   "version": "3.10.9"
  }
 },
 "nbformat": 4,
 "nbformat_minor": 5
}
