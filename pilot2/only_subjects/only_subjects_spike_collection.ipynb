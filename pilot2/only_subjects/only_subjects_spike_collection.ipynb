{
 "cells": [
  {
   "cell_type": "code",
   "execution_count": 2,
   "id": "297f9137-669f-4d34-ac98-c7f639b082d5",
   "metadata": {
    "tags": []
   },
   "outputs": [
    {
     "data": {
      "text/plain": [
       "'/blue/npadillacoreano/mcum/SocialMemEphys/diff_fam_social_memory_ephys/pilot2/only_subjects'"
      ]
     },
     "execution_count": 2,
     "metadata": {},
     "output_type": "execute_result"
    }
   ],
   "source": [
    "%pwd\n"
   ]
  },
  {
   "cell_type": "code",
   "execution_count": 3,
   "id": "b0ad9e4f-a2ac-470b-9dfc-3a1c964a66c7",
   "metadata": {
    "tags": []
   },
   "outputs": [],
   "source": [
    "import os\n",
    "os.chdir('/blue/npadillacoreano/mcum/SocialMemEphys/diff_fam_social_memory_ephys')\n",
    "\n",
    "\n",
    "\n",
    "import numpy as np\n",
    "import pandas as pd\n",
    "import glob\n",
    "from pathlib import Path\n",
    "import matplotlib.pyplot as plt\n",
    "from scipy import stats\n",
    "import os\n",
    "from scipy.stats import sem\n",
    "from matplotlib.lines import Line2D\n",
    "import sys\n",
    "import pickle\n",
    "import spike.spike_analysis.firing_rate_calculations as fr\n",
    "import spike.spike_analysis.spike_collection as collection\n",
    "import spike.spike_analysis.spike_recording as recording\n",
    "\n",
    "import spike.spike_analysis.pca_trajectories as pca_trajectories\n",
    "import pickle"
   ]
  },
  {
   "cell_type": "code",
   "execution_count": 12,
   "id": "d12ef81f-5cc3-4644-acbb-32c09e9865ad",
   "metadata": {
    "tags": []
   },
   "outputs": [
    {
     "name": "stdout",
     "output_type": "stream",
     "text": [
      "loading  24_NFC_merged.rec\n",
      "loading  13_NCF_merged.rec\n",
      "loading  31_NFC_merged.rec\n",
      "31_NFC_merged.rec has no good units\n",
      "and will not be included in the collection\n",
      "loading  22_FCN_merged.rec\n",
      "loading  21_NCF_merged.rec\n",
      "loading  41_FCN_merged.rec\n",
      "loading  21_FCN_merged.rec\n",
      "loading  23_NFC_merged.rec\n",
      "loading  24_CNF_merged.rec\n",
      "loading  44_FCN_merged.rec\n",
      "loading  22_NCF_merged.rec\n",
      "loading  32_NFC_merged.rec\n",
      "loading  11_NCF_merged.rec\n",
      "loading  23_CNF_merged.rec\n",
      "loading  11_CNF_merged.rec\n",
      "loading  12_CNF_merged.rec\n",
      "Please assign event dictionaries to each recording\n",
      "as recording.event_dict\n",
      "event_dict = {event name(str): np.array[[start(ms), stop(ms)]...]\n",
      "Please assign subjects to each recording as recording.subject\n"
     ]
    }
   ],
   "source": [
    "only_subject_collection = collection.SpikeCollection(r'./data/only_subjects_spike_data')"
   ]
  },
  {
   "cell_type": "code",
   "execution_count": 13,
   "id": "ba749dc9-3e7e-4db4-afee-e115c95866e6",
   "metadata": {
    "tags": []
   },
   "outputs": [],
   "source": [
    "def pickle_this(thing_to_pickle, file_name):\n",
    "    \"\"\"\n",
    "    Pickles things\n",
    "    Args (2):   \n",
    "        thing_to_pickle: anything you want to pickle\n",
    "        file_name: str, filename that ends with .pkl \n",
    "    Returns:\n",
    "        none\n",
    "    \"\"\"\n",
    "    with open(file_name,'wb') as file:\n",
    "        pickle.dump(thing_to_pickle, file)\n",
    "\n",
    "pickle_this(only_subject_collection, 'only_subject_collection.pkl')"
   ]
  },
  {
   "cell_type": "code",
   "execution_count": null,
   "id": "fd4d68f8-6946-49f1-a1d6-86e4305360b2",
   "metadata": {},
   "outputs": [],
   "source": []
  }
 ],
 "metadata": {
  "kernelspec": {
   "display_name": "lfp_env",
   "language": "python",
   "name": "lfp_env"
  },
  "language_info": {
   "codemirror_mode": {
    "name": "ipython",
    "version": 3
   },
   "file_extension": ".py",
   "mimetype": "text/x-python",
   "name": "python",
   "nbconvert_exporter": "python",
   "pygments_lexer": "ipython3",
   "version": "3.11.8"
  }
 },
 "nbformat": 4,
 "nbformat_minor": 5
}
