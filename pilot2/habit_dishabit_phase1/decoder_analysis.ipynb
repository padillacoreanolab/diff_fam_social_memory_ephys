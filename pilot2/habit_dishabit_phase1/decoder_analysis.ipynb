{
 "cells": [
  {
   "cell_type": "code",
   "execution_count": 1,
   "metadata": {},
   "outputs": [],
   "source": [
    "import spike.spike_analysis.decoders as decoder\n",
    "import spike.spike_analysis.pca_trajectories as pca_t\n",
    "import pickle\n",
    "import numpy as np\n",
    "from importlib import reload\n",
    "reload(pca_t)\n",
    "reload(decoder)\n",
    "def hex_2_rgb(hex_color): # Orange color\n",
    "    rgb_color = tuple(int(hex_color[i:i+2], 16) / 255.0 for i in (1, 3, 5))\n",
    "    return rgb_color\n",
    "\n",
    "def pickle_this(thing_to_pickle, file_name):\n",
    "    \"\"\"\n",
    "    Pickles things\n",
    "    Args (2):   \n",
    "        thing_to_pickle: anything you want to pickle\n",
    "        file_name: str, filename that ends with .pkl \n",
    "    Returns:\n",
    "        none\n",
    "    \"\"\"\n",
    "    with open(file_name,'wb') as file:\n",
    "        pickle.dump(thing_to_pickle, file)\n",
    "\n",
    "def unpickle_this(pickle_file):\n",
    "    \"\"\"\n",
    "    Unpickles things\n",
    "    Args (1):   \n",
    "        file_name: str, pickle filename that already exists and ends with .pkl\n",
    "    Returns:\n",
    "        pickled item\n",
    "    \"\"\"\n",
    "    with open(pickle_file, 'rb') as file:\n",
    "        return(pickle.load(file))\n"
   ]
  },
  {
   "cell_type": "code",
   "execution_count": 34,
   "metadata": {},
   "outputs": [
    {
     "name": "stdout",
     "output_type": "stream",
     "text": [
      "All set to analyze\n",
      "All set to analyze\n"
     ]
    }
   ],
   "source": [
    "cagemate_collection = unpickle_this('cagemate_collection.pkl')\n",
    "novel_collection = unpickle_this('novel_collection.pkl')\n",
    "\n",
    "cagemate_collection.analyze(timebin = 50, ignore_freq=0.5)\n",
    "novel_collection.analyze(timebin = 50, ignore_freq=0.5)"
   ]
  },
  {
   "cell_type": "code",
   "execution_count": 48,
   "metadata": {},
   "outputs": [
    {
     "data": {
      "text/plain": [
       "'c:\\\\Users\\\\megha\\\\Documents\\\\GitHub\\\\diff_fam_social_memory_ephys'"
      ]
     },
     "execution_count": 48,
     "metadata": {},
     "output_type": "execute_result"
    }
   ],
   "source": [
    "%pwd"
   ]
  },
  {
   "cell_type": "code",
   "execution_count": 35,
   "metadata": {},
   "outputs": [
    {
     "data": {
      "text/plain": [
       "dict_keys(['baseline', 'exp1', 'exp2', 'exp3', 'exp4', 'exp5'])"
      ]
     },
     "execution_count": 35,
     "metadata": {},
     "output_type": "execute_result"
    }
   ],
   "source": [
    "cagemate_collection.collection[0].event_dict.keys()"
   ]
  },
  {
   "cell_type": "code",
   "execution_count": 36,
   "metadata": {},
   "outputs": [],
   "source": [
    "pre_window = 1\n",
    "event_length = 3\n",
    "num_folds = 5\n",
    "min_neurons = 5\n",
    "\n",
    "cagemate_results_1v4 = decoder.trial_decoder(cagemate_collection, num_folds, 35, events = ['exp1', 'exp4'], event_length = event_length, pre_window = pre_window, min_neurons=min_neurons)\n",
    "cagemate_results_1v5 = decoder.trial_decoder(cagemate_collection, num_folds, 34, events = ['exp1', 'exp5'], event_length = event_length, pre_window = pre_window, min_neurons=min_neurons)\n",
    "cagemate_results_4v5 = decoder.trial_decoder(cagemate_collection, num_folds, 35, events = ['exp4', 'exp5'], event_length = event_length, pre_window = pre_window, min_neurons=min_neurons)\n",
    "\n",
    "novel_results_1v4 = decoder.trial_decoder(novel_collection, num_folds, 35, events = ['exp1', 'exp4'], event_length = event_length, pre_window = pre_window, min_neurons=min_neurons)\n",
    "novel_results_1v5 = decoder.trial_decoder(novel_collection, num_folds, 33, events = ['exp1', 'exp5'], event_length = event_length, pre_window = pre_window, min_neurons=min_neurons)\n",
    "novel_results_4v5 = decoder.trial_decoder(novel_collection, num_folds, 45, events = ['exp4', 'exp5'], event_length = event_length, pre_window = pre_window, min_neurons=min_neurons)\n"
   ]
  },
  {
   "cell_type": "code",
   "execution_count": 41,
   "metadata": {},
   "outputs": [
    {
     "name": "stdout",
     "output_type": "stream",
     "text": [
      "PCA Result with:\n",
      "Events: exp1, exp5\n",
      "Timebins per event: 80.0\n",
      "Total neurons: 131\n",
      "Number of recordings: 9\n",
      "Number of Pcs needed to explain 90% of variance 34\n",
      "\n",
      "PCA Result with:\n",
      "Events: exp1, exp4\n",
      "Timebins per event: 80.0\n",
      "Total neurons: 131\n",
      "Number of recordings: 9\n",
      "Number of Pcs needed to explain 90% of variance 35\n",
      "\n",
      "PCA Result with:\n",
      "Events: exp4, exp5\n",
      "Timebins per event: 80.0\n",
      "Total neurons: 131\n",
      "Number of recordings: 9\n",
      "Number of Pcs needed to explain 90% of variance 35\n"
     ]
    }
   ],
   "source": [
    "\n",
    "pc_result_15 = pca_t.avg_trajectories_pca(cagemate_collection, event_length = event_length, pre_window = pre_window, events = ['exp1', 'exp5'], min_neurons = min_neurons, plot = False)\n",
    "print(pc_result_15)\n",
    "pc_result_14 = pca_t.avg_trajectories_pca(cagemate_collection, event_length = event_length, pre_window = pre_window, events = ['exp1', 'exp4'], min_neurons = min_neurons, plot = False)\n",
    "print(\"\")\n",
    "print(pc_result_14)\n",
    "pc_result_45 = pca_t.avg_trajectories_pca(cagemate_collection, event_length = event_length, pre_window = pre_window, events = ['exp4', 'exp5'], min_neurons = min_neurons, plot = False)\n",
    "print(\"\")\n",
    "print(pc_result_45)"
   ]
  },
  {
   "cell_type": "code",
   "execution_count": 42,
   "metadata": {},
   "outputs": [
    {
     "name": "stdout",
     "output_type": "stream",
     "text": [
      "PCA Result with:\n",
      "Events: exp1, exp5\n",
      "Timebins per event: 80.0\n",
      "Total neurons: 130\n",
      "Number of recordings: 9\n",
      "Number of Pcs needed to explain 90% of variance 33\n",
      "\n",
      "PCA Result with:\n",
      "Events: exp1, exp4\n",
      "Timebins per event: 80.0\n",
      "Total neurons: 130\n",
      "Number of recordings: 9\n",
      "Number of Pcs needed to explain 90% of variance 35\n",
      "\n",
      "PCA Result with:\n",
      "Events: exp4, exp5\n",
      "Timebins per event: 80.0\n",
      "Total neurons: 130\n",
      "Number of recordings: 9\n",
      "Number of Pcs needed to explain 90% of variance 45\n"
     ]
    }
   ],
   "source": [
    "\n",
    "pc_result_15 = pca_t.avg_trajectories_pca(novel_collection, event_length = event_length, pre_window = pre_window, events = ['exp1', 'exp5'], min_neurons = min_neurons, plot = False)\n",
    "print(pc_result_15)\n",
    "pc_result_14 = pca_t.avg_trajectories_pca(novel_collection, event_length = event_length, pre_window = pre_window, events = ['exp1', 'exp4'], min_neurons = min_neurons, plot = False)\n",
    "print(\"\")\n",
    "print(pc_result_14)\n",
    "pc_result_45 = pca_t.avg_trajectories_pca(novel_collection, event_length = event_length, pre_window = pre_window, events = ['exp4', 'exp5'], min_neurons = min_neurons, plot = False)\n",
    "print(\"\")\n",
    "print(pc_result_45)"
   ]
  },
  {
   "cell_type": "code",
   "execution_count": 4,
   "metadata": {},
   "outputs": [
    {
     "name": "stderr",
     "output_type": "stream",
     "text": [
      "c:\\Users\\megha\\anaconda3\\envs\\lfp_env\\lib\\site-packages\\sklearn\\base.py:380: InconsistentVersionWarning: Trying to unpickle estimator DecisionTreeClassifier from version 1.5.0 when using version 1.6.1. This might lead to breaking code or invalid results. Use at your own risk. For more info please refer to:\n",
      "https://scikit-learn.org/stable/model_persistence.html#security-maintainability-limitations\n",
      "  warnings.warn(\n",
      "c:\\Users\\megha\\anaconda3\\envs\\lfp_env\\lib\\site-packages\\sklearn\\base.py:380: InconsistentVersionWarning: Trying to unpickle estimator BaggingClassifier from version 1.5.0 when using version 1.6.1. This might lead to breaking code or invalid results. Use at your own risk. For more info please refer to:\n",
      "https://scikit-learn.org/stable/model_persistence.html#security-maintainability-limitations\n",
      "  warnings.warn(\n"
     ]
    },
    {
     "data": {
      "image/png": "[encoded data removed]",
      "text/plain": [
       "<Figure size 800x400 with 1 Axes>"
      ]
     },
     "metadata": {},
     "output_type": "display_data"
    }
   ],
   "source": [
    "\n",
    "novel_results_1v4 = unpickle_this(r'pilot2\\habit_dishabit_phase1\\outputs\\novel_results_1v4.pkl')\n",
    "novel_results_1v4.plot_average()\n"
   ]
  },
  {
   "cell_type": "code",
   "execution_count": null,
   "metadata": {},
   "outputs": [],
   "source": []
  }
 ],
 "metadata": {
  "kernelspec": {
   "display_name": "lfp_env",
   "language": "python",
   "name": "python3"
  },
  "language_info": {
   "codemirror_mode": {
    "name": "ipython",
    "version": 3
   },
   "file_extension": ".py",
   "mimetype": "text/x-python",
   "name": "python",
   "nbconvert_exporter": "python",
   "pygments_lexer": "ipython3",
   "version": "3.10.9"
  }
 },
 "nbformat": 4,
 "nbformat_minor": 2
}
