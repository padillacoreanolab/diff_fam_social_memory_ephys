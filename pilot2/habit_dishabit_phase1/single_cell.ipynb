{
 "cells": [
  {
   "cell_type": "code",
   "execution_count": 65,
   "metadata": {},
   "outputs": [],
   "source": [
    "import pickle\n",
    "import sys\n",
    "import spike.spike_analysis.wilcoxon as wilcox\n",
    "import pandas as pd\n",
    "import numpy as np\n",
    "import math\n",
    "import matplotlib.pyplot as plt\n",
    "from scipy.stats import sem\n",
    "from scipy import stats\n",
    "import seaborn as sns\n",
    "import matplotlib.pyplot as plt\n",
    "from scipy.stats import ttest_rel\n",
    "import matplotlib.patches as mpatches\n",
    "from itertools import combinations\n",
    "import importlib\n",
    "import spike.spike_analysis.spike_recording as rec\n",
    "import plotly.graph_objects as go\n",
    "def hex_2_rgb(hex_color): # Orange color\n",
    "    rgb_color = tuple(int(hex_color[i:i+2], 16) / 255.0 for i in (1, 3, 5))\n",
    "    return rgb_color\n",
    "\n",
    "def pickle_this(thing_to_pickle, file_name):\n",
    "    \"\"\"\n",
    "    Pickles things\n",
    "    Args (2):   \n",
    "        thing_to_pickle: anything you want to pickle\n",
    "        file_name: str, filename that ends with .pkl \n",
    "    Returns:\n",
    "        none\n",
    "    \"\"\"\n",
    "    with open(file_name,'wb') as file:\n",
    "        pickle.dump(thing_to_pickle, file)\n",
    "\n",
    "def unpickle_this(pickle_file):\n",
    "    \"\"\"\n",
    "    Unpickles things\n",
    "    Args (1):   \n",
    "        file_name: str, pickle filename that already exists and ends with .pkl\n",
    "    Returns:\n",
    "        pickled item\n",
    "    \"\"\"\n",
    "    with open(pickle_file, 'rb') as file:\n",
    "        return(pickle.load(file))\n",
    "    \n"
   ]
  },
  {
   "cell_type": "code",
   "execution_count": 2,
   "metadata": {},
   "outputs": [
    {
     "name": "stdout",
     "output_type": "stream",
     "text": [
      "All set to analyze\n"
     ]
    },
    {
     "ename": "KeyboardInterrupt",
     "evalue": "",
     "output_type": "error",
     "traceback": [
      "\u001b[1;31m---------------------------------------------------------------------------\u001b[0m",
      "\u001b[1;31mKeyboardInterrupt\u001b[0m                         Traceback (most recent call last)",
      "Cell \u001b[1;32mIn[2], line 4\u001b[0m\n\u001b[0;32m      2\u001b[0m cagemate_collection \u001b[38;5;241m=\u001b[39m unpickle_this(\u001b[38;5;124m'\u001b[39m\u001b[38;5;124mcagemate_collection.pkl\u001b[39m\u001b[38;5;124m'\u001b[39m)\n\u001b[0;32m      3\u001b[0m novel_collection\u001b[38;5;241m.\u001b[39manalyze(timebin \u001b[38;5;241m=\u001b[39m \u001b[38;5;241m50\u001b[39m, ignore_freq\u001b[38;5;241m=\u001b[39m\u001b[38;5;241m0.5\u001b[39m)\n\u001b[1;32m----> 4\u001b[0m \u001b[43mcagemate_collection\u001b[49m\u001b[38;5;241;43m.\u001b[39;49m\u001b[43manalyze\u001b[49m\u001b[43m(\u001b[49m\u001b[43mtimebin\u001b[49m\u001b[43m \u001b[49m\u001b[38;5;241;43m=\u001b[39;49m\u001b[43m \u001b[49m\u001b[38;5;241;43m50\u001b[39;49m\u001b[43m,\u001b[49m\u001b[43m \u001b[49m\u001b[43mignore_freq\u001b[49m\u001b[38;5;241;43m=\u001b[39;49m\u001b[38;5;241;43m0.5\u001b[39;49m\u001b[43m)\u001b[49m\n",
      "File \u001b[1;32mc:\\Users\\megha\\Documents\\GitHub\\diff_fam_social_memory_ephys\\spike\\spike_analysis\\spike_collection.py:71\u001b[0m, in \u001b[0;36mSpikeCollection.analyze\u001b[1;34m(self, timebin, ignore_freq, smoothing_window, mode)\u001b[0m\n\u001b[0;32m     69\u001b[0m good_neurons \u001b[38;5;241m=\u001b[39m \u001b[38;5;241m0\u001b[39m\n\u001b[0;32m     70\u001b[0m \u001b[38;5;28;01mfor\u001b[39;00m recording \u001b[38;5;129;01min\u001b[39;00m \u001b[38;5;28mself\u001b[39m\u001b[38;5;241m.\u001b[39mcollection:\n\u001b[1;32m---> 71\u001b[0m     \u001b[43mrecording\u001b[49m\u001b[38;5;241;43m.\u001b[39;49m\u001b[43manalyze\u001b[49m\u001b[43m(\u001b[49m\u001b[43mtimebin\u001b[49m\u001b[43m,\u001b[49m\u001b[43m \u001b[49m\u001b[43mignore_freq\u001b[49m\u001b[43m,\u001b[49m\u001b[43m \u001b[49m\u001b[43msmoothing_window\u001b[49m\u001b[43m,\u001b[49m\u001b[43m \u001b[49m\u001b[43mmode\u001b[49m\u001b[43m)\u001b[49m\n\u001b[0;32m     72\u001b[0m     analyzed_neurons \u001b[38;5;241m+\u001b[39m\u001b[38;5;241m=\u001b[39m recording\u001b[38;5;241m.\u001b[39manalyzed_neurons\n\u001b[0;32m     73\u001b[0m     good_neurons \u001b[38;5;241m+\u001b[39m\u001b[38;5;241m=\u001b[39m recording\u001b[38;5;241m.\u001b[39mgood_neurons\n",
      "File \u001b[1;32mc:\\Users\\megha\\Documents\\GitHub\\diff_fam_social_memory_ephys\\spike\\spike_analysis\\spike_recording.py:157\u001b[0m, in \u001b[0;36mSpikeRecording.analyze\u001b[1;34m(self, timebin, ignore_freq, smoothing_window, mode)\u001b[0m\n\u001b[0;32m    155\u001b[0m \u001b[38;5;28mself\u001b[39m\u001b[38;5;241m.\u001b[39mcheck()\n\u001b[0;32m    156\u001b[0m \u001b[38;5;28mself\u001b[39m\u001b[38;5;241m.\u001b[39m__freq_dictionary__()\n\u001b[1;32m--> 157\u001b[0m \u001b[38;5;28;43mself\u001b[39;49m\u001b[38;5;241;43m.\u001b[39;49m\u001b[43m__whole_spiketrain__\u001b[49m\u001b[43m(\u001b[49m\u001b[43m)\u001b[49m\n\u001b[0;32m    158\u001b[0m \u001b[38;5;28mself\u001b[39m\u001b[38;5;241m.\u001b[39m__unit_spiketrains__()\n\u001b[0;32m    159\u001b[0m \u001b[38;5;28mself\u001b[39m\u001b[38;5;241m.\u001b[39m__unit_firing_rates__()\n",
      "File \u001b[1;32mc:\\Users\\megha\\Documents\\GitHub\\diff_fam_social_memory_ephys\\spike\\spike_analysis\\spike_recording.py:179\u001b[0m, in \u001b[0;36mSpikeRecording.__whole_spiketrain__\u001b[1;34m(self)\u001b[0m\n\u001b[0;32m    174\u001b[0m \u001b[38;5;250m\u001b[39m\u001b[38;5;124;03m\"\"\"\u001b[39;00m\n\u001b[0;32m    175\u001b[0m \u001b[38;5;124;03mcreates a spiketrain for each self where each array element is the number of spikes per timebin\u001b[39;00m\n\u001b[0;32m    176\u001b[0m \u001b[38;5;124;03mand assigns as .spiketrain for each self\u001b[39;00m\n\u001b[0;32m    177\u001b[0m \u001b[38;5;124;03m\"\"\"\u001b[39;00m\n\u001b[0;32m    178\u001b[0m last_timestamp \u001b[38;5;241m=\u001b[39m \u001b[38;5;28mself\u001b[39m\u001b[38;5;241m.\u001b[39mtimestamps_var[\u001b[38;5;241m-\u001b[39m\u001b[38;5;241m1\u001b[39m]\n\u001b[1;32m--> 179\u001b[0m \u001b[38;5;28mself\u001b[39m\u001b[38;5;241m.\u001b[39mspiketrain \u001b[38;5;241m=\u001b[39m \u001b[43mfr\u001b[49m\u001b[38;5;241;43m.\u001b[39;49m\u001b[43mget_spiketrain\u001b[49m\u001b[43m(\u001b[49m\u001b[38;5;28;43mself\u001b[39;49m\u001b[38;5;241;43m.\u001b[39;49m\u001b[43mtimestamps_var\u001b[49m\u001b[43m,\u001b[49m\u001b[43m \u001b[49m\u001b[43mlast_timestamp\u001b[49m\u001b[43m,\u001b[49m\u001b[43m \u001b[49m\u001b[38;5;28;43mself\u001b[39;49m\u001b[38;5;241;43m.\u001b[39;49m\u001b[43mtimebin\u001b[49m\u001b[43m,\u001b[49m\u001b[43m \u001b[49m\u001b[38;5;28;43mself\u001b[39;49m\u001b[38;5;241;43m.\u001b[39;49m\u001b[43msampling_rate\u001b[49m\u001b[43m)\u001b[49m\n",
      "File \u001b[1;32mc:\\Users\\megha\\Documents\\GitHub\\diff_fam_social_memory_ephys\\spike\\spike_analysis\\firing_rate_calculations.py:20\u001b[0m, in \u001b[0;36mget_spiketrain\u001b[1;34m(timestamp_array, last_timestamp, timebin, sampling_rate)\u001b[0m\n\u001b[0;32m     18\u001b[0m hz_to_timebin \u001b[38;5;241m=\u001b[39m \u001b[38;5;28mint\u001b[39m(sampling_rate \u001b[38;5;241m*\u001b[39m \u001b[38;5;241m0.001\u001b[39m \u001b[38;5;241m*\u001b[39m timebin)\n\u001b[0;32m     19\u001b[0m bins \u001b[38;5;241m=\u001b[39m np\u001b[38;5;241m.\u001b[39marange(\u001b[38;5;241m1\u001b[39m, last_timestamp \u001b[38;5;241m+\u001b[39m \u001b[38;5;241m2\u001b[39m, hz_to_timebin)\n\u001b[1;32m---> 20\u001b[0m spiketrain \u001b[38;5;241m=\u001b[39m \u001b[43mnp\u001b[49m\u001b[38;5;241;43m.\u001b[39;49m\u001b[43mhistogram\u001b[49m\u001b[43m(\u001b[49m\u001b[43mtimestamp_array\u001b[49m\u001b[43m,\u001b[49m\u001b[43m \u001b[49m\u001b[43mbins\u001b[49m\u001b[38;5;241;43m=\u001b[39;49m\u001b[43mbins\u001b[49m\u001b[43m)\u001b[49m[\u001b[38;5;241m0\u001b[39m]\n\u001b[0;32m     21\u001b[0m \u001b[38;5;28;01mreturn\u001b[39;00m spiketrain\n",
      "File \u001b[1;32mc:\\Users\\megha\\anaconda3\\envs\\lfp_env\\lib\\site-packages\\numpy\\lib\\_histograms_impl.py:883\u001b[0m, in \u001b[0;36mhistogram\u001b[1;34m(a, bins, range, density, weights)\u001b[0m\n\u001b[0;32m    881\u001b[0m \u001b[38;5;28;01mif\u001b[39;00m weights \u001b[38;5;129;01mis\u001b[39;00m \u001b[38;5;28;01mNone\u001b[39;00m:\n\u001b[0;32m    882\u001b[0m     \u001b[38;5;28;01mfor\u001b[39;00m i \u001b[38;5;129;01min\u001b[39;00m _range(\u001b[38;5;241m0\u001b[39m, \u001b[38;5;28mlen\u001b[39m(a), BLOCK):\n\u001b[1;32m--> 883\u001b[0m         sa \u001b[38;5;241m=\u001b[39m \u001b[43mnp\u001b[49m\u001b[38;5;241;43m.\u001b[39;49m\u001b[43msort\u001b[49m\u001b[43m(\u001b[49m\u001b[43ma\u001b[49m\u001b[43m[\u001b[49m\u001b[43mi\u001b[49m\u001b[43m:\u001b[49m\u001b[43mi\u001b[49m\u001b[38;5;241;43m+\u001b[39;49m\u001b[43mBLOCK\u001b[49m\u001b[43m]\u001b[49m\u001b[43m)\u001b[49m\n\u001b[0;32m    884\u001b[0m         cum_n \u001b[38;5;241m+\u001b[39m\u001b[38;5;241m=\u001b[39m _search_sorted_inclusive(sa, bin_edges)\n\u001b[0;32m    885\u001b[0m \u001b[38;5;28;01melse\u001b[39;00m:\n",
      "File \u001b[1;32mc:\\Users\\megha\\anaconda3\\envs\\lfp_env\\lib\\site-packages\\numpy\\_core\\fromnumeric.py:1122\u001b[0m, in \u001b[0;36msort\u001b[1;34m(a, axis, kind, order, stable)\u001b[0m\n\u001b[0;32m   1120\u001b[0m \u001b[38;5;28;01melse\u001b[39;00m:\n\u001b[0;32m   1121\u001b[0m     a \u001b[38;5;241m=\u001b[39m asanyarray(a)\u001b[38;5;241m.\u001b[39mcopy(order\u001b[38;5;241m=\u001b[39m\u001b[38;5;124m\"\u001b[39m\u001b[38;5;124mK\u001b[39m\u001b[38;5;124m\"\u001b[39m)\n\u001b[1;32m-> 1122\u001b[0m \u001b[43ma\u001b[49m\u001b[38;5;241;43m.\u001b[39;49m\u001b[43msort\u001b[49m\u001b[43m(\u001b[49m\u001b[43maxis\u001b[49m\u001b[38;5;241;43m=\u001b[39;49m\u001b[43maxis\u001b[49m\u001b[43m,\u001b[49m\u001b[43m \u001b[49m\u001b[43mkind\u001b[49m\u001b[38;5;241;43m=\u001b[39;49m\u001b[43mkind\u001b[49m\u001b[43m,\u001b[49m\u001b[43m \u001b[49m\u001b[43morder\u001b[49m\u001b[38;5;241;43m=\u001b[39;49m\u001b[43morder\u001b[49m\u001b[43m,\u001b[49m\u001b[43m \u001b[49m\u001b[43mstable\u001b[49m\u001b[38;5;241;43m=\u001b[39;49m\u001b[43mstable\u001b[49m\u001b[43m)\u001b[49m\n\u001b[0;32m   1123\u001b[0m \u001b[38;5;28;01mreturn\u001b[39;00m a\n",
      "\u001b[1;31mKeyboardInterrupt\u001b[0m: "
     ]
    }
   ],
   "source": [
    "novel_collection = unpickle_this('novel_collection.pkl')\n",
    "cagemate_collection = unpickle_this('cagemate_collection.pkl')\n",
    "novel_collection.analyze(timebin = 50, ignore_freq=0.5)\n",
    "cagemate_collection.analyze(timebin = 50, ignore_freq=0.5)\n",
    "\n"
   ]
  },
  {
   "cell_type": "markdown",
   "metadata": {},
   "source": [
    "# Neurons per recording"
   ]
  },
  {
   "cell_type": "code",
   "execution_count": 12,
   "metadata": {},
   "outputs": [
    {
     "name": "stdout",
     "output_type": "stream",
     "text": [
      "134 164\n"
     ]
    }
   ],
   "source": [
    "total_neurons = 0\n",
    "total_good_neurons = 0\n",
    "for recording in cagemate_collection.collection: \n",
    "    total_neurons += len(recording.freq_dict.keys())\n",
    "    for neuron, freq in recording.freq_dict.items():\n",
    "        if freq > 0.5:\n",
    "            total_good_neurons += 1\n",
    "        else:\n",
    "            pass    \n",
    "print(total_good_neurons, total_neurons)   \n",
    "      "
   ]
  },
  {
   "cell_type": "code",
   "execution_count": 13,
   "metadata": {},
   "outputs": [
    {
     "name": "stdout",
     "output_type": "stream",
     "text": [
      "131 145\n"
     ]
    }
   ],
   "source": [
    "total_neurons = 0\n",
    "total_good_neurons = 0\n",
    "for recording in novel_collection.collection: \n",
    "    total_neurons += len(recording.freq_dict.keys())\n",
    "    for neuron, freq in recording.freq_dict.items():\n",
    "        if freq > 0.5:\n",
    "            total_good_neurons += 1\n",
    "        else:\n",
    "            pass    \n",
    "print(total_good_neurons, total_neurons)   \n",
    "      "
   ]
  },
  {
   "cell_type": "code",
   "execution_count": 14,
   "metadata": {},
   "outputs": [
    {
     "data": {
      "image/png": "[encoded data removed]",
      "text/plain": [
       "<Figure size 1000x600 with 1 Axes>"
      ]
     },
     "metadata": {},
     "output_type": "display_data"
    },
    {
     "data": {
      "image/png": "[encoded data removed]",
      "text/plain": [
       "<Figure size 1000x600 with 1 Axes>"
      ]
     },
     "metadata": {},
     "output_type": "display_data"
    }
   ],
   "source": [
    "def plot_neuron_histogram(collection, title, color, bin_size=5):\n",
    "   # Get counts of good neurons per recording\n",
    "    recording_data = []\n",
    "\n",
    "    for recording in collection.collection:\n",
    "        total = len(recording.freq_dict.keys())\n",
    "        good = sum(1 for freq in recording.freq_dict.values() if freq > 0.5)\n",
    "        recording_data.append({\n",
    "            'recording': recording.name,\n",
    "            'total_neurons': total,\n",
    "            'good_neurons': good\n",
    "        })\n",
    "\n",
    "    # Create DataFrame\n",
    "    df = pd.DataFrame(recording_data)\n",
    "   \n",
    "    # Create histogram\n",
    "    plt.figure(figsize=(10, 6))\n",
    "\n",
    "    # Calculate number of bins based on bin_size\n",
    "    bins = np.arange(0, max(df['good_neurons']) + bin_size, bin_size)\n",
    "\n",
    "    plt.hist(df['good_neurons'], bins=bins, color=color, edgecolor='black')\n",
    "\n",
    "    # Customize plot\n",
    "    plt.xlabel('Number of Good Neurons', fontsize=16)\n",
    "    plt.ylabel('Number of Recordings', fontsize=16)\n",
    "    plt.title(f'{title}', fontsize=20)\n",
    "\n",
    "    # Set ticks\n",
    "    plt.xticks(bins, fontsize=14)\n",
    "    plt.yticks(fontsize=14)\n",
    "\n",
    "    # Remove top and right spines\n",
    "    plt.gca().spines['top'].set_visible(False)\n",
    "    plt.gca().spines['right'].set_visible(False)\n",
    "\n",
    "    # Add summary statistics as text\n",
    "    plt.figtext(0.1, 0.85, \n",
    "                f'Total recordings: {len(df[\"good_neurons\"])}\\n'\n",
    "                f'Mean good neurons: {np.mean(df[\"good_neurons\"]):.1f}\\n'\n",
    "                f'Median good neurons: {np.median(df[\"good_neurons\"]):.1f}\\n'\n",
    "                f'SD: {np.std(df[\"good_neurons\"]):.1f}',\n",
    "                fontsize=12, ha='left', va='top')\n",
    "\n",
    "    plt.tight_layout()\n",
    "    plt.show()\n",
    "\n",
    "    return df\n",
    "\n",
    "# Usage:\n",
    "good_counts = plot_neuron_histogram(cagemate_collection, title = 'Cagemate condition', color = '#792910', bin_size=1)\n",
    "good_counts_novel = plot_neuron_histogram(novel_collection, title = 'Novel Condition', color = '#15616F', bin_size = 1)"
   ]
  },
  {
   "cell_type": "code",
   "execution_count": 15,
   "metadata": {},
   "outputs": [
    {
     "data": {
      "text/html": [
       "<div>\n",
       "<style scoped>\n",
       "    .dataframe tbody tr th:only-of-type {\n",
       "        vertical-align: middle;\n",
       "    }\n",
       "\n",
       "    .dataframe tbody tr th {\n",
       "        vertical-align: top;\n",
       "    }\n",
       "\n",
       "    .dataframe thead th {\n",
       "        text-align: right;\n",
       "    }\n",
       "</style>\n",
       "<table border=\"1\" class=\"dataframe\">\n",
       "  <thead>\n",
       "    <tr style=\"text-align: right;\">\n",
       "      <th></th>\n",
       "      <th>recording</th>\n",
       "      <th>total_neurons</th>\n",
       "      <th>good_neurons</th>\n",
       "    </tr>\n",
       "  </thead>\n",
       "  <tbody>\n",
       "    <tr>\n",
       "      <th>0</th>\n",
       "      <td>11_cage_p1_merged.rec</td>\n",
       "      <td>19</td>\n",
       "      <td>13</td>\n",
       "    </tr>\n",
       "    <tr>\n",
       "      <th>1</th>\n",
       "      <td>12_cage_p1_merged.rec</td>\n",
       "      <td>24</td>\n",
       "      <td>18</td>\n",
       "    </tr>\n",
       "    <tr>\n",
       "      <th>2</th>\n",
       "      <td>13_cage_p1_merged.rec</td>\n",
       "      <td>14</td>\n",
       "      <td>11</td>\n",
       "    </tr>\n",
       "    <tr>\n",
       "      <th>3</th>\n",
       "      <td>21_cage_p1_merged.rec</td>\n",
       "      <td>33</td>\n",
       "      <td>25</td>\n",
       "    </tr>\n",
       "    <tr>\n",
       "      <th>4</th>\n",
       "      <td>22_cage_p1_merged.rec</td>\n",
       "      <td>13</td>\n",
       "      <td>13</td>\n",
       "    </tr>\n",
       "    <tr>\n",
       "      <th>5</th>\n",
       "      <td>24_cage_p1_merged.rec</td>\n",
       "      <td>12</td>\n",
       "      <td>11</td>\n",
       "    </tr>\n",
       "    <tr>\n",
       "      <th>6</th>\n",
       "      <td>31_cage_p1_merged.rec</td>\n",
       "      <td>1</td>\n",
       "      <td>1</td>\n",
       "    </tr>\n",
       "    <tr>\n",
       "      <th>7</th>\n",
       "      <td>32_cage_p1_merged.rec</td>\n",
       "      <td>15</td>\n",
       "      <td>13</td>\n",
       "    </tr>\n",
       "    <tr>\n",
       "      <th>8</th>\n",
       "      <td>33_cage_p1_merged.rec</td>\n",
       "      <td>2</td>\n",
       "      <td>2</td>\n",
       "    </tr>\n",
       "    <tr>\n",
       "      <th>9</th>\n",
       "      <td>41_cage_p1_merged.rec</td>\n",
       "      <td>15</td>\n",
       "      <td>11</td>\n",
       "    </tr>\n",
       "    <tr>\n",
       "      <th>10</th>\n",
       "      <td>44_cage_p1_merged.rec</td>\n",
       "      <td>16</td>\n",
       "      <td>16</td>\n",
       "    </tr>\n",
       "  </tbody>\n",
       "</table>\n",
       "</div>"
      ],
      "text/plain": [
       "                recording  total_neurons  good_neurons\n",
       "0   11_cage_p1_merged.rec             19            13\n",
       "1   12_cage_p1_merged.rec             24            18\n",
       "2   13_cage_p1_merged.rec             14            11\n",
       "3   21_cage_p1_merged.rec             33            25\n",
       "4   22_cage_p1_merged.rec             13            13\n",
       "5   24_cage_p1_merged.rec             12            11\n",
       "6   31_cage_p1_merged.rec              1             1\n",
       "7   32_cage_p1_merged.rec             15            13\n",
       "8   33_cage_p1_merged.rec              2             2\n",
       "9   41_cage_p1_merged.rec             15            11\n",
       "10  44_cage_p1_merged.rec             16            16"
      ]
     },
     "execution_count": 15,
     "metadata": {},
     "output_type": "execute_result"
    }
   ],
   "source": [
    "good_counts"
   ]
  },
  {
   "cell_type": "code",
   "execution_count": 16,
   "metadata": {},
   "outputs": [
    {
     "data": {
      "text/html": [
       "<div>\n",
       "<style scoped>\n",
       "    .dataframe tbody tr th:only-of-type {\n",
       "        vertical-align: middle;\n",
       "    }\n",
       "\n",
       "    .dataframe tbody tr th {\n",
       "        vertical-align: top;\n",
       "    }\n",
       "\n",
       "    .dataframe thead th {\n",
       "        text-align: right;\n",
       "    }\n",
       "</style>\n",
       "<table border=\"1\" class=\"dataframe\">\n",
       "  <thead>\n",
       "    <tr style=\"text-align: right;\">\n",
       "      <th></th>\n",
       "      <th>recording</th>\n",
       "      <th>total_neurons</th>\n",
       "      <th>good_neurons</th>\n",
       "    </tr>\n",
       "  </thead>\n",
       "  <tbody>\n",
       "    <tr>\n",
       "      <th>0</th>\n",
       "      <td>11_nov_p1_merged.rec</td>\n",
       "      <td>21</td>\n",
       "      <td>20</td>\n",
       "    </tr>\n",
       "    <tr>\n",
       "      <th>1</th>\n",
       "      <td>12_nov_p1_merged.rec</td>\n",
       "      <td>21</td>\n",
       "      <td>15</td>\n",
       "    </tr>\n",
       "    <tr>\n",
       "      <th>2</th>\n",
       "      <td>13_nov_p1_merged.rec</td>\n",
       "      <td>11</td>\n",
       "      <td>11</td>\n",
       "    </tr>\n",
       "    <tr>\n",
       "      <th>3</th>\n",
       "      <td>21_nov_p1_merged.rec</td>\n",
       "      <td>10</td>\n",
       "      <td>10</td>\n",
       "    </tr>\n",
       "    <tr>\n",
       "      <th>4</th>\n",
       "      <td>22_nov_p1_merged.rec</td>\n",
       "      <td>12</td>\n",
       "      <td>12</td>\n",
       "    </tr>\n",
       "    <tr>\n",
       "      <th>5</th>\n",
       "      <td>24_nov_p1_merged.rec</td>\n",
       "      <td>12</td>\n",
       "      <td>10</td>\n",
       "    </tr>\n",
       "    <tr>\n",
       "      <th>6</th>\n",
       "      <td>32_nov_p1_merged.rec</td>\n",
       "      <td>13</td>\n",
       "      <td>13</td>\n",
       "    </tr>\n",
       "    <tr>\n",
       "      <th>7</th>\n",
       "      <td>33_nov_p1_merged.rec</td>\n",
       "      <td>1</td>\n",
       "      <td>1</td>\n",
       "    </tr>\n",
       "    <tr>\n",
       "      <th>8</th>\n",
       "      <td>41_nov_p1_merged.rec</td>\n",
       "      <td>27</td>\n",
       "      <td>25</td>\n",
       "    </tr>\n",
       "    <tr>\n",
       "      <th>9</th>\n",
       "      <td>44_nov_p1_merged.rec</td>\n",
       "      <td>17</td>\n",
       "      <td>14</td>\n",
       "    </tr>\n",
       "  </tbody>\n",
       "</table>\n",
       "</div>"
      ],
      "text/plain": [
       "              recording  total_neurons  good_neurons\n",
       "0  11_nov_p1_merged.rec             21            20\n",
       "1  12_nov_p1_merged.rec             21            15\n",
       "2  13_nov_p1_merged.rec             11            11\n",
       "3  21_nov_p1_merged.rec             10            10\n",
       "4  22_nov_p1_merged.rec             12            12\n",
       "5  24_nov_p1_merged.rec             12            10\n",
       "6  32_nov_p1_merged.rec             13            13\n",
       "7  33_nov_p1_merged.rec              1             1\n",
       "8  41_nov_p1_merged.rec             27            25\n",
       "9  44_nov_p1_merged.rec             17            14"
      ]
     },
     "execution_count": 16,
     "metadata": {},
     "output_type": "execute_result"
    }
   ],
   "source": [
    "good_counts_novel"
   ]
  },
  {
   "cell_type": "markdown",
   "metadata": {},
   "source": [
    "# Wilcoxon: Presniff vs Sniff"
   ]
  },
  {
   "cell_type": "code",
   "execution_count": 18,
   "metadata": {},
   "outputs": [
    {
     "name": "stdout",
     "output_type": "stream",
     "text": [
      "All set to analyze\n",
      "All set to analyze\n",
      "Wilcoxon can't be done on 33_cage_p1_merged.rec exp1, because <6 samples\n",
      "Wilcoxon can't be done on 33_cage_p1_merged.rec exp4, because <6 samples\n",
      "Wilcoxon can't be done on 44_cage_p1_merged.rec exp4, because <6 samples\n",
      "Wilcoxon can't be done on 12_nov_p1_merged.rec exp4, because <6 samples\n",
      "Wilcoxon can't be done on 11_cage_p1_merged.rec exp5, because <6 samples\n"
     ]
    }
   ],
   "source": [
    "from importlib import reload\n",
    "reload(wilcox)\n",
    "novel_collection.analyze(timebin = 100, ignore_freq=0.5)\n",
    "cagemate_collection.analyze(timebin = 100, ignore_freq=0.5)\n",
    "event_length = 3\n",
    "baseline_window = 2\n",
    "offset = 1\n",
    "cagemate_dfs = []\n",
    "novel_dfs = []\n",
    "cagemate_event_length = 2\n",
    "novel_event_length_dict = {'exp1': 4.5, 'exp4':2.5, 'exp5': 4}\n",
    "events = ['exp1', 'exp4', 'exp5']\n",
    "# Create first event's dataframes\n",
    "cagemate_merged = wilcox.wilcoxon_collection(cagemate_collection, event=events[0], event_length=event_length, baseline_window=baseline_window, offset=offset, exclude_offset=True, plot=False)\n",
    "novel_merged = wilcox.wilcoxon_collection(novel_collection, event=events[0], event_length=event_length, baseline_window=baseline_window, offset=offset, exclude_offset = True, plot=False)\n",
    "\n",
    "# Merge remaining events with suffixes\n",
    "for i, event in enumerate(events[1:], 1):\n",
    "   suffix = f\"_{event}\"\n",
    "   cagemate_df = wilcox.wilcoxon_collection(cagemate_collection, event=event, event_length=cagemate_event_length, baseline_window=baseline_window, offset=offset, plot=False)\n",
    "   novel_df = wilcox.wilcoxon_collection(novel_collection, event=event, event_length=novel_event_length_dict[event], baseline_window=baseline_window, offset=offset, plot=False)\n",
    "   \n",
    "   cagemate_merged = pd.merge(cagemate_merged, cagemate_df, on=['Recording', 'Subject', 'original unit id'], suffixes=('', suffix))\n",
    "   novel_merged = pd.merge(novel_merged, novel_df, on=['Recording', 'Subject', 'original unit id'], suffixes=('', suffix))"
   ]
  },
  {
   "cell_type": "code",
   "execution_count": 19,
   "metadata": {},
   "outputs": [
    {
     "data": {
      "text/html": [
       "<div>\n",
       "<style scoped>\n",
       "    .dataframe tbody tr th:only-of-type {\n",
       "        vertical-align: middle;\n",
       "    }\n",
       "\n",
       "    .dataframe tbody tr th {\n",
       "        vertical-align: top;\n",
       "    }\n",
       "\n",
       "    .dataframe thead th {\n",
       "        text-align: right;\n",
       "    }\n",
       "</style>\n",
       "<table border=\"1\" class=\"dataframe\">\n",
       "  <thead>\n",
       "    <tr style=\"text-align: right;\">\n",
       "      <th></th>\n",
       "      <th>original unit id</th>\n",
       "      <th>exp1 vs baseline</th>\n",
       "      <th>exp4 vs baseline</th>\n",
       "      <th>exp5 vs baseline</th>\n",
       "    </tr>\n",
       "  </thead>\n",
       "  <tbody>\n",
       "    <tr>\n",
       "      <th>0</th>\n",
       "      <td>201</td>\n",
       "      <td>not significant</td>\n",
       "      <td>not significant</td>\n",
       "      <td>not significant</td>\n",
       "    </tr>\n",
       "    <tr>\n",
       "      <th>1</th>\n",
       "      <td>125</td>\n",
       "      <td>increases</td>\n",
       "      <td>not significant</td>\n",
       "      <td>not significant</td>\n",
       "    </tr>\n",
       "    <tr>\n",
       "      <th>2</th>\n",
       "      <td>210</td>\n",
       "      <td>not significant</td>\n",
       "      <td>not significant</td>\n",
       "      <td>not significant</td>\n",
       "    </tr>\n",
       "    <tr>\n",
       "      <th>3</th>\n",
       "      <td>268</td>\n",
       "      <td>increases</td>\n",
       "      <td>increases</td>\n",
       "      <td>not significant</td>\n",
       "    </tr>\n",
       "    <tr>\n",
       "      <th>4</th>\n",
       "      <td>9</td>\n",
       "      <td>not significant</td>\n",
       "      <td>not significant</td>\n",
       "      <td>increases</td>\n",
       "    </tr>\n",
       "    <tr>\n",
       "      <th>...</th>\n",
       "      <td>...</td>\n",
       "      <td>...</td>\n",
       "      <td>...</td>\n",
       "      <td>...</td>\n",
       "    </tr>\n",
       "    <tr>\n",
       "      <th>111</th>\n",
       "      <td>123</td>\n",
       "      <td>not significant</td>\n",
       "      <td>not significant</td>\n",
       "      <td>not significant</td>\n",
       "    </tr>\n",
       "    <tr>\n",
       "      <th>112</th>\n",
       "      <td>98</td>\n",
       "      <td>not significant</td>\n",
       "      <td>not significant</td>\n",
       "      <td>not significant</td>\n",
       "    </tr>\n",
       "    <tr>\n",
       "      <th>113</th>\n",
       "      <td>190</td>\n",
       "      <td>not significant</td>\n",
       "      <td>not significant</td>\n",
       "      <td>not significant</td>\n",
       "    </tr>\n",
       "    <tr>\n",
       "      <th>114</th>\n",
       "      <td>133</td>\n",
       "      <td>not significant</td>\n",
       "      <td>not significant</td>\n",
       "      <td>not significant</td>\n",
       "    </tr>\n",
       "    <tr>\n",
       "      <th>115</th>\n",
       "      <td>42</td>\n",
       "      <td>not significant</td>\n",
       "      <td>not significant</td>\n",
       "      <td>not significant</td>\n",
       "    </tr>\n",
       "  </tbody>\n",
       "</table>\n",
       "<p>116 rows × 4 columns</p>\n",
       "</div>"
      ],
      "text/plain": [
       "    original unit id exp1 vs baseline exp4 vs baseline exp5 vs baseline\n",
       "0                201  not significant  not significant  not significant\n",
       "1                125        increases  not significant  not significant\n",
       "2                210  not significant  not significant  not significant\n",
       "3                268        increases        increases  not significant\n",
       "4                  9  not significant  not significant        increases\n",
       "..               ...              ...              ...              ...\n",
       "111              123  not significant  not significant  not significant\n",
       "112               98  not significant  not significant  not significant\n",
       "113              190  not significant  not significant  not significant\n",
       "114              133  not significant  not significant  not significant\n",
       "115               42  not significant  not significant  not significant\n",
       "\n",
       "[116 rows x 4 columns]"
      ]
     },
     "execution_count": 19,
     "metadata": {},
     "output_type": "execute_result"
    }
   ],
   "source": [
    "comparisons = ['exp1', 'exp4', 'exp5']\n",
    "base_columns = ['Subject', 'Recording', 'original unit id']\n",
    "novel_master_df = novel_merged[base_columns].copy()\n",
    "\n",
    "# Add comparison columns\n",
    "for comp in comparisons:\n",
    "   novel_master_df[f'{comp} vs baseline'] = novel_merged[f'event1 vs event2_{comp}' if comp != 'exp1' else 'event1 vs event2']\n",
    "\n",
    "# Create trimmed version\n",
    "novel_master_df_trimmed = novel_master_df[['original unit id'] + [f'{comp} vs baseline' for comp in comparisons]]\n",
    "novel_master_df_trimmed"
   ]
  },
  {
   "cell_type": "code",
   "execution_count": 20,
   "metadata": {},
   "outputs": [
    {
     "name": "stderr",
     "output_type": "stream",
     "text": [
      "C:\\Users\\megha\\AppData\\Local\\Temp\\ipykernel_17644\\2812253529.py:15: SettingWithCopyWarning: \n",
      "A value is trying to be set on a copy of a slice from a DataFrame.\n",
      "Try using .loc[row_indexer,col_indexer] = value instead\n",
      "\n",
      "See the caveats in the documentation: https://pandas.pydata.org/pandas-docs/stable/user_guide/indexing.html#returning-a-view-versus-a-copy\n",
      "  novel_master_df_trimmed['cell group'] = novel_master_df_trimmed.apply(lambda row: group_cells(row['exp1 vs baseline'],\n"
     ]
    },
    {
     "data": {
      "text/html": [
       "<div>\n",
       "<style scoped>\n",
       "    .dataframe tbody tr th:only-of-type {\n",
       "        vertical-align: middle;\n",
       "    }\n",
       "\n",
       "    .dataframe tbody tr th {\n",
       "        vertical-align: top;\n",
       "    }\n",
       "\n",
       "    .dataframe thead th {\n",
       "        text-align: right;\n",
       "    }\n",
       "</style>\n",
       "<table border=\"1\" class=\"dataframe\">\n",
       "  <thead>\n",
       "    <tr style=\"text-align: right;\">\n",
       "      <th></th>\n",
       "      <th>original unit id</th>\n",
       "      <th>exp1 vs baseline</th>\n",
       "      <th>exp4 vs baseline</th>\n",
       "      <th>exp5 vs baseline</th>\n",
       "    </tr>\n",
       "    <tr>\n",
       "      <th>cell group</th>\n",
       "      <th></th>\n",
       "      <th></th>\n",
       "      <th></th>\n",
       "      <th></th>\n",
       "    </tr>\n",
       "  </thead>\n",
       "  <tbody>\n",
       "    <tr>\n",
       "      <th></th>\n",
       "      <td>98</td>\n",
       "      <td>98</td>\n",
       "      <td>98</td>\n",
       "      <td>98</td>\n",
       "    </tr>\n",
       "    <tr>\n",
       "      <th>exp1</th>\n",
       "      <td>6</td>\n",
       "      <td>6</td>\n",
       "      <td>6</td>\n",
       "      <td>6</td>\n",
       "    </tr>\n",
       "    <tr>\n",
       "      <th>exp1exp4</th>\n",
       "      <td>1</td>\n",
       "      <td>1</td>\n",
       "      <td>1</td>\n",
       "      <td>1</td>\n",
       "    </tr>\n",
       "    <tr>\n",
       "      <th>exp1exp5</th>\n",
       "      <td>1</td>\n",
       "      <td>1</td>\n",
       "      <td>1</td>\n",
       "      <td>1</td>\n",
       "    </tr>\n",
       "    <tr>\n",
       "      <th>exp4</th>\n",
       "      <td>2</td>\n",
       "      <td>2</td>\n",
       "      <td>2</td>\n",
       "      <td>2</td>\n",
       "    </tr>\n",
       "    <tr>\n",
       "      <th>exp5</th>\n",
       "      <td>8</td>\n",
       "      <td>8</td>\n",
       "      <td>8</td>\n",
       "      <td>8</td>\n",
       "    </tr>\n",
       "  </tbody>\n",
       "</table>\n",
       "</div>"
      ],
      "text/plain": [
       "            original unit id  exp1 vs baseline  exp4 vs baseline  \\\n",
       "cell group                                                         \n",
       "                          98                98                98   \n",
       "exp1                       6                 6                 6   \n",
       "exp1exp4                   1                 1                 1   \n",
       "exp1exp5                   1                 1                 1   \n",
       "exp4                       2                 2                 2   \n",
       "exp5                       8                 8                 8   \n",
       "\n",
       "            exp5 vs baseline  \n",
       "cell group                    \n",
       "                          98  \n",
       "exp1                       6  \n",
       "exp1exp4                   1  \n",
       "exp1exp5                   1  \n",
       "exp4                       2  \n",
       "exp5                       8  "
      ]
     },
     "execution_count": 20,
     "metadata": {},
     "output_type": "execute_result"
    }
   ],
   "source": [
    "\n",
    "def group_cells(exp1, exp4, exp5):\n",
    "    group = ''\n",
    "    if (exp1 == 'increases') or (exp1 == 'decreases'):\n",
    "        group = 'exp1'\n",
    "    # if (exp2 == 'increases') or (exp2 == 'decreases'):\n",
    "    #     group = group + 'exp2' \n",
    "    # if (exp3 == 'increases') or (exp3 == 'decreases'):\n",
    "    #     group = group + 'exp3'\n",
    "    if (exp4 == 'increases') or (exp4 == 'decreases'):\n",
    "        group = group + 'exp4'\n",
    "    if (exp5 == 'increases') or (exp5 == 'decreases'):\n",
    "        group = group + 'exp5'\n",
    "    return group\n",
    "\n",
    "novel_master_df_trimmed['cell group'] = novel_master_df_trimmed.apply(lambda row: group_cells(row['exp1 vs baseline'],\n",
    "                                                                  #row['exp2 vs baseline'],\n",
    "                                                                  #row['exp3 vs baseline'],\n",
    "                                                                  row['exp4 vs baseline'],\n",
    "                                                                  row['exp5 vs baseline']), axis = 1)\n",
    "results = novel_master_df_trimmed.groupby('cell group').count()\n",
    "results"
   ]
  },
  {
   "cell_type": "code",
   "execution_count": null,
   "metadata": {},
   "outputs": [
    {
     "data": {
      "image/png": "[encoded data removed]",
      "text/plain": [
       "<Figure size 800x600 with 1 Axes>"
      ]
     },
     "metadata": {},
     "output_type": "display_data"
    }
   ],
   "source": [
    "set1 = set(novel_master_df_trimmed.index[novel_master_df_trimmed['cell group'].str.contains('exp1')])\n",
    "set2 = set(novel_master_df_trimmed.index[novel_master_df_trimmed['cell group'].str.contains('exp4')])\n",
    "set3 = set(novel_master_df_trimmed.index[novel_master_df_trimmed['cell group'].str.contains('exp5')])\n",
    "from matplotlib_venn import venn3\n",
    "\n",
    "plt.figure(figsize=(8, 6))\n",
    "venn = venn3([set1, set2, set3], ('Exposure 1', 'Exposure 4', 'Exposure 5'))\n",
    "try:\n",
    "   venn.get_patch_by_id('100').set_color('#792910') \n",
    "   venn.get_patch_by_id('100').set_alpha(0.7)\n",
    "except AttributeError:\n",
    "   pass\n",
    "\n",
    "try:\n",
    "   venn.get_patch_by_id('010').set_color('#FFAF00') \n",
    "   venn.get_patch_by_id('010').set_alpha(0.7)\n",
    "except AttributeError:\n",
    "   pass\n",
    "\n",
    "try:\n",
    "   venn.get_patch_by_id('001').set_color('#15616F')\n",
    "   venn.get_patch_by_id('001').set_alpha(0.7)\n",
    "except AttributeError:\n",
    "   pass\n",
    "\n",
    "try:\n",
    "   venn.get_patch_by_id('110').set_color('#bc6c08')\n",
    "   venn.get_patch_by_id('110').set_alpha(0.7)\n",
    "except AttributeError:\n",
    "   pass\n",
    "\n",
    "try:\n",
    "   venn.get_patch_by_id('101').set_color('#474640')\n",
    "   venn.get_patch_by_id('101').set_alpha(0.7)\n",
    "except AttributeError:\n",
    "   pass\n",
    "\n",
    "try:\n",
    "   venn.get_patch_by_id('011').set_color('#8a8838')\n",
    "   venn.get_patch_by_id('011').set_alpha(0.7)\n",
    "except AttributeError:\n",
    "   pass\n",
    "\n",
    "try:\n",
    "   venn.get_patch_by_id('111').set_color('#84682a')\n",
    "   venn.get_patch_by_id('111').set_alpha(0.7)\n",
    "except AttributeError:\n",
    "   pass\n",
    "\n",
    "\n",
    "    \n",
    "\n",
    "for text in venn.set_labels:\n",
    "    text.set_fontsize(20)  # Set label font size\n",
    "\n",
    "for text in venn.subset_labels:\n",
    "    if text:  # Check if the subset label exists\n",
    "        text.set_fontsize(28) \n",
    "# Show the plot\n",
    "plt.title('Novel: Presniff', fontsize =24)\n",
    "plt.show()"
   ]
  },
  {
   "cell_type": "code",
   "execution_count": 22,
   "metadata": {},
   "outputs": [
    {
     "data": {
      "text/html": [
       "<div>\n",
       "<style scoped>\n",
       "    .dataframe tbody tr th:only-of-type {\n",
       "        vertical-align: middle;\n",
       "    }\n",
       "\n",
       "    .dataframe tbody tr th {\n",
       "        vertical-align: top;\n",
       "    }\n",
       "\n",
       "    .dataframe thead th {\n",
       "        text-align: right;\n",
       "    }\n",
       "</style>\n",
       "<table border=\"1\" class=\"dataframe\">\n",
       "  <thead>\n",
       "    <tr style=\"text-align: right;\">\n",
       "      <th></th>\n",
       "      <th>original unit id</th>\n",
       "      <th>exp1 vs baseline</th>\n",
       "      <th>exp4 vs baseline</th>\n",
       "      <th>exp5 vs baseline</th>\n",
       "    </tr>\n",
       "  </thead>\n",
       "  <tbody>\n",
       "    <tr>\n",
       "      <th>0</th>\n",
       "      <td>40</td>\n",
       "      <td>not significant</td>\n",
       "      <td>not significant</td>\n",
       "      <td>not significant</td>\n",
       "    </tr>\n",
       "    <tr>\n",
       "      <th>1</th>\n",
       "      <td>1</td>\n",
       "      <td>not significant</td>\n",
       "      <td>not significant</td>\n",
       "      <td>not significant</td>\n",
       "    </tr>\n",
       "    <tr>\n",
       "      <th>2</th>\n",
       "      <td>209</td>\n",
       "      <td>not significant</td>\n",
       "      <td>not significant</td>\n",
       "      <td>not significant</td>\n",
       "    </tr>\n",
       "    <tr>\n",
       "      <th>3</th>\n",
       "      <td>263</td>\n",
       "      <td>not significant</td>\n",
       "      <td>not significant</td>\n",
       "      <td>not significant</td>\n",
       "    </tr>\n",
       "    <tr>\n",
       "      <th>4</th>\n",
       "      <td>350</td>\n",
       "      <td>not significant</td>\n",
       "      <td>not significant</td>\n",
       "      <td>not significant</td>\n",
       "    </tr>\n",
       "    <tr>\n",
       "      <th>...</th>\n",
       "      <td>...</td>\n",
       "      <td>...</td>\n",
       "      <td>...</td>\n",
       "      <td>...</td>\n",
       "    </tr>\n",
       "    <tr>\n",
       "      <th>98</th>\n",
       "      <td>34</td>\n",
       "      <td>not significant</td>\n",
       "      <td>not significant</td>\n",
       "      <td>not significant</td>\n",
       "    </tr>\n",
       "    <tr>\n",
       "      <th>99</th>\n",
       "      <td>42</td>\n",
       "      <td>not significant</td>\n",
       "      <td>not significant</td>\n",
       "      <td>not significant</td>\n",
       "    </tr>\n",
       "    <tr>\n",
       "      <th>100</th>\n",
       "      <td>18</td>\n",
       "      <td>not significant</td>\n",
       "      <td>not significant</td>\n",
       "      <td>not significant</td>\n",
       "    </tr>\n",
       "    <tr>\n",
       "      <th>101</th>\n",
       "      <td>50</td>\n",
       "      <td>not significant</td>\n",
       "      <td>not significant</td>\n",
       "      <td>not significant</td>\n",
       "    </tr>\n",
       "    <tr>\n",
       "      <th>102</th>\n",
       "      <td>134</td>\n",
       "      <td>not significant</td>\n",
       "      <td>not significant</td>\n",
       "      <td>not significant</td>\n",
       "    </tr>\n",
       "  </tbody>\n",
       "</table>\n",
       "<p>103 rows × 4 columns</p>\n",
       "</div>"
      ],
      "text/plain": [
       "    original unit id exp1 vs baseline exp4 vs baseline exp5 vs baseline\n",
       "0                 40  not significant  not significant  not significant\n",
       "1                  1  not significant  not significant  not significant\n",
       "2                209  not significant  not significant  not significant\n",
       "3                263  not significant  not significant  not significant\n",
       "4                350  not significant  not significant  not significant\n",
       "..               ...              ...              ...              ...\n",
       "98                34  not significant  not significant  not significant\n",
       "99                42  not significant  not significant  not significant\n",
       "100               18  not significant  not significant  not significant\n",
       "101               50  not significant  not significant  not significant\n",
       "102              134  not significant  not significant  not significant\n",
       "\n",
       "[103 rows x 4 columns]"
      ]
     },
     "execution_count": 22,
     "metadata": {},
     "output_type": "execute_result"
    }
   ],
   "source": [
    "comparisons = ['exp1', 'exp4', 'exp5']\n",
    "base_columns = ['Subject', 'Recording', 'original unit id']\n",
    "cagemate_master_df = cagemate_merged[base_columns].copy()\n",
    "\n",
    "# Add comparison columns\n",
    "for comp in comparisons:\n",
    "   cagemate_master_df[f'{comp} vs baseline'] = cagemate_merged[f'event1 vs event2_{comp}' if comp != 'exp1' else 'event1 vs event2']\n",
    "\n",
    "# Create trimmed version\n",
    "cagemate_master_df_trimmed = cagemate_master_df[['original unit id'] + [f'{comp} vs baseline' for comp in comparisons]]\n",
    "cagemate_master_df_trimmed"
   ]
  },
  {
   "cell_type": "code",
   "execution_count": 23,
   "metadata": {},
   "outputs": [
    {
     "name": "stderr",
     "output_type": "stream",
     "text": [
      "C:\\Users\\megha\\AppData\\Local\\Temp\\ipykernel_17644\\3783352757.py:1: SettingWithCopyWarning: \n",
      "A value is trying to be set on a copy of a slice from a DataFrame.\n",
      "Try using .loc[row_indexer,col_indexer] = value instead\n",
      "\n",
      "See the caveats in the documentation: https://pandas.pydata.org/pandas-docs/stable/user_guide/indexing.html#returning-a-view-versus-a-copy\n",
      "  cagemate_master_df_trimmed['cell group'] = cagemate_master_df_trimmed.apply(lambda row: group_cells(row['exp1 vs baseline'],\n"
     ]
    },
    {
     "data": {
      "text/html": [
       "<div>\n",
       "<style scoped>\n",
       "    .dataframe tbody tr th:only-of-type {\n",
       "        vertical-align: middle;\n",
       "    }\n",
       "\n",
       "    .dataframe tbody tr th {\n",
       "        vertical-align: top;\n",
       "    }\n",
       "\n",
       "    .dataframe thead th {\n",
       "        text-align: right;\n",
       "    }\n",
       "</style>\n",
       "<table border=\"1\" class=\"dataframe\">\n",
       "  <thead>\n",
       "    <tr style=\"text-align: right;\">\n",
       "      <th></th>\n",
       "      <th>original unit id</th>\n",
       "      <th>exp1 vs baseline</th>\n",
       "      <th>exp4 vs baseline</th>\n",
       "      <th>exp5 vs baseline</th>\n",
       "    </tr>\n",
       "    <tr>\n",
       "      <th>cell group</th>\n",
       "      <th></th>\n",
       "      <th></th>\n",
       "      <th></th>\n",
       "      <th></th>\n",
       "    </tr>\n",
       "  </thead>\n",
       "  <tbody>\n",
       "    <tr>\n",
       "      <th></th>\n",
       "      <td>83</td>\n",
       "      <td>83</td>\n",
       "      <td>83</td>\n",
       "      <td>83</td>\n",
       "    </tr>\n",
       "    <tr>\n",
       "      <th>exp1</th>\n",
       "      <td>3</td>\n",
       "      <td>3</td>\n",
       "      <td>3</td>\n",
       "      <td>3</td>\n",
       "    </tr>\n",
       "    <tr>\n",
       "      <th>exp4</th>\n",
       "      <td>10</td>\n",
       "      <td>10</td>\n",
       "      <td>10</td>\n",
       "      <td>10</td>\n",
       "    </tr>\n",
       "    <tr>\n",
       "      <th>exp5</th>\n",
       "      <td>7</td>\n",
       "      <td>7</td>\n",
       "      <td>7</td>\n",
       "      <td>7</td>\n",
       "    </tr>\n",
       "  </tbody>\n",
       "</table>\n",
       "</div>"
      ],
      "text/plain": [
       "            original unit id  exp1 vs baseline  exp4 vs baseline  \\\n",
       "cell group                                                         \n",
       "                          83                83                83   \n",
       "exp1                       3                 3                 3   \n",
       "exp4                      10                10                10   \n",
       "exp5                       7                 7                 7   \n",
       "\n",
       "            exp5 vs baseline  \n",
       "cell group                    \n",
       "                          83  \n",
       "exp1                       3  \n",
       "exp4                      10  \n",
       "exp5                       7  "
      ]
     },
     "execution_count": 23,
     "metadata": {},
     "output_type": "execute_result"
    }
   ],
   "source": [
    "cagemate_master_df_trimmed['cell group'] = cagemate_master_df_trimmed.apply(lambda row: group_cells(row['exp1 vs baseline'],\n",
    "                                                                  #row['exp2 vs baseline'],\n",
    "                                                                  #row['exp3 vs baseline'],\n",
    "                                                                  row['exp4 vs baseline'],\n",
    "                                                                  row['exp5 vs baseline']), axis = 1)\n",
    "results = cagemate_master_df_trimmed.groupby('cell group').count()\n",
    "results"
   ]
  },
  {
   "cell_type": "code",
   "execution_count": 24,
   "metadata": {},
   "outputs": [
    {
     "data": {
      "image/png": "[encoded data removed]",
      "text/plain": [
       "<Figure size 800x600 with 1 Axes>"
      ]
     },
     "metadata": {},
     "output_type": "display_data"
    }
   ],
   "source": [
    "set1 = set(cagemate_master_df_trimmed.index[cagemate_master_df_trimmed['cell group'].str.contains('exp1')])\n",
    "set2 = set(cagemate_master_df_trimmed.index[cagemate_master_df_trimmed['cell group'].str.contains('exp4')])\n",
    "set3 = set(cagemate_master_df_trimmed.index[cagemate_master_df_trimmed['cell group'].str.contains('exp5')])\n",
    "from matplotlib_venn import venn3\n",
    "\n",
    "plt.figure(figsize=(8, 6))\n",
    "venn = venn3([set1, set2, set3], ('Exposure 1', 'Exposure 4', 'Exposure 5'))\n",
    "try:\n",
    "   venn.get_patch_by_id('100').set_color('#792910') \n",
    "   venn.get_patch_by_id('100').set_alpha(0.7)\n",
    "except AttributeError:\n",
    "   pass\n",
    "\n",
    "try:\n",
    "   venn.get_patch_by_id('010').set_color('#FFAF00') \n",
    "   venn.get_patch_by_id('010').set_alpha(0.7)\n",
    "except AttributeError:\n",
    "   pass\n",
    "\n",
    "try:\n",
    "   venn.get_patch_by_id('001').set_color('#15616F')\n",
    "   venn.get_patch_by_id('001').set_alpha(0.7)\n",
    "except AttributeError:\n",
    "   pass\n",
    "\n",
    "try:\n",
    "   venn.get_patch_by_id('110').set_color('#bc6c08')\n",
    "   venn.get_patch_by_id('110').set_alpha(0.7)\n",
    "except AttributeError:\n",
    "   pass\n",
    "\n",
    "try:\n",
    "   venn.get_patch_by_id('101').set_color('#474640')\n",
    "   venn.get_patch_by_id('101').set_alpha(0.7)\n",
    "except AttributeError:\n",
    "   pass\n",
    "\n",
    "try:\n",
    "   venn.get_patch_by_id('011').set_color('#8a8838')\n",
    "   venn.get_patch_by_id('011').set_alpha(0.7)\n",
    "except AttributeError:\n",
    "   pass\n",
    "\n",
    "try:\n",
    "   venn.get_patch_by_id('111').set_color('#84682a')\n",
    "   venn.get_patch_by_id('111').set_alpha(0.7)\n",
    "except AttributeError:\n",
    "   pass\n",
    "\n",
    "for text in venn.set_labels:\n",
    "    text.set_fontsize(20)  # Set label font size\n",
    "\n",
    "for text in venn.subset_labels:\n",
    "    if text:  # Check if the subset label exists\n",
    "        text.set_fontsize(28) \n",
    "# Show the plot\n",
    "plt.title('cagemate: Presniff', fontsize =24)\n",
    "plt.show()"
   ]
  },
  {
   "cell_type": "markdown",
   "metadata": {},
   "source": [
    "# Wilcoxon: Baseline vs Sniff"
   ]
  },
  {
   "cell_type": "code",
   "execution_count": 40,
   "metadata": {},
   "outputs": [
    {
     "name": "stdout",
     "output_type": "stream",
     "text": [
      "All set to analyze\n",
      "All set to analyze\n",
      "Wilcoxon can't be done on 33_cage_p1_merged.rec because <6 samples for either exp1 or baseline\n",
      "Wilcoxon can't be done on 33_cage_p1_merged.rec because <6 samples for either exp4 or baseline\n",
      "Wilcoxon can't be done on 44_cage_p1_merged.rec because <6 samples for either exp4 or baseline\n",
      "Wilcoxon can't be done on 12_nov_p1_merged.rec because <6 samples for either exp4 or baseline\n",
      "Wilcoxon can't be done on 11_cage_p1_merged.rec because <6 samples for either exp5 or baseline\n"
     ]
    }
   ],
   "source": [
    "from importlib import reload\n",
    "reload(wilcox)\n",
    "novel_collection.analyze(timebin = 100, ignore_freq=0.5)\n",
    "cagemate_collection.analyze(timebin = 100, ignore_freq=0.5)\n",
    "event_length = 3\n",
    "baseline_window = 2\n",
    "offset = 0\n",
    "cagemate_dfs = []\n",
    "novel_dfs = []\n",
    "cagemate_event_length = 2\n",
    "novel_event_length_dict = {'exp1': 4.5, 'exp4':2.5, 'exp5': 4}\n",
    "events = ['exp1', 'exp4', 'exp5']\n",
    "# Create first event's dataframes\n",
    "cagemate_merged = wilcox.wilcoxon_event1v2_collection(cagemate_collection, event1=events[0], event2 = 'baseline', event_length=event_length, pre_window = 0, plot=False)\n",
    "novel_merged = wilcox.wilcoxon_event1v2_collection(novel_collection, event1=events[0], event2 = 'baseline', event_length=event_length, pre_window = 0, plot=False)\n",
    "\n",
    "# Merge remaining events with suffixes\n",
    "for i, event in enumerate(events[1:], 1):\n",
    "   suffix = f\"_{event}\"\n",
    "   cagemate_df = wilcox.wilcoxon_event1v2_collection(cagemate_collection, event1=event, event2 = 'baseline', event_length=cagemate_event_length, pre_window = 0, plot=False)\n",
    "   novel_df = wilcox.wilcoxon_event1v2_collection(novel_collection, event1=event, event2 = 'baseline', event_length=novel_event_length_dict[event], pre_window = 0, plot=False)\n",
    "   \n",
    "   cagemate_merged = pd.merge(cagemate_merged, cagemate_df, on=['Recording', 'Subject', 'original unit id'], suffixes=('', suffix))\n",
    "   novel_merged = pd.merge(novel_merged, novel_df, on=['Recording', 'Subject', 'original unit id'], suffixes=('', suffix))"
   ]
  },
  {
   "cell_type": "code",
   "execution_count": 43,
   "metadata": {},
   "outputs": [
    {
     "name": "stderr",
     "output_type": "stream",
     "text": [
      "C:\\Users\\megha\\AppData\\Local\\Temp\\ipykernel_54932\\371303454.py:27: SettingWithCopyWarning: \n",
      "A value is trying to be set on a copy of a slice from a DataFrame.\n",
      "Try using .loc[row_indexer,col_indexer] = value instead\n",
      "\n",
      "See the caveats in the documentation: https://pandas.pydata.org/pandas-docs/stable/user_guide/indexing.html#returning-a-view-versus-a-copy\n",
      "  novel_master_df_trimmed['cell group'] = novel_master_df_trimmed.apply(lambda row: group_cells(row['exp1 vs baseline'],\n"
     ]
    },
    {
     "data": {
      "image/png": "[encoded data removed]",
      "text/plain": [
       "<Figure size 800x600 with 1 Axes>"
      ]
     },
     "metadata": {},
     "output_type": "display_data"
    }
   ],
   "source": [
    "comparisons = ['exp1', 'exp4', 'exp5']\n",
    "base_columns = ['Subject', 'Recording', 'original unit id']\n",
    "novel_master_df = novel_merged[base_columns].copy()\n",
    "\n",
    "# Add comparison columns\n",
    "for comp in comparisons:\n",
    "   novel_master_df[f'{comp} vs baseline'] = novel_merged[f'event1 vs event2_{comp}' if comp != 'exp1' else 'event1 vs event2']\n",
    "\n",
    "# Create trimmed version\n",
    "novel_master_df_trimmed = novel_master_df[['original unit id'] + [f'{comp} vs baseline' for comp in comparisons]]\n",
    "novel_master_df_trimmed\n",
    "\n",
    "def group_cells(exp1, exp4, exp5):\n",
    "    group = ''\n",
    "    if (exp1 == 'increases') or (exp1 == 'decreases'):\n",
    "        group = 'exp1'\n",
    "    # if (exp2 == 'increases') or (exp2 == 'decreases'):\n",
    "    #     group = group + 'exp2' \n",
    "    # if (exp3 == 'increases') or (exp3 == 'decreases'):\n",
    "    #     group = group + 'exp3'\n",
    "    if (exp4 == 'increases') or (exp4 == 'decreases'):\n",
    "        group = group + 'exp4'\n",
    "    if (exp5 == 'increases') or (exp5 == 'decreases'):\n",
    "        group = group + 'exp5'\n",
    "    return group\n",
    "\n",
    "novel_master_df_trimmed['cell group'] = novel_master_df_trimmed.apply(lambda row: group_cells(row['exp1 vs baseline'],\n",
    "                                                                  #row['exp2 vs baseline'],\n",
    "                                                                  #row['exp3 vs baseline'],\n",
    "                                                                  row['exp4 vs baseline'],\n",
    "                                                                  row['exp5 vs baseline']), axis = 1)\n",
    "results = novel_master_df_trimmed.groupby('cell group').count()\n",
    "results\n",
    "\n",
    "set1 = set(novel_master_df_trimmed.index[novel_master_df_trimmed['cell group'].str.contains('exp1')])\n",
    "set2 = set(novel_master_df_trimmed.index[novel_master_df_trimmed['cell group'].str.contains('exp4')])\n",
    "set3 = set(novel_master_df_trimmed.index[novel_master_df_trimmed['cell group'].str.contains('exp5')])\n",
    "from matplotlib_venn import venn3\n",
    "\n",
    "plt.figure(figsize=(8, 6))\n",
    "venn = venn3([set1, set2, set3], ('Exposure 1', 'Exposure 4', 'Exposure 5'))\n",
    "try:\n",
    "   venn.get_patch_by_id('100').set_color('#792910') \n",
    "   venn.get_patch_by_id('100').set_alpha(0.7)\n",
    "except AttributeError:\n",
    "   pass\n",
    "\n",
    "try:\n",
    "   venn.get_patch_by_id('010').set_color('#FFAF00') \n",
    "   venn.get_patch_by_id('010').set_alpha(0.7)\n",
    "except AttributeError:\n",
    "   pass\n",
    "\n",
    "try:\n",
    "   venn.get_patch_by_id('001').set_color('#15616F')\n",
    "   venn.get_patch_by_id('001').set_alpha(0.7)\n",
    "except AttributeError:\n",
    "   pass\n",
    "\n",
    "try:\n",
    "   venn.get_patch_by_id('110').set_color('#bc6c08')\n",
    "   venn.get_patch_by_id('110').set_alpha(0.7)\n",
    "except AttributeError:\n",
    "   pass\n",
    "\n",
    "try:\n",
    "   venn.get_patch_by_id('101').set_color('#474640')\n",
    "   venn.get_patch_by_id('101').set_alpha(0.7)\n",
    "except AttributeError:\n",
    "   pass\n",
    "\n",
    "try:\n",
    "   venn.get_patch_by_id('011').set_color('#8a8838')\n",
    "   venn.get_patch_by_id('011').set_alpha(0.7)\n",
    "except AttributeError:\n",
    "   pass\n",
    "\n",
    "try:\n",
    "   venn.get_patch_by_id('111').set_color('#84682a')\n",
    "   venn.get_patch_by_id('111').set_alpha(0.7)\n",
    "except AttributeError:\n",
    "   pass\n",
    "\n",
    "\n",
    "    \n",
    "\n",
    "for text in venn.set_labels:\n",
    "    text.set_fontsize(20)  # Set label font size\n",
    "\n",
    "for text in venn.subset_labels:\n",
    "    if text:  # Check if the subset label exists\n",
    "        text.set_fontsize(28) \n",
    "# Show the plot\n",
    "plt.title('Novel: Baseline', fontsize =24)\n",
    "plt.show()"
   ]
  },
  {
   "cell_type": "code",
   "execution_count": 44,
   "metadata": {},
   "outputs": [
    {
     "name": "stderr",
     "output_type": "stream",
     "text": [
      "C:\\Users\\megha\\AppData\\Local\\Temp\\ipykernel_54932\\2359003080.py:27: SettingWithCopyWarning: \n",
      "A value is trying to be set on a copy of a slice from a DataFrame.\n",
      "Try using .loc[row_indexer,col_indexer] = value instead\n",
      "\n",
      "See the caveats in the documentation: https://pandas.pydata.org/pandas-docs/stable/user_guide/indexing.html#returning-a-view-versus-a-copy\n",
      "  cagemate_master_df_trimmed['cell group'] = cagemate_master_df_trimmed.apply(lambda row: group_cells(row['exp1 vs baseline'],\n"
     ]
    },
    {
     "data": {
      "image/png": "[encoded data removed]",
      "text/plain": [
       "<Figure size 800x600 with 1 Axes>"
      ]
     },
     "metadata": {},
     "output_type": "display_data"
    }
   ],
   "source": [
    "comparisons = ['exp1', 'exp4', 'exp5']\n",
    "base_columns = ['Subject', 'Recording', 'original unit id']\n",
    "cagemate_master_df = cagemate_merged[base_columns].copy()\n",
    "\n",
    "# Add comparison columns\n",
    "for comp in comparisons:\n",
    "   cagemate_master_df[f'{comp} vs baseline'] = cagemate_merged[f'event1 vs event2_{comp}' if comp != 'exp1' else 'event1 vs event2']\n",
    "\n",
    "# Create trimmed version\n",
    "cagemate_master_df_trimmed = cagemate_master_df[['original unit id'] + [f'{comp} vs baseline' for comp in comparisons]]\n",
    "cagemate_master_df_trimmed\n",
    "\n",
    "def group_cells(exp1, exp4, exp5):\n",
    "    group = ''\n",
    "    if (exp1 == 'increases') or (exp1 == 'decreases'):\n",
    "        group = 'exp1'\n",
    "    # if (exp2 == 'increases') or (exp2 == 'decreases'):\n",
    "    #     group = group + 'exp2' \n",
    "    # if (exp3 == 'increases') or (exp3 == 'decreases'):\n",
    "    #     group = group + 'exp3'\n",
    "    if (exp4 == 'increases') or (exp4 == 'decreases'):\n",
    "        group = group + 'exp4'\n",
    "    if (exp5 == 'increases') or (exp5 == 'decreases'):\n",
    "        group = group + 'exp5'\n",
    "    return group\n",
    "\n",
    "cagemate_master_df_trimmed['cell group'] = cagemate_master_df_trimmed.apply(lambda row: group_cells(row['exp1 vs baseline'],\n",
    "                                                                  #row['exp2 vs baseline'],\n",
    "                                                                  #row['exp3 vs baseline'],\n",
    "                                                                  row['exp4 vs baseline'],\n",
    "                                                                  row['exp5 vs baseline']), axis = 1)\n",
    "results = cagemate_master_df_trimmed.groupby('cell group').count()\n",
    "results\n",
    "\n",
    "set1 = set(cagemate_master_df_trimmed.index[cagemate_master_df_trimmed['cell group'].str.contains('exp1')])\n",
    "set2 = set(cagemate_master_df_trimmed.index[cagemate_master_df_trimmed['cell group'].str.contains('exp4')])\n",
    "set3 = set(cagemate_master_df_trimmed.index[cagemate_master_df_trimmed['cell group'].str.contains('exp5')])\n",
    "from matplotlib_venn import venn3\n",
    "\n",
    "plt.figure(figsize=(8, 6))\n",
    "venn = venn3([set1, set2, set3], ('Exposure 1', 'Exposure 4', 'Exposure 5'))\n",
    "try:\n",
    "   venn.get_patch_by_id('100').set_color('#792910') \n",
    "   venn.get_patch_by_id('100').set_alpha(0.7)\n",
    "except AttributeError:\n",
    "   pass\n",
    "\n",
    "try:\n",
    "   venn.get_patch_by_id('010').set_color('#FFAF00') \n",
    "   venn.get_patch_by_id('010').set_alpha(0.7)\n",
    "except AttributeError:\n",
    "   pass\n",
    "\n",
    "try:\n",
    "   venn.get_patch_by_id('001').set_color('#15616F')\n",
    "   venn.get_patch_by_id('001').set_alpha(0.7)\n",
    "except AttributeError:\n",
    "   pass\n",
    "\n",
    "try:\n",
    "   venn.get_patch_by_id('110').set_color('#bc6c08')\n",
    "   venn.get_patch_by_id('110').set_alpha(0.7)\n",
    "except AttributeError:\n",
    "   pass\n",
    "\n",
    "try:\n",
    "   venn.get_patch_by_id('101').set_color('#474640')\n",
    "   venn.get_patch_by_id('101').set_alpha(0.7)\n",
    "except AttributeError:\n",
    "   pass\n",
    "\n",
    "try:\n",
    "   venn.get_patch_by_id('011').set_color('#8a8838')\n",
    "   venn.get_patch_by_id('011').set_alpha(0.7)\n",
    "except AttributeError:\n",
    "   pass\n",
    "\n",
    "try:\n",
    "   venn.get_patch_by_id('111').set_color('#84682a')\n",
    "   venn.get_patch_by_id('111').set_alpha(0.7)\n",
    "except AttributeError:\n",
    "   pass\n",
    "\n",
    "\n",
    "    \n",
    "\n",
    "for text in venn.set_labels:\n",
    "    text.set_fontsize(20)  # Set label font size\n",
    "\n",
    "for text in venn.subset_labels:\n",
    "    if text:  # Check if the subset label exists\n",
    "        text.set_fontsize(28) \n",
    "# Show the plot\n",
    "plt.title('cagemate: Baseline', fontsize =24)\n",
    "plt.show()"
   ]
  },
  {
   "cell_type": "markdown",
   "metadata": {},
   "source": [
    "# auROC"
   ]
  },
  {
   "cell_type": "code",
   "execution_count": 52,
   "metadata": {},
   "outputs": [
    {
     "name": "stdout",
     "output_type": "stream",
     "text": [
      "All set to analyze\n"
     ]
    }
   ],
   "source": [
    "# from importlib import reload\n",
    "# reload(wilcox)\n",
    "\n",
    "# cagemate_collection.analyze(timebin = 100, ignore_freq= 0.5)\n",
    "# bootstrap_results = wilcox.bootstrap(cagemate_collection, ['exp1', 'exp4', 'exp5'], 3, pre_window = 0, num_perm = 2000)"
   ]
  },
  {
   "cell_type": "code",
   "execution_count": 46,
   "metadata": {},
   "outputs": [
    {
     "name": "stdout",
     "output_type": "stream",
     "text": [
      "All set to analyze\n"
     ]
    }
   ],
   "source": [
    "from importlib import reload\n",
    "reload(wilcox)\n",
    "\n",
    "novel_collection.analyze(timebin = 100, ignore_freq= 0.5)\n",
    "bootstrap_results = wilcox.bootstrap(novel_collection, ['exp1', 'exp4', 'exp5'], 3, pre_window = 0, num_perm = 2000)"
   ]
  },
  {
   "cell_type": "code",
   "execution_count": null,
   "metadata": {},
   "outputs": [],
   "source": []
  },
  {
   "cell_type": "code",
   "execution_count": null,
   "metadata": {},
   "outputs": [],
   "source": []
  },
  {
   "cell_type": "code",
   "execution_count": 47,
   "metadata": {},
   "outputs": [],
   "source": [
    "bootstrap_results.to_csv('bootstrap_exp1_4_5_novel.csv')"
   ]
  },
  {
   "cell_type": "code",
   "execution_count": 55,
   "metadata": {},
   "outputs": [],
   "source": [
    "bootstrap_results_novel = pd.read_csv('bootstrap_exp1_4_5_novel.csv')"
   ]
  },
  {
   "cell_type": "code",
   "execution_count": 51,
   "metadata": {},
   "outputs": [
    {
     "data": {
      "application/vnd.microsoft.datawrangler.viewer.v0+json": {
       "columns": [
        {
         "name": "index",
         "rawType": "int64",
         "type": "integer"
        },
        {
         "name": "Unnamed: 0",
         "rawType": "int64",
         "type": "integer"
        },
        {
         "name": "original_unit_id",
         "rawType": "int64",
         "type": "integer"
        },
        {
         "name": "recording",
         "rawType": "object",
         "type": "string"
        },
        {
         "name": "exp1",
         "rawType": "object",
         "type": "string"
        },
        {
         "name": "exp4",
         "rawType": "object",
         "type": "string"
        },
        {
         "name": "exp5",
         "rawType": "object",
         "type": "string"
        },
        {
         "name": "cell group",
         "rawType": "object",
         "type": "string"
        }
       ],
       "conversionMethod": "pd.DataFrame",
       "ref": "9f486dde-fba6-4a19-9fda-8e09a4e963f3",
       "rows": [
        [
         "0",
         "0",
         "9",
         "11_nov_p1_merged.rec",
         "significantly increased",
         "significantly increased",
         "significantly increased",
         ""
        ],
        [
         "1",
         "1",
         "127",
         "11_nov_p1_merged.rec",
         "significantly increased",
         "significantly decreased",
         "significantly decreased",
         ""
        ],
        [
         "2",
         "2",
         "210",
         "11_nov_p1_merged.rec",
         "not significantly changed",
         "significantly decreased",
         "not significantly changed",
         ""
        ],
        [
         "3",
         "3",
         "251",
         "11_nov_p1_merged.rec",
         "significantly decreased",
         "significantly decreased",
         "significantly decreased",
         ""
        ],
        [
         "4",
         "4",
         "8",
         "11_nov_p1_merged.rec",
         "significantly decreased",
         "not significantly changed",
         "significantly decreased",
         ""
        ],
        [
         "5",
         "5",
         "304",
         "11_nov_p1_merged.rec",
         "not significantly changed",
         "not significantly changed",
         "significantly increased",
         ""
        ],
        [
         "6",
         "6",
         "424",
         "11_nov_p1_merged.rec",
         "not significantly changed",
         "not significantly changed",
         "not significantly changed",
         ""
        ],
        [
         "7",
         "7",
         "241",
         "11_nov_p1_merged.rec",
         "significantly increased",
         "significantly decreased",
         "significantly decreased",
         ""
        ],
        [
         "8",
         "8",
         "430",
         "11_nov_p1_merged.rec",
         "significantly increased",
         "significantly decreased",
         "significantly decreased",
         ""
        ],
        [
         "9",
         "9",
         "326",
         "11_nov_p1_merged.rec",
         "significantly decreased",
         "significantly decreased",
         "significantly decreased",
         ""
        ],
        [
         "10",
         "10",
         "268",
         "11_nov_p1_merged.rec",
         "significantly decreased",
         "significantly decreased",
         "significantly decreased",
         ""
        ],
        [
         "11",
         "11",
         "125",
         "11_nov_p1_merged.rec",
         "significantly decreased",
         "significantly increased",
         "significantly decreased",
         ""
        ],
        [
         "12",
         "12",
         "181",
         "11_nov_p1_merged.rec",
         "not significantly changed",
         "significantly decreased",
         "significantly decreased",
         ""
        ],
        [
         "13",
         "13",
         "357",
         "11_nov_p1_merged.rec",
         "significantly decreased",
         "significantly decreased",
         "significantly decreased",
         ""
        ],
        [
         "14",
         "14",
         "201",
         "11_nov_p1_merged.rec",
         "significantly increased",
         "significantly decreased",
         "significantly decreased",
         ""
        ],
        [
         "15",
         "15",
         "429",
         "11_nov_p1_merged.rec",
         "significantly decreased",
         "significantly increased",
         "significantly increased",
         ""
        ],
        [
         "16",
         "16",
         "379",
         "11_nov_p1_merged.rec",
         "significantly increased",
         "significantly decreased",
         "significantly decreased",
         ""
        ],
        [
         "17",
         "17",
         "1",
         "11_nov_p1_merged.rec",
         "significantly decreased",
         "not significantly changed",
         "significantly decreased",
         ""
        ],
        [
         "18",
         "18",
         "25",
         "11_nov_p1_merged.rec",
         "significantly increased",
         "significantly decreased",
         "significantly increased",
         ""
        ],
        [
         "19",
         "19",
         "346",
         "11_nov_p1_merged.rec",
         "significantly increased",
         "significantly decreased",
         "significantly decreased",
         ""
        ],
        [
         "20",
         "20",
         "50",
         "12_nov_p1_merged.rec",
         "significantly increased",
         "not significantly changed",
         "significantly increased",
         ""
        ],
        [
         "21",
         "21",
         "43",
         "12_nov_p1_merged.rec",
         "not significantly changed",
         "significantly increased",
         "not significantly changed",
         ""
        ],
        [
         "22",
         "22",
         "10",
         "12_nov_p1_merged.rec",
         "significantly decreased",
         "significantly decreased",
         "not significantly changed",
         ""
        ],
        [
         "23",
         "23",
         "72",
         "12_nov_p1_merged.rec",
         "not significantly changed",
         "not significantly changed",
         "significantly increased",
         ""
        ],
        [
         "24",
         "24",
         "189",
         "12_nov_p1_merged.rec",
         "significantly decreased",
         "not significantly changed",
         "significantly decreased",
         ""
        ],
        [
         "25",
         "25",
         "155",
         "12_nov_p1_merged.rec",
         "significantly decreased",
         "significantly increased",
         "not significantly changed",
         ""
        ],
        [
         "26",
         "26",
         "95",
         "12_nov_p1_merged.rec",
         "not significantly changed",
         "not significantly changed",
         "not significantly changed",
         ""
        ],
        [
         "27",
         "27",
         "37",
         "12_nov_p1_merged.rec",
         "significantly decreased",
         "not significantly changed",
         "significantly decreased",
         ""
        ],
        [
         "28",
         "28",
         "168",
         "12_nov_p1_merged.rec",
         "significantly decreased",
         "not significantly changed",
         "significantly decreased",
         ""
        ],
        [
         "29",
         "29",
         "7",
         "12_nov_p1_merged.rec",
         "not significantly changed",
         "not significantly changed",
         "not significantly changed",
         ""
        ],
        [
         "30",
         "30",
         "57",
         "12_nov_p1_merged.rec",
         "not significantly changed",
         "significantly decreased",
         "significantly decreased",
         ""
        ],
        [
         "31",
         "31",
         "194",
         "12_nov_p1_merged.rec",
         "not significantly changed",
         "significantly decreased",
         "significantly decreased",
         ""
        ],
        [
         "32",
         "32",
         "130",
         "12_nov_p1_merged.rec",
         "significantly decreased",
         "not significantly changed",
         "significantly decreased",
         ""
        ],
        [
         "33",
         "33",
         "27",
         "12_nov_p1_merged.rec",
         "not significantly changed",
         "not significantly changed",
         "significantly increased",
         ""
        ],
        [
         "34",
         "34",
         "8",
         "12_nov_p1_merged.rec",
         "significantly decreased",
         "significantly increased",
         "significantly decreased",
         ""
        ],
        [
         "35",
         "35",
         "34",
         "13_nov_p1_merged.rec",
         "not significantly changed",
         "not significantly changed",
         "significantly decreased",
         ""
        ],
        [
         "36",
         "36",
         "5",
         "13_nov_p1_merged.rec",
         "significantly decreased",
         "significantly increased",
         "significantly decreased",
         ""
        ],
        [
         "37",
         "37",
         "33",
         "13_nov_p1_merged.rec",
         "not significantly changed",
         "not significantly changed",
         "not significantly changed",
         ""
        ],
        [
         "38",
         "38",
         "22",
         "13_nov_p1_merged.rec",
         "not significantly changed",
         "significantly increased",
         "not significantly changed",
         ""
        ],
        [
         "39",
         "39",
         "0",
         "13_nov_p1_merged.rec",
         "significantly increased",
         "not significantly changed",
         "significantly increased",
         ""
        ],
        [
         "40",
         "40",
         "41",
         "13_nov_p1_merged.rec",
         "not significantly changed",
         "significantly increased",
         "significantly increased",
         ""
        ],
        [
         "41",
         "41",
         "6",
         "13_nov_p1_merged.rec",
         "significantly increased",
         "significantly increased",
         "significantly increased",
         ""
        ],
        [
         "42",
         "42",
         "35",
         "13_nov_p1_merged.rec",
         "significantly decreased",
         "significantly increased",
         "significantly decreased",
         ""
        ],
        [
         "43",
         "43",
         "39",
         "13_nov_p1_merged.rec",
         "significantly increased",
         "not significantly changed",
         "not significantly changed",
         ""
        ],
        [
         "44",
         "44",
         "11",
         "13_nov_p1_merged.rec",
         "significantly decreased",
         "not significantly changed",
         "not significantly changed",
         ""
        ],
        [
         "45",
         "45",
         "31",
         "13_nov_p1_merged.rec",
         "significantly increased",
         "not significantly changed",
         "significantly decreased",
         ""
        ],
        [
         "46",
         "46",
         "33",
         "21_nov_p1_merged.rec",
         "significantly decreased",
         "significantly increased",
         "significantly increased",
         ""
        ],
        [
         "47",
         "47",
         "16",
         "21_nov_p1_merged.rec",
         "not significantly changed",
         "significantly decreased",
         "significantly decreased",
         ""
        ],
        [
         "48",
         "48",
         "52",
         "21_nov_p1_merged.rec",
         "significantly decreased",
         "significantly decreased",
         "significantly decreased",
         ""
        ],
        [
         "49",
         "49",
         "21",
         "21_nov_p1_merged.rec",
         "significantly decreased",
         "not significantly changed",
         "significantly increased",
         ""
        ]
       ],
       "shape": {
        "columns": 7,
        "rows": 131
       }
      },
      "text/html": [
       "<div>\n",
       "<style scoped>\n",
       "    .dataframe tbody tr th:only-of-type {\n",
       "        vertical-align: middle;\n",
       "    }\n",
       "\n",
       "    .dataframe tbody tr th {\n",
       "        vertical-align: top;\n",
       "    }\n",
       "\n",
       "    .dataframe thead th {\n",
       "        text-align: right;\n",
       "    }\n",
       "</style>\n",
       "<table border=\"1\" class=\"dataframe\">\n",
       "  <thead>\n",
       "    <tr style=\"text-align: right;\">\n",
       "      <th></th>\n",
       "      <th>Unnamed: 0</th>\n",
       "      <th>original_unit_id</th>\n",
       "      <th>recording</th>\n",
       "      <th>exp1</th>\n",
       "      <th>exp4</th>\n",
       "      <th>exp5</th>\n",
       "      <th>cell group</th>\n",
       "    </tr>\n",
       "  </thead>\n",
       "  <tbody>\n",
       "    <tr>\n",
       "      <th>0</th>\n",
       "      <td>0</td>\n",
       "      <td>9</td>\n",
       "      <td>11_nov_p1_merged.rec</td>\n",
       "      <td>significantly increased</td>\n",
       "      <td>significantly increased</td>\n",
       "      <td>significantly increased</td>\n",
       "      <td></td>\n",
       "    </tr>\n",
       "    <tr>\n",
       "      <th>1</th>\n",
       "      <td>1</td>\n",
       "      <td>127</td>\n",
       "      <td>11_nov_p1_merged.rec</td>\n",
       "      <td>significantly increased</td>\n",
       "      <td>significantly decreased</td>\n",
       "      <td>significantly decreased</td>\n",
       "      <td></td>\n",
       "    </tr>\n",
       "    <tr>\n",
       "      <th>2</th>\n",
       "      <td>2</td>\n",
       "      <td>210</td>\n",
       "      <td>11_nov_p1_merged.rec</td>\n",
       "      <td>not significantly changed</td>\n",
       "      <td>significantly decreased</td>\n",
       "      <td>not significantly changed</td>\n",
       "      <td></td>\n",
       "    </tr>\n",
       "    <tr>\n",
       "      <th>3</th>\n",
       "      <td>3</td>\n",
       "      <td>251</td>\n",
       "      <td>11_nov_p1_merged.rec</td>\n",
       "      <td>significantly decreased</td>\n",
       "      <td>significantly decreased</td>\n",
       "      <td>significantly decreased</td>\n",
       "      <td></td>\n",
       "    </tr>\n",
       "    <tr>\n",
       "      <th>4</th>\n",
       "      <td>4</td>\n",
       "      <td>8</td>\n",
       "      <td>11_nov_p1_merged.rec</td>\n",
       "      <td>significantly decreased</td>\n",
       "      <td>not significantly changed</td>\n",
       "      <td>significantly decreased</td>\n",
       "      <td></td>\n",
       "    </tr>\n",
       "    <tr>\n",
       "      <th>...</th>\n",
       "      <td>...</td>\n",
       "      <td>...</td>\n",
       "      <td>...</td>\n",
       "      <td>...</td>\n",
       "      <td>...</td>\n",
       "      <td>...</td>\n",
       "      <td>...</td>\n",
       "    </tr>\n",
       "    <tr>\n",
       "      <th>126</th>\n",
       "      <td>126</td>\n",
       "      <td>98</td>\n",
       "      <td>44_nov_p1_merged.rec</td>\n",
       "      <td>significantly decreased</td>\n",
       "      <td>significantly increased</td>\n",
       "      <td>significantly increased</td>\n",
       "      <td></td>\n",
       "    </tr>\n",
       "    <tr>\n",
       "      <th>127</th>\n",
       "      <td>127</td>\n",
       "      <td>123</td>\n",
       "      <td>44_nov_p1_merged.rec</td>\n",
       "      <td>significantly decreased</td>\n",
       "      <td>significantly increased</td>\n",
       "      <td>significantly increased</td>\n",
       "      <td></td>\n",
       "    </tr>\n",
       "    <tr>\n",
       "      <th>128</th>\n",
       "      <td>128</td>\n",
       "      <td>190</td>\n",
       "      <td>44_nov_p1_merged.rec</td>\n",
       "      <td>significantly decreased</td>\n",
       "      <td>significantly decreased</td>\n",
       "      <td>significantly decreased</td>\n",
       "      <td></td>\n",
       "    </tr>\n",
       "    <tr>\n",
       "      <th>129</th>\n",
       "      <td>129</td>\n",
       "      <td>130</td>\n",
       "      <td>44_nov_p1_merged.rec</td>\n",
       "      <td>not significantly changed</td>\n",
       "      <td>significantly increased</td>\n",
       "      <td>significantly increased</td>\n",
       "      <td></td>\n",
       "    </tr>\n",
       "    <tr>\n",
       "      <th>130</th>\n",
       "      <td>130</td>\n",
       "      <td>17</td>\n",
       "      <td>44_nov_p1_merged.rec</td>\n",
       "      <td>not significantly changed</td>\n",
       "      <td>significantly increased</td>\n",
       "      <td>significantly increased</td>\n",
       "      <td></td>\n",
       "    </tr>\n",
       "  </tbody>\n",
       "</table>\n",
       "<p>131 rows × 7 columns</p>\n",
       "</div>"
      ],
      "text/plain": [
       "     Unnamed: 0  original_unit_id             recording  \\\n",
       "0             0                 9  11_nov_p1_merged.rec   \n",
       "1             1               127  11_nov_p1_merged.rec   \n",
       "2             2               210  11_nov_p1_merged.rec   \n",
       "3             3               251  11_nov_p1_merged.rec   \n",
       "4             4                 8  11_nov_p1_merged.rec   \n",
       "..          ...               ...                   ...   \n",
       "126         126                98  44_nov_p1_merged.rec   \n",
       "127         127               123  44_nov_p1_merged.rec   \n",
       "128         128               190  44_nov_p1_merged.rec   \n",
       "129         129               130  44_nov_p1_merged.rec   \n",
       "130         130                17  44_nov_p1_merged.rec   \n",
       "\n",
       "                          exp1                       exp4  \\\n",
       "0      significantly increased    significantly increased   \n",
       "1      significantly increased    significantly decreased   \n",
       "2    not significantly changed    significantly decreased   \n",
       "3      significantly decreased    significantly decreased   \n",
       "4      significantly decreased  not significantly changed   \n",
       "..                         ...                        ...   \n",
       "126    significantly decreased    significantly increased   \n",
       "127    significantly decreased    significantly increased   \n",
       "128    significantly decreased    significantly decreased   \n",
       "129  not significantly changed    significantly increased   \n",
       "130  not significantly changed    significantly increased   \n",
       "\n",
       "                          exp5 cell group  \n",
       "0      significantly increased             \n",
       "1      significantly decreased             \n",
       "2    not significantly changed             \n",
       "3      significantly decreased             \n",
       "4      significantly decreased             \n",
       "..                         ...        ...  \n",
       "126    significantly increased             \n",
       "127    significantly increased             \n",
       "128    significantly decreased             \n",
       "129    significantly increased             \n",
       "130    significantly increased             \n",
       "\n",
       "[131 rows x 7 columns]"
      ]
     },
     "execution_count": 51,
     "metadata": {},
     "output_type": "execute_result"
    }
   ],
   "source": []
  },
  {
   "cell_type": "code",
   "execution_count": 4,
   "metadata": {},
   "outputs": [
    {
     "data": {
      "application/vnd.microsoft.datawrangler.viewer.v0+json": {
       "columns": [
        {
         "name": "cell group",
         "rawType": "object",
         "type": "string"
        },
        {
         "name": "Unnamed: 0",
         "rawType": "int64",
         "type": "integer"
        },
        {
         "name": "original_unit_id",
         "rawType": "int64",
         "type": "integer"
        },
        {
         "name": "recording",
         "rawType": "int64",
         "type": "integer"
        },
        {
         "name": "exp1",
         "rawType": "int64",
         "type": "integer"
        },
        {
         "name": "exp4",
         "rawType": "int64",
         "type": "integer"
        },
        {
         "name": "exp5",
         "rawType": "int64",
         "type": "integer"
        }
       ],
       "conversionMethod": "pd.DataFrame",
       "ref": "a7c7fbc9-fe45-45d6-b769-a92e39ebcdb7",
       "rows": [
        [
         "",
         "15",
         "15",
         "15",
         "15",
         "15",
         "15"
        ],
        [
         "exp1",
         "10",
         "10",
         "10",
         "10",
         "10",
         "10"
        ],
        [
         "exp1exp4",
         "14",
         "14",
         "14",
         "14",
         "14",
         "14"
        ],
        [
         "exp1exp4exp5",
         "32",
         "32",
         "32",
         "32",
         "32",
         "32"
        ],
        [
         "exp1exp5",
         "23",
         "23",
         "23",
         "23",
         "23",
         "23"
        ],
        [
         "exp4",
         "9",
         "9",
         "9",
         "9",
         "9",
         "9"
        ],
        [
         "exp4exp5",
         "23",
         "23",
         "23",
         "23",
         "23",
         "23"
        ],
        [
         "exp5",
         "8",
         "8",
         "8",
         "8",
         "8",
         "8"
        ]
       ],
       "shape": {
        "columns": 6,
        "rows": 8
       }
      },
      "text/html": [
       "<div>\n",
       "<style scoped>\n",
       "    .dataframe tbody tr th:only-of-type {\n",
       "        vertical-align: middle;\n",
       "    }\n",
       "\n",
       "    .dataframe tbody tr th {\n",
       "        vertical-align: top;\n",
       "    }\n",
       "\n",
       "    .dataframe thead th {\n",
       "        text-align: right;\n",
       "    }\n",
       "</style>\n",
       "<table border=\"1\" class=\"dataframe\">\n",
       "  <thead>\n",
       "    <tr style=\"text-align: right;\">\n",
       "      <th></th>\n",
       "      <th>Unnamed: 0</th>\n",
       "      <th>original_unit_id</th>\n",
       "      <th>recording</th>\n",
       "      <th>exp1</th>\n",
       "      <th>exp4</th>\n",
       "      <th>exp5</th>\n",
       "    </tr>\n",
       "    <tr>\n",
       "      <th>cell group</th>\n",
       "      <th></th>\n",
       "      <th></th>\n",
       "      <th></th>\n",
       "      <th></th>\n",
       "      <th></th>\n",
       "      <th></th>\n",
       "    </tr>\n",
       "  </thead>\n",
       "  <tbody>\n",
       "    <tr>\n",
       "      <th></th>\n",
       "      <td>15</td>\n",
       "      <td>15</td>\n",
       "      <td>15</td>\n",
       "      <td>15</td>\n",
       "      <td>15</td>\n",
       "      <td>15</td>\n",
       "    </tr>\n",
       "    <tr>\n",
       "      <th>exp1</th>\n",
       "      <td>10</td>\n",
       "      <td>10</td>\n",
       "      <td>10</td>\n",
       "      <td>10</td>\n",
       "      <td>10</td>\n",
       "      <td>10</td>\n",
       "    </tr>\n",
       "    <tr>\n",
       "      <th>exp1exp4</th>\n",
       "      <td>14</td>\n",
       "      <td>14</td>\n",
       "      <td>14</td>\n",
       "      <td>14</td>\n",
       "      <td>14</td>\n",
       "      <td>14</td>\n",
       "    </tr>\n",
       "    <tr>\n",
       "      <th>exp1exp4exp5</th>\n",
       "      <td>32</td>\n",
       "      <td>32</td>\n",
       "      <td>32</td>\n",
       "      <td>32</td>\n",
       "      <td>32</td>\n",
       "      <td>32</td>\n",
       "    </tr>\n",
       "    <tr>\n",
       "      <th>exp1exp5</th>\n",
       "      <td>23</td>\n",
       "      <td>23</td>\n",
       "      <td>23</td>\n",
       "      <td>23</td>\n",
       "      <td>23</td>\n",
       "      <td>23</td>\n",
       "    </tr>\n",
       "    <tr>\n",
       "      <th>exp4</th>\n",
       "      <td>9</td>\n",
       "      <td>9</td>\n",
       "      <td>9</td>\n",
       "      <td>9</td>\n",
       "      <td>9</td>\n",
       "      <td>9</td>\n",
       "    </tr>\n",
       "    <tr>\n",
       "      <th>exp4exp5</th>\n",
       "      <td>23</td>\n",
       "      <td>23</td>\n",
       "      <td>23</td>\n",
       "      <td>23</td>\n",
       "      <td>23</td>\n",
       "      <td>23</td>\n",
       "    </tr>\n",
       "    <tr>\n",
       "      <th>exp5</th>\n",
       "      <td>8</td>\n",
       "      <td>8</td>\n",
       "      <td>8</td>\n",
       "      <td>8</td>\n",
       "      <td>8</td>\n",
       "      <td>8</td>\n",
       "    </tr>\n",
       "  </tbody>\n",
       "</table>\n",
       "</div>"
      ],
      "text/plain": [
       "              Unnamed: 0  original_unit_id  recording  exp1  exp4  exp5\n",
       "cell group                                                             \n",
       "                      15                15         15    15    15    15\n",
       "exp1                  10                10         10    10    10    10\n",
       "exp1exp4              14                14         14    14    14    14\n",
       "exp1exp4exp5          32                32         32    32    32    32\n",
       "exp1exp5              23                23         23    23    23    23\n",
       "exp4                   9                 9          9     9     9     9\n",
       "exp4exp5              23                23         23    23    23    23\n",
       "exp5                   8                 8          8     8     8     8"
      ]
     },
     "execution_count": 4,
     "metadata": {},
     "output_type": "execute_result"
    }
   ],
   "source": [
    "\n",
    "\n",
    "def group_cells(exp1, exp4, exp5):\n",
    "    group = ''\n",
    "    if (exp1 == 'significantly increased') or (exp1 == 'significantly decreased'):\n",
    "        group = 'exp1'\n",
    "    # if (exp2 == 'increases') or (exp2 == 'decreases'):\n",
    "    #     group = group + 'exp2' \n",
    "    # if (exp3 == 'increases') or (exp3 == 'decreases'):\n",
    "    #     group = group + 'exp3'\n",
    "    if (exp4 == 'significantly increased') or (exp4 == 'significantly decreased'):\n",
    "        group = group + 'exp4'\n",
    "    if (exp5 == 'significantly increased') or (exp5 == 'significantly decreased'):\n",
    "        group = group + 'exp5'\n",
    "    return group\n",
    "\n",
    "bootstrap_results['cell group'] = bootstrap_results.apply(lambda row: group_cells(row['exp1'],\n",
    "                                                                  #row['exp2 vs baseline'],\n",
    "                                                                  #row['exp3 vs baseline'],\n",
    "                                                                  row['exp4'],\n",
    "                                                                  row['exp5']), axis = 1)\n",
    "results = bootstrap_results.groupby('cell group').count()\n",
    "results\n",
    "\n"
   ]
  },
  {
   "cell_type": "code",
   "execution_count": 56,
   "metadata": {},
   "outputs": [
    {
     "data": {
      "application/vnd.microsoft.datawrangler.viewer.v0+json": {
       "columns": [
        {
         "name": "index",
         "rawType": "int64",
         "type": "integer"
        },
        {
         "name": "Unnamed: 0",
         "rawType": "int64",
         "type": "integer"
        },
        {
         "name": "original_unit_id",
         "rawType": "int64",
         "type": "integer"
        },
        {
         "name": "recording",
         "rawType": "object",
         "type": "string"
        },
        {
         "name": "exp1",
         "rawType": "object",
         "type": "string"
        },
        {
         "name": "exp4",
         "rawType": "object",
         "type": "string"
        },
        {
         "name": "exp5",
         "rawType": "object",
         "type": "string"
        }
       ],
       "conversionMethod": "pd.DataFrame",
       "ref": "d9f9d899-6958-4586-b9ef-1b75953d399d",
       "rows": [
        [
         "0",
         "0",
         "9",
         "11_nov_p1_merged.rec",
         "significantly increased",
         "significantly increased",
         "significantly increased"
        ],
        [
         "1",
         "1",
         "127",
         "11_nov_p1_merged.rec",
         "significantly increased",
         "significantly decreased",
         "significantly decreased"
        ],
        [
         "2",
         "2",
         "210",
         "11_nov_p1_merged.rec",
         "not significantly changed",
         "significantly decreased",
         "not significantly changed"
        ],
        [
         "3",
         "3",
         "251",
         "11_nov_p1_merged.rec",
         "significantly decreased",
         "significantly decreased",
         "significantly decreased"
        ],
        [
         "4",
         "4",
         "8",
         "11_nov_p1_merged.rec",
         "significantly decreased",
         "not significantly changed",
         "significantly decreased"
        ],
        [
         "5",
         "5",
         "304",
         "11_nov_p1_merged.rec",
         "not significantly changed",
         "not significantly changed",
         "significantly increased"
        ],
        [
         "6",
         "6",
         "424",
         "11_nov_p1_merged.rec",
         "not significantly changed",
         "not significantly changed",
         "not significantly changed"
        ],
        [
         "7",
         "7",
         "241",
         "11_nov_p1_merged.rec",
         "significantly increased",
         "significantly decreased",
         "significantly decreased"
        ],
        [
         "8",
         "8",
         "430",
         "11_nov_p1_merged.rec",
         "significantly increased",
         "significantly decreased",
         "significantly decreased"
        ],
        [
         "9",
         "9",
         "326",
         "11_nov_p1_merged.rec",
         "significantly decreased",
         "significantly decreased",
         "significantly decreased"
        ],
        [
         "10",
         "10",
         "268",
         "11_nov_p1_merged.rec",
         "significantly decreased",
         "significantly decreased",
         "significantly decreased"
        ],
        [
         "11",
         "11",
         "125",
         "11_nov_p1_merged.rec",
         "significantly decreased",
         "significantly increased",
         "significantly decreased"
        ],
        [
         "12",
         "12",
         "181",
         "11_nov_p1_merged.rec",
         "not significantly changed",
         "significantly decreased",
         "significantly decreased"
        ],
        [
         "13",
         "13",
         "357",
         "11_nov_p1_merged.rec",
         "significantly decreased",
         "significantly decreased",
         "significantly decreased"
        ],
        [
         "14",
         "14",
         "201",
         "11_nov_p1_merged.rec",
         "significantly increased",
         "significantly decreased",
         "significantly decreased"
        ],
        [
         "15",
         "15",
         "429",
         "11_nov_p1_merged.rec",
         "significantly decreased",
         "significantly increased",
         "significantly increased"
        ],
        [
         "16",
         "16",
         "379",
         "11_nov_p1_merged.rec",
         "significantly increased",
         "significantly decreased",
         "significantly decreased"
        ],
        [
         "17",
         "17",
         "1",
         "11_nov_p1_merged.rec",
         "significantly decreased",
         "not significantly changed",
         "significantly decreased"
        ],
        [
         "18",
         "18",
         "25",
         "11_nov_p1_merged.rec",
         "significantly increased",
         "significantly decreased",
         "significantly increased"
        ],
        [
         "19",
         "19",
         "346",
         "11_nov_p1_merged.rec",
         "significantly increased",
         "significantly decreased",
         "significantly decreased"
        ],
        [
         "20",
         "20",
         "50",
         "12_nov_p1_merged.rec",
         "significantly increased",
         "not significantly changed",
         "significantly increased"
        ],
        [
         "21",
         "21",
         "43",
         "12_nov_p1_merged.rec",
         "not significantly changed",
         "significantly increased",
         "not significantly changed"
        ],
        [
         "22",
         "22",
         "10",
         "12_nov_p1_merged.rec",
         "significantly decreased",
         "significantly decreased",
         "not significantly changed"
        ],
        [
         "23",
         "23",
         "72",
         "12_nov_p1_merged.rec",
         "not significantly changed",
         "not significantly changed",
         "significantly increased"
        ],
        [
         "24",
         "24",
         "189",
         "12_nov_p1_merged.rec",
         "significantly decreased",
         "not significantly changed",
         "significantly decreased"
        ],
        [
         "25",
         "25",
         "155",
         "12_nov_p1_merged.rec",
         "significantly decreased",
         "significantly increased",
         "not significantly changed"
        ],
        [
         "26",
         "26",
         "95",
         "12_nov_p1_merged.rec",
         "not significantly changed",
         "not significantly changed",
         "not significantly changed"
        ],
        [
         "27",
         "27",
         "37",
         "12_nov_p1_merged.rec",
         "significantly decreased",
         "not significantly changed",
         "significantly decreased"
        ],
        [
         "28",
         "28",
         "168",
         "12_nov_p1_merged.rec",
         "significantly decreased",
         "not significantly changed",
         "significantly decreased"
        ],
        [
         "29",
         "29",
         "7",
         "12_nov_p1_merged.rec",
         "not significantly changed",
         "not significantly changed",
         "not significantly changed"
        ],
        [
         "30",
         "30",
         "57",
         "12_nov_p1_merged.rec",
         "not significantly changed",
         "significantly decreased",
         "significantly decreased"
        ],
        [
         "31",
         "31",
         "194",
         "12_nov_p1_merged.rec",
         "not significantly changed",
         "significantly decreased",
         "significantly decreased"
        ],
        [
         "32",
         "32",
         "130",
         "12_nov_p1_merged.rec",
         "significantly decreased",
         "not significantly changed",
         "significantly decreased"
        ],
        [
         "33",
         "33",
         "27",
         "12_nov_p1_merged.rec",
         "not significantly changed",
         "not significantly changed",
         "significantly increased"
        ],
        [
         "34",
         "34",
         "8",
         "12_nov_p1_merged.rec",
         "significantly decreased",
         "significantly increased",
         "significantly decreased"
        ],
        [
         "35",
         "35",
         "34",
         "13_nov_p1_merged.rec",
         "not significantly changed",
         "not significantly changed",
         "significantly decreased"
        ],
        [
         "36",
         "36",
         "5",
         "13_nov_p1_merged.rec",
         "significantly decreased",
         "significantly increased",
         "significantly decreased"
        ],
        [
         "37",
         "37",
         "33",
         "13_nov_p1_merged.rec",
         "not significantly changed",
         "not significantly changed",
         "not significantly changed"
        ],
        [
         "38",
         "38",
         "22",
         "13_nov_p1_merged.rec",
         "not significantly changed",
         "significantly increased",
         "not significantly changed"
        ],
        [
         "39",
         "39",
         "0",
         "13_nov_p1_merged.rec",
         "significantly increased",
         "not significantly changed",
         "significantly increased"
        ],
        [
         "40",
         "40",
         "41",
         "13_nov_p1_merged.rec",
         "not significantly changed",
         "significantly increased",
         "significantly increased"
        ],
        [
         "41",
         "41",
         "6",
         "13_nov_p1_merged.rec",
         "significantly increased",
         "significantly increased",
         "significantly increased"
        ],
        [
         "42",
         "42",
         "35",
         "13_nov_p1_merged.rec",
         "significantly decreased",
         "significantly increased",
         "significantly decreased"
        ],
        [
         "43",
         "43",
         "39",
         "13_nov_p1_merged.rec",
         "significantly increased",
         "not significantly changed",
         "not significantly changed"
        ],
        [
         "44",
         "44",
         "11",
         "13_nov_p1_merged.rec",
         "significantly decreased",
         "not significantly changed",
         "not significantly changed"
        ],
        [
         "45",
         "45",
         "31",
         "13_nov_p1_merged.rec",
         "significantly increased",
         "not significantly changed",
         "significantly decreased"
        ],
        [
         "46",
         "46",
         "33",
         "21_nov_p1_merged.rec",
         "significantly decreased",
         "significantly increased",
         "significantly increased"
        ],
        [
         "47",
         "47",
         "16",
         "21_nov_p1_merged.rec",
         "not significantly changed",
         "significantly decreased",
         "significantly decreased"
        ],
        [
         "48",
         "48",
         "52",
         "21_nov_p1_merged.rec",
         "significantly decreased",
         "significantly decreased",
         "significantly decreased"
        ],
        [
         "49",
         "49",
         "21",
         "21_nov_p1_merged.rec",
         "significantly decreased",
         "not significantly changed",
         "significantly increased"
        ]
       ],
       "shape": {
        "columns": 6,
        "rows": 131
       }
      },
      "text/html": [
       "<div>\n",
       "<style scoped>\n",
       "    .dataframe tbody tr th:only-of-type {\n",
       "        vertical-align: middle;\n",
       "    }\n",
       "\n",
       "    .dataframe tbody tr th {\n",
       "        vertical-align: top;\n",
       "    }\n",
       "\n",
       "    .dataframe thead th {\n",
       "        text-align: right;\n",
       "    }\n",
       "</style>\n",
       "<table border=\"1\" class=\"dataframe\">\n",
       "  <thead>\n",
       "    <tr style=\"text-align: right;\">\n",
       "      <th></th>\n",
       "      <th>Unnamed: 0</th>\n",
       "      <th>original_unit_id</th>\n",
       "      <th>recording</th>\n",
       "      <th>exp1</th>\n",
       "      <th>exp4</th>\n",
       "      <th>exp5</th>\n",
       "    </tr>\n",
       "  </thead>\n",
       "  <tbody>\n",
       "    <tr>\n",
       "      <th>0</th>\n",
       "      <td>0</td>\n",
       "      <td>9</td>\n",
       "      <td>11_nov_p1_merged.rec</td>\n",
       "      <td>significantly increased</td>\n",
       "      <td>significantly increased</td>\n",
       "      <td>significantly increased</td>\n",
       "    </tr>\n",
       "    <tr>\n",
       "      <th>1</th>\n",
       "      <td>1</td>\n",
       "      <td>127</td>\n",
       "      <td>11_nov_p1_merged.rec</td>\n",
       "      <td>significantly increased</td>\n",
       "      <td>significantly decreased</td>\n",
       "      <td>significantly decreased</td>\n",
       "    </tr>\n",
       "    <tr>\n",
       "      <th>2</th>\n",
       "      <td>2</td>\n",
       "      <td>210</td>\n",
       "      <td>11_nov_p1_merged.rec</td>\n",
       "      <td>not significantly changed</td>\n",
       "      <td>significantly decreased</td>\n",
       "      <td>not significantly changed</td>\n",
       "    </tr>\n",
       "    <tr>\n",
       "      <th>3</th>\n",
       "      <td>3</td>\n",
       "      <td>251</td>\n",
       "      <td>11_nov_p1_merged.rec</td>\n",
       "      <td>significantly decreased</td>\n",
       "      <td>significantly decreased</td>\n",
       "      <td>significantly decreased</td>\n",
       "    </tr>\n",
       "    <tr>\n",
       "      <th>4</th>\n",
       "      <td>4</td>\n",
       "      <td>8</td>\n",
       "      <td>11_nov_p1_merged.rec</td>\n",
       "      <td>significantly decreased</td>\n",
       "      <td>not significantly changed</td>\n",
       "      <td>significantly decreased</td>\n",
       "    </tr>\n",
       "    <tr>\n",
       "      <th>...</th>\n",
       "      <td>...</td>\n",
       "      <td>...</td>\n",
       "      <td>...</td>\n",
       "      <td>...</td>\n",
       "      <td>...</td>\n",
       "      <td>...</td>\n",
       "    </tr>\n",
       "    <tr>\n",
       "      <th>126</th>\n",
       "      <td>126</td>\n",
       "      <td>98</td>\n",
       "      <td>44_nov_p1_merged.rec</td>\n",
       "      <td>significantly decreased</td>\n",
       "      <td>significantly increased</td>\n",
       "      <td>significantly increased</td>\n",
       "    </tr>\n",
       "    <tr>\n",
       "      <th>127</th>\n",
       "      <td>127</td>\n",
       "      <td>123</td>\n",
       "      <td>44_nov_p1_merged.rec</td>\n",
       "      <td>significantly decreased</td>\n",
       "      <td>significantly increased</td>\n",
       "      <td>significantly increased</td>\n",
       "    </tr>\n",
       "    <tr>\n",
       "      <th>128</th>\n",
       "      <td>128</td>\n",
       "      <td>190</td>\n",
       "      <td>44_nov_p1_merged.rec</td>\n",
       "      <td>significantly decreased</td>\n",
       "      <td>significantly decreased</td>\n",
       "      <td>significantly decreased</td>\n",
       "    </tr>\n",
       "    <tr>\n",
       "      <th>129</th>\n",
       "      <td>129</td>\n",
       "      <td>130</td>\n",
       "      <td>44_nov_p1_merged.rec</td>\n",
       "      <td>not significantly changed</td>\n",
       "      <td>significantly increased</td>\n",
       "      <td>significantly increased</td>\n",
       "    </tr>\n",
       "    <tr>\n",
       "      <th>130</th>\n",
       "      <td>130</td>\n",
       "      <td>17</td>\n",
       "      <td>44_nov_p1_merged.rec</td>\n",
       "      <td>not significantly changed</td>\n",
       "      <td>significantly increased</td>\n",
       "      <td>significantly increased</td>\n",
       "    </tr>\n",
       "  </tbody>\n",
       "</table>\n",
       "<p>131 rows × 6 columns</p>\n",
       "</div>"
      ],
      "text/plain": [
       "     Unnamed: 0  original_unit_id             recording  \\\n",
       "0             0                 9  11_nov_p1_merged.rec   \n",
       "1             1               127  11_nov_p1_merged.rec   \n",
       "2             2               210  11_nov_p1_merged.rec   \n",
       "3             3               251  11_nov_p1_merged.rec   \n",
       "4             4                 8  11_nov_p1_merged.rec   \n",
       "..          ...               ...                   ...   \n",
       "126         126                98  44_nov_p1_merged.rec   \n",
       "127         127               123  44_nov_p1_merged.rec   \n",
       "128         128               190  44_nov_p1_merged.rec   \n",
       "129         129               130  44_nov_p1_merged.rec   \n",
       "130         130                17  44_nov_p1_merged.rec   \n",
       "\n",
       "                          exp1                       exp4  \\\n",
       "0      significantly increased    significantly increased   \n",
       "1      significantly increased    significantly decreased   \n",
       "2    not significantly changed    significantly decreased   \n",
       "3      significantly decreased    significantly decreased   \n",
       "4      significantly decreased  not significantly changed   \n",
       "..                         ...                        ...   \n",
       "126    significantly decreased    significantly increased   \n",
       "127    significantly decreased    significantly increased   \n",
       "128    significantly decreased    significantly decreased   \n",
       "129  not significantly changed    significantly increased   \n",
       "130  not significantly changed    significantly increased   \n",
       "\n",
       "                          exp5  \n",
       "0      significantly increased  \n",
       "1      significantly decreased  \n",
       "2    not significantly changed  \n",
       "3      significantly decreased  \n",
       "4      significantly decreased  \n",
       "..                         ...  \n",
       "126    significantly increased  \n",
       "127    significantly increased  \n",
       "128    significantly decreased  \n",
       "129    significantly increased  \n",
       "130    significantly increased  \n",
       "\n",
       "[131 rows x 6 columns]"
      ]
     },
     "execution_count": 56,
     "metadata": {},
     "output_type": "execute_result"
    }
   ],
   "source": [
    "bootstrap_results_novel"
   ]
  },
  {
   "cell_type": "code",
   "execution_count": 57,
   "metadata": {},
   "outputs": [],
   "source": [
    "def group_cells(exp1, exp4, exp5):\n",
    "    group = ''\n",
    "    if (exp1 == 'significantly increased') or (exp1 == 'significantly decreased'):\n",
    "        group = 'exp1'\n",
    "    # if (exp2 == 'increases') or (exp2 == 'decreases'):\n",
    "    #     group = group + 'exp2' \n",
    "    # if (exp3 == 'increases') or (exp3 == 'decreases'):\n",
    "    #     group = group + 'exp3'\n",
    "    if (exp4 == 'significantly increased') or (exp4 == 'significantly decreased'):\n",
    "        group = group + 'exp4'\n",
    "    if (exp5 == 'significantly increased') or (exp5 == 'significantly decreased'):\n",
    "        group = group + 'exp5'\n",
    "    return group"
   ]
  },
  {
   "cell_type": "code",
   "execution_count": 58,
   "metadata": {},
   "outputs": [
    {
     "data": {
      "application/vnd.microsoft.datawrangler.viewer.v0+json": {
       "columns": [
        {
         "name": "cell group",
         "rawType": "object",
         "type": "string"
        },
        {
         "name": "Unnamed: 0",
         "rawType": "int64",
         "type": "integer"
        },
        {
         "name": "original_unit_id",
         "rawType": "int64",
         "type": "integer"
        },
        {
         "name": "recording",
         "rawType": "int64",
         "type": "integer"
        },
        {
         "name": "exp1",
         "rawType": "int64",
         "type": "integer"
        },
        {
         "name": "exp4",
         "rawType": "int64",
         "type": "integer"
        },
        {
         "name": "exp5",
         "rawType": "int64",
         "type": "integer"
        }
       ],
       "conversionMethod": "pd.DataFrame",
       "ref": "05ce9f10-2622-4b24-8335-0fdcba7270e8",
       "rows": [
        [
         "",
         "9",
         "9",
         "9",
         "9",
         "9",
         "9"
        ],
        [
         "exp1",
         "8",
         "8",
         "8",
         "8",
         "8",
         "8"
        ],
        [
         "exp1exp4",
         "10",
         "10",
         "10",
         "10",
         "10",
         "10"
        ],
        [
         "exp1exp4exp5",
         "55",
         "55",
         "55",
         "55",
         "55",
         "55"
        ],
        [
         "exp1exp5",
         "18",
         "18",
         "18",
         "18",
         "18",
         "18"
        ],
        [
         "exp4",
         "4",
         "4",
         "4",
         "4",
         "4",
         "4"
        ],
        [
         "exp4exp5",
         "18",
         "18",
         "18",
         "18",
         "18",
         "18"
        ],
        [
         "exp5",
         "9",
         "9",
         "9",
         "9",
         "9",
         "9"
        ]
       ],
       "shape": {
        "columns": 6,
        "rows": 8
       }
      },
      "text/html": [
       "<div>\n",
       "<style scoped>\n",
       "    .dataframe tbody tr th:only-of-type {\n",
       "        vertical-align: middle;\n",
       "    }\n",
       "\n",
       "    .dataframe tbody tr th {\n",
       "        vertical-align: top;\n",
       "    }\n",
       "\n",
       "    .dataframe thead th {\n",
       "        text-align: right;\n",
       "    }\n",
       "</style>\n",
       "<table border=\"1\" class=\"dataframe\">\n",
       "  <thead>\n",
       "    <tr style=\"text-align: right;\">\n",
       "      <th></th>\n",
       "      <th>Unnamed: 0</th>\n",
       "      <th>original_unit_id</th>\n",
       "      <th>recording</th>\n",
       "      <th>exp1</th>\n",
       "      <th>exp4</th>\n",
       "      <th>exp5</th>\n",
       "    </tr>\n",
       "    <tr>\n",
       "      <th>cell group</th>\n",
       "      <th></th>\n",
       "      <th></th>\n",
       "      <th></th>\n",
       "      <th></th>\n",
       "      <th></th>\n",
       "      <th></th>\n",
       "    </tr>\n",
       "  </thead>\n",
       "  <tbody>\n",
       "    <tr>\n",
       "      <th></th>\n",
       "      <td>9</td>\n",
       "      <td>9</td>\n",
       "      <td>9</td>\n",
       "      <td>9</td>\n",
       "      <td>9</td>\n",
       "      <td>9</td>\n",
       "    </tr>\n",
       "    <tr>\n",
       "      <th>exp1</th>\n",
       "      <td>8</td>\n",
       "      <td>8</td>\n",
       "      <td>8</td>\n",
       "      <td>8</td>\n",
       "      <td>8</td>\n",
       "      <td>8</td>\n",
       "    </tr>\n",
       "    <tr>\n",
       "      <th>exp1exp4</th>\n",
       "      <td>10</td>\n",
       "      <td>10</td>\n",
       "      <td>10</td>\n",
       "      <td>10</td>\n",
       "      <td>10</td>\n",
       "      <td>10</td>\n",
       "    </tr>\n",
       "    <tr>\n",
       "      <th>exp1exp4exp5</th>\n",
       "      <td>55</td>\n",
       "      <td>55</td>\n",
       "      <td>55</td>\n",
       "      <td>55</td>\n",
       "      <td>55</td>\n",
       "      <td>55</td>\n",
       "    </tr>\n",
       "    <tr>\n",
       "      <th>exp1exp5</th>\n",
       "      <td>18</td>\n",
       "      <td>18</td>\n",
       "      <td>18</td>\n",
       "      <td>18</td>\n",
       "      <td>18</td>\n",
       "      <td>18</td>\n",
       "    </tr>\n",
       "    <tr>\n",
       "      <th>exp4</th>\n",
       "      <td>4</td>\n",
       "      <td>4</td>\n",
       "      <td>4</td>\n",
       "      <td>4</td>\n",
       "      <td>4</td>\n",
       "      <td>4</td>\n",
       "    </tr>\n",
       "    <tr>\n",
       "      <th>exp4exp5</th>\n",
       "      <td>18</td>\n",
       "      <td>18</td>\n",
       "      <td>18</td>\n",
       "      <td>18</td>\n",
       "      <td>18</td>\n",
       "      <td>18</td>\n",
       "    </tr>\n",
       "    <tr>\n",
       "      <th>exp5</th>\n",
       "      <td>9</td>\n",
       "      <td>9</td>\n",
       "      <td>9</td>\n",
       "      <td>9</td>\n",
       "      <td>9</td>\n",
       "      <td>9</td>\n",
       "    </tr>\n",
       "  </tbody>\n",
       "</table>\n",
       "</div>"
      ],
      "text/plain": [
       "              Unnamed: 0  original_unit_id  recording  exp1  exp4  exp5\n",
       "cell group                                                             \n",
       "                       9                 9          9     9     9     9\n",
       "exp1                   8                 8          8     8     8     8\n",
       "exp1exp4              10                10         10    10    10    10\n",
       "exp1exp4exp5          55                55         55    55    55    55\n",
       "exp1exp5              18                18         18    18    18    18\n",
       "exp4                   4                 4          4     4     4     4\n",
       "exp4exp5              18                18         18    18    18    18\n",
       "exp5                   9                 9          9     9     9     9"
      ]
     },
     "execution_count": 58,
     "metadata": {},
     "output_type": "execute_result"
    }
   ],
   "source": [
    "bootstrap_results_novel['cell group'] = bootstrap_results_novel.apply(lambda row: group_cells(row['exp1'],\n",
    "                                                                  #row['exp2 vs baseline'],\n",
    "                                                                  #row['exp3 vs baseline'],\n",
    "                                                                  row['exp4'],\n",
    "                                                                  row['exp5']), axis = 1)\n",
    "results_novel = bootstrap_results_novel.groupby('cell group').count()\n",
    "results_novel"
   ]
  },
  {
   "cell_type": "code",
   "execution_count": 60,
   "metadata": {},
   "outputs": [
    {
     "data": {
      "image/png": "[encoded data removed]",
      "text/plain": [
       "<Figure size 800x600 with 1 Axes>"
      ]
     },
     "metadata": {},
     "output_type": "display_data"
    }
   ],
   "source": [
    "set1 = set(bootstrap_results_novel.index[bootstrap_results_novel['cell group'].str.contains('exp1')])\n",
    "set2 = set(bootstrap_results_novel.index[bootstrap_results_novel['cell group'].str.contains('exp4')])\n",
    "set3 = set(bootstrap_results_novel.index[bootstrap_results_novel['cell group'].str.contains('exp5')])\n",
    "from matplotlib_venn import venn3\n",
    "\n",
    "plt.figure(figsize=(8, 6))\n",
    "venn = venn3([set1, set2, set3], ('Exposure 1', 'Exposure 4', 'Exposure 5'))\n",
    "try:\n",
    "   venn.get_patch_by_id('100').set_color('#792910') \n",
    "   venn.get_patch_by_id('100').set_alpha(0.7)\n",
    "except AttributeError:\n",
    "   pass\n",
    "\n",
    "try:\n",
    "   venn.get_patch_by_id('010').set_color('#FFAF00') \n",
    "   venn.get_patch_by_id('010').set_alpha(0.7)\n",
    "except AttributeError:\n",
    "   pass\n",
    "\n",
    "try:\n",
    "   venn.get_patch_by_id('001').set_color('#15616F')\n",
    "   venn.get_patch_by_id('001').set_alpha(0.7)\n",
    "except AttributeError:\n",
    "   pass\n",
    "\n",
    "try:\n",
    "   venn.get_patch_by_id('110').set_color('#bc6c08')\n",
    "   venn.get_patch_by_id('110').set_alpha(0.7)\n",
    "except AttributeError:\n",
    "   pass\n",
    "\n",
    "try:\n",
    "   venn.get_patch_by_id('101').set_color('#474640')\n",
    "   venn.get_patch_by_id('101').set_alpha(0.7)\n",
    "except AttributeError:\n",
    "   pass\n",
    "\n",
    "try:\n",
    "   venn.get_patch_by_id('011').set_color('#8a8838')\n",
    "   venn.get_patch_by_id('011').set_alpha(0.7)\n",
    "except AttributeError:\n",
    "   pass\n",
    "\n",
    "try:\n",
    "   venn.get_patch_by_id('111').set_color('#84682a')\n",
    "   venn.get_patch_by_id('111').set_alpha(0.7)\n",
    "except AttributeError:\n",
    "   pass\n",
    "\n",
    "\n",
    "    \n",
    "\n",
    "for text in venn.set_labels:\n",
    "    text.set_fontsize(20)  # Set label font size\n",
    "\n",
    "for text in venn.subset_labels:\n",
    "    if text:  # Check if the subset label exists\n",
    "        text.set_fontsize(28) \n",
    "# Show the plot\n",
    "plt.title('Novel: bootstrap', fontsize =24)\n",
    "plt.show()"
   ]
  },
  {
   "cell_type": "code",
   "execution_count": 61,
   "metadata": {},
   "outputs": [
    {
     "data": {
      "application/vnd.microsoft.datawrangler.viewer.v0+json": {
       "columns": [
        {
         "name": "index",
         "rawType": "int64",
         "type": "integer"
        },
        {
         "name": "Unnamed: 0",
         "rawType": "int64",
         "type": "integer"
        },
        {
         "name": "original_unit_id",
         "rawType": "int64",
         "type": "integer"
        },
        {
         "name": "recording",
         "rawType": "object",
         "type": "string"
        },
        {
         "name": "exp1",
         "rawType": "object",
         "type": "string"
        },
        {
         "name": "exp4",
         "rawType": "object",
         "type": "string"
        },
        {
         "name": "exp5",
         "rawType": "object",
         "type": "string"
        },
        {
         "name": "cell group",
         "rawType": "object",
         "type": "string"
        }
       ],
       "conversionMethod": "pd.DataFrame",
       "ref": "f024e54c-2bcc-4824-b324-6300251c9118",
       "rows": [
        [
         "0",
         "0",
         "9",
         "11_nov_p1_merged.rec",
         "significantly increased",
         "significantly increased",
         "significantly increased",
         "exp1exp4exp5"
        ],
        [
         "1",
         "1",
         "127",
         "11_nov_p1_merged.rec",
         "significantly increased",
         "significantly decreased",
         "significantly decreased",
         "exp1exp4exp5"
        ],
        [
         "2",
         "2",
         "210",
         "11_nov_p1_merged.rec",
         "not significantly changed",
         "significantly decreased",
         "not significantly changed",
         "exp4"
        ],
        [
         "3",
         "3",
         "251",
         "11_nov_p1_merged.rec",
         "significantly decreased",
         "significantly decreased",
         "significantly decreased",
         "exp1exp4exp5"
        ],
        [
         "4",
         "4",
         "8",
         "11_nov_p1_merged.rec",
         "significantly decreased",
         "not significantly changed",
         "significantly decreased",
         "exp1exp5"
        ],
        [
         "5",
         "5",
         "304",
         "11_nov_p1_merged.rec",
         "not significantly changed",
         "not significantly changed",
         "significantly increased",
         "exp5"
        ],
        [
         "6",
         "6",
         "424",
         "11_nov_p1_merged.rec",
         "not significantly changed",
         "not significantly changed",
         "not significantly changed",
         ""
        ],
        [
         "7",
         "7",
         "241",
         "11_nov_p1_merged.rec",
         "significantly increased",
         "significantly decreased",
         "significantly decreased",
         "exp1exp4exp5"
        ],
        [
         "8",
         "8",
         "430",
         "11_nov_p1_merged.rec",
         "significantly increased",
         "significantly decreased",
         "significantly decreased",
         "exp1exp4exp5"
        ],
        [
         "9",
         "9",
         "326",
         "11_nov_p1_merged.rec",
         "significantly decreased",
         "significantly decreased",
         "significantly decreased",
         "exp1exp4exp5"
        ],
        [
         "10",
         "10",
         "268",
         "11_nov_p1_merged.rec",
         "significantly decreased",
         "significantly decreased",
         "significantly decreased",
         "exp1exp4exp5"
        ],
        [
         "11",
         "11",
         "125",
         "11_nov_p1_merged.rec",
         "significantly decreased",
         "significantly increased",
         "significantly decreased",
         "exp1exp4exp5"
        ],
        [
         "12",
         "12",
         "181",
         "11_nov_p1_merged.rec",
         "not significantly changed",
         "significantly decreased",
         "significantly decreased",
         "exp4exp5"
        ],
        [
         "13",
         "13",
         "357",
         "11_nov_p1_merged.rec",
         "significantly decreased",
         "significantly decreased",
         "significantly decreased",
         "exp1exp4exp5"
        ],
        [
         "14",
         "14",
         "201",
         "11_nov_p1_merged.rec",
         "significantly increased",
         "significantly decreased",
         "significantly decreased",
         "exp1exp4exp5"
        ],
        [
         "15",
         "15",
         "429",
         "11_nov_p1_merged.rec",
         "significantly decreased",
         "significantly increased",
         "significantly increased",
         "exp1exp4exp5"
        ],
        [
         "16",
         "16",
         "379",
         "11_nov_p1_merged.rec",
         "significantly increased",
         "significantly decreased",
         "significantly decreased",
         "exp1exp4exp5"
        ],
        [
         "17",
         "17",
         "1",
         "11_nov_p1_merged.rec",
         "significantly decreased",
         "not significantly changed",
         "significantly decreased",
         "exp1exp5"
        ],
        [
         "18",
         "18",
         "25",
         "11_nov_p1_merged.rec",
         "significantly increased",
         "significantly decreased",
         "significantly increased",
         "exp1exp4exp5"
        ],
        [
         "19",
         "19",
         "346",
         "11_nov_p1_merged.rec",
         "significantly increased",
         "significantly decreased",
         "significantly decreased",
         "exp1exp4exp5"
        ],
        [
         "20",
         "20",
         "50",
         "12_nov_p1_merged.rec",
         "significantly increased",
         "not significantly changed",
         "significantly increased",
         "exp1exp5"
        ],
        [
         "21",
         "21",
         "43",
         "12_nov_p1_merged.rec",
         "not significantly changed",
         "significantly increased",
         "not significantly changed",
         "exp4"
        ],
        [
         "22",
         "22",
         "10",
         "12_nov_p1_merged.rec",
         "significantly decreased",
         "significantly decreased",
         "not significantly changed",
         "exp1exp4"
        ],
        [
         "23",
         "23",
         "72",
         "12_nov_p1_merged.rec",
         "not significantly changed",
         "not significantly changed",
         "significantly increased",
         "exp5"
        ],
        [
         "24",
         "24",
         "189",
         "12_nov_p1_merged.rec",
         "significantly decreased",
         "not significantly changed",
         "significantly decreased",
         "exp1exp5"
        ],
        [
         "25",
         "25",
         "155",
         "12_nov_p1_merged.rec",
         "significantly decreased",
         "significantly increased",
         "not significantly changed",
         "exp1exp4"
        ],
        [
         "26",
         "26",
         "95",
         "12_nov_p1_merged.rec",
         "not significantly changed",
         "not significantly changed",
         "not significantly changed",
         ""
        ],
        [
         "27",
         "27",
         "37",
         "12_nov_p1_merged.rec",
         "significantly decreased",
         "not significantly changed",
         "significantly decreased",
         "exp1exp5"
        ],
        [
         "28",
         "28",
         "168",
         "12_nov_p1_merged.rec",
         "significantly decreased",
         "not significantly changed",
         "significantly decreased",
         "exp1exp5"
        ],
        [
         "29",
         "29",
         "7",
         "12_nov_p1_merged.rec",
         "not significantly changed",
         "not significantly changed",
         "not significantly changed",
         ""
        ],
        [
         "30",
         "30",
         "57",
         "12_nov_p1_merged.rec",
         "not significantly changed",
         "significantly decreased",
         "significantly decreased",
         "exp4exp5"
        ],
        [
         "31",
         "31",
         "194",
         "12_nov_p1_merged.rec",
         "not significantly changed",
         "significantly decreased",
         "significantly decreased",
         "exp4exp5"
        ],
        [
         "32",
         "32",
         "130",
         "12_nov_p1_merged.rec",
         "significantly decreased",
         "not significantly changed",
         "significantly decreased",
         "exp1exp5"
        ],
        [
         "33",
         "33",
         "27",
         "12_nov_p1_merged.rec",
         "not significantly changed",
         "not significantly changed",
         "significantly increased",
         "exp5"
        ],
        [
         "34",
         "34",
         "8",
         "12_nov_p1_merged.rec",
         "significantly decreased",
         "significantly increased",
         "significantly decreased",
         "exp1exp4exp5"
        ],
        [
         "35",
         "35",
         "34",
         "13_nov_p1_merged.rec",
         "not significantly changed",
         "not significantly changed",
         "significantly decreased",
         "exp5"
        ],
        [
         "36",
         "36",
         "5",
         "13_nov_p1_merged.rec",
         "significantly decreased",
         "significantly increased",
         "significantly decreased",
         "exp1exp4exp5"
        ],
        [
         "37",
         "37",
         "33",
         "13_nov_p1_merged.rec",
         "not significantly changed",
         "not significantly changed",
         "not significantly changed",
         ""
        ],
        [
         "38",
         "38",
         "22",
         "13_nov_p1_merged.rec",
         "not significantly changed",
         "significantly increased",
         "not significantly changed",
         "exp4"
        ],
        [
         "39",
         "39",
         "0",
         "13_nov_p1_merged.rec",
         "significantly increased",
         "not significantly changed",
         "significantly increased",
         "exp1exp5"
        ],
        [
         "40",
         "40",
         "41",
         "13_nov_p1_merged.rec",
         "not significantly changed",
         "significantly increased",
         "significantly increased",
         "exp4exp5"
        ],
        [
         "41",
         "41",
         "6",
         "13_nov_p1_merged.rec",
         "significantly increased",
         "significantly increased",
         "significantly increased",
         "exp1exp4exp5"
        ],
        [
         "42",
         "42",
         "35",
         "13_nov_p1_merged.rec",
         "significantly decreased",
         "significantly increased",
         "significantly decreased",
         "exp1exp4exp5"
        ],
        [
         "43",
         "43",
         "39",
         "13_nov_p1_merged.rec",
         "significantly increased",
         "not significantly changed",
         "not significantly changed",
         "exp1"
        ],
        [
         "44",
         "44",
         "11",
         "13_nov_p1_merged.rec",
         "significantly decreased",
         "not significantly changed",
         "not significantly changed",
         "exp1"
        ],
        [
         "45",
         "45",
         "31",
         "13_nov_p1_merged.rec",
         "significantly increased",
         "not significantly changed",
         "significantly decreased",
         "exp1exp5"
        ],
        [
         "46",
         "46",
         "33",
         "21_nov_p1_merged.rec",
         "significantly decreased",
         "significantly increased",
         "significantly increased",
         "exp1exp4exp5"
        ],
        [
         "47",
         "47",
         "16",
         "21_nov_p1_merged.rec",
         "not significantly changed",
         "significantly decreased",
         "significantly decreased",
         "exp4exp5"
        ],
        [
         "48",
         "48",
         "52",
         "21_nov_p1_merged.rec",
         "significantly decreased",
         "significantly decreased",
         "significantly decreased",
         "exp1exp4exp5"
        ],
        [
         "49",
         "49",
         "21",
         "21_nov_p1_merged.rec",
         "significantly decreased",
         "not significantly changed",
         "significantly increased",
         "exp1exp5"
        ]
       ],
       "shape": {
        "columns": 7,
        "rows": 131
       }
      },
      "text/html": [
       "<div>\n",
       "<style scoped>\n",
       "    .dataframe tbody tr th:only-of-type {\n",
       "        vertical-align: middle;\n",
       "    }\n",
       "\n",
       "    .dataframe tbody tr th {\n",
       "        vertical-align: top;\n",
       "    }\n",
       "\n",
       "    .dataframe thead th {\n",
       "        text-align: right;\n",
       "    }\n",
       "</style>\n",
       "<table border=\"1\" class=\"dataframe\">\n",
       "  <thead>\n",
       "    <tr style=\"text-align: right;\">\n",
       "      <th></th>\n",
       "      <th>Unnamed: 0</th>\n",
       "      <th>original_unit_id</th>\n",
       "      <th>recording</th>\n",
       "      <th>exp1</th>\n",
       "      <th>exp4</th>\n",
       "      <th>exp5</th>\n",
       "      <th>cell group</th>\n",
       "    </tr>\n",
       "  </thead>\n",
       "  <tbody>\n",
       "    <tr>\n",
       "      <th>0</th>\n",
       "      <td>0</td>\n",
       "      <td>9</td>\n",
       "      <td>11_nov_p1_merged.rec</td>\n",
       "      <td>significantly increased</td>\n",
       "      <td>significantly increased</td>\n",
       "      <td>significantly increased</td>\n",
       "      <td>exp1exp4exp5</td>\n",
       "    </tr>\n",
       "    <tr>\n",
       "      <th>1</th>\n",
       "      <td>1</td>\n",
       "      <td>127</td>\n",
       "      <td>11_nov_p1_merged.rec</td>\n",
       "      <td>significantly increased</td>\n",
       "      <td>significantly decreased</td>\n",
       "      <td>significantly decreased</td>\n",
       "      <td>exp1exp4exp5</td>\n",
       "    </tr>\n",
       "    <tr>\n",
       "      <th>2</th>\n",
       "      <td>2</td>\n",
       "      <td>210</td>\n",
       "      <td>11_nov_p1_merged.rec</td>\n",
       "      <td>not significantly changed</td>\n",
       "      <td>significantly decreased</td>\n",
       "      <td>not significantly changed</td>\n",
       "      <td>exp4</td>\n",
       "    </tr>\n",
       "    <tr>\n",
       "      <th>3</th>\n",
       "      <td>3</td>\n",
       "      <td>251</td>\n",
       "      <td>11_nov_p1_merged.rec</td>\n",
       "      <td>significantly decreased</td>\n",
       "      <td>significantly decreased</td>\n",
       "      <td>significantly decreased</td>\n",
       "      <td>exp1exp4exp5</td>\n",
       "    </tr>\n",
       "    <tr>\n",
       "      <th>4</th>\n",
       "      <td>4</td>\n",
       "      <td>8</td>\n",
       "      <td>11_nov_p1_merged.rec</td>\n",
       "      <td>significantly decreased</td>\n",
       "      <td>not significantly changed</td>\n",
       "      <td>significantly decreased</td>\n",
       "      <td>exp1exp5</td>\n",
       "    </tr>\n",
       "    <tr>\n",
       "      <th>...</th>\n",
       "      <td>...</td>\n",
       "      <td>...</td>\n",
       "      <td>...</td>\n",
       "      <td>...</td>\n",
       "      <td>...</td>\n",
       "      <td>...</td>\n",
       "      <td>...</td>\n",
       "    </tr>\n",
       "    <tr>\n",
       "      <th>126</th>\n",
       "      <td>126</td>\n",
       "      <td>98</td>\n",
       "      <td>44_nov_p1_merged.rec</td>\n",
       "      <td>significantly decreased</td>\n",
       "      <td>significantly increased</td>\n",
       "      <td>significantly increased</td>\n",
       "      <td>exp1exp4exp5</td>\n",
       "    </tr>\n",
       "    <tr>\n",
       "      <th>127</th>\n",
       "      <td>127</td>\n",
       "      <td>123</td>\n",
       "      <td>44_nov_p1_merged.rec</td>\n",
       "      <td>significantly decreased</td>\n",
       "      <td>significantly increased</td>\n",
       "      <td>significantly increased</td>\n",
       "      <td>exp1exp4exp5</td>\n",
       "    </tr>\n",
       "    <tr>\n",
       "      <th>128</th>\n",
       "      <td>128</td>\n",
       "      <td>190</td>\n",
       "      <td>44_nov_p1_merged.rec</td>\n",
       "      <td>significantly decreased</td>\n",
       "      <td>significantly decreased</td>\n",
       "      <td>significantly decreased</td>\n",
       "      <td>exp1exp4exp5</td>\n",
       "    </tr>\n",
       "    <tr>\n",
       "      <th>129</th>\n",
       "      <td>129</td>\n",
       "      <td>130</td>\n",
       "      <td>44_nov_p1_merged.rec</td>\n",
       "      <td>not significantly changed</td>\n",
       "      <td>significantly increased</td>\n",
       "      <td>significantly increased</td>\n",
       "      <td>exp4exp5</td>\n",
       "    </tr>\n",
       "    <tr>\n",
       "      <th>130</th>\n",
       "      <td>130</td>\n",
       "      <td>17</td>\n",
       "      <td>44_nov_p1_merged.rec</td>\n",
       "      <td>not significantly changed</td>\n",
       "      <td>significantly increased</td>\n",
       "      <td>significantly increased</td>\n",
       "      <td>exp4exp5</td>\n",
       "    </tr>\n",
       "  </tbody>\n",
       "</table>\n",
       "<p>131 rows × 7 columns</p>\n",
       "</div>"
      ],
      "text/plain": [
       "     Unnamed: 0  original_unit_id             recording  \\\n",
       "0             0                 9  11_nov_p1_merged.rec   \n",
       "1             1               127  11_nov_p1_merged.rec   \n",
       "2             2               210  11_nov_p1_merged.rec   \n",
       "3             3               251  11_nov_p1_merged.rec   \n",
       "4             4                 8  11_nov_p1_merged.rec   \n",
       "..          ...               ...                   ...   \n",
       "126         126                98  44_nov_p1_merged.rec   \n",
       "127         127               123  44_nov_p1_merged.rec   \n",
       "128         128               190  44_nov_p1_merged.rec   \n",
       "129         129               130  44_nov_p1_merged.rec   \n",
       "130         130                17  44_nov_p1_merged.rec   \n",
       "\n",
       "                          exp1                       exp4  \\\n",
       "0      significantly increased    significantly increased   \n",
       "1      significantly increased    significantly decreased   \n",
       "2    not significantly changed    significantly decreased   \n",
       "3      significantly decreased    significantly decreased   \n",
       "4      significantly decreased  not significantly changed   \n",
       "..                         ...                        ...   \n",
       "126    significantly decreased    significantly increased   \n",
       "127    significantly decreased    significantly increased   \n",
       "128    significantly decreased    significantly decreased   \n",
       "129  not significantly changed    significantly increased   \n",
       "130  not significantly changed    significantly increased   \n",
       "\n",
       "                          exp5    cell group  \n",
       "0      significantly increased  exp1exp4exp5  \n",
       "1      significantly decreased  exp1exp4exp5  \n",
       "2    not significantly changed          exp4  \n",
       "3      significantly decreased  exp1exp4exp5  \n",
       "4      significantly decreased      exp1exp5  \n",
       "..                         ...           ...  \n",
       "126    significantly increased  exp1exp4exp5  \n",
       "127    significantly increased  exp1exp4exp5  \n",
       "128    significantly decreased  exp1exp4exp5  \n",
       "129    significantly increased      exp4exp5  \n",
       "130    significantly increased      exp4exp5  \n",
       "\n",
       "[131 rows x 7 columns]"
      ]
     },
     "execution_count": 61,
     "metadata": {},
     "output_type": "execute_result"
    }
   ],
   "source": [
    "bootstrap_results_novel"
   ]
  },
  {
   "cell_type": "code",
   "execution_count": 66,
   "metadata": {},
   "outputs": [
    {
     "name": "stdout",
     "output_type": "stream",
     "text": [
      "[7, 15, 12, 27, 16, 14, 12, 10, 18, np.int64(29), np.int64(8), np.int64(9), np.int64(7), np.int64(29), np.int64(5), np.int64(10), np.int64(17), np.int64(17)]\n",
      "['exp1significantly increasedexp4significantly increased', 'exp1significantly increasedexp4significantly decreased', 'exp1significantly increasedexp4not significantly changed', 'exp1significantly decreasedexp4significantly increased', 'exp1significantly decreasedexp4significantly decreased', 'exp1significantly decreasedexp4not significantly changed', 'exp1not significantly changedexp4significantly increased', 'exp1not significantly changedexp4significantly decreased', 'exp1not significantly changedexp4not significantly changed', 'exp4significantly increasedexp5significantly increased', 'exp4significantly increasedexp5significantly decreased', 'exp4significantly increasedexp5not significantly changed', 'exp4significantly decreasedexp5significantly increased', 'exp4significantly decreasedexp5significantly decreased', 'exp4significantly decreasedexp5not significantly changed', 'exp4not significantly changedexp5significantly increased', 'exp4not significantly changedexp5significantly decreased', 'exp4not significantly changedexp5not significantly changed']\n"
     ]
    }
   ],
   "source": [
    "#values = exp1 increase - exp4 increase , exp1 increase - exp4 decrease , exp1 increase - exp4 no change\n",
    "values = []\n",
    "meaning = []\n",
    "for exposure in ['exp1', 'exp4']:\n",
    "    for conditionA in [\"significantly increased\", \"significantly decreased\", \"not significantly changed\"]:\n",
    "        temp = bootstrap_results_novel[bootstrap_results_novel[exposure] == conditionA]\n",
    "        for conditionB in [\"significantly increased\", \"significantly decreased\", \"not significantly changed\"]:\n",
    "            if exposure == 'exp1':\n",
    "                values.append(int(temp['exp4'].value_counts()[conditionB]))\n",
    "                meaning.append(exposure + conditionA + 'exp4' + conditionB) \n",
    "            if exposure == 'exp4':\n",
    "                values.append(temp['exp5'].value_counts()[conditionB])\n",
    "                meaning.append(exposure + conditionA + 'exp5' + conditionB) \n",
    "print(values)\n",
    "print(meaning)"
   ]
  },
  {
   "cell_type": "code",
   "execution_count": 106,
   "metadata": {},
   "outputs": [
    {
     "data": {
      "application/vnd.plotly.v1+json": {
       "config": {
        "plotlyServerURL": "https://plot.ly"
       },
       "data": [
        {
         "link": {
          "color": [
           "#FFDCDC",
           "#DCE5FF",
           "#DBDBDB",
           "#FFDCDC",
           "#DCE5FF",
           "#DBDBDB",
           "#FFDCDC",
           "#DCE5FF",
           "#DBDBDB",
           "#FFDCDC",
           "#DCE5FF",
           "#DBDBDB",
           "#FFDCDC",
           "#DCE5FF",
           "#DBDBDB",
           "#FFDCDC",
           "#DCE5FF",
           "#DBDBDB"
          ],
          "source": [
           0,
           0,
           0,
           1,
           1,
           1,
           2,
           2,
           2,
           3,
           3,
           3,
           4,
           4,
           4,
           5,
           5,
           5
          ],
          "target": [
           3,
           4,
           5,
           3,
           4,
           5,
           3,
           4,
           5,
           6,
           7,
           8,
           6,
           7,
           8,
           6,
           7,
           8
          ],
          "value": [
           7,
           15,
           12,
           27,
           16,
           14,
           12,
           10,
           18,
           29,
           8,
           9,
           7,
           29,
           5,
           10,
           17,
           17
          ]
         },
         "node": {
          "color": [
           "red",
           "blue",
           "grey",
           "red",
           "blue",
           "grey",
           "red",
           "blue",
           "grey"
          ],
          "label": [
           "significantly increased",
           "significantly decreased",
           "no change",
           "significantly increased",
           "significantly decreased",
           "no change",
           " significantly increased",
           " significantly decreased",
           " no change"
          ],
          "pad": 15,
          "thickness": 20,
          "x": [
           0.1,
           0.1,
           0.1,
           0.5,
           0.5,
           0.5,
           0.9,
           0.9,
           0.9
          ],
          "y": [
           0.15,
           0.49,
           0.85,
           0.18,
           0.51,
           0.84,
           0.18,
           0.55,
           0.88
          ]
         },
         "type": "sankey"
        }
       ],
       "layout": {
        "annotations": [
         {
          "font": {
           "size": 16
          },
          "showarrow": false,
          "text": "Exposure 1",
          "x": -0.05,
          "xref": "paper",
          "y": 1.1,
          "yref": "paper"
         },
         {
          "font": {
           "size": 16
          },
          "showarrow": false,
          "text": "Exposure 4",
          "x": 0.5,
          "xref": "paper",
          "y": 1.1,
          "yref": "paper"
         },
         {
          "font": {
           "size": 16
          },
          "showarrow": false,
          "text": "Exposure 5",
          "x": 1.05,
          "xref": "paper",
          "y": 1.1,
          "yref": "paper"
         },
         {
          "font": {
           "size": 24
          },
          "showarrow": false,
          "text": "Novel",
          "x": 0.5,
          "xref": "paper",
          "y": 1.3,
          "yref": "paper"
         }
        ],
        "margin": {
         "t": 100
        },
        "template": {
         "data": {
          "bar": [
           {
            "error_x": {
             "color": "#2a3f5f"
            },
            "error_y": {
             "color": "#2a3f5f"
            },
            "marker": {
             "line": {
              "color": "#E5ECF6",
              "width": 0.5
             },
             "pattern": {
              "fillmode": "overlay",
              "size": 10,
              "solidity": 0.2
             }
            },
            "type": "bar"
           }
          ],
          "barpolar": [
           {
            "marker": {
             "line": {
              "color": "#E5ECF6",
              "width": 0.5
             },
             "pattern": {
              "fillmode": "overlay",
              "size": 10,
              "solidity": 0.2
             }
            },
            "type": "barpolar"
           }
          ],
          "carpet": [
           {
            "aaxis": {
             "endlinecolor": "#2a3f5f",
             "gridcolor": "white",
             "linecolor": "white",
             "minorgridcolor": "white",
             "startlinecolor": "#2a3f5f"
            },
            "baxis": {
             "endlinecolor": "#2a3f5f",
             "gridcolor": "white",
             "linecolor": "white",
             "minorgridcolor": "white",
             "startlinecolor": "#2a3f5f"
            },
            "type": "carpet"
           }
          ],
          "choropleth": [
           {
            "colorbar": {
             "outlinewidth": 0,
             "ticks": ""
            },
            "type": "choropleth"
           }
          ],
          "contour": [
           {
            "colorbar": {
             "outlinewidth": 0,
             "ticks": ""
            },
            "colorscale": [
             [
              0,
              "#0d0887"
             ],
             [
              0.1111111111111111,
              "#46039f"
             ],
             [
              0.2222222222222222,
              "#7201a8"
             ],
             [
              0.3333333333333333,
              "#9c179e"
             ],
             [
              0.4444444444444444,
              "#bd3786"
             ],
             [
              0.5555555555555556,
              "#d8576b"
             ],
             [
              0.6666666666666666,
              "#ed7953"
             ],
             [
              0.7777777777777778,
              "#fb9f3a"
             ],
             [
              0.8888888888888888,
              "#fdca26"
             ],
             [
              1,
              "#f0f921"
             ]
            ],
            "type": "contour"
           }
          ],
          "contourcarpet": [
           {
            "colorbar": {
             "outlinewidth": 0,
             "ticks": ""
            },
            "type": "contourcarpet"
           }
          ],
          "heatmap": [
           {
            "colorbar": {
             "outlinewidth": 0,
             "ticks": ""
            },
            "colorscale": [
             [
              0,
              "#0d0887"
             ],
             [
              0.1111111111111111,
              "#46039f"
             ],
             [
              0.2222222222222222,
              "#7201a8"
             ],
             [
              0.3333333333333333,
              "#9c179e"
             ],
             [
              0.4444444444444444,
              "#bd3786"
             ],
             [
              0.5555555555555556,
              "#d8576b"
             ],
             [
              0.6666666666666666,
              "#ed7953"
             ],
             [
              0.7777777777777778,
              "#fb9f3a"
             ],
             [
              0.8888888888888888,
              "#fdca26"
             ],
             [
              1,
              "#f0f921"
             ]
            ],
            "type": "heatmap"
           }
          ],
          "histogram": [
           {
            "marker": {
             "pattern": {
              "fillmode": "overlay",
              "size": 10,
              "solidity": 0.2
             }
            },
            "type": "histogram"
           }
          ],
          "histogram2d": [
           {
            "colorbar": {
             "outlinewidth": 0,
             "ticks": ""
            },
            "colorscale": [
             [
              0,
              "#0d0887"
             ],
             [
              0.1111111111111111,
              "#46039f"
             ],
             [
              0.2222222222222222,
              "#7201a8"
             ],
             [
              0.3333333333333333,
              "#9c179e"
             ],
             [
              0.4444444444444444,
              "#bd3786"
             ],
             [
              0.5555555555555556,
              "#d8576b"
             ],
             [
              0.6666666666666666,
              "#ed7953"
             ],
             [
              0.7777777777777778,
              "#fb9f3a"
             ],
             [
              0.8888888888888888,
              "#fdca26"
             ],
             [
              1,
              "#f0f921"
             ]
            ],
            "type": "histogram2d"
           }
          ],
          "histogram2dcontour": [
           {
            "colorbar": {
             "outlinewidth": 0,
             "ticks": ""
            },
            "colorscale": [
             [
              0,
              "#0d0887"
             ],
             [
              0.1111111111111111,
              "#46039f"
             ],
             [
              0.2222222222222222,
              "#7201a8"
             ],
             [
              0.3333333333333333,
              "#9c179e"
             ],
             [
              0.4444444444444444,
              "#bd3786"
             ],
             [
              0.5555555555555556,
              "#d8576b"
             ],
             [
              0.6666666666666666,
              "#ed7953"
             ],
             [
              0.7777777777777778,
              "#fb9f3a"
             ],
             [
              0.8888888888888888,
              "#fdca26"
             ],
             [
              1,
              "#f0f921"
             ]
            ],
            "type": "histogram2dcontour"
           }
          ],
          "mesh3d": [
           {
            "colorbar": {
             "outlinewidth": 0,
             "ticks": ""
            },
            "type": "mesh3d"
           }
          ],
          "parcoords": [
           {
            "line": {
             "colorbar": {
              "outlinewidth": 0,
              "ticks": ""
             }
            },
            "type": "parcoords"
           }
          ],
          "pie": [
           {
            "automargin": true,
            "type": "pie"
           }
          ],
          "scatter": [
           {
            "fillpattern": {
             "fillmode": "overlay",
             "size": 10,
             "solidity": 0.2
            },
            "type": "scatter"
           }
          ],
          "scatter3d": [
           {
            "line": {
             "colorbar": {
              "outlinewidth": 0,
              "ticks": ""
             }
            },
            "marker": {
             "colorbar": {
              "outlinewidth": 0,
              "ticks": ""
             }
            },
            "type": "scatter3d"
           }
          ],
          "scattercarpet": [
           {
            "marker": {
             "colorbar": {
              "outlinewidth": 0,
              "ticks": ""
             }
            },
            "type": "scattercarpet"
           }
          ],
          "scattergeo": [
           {
            "marker": {
             "colorbar": {
              "outlinewidth": 0,
              "ticks": ""
             }
            },
            "type": "scattergeo"
           }
          ],
          "scattergl": [
           {
            "marker": {
             "colorbar": {
              "outlinewidth": 0,
              "ticks": ""
             }
            },
            "type": "scattergl"
           }
          ],
          "scattermap": [
           {
            "marker": {
             "colorbar": {
              "outlinewidth": 0,
              "ticks": ""
             }
            },
            "type": "scattermap"
           }
          ],
          "scattermapbox": [
           {
            "marker": {
             "colorbar": {
              "outlinewidth": 0,
              "ticks": ""
             }
            },
            "type": "scattermapbox"
           }
          ],
          "scatterpolar": [
           {
            "marker": {
             "colorbar": {
              "outlinewidth": 0,
              "ticks": ""
             }
            },
            "type": "scatterpolar"
           }
          ],
          "scatterpolargl": [
           {
            "marker": {
             "colorbar": {
              "outlinewidth": 0,
              "ticks": ""
             }
            },
            "type": "scatterpolargl"
           }
          ],
          "scatterternary": [
           {
            "marker": {
             "colorbar": {
              "outlinewidth": 0,
              "ticks": ""
             }
            },
            "type": "scatterternary"
           }
          ],
          "surface": [
           {
            "colorbar": {
             "outlinewidth": 0,
             "ticks": ""
            },
            "colorscale": [
             [
              0,
              "#0d0887"
             ],
             [
              0.1111111111111111,
              "#46039f"
             ],
             [
              0.2222222222222222,
              "#7201a8"
             ],
             [
              0.3333333333333333,
              "#9c179e"
             ],
             [
              0.4444444444444444,
              "#bd3786"
             ],
             [
              0.5555555555555556,
              "#d8576b"
             ],
             [
              0.6666666666666666,
              "#ed7953"
             ],
             [
              0.7777777777777778,
              "#fb9f3a"
             ],
             [
              0.8888888888888888,
              "#fdca26"
             ],
             [
              1,
              "#f0f921"
             ]
            ],
            "type": "surface"
           }
          ],
          "table": [
           {
            "cells": {
             "fill": {
              "color": "#EBF0F8"
             },
             "line": {
              "color": "white"
             }
            },
            "header": {
             "fill": {
              "color": "#C8D4E3"
             },
             "line": {
              "color": "white"
             }
            },
            "type": "table"
           }
          ]
         },
         "layout": {
          "annotationdefaults": {
           "arrowcolor": "#2a3f5f",
           "arrowhead": 0,
           "arrowwidth": 1
          },
          "autotypenumbers": "strict",
          "coloraxis": {
           "colorbar": {
            "outlinewidth": 0,
            "ticks": ""
           }
          },
          "colorscale": {
           "diverging": [
            [
             0,
             "#8e0152"
            ],
            [
             0.1,
             "#c51b7d"
            ],
            [
             0.2,
             "#de77ae"
            ],
            [
             0.3,
             "#f1b6da"
            ],
            [
             0.4,
             "#fde0ef"
            ],
            [
             0.5,
             "#f7f7f7"
            ],
            [
             0.6,
             "#e6f5d0"
            ],
            [
             0.7,
             "#b8e186"
            ],
            [
             0.8,
             "#7fbc41"
            ],
            [
             0.9,
             "#4d9221"
            ],
            [
             1,
             "#276419"
            ]
           ],
           "sequential": [
            [
             0,
             "#0d0887"
            ],
            [
             0.1111111111111111,
             "#46039f"
            ],
            [
             0.2222222222222222,
             "#7201a8"
            ],
            [
             0.3333333333333333,
             "#9c179e"
            ],
            [
             0.4444444444444444,
             "#bd3786"
            ],
            [
             0.5555555555555556,
             "#d8576b"
            ],
            [
             0.6666666666666666,
             "#ed7953"
            ],
            [
             0.7777777777777778,
             "#fb9f3a"
            ],
            [
             0.8888888888888888,
             "#fdca26"
            ],
            [
             1,
             "#f0f921"
            ]
           ],
           "sequentialminus": [
            [
             0,
             "#0d0887"
            ],
            [
             0.1111111111111111,
             "#46039f"
            ],
            [
             0.2222222222222222,
             "#7201a8"
            ],
            [
             0.3333333333333333,
             "#9c179e"
            ],
            [
             0.4444444444444444,
             "#bd3786"
            ],
            [
             0.5555555555555556,
             "#d8576b"
            ],
            [
             0.6666666666666666,
             "#ed7953"
            ],
            [
             0.7777777777777778,
             "#fb9f3a"
            ],
            [
             0.8888888888888888,
             "#fdca26"
            ],
            [
             1,
             "#f0f921"
            ]
           ]
          },
          "colorway": [
           "#636efa",
           "#EF553B",
           "#00cc96",
           "#ab63fa",
           "#FFA15A",
           "#19d3f3",
           "#FF6692",
           "#B6E880",
           "#FF97FF",
           "#FECB52"
          ],
          "font": {
           "color": "#2a3f5f"
          },
          "geo": {
           "bgcolor": "white",
           "lakecolor": "white",
           "landcolor": "#E5ECF6",
           "showlakes": true,
           "showland": true,
           "subunitcolor": "white"
          },
          "hoverlabel": {
           "align": "left"
          },
          "hovermode": "closest",
          "mapbox": {
           "style": "light"
          },
          "paper_bgcolor": "white",
          "plot_bgcolor": "#E5ECF6",
          "polar": {
           "angularaxis": {
            "gridcolor": "white",
            "linecolor": "white",
            "ticks": ""
           },
           "bgcolor": "#E5ECF6",
           "radialaxis": {
            "gridcolor": "white",
            "linecolor": "white",
            "ticks": ""
           }
          },
          "scene": {
           "xaxis": {
            "backgroundcolor": "#E5ECF6",
            "gridcolor": "white",
            "gridwidth": 2,
            "linecolor": "white",
            "showbackground": true,
            "ticks": "",
            "zerolinecolor": "white"
           },
           "yaxis": {
            "backgroundcolor": "#E5ECF6",
            "gridcolor": "white",
            "gridwidth": 2,
            "linecolor": "white",
            "showbackground": true,
            "ticks": "",
            "zerolinecolor": "white"
           },
           "zaxis": {
            "backgroundcolor": "#E5ECF6",
            "gridcolor": "white",
            "gridwidth": 2,
            "linecolor": "white",
            "showbackground": true,
            "ticks": "",
            "zerolinecolor": "white"
           }
          },
          "shapedefaults": {
           "line": {
            "color": "#2a3f5f"
           }
          },
          "ternary": {
           "aaxis": {
            "gridcolor": "white",
            "linecolor": "white",
            "ticks": ""
           },
           "baxis": {
            "gridcolor": "white",
            "linecolor": "white",
            "ticks": ""
           },
           "bgcolor": "#E5ECF6",
           "caxis": {
            "gridcolor": "white",
            "linecolor": "white",
            "ticks": ""
           }
          },
          "title": {
           "x": 0.05
          },
          "xaxis": {
           "automargin": true,
           "gridcolor": "white",
           "linecolor": "white",
           "ticks": "",
           "title": {
            "standoff": 15
           },
           "zerolinecolor": "white",
           "zerolinewidth": 2
          },
          "yaxis": {
           "automargin": true,
           "gridcolor": "white",
           "linecolor": "white",
           "ticks": "",
           "title": {
            "standoff": 15
           },
           "zerolinecolor": "white",
           "zerolinewidth": 2
          }
         }
        }
       }
      }
     },
     "metadata": {},
     "output_type": "display_data"
    }
   ],
   "source": [
    "names = [\"significantly increased\", \"significantly decreased\", \"no change\",           # First stage\n",
    "                \"significantly increased\", \"significantly decreased\", \"no change\",  \n",
    "                \" significantly increased\", \" significantly decreased\", \" no change\"]\n",
    "targets = [\"significantly increased\", \"significantly decreased\", \"no change\",           # First stage\n",
    "                \"significantly increased\", \"significantly decreased\", \"no change\",  \n",
    "                \" significantly increased\", \" significantly decreased\", \" no change\",\n",
    "                \"significantly increased\", \"significantly decreased\", \"no change\",           # First stage\n",
    "                \"significantly increased\", \"significantly decreased\", \"no change\",  \n",
    "                \" significantly increased\", \" significantly decreased\", \" no change\"]\n",
    "color_dict = {'increased':'red','decreased':'blue','change':'grey'}\n",
    "color_dict_links = {\"increased\":\"#FFDCDC\", 'decreased': \"#DCE5FF\", 'change':  \"#DBDBDB\"}\n",
    "fig = go.Figure(data=[go.Sankey(\n",
    "    node = dict(\n",
    "        label = names,             # Third stage\n",
    "        pad = 15,\n",
    "        thickness = 20,\n",
    "        color = [color_dict[x.split(' ')[-1]] for x in names],\n",
    "         y = [0.15, 0.49, 0.85,     # First stage (A_1, B_1, C_1)\n",
    "            0.18, 0.51, 0.84,     # Second stage (A_2, B_2, C_2) \n",
    "            0.18, 0.55, 0.88],    # Third stage (A_3, B_3, C_3)\n",
    "       # x positions to space out stages\n",
    "        x = [0.1, 0.1, 0.1,       # First stage\n",
    "            0.5, 0.5, 0.5,       # Second stage\n",
    "            0.9, 0.9, 0.9] \n",
    "    ),\n",
    "    link = dict(\n",
    "        # First stage to second stage\n",
    "        source = [0, 0, 0,          # Math101 to Pass/Fail\n",
    "                 1, 1, 1,\n",
    "                 2, 2, 2,\n",
    "                 3, 3, 3, \n",
    "                 4, 4, 4, \n",
    "                 5, 5, 5],          # Physics101 to Pass/Fail\n",
    "        target = [3, 4, 5,          # to Pass Math/Fail Math\n",
    "                 3, 4, 5,\n",
    "                 3, 4, 5,\n",
    "                 6, 7, 8,\n",
    "                 6, 7, 8,\n",
    "                 6, 7, 8],          # to Pass Physics/Fail Physics\n",
    "        value = values,  \n",
    "        color = [color_dict_links[x.split(' ')[-1]] for x in targets],\n",
    "         \n",
    "      \n",
    "               # 70 pass physics, 30 fail\n",
    "    )\n",
    ")])\n",
    "fig.update_layout(\n",
    "    annotations=[\n",
    "        # First group title\n",
    "        dict(\n",
    "            x=-0.05,  # x position (0 to 1)\n",
    "            y=1.1,  # y position above the plot\n",
    "            xref=\"paper\",\n",
    "            yref=\"paper\",\n",
    "            text=\"Exposure 1\",\n",
    "            showarrow=False,\n",
    "            font=dict(size=16)\n",
    "        ),\n",
    "        # Second group title\n",
    "        dict(\n",
    "            x=0.5,\n",
    "            y=1.1,\n",
    "            xref=\"paper\",\n",
    "            yref=\"paper\",\n",
    "            text=\"Exposure 4\",\n",
    "            showarrow=False,\n",
    "            font=dict(size=16)\n",
    "        ),\n",
    "        # Third group title\n",
    "        dict(\n",
    "            x=1.05,\n",
    "            y=1.1,\n",
    "            xref=\"paper\",\n",
    "            yref=\"paper\",\n",
    "            text=\"Exposure 5\",\n",
    "            showarrow=False,\n",
    "            font=dict(size=16)\n",
    "        ),\n",
    "        dict(\n",
    "            x=.5,\n",
    "            y=1.3,\n",
    "            xref=\"paper\",\n",
    "            yref=\"paper\",\n",
    "            text=\"Novel\",\n",
    "            showarrow=False,\n",
    "            font=dict(size=24)\n",
    "        )\n",
    "    ],\n",
    "    # Add more top margin to make room for labels\n",
    "    margin=dict(t=100)\n",
    ")\n",
    "\n",
    "fig.show()"
   ]
  },
  {
   "cell_type": "code",
   "execution_count": 5,
   "metadata": {},
   "outputs": [
    {
     "data": {
      "image/png": "[encoded data removed]",
      "text/plain": [
       "<Figure size 800x600 with 1 Axes>"
      ]
     },
     "metadata": {},
     "output_type": "display_data"
    }
   ],
   "source": [
    "set1 = set(bootstrap_results.index[bootstrap_results['cell group'].str.contains('exp1')])\n",
    "set2 = set(bootstrap_results.index[bootstrap_results['cell group'].str.contains('exp4')])\n",
    "set3 = set(bootstrap_results.index[bootstrap_results['cell group'].str.contains('exp5')])\n",
    "from matplotlib_venn import venn3\n",
    "\n",
    "plt.figure(figsize=(8, 6))\n",
    "venn = venn3([set1, set2, set3], ('Exposure 1', 'Exposure 4', 'Exposure 5'))\n",
    "try:\n",
    "   venn.get_patch_by_id('100').set_color('#792910') \n",
    "   venn.get_patch_by_id('100').set_alpha(0.7)\n",
    "except AttributeError:\n",
    "   pass\n",
    "\n",
    "try:\n",
    "   venn.get_patch_by_id('010').set_color('#FFAF00') \n",
    "   venn.get_patch_by_id('010').set_alpha(0.7)\n",
    "except AttributeError:\n",
    "   pass\n",
    "\n",
    "try:\n",
    "   venn.get_patch_by_id('001').set_color('#15616F')\n",
    "   venn.get_patch_by_id('001').set_alpha(0.7)\n",
    "except AttributeError:\n",
    "   pass\n",
    "\n",
    "try:\n",
    "   venn.get_patch_by_id('110').set_color('#bc6c08')\n",
    "   venn.get_patch_by_id('110').set_alpha(0.7)\n",
    "except AttributeError:\n",
    "   pass\n",
    "\n",
    "try:\n",
    "   venn.get_patch_by_id('101').set_color('#474640')\n",
    "   venn.get_patch_by_id('101').set_alpha(0.7)\n",
    "except AttributeError:\n",
    "   pass\n",
    "\n",
    "try:\n",
    "   venn.get_patch_by_id('011').set_color('#8a8838')\n",
    "   venn.get_patch_by_id('011').set_alpha(0.7)\n",
    "except AttributeError:\n",
    "   pass\n",
    "\n",
    "try:\n",
    "   venn.get_patch_by_id('111').set_color('#84682a')\n",
    "   venn.get_patch_by_id('111').set_alpha(0.7)\n",
    "except AttributeError:\n",
    "   pass\n",
    "\n",
    "\n",
    "    \n",
    "\n",
    "for text in venn.set_labels:\n",
    "    text.set_fontsize(20)  # Set label font size\n",
    "\n",
    "for text in venn.subset_labels:\n",
    "    if text:  # Check if the subset label exists\n",
    "        text.set_fontsize(28) \n",
    "# Show the plot\n",
    "plt.title('cagemate: bootstrap', fontsize =24)\n",
    "plt.show()"
   ]
  },
  {
   "cell_type": "code",
   "execution_count": 17,
   "metadata": {},
   "outputs": [
    {
     "data": {
      "application/vnd.microsoft.datawrangler.viewer.v0+json": {
       "columns": [
        {
         "name": "index",
         "rawType": "int64",
         "type": "integer"
        },
        {
         "name": "Unnamed: 0",
         "rawType": "int64",
         "type": "integer"
        },
        {
         "name": "original_unit_id",
         "rawType": "int64",
         "type": "integer"
        },
        {
         "name": "recording",
         "rawType": "object",
         "type": "string"
        },
        {
         "name": "exp1",
         "rawType": "object",
         "type": "string"
        },
        {
         "name": "exp4",
         "rawType": "object",
         "type": "string"
        },
        {
         "name": "exp5",
         "rawType": "object",
         "type": "string"
        },
        {
         "name": "cell group",
         "rawType": "object",
         "type": "string"
        }
       ],
       "conversionMethod": "pd.DataFrame",
       "ref": "9335dddc-2628-40da-a093-0b30ac4e78b4",
       "rows": [
        [
         "4",
         "4",
         "61",
         "11_cage_p1_merged.rec",
         "signifcantly increased",
         "not significantly changed",
         "signifcantly decreased",
         "exp1exp5"
        ],
        [
         "7",
         "7",
         "108",
         "11_cage_p1_merged.rec",
         "signifcantly increased",
         "not significantly changed",
         "signifcantly increased",
         "exp1exp5"
        ],
        [
         "8",
         "8",
         "163",
         "11_cage_p1_merged.rec",
         "signifcantly decreased",
         "not significantly changed",
         "signifcantly increased",
         "exp1exp5"
        ],
        [
         "10",
         "10",
         "233",
         "11_cage_p1_merged.rec",
         "not significantly changed",
         "not significantly changed",
         "not significantly changed",
         ""
        ],
        [
         "12",
         "12",
         "107",
         "11_cage_p1_merged.rec",
         "signifcantly increased",
         "not significantly changed",
         "signifcantly increased",
         "exp1exp5"
        ],
        [
         "13",
         "13",
         "245",
         "12_cage_p1_merged.rec",
         "not significantly changed",
         "not significantly changed",
         "not significantly changed",
         ""
        ],
        [
         "14",
         "14",
         "345",
         "12_cage_p1_merged.rec",
         "signifcantly decreased",
         "not significantly changed",
         "not significantly changed",
         "exp1"
        ],
        [
         "15",
         "15",
         "350",
         "12_cage_p1_merged.rec",
         "not significantly changed",
         "not significantly changed",
         "not significantly changed",
         ""
        ],
        [
         "19",
         "19",
         "365",
         "12_cage_p1_merged.rec",
         "not significantly changed",
         "not significantly changed",
         "not significantly changed",
         ""
        ],
        [
         "20",
         "20",
         "263",
         "12_cage_p1_merged.rec",
         "signifcantly decreased",
         "not significantly changed",
         "signifcantly decreased",
         "exp1exp5"
        ],
        [
         "23",
         "23",
         "356",
         "12_cage_p1_merged.rec",
         "signifcantly increased",
         "not significantly changed",
         "signifcantly increased",
         "exp1exp5"
        ],
        [
         "24",
         "24",
         "294",
         "12_cage_p1_merged.rec",
         "not significantly changed",
         "not significantly changed",
         "not significantly changed",
         ""
        ],
        [
         "27",
         "27",
         "40",
         "12_cage_p1_merged.rec",
         "signifcantly increased",
         "not significantly changed",
         "not significantly changed",
         "exp1"
        ],
        [
         "32",
         "32",
         "218",
         "13_cage_p1_merged.rec",
         "not significantly changed",
         "not significantly changed",
         "signifcantly increased",
         "exp5"
        ],
        [
         "34",
         "34",
         "23",
         "13_cage_p1_merged.rec",
         "not significantly changed",
         "not significantly changed",
         "signifcantly increased",
         "exp5"
        ],
        [
         "41",
         "41",
         "261",
         "13_cage_p1_merged.rec",
         "signifcantly increased",
         "not significantly changed",
         "signifcantly decreased",
         "exp1exp5"
        ],
        [
         "42",
         "42",
         "61",
         "21_cage_p1_merged.rec",
         "not significantly changed",
         "not significantly changed",
         "not significantly changed",
         ""
        ],
        [
         "45",
         "45",
         "166",
         "21_cage_p1_merged.rec",
         "signifcantly decreased",
         "not significantly changed",
         "not significantly changed",
         "exp1"
        ],
        [
         "46",
         "46",
         "215",
         "21_cage_p1_merged.rec",
         "not significantly changed",
         "not significantly changed",
         "not significantly changed",
         ""
        ],
        [
         "51",
         "51",
         "181",
         "21_cage_p1_merged.rec",
         "not significantly changed",
         "not significantly changed",
         "not significantly changed",
         ""
        ],
        [
         "52",
         "52",
         "53",
         "21_cage_p1_merged.rec",
         "signifcantly increased",
         "not significantly changed",
         "signifcantly increased",
         "exp1exp5"
        ],
        [
         "56",
         "56",
         "92",
         "21_cage_p1_merged.rec",
         "signifcantly decreased",
         "not significantly changed",
         "signifcantly decreased",
         "exp1exp5"
        ],
        [
         "58",
         "58",
         "55",
         "21_cage_p1_merged.rec",
         "signifcantly decreased",
         "not significantly changed",
         "signifcantly decreased",
         "exp1exp5"
        ],
        [
         "59",
         "59",
         "118",
         "21_cage_p1_merged.rec",
         "signifcantly increased",
         "not significantly changed",
         "signifcantly decreased",
         "exp1exp5"
        ],
        [
         "61",
         "61",
         "214",
         "21_cage_p1_merged.rec",
         "signifcantly decreased",
         "not significantly changed",
         "not significantly changed",
         "exp1"
        ],
        [
         "64",
         "64",
         "47",
         "21_cage_p1_merged.rec",
         "not significantly changed",
         "not significantly changed",
         "not significantly changed",
         ""
        ],
        [
         "67",
         "67",
         "2",
         "22_cage_p1_merged.rec",
         "signifcantly decreased",
         "not significantly changed",
         "signifcantly increased",
         "exp1exp5"
        ],
        [
         "71",
         "71",
         "49",
         "22_cage_p1_merged.rec",
         "signifcantly decreased",
         "not significantly changed",
         "not significantly changed",
         "exp1"
        ],
        [
         "76",
         "76",
         "3",
         "22_cage_p1_merged.rec",
         "not significantly changed",
         "not significantly changed",
         "signifcantly increased",
         "exp5"
        ],
        [
         "77",
         "77",
         "40",
         "22_cage_p1_merged.rec",
         "not significantly changed",
         "not significantly changed",
         "not significantly changed",
         ""
        ],
        [
         "80",
         "80",
         "8",
         "24_cage_p1_merged.rec",
         "not significantly changed",
         "not significantly changed",
         "signifcantly decreased",
         "exp5"
        ],
        [
         "81",
         "81",
         "9",
         "24_cage_p1_merged.rec",
         "signifcantly decreased",
         "not significantly changed",
         "signifcantly increased",
         "exp1exp5"
        ],
        [
         "86",
         "86",
         "47",
         "24_cage_p1_merged.rec",
         "signifcantly increased",
         "not significantly changed",
         "signifcantly increased",
         "exp1exp5"
        ],
        [
         "89",
         "89",
         "103",
         "24_cage_p1_merged.rec",
         "signifcantly decreased",
         "not significantly changed",
         "not significantly changed",
         "exp1"
        ],
        [
         "92",
         "92",
         "8",
         "32_cage_p1_merged.rec",
         "not significantly changed",
         "not significantly changed",
         "signifcantly decreased",
         "exp5"
        ],
        [
         "94",
         "94",
         "39",
         "32_cage_p1_merged.rec",
         "signifcantly increased",
         "not significantly changed",
         "signifcantly decreased",
         "exp1exp5"
        ],
        [
         "96",
         "96",
         "300",
         "32_cage_p1_merged.rec",
         "not significantly changed",
         "not significantly changed",
         "not significantly changed",
         ""
        ],
        [
         "97",
         "97",
         "79",
         "32_cage_p1_merged.rec",
         "not significantly changed",
         "not significantly changed",
         "not significantly changed",
         ""
        ],
        [
         "98",
         "98",
         "214",
         "32_cage_p1_merged.rec",
         "signifcantly decreased",
         "not significantly changed",
         "not significantly changed",
         "exp1"
        ],
        [
         "99",
         "99",
         "148",
         "32_cage_p1_merged.rec",
         "signifcantly increased",
         "not significantly changed",
         "signifcantly decreased",
         "exp1exp5"
        ],
        [
         "101",
         "101",
         "44",
         "32_cage_p1_merged.rec",
         "signifcantly increased",
         "not significantly changed",
         "signifcantly increased",
         "exp1exp5"
        ],
        [
         "104",
         "104",
         "55",
         "32_cage_p1_merged.rec",
         "signifcantly decreased",
         "not significantly changed",
         "not significantly changed",
         "exp1"
        ],
        [
         "106",
         "106",
         "1",
         "33_cage_p1_merged.rec",
         "not significantly changed",
         "not significantly changed",
         "signifcantly increased",
         "exp5"
        ],
        [
         "108",
         "108",
         "6",
         "41_cage_p1_merged.rec",
         "not significantly changed",
         "not significantly changed",
         "not significantly changed",
         ""
        ],
        [
         "109",
         "109",
         "62",
         "41_cage_p1_merged.rec",
         "signifcantly increased",
         "not significantly changed",
         "signifcantly increased",
         "exp1exp5"
        ],
        [
         "113",
         "113",
         "42",
         "41_cage_p1_merged.rec",
         "not significantly changed",
         "not significantly changed",
         "signifcantly decreased",
         "exp5"
        ],
        [
         "119",
         "119",
         "58",
         "44_cage_p1_merged.rec",
         "signifcantly decreased",
         "not significantly changed",
         "signifcantly decreased",
         "exp1exp5"
        ],
        [
         "121",
         "121",
         "5",
         "44_cage_p1_merged.rec",
         "signifcantly increased",
         "not significantly changed",
         "signifcantly increased",
         "exp1exp5"
        ],
        [
         "122",
         "122",
         "16",
         "44_cage_p1_merged.rec",
         "not significantly changed",
         "not significantly changed",
         "signifcantly decreased",
         "exp5"
        ],
        [
         "123",
         "123",
         "117",
         "44_cage_p1_merged.rec",
         "signifcantly decreased",
         "not significantly changed",
         "signifcantly increased",
         "exp1exp5"
        ]
       ],
       "shape": {
        "columns": 7,
        "rows": 56
       }
      },
      "text/html": [
       "<div>\n",
       "<style scoped>\n",
       "    .dataframe tbody tr th:only-of-type {\n",
       "        vertical-align: middle;\n",
       "    }\n",
       "\n",
       "    .dataframe tbody tr th {\n",
       "        vertical-align: top;\n",
       "    }\n",
       "\n",
       "    .dataframe thead th {\n",
       "        text-align: right;\n",
       "    }\n",
       "</style>\n",
       "<table border=\"1\" class=\"dataframe\">\n",
       "  <thead>\n",
       "    <tr style=\"text-align: right;\">\n",
       "      <th></th>\n",
       "      <th>Unnamed: 0</th>\n",
       "      <th>original_unit_id</th>\n",
       "      <th>recording</th>\n",
       "      <th>exp1</th>\n",
       "      <th>exp4</th>\n",
       "      <th>exp5</th>\n",
       "      <th>cell group</th>\n",
       "    </tr>\n",
       "  </thead>\n",
       "  <tbody>\n",
       "    <tr>\n",
       "      <th>4</th>\n",
       "      <td>4</td>\n",
       "      <td>61</td>\n",
       "      <td>11_cage_p1_merged.rec</td>\n",
       "      <td>signifcantly increased</td>\n",
       "      <td>not significantly changed</td>\n",
       "      <td>signifcantly decreased</td>\n",
       "      <td>exp1exp5</td>\n",
       "    </tr>\n",
       "    <tr>\n",
       "      <th>7</th>\n",
       "      <td>7</td>\n",
       "      <td>108</td>\n",
       "      <td>11_cage_p1_merged.rec</td>\n",
       "      <td>signifcantly increased</td>\n",
       "      <td>not significantly changed</td>\n",
       "      <td>signifcantly increased</td>\n",
       "      <td>exp1exp5</td>\n",
       "    </tr>\n",
       "    <tr>\n",
       "      <th>8</th>\n",
       "      <td>8</td>\n",
       "      <td>163</td>\n",
       "      <td>11_cage_p1_merged.rec</td>\n",
       "      <td>signifcantly decreased</td>\n",
       "      <td>not significantly changed</td>\n",
       "      <td>signifcantly increased</td>\n",
       "      <td>exp1exp5</td>\n",
       "    </tr>\n",
       "    <tr>\n",
       "      <th>10</th>\n",
       "      <td>10</td>\n",
       "      <td>233</td>\n",
       "      <td>11_cage_p1_merged.rec</td>\n",
       "      <td>not significantly changed</td>\n",
       "      <td>not significantly changed</td>\n",
       "      <td>not significantly changed</td>\n",
       "      <td></td>\n",
       "    </tr>\n",
       "    <tr>\n",
       "      <th>12</th>\n",
       "      <td>12</td>\n",
       "      <td>107</td>\n",
       "      <td>11_cage_p1_merged.rec</td>\n",
       "      <td>signifcantly increased</td>\n",
       "      <td>not significantly changed</td>\n",
       "      <td>signifcantly increased</td>\n",
       "      <td>exp1exp5</td>\n",
       "    </tr>\n",
       "    <tr>\n",
       "      <th>13</th>\n",
       "      <td>13</td>\n",
       "      <td>245</td>\n",
       "      <td>12_cage_p1_merged.rec</td>\n",
       "      <td>not significantly changed</td>\n",
       "      <td>not significantly changed</td>\n",
       "      <td>not significantly changed</td>\n",
       "      <td></td>\n",
       "    </tr>\n",
       "    <tr>\n",
       "      <th>14</th>\n",
       "      <td>14</td>\n",
       "      <td>345</td>\n",
       "      <td>12_cage_p1_merged.rec</td>\n",
       "      <td>signifcantly decreased</td>\n",
       "      <td>not significantly changed</td>\n",
       "      <td>not significantly changed</td>\n",
       "      <td>exp1</td>\n",
       "    </tr>\n",
       "    <tr>\n",
       "      <th>15</th>\n",
       "      <td>15</td>\n",
       "      <td>350</td>\n",
       "      <td>12_cage_p1_merged.rec</td>\n",
       "      <td>not significantly changed</td>\n",
       "      <td>not significantly changed</td>\n",
       "      <td>not significantly changed</td>\n",
       "      <td></td>\n",
       "    </tr>\n",
       "    <tr>\n",
       "      <th>19</th>\n",
       "      <td>19</td>\n",
       "      <td>365</td>\n",
       "      <td>12_cage_p1_merged.rec</td>\n",
       "      <td>not significantly changed</td>\n",
       "      <td>not significantly changed</td>\n",
       "      <td>not significantly changed</td>\n",
       "      <td></td>\n",
       "    </tr>\n",
       "    <tr>\n",
       "      <th>20</th>\n",
       "      <td>20</td>\n",
       "      <td>263</td>\n",
       "      <td>12_cage_p1_merged.rec</td>\n",
       "      <td>signifcantly decreased</td>\n",
       "      <td>not significantly changed</td>\n",
       "      <td>signifcantly decreased</td>\n",
       "      <td>exp1exp5</td>\n",
       "    </tr>\n",
       "    <tr>\n",
       "      <th>23</th>\n",
       "      <td>23</td>\n",
       "      <td>356</td>\n",
       "      <td>12_cage_p1_merged.rec</td>\n",
       "      <td>signifcantly increased</td>\n",
       "      <td>not significantly changed</td>\n",
       "      <td>signifcantly increased</td>\n",
       "      <td>exp1exp5</td>\n",
       "    </tr>\n",
       "    <tr>\n",
       "      <th>24</th>\n",
       "      <td>24</td>\n",
       "      <td>294</td>\n",
       "      <td>12_cage_p1_merged.rec</td>\n",
       "      <td>not significantly changed</td>\n",
       "      <td>not significantly changed</td>\n",
       "      <td>not significantly changed</td>\n",
       "      <td></td>\n",
       "    </tr>\n",
       "    <tr>\n",
       "      <th>27</th>\n",
       "      <td>27</td>\n",
       "      <td>40</td>\n",
       "      <td>12_cage_p1_merged.rec</td>\n",
       "      <td>signifcantly increased</td>\n",
       "      <td>not significantly changed</td>\n",
       "      <td>not significantly changed</td>\n",
       "      <td>exp1</td>\n",
       "    </tr>\n",
       "    <tr>\n",
       "      <th>32</th>\n",
       "      <td>32</td>\n",
       "      <td>218</td>\n",
       "      <td>13_cage_p1_merged.rec</td>\n",
       "      <td>not significantly changed</td>\n",
       "      <td>not significantly changed</td>\n",
       "      <td>signifcantly increased</td>\n",
       "      <td>exp5</td>\n",
       "    </tr>\n",
       "    <tr>\n",
       "      <th>34</th>\n",
       "      <td>34</td>\n",
       "      <td>23</td>\n",
       "      <td>13_cage_p1_merged.rec</td>\n",
       "      <td>not significantly changed</td>\n",
       "      <td>not significantly changed</td>\n",
       "      <td>signifcantly increased</td>\n",
       "      <td>exp5</td>\n",
       "    </tr>\n",
       "    <tr>\n",
       "      <th>41</th>\n",
       "      <td>41</td>\n",
       "      <td>261</td>\n",
       "      <td>13_cage_p1_merged.rec</td>\n",
       "      <td>signifcantly increased</td>\n",
       "      <td>not significantly changed</td>\n",
       "      <td>signifcantly decreased</td>\n",
       "      <td>exp1exp5</td>\n",
       "    </tr>\n",
       "    <tr>\n",
       "      <th>42</th>\n",
       "      <td>42</td>\n",
       "      <td>61</td>\n",
       "      <td>21_cage_p1_merged.rec</td>\n",
       "      <td>not significantly changed</td>\n",
       "      <td>not significantly changed</td>\n",
       "      <td>not significantly changed</td>\n",
       "      <td></td>\n",
       "    </tr>\n",
       "    <tr>\n",
       "      <th>45</th>\n",
       "      <td>45</td>\n",
       "      <td>166</td>\n",
       "      <td>21_cage_p1_merged.rec</td>\n",
       "      <td>signifcantly decreased</td>\n",
       "      <td>not significantly changed</td>\n",
       "      <td>not significantly changed</td>\n",
       "      <td>exp1</td>\n",
       "    </tr>\n",
       "    <tr>\n",
       "      <th>46</th>\n",
       "      <td>46</td>\n",
       "      <td>215</td>\n",
       "      <td>21_cage_p1_merged.rec</td>\n",
       "      <td>not significantly changed</td>\n",
       "      <td>not significantly changed</td>\n",
       "      <td>not significantly changed</td>\n",
       "      <td></td>\n",
       "    </tr>\n",
       "    <tr>\n",
       "      <th>51</th>\n",
       "      <td>51</td>\n",
       "      <td>181</td>\n",
       "      <td>21_cage_p1_merged.rec</td>\n",
       "      <td>not significantly changed</td>\n",
       "      <td>not significantly changed</td>\n",
       "      <td>not significantly changed</td>\n",
       "      <td></td>\n",
       "    </tr>\n",
       "    <tr>\n",
       "      <th>52</th>\n",
       "      <td>52</td>\n",
       "      <td>53</td>\n",
       "      <td>21_cage_p1_merged.rec</td>\n",
       "      <td>signifcantly increased</td>\n",
       "      <td>not significantly changed</td>\n",
       "      <td>signifcantly increased</td>\n",
       "      <td>exp1exp5</td>\n",
       "    </tr>\n",
       "    <tr>\n",
       "      <th>56</th>\n",
       "      <td>56</td>\n",
       "      <td>92</td>\n",
       "      <td>21_cage_p1_merged.rec</td>\n",
       "      <td>signifcantly decreased</td>\n",
       "      <td>not significantly changed</td>\n",
       "      <td>signifcantly decreased</td>\n",
       "      <td>exp1exp5</td>\n",
       "    </tr>\n",
       "    <tr>\n",
       "      <th>58</th>\n",
       "      <td>58</td>\n",
       "      <td>55</td>\n",
       "      <td>21_cage_p1_merged.rec</td>\n",
       "      <td>signifcantly decreased</td>\n",
       "      <td>not significantly changed</td>\n",
       "      <td>signifcantly decreased</td>\n",
       "      <td>exp1exp5</td>\n",
       "    </tr>\n",
       "    <tr>\n",
       "      <th>59</th>\n",
       "      <td>59</td>\n",
       "      <td>118</td>\n",
       "      <td>21_cage_p1_merged.rec</td>\n",
       "      <td>signifcantly increased</td>\n",
       "      <td>not significantly changed</td>\n",
       "      <td>signifcantly decreased</td>\n",
       "      <td>exp1exp5</td>\n",
       "    </tr>\n",
       "    <tr>\n",
       "      <th>61</th>\n",
       "      <td>61</td>\n",
       "      <td>214</td>\n",
       "      <td>21_cage_p1_merged.rec</td>\n",
       "      <td>signifcantly decreased</td>\n",
       "      <td>not significantly changed</td>\n",
       "      <td>not significantly changed</td>\n",
       "      <td>exp1</td>\n",
       "    </tr>\n",
       "    <tr>\n",
       "      <th>64</th>\n",
       "      <td>64</td>\n",
       "      <td>47</td>\n",
       "      <td>21_cage_p1_merged.rec</td>\n",
       "      <td>not significantly changed</td>\n",
       "      <td>not significantly changed</td>\n",
       "      <td>not significantly changed</td>\n",
       "      <td></td>\n",
       "    </tr>\n",
       "    <tr>\n",
       "      <th>67</th>\n",
       "      <td>67</td>\n",
       "      <td>2</td>\n",
       "      <td>22_cage_p1_merged.rec</td>\n",
       "      <td>signifcantly decreased</td>\n",
       "      <td>not significantly changed</td>\n",
       "      <td>signifcantly increased</td>\n",
       "      <td>exp1exp5</td>\n",
       "    </tr>\n",
       "    <tr>\n",
       "      <th>71</th>\n",
       "      <td>71</td>\n",
       "      <td>49</td>\n",
       "      <td>22_cage_p1_merged.rec</td>\n",
       "      <td>signifcantly decreased</td>\n",
       "      <td>not significantly changed</td>\n",
       "      <td>not significantly changed</td>\n",
       "      <td>exp1</td>\n",
       "    </tr>\n",
       "    <tr>\n",
       "      <th>76</th>\n",
       "      <td>76</td>\n",
       "      <td>3</td>\n",
       "      <td>22_cage_p1_merged.rec</td>\n",
       "      <td>not significantly changed</td>\n",
       "      <td>not significantly changed</td>\n",
       "      <td>signifcantly increased</td>\n",
       "      <td>exp5</td>\n",
       "    </tr>\n",
       "    <tr>\n",
       "      <th>77</th>\n",
       "      <td>77</td>\n",
       "      <td>40</td>\n",
       "      <td>22_cage_p1_merged.rec</td>\n",
       "      <td>not significantly changed</td>\n",
       "      <td>not significantly changed</td>\n",
       "      <td>not significantly changed</td>\n",
       "      <td></td>\n",
       "    </tr>\n",
       "    <tr>\n",
       "      <th>80</th>\n",
       "      <td>80</td>\n",
       "      <td>8</td>\n",
       "      <td>24_cage_p1_merged.rec</td>\n",
       "      <td>not significantly changed</td>\n",
       "      <td>not significantly changed</td>\n",
       "      <td>signifcantly decreased</td>\n",
       "      <td>exp5</td>\n",
       "    </tr>\n",
       "    <tr>\n",
       "      <th>81</th>\n",
       "      <td>81</td>\n",
       "      <td>9</td>\n",
       "      <td>24_cage_p1_merged.rec</td>\n",
       "      <td>signifcantly decreased</td>\n",
       "      <td>not significantly changed</td>\n",
       "      <td>signifcantly increased</td>\n",
       "      <td>exp1exp5</td>\n",
       "    </tr>\n",
       "    <tr>\n",
       "      <th>86</th>\n",
       "      <td>86</td>\n",
       "      <td>47</td>\n",
       "      <td>24_cage_p1_merged.rec</td>\n",
       "      <td>signifcantly increased</td>\n",
       "      <td>not significantly changed</td>\n",
       "      <td>signifcantly increased</td>\n",
       "      <td>exp1exp5</td>\n",
       "    </tr>\n",
       "    <tr>\n",
       "      <th>89</th>\n",
       "      <td>89</td>\n",
       "      <td>103</td>\n",
       "      <td>24_cage_p1_merged.rec</td>\n",
       "      <td>signifcantly decreased</td>\n",
       "      <td>not significantly changed</td>\n",
       "      <td>not significantly changed</td>\n",
       "      <td>exp1</td>\n",
       "    </tr>\n",
       "    <tr>\n",
       "      <th>92</th>\n",
       "      <td>92</td>\n",
       "      <td>8</td>\n",
       "      <td>32_cage_p1_merged.rec</td>\n",
       "      <td>not significantly changed</td>\n",
       "      <td>not significantly changed</td>\n",
       "      <td>signifcantly decreased</td>\n",
       "      <td>exp5</td>\n",
       "    </tr>\n",
       "    <tr>\n",
       "      <th>94</th>\n",
       "      <td>94</td>\n",
       "      <td>39</td>\n",
       "      <td>32_cage_p1_merged.rec</td>\n",
       "      <td>signifcantly increased</td>\n",
       "      <td>not significantly changed</td>\n",
       "      <td>signifcantly decreased</td>\n",
       "      <td>exp1exp5</td>\n",
       "    </tr>\n",
       "    <tr>\n",
       "      <th>96</th>\n",
       "      <td>96</td>\n",
       "      <td>300</td>\n",
       "      <td>32_cage_p1_merged.rec</td>\n",
       "      <td>not significantly changed</td>\n",
       "      <td>not significantly changed</td>\n",
       "      <td>not significantly changed</td>\n",
       "      <td></td>\n",
       "    </tr>\n",
       "    <tr>\n",
       "      <th>97</th>\n",
       "      <td>97</td>\n",
       "      <td>79</td>\n",
       "      <td>32_cage_p1_merged.rec</td>\n",
       "      <td>not significantly changed</td>\n",
       "      <td>not significantly changed</td>\n",
       "      <td>not significantly changed</td>\n",
       "      <td></td>\n",
       "    </tr>\n",
       "    <tr>\n",
       "      <th>98</th>\n",
       "      <td>98</td>\n",
       "      <td>214</td>\n",
       "      <td>32_cage_p1_merged.rec</td>\n",
       "      <td>signifcantly decreased</td>\n",
       "      <td>not significantly changed</td>\n",
       "      <td>not significantly changed</td>\n",
       "      <td>exp1</td>\n",
       "    </tr>\n",
       "    <tr>\n",
       "      <th>99</th>\n",
       "      <td>99</td>\n",
       "      <td>148</td>\n",
       "      <td>32_cage_p1_merged.rec</td>\n",
       "      <td>signifcantly increased</td>\n",
       "      <td>not significantly changed</td>\n",
       "      <td>signifcantly decreased</td>\n",
       "      <td>exp1exp5</td>\n",
       "    </tr>\n",
       "    <tr>\n",
       "      <th>101</th>\n",
       "      <td>101</td>\n",
       "      <td>44</td>\n",
       "      <td>32_cage_p1_merged.rec</td>\n",
       "      <td>signifcantly increased</td>\n",
       "      <td>not significantly changed</td>\n",
       "      <td>signifcantly increased</td>\n",
       "      <td>exp1exp5</td>\n",
       "    </tr>\n",
       "    <tr>\n",
       "      <th>104</th>\n",
       "      <td>104</td>\n",
       "      <td>55</td>\n",
       "      <td>32_cage_p1_merged.rec</td>\n",
       "      <td>signifcantly decreased</td>\n",
       "      <td>not significantly changed</td>\n",
       "      <td>not significantly changed</td>\n",
       "      <td>exp1</td>\n",
       "    </tr>\n",
       "    <tr>\n",
       "      <th>106</th>\n",
       "      <td>106</td>\n",
       "      <td>1</td>\n",
       "      <td>33_cage_p1_merged.rec</td>\n",
       "      <td>not significantly changed</td>\n",
       "      <td>not significantly changed</td>\n",
       "      <td>signifcantly increased</td>\n",
       "      <td>exp5</td>\n",
       "    </tr>\n",
       "    <tr>\n",
       "      <th>108</th>\n",
       "      <td>108</td>\n",
       "      <td>6</td>\n",
       "      <td>41_cage_p1_merged.rec</td>\n",
       "      <td>not significantly changed</td>\n",
       "      <td>not significantly changed</td>\n",
       "      <td>not significantly changed</td>\n",
       "      <td></td>\n",
       "    </tr>\n",
       "    <tr>\n",
       "      <th>109</th>\n",
       "      <td>109</td>\n",
       "      <td>62</td>\n",
       "      <td>41_cage_p1_merged.rec</td>\n",
       "      <td>signifcantly increased</td>\n",
       "      <td>not significantly changed</td>\n",
       "      <td>signifcantly increased</td>\n",
       "      <td>exp1exp5</td>\n",
       "    </tr>\n",
       "    <tr>\n",
       "      <th>113</th>\n",
       "      <td>113</td>\n",
       "      <td>42</td>\n",
       "      <td>41_cage_p1_merged.rec</td>\n",
       "      <td>not significantly changed</td>\n",
       "      <td>not significantly changed</td>\n",
       "      <td>signifcantly decreased</td>\n",
       "      <td>exp5</td>\n",
       "    </tr>\n",
       "    <tr>\n",
       "      <th>119</th>\n",
       "      <td>119</td>\n",
       "      <td>58</td>\n",
       "      <td>44_cage_p1_merged.rec</td>\n",
       "      <td>signifcantly decreased</td>\n",
       "      <td>not significantly changed</td>\n",
       "      <td>signifcantly decreased</td>\n",
       "      <td>exp1exp5</td>\n",
       "    </tr>\n",
       "    <tr>\n",
       "      <th>121</th>\n",
       "      <td>121</td>\n",
       "      <td>5</td>\n",
       "      <td>44_cage_p1_merged.rec</td>\n",
       "      <td>signifcantly increased</td>\n",
       "      <td>not significantly changed</td>\n",
       "      <td>signifcantly increased</td>\n",
       "      <td>exp1exp5</td>\n",
       "    </tr>\n",
       "    <tr>\n",
       "      <th>122</th>\n",
       "      <td>122</td>\n",
       "      <td>16</td>\n",
       "      <td>44_cage_p1_merged.rec</td>\n",
       "      <td>not significantly changed</td>\n",
       "      <td>not significantly changed</td>\n",
       "      <td>signifcantly decreased</td>\n",
       "      <td>exp5</td>\n",
       "    </tr>\n",
       "    <tr>\n",
       "      <th>123</th>\n",
       "      <td>123</td>\n",
       "      <td>117</td>\n",
       "      <td>44_cage_p1_merged.rec</td>\n",
       "      <td>signifcantly decreased</td>\n",
       "      <td>not significantly changed</td>\n",
       "      <td>signifcantly increased</td>\n",
       "      <td>exp1exp5</td>\n",
       "    </tr>\n",
       "    <tr>\n",
       "      <th>125</th>\n",
       "      <td>125</td>\n",
       "      <td>47</td>\n",
       "      <td>44_cage_p1_merged.rec</td>\n",
       "      <td>not significantly changed</td>\n",
       "      <td>not significantly changed</td>\n",
       "      <td>not significantly changed</td>\n",
       "      <td></td>\n",
       "    </tr>\n",
       "    <tr>\n",
       "      <th>126</th>\n",
       "      <td>126</td>\n",
       "      <td>103</td>\n",
       "      <td>44_cage_p1_merged.rec</td>\n",
       "      <td>signifcantly increased</td>\n",
       "      <td>not significantly changed</td>\n",
       "      <td>not significantly changed</td>\n",
       "      <td>exp1</td>\n",
       "    </tr>\n",
       "    <tr>\n",
       "      <th>127</th>\n",
       "      <td>127</td>\n",
       "      <td>28</td>\n",
       "      <td>44_cage_p1_merged.rec</td>\n",
       "      <td>signifcantly increased</td>\n",
       "      <td>not significantly changed</td>\n",
       "      <td>signifcantly increased</td>\n",
       "      <td>exp1exp5</td>\n",
       "    </tr>\n",
       "    <tr>\n",
       "      <th>130</th>\n",
       "      <td>130</td>\n",
       "      <td>55</td>\n",
       "      <td>44_cage_p1_merged.rec</td>\n",
       "      <td>signifcantly increased</td>\n",
       "      <td>not significantly changed</td>\n",
       "      <td>signifcantly increased</td>\n",
       "      <td>exp1exp5</td>\n",
       "    </tr>\n",
       "    <tr>\n",
       "      <th>131</th>\n",
       "      <td>131</td>\n",
       "      <td>86</td>\n",
       "      <td>44_cage_p1_merged.rec</td>\n",
       "      <td>not significantly changed</td>\n",
       "      <td>not significantly changed</td>\n",
       "      <td>not significantly changed</td>\n",
       "      <td></td>\n",
       "    </tr>\n",
       "    <tr>\n",
       "      <th>133</th>\n",
       "      <td>133</td>\n",
       "      <td>119</td>\n",
       "      <td>44_cage_p1_merged.rec</td>\n",
       "      <td>signifcantly increased</td>\n",
       "      <td>not significantly changed</td>\n",
       "      <td>not significantly changed</td>\n",
       "      <td>exp1</td>\n",
       "    </tr>\n",
       "  </tbody>\n",
       "</table>\n",
       "</div>"
      ],
      "text/plain": [
       "     Unnamed: 0  original_unit_id              recording  \\\n",
       "4             4                61  11_cage_p1_merged.rec   \n",
       "7             7               108  11_cage_p1_merged.rec   \n",
       "8             8               163  11_cage_p1_merged.rec   \n",
       "10           10               233  11_cage_p1_merged.rec   \n",
       "12           12               107  11_cage_p1_merged.rec   \n",
       "13           13               245  12_cage_p1_merged.rec   \n",
       "14           14               345  12_cage_p1_merged.rec   \n",
       "15           15               350  12_cage_p1_merged.rec   \n",
       "19           19               365  12_cage_p1_merged.rec   \n",
       "20           20               263  12_cage_p1_merged.rec   \n",
       "23           23               356  12_cage_p1_merged.rec   \n",
       "24           24               294  12_cage_p1_merged.rec   \n",
       "27           27                40  12_cage_p1_merged.rec   \n",
       "32           32               218  13_cage_p1_merged.rec   \n",
       "34           34                23  13_cage_p1_merged.rec   \n",
       "41           41               261  13_cage_p1_merged.rec   \n",
       "42           42                61  21_cage_p1_merged.rec   \n",
       "45           45               166  21_cage_p1_merged.rec   \n",
       "46           46               215  21_cage_p1_merged.rec   \n",
       "51           51               181  21_cage_p1_merged.rec   \n",
       "52           52                53  21_cage_p1_merged.rec   \n",
       "56           56                92  21_cage_p1_merged.rec   \n",
       "58           58                55  21_cage_p1_merged.rec   \n",
       "59           59               118  21_cage_p1_merged.rec   \n",
       "61           61               214  21_cage_p1_merged.rec   \n",
       "64           64                47  21_cage_p1_merged.rec   \n",
       "67           67                 2  22_cage_p1_merged.rec   \n",
       "71           71                49  22_cage_p1_merged.rec   \n",
       "76           76                 3  22_cage_p1_merged.rec   \n",
       "77           77                40  22_cage_p1_merged.rec   \n",
       "80           80                 8  24_cage_p1_merged.rec   \n",
       "81           81                 9  24_cage_p1_merged.rec   \n",
       "86           86                47  24_cage_p1_merged.rec   \n",
       "89           89               103  24_cage_p1_merged.rec   \n",
       "92           92                 8  32_cage_p1_merged.rec   \n",
       "94           94                39  32_cage_p1_merged.rec   \n",
       "96           96               300  32_cage_p1_merged.rec   \n",
       "97           97                79  32_cage_p1_merged.rec   \n",
       "98           98               214  32_cage_p1_merged.rec   \n",
       "99           99               148  32_cage_p1_merged.rec   \n",
       "101         101                44  32_cage_p1_merged.rec   \n",
       "104         104                55  32_cage_p1_merged.rec   \n",
       "106         106                 1  33_cage_p1_merged.rec   \n",
       "108         108                 6  41_cage_p1_merged.rec   \n",
       "109         109                62  41_cage_p1_merged.rec   \n",
       "113         113                42  41_cage_p1_merged.rec   \n",
       "119         119                58  44_cage_p1_merged.rec   \n",
       "121         121                 5  44_cage_p1_merged.rec   \n",
       "122         122                16  44_cage_p1_merged.rec   \n",
       "123         123               117  44_cage_p1_merged.rec   \n",
       "125         125                47  44_cage_p1_merged.rec   \n",
       "126         126               103  44_cage_p1_merged.rec   \n",
       "127         127                28  44_cage_p1_merged.rec   \n",
       "130         130                55  44_cage_p1_merged.rec   \n",
       "131         131                86  44_cage_p1_merged.rec   \n",
       "133         133               119  44_cage_p1_merged.rec   \n",
       "\n",
       "                          exp1                       exp4  \\\n",
       "4       signifcantly increased  not significantly changed   \n",
       "7       signifcantly increased  not significantly changed   \n",
       "8       signifcantly decreased  not significantly changed   \n",
       "10   not significantly changed  not significantly changed   \n",
       "12      signifcantly increased  not significantly changed   \n",
       "13   not significantly changed  not significantly changed   \n",
       "14      signifcantly decreased  not significantly changed   \n",
       "15   not significantly changed  not significantly changed   \n",
       "19   not significantly changed  not significantly changed   \n",
       "20      signifcantly decreased  not significantly changed   \n",
       "23      signifcantly increased  not significantly changed   \n",
       "24   not significantly changed  not significantly changed   \n",
       "27      signifcantly increased  not significantly changed   \n",
       "32   not significantly changed  not significantly changed   \n",
       "34   not significantly changed  not significantly changed   \n",
       "41      signifcantly increased  not significantly changed   \n",
       "42   not significantly changed  not significantly changed   \n",
       "45      signifcantly decreased  not significantly changed   \n",
       "46   not significantly changed  not significantly changed   \n",
       "51   not significantly changed  not significantly changed   \n",
       "52      signifcantly increased  not significantly changed   \n",
       "56      signifcantly decreased  not significantly changed   \n",
       "58      signifcantly decreased  not significantly changed   \n",
       "59      signifcantly increased  not significantly changed   \n",
       "61      signifcantly decreased  not significantly changed   \n",
       "64   not significantly changed  not significantly changed   \n",
       "67      signifcantly decreased  not significantly changed   \n",
       "71      signifcantly decreased  not significantly changed   \n",
       "76   not significantly changed  not significantly changed   \n",
       "77   not significantly changed  not significantly changed   \n",
       "80   not significantly changed  not significantly changed   \n",
       "81      signifcantly decreased  not significantly changed   \n",
       "86      signifcantly increased  not significantly changed   \n",
       "89      signifcantly decreased  not significantly changed   \n",
       "92   not significantly changed  not significantly changed   \n",
       "94      signifcantly increased  not significantly changed   \n",
       "96   not significantly changed  not significantly changed   \n",
       "97   not significantly changed  not significantly changed   \n",
       "98      signifcantly decreased  not significantly changed   \n",
       "99      signifcantly increased  not significantly changed   \n",
       "101     signifcantly increased  not significantly changed   \n",
       "104     signifcantly decreased  not significantly changed   \n",
       "106  not significantly changed  not significantly changed   \n",
       "108  not significantly changed  not significantly changed   \n",
       "109     signifcantly increased  not significantly changed   \n",
       "113  not significantly changed  not significantly changed   \n",
       "119     signifcantly decreased  not significantly changed   \n",
       "121     signifcantly increased  not significantly changed   \n",
       "122  not significantly changed  not significantly changed   \n",
       "123     signifcantly decreased  not significantly changed   \n",
       "125  not significantly changed  not significantly changed   \n",
       "126     signifcantly increased  not significantly changed   \n",
       "127     signifcantly increased  not significantly changed   \n",
       "130     signifcantly increased  not significantly changed   \n",
       "131  not significantly changed  not significantly changed   \n",
       "133     signifcantly increased  not significantly changed   \n",
       "\n",
       "                          exp5 cell group  \n",
       "4       signifcantly decreased   exp1exp5  \n",
       "7       signifcantly increased   exp1exp5  \n",
       "8       signifcantly increased   exp1exp5  \n",
       "10   not significantly changed             \n",
       "12      signifcantly increased   exp1exp5  \n",
       "13   not significantly changed             \n",
       "14   not significantly changed       exp1  \n",
       "15   not significantly changed             \n",
       "19   not significantly changed             \n",
       "20      signifcantly decreased   exp1exp5  \n",
       "23      signifcantly increased   exp1exp5  \n",
       "24   not significantly changed             \n",
       "27   not significantly changed       exp1  \n",
       "32      signifcantly increased       exp5  \n",
       "34      signifcantly increased       exp5  \n",
       "41      signifcantly decreased   exp1exp5  \n",
       "42   not significantly changed             \n",
       "45   not significantly changed       exp1  \n",
       "46   not significantly changed             \n",
       "51   not significantly changed             \n",
       "52      signifcantly increased   exp1exp5  \n",
       "56      signifcantly decreased   exp1exp5  \n",
       "58      signifcantly decreased   exp1exp5  \n",
       "59      signifcantly decreased   exp1exp5  \n",
       "61   not significantly changed       exp1  \n",
       "64   not significantly changed             \n",
       "67      signifcantly increased   exp1exp5  \n",
       "71   not significantly changed       exp1  \n",
       "76      signifcantly increased       exp5  \n",
       "77   not significantly changed             \n",
       "80      signifcantly decreased       exp5  \n",
       "81      signifcantly increased   exp1exp5  \n",
       "86      signifcantly increased   exp1exp5  \n",
       "89   not significantly changed       exp1  \n",
       "92      signifcantly decreased       exp5  \n",
       "94      signifcantly decreased   exp1exp5  \n",
       "96   not significantly changed             \n",
       "97   not significantly changed             \n",
       "98   not significantly changed       exp1  \n",
       "99      signifcantly decreased   exp1exp5  \n",
       "101     signifcantly increased   exp1exp5  \n",
       "104  not significantly changed       exp1  \n",
       "106     signifcantly increased       exp5  \n",
       "108  not significantly changed             \n",
       "109     signifcantly increased   exp1exp5  \n",
       "113     signifcantly decreased       exp5  \n",
       "119     signifcantly decreased   exp1exp5  \n",
       "121     signifcantly increased   exp1exp5  \n",
       "122     signifcantly decreased       exp5  \n",
       "123     signifcantly increased   exp1exp5  \n",
       "125  not significantly changed             \n",
       "126  not significantly changed       exp1  \n",
       "127     signifcantly increased   exp1exp5  \n",
       "130     signifcantly increased   exp1exp5  \n",
       "131  not significantly changed             \n",
       "133  not significantly changed       exp1  "
      ]
     },
     "execution_count": 17,
     "metadata": {},
     "output_type": "execute_result"
    }
   ],
   "source": [
    "bootstrap_results[bootstrap_results['exp4'] == 'not significantly changed']"
   ]
  },
  {
   "cell_type": "code",
   "execution_count": 92,
   "metadata": {},
   "outputs": [
    {
     "data": {
      "application/vnd.plotly.v1+json": {
       "config": {
        "plotlyServerURL": "https://plot.ly"
       },
       "data": [
        {
         "link": {
          "color": [
           "#FFDCDC",
           "#DCE5FF",
           "#DBDBDB",
           "#FFDCDC",
           "#DCE5FF",
           "#DBDBDB",
           "#FFDCDC",
           "#DCE5FF",
           "#DBDBDB",
           "#FFDCDC",
           "#DCE5FF",
           "#DBDBDB",
           "#FFDCDC",
           "#DCE5FF",
           "#DBDBDB",
           "#FFDCDC",
           "#DCE5FF",
           "#DBDBDB"
          ],
          "source": [
           0,
           0,
           0,
           1,
           1,
           1,
           2,
           2,
           2,
           3,
           3,
           3,
           4,
           4,
           4,
           5,
           5,
           5
          ],
          "target": [
           3,
           4,
           5,
           3,
           4,
           5,
           3,
           4,
           5,
           6,
           7,
           8,
           6,
           7,
           8,
           6,
           7,
           8
          ],
          "value": [
           15,
           3,
           18,
           12,
           16,
           15,
           12,
           20,
           23,
           25,
           3,
           11,
           6,
           21,
           12,
           18,
           13,
           25
          ]
         },
         "node": {
          "color": [
           "red",
           "blue",
           "grey",
           "red",
           "blue",
           "grey",
           "red",
           "blue",
           "grey"
          ],
          "label": [
           "significantly increased",
           "significantly decreased",
           "no change",
           "significantly increased",
           "significantly decreased",
           "no change",
           " significantly increased",
           " significantly decreased",
           " no change"
          ],
          "pad": 15,
          "thickness": 20,
          "x": [
           0.1,
           0.1,
           0.1,
           0.5,
           0.5,
           0.5,
           0.9,
           0.9,
           0.9
          ],
          "y": [
           0.15,
           0.45,
           0.82,
           0.15,
           0.45,
           0.82,
           0.185,
           0.52,
           0.85
          ]
         },
         "type": "sankey"
        }
       ],
       "layout": {
        "annotations": [
         {
          "font": {
           "size": 16
          },
          "showarrow": false,
          "text": "Exposure 1",
          "x": -0.05,
          "xref": "paper",
          "y": 1.1,
          "yref": "paper"
         },
         {
          "font": {
           "size": 16
          },
          "showarrow": false,
          "text": "Exposure 4",
          "x": 0.5,
          "xref": "paper",
          "y": 1.1,
          "yref": "paper"
         },
         {
          "font": {
           "size": 16
          },
          "showarrow": false,
          "text": "Exposure 5",
          "x": 1.05,
          "xref": "paper",
          "y": 1.1,
          "yref": "paper"
         },
         {
          "font": {
           "size": 24
          },
          "showarrow": false,
          "text": "Cagemate",
          "x": 0.5,
          "xref": "paper",
          "y": 1.3,
          "yref": "paper"
         }
        ],
        "margin": {
         "t": 100
        },
        "template": {
         "data": {
          "bar": [
           {
            "error_x": {
             "color": "#2a3f5f"
            },
            "error_y": {
             "color": "#2a3f5f"
            },
            "marker": {
             "line": {
              "color": "#E5ECF6",
              "width": 0.5
             },
             "pattern": {
              "fillmode": "overlay",
              "size": 10,
              "solidity": 0.2
             }
            },
            "type": "bar"
           }
          ],
          "barpolar": [
           {
            "marker": {
             "line": {
              "color": "#E5ECF6",
              "width": 0.5
             },
             "pattern": {
              "fillmode": "overlay",
              "size": 10,
              "solidity": 0.2
             }
            },
            "type": "barpolar"
           }
          ],
          "carpet": [
           {
            "aaxis": {
             "endlinecolor": "#2a3f5f",
             "gridcolor": "white",
             "linecolor": "white",
             "minorgridcolor": "white",
             "startlinecolor": "#2a3f5f"
            },
            "baxis": {
             "endlinecolor": "#2a3f5f",
             "gridcolor": "white",
             "linecolor": "white",
             "minorgridcolor": "white",
             "startlinecolor": "#2a3f5f"
            },
            "type": "carpet"
           }
          ],
          "choropleth": [
           {
            "colorbar": {
             "outlinewidth": 0,
             "ticks": ""
            },
            "type": "choropleth"
           }
          ],
          "contour": [
           {
            "colorbar": {
             "outlinewidth": 0,
             "ticks": ""
            },
            "colorscale": [
             [
              0,
              "#0d0887"
             ],
             [
              0.1111111111111111,
              "#46039f"
             ],
             [
              0.2222222222222222,
              "#7201a8"
             ],
             [
              0.3333333333333333,
              "#9c179e"
             ],
             [
              0.4444444444444444,
              "#bd3786"
             ],
             [
              0.5555555555555556,
              "#d8576b"
             ],
             [
              0.6666666666666666,
              "#ed7953"
             ],
             [
              0.7777777777777778,
              "#fb9f3a"
             ],
             [
              0.8888888888888888,
              "#fdca26"
             ],
             [
              1,
              "#f0f921"
             ]
            ],
            "type": "contour"
           }
          ],
          "contourcarpet": [
           {
            "colorbar": {
             "outlinewidth": 0,
             "ticks": ""
            },
            "type": "contourcarpet"
           }
          ],
          "heatmap": [
           {
            "colorbar": {
             "outlinewidth": 0,
             "ticks": ""
            },
            "colorscale": [
             [
              0,
              "#0d0887"
             ],
             [
              0.1111111111111111,
              "#46039f"
             ],
             [
              0.2222222222222222,
              "#7201a8"
             ],
             [
              0.3333333333333333,
              "#9c179e"
             ],
             [
              0.4444444444444444,
              "#bd3786"
             ],
             [
              0.5555555555555556,
              "#d8576b"
             ],
             [
              0.6666666666666666,
              "#ed7953"
             ],
             [
              0.7777777777777778,
              "#fb9f3a"
             ],
             [
              0.8888888888888888,
              "#fdca26"
             ],
             [
              1,
              "#f0f921"
             ]
            ],
            "type": "heatmap"
           }
          ],
          "histogram": [
           {
            "marker": {
             "pattern": {
              "fillmode": "overlay",
              "size": 10,
              "solidity": 0.2
             }
            },
            "type": "histogram"
           }
          ],
          "histogram2d": [
           {
            "colorbar": {
             "outlinewidth": 0,
             "ticks": ""
            },
            "colorscale": [
             [
              0,
              "#0d0887"
             ],
             [
              0.1111111111111111,
              "#46039f"
             ],
             [
              0.2222222222222222,
              "#7201a8"
             ],
             [
              0.3333333333333333,
              "#9c179e"
             ],
             [
              0.4444444444444444,
              "#bd3786"
             ],
             [
              0.5555555555555556,
              "#d8576b"
             ],
             [
              0.6666666666666666,
              "#ed7953"
             ],
             [
              0.7777777777777778,
              "#fb9f3a"
             ],
             [
              0.8888888888888888,
              "#fdca26"
             ],
             [
              1,
              "#f0f921"
             ]
            ],
            "type": "histogram2d"
           }
          ],
          "histogram2dcontour": [
           {
            "colorbar": {
             "outlinewidth": 0,
             "ticks": ""
            },
            "colorscale": [
             [
              0,
              "#0d0887"
             ],
             [
              0.1111111111111111,
              "#46039f"
             ],
             [
              0.2222222222222222,
              "#7201a8"
             ],
             [
              0.3333333333333333,
              "#9c179e"
             ],
             [
              0.4444444444444444,
              "#bd3786"
             ],
             [
              0.5555555555555556,
              "#d8576b"
             ],
             [
              0.6666666666666666,
              "#ed7953"
             ],
             [
              0.7777777777777778,
              "#fb9f3a"
             ],
             [
              0.8888888888888888,
              "#fdca26"
             ],
             [
              1,
              "#f0f921"
             ]
            ],
            "type": "histogram2dcontour"
           }
          ],
          "mesh3d": [
           {
            "colorbar": {
             "outlinewidth": 0,
             "ticks": ""
            },
            "type": "mesh3d"
           }
          ],
          "parcoords": [
           {
            "line": {
             "colorbar": {
              "outlinewidth": 0,
              "ticks": ""
             }
            },
            "type": "parcoords"
           }
          ],
          "pie": [
           {
            "automargin": true,
            "type": "pie"
           }
          ],
          "scatter": [
           {
            "fillpattern": {
             "fillmode": "overlay",
             "size": 10,
             "solidity": 0.2
            },
            "type": "scatter"
           }
          ],
          "scatter3d": [
           {
            "line": {
             "colorbar": {
              "outlinewidth": 0,
              "ticks": ""
             }
            },
            "marker": {
             "colorbar": {
              "outlinewidth": 0,
              "ticks": ""
             }
            },
            "type": "scatter3d"
           }
          ],
          "scattercarpet": [
           {
            "marker": {
             "colorbar": {
              "outlinewidth": 0,
              "ticks": ""
             }
            },
            "type": "scattercarpet"
           }
          ],
          "scattergeo": [
           {
            "marker": {
             "colorbar": {
              "outlinewidth": 0,
              "ticks": ""
             }
            },
            "type": "scattergeo"
           }
          ],
          "scattergl": [
           {
            "marker": {
             "colorbar": {
              "outlinewidth": 0,
              "ticks": ""
             }
            },
            "type": "scattergl"
           }
          ],
          "scattermap": [
           {
            "marker": {
             "colorbar": {
              "outlinewidth": 0,
              "ticks": ""
             }
            },
            "type": "scattermap"
           }
          ],
          "scattermapbox": [
           {
            "marker": {
             "colorbar": {
              "outlinewidth": 0,
              "ticks": ""
             }
            },
            "type": "scattermapbox"
           }
          ],
          "scatterpolar": [
           {
            "marker": {
             "colorbar": {
              "outlinewidth": 0,
              "ticks": ""
             }
            },
            "type": "scatterpolar"
           }
          ],
          "scatterpolargl": [
           {
            "marker": {
             "colorbar": {
              "outlinewidth": 0,
              "ticks": ""
             }
            },
            "type": "scatterpolargl"
           }
          ],
          "scatterternary": [
           {
            "marker": {
             "colorbar": {
              "outlinewidth": 0,
              "ticks": ""
             }
            },
            "type": "scatterternary"
           }
          ],
          "surface": [
           {
            "colorbar": {
             "outlinewidth": 0,
             "ticks": ""
            },
            "colorscale": [
             [
              0,
              "#0d0887"
             ],
             [
              0.1111111111111111,
              "#46039f"
             ],
             [
              0.2222222222222222,
              "#7201a8"
             ],
             [
              0.3333333333333333,
              "#9c179e"
             ],
             [
              0.4444444444444444,
              "#bd3786"
             ],
             [
              0.5555555555555556,
              "#d8576b"
             ],
             [
              0.6666666666666666,
              "#ed7953"
             ],
             [
              0.7777777777777778,
              "#fb9f3a"
             ],
             [
              0.8888888888888888,
              "#fdca26"
             ],
             [
              1,
              "#f0f921"
             ]
            ],
            "type": "surface"
           }
          ],
          "table": [
           {
            "cells": {
             "fill": {
              "color": "#EBF0F8"
             },
             "line": {
              "color": "white"
             }
            },
            "header": {
             "fill": {
              "color": "#C8D4E3"
             },
             "line": {
              "color": "white"
             }
            },
            "type": "table"
           }
          ]
         },
         "layout": {
          "annotationdefaults": {
           "arrowcolor": "#2a3f5f",
           "arrowhead": 0,
           "arrowwidth": 1
          },
          "autotypenumbers": "strict",
          "coloraxis": {
           "colorbar": {
            "outlinewidth": 0,
            "ticks": ""
           }
          },
          "colorscale": {
           "diverging": [
            [
             0,
             "#8e0152"
            ],
            [
             0.1,
             "#c51b7d"
            ],
            [
             0.2,
             "#de77ae"
            ],
            [
             0.3,
             "#f1b6da"
            ],
            [
             0.4,
             "#fde0ef"
            ],
            [
             0.5,
             "#f7f7f7"
            ],
            [
             0.6,
             "#e6f5d0"
            ],
            [
             0.7,
             "#b8e186"
            ],
            [
             0.8,
             "#7fbc41"
            ],
            [
             0.9,
             "#4d9221"
            ],
            [
             1,
             "#276419"
            ]
           ],
           "sequential": [
            [
             0,
             "#0d0887"
            ],
            [
             0.1111111111111111,
             "#46039f"
            ],
            [
             0.2222222222222222,
             "#7201a8"
            ],
            [
             0.3333333333333333,
             "#9c179e"
            ],
            [
             0.4444444444444444,
             "#bd3786"
            ],
            [
             0.5555555555555556,
             "#d8576b"
            ],
            [
             0.6666666666666666,
             "#ed7953"
            ],
            [
             0.7777777777777778,
             "#fb9f3a"
            ],
            [
             0.8888888888888888,
             "#fdca26"
            ],
            [
             1,
             "#f0f921"
            ]
           ],
           "sequentialminus": [
            [
             0,
             "#0d0887"
            ],
            [
             0.1111111111111111,
             "#46039f"
            ],
            [
             0.2222222222222222,
             "#7201a8"
            ],
            [
             0.3333333333333333,
             "#9c179e"
            ],
            [
             0.4444444444444444,
             "#bd3786"
            ],
            [
             0.5555555555555556,
             "#d8576b"
            ],
            [
             0.6666666666666666,
             "#ed7953"
            ],
            [
             0.7777777777777778,
             "#fb9f3a"
            ],
            [
             0.8888888888888888,
             "#fdca26"
            ],
            [
             1,
             "#f0f921"
            ]
           ]
          },
          "colorway": [
           "#636efa",
           "#EF553B",
           "#00cc96",
           "#ab63fa",
           "#FFA15A",
           "#19d3f3",
           "#FF6692",
           "#B6E880",
           "#FF97FF",
           "#FECB52"
          ],
          "font": {
           "color": "#2a3f5f"
          },
          "geo": {
           "bgcolor": "white",
           "lakecolor": "white",
           "landcolor": "#E5ECF6",
           "showlakes": true,
           "showland": true,
           "subunitcolor": "white"
          },
          "hoverlabel": {
           "align": "left"
          },
          "hovermode": "closest",
          "mapbox": {
           "style": "light"
          },
          "paper_bgcolor": "white",
          "plot_bgcolor": "#E5ECF6",
          "polar": {
           "angularaxis": {
            "gridcolor": "white",
            "linecolor": "white",
            "ticks": ""
           },
           "bgcolor": "#E5ECF6",
           "radialaxis": {
            "gridcolor": "white",
            "linecolor": "white",
            "ticks": ""
           }
          },
          "scene": {
           "xaxis": {
            "backgroundcolor": "#E5ECF6",
            "gridcolor": "white",
            "gridwidth": 2,
            "linecolor": "white",
            "showbackground": true,
            "ticks": "",
            "zerolinecolor": "white"
           },
           "yaxis": {
            "backgroundcolor": "#E5ECF6",
            "gridcolor": "white",
            "gridwidth": 2,
            "linecolor": "white",
            "showbackground": true,
            "ticks": "",
            "zerolinecolor": "white"
           },
           "zaxis": {
            "backgroundcolor": "#E5ECF6",
            "gridcolor": "white",
            "gridwidth": 2,
            "linecolor": "white",
            "showbackground": true,
            "ticks": "",
            "zerolinecolor": "white"
           }
          },
          "shapedefaults": {
           "line": {
            "color": "#2a3f5f"
           }
          },
          "ternary": {
           "aaxis": {
            "gridcolor": "white",
            "linecolor": "white",
            "ticks": ""
           },
           "baxis": {
            "gridcolor": "white",
            "linecolor": "white",
            "ticks": ""
           },
           "bgcolor": "#E5ECF6",
           "caxis": {
            "gridcolor": "white",
            "linecolor": "white",
            "ticks": ""
           }
          },
          "title": {
           "x": 0.05
          },
          "xaxis": {
           "automargin": true,
           "gridcolor": "white",
           "linecolor": "white",
           "ticks": "",
           "title": {
            "standoff": 15
           },
           "zerolinecolor": "white",
           "zerolinewidth": 2
          },
          "yaxis": {
           "automargin": true,
           "gridcolor": "white",
           "linecolor": "white",
           "ticks": "",
           "title": {
            "standoff": 15
           },
           "zerolinecolor": "white",
           "zerolinewidth": 2
          }
         }
        }
       }
      }
     },
     "metadata": {},
     "output_type": "display_data"
    }
   ],
   "source": [
    "names = [\"significantly increased\", \"significantly decreased\", \"no change\",           # First stage\n",
    "                \"significantly increased\", \"significantly decreased\", \"no change\",  \n",
    "                \" significantly increased\", \" significantly decreased\", \" no change\"]\n",
    "targets = [\"significantly increased\", \"significantly decreased\", \"no change\",           # First stage\n",
    "                \"significantly increased\", \"significantly decreased\", \"no change\",  \n",
    "                \" significantly increased\", \" significantly decreased\", \" no change\",\n",
    "                \"significantly increased\", \"significantly decreased\", \"no change\",           # First stage\n",
    "                \"significantly increased\", \"significantly decreased\", \"no change\",  \n",
    "                \" significantly increased\", \" significantly decreased\", \" no change\"]\n",
    "color_dict = {'increased':'red','decreased':'blue','change':'grey'}\n",
    "color_dict_links = {\"increased\":\"#FFDCDC\", 'decreased': \"#DCE5FF\", 'change':  \"#DBDBDB\"}\n",
    "fig = go.Figure(data=[go.Sankey(\n",
    "    node = dict(\n",
    "        label = names,             # Third stage\n",
    "        pad = 15,\n",
    "        thickness = 20,\n",
    "        color = [color_dict[x.split(' ')[-1]] for x in names] ,\n",
    "        y = [0.15, 0.45, 0.82,     # First stage (A_1, B_1, C_1)\n",
    "            0.15, 0.45, 0.82,     # Second stage (A_2, B_2, C_2) \n",
    "            0.185, 0.52, 0.85],    # Third stage (A_3, B_3, C_3)\n",
    "       # x positions to space out stages\n",
    "        x = [0.1, 0.1, 0.1,       # First stage\n",
    "            0.5, 0.5, 0.5,       # Second stage\n",
    "            0.9, 0.9, 0.9] \n",
    "    ),\n",
    "    link = dict(\n",
    "        # First stage to second stage\n",
    "        source = [0, 0, 0,          # Math101 to Pass/Fail\n",
    "                 1, 1, 1,\n",
    "                 2, 2, 2,\n",
    "                 3, 3, 3, \n",
    "                 4, 4, 4, \n",
    "                 5, 5, 5],          # Physics101 to Pass/Fail\n",
    "        target = [3, 4, 5,          # to Pass Math/Fail Math\n",
    "                 3, 4, 5,\n",
    "                 3, 4, 5,\n",
    "                 6, 7, 8,\n",
    "                 6, 7, 8,\n",
    "                 6, 7, 8],          # to Pass Physics/Fail Physics\n",
    "        value = [15, 3, 18,        # 80 pass math, 20 fail\n",
    "                12, 16, 15,         #sig inc, sig dec, no change\n",
    "                12, 20, 23,\n",
    "                25, 3, 11,\n",
    "                6, 21, 12,\n",
    "                18, 13, 25],  \n",
    "        color = [color_dict_links[x.split(' ')[-1]] for x in targets],\n",
    "        \n",
    "      \n",
    "               # 70 pass physics, 30 fail\n",
    "    )\n",
    ")])\n",
    "fig.update_layout(\n",
    "    annotations=[\n",
    "        # First group title\n",
    "        dict(\n",
    "            x=-0.05,  # x position (0 to 1)\n",
    "            y=1.1,  # y position above the plot\n",
    "            xref=\"paper\",\n",
    "            yref=\"paper\",\n",
    "            text=\"Exposure 1\",\n",
    "            showarrow=False,\n",
    "            font=dict(size=16)\n",
    "        ),\n",
    "        # Second group title\n",
    "        dict(\n",
    "            x=0.5,\n",
    "            y=1.1,\n",
    "            xref=\"paper\",\n",
    "            yref=\"paper\",\n",
    "            text=\"Exposure 4\",\n",
    "            showarrow=False,\n",
    "            font=dict(size=16)\n",
    "        ),\n",
    "        # Third group title\n",
    "        dict(\n",
    "            x=1.05,\n",
    "            y=1.1,\n",
    "            xref=\"paper\",\n",
    "            yref=\"paper\",\n",
    "            text=\"Exposure 5\",\n",
    "            showarrow=False,\n",
    "            font=dict(size=16)\n",
    "        ),\n",
    "        dict(\n",
    "            x=.5,\n",
    "            y=1.3,\n",
    "            xref=\"paper\",\n",
    "            yref=\"paper\",\n",
    "            text=\"Cagemate\",\n",
    "            showarrow=False,\n",
    "            font=dict(size=24)\n",
    "        )\n",
    "    ],\n",
    "    # Add more top margin to make room for labels\n",
    "    margin=dict(t=100)\n",
    ")\n",
    "\n",
    "fig.show()"
   ]
  },
  {
   "cell_type": "code",
   "execution_count": 8,
   "metadata": {},
   "outputs": [
    {
     "data": {
      "application/vnd.plotly.v1+json": {
       "config": {
        "plotlyServerURL": "https://plot.ly"
       },
       "data": [
        {
         "link": {
          "source": [
           0,
           0,
           1,
           1,
           2,
           2,
           3,
           3
          ],
          "target": [
           2,
           3,
           2,
           3,
           4,
           5,
           4,
           5
          ],
          "value": [
           80,
           20,
           70,
           30,
           75,
           5,
           65,
           25
          ]
         },
         "node": {
          "customdata": [
           "A",
           "B",
           "A",
           "B",
           "A",
           "B"
          ],
          "hovertemplate": "%{customdata}<br />Value: %{value}<extra></extra>",
          "label": [
           "A_1",
           "B_1",
           "A_2",
           "B_2",
           "A_3",
           "B_3"
          ],
          "pad": 15,
          "thickness": 20
         },
         "type": "sankey"
        }
       ],
       "layout": {
        "template": {
         "data": {
          "bar": [
           {
            "error_x": {
             "color": "#2a3f5f"
            },
            "error_y": {
             "color": "#2a3f5f"
            },
            "marker": {
             "line": {
              "color": "#E5ECF6",
              "width": 0.5
             },
             "pattern": {
              "fillmode": "overlay",
              "size": 10,
              "solidity": 0.2
             }
            },
            "type": "bar"
           }
          ],
          "barpolar": [
           {
            "marker": {
             "line": {
              "color": "#E5ECF6",
              "width": 0.5
             },
             "pattern": {
              "fillmode": "overlay",
              "size": 10,
              "solidity": 0.2
             }
            },
            "type": "barpolar"
           }
          ],
          "carpet": [
           {
            "aaxis": {
             "endlinecolor": "#2a3f5f",
             "gridcolor": "white",
             "linecolor": "white",
             "minorgridcolor": "white",
             "startlinecolor": "#2a3f5f"
            },
            "baxis": {
             "endlinecolor": "#2a3f5f",
             "gridcolor": "white",
             "linecolor": "white",
             "minorgridcolor": "white",
             "startlinecolor": "#2a3f5f"
            },
            "type": "carpet"
           }
          ],
          "choropleth": [
           {
            "colorbar": {
             "outlinewidth": 0,
             "ticks": ""
            },
            "type": "choropleth"
           }
          ],
          "contour": [
           {
            "colorbar": {
             "outlinewidth": 0,
             "ticks": ""
            },
            "colorscale": [
             [
              0,
              "#0d0887"
             ],
             [
              0.1111111111111111,
              "#46039f"
             ],
             [
              0.2222222222222222,
              "#7201a8"
             ],
             [
              0.3333333333333333,
              "#9c179e"
             ],
             [
              0.4444444444444444,
              "#bd3786"
             ],
             [
              0.5555555555555556,
              "#d8576b"
             ],
             [
              0.6666666666666666,
              "#ed7953"
             ],
             [
              0.7777777777777778,
              "#fb9f3a"
             ],
             [
              0.8888888888888888,
              "#fdca26"
             ],
             [
              1,
              "#f0f921"
             ]
            ],
            "type": "contour"
           }
          ],
          "contourcarpet": [
           {
            "colorbar": {
             "outlinewidth": 0,
             "ticks": ""
            },
            "type": "contourcarpet"
           }
          ],
          "heatmap": [
           {
            "colorbar": {
             "outlinewidth": 0,
             "ticks": ""
            },
            "colorscale": [
             [
              0,
              "#0d0887"
             ],
             [
              0.1111111111111111,
              "#46039f"
             ],
             [
              0.2222222222222222,
              "#7201a8"
             ],
             [
              0.3333333333333333,
              "#9c179e"
             ],
             [
              0.4444444444444444,
              "#bd3786"
             ],
             [
              0.5555555555555556,
              "#d8576b"
             ],
             [
              0.6666666666666666,
              "#ed7953"
             ],
             [
              0.7777777777777778,
              "#fb9f3a"
             ],
             [
              0.8888888888888888,
              "#fdca26"
             ],
             [
              1,
              "#f0f921"
             ]
            ],
            "type": "heatmap"
           }
          ],
          "histogram": [
           {
            "marker": {
             "pattern": {
              "fillmode": "overlay",
              "size": 10,
              "solidity": 0.2
             }
            },
            "type": "histogram"
           }
          ],
          "histogram2d": [
           {
            "colorbar": {
             "outlinewidth": 0,
             "ticks": ""
            },
            "colorscale": [
             [
              0,
              "#0d0887"
             ],
             [
              0.1111111111111111,
              "#46039f"
             ],
             [
              0.2222222222222222,
              "#7201a8"
             ],
             [
              0.3333333333333333,
              "#9c179e"
             ],
             [
              0.4444444444444444,
              "#bd3786"
             ],
             [
              0.5555555555555556,
              "#d8576b"
             ],
             [
              0.6666666666666666,
              "#ed7953"
             ],
             [
              0.7777777777777778,
              "#fb9f3a"
             ],
             [
              0.8888888888888888,
              "#fdca26"
             ],
             [
              1,
              "#f0f921"
             ]
            ],
            "type": "histogram2d"
           }
          ],
          "histogram2dcontour": [
           {
            "colorbar": {
             "outlinewidth": 0,
             "ticks": ""
            },
            "colorscale": [
             [
              0,
              "#0d0887"
             ],
             [
              0.1111111111111111,
              "#46039f"
             ],
             [
              0.2222222222222222,
              "#7201a8"
             ],
             [
              0.3333333333333333,
              "#9c179e"
             ],
             [
              0.4444444444444444,
              "#bd3786"
             ],
             [
              0.5555555555555556,
              "#d8576b"
             ],
             [
              0.6666666666666666,
              "#ed7953"
             ],
             [
              0.7777777777777778,
              "#fb9f3a"
             ],
             [
              0.8888888888888888,
              "#fdca26"
             ],
             [
              1,
              "#f0f921"
             ]
            ],
            "type": "histogram2dcontour"
           }
          ],
          "mesh3d": [
           {
            "colorbar": {
             "outlinewidth": 0,
             "ticks": ""
            },
            "type": "mesh3d"
           }
          ],
          "parcoords": [
           {
            "line": {
             "colorbar": {
              "outlinewidth": 0,
              "ticks": ""
             }
            },
            "type": "parcoords"
           }
          ],
          "pie": [
           {
            "automargin": true,
            "type": "pie"
           }
          ],
          "scatter": [
           {
            "fillpattern": {
             "fillmode": "overlay",
             "size": 10,
             "solidity": 0.2
            },
            "type": "scatter"
           }
          ],
          "scatter3d": [
           {
            "line": {
             "colorbar": {
              "outlinewidth": 0,
              "ticks": ""
             }
            },
            "marker": {
             "colorbar": {
              "outlinewidth": 0,
              "ticks": ""
             }
            },
            "type": "scatter3d"
           }
          ],
          "scattercarpet": [
           {
            "marker": {
             "colorbar": {
              "outlinewidth": 0,
              "ticks": ""
             }
            },
            "type": "scattercarpet"
           }
          ],
          "scattergeo": [
           {
            "marker": {
             "colorbar": {
              "outlinewidth": 0,
              "ticks": ""
             }
            },
            "type": "scattergeo"
           }
          ],
          "scattergl": [
           {
            "marker": {
             "colorbar": {
              "outlinewidth": 0,
              "ticks": ""
             }
            },
            "type": "scattergl"
           }
          ],
          "scattermap": [
           {
            "marker": {
             "colorbar": {
              "outlinewidth": 0,
              "ticks": ""
             }
            },
            "type": "scattermap"
           }
          ],
          "scattermapbox": [
           {
            "marker": {
             "colorbar": {
              "outlinewidth": 0,
              "ticks": ""
             }
            },
            "type": "scattermapbox"
           }
          ],
          "scatterpolar": [
           {
            "marker": {
             "colorbar": {
              "outlinewidth": 0,
              "ticks": ""
             }
            },
            "type": "scatterpolar"
           }
          ],
          "scatterpolargl": [
           {
            "marker": {
             "colorbar": {
              "outlinewidth": 0,
              "ticks": ""
             }
            },
            "type": "scatterpolargl"
           }
          ],
          "scatterternary": [
           {
            "marker": {
             "colorbar": {
              "outlinewidth": 0,
              "ticks": ""
             }
            },
            "type": "scatterternary"
           }
          ],
          "surface": [
           {
            "colorbar": {
             "outlinewidth": 0,
             "ticks": ""
            },
            "colorscale": [
             [
              0,
              "#0d0887"
             ],
             [
              0.1111111111111111,
              "#46039f"
             ],
             [
              0.2222222222222222,
              "#7201a8"
             ],
             [
              0.3333333333333333,
              "#9c179e"
             ],
             [
              0.4444444444444444,
              "#bd3786"
             ],
             [
              0.5555555555555556,
              "#d8576b"
             ],
             [
              0.6666666666666666,
              "#ed7953"
             ],
             [
              0.7777777777777778,
              "#fb9f3a"
             ],
             [
              0.8888888888888888,
              "#fdca26"
             ],
             [
              1,
              "#f0f921"
             ]
            ],
            "type": "surface"
           }
          ],
          "table": [
           {
            "cells": {
             "fill": {
              "color": "#EBF0F8"
             },
             "line": {
              "color": "white"
             }
            },
            "header": {
             "fill": {
              "color": "#C8D4E3"
             },
             "line": {
              "color": "white"
             }
            },
            "type": "table"
           }
          ]
         },
         "layout": {
          "annotationdefaults": {
           "arrowcolor": "#2a3f5f",
           "arrowhead": 0,
           "arrowwidth": 1
          },
          "autotypenumbers": "strict",
          "coloraxis": {
           "colorbar": {
            "outlinewidth": 0,
            "ticks": ""
           }
          },
          "colorscale": {
           "diverging": [
            [
             0,
             "#8e0152"
            ],
            [
             0.1,
             "#c51b7d"
            ],
            [
             0.2,
             "#de77ae"
            ],
            [
             0.3,
             "#f1b6da"
            ],
            [
             0.4,
             "#fde0ef"
            ],
            [
             0.5,
             "#f7f7f7"
            ],
            [
             0.6,
             "#e6f5d0"
            ],
            [
             0.7,
             "#b8e186"
            ],
            [
             0.8,
             "#7fbc41"
            ],
            [
             0.9,
             "#4d9221"
            ],
            [
             1,
             "#276419"
            ]
           ],
           "sequential": [
            [
             0,
             "#0d0887"
            ],
            [
             0.1111111111111111,
             "#46039f"
            ],
            [
             0.2222222222222222,
             "#7201a8"
            ],
            [
             0.3333333333333333,
             "#9c179e"
            ],
            [
             0.4444444444444444,
             "#bd3786"
            ],
            [
             0.5555555555555556,
             "#d8576b"
            ],
            [
             0.6666666666666666,
             "#ed7953"
            ],
            [
             0.7777777777777778,
             "#fb9f3a"
            ],
            [
             0.8888888888888888,
             "#fdca26"
            ],
            [
             1,
             "#f0f921"
            ]
           ],
           "sequentialminus": [
            [
             0,
             "#0d0887"
            ],
            [
             0.1111111111111111,
             "#46039f"
            ],
            [
             0.2222222222222222,
             "#7201a8"
            ],
            [
             0.3333333333333333,
             "#9c179e"
            ],
            [
             0.4444444444444444,
             "#bd3786"
            ],
            [
             0.5555555555555556,
             "#d8576b"
            ],
            [
             0.6666666666666666,
             "#ed7953"
            ],
            [
             0.7777777777777778,
             "#fb9f3a"
            ],
            [
             0.8888888888888888,
             "#fdca26"
            ],
            [
             1,
             "#f0f921"
            ]
           ]
          },
          "colorway": [
           "#636efa",
           "#EF553B",
           "#00cc96",
           "#ab63fa",
           "#FFA15A",
           "#19d3f3",
           "#FF6692",
           "#B6E880",
           "#FF97FF",
           "#FECB52"
          ],
          "font": {
           "color": "#2a3f5f"
          },
          "geo": {
           "bgcolor": "white",
           "lakecolor": "white",
           "landcolor": "#E5ECF6",
           "showlakes": true,
           "showland": true,
           "subunitcolor": "white"
          },
          "hoverlabel": {
           "align": "left"
          },
          "hovermode": "closest",
          "mapbox": {
           "style": "light"
          },
          "paper_bgcolor": "white",
          "plot_bgcolor": "#E5ECF6",
          "polar": {
           "angularaxis": {
            "gridcolor": "white",
            "linecolor": "white",
            "ticks": ""
           },
           "bgcolor": "#E5ECF6",
           "radialaxis": {
            "gridcolor": "white",
            "linecolor": "white",
            "ticks": ""
           }
          },
          "scene": {
           "xaxis": {
            "backgroundcolor": "#E5ECF6",
            "gridcolor": "white",
            "gridwidth": 2,
            "linecolor": "white",
            "showbackground": true,
            "ticks": "",
            "zerolinecolor": "white"
           },
           "yaxis": {
            "backgroundcolor": "#E5ECF6",
            "gridcolor": "white",
            "gridwidth": 2,
            "linecolor": "white",
            "showbackground": true,
            "ticks": "",
            "zerolinecolor": "white"
           },
           "zaxis": {
            "backgroundcolor": "#E5ECF6",
            "gridcolor": "white",
            "gridwidth": 2,
            "linecolor": "white",
            "showbackground": true,
            "ticks": "",
            "zerolinecolor": "white"
           }
          },
          "shapedefaults": {
           "line": {
            "color": "#2a3f5f"
           }
          },
          "ternary": {
           "aaxis": {
            "gridcolor": "white",
            "linecolor": "white",
            "ticks": ""
           },
           "baxis": {
            "gridcolor": "white",
            "linecolor": "white",
            "ticks": ""
           },
           "bgcolor": "#E5ECF6",
           "caxis": {
            "gridcolor": "white",
            "linecolor": "white",
            "ticks": ""
           }
          },
          "title": {
           "x": 0.05
          },
          "xaxis": {
           "automargin": true,
           "gridcolor": "white",
           "linecolor": "white",
           "ticks": "",
           "title": {
            "standoff": 15
           },
           "zerolinecolor": "white",
           "zerolinewidth": 2
          },
          "yaxis": {
           "automargin": true,
           "gridcolor": "white",
           "linecolor": "white",
           "ticks": "",
           "title": {
            "standoff": 15
           },
           "zerolinecolor": "white",
           "zerolinewidth": 2
          }
         }
        },
        "title": {
         "text": "Alluvial Diagram with Repeated Labels"
        }
       }
      }
     },
     "metadata": {},
     "output_type": "display_data"
    }
   ],
   "source": [
    "fig = go.Figure(data=[go.Sankey(\n",
    "    node = dict(\n",
    "        label = [\"A_1\", \"B_1\",           # First stage\n",
    "                \"A_2\", \"B_2\",            # Second stage\n",
    "                \"A_3\", \"B_3\"],           # Third stage\n",
    "        # You can customize how they display\n",
    "        customdata = [\"A\", \"B\",          # What you actually want to show\n",
    "                     \"A\", \"B\",\n",
    "                     \"A\", \"B\"],\n",
    "        # Use hovertemplate to show the customdata instead of the internal labels\n",
    "        hovertemplate='%{customdata}<br />Value: %{value}<extra></extra>',\n",
    "        pad = 15,\n",
    "        thickness = 20,\n",
    "    ),\n",
    "    link = dict(\n",
    "        source = [0, 0, 1, 1,        # First to second stage (A_1->A_2/B_2, B_1->A_2/B_2)\n",
    "                 2, 2, 3, 3],        # Second to third stage (A_2->A_3/B_3, B_2->A_3/B_3)\n",
    "        target = [2, 3, 2, 3,        # To second stage\n",
    "                 4, 5, 4, 5],        # To third stage\n",
    "        value = [80, 20, 70, 30,     # First to second flows\n",
    "                75, 5, 65, 25]       # Second to third flows\n",
    "    )\n",
    ")])\n",
    "\n",
    "fig.update_layout(title_text=\"Alluvial Diagram with Repeated Labels\")\n",
    "fig.show()"
   ]
  },
  {
   "cell_type": "code",
   "execution_count": 14,
   "metadata": {},
   "outputs": [
    {
     "data": {
      "application/vnd.plotly.v1+json": {
       "config": {
        "plotlyServerURL": "https://plot.ly"
       },
       "data": [
        {
         "link": {
          "source": [
           0,
           0,
           1,
           1,
           2,
           3,
           4,
           5
          ],
          "target": [
           2,
           3,
           4,
           5,
           6,
           7,
           6,
           7
          ],
          "value": [
           80,
           20,
           70,
           30,
           75,
           5,
           65,
           25
          ]
         },
         "node": {
          "label": [
           "Math101",
           "Physics101",
           "Pass Math",
           "Fail Math",
           "Pass Physics",
           "Fail Physics",
           "Graduate",
           "Dropout"
          ],
          "pad": 15,
          "thickness": 20
         },
         "type": "sankey"
        }
       ],
       "layout": {
        "template": {
         "data": {
          "bar": [
           {
            "error_x": {
             "color": "#2a3f5f"
            },
            "error_y": {
             "color": "#2a3f5f"
            },
            "marker": {
             "line": {
              "color": "#E5ECF6",
              "width": 0.5
             },
             "pattern": {
              "fillmode": "overlay",
              "size": 10,
              "solidity": 0.2
             }
            },
            "type": "bar"
           }
          ],
          "barpolar": [
           {
            "marker": {
             "line": {
              "color": "#E5ECF6",
              "width": 0.5
             },
             "pattern": {
              "fillmode": "overlay",
              "size": 10,
              "solidity": 0.2
             }
            },
            "type": "barpolar"
           }
          ],
          "carpet": [
           {
            "aaxis": {
             "endlinecolor": "#2a3f5f",
             "gridcolor": "white",
             "linecolor": "white",
             "minorgridcolor": "white",
             "startlinecolor": "#2a3f5f"
            },
            "baxis": {
             "endlinecolor": "#2a3f5f",
             "gridcolor": "white",
             "linecolor": "white",
             "minorgridcolor": "white",
             "startlinecolor": "#2a3f5f"
            },
            "type": "carpet"
           }
          ],
          "choropleth": [
           {
            "colorbar": {
             "outlinewidth": 0,
             "ticks": ""
            },
            "type": "choropleth"
           }
          ],
          "contour": [
           {
            "colorbar": {
             "outlinewidth": 0,
             "ticks": ""
            },
            "colorscale": [
             [
              0,
              "#0d0887"
             ],
             [
              0.1111111111111111,
              "#46039f"
             ],
             [
              0.2222222222222222,
              "#7201a8"
             ],
             [
              0.3333333333333333,
              "#9c179e"
             ],
             [
              0.4444444444444444,
              "#bd3786"
             ],
             [
              0.5555555555555556,
              "#d8576b"
             ],
             [
              0.6666666666666666,
              "#ed7953"
             ],
             [
              0.7777777777777778,
              "#fb9f3a"
             ],
             [
              0.8888888888888888,
              "#fdca26"
             ],
             [
              1,
              "#f0f921"
             ]
            ],
            "type": "contour"
           }
          ],
          "contourcarpet": [
           {
            "colorbar": {
             "outlinewidth": 0,
             "ticks": ""
            },
            "type": "contourcarpet"
           }
          ],
          "heatmap": [
           {
            "colorbar": {
             "outlinewidth": 0,
             "ticks": ""
            },
            "colorscale": [
             [
              0,
              "#0d0887"
             ],
             [
              0.1111111111111111,
              "#46039f"
             ],
             [
              0.2222222222222222,
              "#7201a8"
             ],
             [
              0.3333333333333333,
              "#9c179e"
             ],
             [
              0.4444444444444444,
              "#bd3786"
             ],
             [
              0.5555555555555556,
              "#d8576b"
             ],
             [
              0.6666666666666666,
              "#ed7953"
             ],
             [
              0.7777777777777778,
              "#fb9f3a"
             ],
             [
              0.8888888888888888,
              "#fdca26"
             ],
             [
              1,
              "#f0f921"
             ]
            ],
            "type": "heatmap"
           }
          ],
          "histogram": [
           {
            "marker": {
             "pattern": {
              "fillmode": "overlay",
              "size": 10,
              "solidity": 0.2
             }
            },
            "type": "histogram"
           }
          ],
          "histogram2d": [
           {
            "colorbar": {
             "outlinewidth": 0,
             "ticks": ""
            },
            "colorscale": [
             [
              0,
              "#0d0887"
             ],
             [
              0.1111111111111111,
              "#46039f"
             ],
             [
              0.2222222222222222,
              "#7201a8"
             ],
             [
              0.3333333333333333,
              "#9c179e"
             ],
             [
              0.4444444444444444,
              "#bd3786"
             ],
             [
              0.5555555555555556,
              "#d8576b"
             ],
             [
              0.6666666666666666,
              "#ed7953"
             ],
             [
              0.7777777777777778,
              "#fb9f3a"
             ],
             [
              0.8888888888888888,
              "#fdca26"
             ],
             [
              1,
              "#f0f921"
             ]
            ],
            "type": "histogram2d"
           }
          ],
          "histogram2dcontour": [
           {
            "colorbar": {
             "outlinewidth": 0,
             "ticks": ""
            },
            "colorscale": [
             [
              0,
              "#0d0887"
             ],
             [
              0.1111111111111111,
              "#46039f"
             ],
             [
              0.2222222222222222,
              "#7201a8"
             ],
             [
              0.3333333333333333,
              "#9c179e"
             ],
             [
              0.4444444444444444,
              "#bd3786"
             ],
             [
              0.5555555555555556,
              "#d8576b"
             ],
             [
              0.6666666666666666,
              "#ed7953"
             ],
             [
              0.7777777777777778,
              "#fb9f3a"
             ],
             [
              0.8888888888888888,
              "#fdca26"
             ],
             [
              1,
              "#f0f921"
             ]
            ],
            "type": "histogram2dcontour"
           }
          ],
          "mesh3d": [
           {
            "colorbar": {
             "outlinewidth": 0,
             "ticks": ""
            },
            "type": "mesh3d"
           }
          ],
          "parcoords": [
           {
            "line": {
             "colorbar": {
              "outlinewidth": 0,
              "ticks": ""
             }
            },
            "type": "parcoords"
           }
          ],
          "pie": [
           {
            "automargin": true,
            "type": "pie"
           }
          ],
          "scatter": [
           {
            "fillpattern": {
             "fillmode": "overlay",
             "size": 10,
             "solidity": 0.2
            },
            "type": "scatter"
           }
          ],
          "scatter3d": [
           {
            "line": {
             "colorbar": {
              "outlinewidth": 0,
              "ticks": ""
             }
            },
            "marker": {
             "colorbar": {
              "outlinewidth": 0,
              "ticks": ""
             }
            },
            "type": "scatter3d"
           }
          ],
          "scattercarpet": [
           {
            "marker": {
             "colorbar": {
              "outlinewidth": 0,
              "ticks": ""
             }
            },
            "type": "scattercarpet"
           }
          ],
          "scattergeo": [
           {
            "marker": {
             "colorbar": {
              "outlinewidth": 0,
              "ticks": ""
             }
            },
            "type": "scattergeo"
           }
          ],
          "scattergl": [
           {
            "marker": {
             "colorbar": {
              "outlinewidth": 0,
              "ticks": ""
             }
            },
            "type": "scattergl"
           }
          ],
          "scattermap": [
           {
            "marker": {
             "colorbar": {
              "outlinewidth": 0,
              "ticks": ""
             }
            },
            "type": "scattermap"
           }
          ],
          "scattermapbox": [
           {
            "marker": {
             "colorbar": {
              "outlinewidth": 0,
              "ticks": ""
             }
            },
            "type": "scattermapbox"
           }
          ],
          "scatterpolar": [
           {
            "marker": {
             "colorbar": {
              "outlinewidth": 0,
              "ticks": ""
             }
            },
            "type": "scatterpolar"
           }
          ],
          "scatterpolargl": [
           {
            "marker": {
             "colorbar": {
              "outlinewidth": 0,
              "ticks": ""
             }
            },
            "type": "scatterpolargl"
           }
          ],
          "scatterternary": [
           {
            "marker": {
             "colorbar": {
              "outlinewidth": 0,
              "ticks": ""
             }
            },
            "type": "scatterternary"
           }
          ],
          "surface": [
           {
            "colorbar": {
             "outlinewidth": 0,
             "ticks": ""
            },
            "colorscale": [
             [
              0,
              "#0d0887"
             ],
             [
              0.1111111111111111,
              "#46039f"
             ],
             [
              0.2222222222222222,
              "#7201a8"
             ],
             [
              0.3333333333333333,
              "#9c179e"
             ],
             [
              0.4444444444444444,
              "#bd3786"
             ],
             [
              0.5555555555555556,
              "#d8576b"
             ],
             [
              0.6666666666666666,
              "#ed7953"
             ],
             [
              0.7777777777777778,
              "#fb9f3a"
             ],
             [
              0.8888888888888888,
              "#fdca26"
             ],
             [
              1,
              "#f0f921"
             ]
            ],
            "type": "surface"
           }
          ],
          "table": [
           {
            "cells": {
             "fill": {
              "color": "#EBF0F8"
             },
             "line": {
              "color": "white"
             }
            },
            "header": {
             "fill": {
              "color": "#C8D4E3"
             },
             "line": {
              "color": "white"
             }
            },
            "type": "table"
           }
          ]
         },
         "layout": {
          "annotationdefaults": {
           "arrowcolor": "#2a3f5f",
           "arrowhead": 0,
           "arrowwidth": 1
          },
          "autotypenumbers": "strict",
          "coloraxis": {
           "colorbar": {
            "outlinewidth": 0,
            "ticks": ""
           }
          },
          "colorscale": {
           "diverging": [
            [
             0,
             "#8e0152"
            ],
            [
             0.1,
             "#c51b7d"
            ],
            [
             0.2,
             "#de77ae"
            ],
            [
             0.3,
             "#f1b6da"
            ],
            [
             0.4,
             "#fde0ef"
            ],
            [
             0.5,
             "#f7f7f7"
            ],
            [
             0.6,
             "#e6f5d0"
            ],
            [
             0.7,
             "#b8e186"
            ],
            [
             0.8,
             "#7fbc41"
            ],
            [
             0.9,
             "#4d9221"
            ],
            [
             1,
             "#276419"
            ]
           ],
           "sequential": [
            [
             0,
             "#0d0887"
            ],
            [
             0.1111111111111111,
             "#46039f"
            ],
            [
             0.2222222222222222,
             "#7201a8"
            ],
            [
             0.3333333333333333,
             "#9c179e"
            ],
            [
             0.4444444444444444,
             "#bd3786"
            ],
            [
             0.5555555555555556,
             "#d8576b"
            ],
            [
             0.6666666666666666,
             "#ed7953"
            ],
            [
             0.7777777777777778,
             "#fb9f3a"
            ],
            [
             0.8888888888888888,
             "#fdca26"
            ],
            [
             1,
             "#f0f921"
            ]
           ],
           "sequentialminus": [
            [
             0,
             "#0d0887"
            ],
            [
             0.1111111111111111,
             "#46039f"
            ],
            [
             0.2222222222222222,
             "#7201a8"
            ],
            [
             0.3333333333333333,
             "#9c179e"
            ],
            [
             0.4444444444444444,
             "#bd3786"
            ],
            [
             0.5555555555555556,
             "#d8576b"
            ],
            [
             0.6666666666666666,
             "#ed7953"
            ],
            [
             0.7777777777777778,
             "#fb9f3a"
            ],
            [
             0.8888888888888888,
             "#fdca26"
            ],
            [
             1,
             "#f0f921"
            ]
           ]
          },
          "colorway": [
           "#636efa",
           "#EF553B",
           "#00cc96",
           "#ab63fa",
           "#FFA15A",
           "#19d3f3",
           "#FF6692",
           "#B6E880",
           "#FF97FF",
           "#FECB52"
          ],
          "font": {
           "color": "#2a3f5f"
          },
          "geo": {
           "bgcolor": "white",
           "lakecolor": "white",
           "landcolor": "#E5ECF6",
           "showlakes": true,
           "showland": true,
           "subunitcolor": "white"
          },
          "hoverlabel": {
           "align": "left"
          },
          "hovermode": "closest",
          "mapbox": {
           "style": "light"
          },
          "paper_bgcolor": "white",
          "plot_bgcolor": "#E5ECF6",
          "polar": {
           "angularaxis": {
            "gridcolor": "white",
            "linecolor": "white",
            "ticks": ""
           },
           "bgcolor": "#E5ECF6",
           "radialaxis": {
            "gridcolor": "white",
            "linecolor": "white",
            "ticks": ""
           }
          },
          "scene": {
           "xaxis": {
            "backgroundcolor": "#E5ECF6",
            "gridcolor": "white",
            "gridwidth": 2,
            "linecolor": "white",
            "showbackground": true,
            "ticks": "",
            "zerolinecolor": "white"
           },
           "yaxis": {
            "backgroundcolor": "#E5ECF6",
            "gridcolor": "white",
            "gridwidth": 2,
            "linecolor": "white",
            "showbackground": true,
            "ticks": "",
            "zerolinecolor": "white"
           },
           "zaxis": {
            "backgroundcolor": "#E5ECF6",
            "gridcolor": "white",
            "gridwidth": 2,
            "linecolor": "white",
            "showbackground": true,
            "ticks": "",
            "zerolinecolor": "white"
           }
          },
          "shapedefaults": {
           "line": {
            "color": "#2a3f5f"
           }
          },
          "ternary": {
           "aaxis": {
            "gridcolor": "white",
            "linecolor": "white",
            "ticks": ""
           },
           "baxis": {
            "gridcolor": "white",
            "linecolor": "white",
            "ticks": ""
           },
           "bgcolor": "#E5ECF6",
           "caxis": {
            "gridcolor": "white",
            "linecolor": "white",
            "ticks": ""
           }
          },
          "title": {
           "x": 0.05
          },
          "xaxis": {
           "automargin": true,
           "gridcolor": "white",
           "linecolor": "white",
           "ticks": "",
           "title": {
            "standoff": 15
           },
           "zerolinecolor": "white",
           "zerolinewidth": 2
          },
          "yaxis": {
           "automargin": true,
           "gridcolor": "white",
           "linecolor": "white",
           "ticks": "",
           "title": {
            "standoff": 15
           },
           "zerolinecolor": "white",
           "zerolinewidth": 2
          }
         }
        }
       }
      }
     },
     "metadata": {},
     "output_type": "display_data"
    }
   ],
   "source": [
    "import plotly.graph_objects as go\n",
    "\n",
    "# fig = go.Figure(data=[go.Sankey(\n",
    "#     node = dict(\n",
    "#         label = [\"Math101\", \"Physics101\",           # First stage\n",
    "#                 \"Pass Math\", \"Fail Math\",           # Second stage\n",
    "#                 \"Pass Physics\", \"Fail Physics\",     \n",
    "#                 \"Graduate\", \"Dropout\"],             # Third stage\n",
    "#         pad = 15,\n",
    "#         thickness = 20,\n",
    "#     ),\n",
    "#     link = dict(\n",
    "#         # First stage to second stage\n",
    "#         source = [0, 0,          # Math101 to Pass/Fail\n",
    "#                  1, 1],          # Physics101 to Pass/Fail\n",
    "#         target = [2, 3,          # to Pass Math/Fail Math\n",
    "#                  4, 5],          # to Pass Physics/Fail Physics\n",
    "#         value = [80, 20,         # 80 pass math, 20 fail\n",
    "#                 70, 30],         # 70 pass physics, 30 fail\n",
    "#     )\n",
    "# )])\n",
    "\n",
    "# You can also add flows from second stage to third stage:\n",
    "fig = go.Figure(data=[go.Sankey(\n",
    "    node = dict(\n",
    "        label = [\"Math101\", \"Physics101\", \n",
    "                \"Pass Math\", \"Fail Math\", \"Pass Physics\", \"Fail Physics\",\n",
    "                \"Graduate\", \"Dropout\"],\n",
    "        pad = 15,\n",
    "        thickness = 20,\n",
    "    ),\n",
    "    link = dict(\n",
    "        source = [0, 0, 1, 1,        # First to second stage\n",
    "                 2, 3, 4, 5],        # Second to third stage\n",
    "        target = [2, 3, 4, 5,        # To second stage\n",
    "                 6, 7, 6, 7],        # To third stage\n",
    "        value = [80, 20, 70, 30,     # First to second flows\n",
    "                75, 5, 65, 25]       # Second to third flows\n",
    "    )\n",
    ")])\n",
    "\n",
    "fig.show()"
   ]
  },
  {
   "cell_type": "code",
   "execution_count": null,
   "metadata": {},
   "outputs": [],
   "source": []
  }
 ],
 "metadata": {
  "kernelspec": {
   "display_name": "lfp_env",
   "language": "python",
   "name": "python3"
  },
  "language_info": {
   "codemirror_mode": {
    "name": "ipython",
    "version": 3
   },
   "file_extension": ".py",
   "mimetype": "text/x-python",
   "name": "python",
   "nbconvert_exporter": "python",
   "pygments_lexer": "ipython3",
   "version": "3.10.9"
  }
 },
 "nbformat": 4,
 "nbformat_minor": 2
}
