{
 "cells": [
  {
   "cell_type": "code",
   "execution_count": 25,
   "metadata": {},
   "outputs": [],
   "source": [
    "import pickle\n",
    "import sys\n",
    "sys.path.append(\"../../spike\")\n",
    "import spike.multirecording_spikeanalysis as spike\n",
    "import pandas as pd\n",
    "import numpy as np\n",
    "import math\n",
    "import matplotlib.pyplot as plt\n",
    "from scipy.stats import sem\n",
    "from scipy import stats\n",
    "import seaborn as sns\n",
    "import matplotlib.pyplot as plt\n",
    "from scipy.stats import ttest_rel\n",
    "import matplotlib.patches as mpatches\n",
    "from itertools import combinations\n",
    "plt.rcParams['font.weight'] = 'bold'\n",
    "plt.rcParams['axes.labelweight'] = 'bold'\n",
    "plt.rcParams['axes.titleweight'] = 'bold'\n",
    "plt.rcParams['figure.titleweight'] = 'bold'\n",
    "\n",
    "def hex_2_rgb(hex_color): # Orange color\n",
    "    rgb_color = tuple(int(hex_color[i:i+2], 16) / 255.0 for i in (1, 3, 5))\n",
    "    return rgb_color\n",
    "\n",
    "def pickle_this(thing_to_pickle, file_name):\n",
    "    \"\"\"\n",
    "    Pickles things\n",
    "    Args (2):   \n",
    "        thing_to_pickle: anything you want to pickle\n",
    "        file_name: str, filename that ends with .pkl \n",
    "    Returns:\n",
    "        none\n",
    "    \"\"\"\n",
    "    with open(file_name,'wb') as file:\n",
    "        pickle.dump(thing_to_pickle, file)\n",
    "\n",
    "def unpickle_this(pickle_file):\n",
    "    \"\"\"\n",
    "    Unpickles things\n",
    "    Args (1):   \n",
    "        file_name: str, pickle filename that already exists and ends with .pkl\n",
    "    Returns:\n",
    "        pickled item\n",
    "    \"\"\"\n",
    "    with open(pickle_file, 'rb') as file:\n",
    "        return(pickle.load(file))\n",
    "    \n",
    "import spike.spike_analysis.firing_rate_calculations as fr\n",
    "import spike.spike_analysis.spike_collection as collection\n",
    "import spike.spike_analysis.spike_recording as recording\n",
    "\n",
    "import spike.spike_analysis.pca_trajectories as pca_trajectories\n",
    "import pickle\n"
   ]
  },
  {
   "cell_type": "code",
   "execution_count": 9,
   "metadata": {},
   "outputs": [
    {
     "name": "stdout",
     "output_type": "stream",
     "text": [
      "loading  11_cage_p1_merged.rec\n",
      "loading  12_cage_p1_merged.rec\n",
      "loading  13_cage_p1_merged.rec\n",
      "loading  21_cage_p1_merged.rec\n",
      "loading  22_cage_p1_merged.rec\n",
      "loading  23_cage_p1_merged.rec\n",
      "23_cage_p1_merged.rec has no good units\n",
      "and will not be included in the collection\n",
      "loading  31_cage_p1_merged.rec\n",
      "loading  32_cage_p1_merged.rec\n",
      "loading  33_cage_p1_merged.rec\n",
      "loading  41_cage_p1_merged.rec\n",
      "loading  44_cage_p1_merged.rec\n",
      "Please assign event dictionaries to each recording\n",
      "as recording.event_dict\n",
      "event_dict = {event name(str): np.array[[start(ms), stop(ms)]...]\n",
      "Please assign subjects to each recording as recording.subject\n",
      "loading  11_nov_p1_merged.rec\n",
      "loading  12_nov_p1_merged.rec\n",
      "loading  13_nov_p1_merged.rec\n",
      "loading  21_nov_p1_merged.rec\n",
      "loading  22_nov_p1_merged.rec\n",
      "loading  23_nov_p1_merged.rec\n",
      "23_nov_p1_merged.rec has no good units\n",
      "and will not be included in the collection\n",
      "loading  24_nov_p1_merged.rec\n",
      "loading  32_nov_p1_merged.rec\n",
      "loading  33_nov_p1_merged.rec\n",
      "loading  41_nov_p1_merged.rec\n",
      "loading  44_nov_p1_merged.rec\n",
      "Please assign event dictionaries to each recording\n",
      "as recording.event_dict\n",
      "event_dict = {event name(str): np.array[[start(ms), stop(ms)]...]\n",
      "Please assign subjects to each recording as recording.subject\n"
     ]
    }
   ],
   "source": [
    "cagemate_collection = collection.SpikeCollection(r\"C:\\Users\\megha\\UFL Dropbox\\Meghan Cum\\Padilla-Coreano Lab\\2024\\Cum_SocialMemEphys_pilot2\\Habituation_Dishabituation (phase 1)\\spike_data\\sorted\\cagemate\")\n",
    "novel_collection = collection.SpikeCollection(r\"C:\\Users\\megha\\UFL Dropbox\\Meghan Cum\\Padilla-Coreano Lab\\2024\\Cum_SocialMemEphys_pilot2\\Habituation_Dishabituation (phase 1)\\spike_data\\sorted\\novel\")"
   ]
  },
  {
   "cell_type": "code",
   "execution_count": 12,
   "metadata": {},
   "outputs": [],
   "source": [
    "behavior_dicts = unpickle_this('pilot2/habit_dishabit_phase1/behavior_dicts.pkl')\n"
   ]
  },
  {
   "cell_type": "code",
   "execution_count": 28,
   "metadata": {},
   "outputs": [],
   "source": [
    "rec = recording.SpikeRecording(r\"C:\\Users\\megha\\UFL Dropbox\\Meghan Cum\\Padilla-Coreano Lab\\2024\\Cum_SocialMemEphys_pilot2\\Habituation_Dishabituation (phase 1)\\spike_data\\sorted\\cagemate\\24_cage_p1_merge.rec\\phy\")\n",
    "\n",
    "cagemate_collection.collection.append(rec)\n",
    "\n"
   ]
  },
  {
   "cell_type": "code",
   "execution_count": 29,
   "metadata": {},
   "outputs": [
    {
     "name": "stdout",
     "output_type": "stream",
     "text": [
      "11_cage_p1_aggregated\n",
      "12_cage_p1_aggregated\n",
      "13_cage_p1_aggregated\n",
      "21_cage_p1_aggregated\n",
      "22_cage_p1_aggregated\n",
      "31_cage_p1_aggregated\n",
      "32_cage_p1_aggregated\n",
      "33_cage_p1_aggregated\n",
      "41_cage_p1_aggregated\n",
      "44_cage_p1_aggregated\n",
      "24_cage_p1_aggregated\n",
      "11_nov_p1_aggregated\n",
      "12_nov_p1_aggregated\n",
      "13_nov_p1_aggregated\n",
      "21_nov_p1_aggregated\n",
      "22_nov_p1_aggregated\n",
      "24_nov_p1_aggregated\n",
      "32_nov_p1_aggregated\n",
      "33_nov_p1_aggregated\n",
      "41_nov_p1_aggregated\n",
      "44_nov_p1_aggregated\n"
     ]
    }
   ],
   "source": [
    "for recording in cagemate_collection.collection:\n",
    "    subject = str(int(recording.name.split('_')[0])/10)\n",
    "    recording_pattern = (recording.name.split('_')[0] + '_' +\n",
    "                         recording.name.split('_')[1] + '_' +\n",
    "                         recording.name.split('_')[2] + '_' +\n",
    "                         'aggregated')\n",
    "    recording.event_dict = behavior_dicts[recording_pattern]\n",
    "    print(recording_pattern)\n",
    "    recording.subject = subject\n",
    "\n",
    "for recording in novel_collection.collection:\n",
    "    subject = str(int(recording.name.split('_')[0])/10)\n",
    "    recording_pattern = (recording.name.split('_')[0] + '_' +\n",
    "                         recording.name.split('_')[1] + '_' +\n",
    "                         recording.name.split('_')[2] + '_' +\n",
    "                         'aggregated')\n",
    "    recording.event_dict = behavior_dicts[recording_pattern]\n",
    "    print(recording_pattern)\n",
    "    recording.subject = subject"
   ]
  },
  {
   "cell_type": "code",
   "execution_count": 30,
   "metadata": {},
   "outputs": [],
   "source": [
    "pickle_this(novel_collection, 'novel_collection.pkl')\n",
    "pickle_this(cagemate_collection, 'cagemate_collection.pkl')\n",
    "\n",
    "\n"
   ]
  },
  {
   "cell_type": "code",
   "execution_count": 21,
   "metadata": {},
   "outputs": [
    {
     "name": "stdout",
     "output_type": "stream",
     "text": [
      "All set to analyze\n",
      "All set to analyze\n"
     ]
    }
   ],
   "source": [
    "cagemate_collection.analyze(timebin = 50, ignore_freq=0.5)\n",
    "novel_collection.analyze(timebin = 50, ignore_freq=0.5)"
   ]
  },
  {
   "cell_type": "code",
   "execution_count": 35,
   "metadata": {},
   "outputs": [
    {
     "data": {
      "text/plain": [
       "<module 'spike.spike_analysis.pca_trajectories' from 'c:\\\\Users\\\\megha\\\\Documents\\\\GitHub\\\\diff_fam_social_memory_ephys\\\\spike\\\\spike_analysis\\\\pca_trajectories.py'>"
      ]
     },
     "execution_count": 35,
     "metadata": {},
     "output_type": "execute_result"
    }
   ],
   "source": [
    "import importlib\n",
    "importlib.reload(pca_trajectories)"
   ]
  },
  {
   "cell_type": "code",
   "execution_count": 39,
   "metadata": {},
   "outputs": [
    {
     "name": "stdout",
     "output_type": "stream",
     "text": [
      "All set to analyze\n"
     ]
    }
   ],
   "source": [
    "cagemate_collection.analyze(timebin = 50, ignore_freq = 0.5)"
   ]
  },
  {
   "cell_type": "code",
   "execution_count": 40,
   "metadata": {},
   "outputs": [
    {
     "name": "stdout",
     "output_type": "stream",
     "text": [
      "Excluding 31_cage_p1_merged.rec with 1 neurons\n",
      "Excluding 33_cage_p1_merged.rec with 2 neurons\n"
     ]
    },
    {
     "data": {
      "image/png": "[encoded data removed]",
      "text/plain": [
       "<Figure size 640x480 with 1 Axes>"
      ]
     },
     "metadata": {},
     "output_type": "display_data"
    },
    {
     "name": "stdout",
     "output_type": "stream",
     "text": [
      "41\n"
     ]
    }
   ],
   "source": [
    "cagemate_pc_dict = pca_trajectories.avg_trajectories_pca(cagemate_collection, 3, 1, min_neurons=5, plot = True)\n",
    "var = cagemate_pc_dict['explained variance']\n",
    "total_var = 0\n",
    "for i in range(len(cagemate_pc_dict['explained variance'])):\n",
    "    total_var = total_var + cagemate_pc_dict['explained variance'][i]\n",
    "    if total_var > .9:\n",
    "        print(i)\n",
    "        break"
   ]
  },
  {
   "cell_type": "code",
   "execution_count": null,
   "metadata": {},
   "outputs": [],
   "source": []
  }
 ],
 "metadata": {
  "kernelspec": {
   "display_name": "lfp_env",
   "language": "python",
   "name": "python3"
  },
  "language_info": {
   "codemirror_mode": {
    "name": "ipython",
    "version": 3
   },
   "file_extension": ".py",
   "mimetype": "text/x-python",
   "name": "python",
   "nbconvert_exporter": "python",
   "pygments_lexer": "ipython3",
   "version": "3.10.9"
  }
 },
 "nbformat": 4,
 "nbformat_minor": 2
}
